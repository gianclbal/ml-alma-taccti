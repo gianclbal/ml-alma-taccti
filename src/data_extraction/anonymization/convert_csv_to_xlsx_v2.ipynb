{
 "cells": [
  {
   "cell_type": "code",
   "execution_count": 17,
   "metadata": {},
   "outputs": [],
   "source": [
    "import os\n",
    "import pandas as pd\n",
    "import xlsxwriter\n",
    "\n",
    "new_columns = [\n",
    "    'Attainment', 'Aspirational', 'First Generation', 'Navigational',\n",
    "    'Resistance', 'Perseverance', 'Familial', 'Filial Piety',\n",
    "    'Community Consciousness', 'Social', 'Spiritual'\n",
    "]\n",
    "\n",
    "def convert_csv_to_xlsx(csv_file, xlsx_file, new_columns):\n",
    "    df = pd.read_csv(csv_file)\n",
    "\n",
    "    # Create a new DataFrame with the new columns and fill them with empty values\n",
    "    new_data = {col_name: [''] * len(df) for col_name in new_columns}\n",
    "    new_df = pd.DataFrame(new_data)\n",
    "\n",
    "    # Merge the new DataFrame with the existing data\n",
    "    df = pd.concat([df, new_df], axis=1)\n",
    "\n",
    "    # Write to XLSX file with text wrapping\n",
    "    writer = pd.ExcelWriter(xlsx_file, engine='xlsxwriter')\n",
    "    df.to_excel(writer, sheet_name='Sheet1', index=False)\n",
    "    workbook = writer.book\n",
    "    worksheet = writer.sheets['Sheet1']\n",
    "\n",
    "    cell_format = workbook.add_format()\n",
    "    cell_format.set_text_wrap()\n",
    "\n",
    "    worksheet.set_column(6, 6, 150, cell_format)  # Set column width to 20 for better visibility (G is the 7th column)\n",
    "\n",
    "    for col_name in new_columns:\n",
    "        col_index = df.columns.get_loc(col_name)\n",
    "        worksheet.set_column(col_index, col_index, None, None, {'text_wrap': True})\n",
    "\n",
    "    writer.close()  # This is how you save the XLSX file using XlsxWriter\n",
    "\n",
    "    # Delete the original CSV file after converting to XLSX\n",
    "    os.remove(csv_file)\n",
    "\n",
    "def process_csv_files(root_directory, new_columns):\n",
    "    for root, dirs, files in os.walk(root_directory):\n",
    "        for file in files:\n",
    "            if file.endswith(\".csv\"):\n",
    "                csv_file = os.path.join(root, file)\n",
    "                xlsx_file = os.path.splitext(csv_file)[0] + '.xlsx'\n",
    "                convert_csv_to_xlsx(csv_file, xlsx_file, new_columns)\n",
    "\n",
    "root_directory = \"output/to_be_shared_to_ras/Fall 2020/\"  # Replace with the path to your CSV files\n",
    "process_csv_files(root_directory, new_columns)\n"
   ]
  },
  {
   "cell_type": "code",
   "execution_count": null,
   "metadata": {},
   "outputs": [],
   "source": []
  }
 ],
 "metadata": {
  "kernelspec": {
   "display_name": "venv",
   "language": "python",
   "name": "python3"
  },
  "language_info": {
   "codemirror_mode": {
    "name": "ipython",
    "version": 3
   },
   "file_extension": ".py",
   "mimetype": "text/x-python",
   "name": "python",
   "nbconvert_exporter": "python",
   "pygments_lexer": "ipython3",
   "version": "3.8.17"
  }
 },
 "nbformat": 4,
 "nbformat_minor": 2
}
