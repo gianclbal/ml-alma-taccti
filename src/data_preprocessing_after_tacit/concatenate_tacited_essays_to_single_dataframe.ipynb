{
 "cells": [
  {
   "cell_type": "code",
   "execution_count": 1,
   "metadata": {},
   "outputs": [],
   "source": [
    "import os\n",
    "import pandas as pd"
   ]
  },
  {
   "cell_type": "code",
   "execution_count": 9,
   "metadata": {},
   "outputs": [],
   "source": [
    "def concatenate_tacited_files(directory: str, theme: str, output_file: str):\n",
    "    \"\"\"\n",
    "    Concatenates specified columns from all xlsx files in a directory and its subdirectories.\n",
    "    :param directory: Path to the directory containing xlsx files.\n",
    "    :param theme: The string to replace the \"Human Annotated Essay\" column header.\n",
    "    :param output_file: Path to the output file.\n",
    "    \"\"\"\n",
    "    \n",
    "    # Initialize an empty list to store DataFrames\n",
    "    all_data = []\n",
    "    \n",
    "    # Traverse the directory and subdirectories to find all xlsx files\n",
    "    for subdir, dirs, files in os.walk(directory):\n",
    "        for file in files:\n",
    "            if file.endswith(\".xlsx\") and \"Essay1\" in file:\n",
    "                file_path = os.path.join(subdir, file)\n",
    "                \n",
    "                try:\n",
    "                    # Read the xlsx file without specifying columns initially\n",
    "                    df = pd.read_excel(file_path, engine='openpyxl', header=0)\n",
    "\n",
    "                    # Check if required columns exist, otherwise skip this file\n",
    "                    required_columns = [\"Essay ID\", \"Annotated Essays\", \"Human Annotated Essay\"]\n",
    "                    if not all(col in df.columns for col in required_columns):\n",
    "                        print(f\"Skipping file {file_path}: Required columns not found.\")\n",
    "                        continue\n",
    "\n",
    "                    # Select the required columns\n",
    "                    df = df[[\"Essay ID\", \"Annotated Essays\", \"Human Annotated Essay\"]]\n",
    "                    \n",
    "                    # Rename columns\n",
    "                    df.columns = [\"Essay ID\", \"Annotated Essays\", theme]\n",
    "\n",
    "                    # Skip row 1 for all files except the first one\n",
    "                    if len(all_data) > 0:\n",
    "                        df = df.iloc[1:]\n",
    "\n",
    "                    # Append the dataframe to the list\n",
    "                    all_data.append(df)\n",
    "\n",
    "                except Exception as e:\n",
    "                    print(f\"Error processing file {file_path}: {e}\")\n",
    "    \n",
    "    # Concatenate all dataframes\n",
    "    if all_data:\n",
    "        final_df = pd.concat(all_data, ignore_index=True)\n",
    "        \n",
    "        # Save the concatenated DataFrame to a new xlsx file\n",
    "        final_df.to_excel(output_file, index=False)\n",
    "        print(f\"Concatenation complete. Output saved to {output_file}\")\n",
    "    else:\n",
    "        print(\"No valid files found to concatenate.\")"
   ]
  },
  {
   "cell_type": "code",
   "execution_count": 19,
   "metadata": {},
   "outputs": [
    {
     "name": "stdout",
     "output_type": "stream",
     "text": [
      "Concatenation complete. Output saved to /Users/gbaldonado/Developer/ml-alma-taccti/ml-alma-taccti/data/for_training/batch_2_concatenated/batch_2_tacited_Navigational Plus_to_be_processed_for_sentence_level.xlsx\n"
     ]
    }
   ],
   "source": [
    "theme = \"Navigational\"\n",
    "directory = \"/Users/gbaldonado/Developer/ml-alma-taccti/ml-alma-taccti/data/tacited_validated_to_be_processed/\" + theme\n",
    "\n",
    "theme =  theme + \" Plus\"\n",
    "base_output_file = \"/Users/gbaldonado/Developer/ml-alma-taccti/ml-alma-taccti/data/for_training/batch_2_concatenated/\"\n",
    "output_file = base_output_file + f\"batch_2_tacited_{theme}_to_be_processed_for_sentence_level.xlsx\"\n",
    "\n",
    "concatenate_tacited_files(directory, theme, output_file)"
   ]
  },
  {
   "cell_type": "code",
   "execution_count": null,
   "metadata": {},
   "outputs": [],
   "source": []
  }
 ],
 "metadata": {
  "kernelspec": {
   "display_name": "ml_env",
   "language": "python",
   "name": "python3"
  },
  "language_info": {
   "codemirror_mode": {
    "name": "ipython",
    "version": 3
   },
   "file_extension": ".py",
   "mimetype": "text/x-python",
   "name": "python",
   "nbconvert_exporter": "python",
   "pygments_lexer": "ipython3",
   "version": "3.8.17"
  }
 },
 "nbformat": 4,
 "nbformat_minor": 2
}
