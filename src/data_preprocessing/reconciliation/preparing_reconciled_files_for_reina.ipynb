{
 "cells": [
  {
   "cell_type": "markdown",
   "metadata": {},
   "source": [
    "# Preparing Reconciled Files Into Single Dataframe for Reina\n",
    "\n",
    "*Author: Gian Carlo L. Baldonado*"
   ]
  },
  {
   "cell_type": "code",
   "execution_count": 23,
   "metadata": {},
   "outputs": [],
   "source": [
    "import xlwings as xw\n",
    "import os\n",
    "import glob\n",
    "from collections import defaultdict"
   ]
  },
  {
   "cell_type": "code",
   "execution_count": 87,
   "metadata": {},
   "outputs": [],
   "source": [
    "def extract_semester_and_course_from_path(file_paths):\n",
    "    \"Extract semester and course info for sheets\"\n",
    "    semester_course_list = []\n",
    "    for path in file_paths:\n",
    "        parts = path.split('/')\n",
    "        # Extracting \"Fall 2020\" and the course info like \"ASTR 0116\"\n",
    "        semester = parts[-4]  # \"Fall 2020\"\n",
    "        course = parts[-3]    # \"ASTR 0116\" or \"PHYS 0112\"\n",
    "        semester_course_list.append((semester, course))\n",
    "    return semester_course_list"
   ]
  },
  {
   "cell_type": "code",
   "execution_count": 285,
   "metadata": {},
   "outputs": [
    {
     "name": "stdout",
     "output_type": "stream",
     "text": [
      "Semester: Fall 2020, Course: ASTR 0116\n",
      "  - /Users/gbaldonado/Library/Containers/com.microsoft.Excel/Data/finalizing_data/dummy_input_with_folder_hierarchy/Fall 2020/ASTR 0116/Section 02/Fall2020_ASTR0116-02_Essay1_anonymized_tacited_reconciled.xlsm\n",
      "Semester: Fall 2020, Course: PHYS 0112\n",
      "  - /Users/gbaldonado/Library/Containers/com.microsoft.Excel/Data/finalizing_data/dummy_input_with_folder_hierarchy/Fall 2020/PHYS 0112/Section 02/Fall2020_PHYS0112-02_Essay1_anonymized_tacited_reconciled.xlsm\n",
      "  - /Users/gbaldonado/Library/Containers/com.microsoft.Excel/Data/finalizing_data/dummy_input_with_folder_hierarchy/Fall 2020/PHYS 0112/Section 01/Fall2020_PHYS0112-01_Essay1_anonymized_tacited_reconciled.xlsm\n",
      "Semester: Fall 2021, Course: PHYS 0102\n",
      "  - /Users/gbaldonado/Library/Containers/com.microsoft.Excel/Data/finalizing_data/dummy_input_with_folder_hierarchy/Fall 2021/PHYS 0102/Section 02/Fall2021_PHYS0102-02_Essay1_anonymized_tacited_reconciled.xlsm\n",
      "  - /Users/gbaldonado/Library/Containers/com.microsoft.Excel/Data/finalizing_data/dummy_input_with_folder_hierarchy/Fall 2021/PHYS 0102/Section 01/Fall2021_PHYS0102-01_Essay1_anonymized_tacited_reconciled.xlsm\n"
     ]
    }
   ],
   "source": [
    "def get_files_by_semester_and_course(base_path):\n",
    "    files_by_semester_and_course = defaultdict(list)\n",
    "    \n",
    "    # Construct the pattern to match all Excel files in the folder hierarchy\n",
    "    pattern = os.path.join(base_path, '**', '*.xlsx')\n",
    "    pattern_m = os.path.join(base_path, '**', '*.xlsm')\n",
    "    \n",
    "    # Get all matching file paths\n",
    "    file_paths = glob.glob(pattern, recursive=True) + glob.glob(pattern_m, recursive=True)\n",
    "    \n",
    "    # Filter out temporary files\n",
    "    file_paths = [fp for fp in file_paths if not os.path.basename(fp).startswith('~$')]\n",
    "    \n",
    "    # Extract semester and course info\n",
    "    semester_course_list = extract_semester_and_course_from_path(file_paths)\n",
    "    \n",
    "    for (semester, course), file_path in zip(semester_course_list, file_paths):\n",
    "        files_by_semester_and_course[(semester, course)].append(file_path)\n",
    "    \n",
    "    return files_by_semester_and_course\n",
    "\n",
    "\n",
    "files_grouped = get_files_by_semester_and_course(dummy_input)\n",
    "\n",
    "for key, file_list in files_grouped.items():\n",
    "    semester, course = key\n",
    "    print(f\"Semester: {semester}, Course: {course}\")\n",
    "    for file_path in file_list:\n",
    "        print(f\"  - {file_path}\")"
   ]
  },
  {
   "cell_type": "code",
   "execution_count": 286,
   "metadata": {},
   "outputs": [
    {
     "data": {
      "text/plain": [
       "defaultdict(list,\n",
       "            {('Fall 2020',\n",
       "              'ASTR 0116'): ['/Users/gbaldonado/Library/Containers/com.microsoft.Excel/Data/finalizing_data/dummy_input_with_folder_hierarchy/Fall 2020/ASTR 0116/Section 02/Fall2020_ASTR0116-02_Essay1_anonymized_tacited_reconciled.xlsm'],\n",
       "             ('Fall 2020',\n",
       "              'PHYS 0112'): ['/Users/gbaldonado/Library/Containers/com.microsoft.Excel/Data/finalizing_data/dummy_input_with_folder_hierarchy/Fall 2020/PHYS 0112/Section 02/Fall2020_PHYS0112-02_Essay1_anonymized_tacited_reconciled.xlsm', '/Users/gbaldonado/Library/Containers/com.microsoft.Excel/Data/finalizing_data/dummy_input_with_folder_hierarchy/Fall 2020/PHYS 0112/Section 01/Fall2020_PHYS0112-01_Essay1_anonymized_tacited_reconciled.xlsm'],\n",
       "             ('Fall 2021',\n",
       "              'PHYS 0102'): ['/Users/gbaldonado/Library/Containers/com.microsoft.Excel/Data/finalizing_data/dummy_input_with_folder_hierarchy/Fall 2021/PHYS 0102/Section 02/Fall2021_PHYS0102-02_Essay1_anonymized_tacited_reconciled.xlsm', '/Users/gbaldonado/Library/Containers/com.microsoft.Excel/Data/finalizing_data/dummy_input_with_folder_hierarchy/Fall 2021/PHYS 0102/Section 01/Fall2021_PHYS0102-01_Essay1_anonymized_tacited_reconciled.xlsm']})"
      ]
     },
     "execution_count": 286,
     "metadata": {},
     "output_type": "execute_result"
    }
   ],
   "source": [
    "files_grouped"
   ]
  },
  {
   "cell_type": "code",
   "execution_count": 287,
   "metadata": {},
   "outputs": [
    {
     "name": "stdout",
     "output_type": "stream",
     "text": [
      "['/Users/gbaldonado/Library/Containers/com.microsoft.Excel/Data/finalizing_data/dummy_input_with_folder_hierarchy/Fall 2020/ASTR 0116/Section 02/Fall2020_ASTR0116-02_Essay1_anonymized_tacited_reconciled.xlsm']\n",
      "['/Users/gbaldonado/Library/Containers/com.microsoft.Excel/Data/finalizing_data/dummy_input_with_folder_hierarchy/Fall 2020/PHYS 0112/Section 02/Fall2020_PHYS0112-02_Essay1_anonymized_tacited_reconciled.xlsm', '/Users/gbaldonado/Library/Containers/com.microsoft.Excel/Data/finalizing_data/dummy_input_with_folder_hierarchy/Fall 2020/PHYS 0112/Section 01/Fall2020_PHYS0112-01_Essay1_anonymized_tacited_reconciled.xlsm']\n",
      "['/Users/gbaldonado/Library/Containers/com.microsoft.Excel/Data/finalizing_data/dummy_input_with_folder_hierarchy/Fall 2021/PHYS 0102/Section 02/Fall2021_PHYS0102-02_Essay1_anonymized_tacited_reconciled.xlsm', '/Users/gbaldonado/Library/Containers/com.microsoft.Excel/Data/finalizing_data/dummy_input_with_folder_hierarchy/Fall 2021/PHYS 0102/Section 01/Fall2021_PHYS0102-01_Essay1_anonymized_tacited_reconciled.xlsm']\n"
     ]
    }
   ],
   "source": [
    "for i in list(files_grouped.values()):\n",
    "    print(i)"
   ]
  },
  {
   "cell_type": "code",
   "execution_count": 288,
   "metadata": {},
   "outputs": [
    {
     "data": {
      "text/plain": [
       "3"
      ]
     },
     "execution_count": 288,
     "metadata": {},
     "output_type": "execute_result"
    }
   ],
   "source": [
    "len(list(files_grouped.values()))"
   ]
  },
  {
   "cell_type": "code",
   "execution_count": 487,
   "metadata": {},
   "outputs": [],
   "source": [
    "def process_reconciled_files(reconciled_files_folder_path):\n",
    "    print(\"Starting process\")\n",
    "    print(\"Loading workbooks...\")\n",
    "\n",
    "    input_dir_grouped_by_semester_course_dict = get_files_by_semester_and_course(reconciled_files_folder_path)\n",
    "\n",
    "    # Instantiate the output workbook\n",
    "    output_wb = xw.Book()\n",
    "    for key, file_list in input_dir_grouped_by_semester_course_dict.items():\n",
    "            semester, course = key\n",
    "            sheet_name = f\"{semester} - {course}\"\n",
    "            print(\"Sheet Name: \", sheet_name)\n",
    "            output_sheet = output_wb.sheets.add(sheet_name)\n",
    "\n",
    "            output_sheet.range(\"A1\").value = [\"Essay ID\", \"TACIT Theme Present\", \"TACITED Essay\", \"Reina Theme Present\", \"Lokesh Theme Present\", \n",
    "                                              \"Reconciled Theme Present\", \"Reina Phrase Only\", \"Lokesh Phrase Only\", \"Reconciled Phrase\"]\n",
    "\n",
    "            for reconciled_file in file_list:\n",
    "                print(f\"Processing {reconciled_file}\")\n",
    "                wb = xw.Book(reconciled_file)\n",
    "                sheet = wb.sheets.active\n",
    "\n",
    "                # Retrieving data from the current sheet\n",
    "                essay_id = sheet.range('B2').expand(\"down\").value\n",
    "                tacited_theme_present = sheet.range('I2').expand(\"down\").value\n",
    "                sentence = sheet.range(\"J2\").expand(\"down\").value\n",
    "                reina_theme_present = sheet.range(\"K2\").expand(\"down\").value\n",
    "                lokesh_theme_present = sheet.range(\"L2\").expand(\"down\").value\n",
    "                label = sheet.range(\"M2\").expand(\"down\").value\n",
    "                reina_phrase = sheet.range(\"P2\").expand(\"down\").value\n",
    "                lokesh_phrase = sheet.range(\"Q2\").expand(\"down\").value\n",
    "                phrase = sheet.range(\"R2\").expand(\"down\").value \n",
    "\n",
    "\n",
    "                      # Ensure data is lists\n",
    "                if not isinstance(sentence, list):\n",
    "                    sentence = [sentence]\n",
    "                if not isinstance(label, list):\n",
    "                    label = [label]\n",
    "                if not isinstance(phrase, list):\n",
    "                    phrase = [phrase]\n",
    "\n",
    "\n",
    "            #    # Log data lengths\n",
    "            #     print(f\"Data lengths - Sentences: {len(sentence)}, Labels: {len(label)}, Phrases: {len(phrase)}\")\n",
    "\n",
    "                # Find the next available row in the output sheet\n",
    "                last_row_A = output_sheet.range('A' + str(output_sheet.cells.last_cell.row)).end('up').row\n",
    "                last_row_B = output_sheet.range('B' + str(output_sheet.cells.last_cell.row)).end('up').row\n",
    "                last_row_C = output_sheet.range('C' + str(output_sheet.cells.last_cell.row)).end('up').row\n",
    "                last_row_D = output_sheet.range('D' + str(output_sheet.cells.last_cell.row)).end('up').row\n",
    "                last_row_E = output_sheet.range('E' + str(output_sheet.cells.last_cell.row)).end('up').row\n",
    "                last_row_F = output_sheet.range('F' + str(output_sheet.cells.last_cell.row)).end('up').row\n",
    "                last_row_G = output_sheet.range('G' + str(output_sheet.cells.last_cell.row)).end('up').row\n",
    "                last_row_H = output_sheet.range('H' + str(output_sheet.cells.last_cell.row)).end('up').row\n",
    "                last_row_I = output_sheet.range('I' + str(output_sheet.cells.last_cell.row)).end('up').row\n",
    "\n",
    "                next_row = max(last_row_A, last_row_B, last_row_C, last_row_D, last_row_E, last_row_F, last_row_G, last_row_H, last_row_I) + 1\n",
    "\n",
    "                # print(f\"Last rows - A: {last_row_A}, B: {last_row_B}, C: {last_row_C}\")\n",
    "                print(f\"Next row to start data append: {next_row}\")\n",
    "\n",
    "                # Append the data to the output sheet vertically\n",
    "                output_sheet.range(f'A{next_row}').options(transpose=True).value = essay_id\n",
    "                output_sheet.range(f'B{next_row}').options(transpose=True).value = tacited_theme_present\n",
    "                output_sheet.range(f'C{next_row}').options(transpose=True).value = sentence\n",
    "                output_sheet.range(f'D{next_row}').options(transpose=True).value = reina_theme_present\n",
    "                output_sheet.range(f'E{next_row}').options(transpose=True).value = lokesh_theme_present\n",
    "                output_sheet.range(f'F{next_row}').options(transpose=True).value = label\n",
    "                output_sheet.range(f'G{next_row}').options(transpose=True).value = reina_phrase\n",
    "                output_sheet.range(f'H{next_row}').options(transpose=True).value = lokesh_phrase\n",
    "                output_sheet.range(f'I{next_row}').options(transpose=True).value = phrase\n",
    "                \n",
    "\n",
    "                wb.close()\n",
    "\n",
    "\n",
    "    # Save the output workbook (you can choose a specific filename)\n",
    "    output_wb.save(\"reconciled_data.xlsx\")\n",
    "    print(\"Process completed!\")"
   ]
  },
  {
   "cell_type": "code",
   "execution_count": 488,
   "metadata": {},
   "outputs": [],
   "source": [
    "input = \"/Users/gbaldonado/Library/Containers/com.microsoft.Excel/Data/reconciled/attainment/batch_2_reconciled\""
   ]
  },
  {
   "cell_type": "code",
   "execution_count": 489,
   "metadata": {},
   "outputs": [],
   "source": [
    "dummy_input = \"/Users/gbaldonado/Library/Containers/com.microsoft.Excel/Data/finalizing_data/dummy_input_with_folder_hierarchy\""
   ]
  },
  {
   "cell_type": "code",
   "execution_count": 491,
   "metadata": {},
   "outputs": [
    {
     "name": "stdout",
     "output_type": "stream",
     "text": [
      "Starting process\n",
      "Loading workbooks...\n",
      "Sheet Name:  Fall 2020 - ASTR 0116\n",
      "Processing /Users/gbaldonado/Library/Containers/com.microsoft.Excel/Data/finalizing_data/dummy_input_with_folder_hierarchy/Fall 2020/ASTR 0116/Section 02/Fall2020_ASTR0116-02_Essay1_anonymized_tacited_reconciled.xlsm\n",
      "Next row to start data append: 2\n",
      "Sheet Name:  Fall 2020 - PHYS 0112\n",
      "Processing /Users/gbaldonado/Library/Containers/com.microsoft.Excel/Data/finalizing_data/dummy_input_with_folder_hierarchy/Fall 2020/PHYS 0112/Section 02/Fall2020_PHYS0112-02_Essay1_anonymized_tacited_reconciled.xlsm\n",
      "Next row to start data append: 2\n",
      "Processing /Users/gbaldonado/Library/Containers/com.microsoft.Excel/Data/finalizing_data/dummy_input_with_folder_hierarchy/Fall 2020/PHYS 0112/Section 01/Fall2020_PHYS0112-01_Essay1_anonymized_tacited_reconciled.xlsm\n",
      "Next row to start data append: 34\n",
      "Sheet Name:  Fall 2021 - PHYS 0102\n",
      "Processing /Users/gbaldonado/Library/Containers/com.microsoft.Excel/Data/finalizing_data/dummy_input_with_folder_hierarchy/Fall 2021/PHYS 0102/Section 02/Fall2021_PHYS0102-02_Essay1_anonymized_tacited_reconciled.xlsm\n",
      "Next row to start data append: 2\n",
      "Processing /Users/gbaldonado/Library/Containers/com.microsoft.Excel/Data/finalizing_data/dummy_input_with_folder_hierarchy/Fall 2021/PHYS 0102/Section 01/Fall2021_PHYS0102-01_Essay1_anonymized_tacited_reconciled.xlsm\n",
      "Next row to start data append: 21\n",
      "Process completed!\n"
     ]
    }
   ],
   "source": [
    "process_reconciled_files(dummy_input)"
   ]
  },
  {
   "cell_type": "code",
   "execution_count": null,
   "metadata": {},
   "outputs": [],
   "source": []
  },
  {
   "cell_type": "code",
   "execution_count": null,
   "metadata": {},
   "outputs": [],
   "source": [
    "def process_reconciled_files(reconciled_files_folder_path):\n",
    "    # Load both workbooks\n",
    "    print(\"Starting process\")\n",
    "    print(\"Loading workbooks...\")\n",
    "\n",
    "    input_dir_grouped_by_semester_course_dict = get_files_by_semester_and_course(reconciled_files_folder_path)\n",
    "\n",
    "    # Instantiate the output workbook\n",
    "    output_wb = xw.Book()\n",
    "\n",
    "    for key,file_list in input_dir_grouped_by_semester_course_dict.items():\n",
    "        semester, course = key\n",
    "        sheet_name = f\"{semester} - {course}\"\n",
    "        print(\"Sheet Name \", sheet_name)\n",
    "        output_sheet = output_wb.sheets.add(sheet_name)\n",
    "      \n",
    "        # output_sheet = output_wb.sheets[sheet_name] # create a sheet with the semester and course name\n",
    "\n",
    "        # Set the column names starting from A1\n",
    "        output_sheet.range('A1').value = \"Essay ID\"\n",
    "        output_sheet.range(\"B1\").value = \"Theme Present\"\n",
    "        # output_sheet.range(\"C1\").value = \"Tacit-Annotated Essay\"\n",
    "        # output_sheet.range(\"D1\").value = \"Reina Theme Present\"\n",
    "        # output_sheet.range(\"E1\").value = \"Lokesh Theme Present\"\n",
    "        # output_sheet.range(\"F1\").value = \"Label\"\n",
    "        # output_sheet.range(\"G1\").value = \"Reina Red-only Annotation\"\n",
    "        # output_sheet.range(\"H1\").value = \"Lokesh Red-only Annotation\"\n",
    "        # output_sheet.range(\"I1\").value = \"Reconciled Red-only Annotation\"\n",
    "        # Initialize xlwings app\n",
    "\n",
    "        for input_path in file_list:\n",
    "            print(f\"Processing {input_path}\")\n",
    "            wb = xw.Book(input_path)\n",
    "            sheet = wb.sheets.active\n",
    "\n",
    "            # Retrieving data from the current sheet\n",
    "            essay_id = sheet.range(\"B2\").expand(\"down\").value\n",
    "            theme_presence = sheet.range(\"I2\").expand(\"down\").value\n",
    "            # Retrieve other data if needed\n",
    "\n",
    "            # Find the last row with data in the output sheet\n",
    "            last_row = output_sheet.range('A' + str(output_sheet.cells.last_cell.row)).end('up').row\n",
    "\n",
    "            # Append the data to the output sheet\n",
    "            output_sheet.range(f'A{last_row + 1}').value = essay_id\n",
    "            output_sheet.range(f'B{last_row + 1}').value = theme_presence\n",
    "        # Save and close the output workbook\n",
    "        output_wb.save(\"./final_processed_file_version_2.xlsm\")\n",
    "        output_sheet.book.close()\n",
    "\n",
    "        print(\"Finished processing reconciled files.\")\n",
    "            \n",
    "    return output_wb\n",
    "    \n",
    "\n"
   ]
  }
 ],
 "metadata": {
  "kernelspec": {
   "display_name": "venv",
   "language": "python",
   "name": "python3"
  },
  "language_info": {
   "codemirror_mode": {
    "name": "ipython",
    "version": 3
   },
   "file_extension": ".py",
   "mimetype": "text/x-python",
   "name": "python",
   "nbconvert_exporter": "python",
   "pygments_lexer": "ipython3",
   "version": "3.10.12"
  }
 },
 "nbformat": 4,
 "nbformat_minor": 2
}
