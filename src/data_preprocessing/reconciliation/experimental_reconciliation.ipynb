{
 "cells": [
  {
   "cell_type": "code",
   "execution_count": 1,
   "metadata": {},
   "outputs": [],
   "source": [
    "import xlwings as xw"
   ]
  },
  {
   "cell_type": "code",
   "execution_count": 11,
   "metadata": {},
   "outputs": [],
   "source": [
    "# Input file paths\n",
    "lokesh_file = \"./data/lokesh/Fall2019_ASTR116-10_Essay1_anonymized_Aspirational_tacited.xlsx\"\n",
    "reina_file = \"./data/reina/Fall2019_ASTR116-10_Essay1_anonymized_Aspirational_tacited_reina.xlsx\"\n",
    "\n",
    "# Load both workbooks\n",
    "lokesh_wb = xw.Book(lokesh_file)\n",
    "reina_wb = xw.Book(reina_file)\n",
    "\n",
    "# Get the sheets from both workbooks\n",
    "lokesh_sheet = lokesh_wb.sheets.active\n",
    "reina_sheet = reina_wb.sheets.active\n",
    "\n",
    "# Create a new workbook and sheet for the combined data\n",
    "combined_wb = xw.Book()\n",
    "combined_sheet = combined_wb.sheets.active"
   ]
  },
  {
   "cell_type": "markdown",
   "metadata": {},
   "source": [
    "\n",
    "If their annotations are matched,\n",
    "\n",
    "- don’t format any annotations.\n",
    "- Column M (theme present) should be populated with boolean Yes or No (Yes=Theme Present, No=No Theme Present)\n",
    "  - Yes or No\n",
    "- Column P (final annotated essay)\n",
    "  - If Theme Present = Yes\n",
    "    - Merge the red annotations of both Lokesh and Reina’s using Visual Basic.\n",
    "    - Return only the red annotations (similar to when we humanly copy-paste annotations that are relevant).\n",
    "  - If Theme Present = No\n",
    "    - return 0\n",
    "\n",
    "If their annotations are mismatched,\n",
    "\n",
    "- highlight their annotations in **red** to signify mismatch and write \"X\"\n",
    "- Gian has to reconcile the mismatch manually\n",
    "  - With the output, Gian will resolve the mismatch by going the spreadsheet(s).\n"
   ]
  },
  {
   "cell_type": "code",
   "execution_count": 4,
   "metadata": {},
   "outputs": [],
   "source": [
    "# (Re)-naming columns\n",
    "reina_sheet.range(\"K1\").value = \"Reina Aspirational Present\"\n",
    "reina_sheet.range(\"L1\").value = \"Reina Annotated Essay\"\n",
    "reina_sheet.range(\"M1\").value = \"Reina Comments\"\n",
    "\n",
    "lokesh_sheet.range(\"K1\").value = \"Lokesh Aspirational Present\"\n",
    "lokesh_sheet.range(\"L1\").value = \"Lokesh Annotated Essay\"\n",
    "lokesh_sheet.range(\"M1\").value = \"Lokesh Comments\"\n",
    "\n",
    "combined_sheet.range(\"K1\").value = \"Reina Label\"\n",
    "combined_sheet.range(\"L1\").value = \"Lokesh Label\"\n",
    "combined_sheet.range(\"M1\").value = \"Reconciled\"\n",
    "combined_sheet.range(\"P1\").value = \"Reina Red-only Annotation\"\n",
    "combined_sheet.range(\"Q1\").value = \"Lokesh Red-only Annotation\"\n",
    "combined_sheet.range(\"R1\").value = \"Reconciled Red-only Annotation\"\n"
   ]
  },
  {
   "cell_type": "markdown",
   "metadata": {},
   "source": [
    "### Reconciliing Annotations: 4 Cases\n",
    "\n",
    "1. Case that Lokesh and Reina disagrees\n",
    "    * One of them has a 0 (\"No\")\n",
    "2. Case that Lokesh and Reina agrees (negative theme)\n",
    "    * They have the same annotation, which is 0.\n",
    "3. Case that Lokesh annd Reina agrees (positive theme) AND have similar highlighted text\n",
    "    * They have the same annotation and the same red-only annotation.\n",
    "4. Case that Lokesh and Reina agrees (postiive theme) BUT have different highlighted text\n",
    "    * They have the same \"Yes\" labels, but have different highlighted text -> merge_stings"
   ]
  },
  {
   "cell_type": "code",
   "execution_count": 12,
   "metadata": {},
   "outputs": [],
   "source": [
    "def process_reconciled_labels(k_col, l_col, m_col):\n",
    "    \"\"\"\n",
    "    Reconciling labels\n",
    "    input: \n",
    "    * reina's labels -> k_col\n",
    "    * lokesh's lables -> l_col\n",
    "    * reconciled column range -> m_col\n",
    "    \"\"\"\n",
    "    for k_cell, l_cell, m_cell in zip(k_col[1:], l_col[1:], m_col):\n",
    "        # if reina's labels match lokesh's labels\n",
    "        if k_cell.value == l_cell.value:\n",
    "            # the reconciled value is the same matching value\n",
    "            m_cell.value = k_cell.value\n",
    "        # if not\n",
    "        else:\n",
    "            # then the reconciled value is undetermined \n",
    "            m_cell.value = \"X\"\n",
    "            m_cell.font.color = (0,0,0)\n",
    "            m_cell.color = (255, 0, 0)  # Set font color to red\n",
    "\n",
    "\n",
    "def merge_strings(a, b):\n",
    "    \"\"\"\n",
    "    Helper function to merge two similar strings\n",
    "    To be used for Case 4\n",
    "    \"\"\"\n",
    "    # Split strings into lists of words\n",
    "    words_a = a.split()\n",
    "    words_b = b.split()\n",
    "\n",
    "    # Find the common prefix\n",
    "    common_prefix = []\n",
    "    for word_a, word_b in zip(words_a, words_b):\n",
    "        if word_a == word_b:\n",
    "            common_prefix.append(word_a)\n",
    "        else:\n",
    "            break\n",
    "\n",
    "    # Join the common prefix and the remaining words from b\n",
    "    merged_string = \" \".join(common_prefix + words_b[len(common_prefix):])\n",
    "\n",
    "    return merged_string\n",
    "\n",
    "\n",
    "# merged_string = merge_strings(cell_n15, cell_o15)\n",
    "\n",
    "# #Return the string to P\n",
    "# print(merged_string)\n",
    "\n",
    "def process_reconciled_annotations(n_col, o_col, p_col, q_col, r_col):\n",
    "    \"\"\"\n",
    "    Reconciling annotations\n",
    "    input: \n",
    "    * reina's annotations -> n_col\n",
    "    * lokesh's annotations -> o_col\n",
    "    * reina's red-only annotations -> p_col\n",
    "    * lokesh's red-only annotations -> q_col\n",
    "    * reconciled column r range -> r_col\n",
    "    \"\"\"\n",
    "\n",
    "    # For each value in n_col, o_col, p_col, q_col, r_col\n",
    "    for n_cell, o_cell, p_cell, q_cell, r_cell in zip(n_col[1:], o_col[1:], p_col, q_col, r_col):\n",
    "\n",
    "        # Get the cell addresses of Reina and Lokesh's annotations \n",
    "        n_cell_address = n_cell.address # The address of Reina's annotation cell ex. N1\n",
    "        o_cell_address = o_cell.address # Address of Lokesh's annotation cell ex. O1\n",
    "        p_cell_address = p_cell.address # Address of cell at column P, this is where we will put only the red annotations of Reina\n",
    "        q_cell_address = q_cell.address # Address of cell at column Q, this is where we will put only the red annotations of Lokesh\n",
    "        r_cell_address = r_cell.address # Address of cell at column R, this is where we will put the reconciled red text from Reina and Lokesh\n",
    "\n",
    "        # Pass these cell addresses to get_color_text(x)\n",
    "        n_cell_color_only = f\"=IF(GetColorText({n_cell_address})=\\\"\\\",0,GetColorText({n_cell_address}))\"\n",
    "        o_cell_color_only = f\"=IF(GetColorText({o_cell_address})=\\\"\\\",0,GetColorText({o_cell_address}))\"\n",
    "\n",
    "        combined_sheet.range(p_cell_address).value = n_cell_color_only\n",
    "        combined_sheet.range(q_cell_address).value = o_cell_color_only\n",
    "\n",
    "        # print(n_cell_color_only)\n",
    "\n",
    "        p_cell_value = combined_sheet.range(p_cell_address).value\n",
    "        q_cell_value = combined_sheet.range(q_cell_address).value\n",
    "        r_cell_value = combined_sheet.range(r_cell_address).value\n",
    "\n",
    "        print(p_cell_value)\n",
    "        print(q_cell_value)\n",
    "        print(r_cell_value)\n",
    "      \n",
    "        # Case 2 and 3\n",
    "        if (p_cell_value == q_cell_value): # Return 0 or that red-only text\n",
    "            r_cell.value = p_cell_value\n",
    "        # Case 4:\n",
    "        elif (p_cell_value != q_cell_value) and p_cell_value != 0 and q_cell_value != 0:   \n",
    "            r_cell.value = merge_strings(p_cell_value, q_cell_value)\n",
    "        # Case 1: \n",
    "        else:\n",
    "            # r_cell value will n_cell or o_cell depending if whether it's a string or not\n",
    "            r_cell.value = n_cell.value if isinstance(p_cell.value, str) else o_cell.value if isinstance(q_cell.value, str) else 0\n",
    "            r_cell.font.color = (0,0,0)\n",
    "            r_cell.color = (255,255,0)  # Set cell color to yellow"
   ]
  },
  {
   "cell_type": "code",
   "execution_count": 13,
   "metadata": {},
   "outputs": [],
   "source": [
    "def reconcile(book_1_path, book_2_path):\n",
    "    # Load both workbooks\n",
    "    wb_1 = xw.Book(book_1_path) # Reina\n",
    "    wb_2 = xw.Book(book_2_path) # Lokesh\n",
    "\n",
    "    # Get the sheets from both workbooks\n",
    "    sheet_1 = wb_1.sheets.active\n",
    "    sheet_2 = wb_2.sheets.active\n",
    "\n",
    "    # Combined sheet\n",
    "    wb_3 = xw.Book()\n",
    "    sheet_3 = wb_3.sheets.active\n",
    "\n",
    "    # Renaming columns\n",
    "    # Reina's sheets\n",
    "    sheet_1.range(\"K1\").value = \"Reina Aspirational Present\"\n",
    "    sheet_1.range(\"L1\").value = \"Reina Annotated Essay\"\n",
    "    sheet_1.range(\"M1\").value = \"Reina Comments\"\n",
    "\n",
    "    # Lokesh's sheets\n",
    "    sheet_2.range(\"K1\").value = \"Lokesh Aspirational Present\"\n",
    "    sheet_2.range(\"L1\").value = \"Lokesh Annotated Essay\"\n",
    "    sheet_2.range(\"M1\").value = \"Lokesh Comments\"\n",
    "\n",
    "    # Combined sheet\n",
    "    sheet_3.range(\"K1\").value = \"Reina Label\"\n",
    "    sheet_3.range(\"L1\").value = \"Lokesh Label\"\n",
    "    sheet_3.range(\"M1\").value = \"Reconciled\"\n",
    "    sheet_3.range(\"P1\").value = \"Reina Red-only Annotation\"\n",
    "    sheet_3.range(\"Q1\").value = \"Lokesh Red-only Annotation\"\n",
    "    sheet_3.range(\"R1\").value = \"Reconciled Red-only Annotation\"\n",
    "\n",
    "    # Populating combined sheet\n",
    "    # Retrieving labels (\"Yes\" or \"No\") from Reina and Lokesh's sheets\n",
    "    reina_labels = sheet_1.range(\"K1\").expand(\"down\")\n",
    "    lokesh_labels = sheet_2.range(\"K1\").expand(\"down\")\n",
    "    reina_annotations = sheet_1.range(\"L1\").expand(\"down\") \n",
    "    lokesh_annotations = sheet_2.range(\"L1\").expand(\"down\")\n",
    "\n",
    "    # Copy over information from Reina and Lokesh's workbooks to the combined sheet\n",
    "    sheet_1.range('A1:K1').expand(\"down\").copy(sheet_3.range('A1:K1'))\n",
    "    sheet_2.range('K1').expand(\"down\").copy(sheet_3.range(\"L1\"))\n",
    "    reina_annotations.copy(sheet_3.range(\"N1\"))\n",
    "    lokesh_annotations.copy(sheet_3.range(\"O1\"))\n",
    "\n",
    "    # Initiate the column variables we will be working with in combined sheet\n",
    "    reina_labels = sheet_3.range(\"K1\").expand(\"down\")\n",
    "    lokesh_labels = sheet_3.range(\"L1\").expand(\"down\")\n",
    "    reconciled_labels = sheet_3.range(\"M:M\")[1:] # M column, this is where we will put all of the reconciled labels\n",
    "    \n",
    "    reina_annotations = sheet_3.range(\"N1\").expand(\"down\") # N column\n",
    "    lokesh_annotations = sheet_3.range(\"O1\").expand(\"down\") # O column\n",
    "    column_p_range = sheet_3.range(\"P:P\")[1:] # P column, Reina's red-only text\n",
    "    column_q_range = sheet_3.range(\"Q:Q\")[1:] # Q column, Lokesh's red-only text\n",
    "    column_r_range = sheet_3.range(\"R:R\")[1:] # R column, Reconciled red text\n",
    "\n",
    "    # Run functions to process labels and annotations\n",
    "    process_reconciled_labels(reina_labels, lokesh_labels, reconciled_labels)\n",
    "    process_reconciled_annotations(reina_annotations, lokesh_annotations, column_p_range, column_q_range, column_r_range)\n",
    "    \n",
    "    sheet_3.save(\"./data/reconciliation_temp/sheet3.xlsm\")\n",
    "    sheet_3.close()\n",
    "    \n",
    "\n"
   ]
  },
  {
   "cell_type": "code",
   "execution_count": null,
   "metadata": {},
   "outputs": [],
   "source": []
  },
  {
   "cell_type": "markdown",
   "metadata": {},
   "source": [
    "## Reconciliation Driver"
   ]
  },
  {
   "cell_type": "code",
   "execution_count": null,
   "metadata": {},
   "outputs": [],
   "source": [
    "\"\"\"\n",
    "Comparing Reina and Lokesh's labels\n",
    "\"\"\"\n",
    "\n",
    "reina_labels = reina_sheet.range(\"K1\").expand(\"down\")\n",
    "\n",
    "reina_sheet.range('A1:K1').expand(\"down\").copy(combined_sheet.range('A1:K1'))\n",
    "\n",
    "lokesh_labels = lokesh_sheet.range(\"K1\").expand(\"down\")\n",
    "\n",
    "lokesh_sheet.range('K1').expand(\"down\").copy(combined_sheet.range(\"L1\"))\n",
    "\n",
    "\n",
    "combined_sheet.range(\"M1\").value = \"Reconciled\"\n",
    "\n",
    "\n",
    "column_c_range = combined_sheet.range(\"M:M\")[1:]\n",
    "\n",
    "# For each value in reina's labels and lokesh's labels\n",
    "for a_cell, b_cell, c_cell in zip(reina_labels[1:], lokesh_labels[1:], column_c_range):\n",
    "    # if reina's labels match lokesh's labels\n",
    "    if a_cell.value == b_cell.value:\n",
    "        # the reconciled value is the same matching value\n",
    "        c_cell.value = a_cell.value\n",
    "    # if not\n",
    "    else:\n",
    "        # then the reconciled value is undetermined \n",
    "        c_cell.value = \"X\"\n",
    "        c_cell.font.color = (0,0,0)\n",
    "        c_cell.color = (255, 0, 0)  # Set font color to red\n",
    "\n",
    "# Range object of reina's annotations \n",
    "reina_annotations = reina_sheet.range(\"L1\").expand(\"down\")\n",
    "# To see as a list\n",
    "# reina_annotation.value\n",
    "\n",
    "# Range object of lokesh's annotations\n",
    "lokesh_annotations = lokesh_sheet.range(\"L1\").expand(\"down\")\n",
    "\n",
    "# Copy their annotations from their respective files to the combined sheet.\n",
    "# In the combined sheet, their reina and lokesh's annotations are stored in columns N and O, respectively\n",
    "reina_annotations.copy(combined_sheet.range(\"N1\"))\n",
    "lokesh_annotations.copy(combined_sheet.range(\"O1\"))\n",
    "\n",
    "column_p_range = combined_sheet.range(\"P:P\")[1:]\n",
    "\n",
    "\n",
    "# column M values\n",
    "reconciled_labels = combined_sheet.range(\"M1\").expand(\"down\")\n",
    "reina_annotations = combined_sheet.range(\"N1\").expand(\"down\") # N column\n",
    "lokesh_annotations = combined_sheet.range(\"O1\").expand(\"down\") # O column\n",
    "column_p_range = combined_sheet.range(\"P:P\")[1:] # P column, Reina's red-only text\n",
    "column_q_range = combined_sheet.range(\"Q:Q\")[1:] # Q column, Lokesh's red-only text\n",
    "column_r_range = combined_sheet.range(\"R:R\")[1:] # R column, Reconciled red text\n"
   ]
  },
  {
   "cell_type": "code",
   "execution_count": null,
   "metadata": {},
   "outputs": [],
   "source": []
  },
  {
   "cell_type": "code",
   "execution_count": 77,
   "metadata": {},
   "outputs": [],
   "source": [
    "# UPDATE \n",
    "# Column P is now the temporary red only lokesh text\n",
    "# Column Q is now the temporary red only reina text"
   ]
  },
  {
   "cell_type": "code",
   "execution_count": 6,
   "metadata": {},
   "outputs": [
    {
     "data": {
      "text/plain": [
       "'I am here because I want to expand my understanding of the world so that I am capable of impacting it in some way By taking classes and ultimately earning a degree, I am empowering myself to be able to think critically about the issues we face and find ways to change that reality Hopefully, this will lead me to a career in international politics that is as fulfilling as it is impactful I do not know what exactly that career will look like or what I will become the most passionate about, but for the time being, I am here to learn Educations is a powerful tool that is not available to everyone and I am here to take advantage of that opportunity and use it to reach my full potential as an individual In this sense, I am here to become a better, more empathetic, more knowledgeable person'"
      ]
     },
     "execution_count": 6,
     "metadata": {},
     "output_type": "execute_result"
    }
   ],
   "source": [
    "# Check if the VBA function GetColorText is working\n",
    "\n",
    "# def get_color_text(x):\n",
    "#     return f\"=GetColorText({x})\"\n",
    "\n",
    "\n",
    "\n",
    "# combined_sheet.range(\"P4\").value = get_color_text(\"$N$4\")\n",
    "# combined_sheet.range(\"P4\").value\n"
   ]
  },
  {
   "cell_type": "code",
   "execution_count": 35,
   "metadata": {},
   "outputs": [],
   "source": [
    "combined_wb.save(\"./data/reconciliation_temp/combined.xlsm\")\n",
    "combined_wb.close()"
   ]
  },
  {
   "cell_type": "markdown",
   "metadata": {},
   "source": [
    "## There's 4 cases to look out for when returning the text for column P (merged annotated text)\n",
    "\n",
    "1. Case that Lokesh and Reina disagrees\n",
    "2. Case that Lokesh and Reina agrees (negative theme)\n",
    "3. Case that Lokesh annd Reina agrees (positive theme) AND have similar highlighted text\n",
    "4. Case that Lokesh and Reina agrees (postiive theme) BUT have different highlighted text"
   ]
  },
  {
   "cell_type": "code",
   "execution_count": null,
   "metadata": {},
   "outputs": [],
   "source": []
  },
  {
   "cell_type": "code",
   "execution_count": 8,
   "metadata": {},
   "outputs": [],
   "source": [
    "reina_annotations = combined_sheet.range(\"N1\").expand(\"down\")\n",
    "lokesh_annotations = combined_sheet.range(\"O1\").expand(\"down\")\n",
    "column_p_range = combined_sheet.range(\"P:P\")[1:] # Reina's red-only text\n",
    "column_q_range = combined_sheet.range(\"Q:Q\")[1:] # Lokesh's red-only text\n",
    "column_r_range = combined_sheet.range(\"R:R\")[1:] # Reconciled red text"
   ]
  },
  {
   "cell_type": "markdown",
   "metadata": {},
   "source": [
    "## There's 4 cases to look out for when returning the text for column P (merged annotated text)\n",
    "\n",
    "1. Case that Lokesh and Reina disagrees == return yellow cell\n",
    "2. Case that Lokesh and Reina agrees (negative theme) == return 0\n",
    "3. Case that Lokesh annd Reina agrees (positive theme) AND have similar highlighted text == return that text\n",
    "4. Case that Lokesh and Reina agrees (postiive theme) BUT have different highlighted text == return merge of that text "
   ]
  },
  {
   "cell_type": "code",
   "execution_count": 9,
   "metadata": {},
   "outputs": [],
   "source": []
  },
  {
   "cell_type": "code",
   "execution_count": 10,
   "metadata": {},
   "outputs": [
    {
     "name": "stdout",
     "output_type": "stream",
     "text": [
      "0.0\n",
      " I plan on working in the world of cinema since I fell in love with the world of theater and I can create, imagine, and do whatever I want where I’m not bound to the laws of physics\n",
      "None\n",
      "0.0\n",
      "0.0\n",
      "None\n",
      "I am here because I want to expand my understanding of the world so that I am capable of impacting it in some way By taking classes and ultimately earning a degree, I am empowering myself to be able to think critically about the issues we face and find ways to change that reality Hopefully, this will lead me to a career in international politics that is as fulfilling as it is impactful I do not know what exactly that career will look like or what I will become the most passionate about, but for the time being, I am here to learn Educations is a powerful tool that is not available to everyone and I am here to take advantage of that opportunity and use it to reach my full potential as an individual In this sense, I am here to become a better, more empathetic, more knowledgeable person\n",
      "I am here because I want to expand my understanding of the world so that I am capable of impacting it in some way By taking classes and ultimately earning a degree, I am empowering myself to be able to think critically about the issues we face and find ways to change that reality Hopefully, this will lead me to a career in international politics that is as fulfilling as it is impactful I do not know what exactly that career will look like or what I will become the most passionate about, but for the time being, I am here to learn Educations is a powerful tool that is not available to everyone and I am here to take advantage of that opportunity and use it to reach my full potential as an individual In this sense, I am here to become a better, more empathetic, more knowledgeable person\n",
      "None\n",
      "I am here because I would like to learn more about Astronomy I love to learn about the planets, stars, and the whole outerspace\n",
      "I am here because I would like to learn more about Astronomy I love to learn about the planets, stars, and the whole outerspace\n",
      "None\n",
      "0.0\n",
      "I wanted to try out the subjects that interests me and see if I could handle it and if I would be suited in this line of expertise.\n",
      "None\n",
      "0.0\n",
      "0.0\n",
      "None\n",
      "0.0\n",
      "0.0\n",
      "None\n",
      "0.0\n",
      "0.0\n",
      "None\n",
      "0.0\n",
      "0.0\n",
      "None\n",
      "0.0\n",
      "0.0\n",
      "None\n",
      "I am here because I want to get my education in order to fulfill my dreams\n",
      "I am here because I want to get my education in order to fulfill my dreams\n",
      "None\n",
      "0.0\n",
      "0.0\n",
      "None\n",
      " This class will help me better understand the universe I am here to gain perspective I desire to begin to grasp the the balance of matter     I am here to learn and to explore I seek balance, shadow and light, ebb and flow, waning and waxing, within my daily universe\n",
      " This class will help me better understand the universe I feel hopeful in my tiny place.  I am here to gain perspective I desire to begin to grasp the the balance of matter     I am here to learn and to explore I seek balance, shadow and light, ebb and flow, waning and waxing, within my daily universe\n",
      "None\n",
      " \tAm I here today because I genuinely want to understand and know how the universe was created Everything to the why it is the way it is to what will it become in the future\n",
      " \tAm I here today because I genuinely want to understand and know how the universe was created Everything to the why it is the way it is to what will it become in the future\n",
      "None\n",
      "0.0\n",
      "0.0\n",
      "None\n",
      "0.0\n",
      "0.0\n",
      "None\n",
      "Today I am here to learn.\n",
      "0.0\n",
      "None\n",
      " As the years have gone by and I continued to stay in school, I realized that I am here to develop my skills as an artist, learn how to observe and think about the world around me, and enhance my understanding of various subjects\n",
      " As the years have gone by and I continued to stay in school, I realized that I am here to develop my skills as an artist, learn how to observe and think about the world around me, and enhance my understanding of various subjects\n",
      "None\n",
      "0.0\n",
      "0.0\n",
      "None\n",
      "I am here because I want to expand my wealth of knowledge To step out of my comfort zone and indulge myself into the unknown of astronomy \n",
      "I am here because I want to expand my wealth of knowledge To step out of my comfort zone and indulge myself into the unknown of astronomy \n",
      "None\n",
      "0.0\n",
      "I am here in my Astronomy Lab class to further my knowledge of Astronomy\n",
      "None\n",
      "I am here because I want to be a math teacher and bring love and joy to the center of math for students I’m here in astronomy because I love the stars and space and I want to expand my view and attention to more than just earthly things because the universe is more than just earth\n",
      " I’m here in astronomy because I love the stars and space and I want to expand my view and attention to more than just earthly things because the universe is more than just earth\n",
      "None\n",
      "0.0\n",
      "0.0\n",
      "None\n"
     ]
    }
   ],
   "source": [
    "process_reconciled_annotations(reina_annotations, lokesh_annotations, column_p_range, column_q_range, column_r_range)\n",
    "\n",
    "combined_wb.save(\"./data/reconciliation_temp/combined.xlsm\")\n",
    "combined_wb.close()"
   ]
  },
  {
   "cell_type": "code",
   "execution_count": 44,
   "metadata": {},
   "outputs": [
    {
     "name": "stdout",
     "output_type": "stream",
     "text": [
      "False\n",
      "=GetColorText(<Range [Book1]Sheet1!$O$14>)\n"
     ]
    }
   ],
   "source": [
    "\n",
    "\n",
    "cell_n15 = combined_sheet[\"N14\"]\n",
    "cell_o15 = combined_sheet[\"O14\"]\n",
    "\n",
    "cell_n15 = get_color_text(cell_n15)\n",
    "cell_o15 = get_color_text(cell_o15) \n",
    "\n",
    "print(cell_n15 == cell_o15) #False\n",
    "\n",
    "# Then merge the strings\n",
    "def merge_strings(a, b):\n",
    "    # Split strings into lists of words\n",
    "    words_a = a.split()\n",
    "    words_b = b.split()\n",
    "\n",
    "    # Find the common prefix\n",
    "    common_prefix = []\n",
    "    for word_a, word_b in zip(words_a, words_b):\n",
    "        if word_a == word_b:\n",
    "            common_prefix.append(word_a)\n",
    "        else:\n",
    "            break\n",
    "\n",
    "    # Join the common prefix and the remaining words from b\n",
    "    merged_string = \" \".join(common_prefix + words_b[len(common_prefix):])\n",
    "\n",
    "    return merged_string\n",
    "\n",
    "\n",
    "merged_string = merge_strings(cell_n15, cell_o15)\n",
    "\n",
    "#Return the string to P\n",
    "print(merged_string)\n",
    "\n"
   ]
  },
  {
   "cell_type": "code",
   "execution_count": 189,
   "metadata": {},
   "outputs": [
    {
     "data": {
      "text/plain": [
       "' This class will help me better understand the universe I am here to gain perspective I desire to begin to grasp the the balance of matter\\xa0 \\xa0 \\xa0I am here to learn and to explore I seek balance, shadow and light, ebb and flow, waning and waxing, within my daily universe'"
      ]
     },
     "execution_count": 189,
     "metadata": {},
     "output_type": "execute_result"
    }
   ],
   "source": [
    "a = get_color_text(cell_n5)\n",
    "a"
   ]
  },
  {
   "cell_type": "code",
   "execution_count": 190,
   "metadata": {},
   "outputs": [
    {
     "data": {
      "text/plain": [
       "' This class will help me better understand the universe I feel hopeful in my tiny place.  I am here to gain perspective I desire to begin to grasp the the balance of matter\\xa0 \\xa0 \\xa0I am here to learn and to explore I seek balance, shadow and light, ebb and flow, waning and waxing, within my daily universe'"
      ]
     },
     "execution_count": 190,
     "metadata": {},
     "output_type": "execute_result"
    }
   ],
   "source": [
    "b= get_color_text(cell_o5) \n",
    "b"
   ]
  },
  {
   "cell_type": "code",
   "execution_count": 191,
   "metadata": {},
   "outputs": [
    {
     "name": "stdout",
     "output_type": "stream",
     "text": [
      "This class will help me better understand the universe I feel hopeful in my tiny place. I am here to gain perspective I desire to begin to grasp the the balance of matter I am here to learn and to explore I seek balance, shadow and light, ebb and flow, waning and waxing, within my daily universe\n"
     ]
    }
   ],
   "source": []
  },
  {
   "cell_type": "code",
   "execution_count": null,
   "metadata": {},
   "outputs": [],
   "source": []
  },
  {
   "cell_type": "code",
   "execution_count": 124,
   "metadata": {},
   "outputs": [
    {
     "data": {
      "text/plain": [
       "k.missing_value"
      ]
     },
     "execution_count": 124,
     "metadata": {},
     "output_type": "execute_result"
    }
   ],
   "source": [
    "reina_sheet[\"L4\"].characters.text"
   ]
  },
  {
   "cell_type": "code",
   "execution_count": 89,
   "metadata": {},
   "outputs": [
    {
     "data": {
      "text/plain": [
       "<Range [combined.xlsx]Sheet1!$B$1>"
      ]
     },
     "execution_count": 89,
     "metadata": {},
     "output_type": "execute_result"
    }
   ],
   "source": [
    "combined_sheet[\"B1\"]"
   ]
  },
  {
   "cell_type": "code",
   "execution_count": 92,
   "metadata": {},
   "outputs": [
    {
     "data": {
      "text/plain": [
       "k.missing_value"
      ]
     },
     "execution_count": 92,
     "metadata": {},
     "output_type": "execute_result"
    }
   ],
   "source": [
    "combined_sheet[\"N2\"].characters.text"
   ]
  },
  {
   "cell_type": "code",
   "execution_count": 141,
   "metadata": {},
   "outputs": [
    {
     "ename": "CommandError",
     "evalue": "Command failed:\n\t\tOSERROR: -1728\n\t\tMESSAGE: The object you are trying to access does not exist\n\t\tCOMMAND: app(pid=79082).workbooks['combined.xlsx'].name.get()",
     "output_type": "error",
     "traceback": [
      "\u001b[0;31m---------------------------------------------------------------------------\u001b[0m",
      "\u001b[0;31mEventError\u001b[0m                                Traceback (most recent call last)",
      "File \u001b[0;32m~/Developer/TACIT/ALMA-TACIT/venv/lib/python3.10/site-packages/aeosa/appscript/reference.py:479\u001b[0m, in \u001b[0;36mCommand.__call__\u001b[0;34m(self, *args, **kargs)\u001b[0m\n\u001b[1;32m    478\u001b[0m \u001b[39mtry\u001b[39;00m:\n\u001b[0;32m--> 479\u001b[0m \t\u001b[39mreturn\u001b[39;00m \u001b[39mself\u001b[39;49m\u001b[39m.\u001b[39;49mAS_appdata\u001b[39m.\u001b[39;49mtarget()\u001b[39m.\u001b[39;49mevent(\u001b[39mself\u001b[39;49m\u001b[39m.\u001b[39;49m_code, params, atts, codecs\u001b[39m=\u001b[39;49m\u001b[39mself\u001b[39;49m\u001b[39m.\u001b[39;49mAS_appdata)\u001b[39m.\u001b[39;49msend(timeout, sendflags)\n\u001b[1;32m    480\u001b[0m \u001b[39mexcept\u001b[39;00m aem\u001b[39m.\u001b[39mEventError \u001b[39mas\u001b[39;00m e:\n",
      "File \u001b[0;32m~/Developer/TACIT/ALMA-TACIT/venv/lib/python3.10/site-packages/aeosa/aem/aemsend.py:92\u001b[0m, in \u001b[0;36mEvent.send\u001b[0;34m(self, timeout, flags)\u001b[0m\n\u001b[1;32m     91\u001b[0m \t\t\terrormsg \u001b[39m=\u001b[39m _defaultcodecs\u001b[39m.\u001b[39munpack(errormsg)\n\u001b[0;32m---> 92\u001b[0m \t\t\u001b[39mraise\u001b[39;00m EventError(errornum, errormsg, eventresult)\n\u001b[1;32m     93\u001b[0m \u001b[39mif\u001b[39;00m kae\u001b[39m.\u001b[39mkeyAEResult \u001b[39min\u001b[39;00m eventresult: \u001b[39m# application has returned a value\u001b[39;00m\n\u001b[1;32m     94\u001b[0m \t\u001b[39m# note: unpack result with [optionally] user-specified codecs, allowing clients to customise unpacking (e.g. appscript)\u001b[39;00m\n",
      "\u001b[0;31mEventError\u001b[0m: Command failed: The object you are trying to access does not exist (-1728)",
      "\nThe above exception was the direct cause of the following exception:\n",
      "\u001b[0;31mCommandError\u001b[0m                              Traceback (most recent call last)",
      "Cell \u001b[0;32mIn[141], line 1\u001b[0m\n\u001b[0;32m----> 1\u001b[0m get_color_text \u001b[39m=\u001b[39m combined_wb\u001b[39m.\u001b[39;49mmacro(\u001b[39m\"\u001b[39;49m\u001b[39mGetColorText\u001b[39;49m\u001b[39m\"\u001b[39;49m)\n\u001b[1;32m      2\u001b[0m get_color_text(\u001b[39m14\u001b[39m,\u001b[39m4\u001b[39m)\n",
      "File \u001b[0;32m~/Developer/TACIT/ALMA-TACIT/venv/lib/python3.10/site-packages/xlwings/main.py:1097\u001b[0m, in \u001b[0;36mBook.macro\u001b[0;34m(self, name)\u001b[0m\n\u001b[1;32m   1066\u001b[0m \u001b[39mdef\u001b[39;00m \u001b[39mmacro\u001b[39m(\u001b[39mself\u001b[39m, name):\n\u001b[1;32m   1067\u001b[0m \u001b[39m    \u001b[39m\u001b[39m\"\"\"\u001b[39;00m\n\u001b[1;32m   1068\u001b[0m \u001b[39m    Runs a Sub or Function in Excel VBA.\u001b[39;00m\n\u001b[1;32m   1069\u001b[0m \n\u001b[0;32m   (...)\u001b[0m\n\u001b[1;32m   1095\u001b[0m \u001b[39m    .. versionadded:: 0.7.1\u001b[39;00m\n\u001b[1;32m   1096\u001b[0m \u001b[39m    \"\"\"\u001b[39;00m\n\u001b[0;32m-> 1097\u001b[0m     \u001b[39mreturn\u001b[39;00m \u001b[39mself\u001b[39m\u001b[39m.\u001b[39mapp\u001b[39m.\u001b[39mmacro(\u001b[39m\"\u001b[39m\u001b[39m'\u001b[39m\u001b[39m{0}\u001b[39;00m\u001b[39m'\u001b[39m\u001b[39m!\u001b[39m\u001b[39m{1}\u001b[39;00m\u001b[39m\"\u001b[39m\u001b[39m.\u001b[39mformat(\u001b[39mself\u001b[39;49m\u001b[39m.\u001b[39;49mname, name))\n",
      "File \u001b[0;32m~/Developer/TACIT/ALMA-TACIT/venv/lib/python3.10/site-packages/xlwings/main.py:1104\u001b[0m, in \u001b[0;36mBook.name\u001b[0;34m(self)\u001b[0m\n\u001b[1;32m   1099\u001b[0m \u001b[39m@property\u001b[39m\n\u001b[1;32m   1100\u001b[0m \u001b[39mdef\u001b[39;00m \u001b[39mname\u001b[39m(\u001b[39mself\u001b[39m):\n\u001b[1;32m   1101\u001b[0m \u001b[39m    \u001b[39m\u001b[39m\"\"\"\u001b[39;00m\n\u001b[1;32m   1102\u001b[0m \u001b[39m    Returns the name of the book as str.\u001b[39;00m\n\u001b[1;32m   1103\u001b[0m \u001b[39m    \"\"\"\u001b[39;00m\n\u001b[0;32m-> 1104\u001b[0m     \u001b[39mreturn\u001b[39;00m \u001b[39mself\u001b[39;49m\u001b[39m.\u001b[39;49mimpl\u001b[39m.\u001b[39;49mname\n",
      "File \u001b[0;32m~/Developer/TACIT/ALMA-TACIT/venv/lib/python3.10/site-packages/xlwings/_xlmac.py:496\u001b[0m, in \u001b[0;36mBook.name\u001b[0;34m(self)\u001b[0m\n\u001b[1;32m    494\u001b[0m \u001b[39m@property\u001b[39m\n\u001b[1;32m    495\u001b[0m \u001b[39mdef\u001b[39;00m \u001b[39mname\u001b[39m(\u001b[39mself\u001b[39m):\n\u001b[0;32m--> 496\u001b[0m     \u001b[39mreturn\u001b[39;00m \u001b[39mself\u001b[39;49m\u001b[39m.\u001b[39;49mxl\u001b[39m.\u001b[39;49mname\u001b[39m.\u001b[39;49mget()\n",
      "File \u001b[0;32m~/Developer/TACIT/ALMA-TACIT/venv/lib/python3.10/site-packages/aeosa/appscript/reference.py:515\u001b[0m, in \u001b[0;36mCommand.__call__\u001b[0;34m(self, *args, **kargs)\u001b[0m\n\u001b[1;32m    513\u001b[0m \t\t\t\u001b[39mreturn\u001b[39;00m\n\u001b[1;32m    514\u001b[0m \t\t\u001b[39mraise\u001b[39;00m CommandError(\u001b[39mself\u001b[39m, (args, kargs), e, \u001b[39mself\u001b[39m\u001b[39m.\u001b[39mAS_appdata) \u001b[39mfrom\u001b[39;00m \u001b[39me\u001b[39;00m\n\u001b[0;32m--> 515\u001b[0m \u001b[39mraise\u001b[39;00m CommandError(\u001b[39mself\u001b[39m, (args, kargs), e, \u001b[39mself\u001b[39m\u001b[39m.\u001b[39mAS_appdata) \u001b[39mfrom\u001b[39;00m \u001b[39me\u001b[39;00m\n",
      "\u001b[0;31mCommandError\u001b[0m: Command failed:\n\t\tOSERROR: -1728\n\t\tMESSAGE: The object you are trying to access does not exist\n\t\tCOMMAND: app(pid=79082).workbooks['combined.xlsx'].name.get()"
     ]
    }
   ],
   "source": [
    "get_color_text = combined_wb.macro(\"GetColorText\")\n",
    "get_color_text(14,4)"
   ]
  },
  {
   "cell_type": "code",
   "execution_count": 144,
   "metadata": {},
   "outputs": [
    {
     "ename": "FileNotFoundError",
     "evalue": "No such file: './data/reconciliation_temp/combined.xlsm'",
     "output_type": "error",
     "traceback": [
      "\u001b[0;31m---------------------------------------------------------------------------\u001b[0m",
      "\u001b[0;31mFileNotFoundError\u001b[0m                         Traceback (most recent call last)",
      "Cell \u001b[0;32mIn[144], line 1\u001b[0m\n\u001b[0;32m----> 1\u001b[0m combined_wb \u001b[39m=\u001b[39m xw\u001b[39m.\u001b[39;49mBook(\u001b[39m\"\u001b[39;49m\u001b[39m./data/reconciliation_temp/combined.xlsm\u001b[39;49m\u001b[39m\"\u001b[39;49m)\n\u001b[1;32m      2\u001b[0m combined_sheet \u001b[39m=\u001b[39m combined_wb\u001b[39m.\u001b[39msheets\u001b[39m.\u001b[39mactive\n",
      "File \u001b[0;32m~/Developer/TACIT/ALMA-TACIT/venv/lib/python3.10/site-packages/xlwings/main.py:927\u001b[0m, in \u001b[0;36mBook.__init__\u001b[0;34m(self, fullname, update_links, read_only, format, password, write_res_password, ignore_read_only_recommended, origin, delimiter, editable, notify, converter, add_to_mru, local, corrupt_load, impl, json, mode, engine)\u001b[0m\n\u001b[1;32m    925\u001b[0m     \u001b[39mif\u001b[39;00m \u001b[39mnot\u001b[39;00m app:\n\u001b[1;32m    926\u001b[0m         app \u001b[39m=\u001b[39m App(add_book\u001b[39m=\u001b[39m\u001b[39mFalse\u001b[39;00m)\n\u001b[0;32m--> 927\u001b[0m     impl \u001b[39m=\u001b[39m app\u001b[39m.\u001b[39;49mbooks\u001b[39m.\u001b[39;49mopen(\n\u001b[1;32m    928\u001b[0m         fullname,\n\u001b[1;32m    929\u001b[0m         update_links,\n\u001b[1;32m    930\u001b[0m         read_only,\n\u001b[1;32m    931\u001b[0m         \u001b[39mformat\u001b[39;49m,\n\u001b[1;32m    932\u001b[0m         password,\n\u001b[1;32m    933\u001b[0m         write_res_password,\n\u001b[1;32m    934\u001b[0m         ignore_read_only_recommended,\n\u001b[1;32m    935\u001b[0m         origin,\n\u001b[1;32m    936\u001b[0m         delimiter,\n\u001b[1;32m    937\u001b[0m         editable,\n\u001b[1;32m    938\u001b[0m         notify,\n\u001b[1;32m    939\u001b[0m         converter,\n\u001b[1;32m    940\u001b[0m         add_to_mru,\n\u001b[1;32m    941\u001b[0m         local,\n\u001b[1;32m    942\u001b[0m         corrupt_load,\n\u001b[1;32m    943\u001b[0m     )\u001b[39m.\u001b[39mimpl\n\u001b[1;32m    944\u001b[0m \u001b[39melif\u001b[39;00m \u001b[39mlen\u001b[39m(candidates) \u001b[39m>\u001b[39m \u001b[39m1\u001b[39m:\n\u001b[1;32m    945\u001b[0m     \u001b[39mraise\u001b[39;00m \u001b[39mException\u001b[39;00m(\n\u001b[1;32m    946\u001b[0m         \u001b[39m\"\u001b[39m\u001b[39mWorkbook \u001b[39m\u001b[39m'\u001b[39m\u001b[39m%s\u001b[39;00m\u001b[39m'\u001b[39m\u001b[39m is open in more than one Excel instance.\u001b[39m\u001b[39m\"\u001b[39m\n\u001b[1;32m    947\u001b[0m         \u001b[39m%\u001b[39m fullname\n\u001b[1;32m    948\u001b[0m     )\n",
      "File \u001b[0;32m~/Developer/TACIT/ALMA-TACIT/venv/lib/python3.10/site-packages/xlwings/main.py:5048\u001b[0m, in \u001b[0;36mBooks.open\u001b[0;34m(self, fullname, update_links, read_only, format, password, write_res_password, ignore_read_only_recommended, origin, delimiter, editable, notify, converter, add_to_mru, local, corrupt_load, json)\u001b[0m\n\u001b[1;32m   5046\u001b[0m fullname \u001b[39m=\u001b[39m utils\u001b[39m.\u001b[39mfspath(fullname)\n\u001b[1;32m   5047\u001b[0m \u001b[39mif\u001b[39;00m \u001b[39mnot\u001b[39;00m os\u001b[39m.\u001b[39mpath\u001b[39m.\u001b[39mexists(fullname):\n\u001b[0;32m-> 5048\u001b[0m     \u001b[39mraise\u001b[39;00m \u001b[39mFileNotFoundError\u001b[39;00m(\u001b[39m\"\u001b[39m\u001b[39mNo such file: \u001b[39m\u001b[39m'\u001b[39m\u001b[39m%s\u001b[39;00m\u001b[39m'\u001b[39m\u001b[39m\"\u001b[39m \u001b[39m%\u001b[39m fullname)\n\u001b[1;32m   5049\u001b[0m fullname \u001b[39m=\u001b[39m os\u001b[39m.\u001b[39mpath\u001b[39m.\u001b[39mrealpath(fullname)\n\u001b[1;32m   5050\u001b[0m _, name \u001b[39m=\u001b[39m os\u001b[39m.\u001b[39mpath\u001b[39m.\u001b[39msplit(fullname)\n",
      "\u001b[0;31mFileNotFoundError\u001b[0m: No such file: './data/reconciliation_temp/combined.xlsm'"
     ]
    }
   ],
   "source": [
    "combined_wb = xw.Book(\"./data/reconciliation_temp/combined.xlsm\")\n",
    "combined_sheet = combined_wb.sheets.active\n",
    "\n"
   ]
  }
 ],
 "metadata": {
  "kernelspec": {
   "display_name": "venv",
   "language": "python",
   "name": "python3"
  },
  "language_info": {
   "codemirror_mode": {
    "name": "ipython",
    "version": 3
   },
   "file_extension": ".py",
   "mimetype": "text/x-python",
   "name": "python",
   "nbconvert_exporter": "python",
   "pygments_lexer": "ipython3",
   "version": "3.10.12"
  },
  "orig_nbformat": 4
 },
 "nbformat": 4,
 "nbformat_minor": 2
}
