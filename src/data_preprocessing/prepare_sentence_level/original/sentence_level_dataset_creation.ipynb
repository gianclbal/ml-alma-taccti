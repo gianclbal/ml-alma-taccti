{
 "cells": [
  {
   "cell_type": "code",
   "execution_count": 2,
   "metadata": {},
   "outputs": [
    {
     "data": {
      "application/vnd.jupyter.widget-view+json": {
       "model_id": "04d4941c48944495b268bc0e15681991",
       "version_major": 2,
       "version_minor": 0
      },
      "text/plain": [
       "Downloading https://raw.githubusercontent.com/stanfordnlp/stanza-resources/main/resources_1.8.0.json:   0%|   …"
      ]
     },
     "metadata": {},
     "output_type": "display_data"
    },
    {
     "name": "stderr",
     "output_type": "stream",
     "text": [
      "2024-07-10 15:44:29 INFO: Downloaded file to /Users/gbaldonado/stanza_resources/resources.json\n",
      "2024-07-10 15:44:29 INFO: Downloading default packages for language: en (English) ...\n"
     ]
    },
    {
     "data": {
      "application/vnd.jupyter.widget-view+json": {
       "model_id": "d5e0b0e8cbc44a64a46cfd4db1559a39",
       "version_major": 2,
       "version_minor": 0
      },
      "text/plain": [
       "Downloading https://huggingface.co/stanfordnlp/stanza-en/resolve/v1.8.0/models/default.zip:   0%|          | 0…"
      ]
     },
     "metadata": {},
     "output_type": "display_data"
    },
    {
     "name": "stderr",
     "output_type": "stream",
     "text": [
      "2024-07-10 15:44:44 INFO: Downloaded file to /Users/gbaldonado/stanza_resources/en/default.zip\n"
     ]
    }
   ],
   "source": [
    "import pandas as pd\n",
    "import re\n",
    "import csv\n",
    "from nltk import word_tokenize,pos_tag\n",
    "from nltk.stem import WordNetLemmatizer\n",
    "from nltk.corpus import stopwords \n",
    "from nltk import stem\n",
    "from nltk import sent_tokenize\n",
    "\n",
    "\n",
    "import stanza\n",
    "stanza.download('en') # download English model\n",
    "nlp = stanza.Pipeline('en') # initialize English neural pipeline\n",
    "doc = nlp(\"Barack Obama was born in Hawaii.\") # run annotation over a sentence\n",
    "from sklearn.model_selection import train_test_split"
   ]
  },
  {
   "cell_type": "markdown",
   "metadata": {},
   "source": [
    "##### Stanford Core NLP\n",
    "* We need to download the [Stanford core nlp](https://stanfordnlp.github.io/CoreNLP/download.html) package before we can start with the dataset creation process.  \n",
    "``\n",
    "cd /Users/krishns18/SFSU/Modeling_ALMA/corenlp/stanford-corenlp-4.0.0\n",
    "java -mx4g -cp \"*\" edu.stanford.nlp.pipeline.StanfordCoreNLPServer\n",
    "``   \n",
    "* The server will start and the command prompt will display like below   \n",
    "``\n",
    "(base) Shaileshs-MBP:stanford-corenlp-4.0.0 krishns18$ java -mx4g -cp \"*\" edu.stanford.nlp.pipeline.StanfordCoreNLPServer\n",
    "[main] INFO CoreNLP - --- StanfordCoreNLPServer#main() called ---\n",
    "[main] INFO CoreNLP - Warning: cannot find edu/stanford/nlp/models/srparser/englishSR.ser.gz\n",
    "[main] INFO CoreNLP - Setting default constituency parser to PCFG parser: edu/stanford/nlp/models/lexparser/englishPCFG.ser.gz\n",
    "[main] INFO CoreNLP - To use shift reduce parser download English models jar from:\n",
    "[main] INFO CoreNLP - https://stanfordnlp.github.io/CoreNLP/download.html\n",
    "[main] INFO CoreNLP -     Threads: 16\n",
    "[main] INFO CoreNLP - Starting server...\n",
    "[main] INFO CoreNLP - StanfordCoreNLPServer listening at /0:0:0:0:0:0:0:0:9000\n",
    "``"
   ]
  },
  {
   "cell_type": "code",
   "execution_count": 34,
   "metadata": {},
   "outputs": [],
   "source": [
    "nlp = StanfordCoreNLP('http://localhost:9000')"
   ]
  },
  {
   "cell_type": "code",
   "execution_count": 4,
   "metadata": {},
   "outputs": [],
   "source": [
    "lemmatizer = WordNetLemmatizer()\n",
    "stop_words = set(stopwords.words('english'))"
   ]
  },
  {
   "cell_type": "markdown",
   "metadata": {},
   "source": [
    "**Read the essays**"
   ]
  },
  {
   "cell_type": "code",
   "execution_count": 5,
   "metadata": {},
   "outputs": [],
   "source": [
    "# Read the essays and create a dataframe\n",
    "df = pd.concat(pd.read_excel('data/annotated_xlsx/Attainment_CapitalsPilot_Fall2019.xlsx', sheet_name=None),ignore_index=True,sort=False)"
   ]
  },
  {
   "cell_type": "code",
   "execution_count": 6,
   "metadata": {},
   "outputs": [
    {
     "data": {
      "text/plain": [
       "(570, 4)"
      ]
     },
     "execution_count": 6,
     "metadata": {},
     "output_type": "execute_result"
    }
   ],
   "source": [
    "df.shape"
   ]
  },
  {
   "cell_type": "code",
   "execution_count": 7,
   "metadata": {},
   "outputs": [
    {
     "data": {
      "text/html": [
       "<div>\n",
       "<style scoped>\n",
       "    .dataframe tbody tr th:only-of-type {\n",
       "        vertical-align: middle;\n",
       "    }\n",
       "\n",
       "    .dataframe tbody tr th {\n",
       "        vertical-align: top;\n",
       "    }\n",
       "\n",
       "    .dataframe thead th {\n",
       "        text-align: right;\n",
       "    }\n",
       "</style>\n",
       "<table border=\"1\" class=\"dataframe\">\n",
       "  <thead>\n",
       "    <tr style=\"text-align: right;\">\n",
       "      <th></th>\n",
       "      <th>ID CODE</th>\n",
       "      <th>Essay : Why am I here</th>\n",
       "      <th>Attainment - FINAL</th>\n",
       "      <th>First Gen - FINAL</th>\n",
       "    </tr>\n",
       "  </thead>\n",
       "  <tbody>\n",
       "    <tr>\n",
       "      <th>0</th>\n",
       "      <td>pilot_study_01</td>\n",
       "      <td>I am here to get my BS in Physiology, so I can...</td>\n",
       "      <td>I am here to get my BS in physiology so I can ...</td>\n",
       "      <td>0</td>\n",
       "    </tr>\n",
       "    <tr>\n",
       "      <th>1</th>\n",
       "      <td>pilot_study_02</td>\n",
       "      <td>I want to stay in my community &amp; help educate ...</td>\n",
       "      <td>0</td>\n",
       "      <td>0</td>\n",
       "    </tr>\n",
       "    <tr>\n",
       "      <th>2</th>\n",
       "      <td>pilot_study_03</td>\n",
       "      <td>I am here to provide myself with opportunities...</td>\n",
       "      <td>0</td>\n",
       "      <td>0</td>\n",
       "    </tr>\n",
       "    <tr>\n",
       "      <th>3</th>\n",
       "      <td>pilot_study_04</td>\n",
       "      <td>I am here to figure out what I want to do with...</td>\n",
       "      <td>0</td>\n",
       "      <td>0</td>\n",
       "    </tr>\n",
       "    <tr>\n",
       "      <th>4</th>\n",
       "      <td>pilot_study_05</td>\n",
       "      <td>I am here at San Francisco State because I wan...</td>\n",
       "      <td>0</td>\n",
       "      <td>0</td>\n",
       "    </tr>\n",
       "  </tbody>\n",
       "</table>\n",
       "</div>"
      ],
      "text/plain": [
       "          ID CODE                              Essay : Why am I here  \\\n",
       "0  pilot_study_01  I am here to get my BS in Physiology, so I can...   \n",
       "1  pilot_study_02  I want to stay in my community & help educate ...   \n",
       "2  pilot_study_03  I am here to provide myself with opportunities...   \n",
       "3  pilot_study_04  I am here to figure out what I want to do with...   \n",
       "4  pilot_study_05  I am here at San Francisco State because I wan...   \n",
       "\n",
       "                                  Attainment - FINAL First Gen - FINAL  \n",
       "0  I am here to get my BS in physiology so I can ...                 0  \n",
       "1                                                  0                 0  \n",
       "2                                                  0                 0  \n",
       "3                                                  0                 0  \n",
       "4                                                  0                 0  "
      ]
     },
     "execution_count": 7,
     "metadata": {},
     "output_type": "execute_result"
    }
   ],
   "source": [
    "df.head()"
   ]
  },
  {
   "cell_type": "markdown",
   "metadata": {},
   "source": [
    "**Creating a separate dataset for Attainment**"
   ]
  },
  {
   "cell_type": "code",
   "execution_count": 8,
   "metadata": {},
   "outputs": [],
   "source": [
    "attainment_df = df.copy()"
   ]
  },
  {
   "cell_type": "code",
   "execution_count": 9,
   "metadata": {},
   "outputs": [
    {
     "data": {
      "text/html": [
       "<div>\n",
       "<style scoped>\n",
       "    .dataframe tbody tr th:only-of-type {\n",
       "        vertical-align: middle;\n",
       "    }\n",
       "\n",
       "    .dataframe tbody tr th {\n",
       "        vertical-align: top;\n",
       "    }\n",
       "\n",
       "    .dataframe thead th {\n",
       "        text-align: right;\n",
       "    }\n",
       "</style>\n",
       "<table border=\"1\" class=\"dataframe\">\n",
       "  <thead>\n",
       "    <tr style=\"text-align: right;\">\n",
       "      <th></th>\n",
       "      <th>ID CODE</th>\n",
       "      <th>Essay : Why am I here</th>\n",
       "      <th>Attainment - FINAL</th>\n",
       "    </tr>\n",
       "  </thead>\n",
       "  <tbody>\n",
       "    <tr>\n",
       "      <th>0</th>\n",
       "      <td>pilot_study_01</td>\n",
       "      <td>I am here to get my BS in Physiology, so I can...</td>\n",
       "      <td>I am here to get my BS in physiology so I can ...</td>\n",
       "    </tr>\n",
       "    <tr>\n",
       "      <th>1</th>\n",
       "      <td>pilot_study_02</td>\n",
       "      <td>I want to stay in my community &amp; help educate ...</td>\n",
       "      <td>0</td>\n",
       "    </tr>\n",
       "    <tr>\n",
       "      <th>2</th>\n",
       "      <td>pilot_study_03</td>\n",
       "      <td>I am here to provide myself with opportunities...</td>\n",
       "      <td>0</td>\n",
       "    </tr>\n",
       "    <tr>\n",
       "      <th>3</th>\n",
       "      <td>pilot_study_04</td>\n",
       "      <td>I am here to figure out what I want to do with...</td>\n",
       "      <td>0</td>\n",
       "    </tr>\n",
       "    <tr>\n",
       "      <th>4</th>\n",
       "      <td>pilot_study_05</td>\n",
       "      <td>I am here at San Francisco State because I wan...</td>\n",
       "      <td>0</td>\n",
       "    </tr>\n",
       "  </tbody>\n",
       "</table>\n",
       "</div>"
      ],
      "text/plain": [
       "          ID CODE                              Essay : Why am I here  \\\n",
       "0  pilot_study_01  I am here to get my BS in Physiology, so I can...   \n",
       "1  pilot_study_02  I want to stay in my community & help educate ...   \n",
       "2  pilot_study_03  I am here to provide myself with opportunities...   \n",
       "3  pilot_study_04  I am here to figure out what I want to do with...   \n",
       "4  pilot_study_05  I am here at San Francisco State because I wan...   \n",
       "\n",
       "                                  Attainment - FINAL  \n",
       "0  I am here to get my BS in physiology so I can ...  \n",
       "1                                                  0  \n",
       "2                                                  0  \n",
       "3                                                  0  \n",
       "4                                                  0  "
      ]
     },
     "execution_count": 9,
     "metadata": {},
     "output_type": "execute_result"
    }
   ],
   "source": [
    "# dropping the first gen column from attainment dataset.\n",
    "attainment_df = attainment_df.drop(columns=['First Gen - FINAL'])\n",
    "attainment_df.head()"
   ]
  },
  {
   "cell_type": "code",
   "execution_count": 10,
   "metadata": {},
   "outputs": [],
   "source": [
    "# drop essays which do not contain attainment\n",
    "attainment_df = attainment_df[~attainment_df['Attainment - FINAL'].isin([0, '-', 'Unable to code'])]"
   ]
  },
  {
   "cell_type": "code",
   "execution_count": 11,
   "metadata": {},
   "outputs": [],
   "source": [
    "attainment_df = attainment_df.dropna() # drop null"
   ]
  },
  {
   "cell_type": "code",
   "execution_count": 12,
   "metadata": {},
   "outputs": [
    {
     "data": {
      "text/plain": [
       "(185, 3)"
      ]
     },
     "execution_count": 12,
     "metadata": {},
     "output_type": "execute_result"
    }
   ],
   "source": [
    "attainment_df.shape"
   ]
  },
  {
   "cell_type": "code",
   "execution_count": 13,
   "metadata": {},
   "outputs": [
    {
     "data": {
      "text/html": [
       "<div>\n",
       "<style scoped>\n",
       "    .dataframe tbody tr th:only-of-type {\n",
       "        vertical-align: middle;\n",
       "    }\n",
       "\n",
       "    .dataframe tbody tr th {\n",
       "        vertical-align: top;\n",
       "    }\n",
       "\n",
       "    .dataframe thead th {\n",
       "        text-align: right;\n",
       "    }\n",
       "</style>\n",
       "<table border=\"1\" class=\"dataframe\">\n",
       "  <thead>\n",
       "    <tr style=\"text-align: right;\">\n",
       "      <th></th>\n",
       "      <th>ID CODE</th>\n",
       "      <th>Essay : Why am I here</th>\n",
       "      <th>Attainment - FINAL</th>\n",
       "    </tr>\n",
       "  </thead>\n",
       "  <tbody>\n",
       "    <tr>\n",
       "      <th>0</th>\n",
       "      <td>pilot_study_01</td>\n",
       "      <td>I am here to get my BS in Physiology, so I can...</td>\n",
       "      <td>I am here to get my BS in physiology so I can ...</td>\n",
       "    </tr>\n",
       "    <tr>\n",
       "      <th>8</th>\n",
       "      <td>pilot_study_09</td>\n",
       "      <td>I’m here to learn and to be on the path toward...</td>\n",
       "      <td>I’m here to learn and to be on the path toward...</td>\n",
       "    </tr>\n",
       "    <tr>\n",
       "      <th>9</th>\n",
       "      <td>pilot_study_10</td>\n",
       "      <td>I am in SFSU because I want to go to medical s...</td>\n",
       "      <td>I am in SFSU because I want to go to medical s...</td>\n",
       "    </tr>\n",
       "    <tr>\n",
       "      <th>11</th>\n",
       "      <td>pilot_study_12</td>\n",
       "      <td>I am here in SFSU because I am the first gener...</td>\n",
       "      <td>My goal is to graduate with a degree B.A./B.S.</td>\n",
       "    </tr>\n",
       "    <tr>\n",
       "      <th>13</th>\n",
       "      <td>pilot_study_14</td>\n",
       "      <td>I am here because of my goal in trying to get ...</td>\n",
       "      <td>I am here because of my goal in trying to get ...</td>\n",
       "    </tr>\n",
       "    <tr>\n",
       "      <th>...</th>\n",
       "      <td>...</td>\n",
       "      <td>...</td>\n",
       "      <td>...</td>\n",
       "    </tr>\n",
       "    <tr>\n",
       "      <th>551</th>\n",
       "      <td>F19.PHYS232.07.23</td>\n",
       "      <td>I'm here because of prerequisite for my comput...</td>\n",
       "      <td>And my dream job is to be a software engineer.</td>\n",
       "    </tr>\n",
       "    <tr>\n",
       "      <th>559</th>\n",
       "      <td>F19.PHYS232.09.08</td>\n",
       "      <td>The reason I am here is to do experiments and ...</td>\n",
       "      <td>I am an aspiring Engineer and I love doing ex...</td>\n",
       "    </tr>\n",
       "    <tr>\n",
       "      <th>561</th>\n",
       "      <td>F19.PHYS232.09.10</td>\n",
       "      <td>I am in college to further my education. There...</td>\n",
       "      <td>I am studying to become an electrical engineer.</td>\n",
       "    </tr>\n",
       "    <tr>\n",
       "      <th>562</th>\n",
       "      <td>F19.PHYS242.05.01</td>\n",
       "      <td>I am here at SFSU for a multitude of reasons. ...</td>\n",
       "      <td>My second is to receive a degree in Engineerin...</td>\n",
       "    </tr>\n",
       "    <tr>\n",
       "      <th>565</th>\n",
       "      <td>F19.PHYS242.05.04</td>\n",
       "      <td>Why am I here? †I am at San Francisco State Un...</td>\n",
       "      <td>I am at San Francisco State University to get ...</td>\n",
       "    </tr>\n",
       "  </tbody>\n",
       "</table>\n",
       "<p>185 rows × 3 columns</p>\n",
       "</div>"
      ],
      "text/plain": [
       "               ID CODE                              Essay : Why am I here  \\\n",
       "0       pilot_study_01  I am here to get my BS in Physiology, so I can...   \n",
       "8       pilot_study_09  I’m here to learn and to be on the path toward...   \n",
       "9       pilot_study_10  I am in SFSU because I want to go to medical s...   \n",
       "11      pilot_study_12  I am here in SFSU because I am the first gener...   \n",
       "13      pilot_study_14  I am here because of my goal in trying to get ...   \n",
       "..                 ...                                                ...   \n",
       "551  F19.PHYS232.07.23  I'm here because of prerequisite for my comput...   \n",
       "559  F19.PHYS232.09.08  The reason I am here is to do experiments and ...   \n",
       "561  F19.PHYS232.09.10  I am in college to further my education. There...   \n",
       "562  F19.PHYS242.05.01  I am here at SFSU for a multitude of reasons. ...   \n",
       "565  F19.PHYS242.05.04  Why am I here? †I am at San Francisco State Un...   \n",
       "\n",
       "                                    Attainment - FINAL  \n",
       "0    I am here to get my BS in physiology so I can ...  \n",
       "8    I’m here to learn and to be on the path toward...  \n",
       "9    I am in SFSU because I want to go to medical s...  \n",
       "11     My goal is to graduate with a degree B.A./B.S.   \n",
       "13   I am here because of my goal in trying to get ...  \n",
       "..                                                 ...  \n",
       "551     And my dream job is to be a software engineer.  \n",
       "559   I am an aspiring Engineer and I love doing ex...  \n",
       "561    I am studying to become an electrical engineer.  \n",
       "562  My second is to receive a degree in Engineerin...  \n",
       "565  I am at San Francisco State University to get ...  \n",
       "\n",
       "[185 rows x 3 columns]"
      ]
     },
     "execution_count": 13,
     "metadata": {},
     "output_type": "execute_result"
    }
   ],
   "source": [
    "attainment_df"
   ]
  },
  {
   "cell_type": "code",
   "execution_count": 14,
   "metadata": {},
   "outputs": [
    {
     "name": "stdout",
     "output_type": "stream",
     "text": [
      "Total number of essays containing attainment are: 185\n"
     ]
    }
   ],
   "source": [
    "# total number of essays\n",
    "print(\"Total number of essays containing attainment are: {}\".format(attainment_df.shape[0]))"
   ]
  },
  {
   "cell_type": "markdown",
   "metadata": {},
   "source": [
    "**Creating dataset for first generation**"
   ]
  },
  {
   "cell_type": "code",
   "execution_count": 15,
   "metadata": {},
   "outputs": [],
   "source": [
    "first_generation_df = df.copy()"
   ]
  },
  {
   "cell_type": "code",
   "execution_count": 16,
   "metadata": {},
   "outputs": [],
   "source": [
    "# dropping the attainment column from the dataset.\n",
    "first_generation_df = first_generation_df.drop(columns=['Attainment - FINAL'])"
   ]
  },
  {
   "cell_type": "code",
   "execution_count": 17,
   "metadata": {},
   "outputs": [
    {
     "data": {
      "text/plain": [
       "(570, 3)"
      ]
     },
     "execution_count": 17,
     "metadata": {},
     "output_type": "execute_result"
    }
   ],
   "source": [
    "first_generation_df.shape"
   ]
  },
  {
   "cell_type": "code",
   "execution_count": 18,
   "metadata": {},
   "outputs": [],
   "source": [
    "# drop essays which do not contain first generation\n",
    "first_generation_df = first_generation_df[~first_generation_df['First Gen - FINAL'].isin([0, '-', 'Unable to code'])]"
   ]
  },
  {
   "cell_type": "code",
   "execution_count": 19,
   "metadata": {},
   "outputs": [
    {
     "data": {
      "text/plain": [
       "(20, 3)"
      ]
     },
     "execution_count": 19,
     "metadata": {},
     "output_type": "execute_result"
    }
   ],
   "source": [
    "first_generation_df.shape"
   ]
  },
  {
   "cell_type": "code",
   "execution_count": 20,
   "metadata": {},
   "outputs": [],
   "source": [
    "first_generation_df = first_generation_df.dropna() # drop null"
   ]
  },
  {
   "cell_type": "code",
   "execution_count": 21,
   "metadata": {},
   "outputs": [
    {
     "data": {
      "text/plain": [
       "(19, 3)"
      ]
     },
     "execution_count": 21,
     "metadata": {},
     "output_type": "execute_result"
    }
   ],
   "source": [
    "first_generation_df.shape"
   ]
  },
  {
   "cell_type": "code",
   "execution_count": 22,
   "metadata": {},
   "outputs": [
    {
     "name": "stdout",
     "output_type": "stream",
     "text": [
      "Total number of essays containing first generation thematic code are: 19\n"
     ]
    }
   ],
   "source": [
    "# total number of essays\n",
    "print(\"Total number of essays containing first generation thematic code are: {}\".format(first_generation_df.shape[0]))"
   ]
  },
  {
   "cell_type": "markdown",
   "metadata": {},
   "source": [
    "**Data Preparation**  \n",
    "1. Get noun and adjective"
   ]
  },
  {
   "cell_type": "code",
   "execution_count": 23,
   "metadata": {},
   "outputs": [],
   "source": [
    "def get_noun_adj(phrase):\n",
    "    noun_adj = []\n",
    "    for tag in pos_tag(phrase.split()):\n",
    "        if tag[1] in ['NN','NNP','NNS', 'NNPS','JJ', 'JJR', 'JJS']:\n",
    "            noun_adj.append(tag[0])\n",
    "    return  noun_adj"
   ]
  },
  {
   "cell_type": "markdown",
   "metadata": {},
   "source": [
    "2. Get NER from sentence\n",
    "    - Need to have the corenlp server up and running"
   ]
  },
  {
   "cell_type": "code",
   "execution_count": 50,
   "metadata": {},
   "outputs": [],
   "source": [
    "# Need to have corenlp server running\n",
    "def get_ner(text):\n",
    "    doc = nlp(text)\n",
    "    ner_list = [ent.text for sent in doc.sentences for ent in sent.ents]\n",
    "    return ner_list"
   ]
  },
  {
   "cell_type": "code",
   "execution_count": 56,
   "metadata": {},
   "outputs": [
    {
     "data": {
      "text/plain": [
       "['Barack Obama', 'Hawaii']"
      ]
     },
     "execution_count": 56,
     "metadata": {},
     "output_type": "execute_result"
    }
   ],
   "source": [
    "sample_sentence = \"Barack Obama was born in Hawaii\"\n",
    "\n",
    "get_ner(sample_sentence)"
   ]
  },
  {
   "cell_type": "markdown",
   "metadata": {},
   "source": [
    "3. Get sentence label\n",
    "    1. Look for exact match\n",
    "    2. Check for NER in phrase (title/profession/scientific fields) and check if those exist in the sentence\n",
    "    3. Get the nouns and adjectives and check if those exist in the sentence"
   ]
  },
  {
   "cell_type": "code",
   "execution_count": 57,
   "metadata": {},
   "outputs": [],
   "source": [
    "def get_sentence_label(essay_sentence, phrase): \n",
    "    # 1. look for the exact match of the phrase in the sentence\n",
    "    match = re.search('.*%s.*' %phrase,essay_sentence, re.IGNORECASE)\n",
    "    #print(essay_sentence)\n",
    "    if match:\n",
    "        return 1\n",
    "    else:        \n",
    "        # 2. check for NER in phrase (title /profession/ scientific fields) check if those exist in sentence\n",
    "        ner_list = get_ner(phrase)\n",
    "        ner_found_flag = None\n",
    "        if len(ner_list) == 0:\n",
    "            ner_found_flag = 0\n",
    "        else: \n",
    "            for ner in ner_list:\n",
    "                if not (re.search('.*%s.*' %ner, essay_sentence)):\n",
    "                    ner_found_flag = 0\n",
    "                    break\n",
    "                else:\n",
    "                    ner_found_flag = 1\n",
    "        if ner_found_flag:\n",
    "            return 1\n",
    "        else:\n",
    "            # 3. Else get the nouns and adjectives and check if those present in the sentence\n",
    "            noun_adj_phrase = get_noun_adj(phrase)\n",
    "            all_pos_found = None\n",
    "            for pos in noun_adj_phrase:\n",
    "                if pos not in essay_sentence:\n",
    "                    all_pos_found = 0\n",
    "                    break\n",
    "                else:\n",
    "                    all_pos_found = 1\n",
    "            if all_pos_found == 1:\n",
    "                return 1\n",
    "            else:\n",
    "                return 0"
   ]
  },
  {
   "cell_type": "markdown",
   "metadata": {},
   "source": [
    "## Looking at example 1, index 0"
   ]
  },
  {
   "cell_type": "code",
   "execution_count": 30,
   "metadata": {},
   "outputs": [
    {
     "data": {
      "text/plain": [
       "'I am here to get my BS in Physiology, so I can get into Medical School. For this class, I am trying to make friends/connection with people who are trying to follow the same path. And also POTLUCK!!'"
      ]
     },
     "execution_count": 30,
     "metadata": {},
     "output_type": "execute_result"
    }
   ],
   "source": [
    "# entire essay\n",
    "attainment_df[\"Essay : Why am I here\"][0]"
   ]
  },
  {
   "cell_type": "code",
   "execution_count": 31,
   "metadata": {},
   "outputs": [
    {
     "data": {
      "text/plain": [
       "'I am here to get my BS in physiology so I can get into medical school.'"
      ]
     },
     "execution_count": 31,
     "metadata": {},
     "output_type": "execute_result"
    }
   ],
   "source": [
    "#sentencep positive for attainment\n",
    "attainment_df[\"Attainment - FINAL\"][0]"
   ]
  },
  {
   "cell_type": "markdown",
   "metadata": {},
   "source": [
    "**Generate csv file for Attainment**"
   ]
  },
  {
   "cell_type": "code",
   "execution_count": 60,
   "metadata": {},
   "outputs": [],
   "source": [
    "attainment_sentence_df = pd.DataFrame(columns=['sentence', 'label', 'phrase'])\n",
    "with open('data/csv/attainment_sentence_level_dataset.csv','w',newline='', encoding = 'UTF-8') as f:\n",
    "    writer = csv.writer(f)\n",
    "    writer.writerow(['sentence','phrases','label'])\n",
    "    for index,val in attainment_df.iterrows():\n",
    "        text = val['Essay : Why am I here'].rstrip('\\n\\r')\n",
    "        # using sent_tokenize from nltk to split the paragraphs into sentences.\n",
    "        temp_text = re.split('\\.|\\?|\\!',text) # text.split('.')\n",
    "        # annotation\n",
    "        annotation = val['Attainment - FINAL']\n",
    "        if '/%/' in annotation:\n",
    "            annotation = re.sub('/%/', '. ', annotation)\n",
    "        # annotation list\n",
    "        annotation_list = re.split('\\.|\\?|\\!',annotation) #annotation.split('.')\n",
    "        annotation_strip = [y.rstrip('\\r\\n') for y in annotation_list if y != '']\n",
    "        essay_strip = [x for x in temp_text if x !='']\n",
    "        \n",
    "        # remove the extra spaces before the sentences.\n",
    "        annotation_strip = [y.lstrip(\" \") for y in annotation_strip]\n",
    "        essay_strip = [x.lstrip(\" \") for x in essay_strip]\n",
    "        \n",
    "        # annotate the essay on sentence level.\n",
    "        for sentence in essay_strip:\n",
    "            if not (re.search('\\w',sentence)):\n",
    "                continue\n",
    "            if (len(sentence.split(' ')) < 3):\n",
    "                continue\n",
    "            for annotation_phrase in annotation_strip:\n",
    "                if len(annotation_phrase.split()) > 2:\n",
    "                    label = get_sentence_label(sentence,annotation_phrase)\n",
    "                    if label == 1:\n",
    "                        break\n",
    "            writer.writerow([sentence.lower(), annotation_strip, label])\n",
    "            # Create a new DataFrame with the row you want to add\n",
    "            new_row = pd.DataFrame([{'sentence': sentence.lower(), 'label': label, 'phrase': annotation_strip}])\n",
    "\n",
    "            # Concatenate the new row to the existing DataFrame\n",
    "            attainment_sentence_df = pd.concat([attainment_sentence_df, new_row], ignore_index=True)\n",
    "            # attainment_sentence_df = attainment_sentence_df.append({'sentence' : sentence.lower() , 'label': label , 'phrase':annotation_strip}, ignore_index=True)\n",
    "            #attainment_sentence_df = attainment_sentence_df.append({'sentence' : sentence , 'label': label , 'phrase':annotation_strip}, ignore_index=True)"
   ]
  },
  {
   "cell_type": "code",
   "execution_count": 59,
   "metadata": {},
   "outputs": [
    {
     "data": {
      "text/html": [
       "<div>\n",
       "<style scoped>\n",
       "    .dataframe tbody tr th:only-of-type {\n",
       "        vertical-align: middle;\n",
       "    }\n",
       "\n",
       "    .dataframe tbody tr th {\n",
       "        vertical-align: top;\n",
       "    }\n",
       "\n",
       "    .dataframe thead th {\n",
       "        text-align: right;\n",
       "    }\n",
       "</style>\n",
       "<table border=\"1\" class=\"dataframe\">\n",
       "  <thead>\n",
       "    <tr style=\"text-align: right;\">\n",
       "      <th></th>\n",
       "      <th>ID CODE</th>\n",
       "      <th>Essay : Why am I here</th>\n",
       "      <th>Attainment - FINAL</th>\n",
       "    </tr>\n",
       "  </thead>\n",
       "  <tbody>\n",
       "    <tr>\n",
       "      <th>0</th>\n",
       "      <td>pilot_study_01</td>\n",
       "      <td>I am here to get my BS in Physiology, so I can...</td>\n",
       "      <td>I am here to get my BS in physiology so I can ...</td>\n",
       "    </tr>\n",
       "    <tr>\n",
       "      <th>8</th>\n",
       "      <td>pilot_study_09</td>\n",
       "      <td>I’m here to learn and to be on the path toward...</td>\n",
       "      <td>I’m here to learn and to be on the path toward...</td>\n",
       "    </tr>\n",
       "    <tr>\n",
       "      <th>9</th>\n",
       "      <td>pilot_study_10</td>\n",
       "      <td>I am in SFSU because I want to go to medical s...</td>\n",
       "      <td>I am in SFSU because I want to go to medical s...</td>\n",
       "    </tr>\n",
       "    <tr>\n",
       "      <th>11</th>\n",
       "      <td>pilot_study_12</td>\n",
       "      <td>I am here in SFSU because I am the first gener...</td>\n",
       "      <td>My goal is to graduate with a degree B.A./B.S.</td>\n",
       "    </tr>\n",
       "    <tr>\n",
       "      <th>13</th>\n",
       "      <td>pilot_study_14</td>\n",
       "      <td>I am here because of my goal in trying to get ...</td>\n",
       "      <td>I am here because of my goal in trying to get ...</td>\n",
       "    </tr>\n",
       "    <tr>\n",
       "      <th>...</th>\n",
       "      <td>...</td>\n",
       "      <td>...</td>\n",
       "      <td>...</td>\n",
       "    </tr>\n",
       "    <tr>\n",
       "      <th>551</th>\n",
       "      <td>F19.PHYS232.07.23</td>\n",
       "      <td>I'm here because of prerequisite for my comput...</td>\n",
       "      <td>And my dream job is to be a software engineer.</td>\n",
       "    </tr>\n",
       "    <tr>\n",
       "      <th>559</th>\n",
       "      <td>F19.PHYS232.09.08</td>\n",
       "      <td>The reason I am here is to do experiments and ...</td>\n",
       "      <td>I am an aspiring Engineer and I love doing ex...</td>\n",
       "    </tr>\n",
       "    <tr>\n",
       "      <th>561</th>\n",
       "      <td>F19.PHYS232.09.10</td>\n",
       "      <td>I am in college to further my education. There...</td>\n",
       "      <td>I am studying to become an electrical engineer.</td>\n",
       "    </tr>\n",
       "    <tr>\n",
       "      <th>562</th>\n",
       "      <td>F19.PHYS242.05.01</td>\n",
       "      <td>I am here at SFSU for a multitude of reasons. ...</td>\n",
       "      <td>My second is to receive a degree in Engineerin...</td>\n",
       "    </tr>\n",
       "    <tr>\n",
       "      <th>565</th>\n",
       "      <td>F19.PHYS242.05.04</td>\n",
       "      <td>Why am I here? †I am at San Francisco State Un...</td>\n",
       "      <td>I am at San Francisco State University to get ...</td>\n",
       "    </tr>\n",
       "  </tbody>\n",
       "</table>\n",
       "<p>185 rows × 3 columns</p>\n",
       "</div>"
      ],
      "text/plain": [
       "               ID CODE                              Essay : Why am I here  \\\n",
       "0       pilot_study_01  I am here to get my BS in Physiology, so I can...   \n",
       "8       pilot_study_09  I’m here to learn and to be on the path toward...   \n",
       "9       pilot_study_10  I am in SFSU because I want to go to medical s...   \n",
       "11      pilot_study_12  I am here in SFSU because I am the first gener...   \n",
       "13      pilot_study_14  I am here because of my goal in trying to get ...   \n",
       "..                 ...                                                ...   \n",
       "551  F19.PHYS232.07.23  I'm here because of prerequisite for my comput...   \n",
       "559  F19.PHYS232.09.08  The reason I am here is to do experiments and ...   \n",
       "561  F19.PHYS232.09.10  I am in college to further my education. There...   \n",
       "562  F19.PHYS242.05.01  I am here at SFSU for a multitude of reasons. ...   \n",
       "565  F19.PHYS242.05.04  Why am I here? †I am at San Francisco State Un...   \n",
       "\n",
       "                                    Attainment - FINAL  \n",
       "0    I am here to get my BS in physiology so I can ...  \n",
       "8    I’m here to learn and to be on the path toward...  \n",
       "9    I am in SFSU because I want to go to medical s...  \n",
       "11     My goal is to graduate with a degree B.A./B.S.   \n",
       "13   I am here because of my goal in trying to get ...  \n",
       "..                                                 ...  \n",
       "551     And my dream job is to be a software engineer.  \n",
       "559   I am an aspiring Engineer and I love doing ex...  \n",
       "561    I am studying to become an electrical engineer.  \n",
       "562  My second is to receive a degree in Engineerin...  \n",
       "565  I am at San Francisco State University to get ...  \n",
       "\n",
       "[185 rows x 3 columns]"
      ]
     },
     "execution_count": 59,
     "metadata": {},
     "output_type": "execute_result"
    }
   ],
   "source": [
    "attainment_df"
   ]
  },
  {
   "cell_type": "code",
   "execution_count": 58,
   "metadata": {},
   "outputs": [
    {
     "data": {
      "text/html": [
       "<div>\n",
       "<style scoped>\n",
       "    .dataframe tbody tr th:only-of-type {\n",
       "        vertical-align: middle;\n",
       "    }\n",
       "\n",
       "    .dataframe tbody tr th {\n",
       "        vertical-align: top;\n",
       "    }\n",
       "\n",
       "    .dataframe thead th {\n",
       "        text-align: right;\n",
       "    }\n",
       "</style>\n",
       "<table border=\"1\" class=\"dataframe\">\n",
       "  <thead>\n",
       "    <tr style=\"text-align: right;\">\n",
       "      <th></th>\n",
       "      <th>sentence</th>\n",
       "      <th>label</th>\n",
       "      <th>phrase</th>\n",
       "    </tr>\n",
       "  </thead>\n",
       "  <tbody>\n",
       "  </tbody>\n",
       "</table>\n",
       "</div>"
      ],
      "text/plain": [
       "Empty DataFrame\n",
       "Columns: [sentence, label, phrase]\n",
       "Index: []"
      ]
     },
     "execution_count": 58,
     "metadata": {},
     "output_type": "execute_result"
    }
   ],
   "source": [
    "attainment_sentence_df"
   ]
  },
  {
   "cell_type": "code",
   "execution_count": 27,
   "metadata": {},
   "outputs": [
    {
     "name": "stdout",
     "output_type": "stream",
     "text": [
      "Positive labels present in the dataset : 253  out of 1413 or 17.905166312809627%\n"
     ]
    }
   ],
   "source": [
    "pos_labels = len([n for n in attainment_sentence_df['label'] if n==1])\n",
    "print(\"Positive labels present in the dataset : {}  out of {} or {}%\".format(pos_labels, len(attainment_sentence_df['label']), (pos_labels/len(attainment_sentence_df['label']))*100))\n"
   ]
  },
  {
   "cell_type": "code",
   "execution_count": 28,
   "metadata": {},
   "outputs": [],
   "source": [
    "train, test = train_test_split(attainment_sentence_df, test_size=0.1, random_state=18, stratify=attainment_sentence_df['label'])"
   ]
  },
  {
   "cell_type": "code",
   "execution_count": 29,
   "metadata": {},
   "outputs": [],
   "source": [
    "train.to_csv(\"data/csv/attainment_sentence_level_training_data.csv\", encoding='UTF-8', index=False)"
   ]
  },
  {
   "cell_type": "code",
   "execution_count": 30,
   "metadata": {},
   "outputs": [],
   "source": [
    "test.to_csv(\"data/csv/attainment_sentence_level_test_data.csv\",  encoding='UTF-8', index=False)"
   ]
  },
  {
   "cell_type": "code",
   "execution_count": 31,
   "metadata": {},
   "outputs": [
    {
     "name": "stdout",
     "output_type": "stream",
     "text": [
      "Class distibution of Training data: 17.94% positive class\n",
      "positive labels : 228 out of total 1271 datapoints\n"
     ]
    }
   ],
   "source": [
    "print('Class distibution of Training data: {:0.2f}% positive class'.format(len([m for m in train['label'] if m==1])/len(train['label']) *100))\n",
    "print('positive labels : {} out of total {} datapoints'.format(len([m for m in train['label'] if m==1]), len(train['label'])))"
   ]
  },
  {
   "cell_type": "code",
   "execution_count": 32,
   "metadata": {},
   "outputs": [
    {
     "name": "stdout",
     "output_type": "stream",
     "text": [
      "Class distibution of Test data: 17.61% positive class\n",
      "positive labels : 25 out of total 142 datapoints\n"
     ]
    }
   ],
   "source": [
    "print('Class distibution of Test data: {:0.2f}% positive class'.format(len([m for m in test['label'] if m==1])/len(test['label']) *100))\n",
    "print('positive labels : {} out of total {} datapoints'.format(len([m for m in test['label'] if m==1]), len(test['label'])))"
   ]
  },
  {
   "cell_type": "markdown",
   "metadata": {},
   "source": [
    "**Generate csv file for First Generation**"
   ]
  },
  {
   "cell_type": "code",
   "execution_count": 33,
   "metadata": {},
   "outputs": [],
   "source": [
    "first_generation_sentence_df = pd.DataFrame(columns=['sentence', 'label', 'phrase'])\n",
    "with open('data/csv/first_generation_sentence_level_dataset.csv','w',newline='', encoding = 'UTF-8') as f:\n",
    "    writer = csv.writer(f)\n",
    "    writer.writerow(['sentence','phrases','label'])\n",
    "    for index,val in first_generation_df.iterrows():\n",
    "        text = val['Essay : Why am I here'].rstrip('\\n\\r')\n",
    "        # using sent_tokenize from nltk to split the paragraphs into sentences.\n",
    "        temp_text = re.split('\\.|\\?|\\!',text) # text.split('.')\n",
    "        # annotation\n",
    "        annotation = val['First Gen - FINAL']\n",
    "        if '/%/' in annotation:\n",
    "            annotation = re.sub('/%/', '. ', annotation)\n",
    "        # annotation list\n",
    "        annotation_list = re.split('\\.|\\?|\\!',annotation) #annotation.split('.')\n",
    "        annotation_strip = [y.rstrip('\\r\\n') for y in annotation_list if y != '']\n",
    "        essay_strip = [x for x in temp_text if x !='']\n",
    "        \n",
    "        # remove the extra spaces before the sentences.\n",
    "        annotation_strip = [y.lstrip(\" \") for y in annotation_strip]\n",
    "        essay_strip = [x.lstrip(\" \") for x in essay_strip]\n",
    "        \n",
    "        # annotate the essay on sentence level.\n",
    "        for sentence in essay_strip:\n",
    "            if not (re.search('\\w',sentence)):\n",
    "                continue\n",
    "            if (len(sentence.split(' ')) < 3):\n",
    "                continue\n",
    "            for annotation_phrase in annotation_strip:\n",
    "                if len(annotation_phrase.split()) > 2:\n",
    "                    label = get_sentence_label(sentence,annotation_phrase)\n",
    "                    if label == 1:\n",
    "                        break\n",
    "            writer.writerow([sentence.lower(), annotation_strip, label])\n",
    "            first_generation_sentence_df = first_generation_sentence_df.append({'sentence' : sentence.lower() , 'label': label , 'phrase':annotation_strip}, ignore_index=True)\n",
    "            #first_generation_sentence_df = first_generation_sentence_df.append({'sentence' : sentence , 'label': label , 'phrase':annotation_strip}, ignore_index=True)\n",
    "            "
   ]
  },
  {
   "cell_type": "code",
   "execution_count": 34,
   "metadata": {},
   "outputs": [
    {
     "data": {
      "text/plain": [
       "(128, 3)"
      ]
     },
     "execution_count": 34,
     "metadata": {},
     "output_type": "execute_result"
    }
   ],
   "source": [
    "first_generation_sentence_df.shape"
   ]
  },
  {
   "cell_type": "code",
   "execution_count": 35,
   "metadata": {},
   "outputs": [
    {
     "name": "stdout",
     "output_type": "stream",
     "text": [
      "Positive labels present in the dataset : 19  out of 128 or 14.84375%\n"
     ]
    }
   ],
   "source": [
    "pos_labels = len([n for n in first_generation_sentence_df['label'] if n==1])\n",
    "print(\"Positive labels present in the dataset : {}  out of {} or {}%\".format(pos_labels, len(first_generation_sentence_df['label']), (pos_labels/len(first_generation_sentence_df['label']))*100))\n"
   ]
  },
  {
   "cell_type": "code",
   "execution_count": 36,
   "metadata": {},
   "outputs": [],
   "source": [
    "train, test = train_test_split(first_generation_sentence_df, test_size=0.2, random_state=18, stratify=first_generation_sentence_df['label'])"
   ]
  },
  {
   "cell_type": "code",
   "execution_count": 37,
   "metadata": {},
   "outputs": [],
   "source": [
    "train.to_csv(\"data/csv/first_generation_sentence_level_training_data.csv\", encoding='UTF-8', index=False)"
   ]
  },
  {
   "cell_type": "code",
   "execution_count": 38,
   "metadata": {},
   "outputs": [],
   "source": [
    "test.to_csv(\"data/csv/first_generation_sentence_level_test_data.csv\",  encoding='UTF-8', index=False)"
   ]
  },
  {
   "cell_type": "code",
   "execution_count": 39,
   "metadata": {},
   "outputs": [
    {
     "name": "stdout",
     "output_type": "stream",
     "text": [
      "Class distibution of Training data: 14.71% positive class\n",
      "positive labels : 15 out of total 102 datapoints\n"
     ]
    }
   ],
   "source": [
    "print('Class distibution of Training data: {:0.2f}% positive class'.format(len([m for m in train['label'] if m==1])/len(train['label']) *100))\n",
    "print('positive labels : {} out of total {} datapoints'.format(len([m for m in train['label'] if m==1]), len(train['label'])))"
   ]
  },
  {
   "cell_type": "code",
   "execution_count": 40,
   "metadata": {},
   "outputs": [
    {
     "name": "stdout",
     "output_type": "stream",
     "text": [
      "Class distibution of Test data: 15.38% positive class\n",
      "positive labels : 4 out of total 26 datapoints\n"
     ]
    }
   ],
   "source": [
    "print('Class distibution of Test data: {:0.2f}% positive class'.format(len([m for m in test['label'] if m==1])/len(test['label']) *100))\n",
    "print('positive labels : {} out of total {} datapoints'.format(len([m for m in test['label'] if m==1]), len(test['label'])))"
   ]
  },
  {
   "cell_type": "code",
   "execution_count": null,
   "metadata": {},
   "outputs": [],
   "source": []
  }
 ],
 "metadata": {
  "kernelspec": {
   "display_name": "Python 3",
   "language": "python",
   "name": "python3"
  },
  "language_info": {
   "codemirror_mode": {
    "name": "ipython",
    "version": 3
   },
   "file_extension": ".py",
   "mimetype": "text/x-python",
   "name": "python",
   "nbconvert_exporter": "python",
   "pygments_lexer": "ipython3",
   "version": "3.8.17"
  }
 },
 "nbformat": 4,
 "nbformat_minor": 4
}
