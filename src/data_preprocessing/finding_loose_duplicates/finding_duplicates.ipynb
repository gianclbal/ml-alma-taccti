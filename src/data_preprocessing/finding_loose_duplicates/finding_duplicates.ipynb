{
 "cells": [
  {
   "cell_type": "code",
   "execution_count": 6,
   "metadata": {},
   "outputs": [],
   "source": [
    "import pandas as pd\n",
    "import re\n",
    "from fuzzywuzzy import fuzz\n",
    "from fuzzywuzzy import process\n",
    "\n",
    "# Load dataset\n",
    "file_path = \"/Users/gbaldonado/Developer/ml-alma-taccti/ml-alma-taccti/data/for_training/merged/aspirational_plus_batch_1_batch_2_merged.xlsx\"\n",
    "df = pd.read_excel(file_path)  # Ensure correct file path\n",
    "\n",
    "# Ensure the column name is correct\n",
    "sentence_col = \"sentence\"  # Change if necessary\n",
    "\n",
    "# Function to clean text\n",
    "def clean_text(text):\n",
    "    return re.sub(r'[^\\w\\s]', '', str(text).lower().strip())  # Remove punctuation & lowercase\n",
    "\n",
    "# Preprocess all sentences in one pass (efficient vectorized approach)\n",
    "clean_sentences = [clean_text(sentence) for sentence in df[sentence_col]]\n",
    "\n",
    "# Detect loose duplicates using fuzzy matching\n",
    "duplicate_pairs = []\n",
    "checked_sentences = {}\n",
    "\n",
    "for idx, sentence in enumerate(clean_sentences):\n",
    "    if sentence in checked_sentences:\n",
    "        continue  # Skip if already checked\n",
    "\n",
    "    # Find close matches efficiently\n",
    "    matches = process.extract(sentence, clean_sentences, scorer=fuzz.token_sort_ratio, limit=10)\n",
    "\n",
    "    for match in matches:\n",
    "        match_sentence, score = match  # Unpack correctly\n",
    "        match_idx = clean_sentences.index(match_sentence)  # Get the actual index\n",
    "\n",
    "        if score >= 85 and idx != match_idx:  # Adjust similarity threshold if needed\n",
    "            duplicate_pairs.append((df.iloc[idx][sentence_col], df.iloc[match_idx][sentence_col], score))\n",
    "\n",
    "    checked_sentences[sentence] = True  # Mark as checked\n",
    "\n",
    "# Convert to DataFrame for easier review\n",
    "duplicate_df = pd.DataFrame(duplicate_pairs, columns=[\"Original Sentence\", \"Duplicate Sentence\", \"Similarity Score\"])\n",
    "\n",
    "# Save results to CSV\n",
    "output_file = \"loose_duplicates.csv\"\n",
    "duplicate_df.to_csv(output_file, index=False)"
   ]
  },
  {
   "cell_type": "code",
   "execution_count": null,
   "metadata": {},
   "outputs": [],
   "source": [
    "# Display results\n",
    "import ace_tools as tools\n",
    "tools.display_dataframe_to_user(name=\"Loose Duplicates\", dataframe=duplicate_df)\n",
    "\n",
    "print(f\"Possible loose duplicates found: {len(duplicate_df)}\")"
   ]
  }
 ],
 "metadata": {
  "kernelspec": {
   "display_name": "ml_env",
   "language": "python",
   "name": "python3"
  },
  "language_info": {
   "codemirror_mode": {
    "name": "ipython",
    "version": 3
   },
   "file_extension": ".py",
   "mimetype": "text/x-python",
   "name": "python",
   "nbconvert_exporter": "python",
   "pygments_lexer": "ipython3",
   "version": "3.8.17"
  }
 },
 "nbformat": 4,
 "nbformat_minor": 2
}
