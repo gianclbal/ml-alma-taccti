{
 "cells": [
  {
   "cell_type": "code",
   "execution_count": 1,
   "metadata": {},
   "outputs": [
    {
     "name": "stdout",
     "output_type": "stream",
     "text": [
      "2.13.0\n"
     ]
    }
   ],
   "source": [
    "import ktrain\n",
    "import tensorflow as tf\n",
    "print(tf.__version__)\n",
    "import pandas as pd\n",
    "import numpy as np\n",
    "from sklearn.model_selection import train_test_split\n",
    "from sklearn.metrics import confusion_matrix\n",
    "from sklearn.metrics import classification_report\n",
    "from sklearn.metrics import roc_auc_score\n"
   ]
  },
  {
   "cell_type": "code",
   "execution_count": 2,
   "metadata": {},
   "outputs": [],
   "source": [
    "from ktrain import text"
   ]
  },
  {
   "cell_type": "code",
   "execution_count": 5,
   "metadata": {},
   "outputs": [
    {
     "data": {
      "text/html": [
       "<div>\n",
       "<style scoped>\n",
       "    .dataframe tbody tr th:only-of-type {\n",
       "        vertical-align: middle;\n",
       "    }\n",
       "\n",
       "    .dataframe tbody tr th {\n",
       "        vertical-align: top;\n",
       "    }\n",
       "\n",
       "    .dataframe thead th {\n",
       "        text-align: right;\n",
       "    }\n",
       "</style>\n",
       "<table border=\"1\" class=\"dataframe\">\n",
       "  <thead>\n",
       "    <tr style=\"text-align: right;\">\n",
       "      <th></th>\n",
       "      <th>sentence</th>\n",
       "      <th>label</th>\n",
       "      <th>phrase</th>\n",
       "    </tr>\n",
       "  </thead>\n",
       "  <tbody>\n",
       "    <tr>\n",
       "      <th>0</th>\n",
       "      <td>why am i here?</td>\n",
       "      <td>0</td>\n",
       "      <td>[\"Ever since I was little I wanted to be a doc...</td>\n",
       "    </tr>\n",
       "    <tr>\n",
       "      <th>1</th>\n",
       "      <td>well why does anyone pursue a higher education?</td>\n",
       "      <td>0</td>\n",
       "      <td>[\"Ever since I was little I wanted to be a doc...</td>\n",
       "    </tr>\n",
       "    <tr>\n",
       "      <th>2</th>\n",
       "      <td>to better one self and be able to succeed late...</td>\n",
       "      <td>0</td>\n",
       "      <td>[\"Ever since I was little I wanted to be a doc...</td>\n",
       "    </tr>\n",
       "    <tr>\n",
       "      <th>3</th>\n",
       "      <td>ever since i was little i wanted to be a docto...</td>\n",
       "      <td>1</td>\n",
       "      <td>[\"Ever since I was little I wanted to be a doc...</td>\n",
       "    </tr>\n",
       "    <tr>\n",
       "      <th>4</th>\n",
       "      <td>i always wanted to be able to help people and ...</td>\n",
       "      <td>0</td>\n",
       "      <td>[\"Ever since I was little I wanted to be a doc...</td>\n",
       "    </tr>\n",
       "    <tr>\n",
       "      <th>...</th>\n",
       "      <td>...</td>\n",
       "      <td>...</td>\n",
       "      <td>...</td>\n",
       "    </tr>\n",
       "    <tr>\n",
       "      <th>4699</th>\n",
       "      <td>i want to better myself, improve myself in eve...</td>\n",
       "      <td>0</td>\n",
       "      <td>['I want to be able to apply my knowledge to m...</td>\n",
       "    </tr>\n",
       "    <tr>\n",
       "      <th>4700</th>\n",
       "      <td>i have no problems applying myself when it com...</td>\n",
       "      <td>0</td>\n",
       "      <td>['I want to be able to apply my knowledge to m...</td>\n",
       "    </tr>\n",
       "    <tr>\n",
       "      <th>4701</th>\n",
       "      <td>grow mentally so that i can apply more physica...</td>\n",
       "      <td>0</td>\n",
       "      <td>['I want to be able to apply my knowledge to m...</td>\n",
       "    </tr>\n",
       "    <tr>\n",
       "      <th>4702</th>\n",
       "      <td>use what i learn and apply it in whatever care...</td>\n",
       "      <td>0</td>\n",
       "      <td>['I want to be able to apply my knowledge to m...</td>\n",
       "    </tr>\n",
       "    <tr>\n",
       "      <th>4703</th>\n",
       "      <td>the more i learn the more opportunities are av...</td>\n",
       "      <td>0</td>\n",
       "      <td>['I want to be able to apply my knowledge to m...</td>\n",
       "    </tr>\n",
       "  </tbody>\n",
       "</table>\n",
       "<p>4704 rows × 3 columns</p>\n",
       "</div>"
      ],
      "text/plain": [
       "                                               sentence  label  \\\n",
       "0                                        why am i here?      0   \n",
       "1       well why does anyone pursue a higher education?      0   \n",
       "2     to better one self and be able to succeed late...      0   \n",
       "3     ever since i was little i wanted to be a docto...      1   \n",
       "4     i always wanted to be able to help people and ...      0   \n",
       "...                                                 ...    ...   \n",
       "4699  i want to better myself, improve myself in eve...      0   \n",
       "4700  i have no problems applying myself when it com...      0   \n",
       "4701  grow mentally so that i can apply more physica...      0   \n",
       "4702  use what i learn and apply it in whatever care...      0   \n",
       "4703  the more i learn the more opportunities are av...      0   \n",
       "\n",
       "                                                 phrase  \n",
       "0     [\"Ever since I was little I wanted to be a doc...  \n",
       "1     [\"Ever since I was little I wanted to be a doc...  \n",
       "2     [\"Ever since I was little I wanted to be a doc...  \n",
       "3     [\"Ever since I was little I wanted to be a doc...  \n",
       "4     [\"Ever since I was little I wanted to be a doc...  \n",
       "...                                                 ...  \n",
       "4699  ['I want to be able to apply my knowledge to m...  \n",
       "4700  ['I want to be able to apply my knowledge to m...  \n",
       "4701  ['I want to be able to apply my knowledge to m...  \n",
       "4702  ['I want to be able to apply my knowledge to m...  \n",
       "4703  ['I want to be able to apply my knowledge to m...  \n",
       "\n",
       "[4704 rows x 3 columns]"
      ]
     },
     "execution_count": 5,
     "metadata": {},
     "output_type": "execute_result"
    }
   ],
   "source": [
    "merged_aspirational_df = pd.read_csv(\"/Users/gbaldonado/Developer/ml-alma-taccti/ml-alma-taccti/data/processed_for_model/merged_themes_using_jaccard_method/merged_Aspirational_sentence_level_batch_1_jaccard.csv\", encoding='utf-8')\n",
    "merged_aspirational_df\n",
    "\n",
    "training_df, test_df = train_test_split(merged_aspirational_df, test_size=0.1, random_state=18, stratify=merged_aspirational_df['label'])"
   ]
  },
  {
   "cell_type": "code",
   "execution_count": 11,
   "metadata": {},
   "outputs": [],
   "source": [
    "training_df, test_df = train_test_split(merged_aspirational_df, test_size=0.1, random_state=18, stratify=merged_aspirational_df['label'])"
   ]
  },
  {
   "cell_type": "code",
   "execution_count": 12,
   "metadata": {},
   "outputs": [
    {
     "data": {
      "text/plain": [
       "(4233, 3)"
      ]
     },
     "execution_count": 12,
     "metadata": {},
     "output_type": "execute_result"
    }
   ],
   "source": [
    "training_df.shape"
   ]
  },
  {
   "cell_type": "code",
   "execution_count": 13,
   "metadata": {},
   "outputs": [
    {
     "data": {
      "text/plain": [
       "(471, 3)"
      ]
     },
     "execution_count": 13,
     "metadata": {},
     "output_type": "execute_result"
    }
   ],
   "source": [
    "test_df.shape"
   ]
  },
  {
   "cell_type": "code",
   "execution_count": 5,
   "metadata": {},
   "outputs": [],
   "source": [
    "def rename_and_encode(df):\n",
    "    # Rename the 'sentences' column to 'sentence'\n",
    "    df = df.rename(columns={'sentences': 'sentence'})\n",
    "    \n",
    "    # Check if 'labels' column already contains 0 and 1 values\n",
    "    unique_values = df['label'].unique()\n",
    "    \n",
    "    if set(unique_values) == {0, 1}:\n",
    "        # If the unique values are 0 and 1, no encoding is needed\n",
    "        return df\n",
    "    else:\n",
    "        # Otherwise, map 'Yes' to 1 and 'No' to 0 in the 'labels' column\n",
    "        df['label'] = df['label'].map({'Yes': 1, 'No': 0})\n",
    "    \n",
    "    return df"
   ]
  },
  {
   "cell_type": "code",
   "execution_count": 6,
   "metadata": {},
   "outputs": [],
   "source": [
    "training_df_orig = pd.read_csv('../../data/csv/attainment_sentence_level_training_data.csv',encoding='utf-8')"
   ]
  },
  {
   "cell_type": "code",
   "execution_count": 7,
   "metadata": {},
   "outputs": [
    {
     "data": {
      "text/html": [
       "<div>\n",
       "<style scoped>\n",
       "    .dataframe tbody tr th:only-of-type {\n",
       "        vertical-align: middle;\n",
       "    }\n",
       "\n",
       "    .dataframe tbody tr th {\n",
       "        vertical-align: top;\n",
       "    }\n",
       "\n",
       "    .dataframe thead th {\n",
       "        text-align: right;\n",
       "    }\n",
       "</style>\n",
       "<table border=\"1\" class=\"dataframe\">\n",
       "  <thead>\n",
       "    <tr style=\"text-align: right;\">\n",
       "      <th></th>\n",
       "      <th>sentence</th>\n",
       "      <th>label</th>\n",
       "      <th>phrase</th>\n",
       "    </tr>\n",
       "  </thead>\n",
       "  <tbody>\n",
       "    <tr>\n",
       "      <th>0</th>\n",
       "      <td>why i am here is because i want to fulfill my ...</td>\n",
       "      <td>1</td>\n",
       "      <td>['Why I am here is because I want to fulfill m...</td>\n",
       "    </tr>\n",
       "    <tr>\n",
       "      <th>1</th>\n",
       "      <td>i like to relate what i learn to everyday acti...</td>\n",
       "      <td>0</td>\n",
       "      <td>['Im here because I want to pursue a degree in...</td>\n",
       "    </tr>\n",
       "    <tr>\n",
       "      <th>2</th>\n",
       "      <td>im here because i want to pursue a degree in b...</td>\n",
       "      <td>1</td>\n",
       "      <td>['Im here because I want to pursue a degree in...</td>\n",
       "    </tr>\n",
       "    <tr>\n",
       "      <th>3</th>\n",
       "      <td>i am in this class to learn about topics that ...</td>\n",
       "      <td>0</td>\n",
       "      <td>['Iím here because I want to pursue a career i...</td>\n",
       "    </tr>\n",
       "    <tr>\n",
       "      <th>4</th>\n",
       "      <td>right after 12th grade i knew i wanted to majo...</td>\n",
       "      <td>0</td>\n",
       "      <td>['I want to have a career as an epidemiologist...</td>\n",
       "    </tr>\n",
       "  </tbody>\n",
       "</table>\n",
       "</div>"
      ],
      "text/plain": [
       "                                            sentence  label  \\\n",
       "0  why i am here is because i want to fulfill my ...      1   \n",
       "1  i like to relate what i learn to everyday acti...      0   \n",
       "2  im here because i want to pursue a degree in b...      1   \n",
       "3  i am in this class to learn about topics that ...      0   \n",
       "4  right after 12th grade i knew i wanted to majo...      0   \n",
       "\n",
       "                                              phrase  \n",
       "0  ['Why I am here is because I want to fulfill m...  \n",
       "1  ['Im here because I want to pursue a degree in...  \n",
       "2  ['Im here because I want to pursue a degree in...  \n",
       "3  ['Iím here because I want to pursue a career i...  \n",
       "4  ['I want to have a career as an epidemiologist...  "
      ]
     },
     "execution_count": 7,
     "metadata": {},
     "output_type": "execute_result"
    }
   ],
   "source": [
    "training_df_orig.head()"
   ]
  },
  {
   "cell_type": "code",
   "execution_count": 8,
   "metadata": {},
   "outputs": [],
   "source": [
    "test_df = pd.read_csv('../../new_data/attainment/attainment_attainment_fall2019_2023_sentence_test_data.csv',encoding='utf-8')"
   ]
  },
  {
   "cell_type": "code",
   "execution_count": 9,
   "metadata": {},
   "outputs": [
    {
     "data": {
      "text/plain": [
       "(752, 3)"
      ]
     },
     "execution_count": 9,
     "metadata": {},
     "output_type": "execute_result"
    }
   ],
   "source": [
    "test_df.shape"
   ]
  },
  {
   "cell_type": "code",
   "execution_count": 10,
   "metadata": {},
   "outputs": [
    {
     "data": {
      "text/html": [
       "<div>\n",
       "<style scoped>\n",
       "    .dataframe tbody tr th:only-of-type {\n",
       "        vertical-align: middle;\n",
       "    }\n",
       "\n",
       "    .dataframe tbody tr th {\n",
       "        vertical-align: top;\n",
       "    }\n",
       "\n",
       "    .dataframe thead th {\n",
       "        text-align: right;\n",
       "    }\n",
       "</style>\n",
       "<table border=\"1\" class=\"dataframe\">\n",
       "  <thead>\n",
       "    <tr style=\"text-align: right;\">\n",
       "      <th></th>\n",
       "      <th>key_essay</th>\n",
       "      <th>sentences</th>\n",
       "      <th>label</th>\n",
       "    </tr>\n",
       "  </thead>\n",
       "  <tbody>\n",
       "    <tr>\n",
       "      <th>0</th>\n",
       "      <td>why am i herei am here to gain the skills i ne...</td>\n",
       "      <td>i also want a job that i love and this is a fi...</td>\n",
       "      <td>No</td>\n",
       "    </tr>\n",
       "    <tr>\n",
       "      <th>1</th>\n",
       "      <td>i am here because i want to do something with ...</td>\n",
       "      <td>i am specifically here in this class because i...</td>\n",
       "      <td>No</td>\n",
       "    </tr>\n",
       "    <tr>\n",
       "      <th>2</th>\n",
       "      <td>i am here because i want to have an engineerin...</td>\n",
       "      <td>to have that degree i need to learn physics an...</td>\n",
       "      <td>No</td>\n",
       "    </tr>\n",
       "    <tr>\n",
       "      <th>3</th>\n",
       "      <td>i am here to learn. i am here to make meaningf...</td>\n",
       "      <td>i also wish to give back to my parents who wor...</td>\n",
       "      <td>No</td>\n",
       "    </tr>\n",
       "    <tr>\n",
       "      <th>4</th>\n",
       "      <td>why am i herei am here to gain the skills i ne...</td>\n",
       "      <td>i desire to help others because in a way it he...</td>\n",
       "      <td>No</td>\n",
       "    </tr>\n",
       "  </tbody>\n",
       "</table>\n",
       "</div>"
      ],
      "text/plain": [
       "                                           key_essay  \\\n",
       "0  why am i herei am here to gain the skills i ne...   \n",
       "1  i am here because i want to do something with ...   \n",
       "2  i am here because i want to have an engineerin...   \n",
       "3  i am here to learn. i am here to make meaningf...   \n",
       "4  why am i herei am here to gain the skills i ne...   \n",
       "\n",
       "                                           sentences label  \n",
       "0  i also want a job that i love and this is a fi...    No  \n",
       "1  i am specifically here in this class because i...    No  \n",
       "2  to have that degree i need to learn physics an...    No  \n",
       "3  i also wish to give back to my parents who wor...    No  \n",
       "4  i desire to help others because in a way it he...    No  "
      ]
     },
     "execution_count": 10,
     "metadata": {},
     "output_type": "execute_result"
    }
   ],
   "source": [
    "test_df.head()"
   ]
  },
  {
   "cell_type": "code",
   "execution_count": 11,
   "metadata": {},
   "outputs": [
    {
     "data": {
      "text/html": [
       "<div>\n",
       "<style scoped>\n",
       "    .dataframe tbody tr th:only-of-type {\n",
       "        vertical-align: middle;\n",
       "    }\n",
       "\n",
       "    .dataframe tbody tr th {\n",
       "        vertical-align: top;\n",
       "    }\n",
       "\n",
       "    .dataframe thead th {\n",
       "        text-align: right;\n",
       "    }\n",
       "</style>\n",
       "<table border=\"1\" class=\"dataframe\">\n",
       "  <thead>\n",
       "    <tr style=\"text-align: right;\">\n",
       "      <th></th>\n",
       "      <th>key_essay</th>\n",
       "      <th>sentence</th>\n",
       "      <th>label</th>\n",
       "    </tr>\n",
       "  </thead>\n",
       "  <tbody>\n",
       "    <tr>\n",
       "      <th>0</th>\n",
       "      <td>why am i herei am here to gain the skills i ne...</td>\n",
       "      <td>i also want a job that i love and this is a fi...</td>\n",
       "      <td>0</td>\n",
       "    </tr>\n",
       "    <tr>\n",
       "      <th>1</th>\n",
       "      <td>i am here because i want to do something with ...</td>\n",
       "      <td>i am specifically here in this class because i...</td>\n",
       "      <td>0</td>\n",
       "    </tr>\n",
       "    <tr>\n",
       "      <th>2</th>\n",
       "      <td>i am here because i want to have an engineerin...</td>\n",
       "      <td>to have that degree i need to learn physics an...</td>\n",
       "      <td>0</td>\n",
       "    </tr>\n",
       "    <tr>\n",
       "      <th>3</th>\n",
       "      <td>i am here to learn. i am here to make meaningf...</td>\n",
       "      <td>i also wish to give back to my parents who wor...</td>\n",
       "      <td>0</td>\n",
       "    </tr>\n",
       "    <tr>\n",
       "      <th>4</th>\n",
       "      <td>why am i herei am here to gain the skills i ne...</td>\n",
       "      <td>i desire to help others because in a way it he...</td>\n",
       "      <td>0</td>\n",
       "    </tr>\n",
       "    <tr>\n",
       "      <th>...</th>\n",
       "      <td>...</td>\n",
       "      <td>...</td>\n",
       "      <td>...</td>\n",
       "    </tr>\n",
       "    <tr>\n",
       "      <th>747</th>\n",
       "      <td>i am here because i want to get a degree. i wa...</td>\n",
       "      <td>i would love to become a doctor in the future ...</td>\n",
       "      <td>1</td>\n",
       "    </tr>\n",
       "    <tr>\n",
       "      <th>748</th>\n",
       "      <td>i d say i m here to get an education and try t...</td>\n",
       "      <td>this is why i m here</td>\n",
       "      <td>0</td>\n",
       "    </tr>\n",
       "    <tr>\n",
       "      <th>749</th>\n",
       "      <td>i m in college because i know that i can make ...</td>\n",
       "      <td>i m not shy to say it how it is and it will dr...</td>\n",
       "      <td>0</td>\n",
       "    </tr>\n",
       "    <tr>\n",
       "      <th>750</th>\n",
       "      <td>daniel knapp why am i here? why am i here? wel...</td>\n",
       "      <td>however i would say that i am here in this cla...</td>\n",
       "      <td>0</td>\n",
       "    </tr>\n",
       "    <tr>\n",
       "      <th>751</th>\n",
       "      <td>why am i here? i am here because i am a genera...</td>\n",
       "      <td>it is important for me to understand the conce...</td>\n",
       "      <td>0</td>\n",
       "    </tr>\n",
       "  </tbody>\n",
       "</table>\n",
       "<p>752 rows × 3 columns</p>\n",
       "</div>"
      ],
      "text/plain": [
       "                                             key_essay  \\\n",
       "0    why am i herei am here to gain the skills i ne...   \n",
       "1    i am here because i want to do something with ...   \n",
       "2    i am here because i want to have an engineerin...   \n",
       "3    i am here to learn. i am here to make meaningf...   \n",
       "4    why am i herei am here to gain the skills i ne...   \n",
       "..                                                 ...   \n",
       "747  i am here because i want to get a degree. i wa...   \n",
       "748  i d say i m here to get an education and try t...   \n",
       "749  i m in college because i know that i can make ...   \n",
       "750  daniel knapp why am i here? why am i here? wel...   \n",
       "751  why am i here? i am here because i am a genera...   \n",
       "\n",
       "                                              sentence  label  \n",
       "0    i also want a job that i love and this is a fi...      0  \n",
       "1    i am specifically here in this class because i...      0  \n",
       "2    to have that degree i need to learn physics an...      0  \n",
       "3    i also wish to give back to my parents who wor...      0  \n",
       "4    i desire to help others because in a way it he...      0  \n",
       "..                                                 ...    ...  \n",
       "747  i would love to become a doctor in the future ...      1  \n",
       "748                               this is why i m here      0  \n",
       "749  i m not shy to say it how it is and it will dr...      0  \n",
       "750  however i would say that i am here in this cla...      0  \n",
       "751  it is important for me to understand the conce...      0  \n",
       "\n",
       "[752 rows x 3 columns]"
      ]
     },
     "execution_count": 11,
     "metadata": {},
     "output_type": "execute_result"
    }
   ],
   "source": [
    "training_df = rename_and_encode(training_df)\n",
    "\n",
    "test_df = rename_and_encode(test_df)\n",
    "test_df"
   ]
  },
  {
   "cell_type": "code",
   "execution_count": 12,
   "metadata": {},
   "outputs": [
    {
     "data": {
      "text/html": [
       "<div>\n",
       "<style scoped>\n",
       "    .dataframe tbody tr th:only-of-type {\n",
       "        vertical-align: middle;\n",
       "    }\n",
       "\n",
       "    .dataframe tbody tr th {\n",
       "        vertical-align: top;\n",
       "    }\n",
       "\n",
       "    .dataframe thead th {\n",
       "        text-align: right;\n",
       "    }\n",
       "</style>\n",
       "<table border=\"1\" class=\"dataframe\">\n",
       "  <thead>\n",
       "    <tr style=\"text-align: right;\">\n",
       "      <th></th>\n",
       "      <th>key_essay</th>\n",
       "      <th>sentence</th>\n",
       "      <th>label</th>\n",
       "    </tr>\n",
       "  </thead>\n",
       "  <tbody>\n",
       "    <tr>\n",
       "      <th>0</th>\n",
       "      <td>well the first reason i am here is because thi...</td>\n",
       "      <td>i did okay on the first quiz but that was beca...</td>\n",
       "      <td>0</td>\n",
       "    </tr>\n",
       "    <tr>\n",
       "      <th>1</th>\n",
       "      <td>i am here because i want to learn, ive taken a...</td>\n",
       "      <td>while im here i can obtain a lot of useful ide...</td>\n",
       "      <td>0</td>\n",
       "    </tr>\n",
       "    <tr>\n",
       "      <th>2</th>\n",
       "      <td>just as a basis for information, i am currentl...</td>\n",
       "      <td>but initially when i started i had wanted to b...</td>\n",
       "      <td>0</td>\n",
       "    </tr>\n",
       "    <tr>\n",
       "      <th>3</th>\n",
       "      <td>i am here because i know i struggle in chemist...</td>\n",
       "      <td>so after hearing how hard this class is i deci...</td>\n",
       "      <td>0</td>\n",
       "    </tr>\n",
       "    <tr>\n",
       "      <th>4</th>\n",
       "      <td>i am here at sfsu because i want to get a degr...</td>\n",
       "      <td>i decided to come to sfsu because it would sav...</td>\n",
       "      <td>0</td>\n",
       "    </tr>\n",
       "    <tr>\n",
       "      <th>...</th>\n",
       "      <td>...</td>\n",
       "      <td>...</td>\n",
       "      <td>...</td>\n",
       "    </tr>\n",
       "    <tr>\n",
       "      <th>2999</th>\n",
       "      <td>i am here in this class simply because it is a...</td>\n",
       "      <td>i am here in this class simply because it is a...</td>\n",
       "      <td>0</td>\n",
       "    </tr>\n",
       "    <tr>\n",
       "      <th>3000</th>\n",
       "      <td>i guess i am here since i have a physics lab w...</td>\n",
       "      <td>my purpose for taking physics is to have it as...</td>\n",
       "      <td>1</td>\n",
       "    </tr>\n",
       "    <tr>\n",
       "      <th>3001</th>\n",
       "      <td>i think that i'm here to contribute to the liv...</td>\n",
       "      <td>if something i can make or contribute my effor...</td>\n",
       "      <td>0</td>\n",
       "    </tr>\n",
       "    <tr>\n",
       "      <th>3002</th>\n",
       "      <td>why am i here?my journey into physics started ...</td>\n",
       "      <td>my hope for the class as a whole is to go forw...</td>\n",
       "      <td>0</td>\n",
       "    </tr>\n",
       "    <tr>\n",
       "      <th>3003</th>\n",
       "      <td>i am in this course and in this university in ...</td>\n",
       "      <td>i have learned that many of the different cour...</td>\n",
       "      <td>0</td>\n",
       "    </tr>\n",
       "  </tbody>\n",
       "</table>\n",
       "<p>3004 rows × 3 columns</p>\n",
       "</div>"
      ],
      "text/plain": [
       "                                              key_essay  \\\n",
       "0     well the first reason i am here is because thi...   \n",
       "1     i am here because i want to learn, ive taken a...   \n",
       "2     just as a basis for information, i am currentl...   \n",
       "3     i am here because i know i struggle in chemist...   \n",
       "4     i am here at sfsu because i want to get a degr...   \n",
       "...                                                 ...   \n",
       "2999  i am here in this class simply because it is a...   \n",
       "3000  i guess i am here since i have a physics lab w...   \n",
       "3001  i think that i'm here to contribute to the liv...   \n",
       "3002  why am i here?my journey into physics started ...   \n",
       "3003  i am in this course and in this university in ...   \n",
       "\n",
       "                                               sentence  label  \n",
       "0     i did okay on the first quiz but that was beca...      0  \n",
       "1     while im here i can obtain a lot of useful ide...      0  \n",
       "2     but initially when i started i had wanted to b...      0  \n",
       "3     so after hearing how hard this class is i deci...      0  \n",
       "4     i decided to come to sfsu because it would sav...      0  \n",
       "...                                                 ...    ...  \n",
       "2999  i am here in this class simply because it is a...      0  \n",
       "3000  my purpose for taking physics is to have it as...      1  \n",
       "3001  if something i can make or contribute my effor...      0  \n",
       "3002  my hope for the class as a whole is to go forw...      0  \n",
       "3003  i have learned that many of the different cour...      0  \n",
       "\n",
       "[3004 rows x 3 columns]"
      ]
     },
     "execution_count": 12,
     "metadata": {},
     "output_type": "execute_result"
    }
   ],
   "source": [
    "training_df"
   ]
  },
  {
   "cell_type": "code",
   "execution_count": 14,
   "metadata": {},
   "outputs": [],
   "source": [
    "MAXLEN = 150"
   ]
  },
  {
   "cell_type": "code",
   "execution_count": 15,
   "metadata": {},
   "outputs": [],
   "source": [
    "X = training_df['sentence']\n",
    "y = training_df['label']"
   ]
  },
  {
   "cell_type": "code",
   "execution_count": 16,
   "metadata": {},
   "outputs": [],
   "source": [
    "# Split the data\n",
    "X_train, X_test, y_train, y_test = train_test_split(X, y, test_size = 0.1, random_state = 18, stratify=y)"
   ]
  },
  {
   "cell_type": "code",
   "execution_count": 17,
   "metadata": {},
   "outputs": [
    {
     "data": {
      "text/plain": [
       "3631          i want to be an engineering for the future.\n",
       "4275    i am here at sfsu to gain the knowledge and ex...\n",
       "2646    i used to hate physics at high school because ...\n",
       "812     i am majoring in prekinesiology and taking cla...\n",
       "3408    i was thinking about studying abroad in the un...\n",
       "                              ...                        \n",
       "720     i want to be able to do probono work for famil...\n",
       "711     all he did was fly for a couple years and move...\n",
       "2447    i've never been a big fan of physics as a stud...\n",
       "4390    another reason i am here right now is because ...\n",
       "1067        i only have bits of memories from growing up.\n",
       "Name: sentence, Length: 3809, dtype: object"
      ]
     },
     "execution_count": 17,
     "metadata": {},
     "output_type": "execute_result"
    }
   ],
   "source": [
    "X_train"
   ]
  },
  {
   "cell_type": "code",
   "execution_count": 18,
   "metadata": {},
   "outputs": [
    {
     "data": {
      "text/plain": [
       "1845    my class is a little slower paced, so the si c...\n",
       "1099    i am in this lab section to complete the lab r...\n",
       "3228    every day, i am encouraged by my family and fr...\n",
       "164     i am here to obtain a better understanding of ...\n",
       "152     not only am i making an impact on the medical ...\n",
       "                              ...                        \n",
       "4626    i am here because of the way that i have grown...\n",
       "4036    its another tool in my belt, and a pillar of s...\n",
       "510     i am excited to enter into a new field of stud...\n",
       "2807    im here because i want to pursue a career in t...\n",
       "3351    of all the sciences, i enjoy physics the most ...\n",
       "Name: sentence, Length: 424, dtype: object"
      ]
     },
     "execution_count": 18,
     "metadata": {},
     "output_type": "execute_result"
    }
   ],
   "source": [
    "X_test"
   ]
  },
  {
   "cell_type": "code",
   "execution_count": 19,
   "metadata": {},
   "outputs": [],
   "source": [
    "model_name = 'distilbert-base-uncased'"
   ]
  },
  {
   "cell_type": "code",
   "execution_count": 20,
   "metadata": {},
   "outputs": [
    {
     "name": "stdout",
     "output_type": "stream",
     "text": [
      "Metal device set to: Apple M2 Pro\n",
      "\n",
      "systemMemory: 16.00 GB\n",
      "maxCacheSize: 5.33 GB\n",
      "\n",
      "preprocessing train...\n",
      "language: en\n",
      "train sequence lengths:\n",
      "\tmean : 21\n",
      "\t95percentile : 39\n",
      "\t99percentile : 55\n"
     ]
    },
    {
     "data": {
      "application/vnd.jupyter.widget-view+json": {
       "model_id": "9018bd85e2fc42ba951b16f88dede4cd",
       "version_major": 2,
       "version_minor": 0
      },
      "text/plain": [
       "Downloading tokenizer_config.json:   0%|          | 0.00/48.0 [00:00<?, ?B/s]"
      ]
     },
     "metadata": {},
     "output_type": "display_data"
    },
    {
     "data": {
      "text/html": [
       "\n",
       "<style>\n",
       "    /* Turns off some styling */\n",
       "    progress {\n",
       "        /* gets rid of default border in Firefox and Opera. */\n",
       "        border: none;\n",
       "        /* Needs to be in here for Safari polyfill so background images work as expected. */\n",
       "        background-size: auto;\n",
       "    }\n",
       "    progress:not([value]), progress:not([value])::-webkit-progress-bar {\n",
       "        background: repeating-linear-gradient(45deg, #7e7e7e, #7e7e7e 10px, #5c5c5c 10px, #5c5c5c 20px);\n",
       "    }\n",
       "    .progress-bar-interrupted, .progress-bar-interrupted::-webkit-progress-bar {\n",
       "        background: #F44336;\n",
       "    }\n",
       "</style>\n"
      ],
      "text/plain": [
       "<IPython.core.display.HTML object>"
      ]
     },
     "metadata": {},
     "output_type": "display_data"
    },
    {
     "data": {
      "text/html": [],
      "text/plain": [
       "<IPython.core.display.HTML object>"
      ]
     },
     "metadata": {},
     "output_type": "display_data"
    },
    {
     "name": "stdout",
     "output_type": "stream",
     "text": [
      "Is Multi-Label? False\n",
      "preprocessing test...\n",
      "language: en\n",
      "test sequence lengths:\n",
      "\tmean : 21\n",
      "\t95percentile : 41\n",
      "\t99percentile : 59\n"
     ]
    },
    {
     "data": {
      "text/html": [
       "\n",
       "<style>\n",
       "    /* Turns off some styling */\n",
       "    progress {\n",
       "        /* gets rid of default border in Firefox and Opera. */\n",
       "        border: none;\n",
       "        /* Needs to be in here for Safari polyfill so background images work as expected. */\n",
       "        background-size: auto;\n",
       "    }\n",
       "    progress:not([value]), progress:not([value])::-webkit-progress-bar {\n",
       "        background: repeating-linear-gradient(45deg, #7e7e7e, #7e7e7e 10px, #5c5c5c 10px, #5c5c5c 20px);\n",
       "    }\n",
       "    .progress-bar-interrupted, .progress-bar-interrupted::-webkit-progress-bar {\n",
       "        background: #F44336;\n",
       "    }\n",
       "</style>\n"
      ],
      "text/plain": [
       "<IPython.core.display.HTML object>"
      ]
     },
     "metadata": {},
     "output_type": "display_data"
    },
    {
     "data": {
      "text/html": [],
      "text/plain": [
       "<IPython.core.display.HTML object>"
      ]
     },
     "metadata": {},
     "output_type": "display_data"
    }
   ],
   "source": [
    "distillbert_transformer = text.Transformer(model_name, maxlen=MAXLEN, class_names=[0,1])\n",
    "training_set = distillbert_transformer.preprocess_train(X_train.tolist(), y_train.tolist())\n",
    "validation_set = distillbert_transformer.preprocess_test(X_test.tolist(), y_test.tolist())\n",
    "distillbert_base_model = distillbert_transformer.get_classifier()"
   ]
  },
  {
   "cell_type": "code",
   "execution_count": 21,
   "metadata": {},
   "outputs": [],
   "source": [
    "distillbert_learner = ktrain.get_learner(distillbert_base_model, train_data=training_set, val_data=validation_set, batch_size=6)"
   ]
  },
  {
   "cell_type": "markdown",
   "metadata": {},
   "source": [
    "Three possible suggestions for LR from plot:\n",
    "\tLongest valley (red): 4.85E-06\n",
    "\tMin numerical gradient (purple): 5.45E-07\n",
    "\tMin loss divided by 10 (omitted from plot): 6.17E-06\n",
    "\n",
    "![](2023-11-07-23-09-21.png)"
   ]
  },
  {
   "cell_type": "code",
   "execution_count": 22,
   "metadata": {},
   "outputs": [
    {
     "name": "stdout",
     "output_type": "stream",
     "text": [
      "\n",
      "\n",
      "begin training using triangular learning rate policy with max lr of 2e-05...\n",
      "Epoch 1/5\n",
      "635/635 [==============================] - 116s 163ms/step - loss: 0.3553 - accuracy: 0.8653 - val_loss: 0.2908 - val_accuracy: 0.8656\n",
      "Epoch 2/5\n",
      "635/635 [==============================] - 100s 158ms/step - loss: 0.2634 - accuracy: 0.8766 - val_loss: 0.2835 - val_accuracy: 0.8703\n",
      "Epoch 3/5\n",
      "635/635 [==============================] - 101s 158ms/step - loss: 0.2215 - accuracy: 0.8963 - val_loss: 0.2917 - val_accuracy: 0.8514\n",
      "Epoch 4/5\n",
      "635/635 [==============================] - 97s 153ms/step - loss: 0.1916 - accuracy: 0.9142 - val_loss: 0.3149 - val_accuracy: 0.8420\n",
      "Epoch 5/5\n",
      "635/635 [==============================] - 99s 156ms/step - loss: 0.1595 - accuracy: 0.9262 - val_loss: 0.3732 - val_accuracy: 0.8373\n"
     ]
    },
    {
     "data": {
      "text/plain": [
       "<keras.src.callbacks.History at 0x38fb1dd60>"
      ]
     },
     "execution_count": 22,
     "metadata": {},
     "output_type": "execute_result"
    }
   ],
   "source": [
    "distillbert_learner.autofit(2E-5, epochs=5)"
   ]
  },
  {
   "cell_type": "code",
   "execution_count": 23,
   "metadata": {},
   "outputs": [
    {
     "name": "stdout",
     "output_type": "stream",
     "text": [
      "loss\n",
      "accuracy\n",
      "val_loss\n",
      "val_accuracy\n",
      "lr\n",
      "iterations\n",
      "momentum\n"
     ]
    }
   ],
   "source": [
    "for key,_ in distillbert_learner.history.history.items():\n",
    "    print(key)"
   ]
  },
  {
   "cell_type": "code",
   "execution_count": 24,
   "metadata": {},
   "outputs": [
    {
     "data": {
      "text/plain": [
       "dict_items([('loss', [0.35534003376960754, 0.26337799429893494, 0.2215239256620407, 0.19158488512039185, 0.15950904786586761]), ('accuracy', [0.8653189539909363, 0.8766080141067505, 0.8962982296943665, 0.9141507148742676, 0.926227331161499]), ('val_loss', [0.29081177711486816, 0.28345441818237305, 0.2916691303253174, 0.3148546814918518, 0.3731685280799866]), ('val_accuracy', [0.8655660152435303, 0.8702830076217651, 0.8514150977134705, 0.8419811129570007, 0.8372641801834106]), ('lr', [2e-06, 2.0566038e-06, 2.1132075e-06, 2.1698113e-06, 2.226415e-06, 2.2830188e-06, 2.3396226e-06, 2.3962264e-06, 2.4528301e-06, 2.509434e-06, 2.5660377e-06, 2.6226414e-06, 2.6792452e-06, 2.735849e-06, 2.7924527e-06, 2.8490565e-06, 2.9056603e-06, 2.9622643e-06, 3.018868e-06, 3.0754718e-06, 3.1320756e-06, 3.1886793e-06, 3.245283e-06, 3.3018869e-06, 3.3584906e-06, 3.4150944e-06, 3.4716982e-06, 3.528302e-06, 3.5849057e-06, 3.6415095e-06, 3.6981132e-06, 3.754717e-06, 3.8113208e-06, 3.8679245e-06, 3.9245283e-06, 3.981132e-06, 4.037736e-06, 4.0943396e-06, 4.1509434e-06, 4.207547e-06, 4.264151e-06, 4.3207547e-06, 4.3773584e-06, 4.433962e-06, 4.490566e-06, 4.5471697e-06, 4.6037735e-06, 4.6603773e-06, 4.716981e-06, 4.773585e-06, 4.8301886e-06, 4.8867923e-06, 4.943396e-06, 5e-06, 5.0566036e-06, 5.1132074e-06, 5.169811e-06, 5.226415e-06, 5.2830187e-06, 5.3396225e-06, 5.3962262e-06, 5.45283e-06, 5.509434e-06, 5.5660375e-06, 5.6226413e-06, 5.679245e-06, 5.735849e-06, 5.7924526e-06, 5.8490564e-06, 5.9056606e-06, 5.9622644e-06, 6.018868e-06, 6.075472e-06, 6.1320757e-06, 6.1886794e-06, 6.245283e-06, 6.301887e-06, 6.3584907e-06, 6.4150945e-06, 6.4716983e-06, 6.528302e-06, 6.584906e-06, 6.6415096e-06, 6.6981133e-06, 6.754717e-06, 6.811321e-06, 6.8679246e-06, 6.9245284e-06, 6.981132e-06, 7.037736e-06, 7.0943397e-06, 7.1509435e-06, 7.2075472e-06, 7.264151e-06, 7.320755e-06, 7.3773585e-06, 7.4339623e-06, 7.490566e-06, 7.54717e-06, 7.6037736e-06, 7.660377e-06, 7.716981e-06, 7.773585e-06, 7.830189e-06, 7.886792e-06, 7.943397e-06, 8e-06, 8.056604e-06, 8.1132075e-06, 8.169812e-06, 8.226415e-06, 8.283019e-06, 8.339623e-06, 8.396227e-06, 8.45283e-06, 8.509434e-06, 8.566038e-06, 8.622642e-06, 8.679245e-06, 8.735849e-06, 8.792453e-06, 8.849057e-06, 8.90566e-06, 8.9622645e-06, 9.018868e-06, 9.075472e-06, 9.132075e-06, 9.1886795e-06, 9.245283e-06, 9.301887e-06, 9.35849e-06, 9.415095e-06, 9.471698e-06, 9.528302e-06, 9.5849055e-06, 9.64151e-06, 9.698113e-06, 9.754717e-06, 9.8113205e-06, 9.867925e-06, 9.924528e-06, 9.981132e-06, 1.0037736e-05, 1.009434e-05, 1.0150943e-05, 1.0207547e-05, 1.0264151e-05, 1.0320755e-05, 1.0377358e-05, 1.0433962e-05, 1.0490566e-05, 1.054717e-05, 1.0603773e-05, 1.06603775e-05, 1.0716981e-05, 1.0773585e-05, 1.0830188e-05, 1.0886793e-05, 1.0943396e-05, 1.1e-05, 1.1056603e-05, 1.1113208e-05, 1.1169811e-05, 1.1226415e-05, 1.12830185e-05, 1.1339623e-05, 1.1396226e-05, 1.145283e-05, 1.15094335e-05, 1.1566038e-05, 1.1622641e-05, 1.1679245e-05, 1.1735849e-05, 1.1792453e-05, 1.1849057e-05, 1.190566e-05, 1.1962265e-05, 1.2018868e-05, 1.2075472e-05, 1.2132075e-05, 1.218868e-05, 1.2245283e-05, 1.2301887e-05, 1.23584905e-05, 1.2415095e-05, 1.2471698e-05, 1.2528302e-05, 1.2584906e-05, 1.264151e-05, 1.2698113e-05, 1.2754717e-05, 1.2811321e-05, 1.2867925e-05, 1.2924528e-05, 1.2981132e-05, 1.3037736e-05, 1.309434e-05, 1.3150943e-05, 1.3207547e-05, 1.3264151e-05, 1.3320755e-05, 1.3377358e-05, 1.34339625e-05, 1.3490566e-05, 1.354717e-05, 1.3603773e-05, 1.3660378e-05, 1.3716981e-05, 1.3773585e-05, 1.3830188e-05, 1.3886793e-05, 1.3943396e-05, 1.4e-05, 1.40566035e-05, 1.4113208e-05, 1.4169811e-05, 1.4226415e-05, 1.4283019e-05, 1.4339623e-05, 1.4396226e-05, 1.445283e-05, 1.4509434e-05, 1.4566038e-05, 1.4622641e-05, 1.4679245e-05, 1.4735849e-05, 1.4792453e-05, 1.4849056e-05, 1.49056605e-05, 1.4962264e-05, 1.5018868e-05, 1.5075471e-05, 1.51320755e-05, 1.5188679e-05, 1.5245283e-05, 1.5301886e-05, 1.535849e-05, 1.5415095e-05, 1.5471698e-05, 1.5528301e-05, 1.5584905e-05, 1.564151e-05, 1.5698113e-05, 1.5754717e-05, 1.5811322e-05, 1.5867925e-05, 1.5924528e-05, 1.5981132e-05, 1.6037737e-05, 1.609434e-05, 1.6150943e-05, 1.6207547e-05, 1.6264152e-05, 1.6320755e-05, 1.6377358e-05, 1.6433962e-05, 1.6490567e-05, 1.654717e-05, 1.6603773e-05, 1.6660377e-05, 1.6716982e-05, 1.6773585e-05, 1.6830189e-05, 1.6886792e-05, 1.6943397e-05, 1.7e-05, 1.7056604e-05, 1.7113207e-05, 1.7169812e-05, 1.7226415e-05, 1.7283019e-05, 1.7339622e-05, 1.7396227e-05, 1.745283e-05, 1.7509434e-05, 1.7566037e-05, 1.7622642e-05, 1.7679246e-05, 1.7735849e-05, 1.7792452e-05, 1.7849057e-05, 1.790566e-05, 1.7962264e-05, 1.8018867e-05, 1.8075472e-05, 1.8132076e-05, 1.8188679e-05, 1.8245282e-05, 1.8301887e-05, 1.835849e-05, 1.8415094e-05, 1.8471697e-05, 1.8528302e-05, 1.8584906e-05, 1.8641509e-05, 1.8698112e-05, 1.8754718e-05, 1.881132e-05, 1.8867924e-05, 1.8924527e-05, 1.8981133e-05, 1.9037736e-05, 1.909434e-05, 1.9150943e-05, 1.9207548e-05, 1.9264151e-05, 1.9320754e-05, 1.9377358e-05, 1.9433963e-05, 1.9490566e-05, 1.954717e-05, 1.9603774e-05, 1.9660378e-05, 1.9716981e-05, 1.9773584e-05, 1.983019e-05, 1.9886793e-05, 1.9943396e-05, 2e-05, 1.993717e-05, 1.987434e-05, 1.9811509e-05, 1.9748679e-05, 1.968585e-05, 1.962302e-05, 1.9560188e-05, 1.9497358e-05, 1.9434528e-05, 1.9371699e-05, 1.9308867e-05, 1.9246037e-05, 1.9183208e-05, 1.9120378e-05, 1.9057547e-05, 1.8994717e-05, 1.8931887e-05, 1.8869057e-05, 1.8806226e-05, 1.8743396e-05, 1.8680566e-05, 1.8617737e-05, 1.8554905e-05, 1.8492075e-05, 1.8429246e-05, 1.8366414e-05, 1.8303585e-05, 1.8240755e-05, 1.8177925e-05, 1.8115094e-05, 1.8052264e-05, 1.7989434e-05, 1.7926604e-05, 1.7863773e-05, 1.7800943e-05, 1.7738113e-05, 1.7675284e-05, 1.7612452e-05, 1.7549622e-05, 1.7486793e-05, 1.7423963e-05, 1.7361132e-05, 1.7298302e-05, 1.7235472e-05, 1.7172642e-05, 1.710981e-05, 1.7046981e-05, 1.6984151e-05, 1.692132e-05, 1.685849e-05, 1.679566e-05, 1.673283e-05, 1.667e-05, 1.660717e-05, 1.654434e-05, 1.648151e-05, 1.6418679e-05, 1.6355849e-05, 1.629302e-05, 1.623019e-05, 1.6167358e-05, 1.6104528e-05, 1.6041698e-05, 1.5978869e-05, 1.5916037e-05, 1.5853208e-05, 1.5790378e-05, 1.5727546e-05, 1.5664717e-05, 1.5601887e-05, 1.5539057e-05, 1.5476226e-05, 1.5413396e-05, 1.5350566e-05, 1.5287736e-05, 1.5224906e-05, 1.5162075e-05, 1.50992455e-05, 1.5036415e-05, 1.4973585e-05, 1.49107545e-05, 1.4847925e-05, 1.4785094e-05, 1.47222645e-05, 1.4659434e-05, 1.4596604e-05, 1.45337735e-05, 1.4470944e-05, 1.4408113e-05, 1.4345283e-05, 1.4282453e-05, 1.4219622e-05, 1.41567925e-05, 1.4093962e-05, 1.4031132e-05, 1.3968302e-05, 1.3905472e-05, 1.3842641e-05, 1.37798115e-05, 1.3716981e-05, 1.3654151e-05, 1.3591321e-05, 1.3528491e-05, 1.346566e-05, 1.34028305e-05, 1.334e-05, 1.327717e-05, 1.321434e-05, 1.315151e-05, 1.3088679e-05, 1.3025849e-05, 1.2963019e-05, 1.2900188e-05, 1.2837359e-05, 1.2774528e-05, 1.2711698e-05, 1.2648868e-05, 1.2586038e-05, 1.2523207e-05, 1.2460378e-05, 1.2397547e-05, 1.2334717e-05, 1.2271887e-05, 1.2209057e-05, 1.2146226e-05, 1.20833965e-05, 1.2020566e-05, 1.1957736e-05, 1.1894906e-05, 1.1832076e-05, 1.1769245e-05, 1.17064155e-05, 1.1643585e-05, 1.1580754e-05, 1.1517925e-05, 1.1455094e-05, 1.1392264e-05, 1.1329434e-05, 1.1266604e-05, 1.1203773e-05, 1.1140944e-05, 1.1078113e-05, 1.1015283e-05, 1.0952453e-05, 1.0889623e-05, 1.0826792e-05, 1.0763963e-05, 1.0701132e-05, 1.0638302e-05, 1.0575472e-05, 1.0512642e-05, 1.0449811e-05, 1.0386982e-05, 1.0324151e-05, 1.026132e-05, 1.0198491e-05, 1.013566e-05, 1.007283e-05, 1.001e-05, 9.94717e-06, 9.884339e-06, 9.82151e-06, 9.758679e-06, 9.695849e-06, 9.633019e-06, 9.570189e-06, 9.507358e-06, 9.444529e-06, 9.381698e-06, 9.318868e-06, 9.256038e-06, 9.193208e-06, 9.130377e-06, 9.067548e-06, 9.004717e-06, 8.941887e-06, 8.879057e-06, 8.816226e-06, 8.753396e-06, 8.690566e-06, 8.627736e-06, 8.564905e-06, 8.502076e-06, 8.439245e-06, 8.376415e-06, 8.313585e-06, 8.250755e-06, 8.187924e-06, 8.125095e-06, 8.062264e-06, 7.999434e-06, 7.936604e-06, 7.873774e-06, 7.810943e-06, 7.748114e-06, 7.685283e-06, 7.622453e-06, 7.5596226e-06, 7.4967925e-06, 7.4339623e-06, 7.371132e-06, 7.308302e-06, 7.245472e-06, 7.1826416e-06, 7.1198115e-06, 7.0569813e-06, 6.994151e-06, 6.931321e-06, 6.8684903e-06, 6.80566e-06, 6.74283e-06, 6.68e-06, 6.6171697e-06, 6.5543395e-06, 6.4915093e-06, 6.428679e-06, 6.365849e-06, 6.303019e-06, 6.2401887e-06, 6.1773585e-06, 6.1145283e-06, 6.051698e-06, 5.988868e-06, 5.926038e-06, 5.8632077e-06, 5.8003775e-06, 5.7375473e-06, 5.674717e-06, 5.611887e-06, 5.549057e-06, 5.486226e-06, 5.423396e-06, 5.360566e-06, 5.2977357e-06, 5.2349055e-06, 5.1720754e-06, 5.109245e-06, 5.046415e-06, 4.983585e-06, 4.9207547e-06, 4.8579245e-06, 4.7950944e-06, 4.732264e-06, 4.669434e-06, 4.606604e-06, 4.5437737e-06, 4.4809435e-06, 4.4181133e-06, 4.355283e-06, 4.292453e-06, 4.229623e-06, 4.1667927e-06, 4.103962e-06, 4.041132e-06, 3.9783017e-06, 3.9154716e-06, 3.8526414e-06, 3.7898112e-06, 3.726981e-06, 3.6641509e-06, 3.6013207e-06, 3.5384905e-06, 3.4756604e-06, 3.4128302e-06, 3.35e-06, 3.2871699e-06, 3.2243397e-06, 3.1615095e-06, 3.0986791e-06, 3.035849e-06, 2.9730188e-06, 2.9101886e-06, 2.8473585e-06, 2.7845283e-06, 2.7216981e-06, 2.658868e-06, 2.5960378e-06, 2.5332076e-06, 2.4703775e-06, 2.407547e-06, 2.344717e-06, 2.2818867e-06, 2.2190566e-06, 2.1562264e-06, 2.0933962e-06, 2.030566e-06, 1.967736e-06, 1.9049056e-06, 1.8420754e-06, 1.7792453e-06, 1.7164151e-06, 1.653585e-06, 1.5907547e-06, 1.5279245e-06, 1.4650943e-06, 1.4022642e-06, 1.339434e-06, 1.2766038e-06, 1.2137735e-06, 1.1509434e-06, 1.0881132e-06, 1.025283e-06, 9.624529e-07, 8.9962265e-07, 8.367925e-07, 7.7396226e-07, 7.111321e-07, 6.4830186e-07, 5.854717e-07, 5.226415e-07, 4.5981133e-07, 3.9698114e-07, 3.3415094e-07, 2.7132074e-07, 2.0849056e-07, 1.4566038e-07, 8.283019e-08, 2e-06, 2.0566038e-06, 2.1132075e-06, 2.1698113e-06, 2.226415e-06, 2.2830188e-06, 2.3396226e-06, 2.3962264e-06, 2.4528301e-06, 2.509434e-06, 2.5660377e-06, 2.6226414e-06, 2.6792452e-06, 2.735849e-06, 2.7924527e-06, 2.8490565e-06, 2.9056603e-06, 2.9622643e-06, 3.018868e-06, 3.0754718e-06, 3.1320756e-06, 3.1886793e-06, 3.245283e-06, 3.3018869e-06, 3.3584906e-06, 3.4150944e-06, 3.4716982e-06, 3.528302e-06, 3.5849057e-06, 3.6415095e-06, 3.6981132e-06, 3.754717e-06, 3.8113208e-06, 3.8679245e-06, 3.9245283e-06, 3.981132e-06, 4.037736e-06, 4.0943396e-06, 4.1509434e-06, 4.207547e-06, 4.264151e-06, 4.3207547e-06, 4.3773584e-06, 4.433962e-06, 4.490566e-06, 4.5471697e-06, 4.6037735e-06, 4.6603773e-06, 4.716981e-06, 4.773585e-06, 4.8301886e-06, 4.8867923e-06, 4.943396e-06, 5e-06, 5.0566036e-06, 5.1132074e-06, 5.169811e-06, 5.226415e-06, 5.2830187e-06, 5.3396225e-06, 5.3962262e-06, 5.45283e-06, 5.509434e-06, 5.5660375e-06, 5.6226413e-06, 5.679245e-06, 5.735849e-06, 5.7924526e-06, 5.8490564e-06, 5.9056606e-06, 5.9622644e-06, 6.018868e-06, 6.075472e-06, 6.1320757e-06, 6.1886794e-06, 6.245283e-06, 6.301887e-06, 6.3584907e-06, 6.4150945e-06, 6.4716983e-06, 6.528302e-06, 6.584906e-06, 6.6415096e-06, 6.6981133e-06, 6.754717e-06, 6.811321e-06, 6.8679246e-06, 6.9245284e-06, 6.981132e-06, 7.037736e-06, 7.0943397e-06, 7.1509435e-06, 7.2075472e-06, 7.264151e-06, 7.320755e-06, 7.3773585e-06, 7.4339623e-06, 7.490566e-06, 7.54717e-06, 7.6037736e-06, 7.660377e-06, 7.716981e-06, 7.773585e-06, 7.830189e-06, 7.886792e-06, 7.943397e-06, 8e-06, 8.056604e-06, 8.1132075e-06, 8.169812e-06, 8.226415e-06, 8.283019e-06, 8.339623e-06, 8.396227e-06, 8.45283e-06, 8.509434e-06, 8.566038e-06, 8.622642e-06, 8.679245e-06, 8.735849e-06, 8.792453e-06, 8.849057e-06, 8.90566e-06, 8.9622645e-06, 9.018868e-06, 9.075472e-06, 9.132075e-06, 9.1886795e-06, 9.245283e-06, 9.301887e-06, 9.35849e-06, 9.415095e-06, 9.471698e-06, 9.528302e-06, 9.5849055e-06, 9.64151e-06, 9.698113e-06, 9.754717e-06, 9.8113205e-06, 9.867925e-06, 9.924528e-06, 9.981132e-06, 1.0037736e-05, 1.009434e-05, 1.0150943e-05, 1.0207547e-05, 1.0264151e-05, 1.0320755e-05, 1.0377358e-05, 1.0433962e-05, 1.0490566e-05, 1.054717e-05, 1.0603773e-05, 1.06603775e-05, 1.0716981e-05, 1.0773585e-05, 1.0830188e-05, 1.0886793e-05, 1.0943396e-05, 1.1e-05, 1.1056603e-05, 1.1113208e-05, 1.1169811e-05, 1.1226415e-05, 1.12830185e-05, 1.1339623e-05, 1.1396226e-05, 1.145283e-05, 1.15094335e-05, 1.1566038e-05, 1.1622641e-05, 1.1679245e-05, 1.1735849e-05, 1.1792453e-05, 1.1849057e-05, 1.190566e-05, 1.1962265e-05, 1.2018868e-05, 1.2075472e-05, 1.2132075e-05, 1.218868e-05, 1.2245283e-05, 1.2301887e-05, 1.23584905e-05, 1.2415095e-05, 1.2471698e-05, 1.2528302e-05, 1.2584906e-05, 1.264151e-05, 1.2698113e-05, 1.2754717e-05, 1.2811321e-05, 1.2867925e-05, 1.2924528e-05, 1.2981132e-05, 1.3037736e-05, 1.309434e-05, 1.3150943e-05, 1.3207547e-05, 1.3264151e-05, 1.3320755e-05, 1.3377358e-05, 1.34339625e-05, 1.3490566e-05, 1.354717e-05, 1.3603773e-05, 1.3660378e-05, 1.3716981e-05, 1.3773585e-05, 1.3830188e-05, 1.3886793e-05, 1.3943396e-05, 1.4e-05, 1.40566035e-05, 1.4113208e-05, 1.4169811e-05, 1.4226415e-05, 1.4283019e-05, 1.4339623e-05, 1.4396226e-05, 1.445283e-05, 1.4509434e-05, 1.4566038e-05, 1.4622641e-05, 1.4679245e-05, 1.4735849e-05, 1.4792453e-05, 1.4849056e-05, 1.49056605e-05, 1.4962264e-05, 1.5018868e-05, 1.5075471e-05, 1.51320755e-05, 1.5188679e-05, 1.5245283e-05, 1.5301886e-05, 1.535849e-05, 1.5415095e-05, 1.5471698e-05, 1.5528301e-05, 1.5584905e-05, 1.564151e-05, 1.5698113e-05, 1.5754717e-05, 1.5811322e-05, 1.5867925e-05, 1.5924528e-05, 1.5981132e-05, 1.6037737e-05, 1.609434e-05, 1.6150943e-05, 1.6207547e-05, 1.6264152e-05, 1.6320755e-05, 1.6377358e-05, 1.6433962e-05, 1.6490567e-05, 1.654717e-05, 1.6603773e-05, 1.6660377e-05, 1.6716982e-05, 1.6773585e-05, 1.6830189e-05, 1.6886792e-05, 1.6943397e-05, 1.7e-05, 1.7056604e-05, 1.7113207e-05, 1.7169812e-05, 1.7226415e-05, 1.7283019e-05, 1.7339622e-05, 1.7396227e-05, 1.745283e-05, 1.7509434e-05, 1.7566037e-05, 1.7622642e-05, 1.7679246e-05, 1.7735849e-05, 1.7792452e-05, 1.7849057e-05, 1.790566e-05, 1.7962264e-05, 1.8018867e-05, 1.8075472e-05, 1.8132076e-05, 1.8188679e-05, 1.8245282e-05, 1.8301887e-05, 1.835849e-05, 1.8415094e-05, 1.8471697e-05, 1.8528302e-05, 1.8584906e-05, 1.8641509e-05, 1.8698112e-05, 1.8754718e-05, 1.881132e-05, 1.8867924e-05, 1.8924527e-05, 1.8981133e-05, 1.9037736e-05, 1.909434e-05, 1.9150943e-05, 1.9207548e-05, 1.9264151e-05, 1.9320754e-05, 1.9377358e-05, 1.9433963e-05, 1.9490566e-05, 1.954717e-05, 1.9603774e-05, 1.9660378e-05, 1.9716981e-05, 1.9773584e-05, 1.983019e-05, 1.9886793e-05, 1.9943396e-05, 2e-05, 1.993717e-05, 1.987434e-05, 1.9811509e-05, 1.9748679e-05, 1.968585e-05, 1.962302e-05, 1.9560188e-05, 1.9497358e-05, 1.9434528e-05, 1.9371699e-05, 1.9308867e-05, 1.9246037e-05, 1.9183208e-05, 1.9120378e-05, 1.9057547e-05, 1.8994717e-05, 1.8931887e-05, 1.8869057e-05, 1.8806226e-05, 1.8743396e-05, 1.8680566e-05, 1.8617737e-05, 1.8554905e-05, 1.8492075e-05, 1.8429246e-05, 1.8366414e-05, 1.8303585e-05, 1.8240755e-05, 1.8177925e-05, 1.8115094e-05, 1.8052264e-05, 1.7989434e-05, 1.7926604e-05, 1.7863773e-05, 1.7800943e-05, 1.7738113e-05, 1.7675284e-05, 1.7612452e-05, 1.7549622e-05, 1.7486793e-05, 1.7423963e-05, 1.7361132e-05, 1.7298302e-05, 1.7235472e-05, 1.7172642e-05, 1.710981e-05, 1.7046981e-05, 1.6984151e-05, 1.692132e-05, 1.685849e-05, 1.679566e-05, 1.673283e-05, 1.667e-05, 1.660717e-05, 1.654434e-05, 1.648151e-05, 1.6418679e-05, 1.6355849e-05, 1.629302e-05, 1.623019e-05, 1.6167358e-05, 1.6104528e-05, 1.6041698e-05, 1.5978869e-05, 1.5916037e-05, 1.5853208e-05, 1.5790378e-05, 1.5727546e-05, 1.5664717e-05, 1.5601887e-05, 1.5539057e-05, 1.5476226e-05, 1.5413396e-05, 1.5350566e-05, 1.5287736e-05, 1.5224906e-05, 1.5162075e-05, 1.50992455e-05, 1.5036415e-05, 1.4973585e-05, 1.49107545e-05, 1.4847925e-05, 1.4785094e-05, 1.47222645e-05, 1.4659434e-05, 1.4596604e-05, 1.45337735e-05, 1.4470944e-05, 1.4408113e-05, 1.4345283e-05, 1.4282453e-05, 1.4219622e-05, 1.41567925e-05, 1.4093962e-05, 1.4031132e-05, 1.3968302e-05, 1.3905472e-05, 1.3842641e-05, 1.37798115e-05, 1.3716981e-05, 1.3654151e-05, 1.3591321e-05, 1.3528491e-05, 1.346566e-05, 1.34028305e-05, 1.334e-05, 1.327717e-05, 1.321434e-05, 1.315151e-05, 1.3088679e-05, 1.3025849e-05, 1.2963019e-05, 1.2900188e-05, 1.2837359e-05, 1.2774528e-05, 1.2711698e-05, 1.2648868e-05, 1.2586038e-05, 1.2523207e-05, 1.2460378e-05, 1.2397547e-05, 1.2334717e-05, 1.2271887e-05, 1.2209057e-05, 1.2146226e-05, 1.20833965e-05, 1.2020566e-05, 1.1957736e-05, 1.1894906e-05, 1.1832076e-05, 1.1769245e-05, 1.17064155e-05, 1.1643585e-05, 1.1580754e-05, 1.1517925e-05, 1.1455094e-05, 1.1392264e-05, 1.1329434e-05, 1.1266604e-05, 1.1203773e-05, 1.1140944e-05, 1.1078113e-05, 1.1015283e-05, 1.0952453e-05, 1.0889623e-05, 1.0826792e-05, 1.0763963e-05, 1.0701132e-05, 1.0638302e-05, 1.0575472e-05, 1.0512642e-05, 1.0449811e-05, 1.0386982e-05, 1.0324151e-05, 1.026132e-05, 1.0198491e-05, 1.013566e-05, 1.007283e-05, 1.001e-05, 9.94717e-06, 9.884339e-06, 9.82151e-06, 9.758679e-06, 9.695849e-06, 9.633019e-06, 9.570189e-06, 9.507358e-06, 9.444529e-06, 9.381698e-06, 9.318868e-06, 9.256038e-06, 9.193208e-06, 9.130377e-06, 9.067548e-06, 9.004717e-06, 8.941887e-06, 8.879057e-06, 8.816226e-06, 8.753396e-06, 8.690566e-06, 8.627736e-06, 8.564905e-06, 8.502076e-06, 8.439245e-06, 8.376415e-06, 8.313585e-06, 8.250755e-06, 8.187924e-06, 8.125095e-06, 8.062264e-06, 7.999434e-06, 7.936604e-06, 7.873774e-06, 7.810943e-06, 7.748114e-06, 7.685283e-06, 7.622453e-06, 7.5596226e-06, 7.4967925e-06, 7.4339623e-06, 7.371132e-06, 7.308302e-06, 7.245472e-06, 7.1826416e-06, 7.1198115e-06, 7.0569813e-06, 6.994151e-06, 6.931321e-06, 6.8684903e-06, 6.80566e-06, 6.74283e-06, 6.68e-06, 6.6171697e-06, 6.5543395e-06, 6.4915093e-06, 6.428679e-06, 6.365849e-06, 6.303019e-06, 6.2401887e-06, 6.1773585e-06, 6.1145283e-06, 6.051698e-06, 5.988868e-06, 5.926038e-06, 5.8632077e-06, 5.8003775e-06, 5.7375473e-06, 5.674717e-06, 5.611887e-06, 5.549057e-06, 5.486226e-06, 5.423396e-06, 5.360566e-06, 5.2977357e-06, 5.2349055e-06, 5.1720754e-06, 5.109245e-06, 5.046415e-06, 4.983585e-06, 4.9207547e-06, 4.8579245e-06, 4.7950944e-06, 4.732264e-06, 4.669434e-06, 4.606604e-06, 4.5437737e-06, 4.4809435e-06, 4.4181133e-06, 4.355283e-06, 4.292453e-06, 4.229623e-06, 4.1667927e-06, 4.103962e-06, 4.041132e-06, 3.9783017e-06, 3.9154716e-06, 3.8526414e-06, 3.7898112e-06, 3.726981e-06, 3.6641509e-06, 3.6013207e-06, 3.5384905e-06, 3.4756604e-06, 3.4128302e-06, 3.35e-06, 3.2871699e-06, 3.2243397e-06, 3.1615095e-06, 3.0986791e-06, 3.035849e-06, 2.9730188e-06, 2.9101886e-06, 2.8473585e-06, 2.7845283e-06, 2.7216981e-06, 2.658868e-06, 2.5960378e-06, 2.5332076e-06, 2.4703775e-06, 2.407547e-06, 2.344717e-06, 2.2818867e-06, 2.2190566e-06, 2.1562264e-06, 2.0933962e-06, 2.030566e-06, 1.967736e-06, 1.9049056e-06, 1.8420754e-06, 1.7792453e-06, 1.7164151e-06, 1.653585e-06, 1.5907547e-06, 1.5279245e-06, 1.4650943e-06, 1.4022642e-06, 1.339434e-06, 1.2766038e-06, 1.2137735e-06, 1.1509434e-06, 1.0881132e-06, 1.025283e-06, 9.624529e-07, 8.9962265e-07, 8.367925e-07, 7.7396226e-07, 7.111321e-07, 6.4830186e-07, 5.854717e-07, 5.226415e-07, 4.5981133e-07, 3.9698114e-07, 3.3415094e-07, 2.7132074e-07, 2.0849056e-07, 1.4566038e-07, 8.283019e-08, 2e-06, 2.0566038e-06, 2.1132075e-06, 2.1698113e-06, 2.226415e-06, 2.2830188e-06, 2.3396226e-06, 2.3962264e-06, 2.4528301e-06, 2.509434e-06, 2.5660377e-06, 2.6226414e-06, 2.6792452e-06, 2.735849e-06, 2.7924527e-06, 2.8490565e-06, 2.9056603e-06, 2.9622643e-06, 3.018868e-06, 3.0754718e-06, 3.1320756e-06, 3.1886793e-06, 3.245283e-06, 3.3018869e-06, 3.3584906e-06, 3.4150944e-06, 3.4716982e-06, 3.528302e-06, 3.5849057e-06, 3.6415095e-06, 3.6981132e-06, 3.754717e-06, 3.8113208e-06, 3.8679245e-06, 3.9245283e-06, 3.981132e-06, 4.037736e-06, 4.0943396e-06, 4.1509434e-06, 4.207547e-06, 4.264151e-06, 4.3207547e-06, 4.3773584e-06, 4.433962e-06, 4.490566e-06, 4.5471697e-06, 4.6037735e-06, 4.6603773e-06, 4.716981e-06, 4.773585e-06, 4.8301886e-06, 4.8867923e-06, 4.943396e-06, 5e-06, 5.0566036e-06, 5.1132074e-06, 5.169811e-06, 5.226415e-06, 5.2830187e-06, 5.3396225e-06, 5.3962262e-06, 5.45283e-06, 5.509434e-06, 5.5660375e-06, 5.6226413e-06, 5.679245e-06, 5.735849e-06, 5.7924526e-06, 5.8490564e-06, 5.9056606e-06, 5.9622644e-06, 6.018868e-06, 6.075472e-06, 6.1320757e-06, 6.1886794e-06, 6.245283e-06, 6.301887e-06, 6.3584907e-06, 6.4150945e-06, 6.4716983e-06, 6.528302e-06, 6.584906e-06, 6.6415096e-06, 6.6981133e-06, 6.754717e-06, 6.811321e-06, 6.8679246e-06, 6.9245284e-06, 6.981132e-06, 7.037736e-06, 7.0943397e-06, 7.1509435e-06, 7.2075472e-06, 7.264151e-06, 7.320755e-06, 7.3773585e-06, 7.4339623e-06, 7.490566e-06, 7.54717e-06, 7.6037736e-06, 7.660377e-06, 7.716981e-06, 7.773585e-06, 7.830189e-06, 7.886792e-06, 7.943397e-06, 8e-06, 8.056604e-06, 8.1132075e-06, 8.169812e-06, 8.226415e-06, 8.283019e-06, 8.339623e-06, 8.396227e-06, 8.45283e-06, 8.509434e-06, 8.566038e-06, 8.622642e-06, 8.679245e-06, 8.735849e-06, 8.792453e-06, 8.849057e-06, 8.90566e-06, 8.9622645e-06, 9.018868e-06, 9.075472e-06, 9.132075e-06, 9.1886795e-06, 9.245283e-06, 9.301887e-06, 9.35849e-06, 9.415095e-06, 9.471698e-06, 9.528302e-06, 9.5849055e-06, 9.64151e-06, 9.698113e-06, 9.754717e-06, 9.8113205e-06, 9.867925e-06, 9.924528e-06, 9.981132e-06, 1.0037736e-05, 1.009434e-05, 1.0150943e-05, 1.0207547e-05, 1.0264151e-05, 1.0320755e-05, 1.0377358e-05, 1.0433962e-05, 1.0490566e-05, 1.054717e-05, 1.0603773e-05, 1.06603775e-05, 1.0716981e-05, 1.0773585e-05, 1.0830188e-05, 1.0886793e-05, 1.0943396e-05, 1.1e-05, 1.1056603e-05, 1.1113208e-05, 1.1169811e-05, 1.1226415e-05, 1.12830185e-05, 1.1339623e-05, 1.1396226e-05, 1.145283e-05, 1.15094335e-05, 1.1566038e-05, 1.1622641e-05, 1.1679245e-05, 1.1735849e-05, 1.1792453e-05, 1.1849057e-05, 1.190566e-05, 1.1962265e-05, 1.2018868e-05, 1.2075472e-05, 1.2132075e-05, 1.218868e-05, 1.2245283e-05, 1.2301887e-05, 1.23584905e-05, 1.2415095e-05, 1.2471698e-05, 1.2528302e-05, 1.2584906e-05, 1.264151e-05, 1.2698113e-05, 1.2754717e-05, 1.2811321e-05, 1.2867925e-05, 1.2924528e-05, 1.2981132e-05, 1.3037736e-05, 1.309434e-05, 1.3150943e-05, 1.3207547e-05, 1.3264151e-05, 1.3320755e-05, 1.3377358e-05, 1.34339625e-05, 1.3490566e-05, 1.354717e-05, 1.3603773e-05, 1.3660378e-05, 1.3716981e-05, 1.3773585e-05, 1.3830188e-05, 1.3886793e-05, 1.3943396e-05, 1.4e-05, 1.40566035e-05, 1.4113208e-05, 1.4169811e-05, 1.4226415e-05, 1.4283019e-05, 1.4339623e-05, 1.4396226e-05, 1.445283e-05, 1.4509434e-05, 1.4566038e-05, 1.4622641e-05, 1.4679245e-05, 1.4735849e-05, 1.4792453e-05, 1.4849056e-05, 1.49056605e-05, 1.4962264e-05, 1.5018868e-05, 1.5075471e-05, 1.51320755e-05, 1.5188679e-05, 1.5245283e-05, 1.5301886e-05, 1.535849e-05, 1.5415095e-05, 1.5471698e-05, 1.5528301e-05, 1.5584905e-05, 1.564151e-05, 1.5698113e-05, 1.5754717e-05, 1.5811322e-05, 1.5867925e-05, 1.5924528e-05, 1.5981132e-05, 1.6037737e-05, 1.609434e-05, 1.6150943e-05, 1.6207547e-05, 1.6264152e-05, 1.6320755e-05, 1.6377358e-05, 1.6433962e-05, 1.6490567e-05, 1.654717e-05, 1.6603773e-05, 1.6660377e-05, 1.6716982e-05, 1.6773585e-05, 1.6830189e-05, 1.6886792e-05, 1.6943397e-05, 1.7e-05, 1.7056604e-05, 1.7113207e-05, 1.7169812e-05, 1.7226415e-05, 1.7283019e-05, 1.7339622e-05, 1.7396227e-05, 1.745283e-05, 1.7509434e-05, 1.7566037e-05, 1.7622642e-05, 1.7679246e-05, 1.7735849e-05, 1.7792452e-05, 1.7849057e-05, 1.790566e-05, 1.7962264e-05, 1.8018867e-05, 1.8075472e-05, 1.8132076e-05, 1.8188679e-05, 1.8245282e-05, 1.8301887e-05, 1.835849e-05, 1.8415094e-05, 1.8471697e-05, 1.8528302e-05, 1.8584906e-05, 1.8641509e-05, 1.8698112e-05, 1.8754718e-05, 1.881132e-05, 1.8867924e-05, 1.8924527e-05, 1.8981133e-05, 1.9037736e-05, 1.909434e-05, 1.9150943e-05, 1.9207548e-05, 1.9264151e-05, 1.9320754e-05, 1.9377358e-05, 1.9433963e-05, 1.9490566e-05, 1.954717e-05, 1.9603774e-05, 1.9660378e-05, 1.9716981e-05, 1.9773584e-05, 1.983019e-05, 1.9886793e-05, 1.9943396e-05, 2e-05, 1.993717e-05, 1.987434e-05, 1.9811509e-05, 1.9748679e-05, 1.968585e-05, 1.962302e-05, 1.9560188e-05, 1.9497358e-05, 1.9434528e-05, 1.9371699e-05, 1.9308867e-05, 1.9246037e-05, 1.9183208e-05, 1.9120378e-05, 1.9057547e-05, 1.8994717e-05, 1.8931887e-05, 1.8869057e-05, 1.8806226e-05, 1.8743396e-05, 1.8680566e-05, 1.8617737e-05, 1.8554905e-05, 1.8492075e-05, 1.8429246e-05, 1.8366414e-05, 1.8303585e-05, 1.8240755e-05, 1.8177925e-05, 1.8115094e-05, 1.8052264e-05, 1.7989434e-05, 1.7926604e-05, 1.7863773e-05, 1.7800943e-05, 1.7738113e-05, 1.7675284e-05, 1.7612452e-05, 1.7549622e-05, 1.7486793e-05, 1.7423963e-05, 1.7361132e-05, 1.7298302e-05, 1.7235472e-05, 1.7172642e-05, 1.710981e-05, 1.7046981e-05, 1.6984151e-05, 1.692132e-05, 1.685849e-05, 1.679566e-05, 1.673283e-05, 1.667e-05, 1.660717e-05, 1.654434e-05, 1.648151e-05, 1.6418679e-05, 1.6355849e-05, 1.629302e-05, 1.623019e-05, 1.6167358e-05, 1.6104528e-05, 1.6041698e-05, 1.5978869e-05, 1.5916037e-05, 1.5853208e-05, 1.5790378e-05, 1.5727546e-05, 1.5664717e-05, 1.5601887e-05, 1.5539057e-05, 1.5476226e-05, 1.5413396e-05, 1.5350566e-05, 1.5287736e-05, 1.5224906e-05, 1.5162075e-05, 1.50992455e-05, 1.5036415e-05, 1.4973585e-05, 1.49107545e-05, 1.4847925e-05, 1.4785094e-05, 1.47222645e-05, 1.4659434e-05, 1.4596604e-05, 1.45337735e-05, 1.4470944e-05, 1.4408113e-05, 1.4345283e-05, 1.4282453e-05, 1.4219622e-05, 1.41567925e-05, 1.4093962e-05, 1.4031132e-05, 1.3968302e-05, 1.3905472e-05, 1.3842641e-05, 1.37798115e-05, 1.3716981e-05, 1.3654151e-05, 1.3591321e-05, 1.3528491e-05, 1.346566e-05, 1.34028305e-05, 1.334e-05, 1.327717e-05, 1.321434e-05, 1.315151e-05, 1.3088679e-05, 1.3025849e-05, 1.2963019e-05, 1.2900188e-05, 1.2837359e-05, 1.2774528e-05, 1.2711698e-05, 1.2648868e-05, 1.2586038e-05, 1.2523207e-05, 1.2460378e-05, 1.2397547e-05, 1.2334717e-05, 1.2271887e-05, 1.2209057e-05, 1.2146226e-05, 1.20833965e-05, 1.2020566e-05, 1.1957736e-05, 1.1894906e-05, 1.1832076e-05, 1.1769245e-05, 1.17064155e-05, 1.1643585e-05, 1.1580754e-05, 1.1517925e-05, 1.1455094e-05, 1.1392264e-05, 1.1329434e-05, 1.1266604e-05, 1.1203773e-05, 1.1140944e-05, 1.1078113e-05, 1.1015283e-05, 1.0952453e-05, 1.0889623e-05, 1.0826792e-05, 1.0763963e-05, 1.0701132e-05, 1.0638302e-05, 1.0575472e-05, 1.0512642e-05, 1.0449811e-05, 1.0386982e-05, 1.0324151e-05, 1.026132e-05, 1.0198491e-05, 1.013566e-05, 1.007283e-05, 1.001e-05, 9.94717e-06, 9.884339e-06, 9.82151e-06, 9.758679e-06, 9.695849e-06, 9.633019e-06, 9.570189e-06, 9.507358e-06, 9.444529e-06, 9.381698e-06, 9.318868e-06, 9.256038e-06, 9.193208e-06, 9.130377e-06, 9.067548e-06, 9.004717e-06, 8.941887e-06, 8.879057e-06, 8.816226e-06, 8.753396e-06, 8.690566e-06, 8.627736e-06, 8.564905e-06, 8.502076e-06, 8.439245e-06, 8.376415e-06, 8.313585e-06, 8.250755e-06, 8.187924e-06, 8.125095e-06, 8.062264e-06, 7.999434e-06, 7.936604e-06, 7.873774e-06, 7.810943e-06, 7.748114e-06, 7.685283e-06, 7.622453e-06, 7.5596226e-06, 7.4967925e-06, 7.4339623e-06, 7.371132e-06, 7.308302e-06, 7.245472e-06, 7.1826416e-06, 7.1198115e-06, 7.0569813e-06, 6.994151e-06, 6.931321e-06, 6.8684903e-06, 6.80566e-06, 6.74283e-06, 6.68e-06, 6.6171697e-06, 6.5543395e-06, 6.4915093e-06, 6.428679e-06, 6.365849e-06, 6.303019e-06, 6.2401887e-06, 6.1773585e-06, 6.1145283e-06, 6.051698e-06, 5.988868e-06, 5.926038e-06, 5.8632077e-06, 5.8003775e-06, 5.7375473e-06, 5.674717e-06, 5.611887e-06, 5.549057e-06, 5.486226e-06, 5.423396e-06, 5.360566e-06, 5.2977357e-06, 5.2349055e-06, 5.1720754e-06, 5.109245e-06, 5.046415e-06, 4.983585e-06, 4.9207547e-06, 4.8579245e-06, 4.7950944e-06, 4.732264e-06, 4.669434e-06, 4.606604e-06, 4.5437737e-06, 4.4809435e-06, 4.4181133e-06, 4.355283e-06, 4.292453e-06, 4.229623e-06, 4.1667927e-06, 4.103962e-06, 4.041132e-06, 3.9783017e-06, 3.9154716e-06, 3.8526414e-06, 3.7898112e-06, 3.726981e-06, 3.6641509e-06, 3.6013207e-06, 3.5384905e-06, 3.4756604e-06, 3.4128302e-06, 3.35e-06, 3.2871699e-06, 3.2243397e-06, 3.1615095e-06, 3.0986791e-06, 3.035849e-06, 2.9730188e-06, 2.9101886e-06, 2.8473585e-06, 2.7845283e-06, 2.7216981e-06, 2.658868e-06, 2.5960378e-06, 2.5332076e-06, 2.4703775e-06, 2.407547e-06, 2.344717e-06, 2.2818867e-06, 2.2190566e-06, 2.1562264e-06, 2.0933962e-06, 2.030566e-06, 1.967736e-06, 1.9049056e-06, 1.8420754e-06, 1.7792453e-06, 1.7164151e-06, 1.653585e-06, 1.5907547e-06, 1.5279245e-06, 1.4650943e-06, 1.4022642e-06, 1.339434e-06, 1.2766038e-06, 1.2137735e-06, 1.1509434e-06, 1.0881132e-06, 1.025283e-06, 9.624529e-07, 8.9962265e-07, 8.367925e-07, 7.7396226e-07, 7.111321e-07, 6.4830186e-07, 5.854717e-07, 5.226415e-07, 4.5981133e-07, 3.9698114e-07, 3.3415094e-07, 2.7132074e-07, 2.0849056e-07, 1.4566038e-07, 8.283019e-08, 2e-06, 2.0566038e-06, 2.1132075e-06, 2.1698113e-06, 2.226415e-06, 2.2830188e-06, 2.3396226e-06, 2.3962264e-06, 2.4528301e-06, 2.509434e-06, 2.5660377e-06, 2.6226414e-06, 2.6792452e-06, 2.735849e-06, 2.7924527e-06, 2.8490565e-06, 2.9056603e-06, 2.9622643e-06, 3.018868e-06, 3.0754718e-06, 3.1320756e-06, 3.1886793e-06, 3.245283e-06, 3.3018869e-06, 3.3584906e-06, 3.4150944e-06, 3.4716982e-06, 3.528302e-06, 3.5849057e-06, 3.6415095e-06, 3.6981132e-06, 3.754717e-06, 3.8113208e-06, 3.8679245e-06, 3.9245283e-06, 3.981132e-06, 4.037736e-06, 4.0943396e-06, 4.1509434e-06, 4.207547e-06, 4.264151e-06, 4.3207547e-06, 4.3773584e-06, 4.433962e-06, 4.490566e-06, 4.5471697e-06, 4.6037735e-06, 4.6603773e-06, 4.716981e-06, 4.773585e-06, 4.8301886e-06, 4.8867923e-06, 4.943396e-06, 5e-06, 5.0566036e-06, 5.1132074e-06, 5.169811e-06, 5.226415e-06, 5.2830187e-06, 5.3396225e-06, 5.3962262e-06, 5.45283e-06, 5.509434e-06, 5.5660375e-06, 5.6226413e-06, 5.679245e-06, 5.735849e-06, 5.7924526e-06, 5.8490564e-06, 5.9056606e-06, 5.9622644e-06, 6.018868e-06, 6.075472e-06, 6.1320757e-06, 6.1886794e-06, 6.245283e-06, 6.301887e-06, 6.3584907e-06, 6.4150945e-06, 6.4716983e-06, 6.528302e-06, 6.584906e-06, 6.6415096e-06, 6.6981133e-06, 6.754717e-06, 6.811321e-06, 6.8679246e-06, 6.9245284e-06, 6.981132e-06, 7.037736e-06, 7.0943397e-06, 7.1509435e-06, 7.2075472e-06, 7.264151e-06, 7.320755e-06, 7.3773585e-06, 7.4339623e-06, 7.490566e-06, 7.54717e-06, 7.6037736e-06, 7.660377e-06, 7.716981e-06, 7.773585e-06, 7.830189e-06, 7.886792e-06, 7.943397e-06, 8e-06, 8.056604e-06, 8.1132075e-06, 8.169812e-06, 8.226415e-06, 8.283019e-06, 8.339623e-06, 8.396227e-06, 8.45283e-06, 8.509434e-06, 8.566038e-06, 8.622642e-06, 8.679245e-06, 8.735849e-06, 8.792453e-06, 8.849057e-06, 8.90566e-06, 8.9622645e-06, 9.018868e-06, 9.075472e-06, 9.132075e-06, 9.1886795e-06, 9.245283e-06, 9.301887e-06, 9.35849e-06, 9.415095e-06, 9.471698e-06, 9.528302e-06, 9.5849055e-06, 9.64151e-06, 9.698113e-06, 9.754717e-06, 9.8113205e-06, 9.867925e-06, 9.924528e-06, 9.981132e-06, 1.0037736e-05, 1.009434e-05, 1.0150943e-05, 1.0207547e-05, 1.0264151e-05, 1.0320755e-05, 1.0377358e-05, 1.0433962e-05, 1.0490566e-05, 1.054717e-05, 1.0603773e-05, 1.06603775e-05, 1.0716981e-05, 1.0773585e-05, 1.0830188e-05, 1.0886793e-05, 1.0943396e-05, 1.1e-05, 1.1056603e-05, 1.1113208e-05, 1.1169811e-05, 1.1226415e-05, 1.12830185e-05, 1.1339623e-05, 1.1396226e-05, 1.145283e-05, 1.15094335e-05, 1.1566038e-05, 1.1622641e-05, 1.1679245e-05, 1.1735849e-05, 1.1792453e-05, 1.1849057e-05, 1.190566e-05, 1.1962265e-05, 1.2018868e-05, 1.2075472e-05, 1.2132075e-05, 1.218868e-05, 1.2245283e-05, 1.2301887e-05, 1.23584905e-05, 1.2415095e-05, 1.2471698e-05, 1.2528302e-05, 1.2584906e-05, 1.264151e-05, 1.2698113e-05, 1.2754717e-05, 1.2811321e-05, 1.2867925e-05, 1.2924528e-05, 1.2981132e-05, 1.3037736e-05, 1.309434e-05, 1.3150943e-05, 1.3207547e-05, 1.3264151e-05, 1.3320755e-05, 1.3377358e-05, 1.34339625e-05, 1.3490566e-05, 1.354717e-05, 1.3603773e-05, 1.3660378e-05, 1.3716981e-05, 1.3773585e-05, 1.3830188e-05, 1.3886793e-05, 1.3943396e-05, 1.4e-05, 1.40566035e-05, 1.4113208e-05, 1.4169811e-05, 1.4226415e-05, 1.4283019e-05, 1.4339623e-05, 1.4396226e-05, 1.445283e-05, 1.4509434e-05, 1.4566038e-05, 1.4622641e-05, 1.4679245e-05, 1.4735849e-05, 1.4792453e-05, 1.4849056e-05, 1.49056605e-05, 1.4962264e-05, 1.5018868e-05, 1.5075471e-05, 1.51320755e-05, 1.5188679e-05, 1.5245283e-05, 1.5301886e-05, 1.535849e-05, 1.5415095e-05, 1.5471698e-05, 1.5528301e-05, 1.5584905e-05, 1.564151e-05, 1.5698113e-05, 1.5754717e-05, 1.5811322e-05, 1.5867925e-05, 1.5924528e-05, 1.5981132e-05, 1.6037737e-05, 1.609434e-05, 1.6150943e-05, 1.6207547e-05, 1.6264152e-05, 1.6320755e-05, 1.6377358e-05, 1.6433962e-05, 1.6490567e-05, 1.654717e-05, 1.6603773e-05, 1.6660377e-05, 1.6716982e-05, 1.6773585e-05, 1.6830189e-05, 1.6886792e-05, 1.6943397e-05, 1.7e-05, 1.7056604e-05, 1.7113207e-05, 1.7169812e-05, 1.7226415e-05, 1.7283019e-05, 1.7339622e-05, 1.7396227e-05, 1.745283e-05, 1.7509434e-05, 1.7566037e-05, 1.7622642e-05, 1.7679246e-05, 1.7735849e-05, 1.7792452e-05, 1.7849057e-05, 1.790566e-05, 1.7962264e-05, 1.8018867e-05, 1.8075472e-05, 1.8132076e-05, 1.8188679e-05, 1.8245282e-05, 1.8301887e-05, 1.835849e-05, 1.8415094e-05, 1.8471697e-05, 1.8528302e-05, 1.8584906e-05, 1.8641509e-05, 1.8698112e-05, 1.8754718e-05, 1.881132e-05, 1.8867924e-05, 1.8924527e-05, 1.8981133e-05, 1.9037736e-05, 1.909434e-05, 1.9150943e-05, 1.9207548e-05, 1.9264151e-05, 1.9320754e-05, 1.9377358e-05, 1.9433963e-05, 1.9490566e-05, 1.954717e-05, 1.9603774e-05, 1.9660378e-05, 1.9716981e-05, 1.9773584e-05, 1.983019e-05, 1.9886793e-05, 1.9943396e-05, 2e-05, 1.993717e-05, 1.987434e-05, 1.9811509e-05, 1.9748679e-05, 1.968585e-05, 1.962302e-05, 1.9560188e-05, 1.9497358e-05, 1.9434528e-05, 1.9371699e-05, 1.9308867e-05, 1.9246037e-05, 1.9183208e-05, 1.9120378e-05, 1.9057547e-05, 1.8994717e-05, 1.8931887e-05, 1.8869057e-05, 1.8806226e-05, 1.8743396e-05, 1.8680566e-05, 1.8617737e-05, 1.8554905e-05, 1.8492075e-05, 1.8429246e-05, 1.8366414e-05, 1.8303585e-05, 1.8240755e-05, 1.8177925e-05, 1.8115094e-05, 1.8052264e-05, 1.7989434e-05, 1.7926604e-05, 1.7863773e-05, 1.7800943e-05, 1.7738113e-05, 1.7675284e-05, 1.7612452e-05, 1.7549622e-05, 1.7486793e-05, 1.7423963e-05, 1.7361132e-05, 1.7298302e-05, 1.7235472e-05, 1.7172642e-05, 1.710981e-05, 1.7046981e-05, 1.6984151e-05, 1.692132e-05, 1.685849e-05, 1.679566e-05, 1.673283e-05, 1.667e-05, 1.660717e-05, 1.654434e-05, 1.648151e-05, 1.6418679e-05, 1.6355849e-05, 1.629302e-05, 1.623019e-05, 1.6167358e-05, 1.6104528e-05, 1.6041698e-05, 1.5978869e-05, 1.5916037e-05, 1.5853208e-05, 1.5790378e-05, 1.5727546e-05, 1.5664717e-05, 1.5601887e-05, 1.5539057e-05, 1.5476226e-05, 1.5413396e-05, 1.5350566e-05, 1.5287736e-05, 1.5224906e-05, 1.5162075e-05, 1.50992455e-05, 1.5036415e-05, 1.4973585e-05, 1.49107545e-05, 1.4847925e-05, 1.4785094e-05, 1.47222645e-05, 1.4659434e-05, 1.4596604e-05, 1.45337735e-05, 1.4470944e-05, 1.4408113e-05, 1.4345283e-05, 1.4282453e-05, 1.4219622e-05, 1.41567925e-05, 1.4093962e-05, 1.4031132e-05, 1.3968302e-05, 1.3905472e-05, 1.3842641e-05, 1.37798115e-05, 1.3716981e-05, 1.3654151e-05, 1.3591321e-05, 1.3528491e-05, 1.346566e-05, 1.34028305e-05, 1.334e-05, 1.327717e-05, 1.321434e-05, 1.315151e-05, 1.3088679e-05, 1.3025849e-05, 1.2963019e-05, 1.2900188e-05, 1.2837359e-05, 1.2774528e-05, 1.2711698e-05, 1.2648868e-05, 1.2586038e-05, 1.2523207e-05, 1.2460378e-05, 1.2397547e-05, 1.2334717e-05, 1.2271887e-05, 1.2209057e-05, 1.2146226e-05, 1.20833965e-05, 1.2020566e-05, 1.1957736e-05, 1.1894906e-05, 1.1832076e-05, 1.1769245e-05, 1.17064155e-05, 1.1643585e-05, 1.1580754e-05, 1.1517925e-05, 1.1455094e-05, 1.1392264e-05, 1.1329434e-05, 1.1266604e-05, 1.1203773e-05, 1.1140944e-05, 1.1078113e-05, 1.1015283e-05, 1.0952453e-05, 1.0889623e-05, 1.0826792e-05, 1.0763963e-05, 1.0701132e-05, 1.0638302e-05, 1.0575472e-05, 1.0512642e-05, 1.0449811e-05, 1.0386982e-05, 1.0324151e-05, 1.026132e-05, 1.0198491e-05, 1.013566e-05, 1.007283e-05, 1.001e-05, 9.94717e-06, 9.884339e-06, 9.82151e-06, 9.758679e-06, 9.695849e-06, 9.633019e-06, 9.570189e-06, 9.507358e-06, 9.444529e-06, 9.381698e-06, 9.318868e-06, 9.256038e-06, 9.193208e-06, 9.130377e-06, 9.067548e-06, 9.004717e-06, 8.941887e-06, 8.879057e-06, 8.816226e-06, 8.753396e-06, 8.690566e-06, 8.627736e-06, 8.564905e-06, 8.502076e-06, 8.439245e-06, 8.376415e-06, 8.313585e-06, 8.250755e-06, 8.187924e-06, 8.125095e-06, 8.062264e-06, 7.999434e-06, 7.936604e-06, 7.873774e-06, 7.810943e-06, 7.748114e-06, 7.685283e-06, 7.622453e-06, 7.5596226e-06, 7.4967925e-06, 7.4339623e-06, 7.371132e-06, 7.308302e-06, 7.245472e-06, 7.1826416e-06, 7.1198115e-06, 7.0569813e-06, 6.994151e-06, 6.931321e-06, 6.8684903e-06, 6.80566e-06, 6.74283e-06, 6.68e-06, 6.6171697e-06, 6.5543395e-06, 6.4915093e-06, 6.428679e-06, 6.365849e-06, 6.303019e-06, 6.2401887e-06, 6.1773585e-06, 6.1145283e-06, 6.051698e-06, 5.988868e-06, 5.926038e-06, 5.8632077e-06, 5.8003775e-06, 5.7375473e-06, 5.674717e-06, 5.611887e-06, 5.549057e-06, 5.486226e-06, 5.423396e-06, 5.360566e-06, 5.2977357e-06, 5.2349055e-06, 5.1720754e-06, 5.109245e-06, 5.046415e-06, 4.983585e-06, 4.9207547e-06, 4.8579245e-06, 4.7950944e-06, 4.732264e-06, 4.669434e-06, 4.606604e-06, 4.5437737e-06, 4.4809435e-06, 4.4181133e-06, 4.355283e-06, 4.292453e-06, 4.229623e-06, 4.1667927e-06, 4.103962e-06, 4.041132e-06, 3.9783017e-06, 3.9154716e-06, 3.8526414e-06, 3.7898112e-06, 3.726981e-06, 3.6641509e-06, 3.6013207e-06, 3.5384905e-06, 3.4756604e-06, 3.4128302e-06, 3.35e-06, 3.2871699e-06, 3.2243397e-06, 3.1615095e-06, 3.0986791e-06, 3.035849e-06, 2.9730188e-06, 2.9101886e-06, 2.8473585e-06, 2.7845283e-06, 2.7216981e-06, 2.658868e-06, 2.5960378e-06, 2.5332076e-06, 2.4703775e-06, 2.407547e-06, 2.344717e-06, 2.2818867e-06, 2.2190566e-06, 2.1562264e-06, 2.0933962e-06, 2.030566e-06, 1.967736e-06, 1.9049056e-06, 1.8420754e-06, 1.7792453e-06, 1.7164151e-06, 1.653585e-06, 1.5907547e-06, 1.5279245e-06, 1.4650943e-06, 1.4022642e-06, 1.339434e-06, 1.2766038e-06, 1.2137735e-06, 1.1509434e-06, 1.0881132e-06, 1.025283e-06, 9.624529e-07, 8.9962265e-07, 8.367925e-07, 7.7396226e-07, 7.111321e-07, 6.4830186e-07, 5.854717e-07, 5.226415e-07, 4.5981133e-07, 3.9698114e-07, 3.3415094e-07, 2.7132074e-07, 2.0849056e-07, 1.4566038e-07, 8.283019e-08, 2e-06, 2.0566038e-06, 2.1132075e-06, 2.1698113e-06, 2.226415e-06, 2.2830188e-06, 2.3396226e-06, 2.3962264e-06, 2.4528301e-06, 2.509434e-06, 2.5660377e-06, 2.6226414e-06, 2.6792452e-06, 2.735849e-06, 2.7924527e-06, 2.8490565e-06, 2.9056603e-06, 2.9622643e-06, 3.018868e-06, 3.0754718e-06, 3.1320756e-06, 3.1886793e-06, 3.245283e-06, 3.3018869e-06, 3.3584906e-06, 3.4150944e-06, 3.4716982e-06, 3.528302e-06, 3.5849057e-06, 3.6415095e-06, 3.6981132e-06, 3.754717e-06, 3.8113208e-06, 3.8679245e-06, 3.9245283e-06, 3.981132e-06, 4.037736e-06, 4.0943396e-06, 4.1509434e-06, 4.207547e-06, 4.264151e-06, 4.3207547e-06, 4.3773584e-06, 4.433962e-06, 4.490566e-06, 4.5471697e-06, 4.6037735e-06, 4.6603773e-06, 4.716981e-06, 4.773585e-06, 4.8301886e-06, 4.8867923e-06, 4.943396e-06, 5e-06, 5.0566036e-06, 5.1132074e-06, 5.169811e-06, 5.226415e-06, 5.2830187e-06, 5.3396225e-06, 5.3962262e-06, 5.45283e-06, 5.509434e-06, 5.5660375e-06, 5.6226413e-06, 5.679245e-06, 5.735849e-06, 5.7924526e-06, 5.8490564e-06, 5.9056606e-06, 5.9622644e-06, 6.018868e-06, 6.075472e-06, 6.1320757e-06, 6.1886794e-06, 6.245283e-06, 6.301887e-06, 6.3584907e-06, 6.4150945e-06, 6.4716983e-06, 6.528302e-06, 6.584906e-06, 6.6415096e-06, 6.6981133e-06, 6.754717e-06, 6.811321e-06, 6.8679246e-06, 6.9245284e-06, 6.981132e-06, 7.037736e-06, 7.0943397e-06, 7.1509435e-06, 7.2075472e-06, 7.264151e-06, 7.320755e-06, 7.3773585e-06, 7.4339623e-06, 7.490566e-06, 7.54717e-06, 7.6037736e-06, 7.660377e-06, 7.716981e-06, 7.773585e-06, 7.830189e-06, 7.886792e-06, 7.943397e-06, 8e-06, 8.056604e-06, 8.1132075e-06, 8.169812e-06, 8.226415e-06, 8.283019e-06, 8.339623e-06, 8.396227e-06, 8.45283e-06, 8.509434e-06, 8.566038e-06, 8.622642e-06, 8.679245e-06, 8.735849e-06, 8.792453e-06, 8.849057e-06, 8.90566e-06, 8.9622645e-06, 9.018868e-06, 9.075472e-06, 9.132075e-06, 9.1886795e-06, 9.245283e-06, 9.301887e-06, 9.35849e-06, 9.415095e-06, 9.471698e-06, 9.528302e-06, 9.5849055e-06, 9.64151e-06, 9.698113e-06, 9.754717e-06, 9.8113205e-06, 9.867925e-06, 9.924528e-06, 9.981132e-06, 1.0037736e-05, 1.009434e-05, 1.0150943e-05, 1.0207547e-05, 1.0264151e-05, 1.0320755e-05, 1.0377358e-05, 1.0433962e-05, 1.0490566e-05, 1.054717e-05, 1.0603773e-05, 1.06603775e-05, 1.0716981e-05, 1.0773585e-05, 1.0830188e-05, 1.0886793e-05, 1.0943396e-05, 1.1e-05, 1.1056603e-05, 1.1113208e-05, 1.1169811e-05, 1.1226415e-05, 1.12830185e-05, 1.1339623e-05, 1.1396226e-05, 1.145283e-05, 1.15094335e-05, 1.1566038e-05, 1.1622641e-05, 1.1679245e-05, 1.1735849e-05, 1.1792453e-05, 1.1849057e-05, 1.190566e-05, 1.1962265e-05, 1.2018868e-05, 1.2075472e-05, 1.2132075e-05, 1.218868e-05, 1.2245283e-05, 1.2301887e-05, 1.23584905e-05, 1.2415095e-05, 1.2471698e-05, 1.2528302e-05, 1.2584906e-05, 1.264151e-05, 1.2698113e-05, 1.2754717e-05, 1.2811321e-05, 1.2867925e-05, 1.2924528e-05, 1.2981132e-05, 1.3037736e-05, 1.309434e-05, 1.3150943e-05, 1.3207547e-05, 1.3264151e-05, 1.3320755e-05, 1.3377358e-05, 1.34339625e-05, 1.3490566e-05, 1.354717e-05, 1.3603773e-05, 1.3660378e-05, 1.3716981e-05, 1.3773585e-05, 1.3830188e-05, 1.3886793e-05, 1.3943396e-05, 1.4e-05, 1.40566035e-05, 1.4113208e-05, 1.4169811e-05, 1.4226415e-05, 1.4283019e-05, 1.4339623e-05, 1.4396226e-05, 1.445283e-05, 1.4509434e-05, 1.4566038e-05, 1.4622641e-05, 1.4679245e-05, 1.4735849e-05, 1.4792453e-05, 1.4849056e-05, 1.49056605e-05, 1.4962264e-05, 1.5018868e-05, 1.5075471e-05, 1.51320755e-05, 1.5188679e-05, 1.5245283e-05, 1.5301886e-05, 1.535849e-05, 1.5415095e-05, 1.5471698e-05, 1.5528301e-05, 1.5584905e-05, 1.564151e-05, 1.5698113e-05, 1.5754717e-05, 1.5811322e-05, 1.5867925e-05, 1.5924528e-05, 1.5981132e-05, 1.6037737e-05, 1.609434e-05, 1.6150943e-05, 1.6207547e-05, 1.6264152e-05, 1.6320755e-05, 1.6377358e-05, 1.6433962e-05, 1.6490567e-05, 1.654717e-05, 1.6603773e-05, 1.6660377e-05, 1.6716982e-05, 1.6773585e-05, 1.6830189e-05, 1.6886792e-05, 1.6943397e-05, 1.7e-05, 1.7056604e-05, 1.7113207e-05, 1.7169812e-05, 1.7226415e-05, 1.7283019e-05, 1.7339622e-05, 1.7396227e-05, 1.745283e-05, 1.7509434e-05, 1.7566037e-05, 1.7622642e-05, 1.7679246e-05, 1.7735849e-05, 1.7792452e-05, 1.7849057e-05, 1.790566e-05, 1.7962264e-05, 1.8018867e-05, 1.8075472e-05, 1.8132076e-05, 1.8188679e-05, 1.8245282e-05, 1.8301887e-05, 1.835849e-05, 1.8415094e-05, 1.8471697e-05, 1.8528302e-05, 1.8584906e-05, 1.8641509e-05, 1.8698112e-05, 1.8754718e-05, 1.881132e-05, 1.8867924e-05, 1.8924527e-05, 1.8981133e-05, 1.9037736e-05, 1.909434e-05, 1.9150943e-05, 1.9207548e-05, 1.9264151e-05, 1.9320754e-05, 1.9377358e-05, 1.9433963e-05, 1.9490566e-05, 1.954717e-05, 1.9603774e-05, 1.9660378e-05, 1.9716981e-05, 1.9773584e-05, 1.983019e-05, 1.9886793e-05, 1.9943396e-05, 2e-05, 1.993717e-05, 1.987434e-05, 1.9811509e-05, 1.9748679e-05, 1.968585e-05, 1.962302e-05, 1.9560188e-05, 1.9497358e-05, 1.9434528e-05, 1.9371699e-05, 1.9308867e-05, 1.9246037e-05, 1.9183208e-05, 1.9120378e-05, 1.9057547e-05, 1.8994717e-05, 1.8931887e-05, 1.8869057e-05, 1.8806226e-05, 1.8743396e-05, 1.8680566e-05, 1.8617737e-05, 1.8554905e-05, 1.8492075e-05, 1.8429246e-05, 1.8366414e-05, 1.8303585e-05, 1.8240755e-05, 1.8177925e-05, 1.8115094e-05, 1.8052264e-05, 1.7989434e-05, 1.7926604e-05, 1.7863773e-05, 1.7800943e-05, 1.7738113e-05, 1.7675284e-05, 1.7612452e-05, 1.7549622e-05, 1.7486793e-05, 1.7423963e-05, 1.7361132e-05, 1.7298302e-05, 1.7235472e-05, 1.7172642e-05, 1.710981e-05, 1.7046981e-05, 1.6984151e-05, 1.692132e-05, 1.685849e-05, 1.679566e-05, 1.673283e-05, 1.667e-05, 1.660717e-05, 1.654434e-05, 1.648151e-05, 1.6418679e-05, 1.6355849e-05, 1.629302e-05, 1.623019e-05, 1.6167358e-05, 1.6104528e-05, 1.6041698e-05, 1.5978869e-05, 1.5916037e-05, 1.5853208e-05, 1.5790378e-05, 1.5727546e-05, 1.5664717e-05, 1.5601887e-05, 1.5539057e-05, 1.5476226e-05, 1.5413396e-05, 1.5350566e-05, 1.5287736e-05, 1.5224906e-05, 1.5162075e-05, 1.50992455e-05, 1.5036415e-05, 1.4973585e-05, 1.49107545e-05, 1.4847925e-05, 1.4785094e-05, 1.47222645e-05, 1.4659434e-05, 1.4596604e-05, 1.45337735e-05, 1.4470944e-05, 1.4408113e-05, 1.4345283e-05, 1.4282453e-05, 1.4219622e-05, 1.41567925e-05, 1.4093962e-05, 1.4031132e-05, 1.3968302e-05, 1.3905472e-05, 1.3842641e-05, 1.37798115e-05, 1.3716981e-05, 1.3654151e-05, 1.3591321e-05, 1.3528491e-05, 1.346566e-05, 1.34028305e-05, 1.334e-05, 1.327717e-05, 1.321434e-05, 1.315151e-05, 1.3088679e-05, 1.3025849e-05, 1.2963019e-05, 1.2900188e-05, 1.2837359e-05, 1.2774528e-05, 1.2711698e-05, 1.2648868e-05, 1.2586038e-05, 1.2523207e-05, 1.2460378e-05, 1.2397547e-05, 1.2334717e-05, 1.2271887e-05, 1.2209057e-05, 1.2146226e-05, 1.20833965e-05, 1.2020566e-05, 1.1957736e-05, 1.1894906e-05, 1.1832076e-05, 1.1769245e-05, 1.17064155e-05, 1.1643585e-05, 1.1580754e-05, 1.1517925e-05, 1.1455094e-05, 1.1392264e-05, 1.1329434e-05, 1.1266604e-05, 1.1203773e-05, 1.1140944e-05, 1.1078113e-05, 1.1015283e-05, 1.0952453e-05, 1.0889623e-05, 1.0826792e-05, 1.0763963e-05, 1.0701132e-05, 1.0638302e-05, 1.0575472e-05, 1.0512642e-05, 1.0449811e-05, 1.0386982e-05, 1.0324151e-05, 1.026132e-05, 1.0198491e-05, 1.013566e-05, 1.007283e-05, 1.001e-05, 9.94717e-06, 9.884339e-06, 9.82151e-06, 9.758679e-06, 9.695849e-06, 9.633019e-06, 9.570189e-06, 9.507358e-06, 9.444529e-06, 9.381698e-06, 9.318868e-06, 9.256038e-06, 9.193208e-06, 9.130377e-06, 9.067548e-06, 9.004717e-06, 8.941887e-06, 8.879057e-06, 8.816226e-06, 8.753396e-06, 8.690566e-06, 8.627736e-06, 8.564905e-06, 8.502076e-06, 8.439245e-06, 8.376415e-06, 8.313585e-06, 8.250755e-06, 8.187924e-06, 8.125095e-06, 8.062264e-06, 7.999434e-06, 7.936604e-06, 7.873774e-06, 7.810943e-06, 7.748114e-06, 7.685283e-06, 7.622453e-06, 7.5596226e-06, 7.4967925e-06, 7.4339623e-06, 7.371132e-06, 7.308302e-06, 7.245472e-06, 7.1826416e-06, 7.1198115e-06, 7.0569813e-06, 6.994151e-06, 6.931321e-06, 6.8684903e-06, 6.80566e-06, 6.74283e-06, 6.68e-06, 6.6171697e-06, 6.5543395e-06, 6.4915093e-06, 6.428679e-06, 6.365849e-06, 6.303019e-06, 6.2401887e-06, 6.1773585e-06, 6.1145283e-06, 6.051698e-06, 5.988868e-06, 5.926038e-06, 5.8632077e-06, 5.8003775e-06, 5.7375473e-06, 5.674717e-06, 5.611887e-06, 5.549057e-06, 5.486226e-06, 5.423396e-06, 5.360566e-06, 5.2977357e-06, 5.2349055e-06, 5.1720754e-06, 5.109245e-06, 5.046415e-06, 4.983585e-06, 4.9207547e-06, 4.8579245e-06, 4.7950944e-06, 4.732264e-06, 4.669434e-06, 4.606604e-06, 4.5437737e-06, 4.4809435e-06, 4.4181133e-06, 4.355283e-06, 4.292453e-06, 4.229623e-06, 4.1667927e-06, 4.103962e-06, 4.041132e-06, 3.9783017e-06, 3.9154716e-06, 3.8526414e-06, 3.7898112e-06, 3.726981e-06, 3.6641509e-06, 3.6013207e-06, 3.5384905e-06, 3.4756604e-06, 3.4128302e-06, 3.35e-06, 3.2871699e-06, 3.2243397e-06, 3.1615095e-06, 3.0986791e-06, 3.035849e-06, 2.9730188e-06, 2.9101886e-06, 2.8473585e-06, 2.7845283e-06, 2.7216981e-06, 2.658868e-06, 2.5960378e-06, 2.5332076e-06, 2.4703775e-06, 2.407547e-06, 2.344717e-06, 2.2818867e-06, 2.2190566e-06, 2.1562264e-06, 2.0933962e-06, 2.030566e-06, 1.967736e-06, 1.9049056e-06, 1.8420754e-06, 1.7792453e-06, 1.7164151e-06, 1.653585e-06, 1.5907547e-06, 1.5279245e-06, 1.4650943e-06, 1.4022642e-06, 1.339434e-06, 1.2766038e-06, 1.2137735e-06, 1.1509434e-06, 1.0881132e-06, 1.025283e-06, 9.624529e-07, 8.9962265e-07, 8.367925e-07, 7.7396226e-07, 7.111321e-07, 6.4830186e-07, 5.854717e-07, 5.226415e-07, 4.5981133e-07, 3.9698114e-07]), ('iterations', [1.0, 2.0, 3.0, 4.0, 5.0, 6.0, 7.0, 8.0, 9.0, 10.0, 11.0, 12.0, 13.0, 14.0, 15.0, 16.0, 17.0, 18.0, 19.0, 20.0, 21.0, 22.0, 23.0, 24.0, 25.0, 26.0, 27.0, 28.0, 29.0, 30.0, 31.0, 32.0, 33.0, 34.0, 35.0, 36.0, 37.0, 38.0, 39.0, 40.0, 41.0, 42.0, 43.0, 44.0, 45.0, 46.0, 47.0, 48.0, 49.0, 50.0, 51.0, 52.0, 53.0, 54.0, 55.0, 56.0, 57.0, 58.0, 59.0, 60.0, 61.0, 62.0, 63.0, 64.0, 65.0, 66.0, 67.0, 68.0, 69.0, 70.0, 71.0, 72.0, 73.0, 74.0, 75.0, 76.0, 77.0, 78.0, 79.0, 80.0, 81.0, 82.0, 83.0, 84.0, 85.0, 86.0, 87.0, 88.0, 89.0, 90.0, 91.0, 92.0, 93.0, 94.0, 95.0, 96.0, 97.0, 98.0, 99.0, 100.0, 101.0, 102.0, 103.0, 104.0, 105.0, 106.0, 107.0, 108.0, 109.0, 110.0, 111.0, 112.0, 113.0, 114.0, 115.0, 116.0, 117.0, 118.0, 119.0, 120.0, 121.0, 122.0, 123.0, 124.0, 125.0, 126.0, 127.0, 128.0, 129.0, 130.0, 131.0, 132.0, 133.0, 134.0, 135.0, 136.0, 137.0, 138.0, 139.0, 140.0, 141.0, 142.0, 143.0, 144.0, 145.0, 146.0, 147.0, 148.0, 149.0, 150.0, 151.0, 152.0, 153.0, 154.0, 155.0, 156.0, 157.0, 158.0, 159.0, 160.0, 161.0, 162.0, 163.0, 164.0, 165.0, 166.0, 167.0, 168.0, 169.0, 170.0, 171.0, 172.0, 173.0, 174.0, 175.0, 176.0, 177.0, 178.0, 179.0, 180.0, 181.0, 182.0, 183.0, 184.0, 185.0, 186.0, 187.0, 188.0, 189.0, 190.0, 191.0, 192.0, 193.0, 194.0, 195.0, 196.0, 197.0, 198.0, 199.0, 200.0, 201.0, 202.0, 203.0, 204.0, 205.0, 206.0, 207.0, 208.0, 209.0, 210.0, 211.0, 212.0, 213.0, 214.0, 215.0, 216.0, 217.0, 218.0, 219.0, 220.0, 221.0, 222.0, 223.0, 224.0, 225.0, 226.0, 227.0, 228.0, 229.0, 230.0, 231.0, 232.0, 233.0, 234.0, 235.0, 236.0, 237.0, 238.0, 239.0, 240.0, 241.0, 242.0, 243.0, 244.0, 245.0, 246.0, 247.0, 248.0, 249.0, 250.0, 251.0, 252.0, 253.0, 254.0, 255.0, 256.0, 257.0, 258.0, 259.0, 260.0, 261.0, 262.0, 263.0, 264.0, 265.0, 266.0, 267.0, 268.0, 269.0, 270.0, 271.0, 272.0, 273.0, 274.0, 275.0, 276.0, 277.0, 278.0, 279.0, 280.0, 281.0, 282.0, 283.0, 284.0, 285.0, 286.0, 287.0, 288.0, 289.0, 290.0, 291.0, 292.0, 293.0, 294.0, 295.0, 296.0, 297.0, 298.0, 299.0, 300.0, 301.0, 302.0, 303.0, 304.0, 305.0, 306.0, 307.0, 308.0, 309.0, 310.0, 311.0, 312.0, 313.0, 314.0, 315.0, 316.0, 317.0, 318.0, 319.0, 320.0, 321.0, 322.0, 323.0, 324.0, 325.0, 326.0, 327.0, 328.0, 329.0, 330.0, 331.0, 332.0, 333.0, 334.0, 335.0, 336.0, 337.0, 338.0, 339.0, 340.0, 341.0, 342.0, 343.0, 344.0, 345.0, 346.0, 347.0, 348.0, 349.0, 350.0, 351.0, 352.0, 353.0, 354.0, 355.0, 356.0, 357.0, 358.0, 359.0, 360.0, 361.0, 362.0, 363.0, 364.0, 365.0, 366.0, 367.0, 368.0, 369.0, 370.0, 371.0, 372.0, 373.0, 374.0, 375.0, 376.0, 377.0, 378.0, 379.0, 380.0, 381.0, 382.0, 383.0, 384.0, 385.0, 386.0, 387.0, 388.0, 389.0, 390.0, 391.0, 392.0, 393.0, 394.0, 395.0, 396.0, 397.0, 398.0, 399.0, 400.0, 401.0, 402.0, 403.0, 404.0, 405.0, 406.0, 407.0, 408.0, 409.0, 410.0, 411.0, 412.0, 413.0, 414.0, 415.0, 416.0, 417.0, 418.0, 419.0, 420.0, 421.0, 422.0, 423.0, 424.0, 425.0, 426.0, 427.0, 428.0, 429.0, 430.0, 431.0, 432.0, 433.0, 434.0, 435.0, 436.0, 437.0, 438.0, 439.0, 440.0, 441.0, 442.0, 443.0, 444.0, 445.0, 446.0, 447.0, 448.0, 449.0, 450.0, 451.0, 452.0, 453.0, 454.0, 455.0, 456.0, 457.0, 458.0, 459.0, 460.0, 461.0, 462.0, 463.0, 464.0, 465.0, 466.0, 467.0, 468.0, 469.0, 470.0, 471.0, 472.0, 473.0, 474.0, 475.0, 476.0, 477.0, 478.0, 479.0, 480.0, 481.0, 482.0, 483.0, 484.0, 485.0, 486.0, 487.0, 488.0, 489.0, 490.0, 491.0, 492.0, 493.0, 494.0, 495.0, 496.0, 497.0, 498.0, 499.0, 500.0, 501.0, 502.0, 503.0, 504.0, 505.0, 506.0, 507.0, 508.0, 509.0, 510.0, 511.0, 512.0, 513.0, 514.0, 515.0, 516.0, 517.0, 518.0, 519.0, 520.0, 521.0, 522.0, 523.0, 524.0, 525.0, 526.0, 527.0, 528.0, 529.0, 530.0, 531.0, 532.0, 533.0, 534.0, 535.0, 536.0, 537.0, 538.0, 539.0, 540.0, 541.0, 542.0, 543.0, 544.0, 545.0, 546.0, 547.0, 548.0, 549.0, 550.0, 551.0, 552.0, 553.0, 554.0, 555.0, 556.0, 557.0, 558.0, 559.0, 560.0, 561.0, 562.0, 563.0, 564.0, 565.0, 566.0, 567.0, 568.0, 569.0, 570.0, 571.0, 572.0, 573.0, 574.0, 575.0, 576.0, 577.0, 578.0, 579.0, 580.0, 581.0, 582.0, 583.0, 584.0, 585.0, 586.0, 587.0, 588.0, 589.0, 590.0, 591.0, 592.0, 593.0, 594.0, 595.0, 596.0, 597.0, 598.0, 599.0, 600.0, 601.0, 602.0, 603.0, 604.0, 605.0, 606.0, 607.0, 608.0, 609.0, 610.0, 611.0, 612.0, 613.0, 614.0, 615.0, 616.0, 617.0, 618.0, 619.0, 620.0, 621.0, 622.0, 623.0, 624.0, 625.0, 626.0, 627.0, 628.0, 629.0, 630.0, 631.0, 632.0, 633.0, 634.0, 635.0, 636.0, 637.0, 638.0, 639.0, 640.0, 641.0, 642.0, 643.0, 644.0, 645.0, 646.0, 647.0, 648.0, 649.0, 650.0, 651.0, 652.0, 653.0, 654.0, 655.0, 656.0, 657.0, 658.0, 659.0, 660.0, 661.0, 662.0, 663.0, 664.0, 665.0, 666.0, 667.0, 668.0, 669.0, 670.0, 671.0, 672.0, 673.0, 674.0, 675.0, 676.0, 677.0, 678.0, 679.0, 680.0, 681.0, 682.0, 683.0, 684.0, 685.0, 686.0, 687.0, 688.0, 689.0, 690.0, 691.0, 692.0, 693.0, 694.0, 695.0, 696.0, 697.0, 698.0, 699.0, 700.0, 701.0, 702.0, 703.0, 704.0, 705.0, 706.0, 707.0, 708.0, 709.0, 710.0, 711.0, 712.0, 713.0, 714.0, 715.0, 716.0, 717.0, 718.0, 719.0, 720.0, 721.0, 722.0, 723.0, 724.0, 725.0, 726.0, 727.0, 728.0, 729.0, 730.0, 731.0, 732.0, 733.0, 734.0, 735.0, 736.0, 737.0, 738.0, 739.0, 740.0, 741.0, 742.0, 743.0, 744.0, 745.0, 746.0, 747.0, 748.0, 749.0, 750.0, 751.0, 752.0, 753.0, 754.0, 755.0, 756.0, 757.0, 758.0, 759.0, 760.0, 761.0, 762.0, 763.0, 764.0, 765.0, 766.0, 767.0, 768.0, 769.0, 770.0, 771.0, 772.0, 773.0, 774.0, 775.0, 776.0, 777.0, 778.0, 779.0, 780.0, 781.0, 782.0, 783.0, 784.0, 785.0, 786.0, 787.0, 788.0, 789.0, 790.0, 791.0, 792.0, 793.0, 794.0, 795.0, 796.0, 797.0, 798.0, 799.0, 800.0, 801.0, 802.0, 803.0, 804.0, 805.0, 806.0, 807.0, 808.0, 809.0, 810.0, 811.0, 812.0, 813.0, 814.0, 815.0, 816.0, 817.0, 818.0, 819.0, 820.0, 821.0, 822.0, 823.0, 824.0, 825.0, 826.0, 827.0, 828.0, 829.0, 830.0, 831.0, 832.0, 833.0, 834.0, 835.0, 836.0, 837.0, 838.0, 839.0, 840.0, 841.0, 842.0, 843.0, 844.0, 845.0, 846.0, 847.0, 848.0, 849.0, 850.0, 851.0, 852.0, 853.0, 854.0, 855.0, 856.0, 857.0, 858.0, 859.0, 860.0, 861.0, 862.0, 863.0, 864.0, 865.0, 866.0, 867.0, 868.0, 869.0, 870.0, 871.0, 872.0, 873.0, 874.0, 875.0, 876.0, 877.0, 878.0, 879.0, 880.0, 881.0, 882.0, 883.0, 884.0, 885.0, 886.0, 887.0, 888.0, 889.0, 890.0, 891.0, 892.0, 893.0, 894.0, 895.0, 896.0, 897.0, 898.0, 899.0, 900.0, 901.0, 902.0, 903.0, 904.0, 905.0, 906.0, 907.0, 908.0, 909.0, 910.0, 911.0, 912.0, 913.0, 914.0, 915.0, 916.0, 917.0, 918.0, 919.0, 920.0, 921.0, 922.0, 923.0, 924.0, 925.0, 926.0, 927.0, 928.0, 929.0, 930.0, 931.0, 932.0, 933.0, 934.0, 935.0, 936.0, 937.0, 938.0, 939.0, 940.0, 941.0, 942.0, 943.0, 944.0, 945.0, 946.0, 947.0, 948.0, 949.0, 950.0, 951.0, 952.0, 953.0, 954.0, 955.0, 956.0, 957.0, 958.0, 959.0, 960.0, 961.0, 962.0, 963.0, 964.0, 965.0, 966.0, 967.0, 968.0, 969.0, 970.0, 971.0, 972.0, 973.0, 974.0, 975.0, 976.0, 977.0, 978.0, 979.0, 980.0, 981.0, 982.0, 983.0, 984.0, 985.0, 986.0, 987.0, 988.0, 989.0, 990.0, 991.0, 992.0, 993.0, 994.0, 995.0, 996.0, 997.0, 998.0, 999.0, 1000.0, 1001.0, 1002.0, 1003.0, 1004.0, 1005.0, 1006.0, 1007.0, 1008.0, 1009.0, 1010.0, 1011.0, 1012.0, 1013.0, 1014.0, 1015.0, 1016.0, 1017.0, 1018.0, 1019.0, 1020.0, 1021.0, 1022.0, 1023.0, 1024.0, 1025.0, 1026.0, 1027.0, 1028.0, 1029.0, 1030.0, 1031.0, 1032.0, 1033.0, 1034.0, 1035.0, 1036.0, 1037.0, 1038.0, 1039.0, 1040.0, 1041.0, 1042.0, 1043.0, 1044.0, 1045.0, 1046.0, 1047.0, 1048.0, 1049.0, 1050.0, 1051.0, 1052.0, 1053.0, 1054.0, 1055.0, 1056.0, 1057.0, 1058.0, 1059.0, 1060.0, 1061.0, 1062.0, 1063.0, 1064.0, 1065.0, 1066.0, 1067.0, 1068.0, 1069.0, 1070.0, 1071.0, 1072.0, 1073.0, 1074.0, 1075.0, 1076.0, 1077.0, 1078.0, 1079.0, 1080.0, 1081.0, 1082.0, 1083.0, 1084.0, 1085.0, 1086.0, 1087.0, 1088.0, 1089.0, 1090.0, 1091.0, 1092.0, 1093.0, 1094.0, 1095.0, 1096.0, 1097.0, 1098.0, 1099.0, 1100.0, 1101.0, 1102.0, 1103.0, 1104.0, 1105.0, 1106.0, 1107.0, 1108.0, 1109.0, 1110.0, 1111.0, 1112.0, 1113.0, 1114.0, 1115.0, 1116.0, 1117.0, 1118.0, 1119.0, 1120.0, 1121.0, 1122.0, 1123.0, 1124.0, 1125.0, 1126.0, 1127.0, 1128.0, 1129.0, 1130.0, 1131.0, 1132.0, 1133.0, 1134.0, 1135.0, 1136.0, 1137.0, 1138.0, 1139.0, 1140.0, 1141.0, 1142.0, 1143.0, 1144.0, 1145.0, 1146.0, 1147.0, 1148.0, 1149.0, 1150.0, 1151.0, 1152.0, 1153.0, 1154.0, 1155.0, 1156.0, 1157.0, 1158.0, 1159.0, 1160.0, 1161.0, 1162.0, 1163.0, 1164.0, 1165.0, 1166.0, 1167.0, 1168.0, 1169.0, 1170.0, 1171.0, 1172.0, 1173.0, 1174.0, 1175.0, 1176.0, 1177.0, 1178.0, 1179.0, 1180.0, 1181.0, 1182.0, 1183.0, 1184.0, 1185.0, 1186.0, 1187.0, 1188.0, 1189.0, 1190.0, 1191.0, 1192.0, 1193.0, 1194.0, 1195.0, 1196.0, 1197.0, 1198.0, 1199.0, 1200.0, 1201.0, 1202.0, 1203.0, 1204.0, 1205.0, 1206.0, 1207.0, 1208.0, 1209.0, 1210.0, 1211.0, 1212.0, 1213.0, 1214.0, 1215.0, 1216.0, 1217.0, 1218.0, 1219.0, 1220.0, 1221.0, 1222.0, 1223.0, 1224.0, 1225.0, 1226.0, 1227.0, 1228.0, 1229.0, 1230.0, 1231.0, 1232.0, 1233.0, 1234.0, 1235.0, 1236.0, 1237.0, 1238.0, 1239.0, 1240.0, 1241.0, 1242.0, 1243.0, 1244.0, 1245.0, 1246.0, 1247.0, 1248.0, 1249.0, 1250.0, 1251.0, 1252.0, 1253.0, 1254.0, 1255.0, 1256.0, 1257.0, 1258.0, 1259.0, 1260.0, 1261.0, 1262.0, 1263.0, 1264.0, 1265.0, 1266.0, 1267.0, 1268.0, 1269.0, 1270.0, 1271.0, 1272.0, 1273.0, 1274.0, 1275.0, 1276.0, 1277.0, 1278.0, 1279.0, 1280.0, 1281.0, 1282.0, 1283.0, 1284.0, 1285.0, 1286.0, 1287.0, 1288.0, 1289.0, 1290.0, 1291.0, 1292.0, 1293.0, 1294.0, 1295.0, 1296.0, 1297.0, 1298.0, 1299.0, 1300.0, 1301.0, 1302.0, 1303.0, 1304.0, 1305.0, 1306.0, 1307.0, 1308.0, 1309.0, 1310.0, 1311.0, 1312.0, 1313.0, 1314.0, 1315.0, 1316.0, 1317.0, 1318.0, 1319.0, 1320.0, 1321.0, 1322.0, 1323.0, 1324.0, 1325.0, 1326.0, 1327.0, 1328.0, 1329.0, 1330.0, 1331.0, 1332.0, 1333.0, 1334.0, 1335.0, 1336.0, 1337.0, 1338.0, 1339.0, 1340.0, 1341.0, 1342.0, 1343.0, 1344.0, 1345.0, 1346.0, 1347.0, 1348.0, 1349.0, 1350.0, 1351.0, 1352.0, 1353.0, 1354.0, 1355.0, 1356.0, 1357.0, 1358.0, 1359.0, 1360.0, 1361.0, 1362.0, 1363.0, 1364.0, 1365.0, 1366.0, 1367.0, 1368.0, 1369.0, 1370.0, 1371.0, 1372.0, 1373.0, 1374.0, 1375.0, 1376.0, 1377.0, 1378.0, 1379.0, 1380.0, 1381.0, 1382.0, 1383.0, 1384.0, 1385.0, 1386.0, 1387.0, 1388.0, 1389.0, 1390.0, 1391.0, 1392.0, 1393.0, 1394.0, 1395.0, 1396.0, 1397.0, 1398.0, 1399.0, 1400.0, 1401.0, 1402.0, 1403.0, 1404.0, 1405.0, 1406.0, 1407.0, 1408.0, 1409.0, 1410.0, 1411.0, 1412.0, 1413.0, 1414.0, 1415.0, 1416.0, 1417.0, 1418.0, 1419.0, 1420.0, 1421.0, 1422.0, 1423.0, 1424.0, 1425.0, 1426.0, 1427.0, 1428.0, 1429.0, 1430.0, 1431.0, 1432.0, 1433.0, 1434.0, 1435.0, 1436.0, 1437.0, 1438.0, 1439.0, 1440.0, 1441.0, 1442.0, 1443.0, 1444.0, 1445.0, 1446.0, 1447.0, 1448.0, 1449.0, 1450.0, 1451.0, 1452.0, 1453.0, 1454.0, 1455.0, 1456.0, 1457.0, 1458.0, 1459.0, 1460.0, 1461.0, 1462.0, 1463.0, 1464.0, 1465.0, 1466.0, 1467.0, 1468.0, 1469.0, 1470.0, 1471.0, 1472.0, 1473.0, 1474.0, 1475.0, 1476.0, 1477.0, 1478.0, 1479.0, 1480.0, 1481.0, 1482.0, 1483.0, 1484.0, 1485.0, 1486.0, 1487.0, 1488.0, 1489.0, 1490.0, 1491.0, 1492.0, 1493.0, 1494.0, 1495.0, 1496.0, 1497.0, 1498.0, 1499.0, 1500.0, 1501.0, 1502.0, 1503.0, 1504.0, 1505.0, 1506.0, 1507.0, 1508.0, 1509.0, 1510.0, 1511.0, 1512.0, 1513.0, 1514.0, 1515.0, 1516.0, 1517.0, 1518.0, 1519.0, 1520.0, 1521.0, 1522.0, 1523.0, 1524.0, 1525.0, 1526.0, 1527.0, 1528.0, 1529.0, 1530.0, 1531.0, 1532.0, 1533.0, 1534.0, 1535.0, 1536.0, 1537.0, 1538.0, 1539.0, 1540.0, 1541.0, 1542.0, 1543.0, 1544.0, 1545.0, 1546.0, 1547.0, 1548.0, 1549.0, 1550.0, 1551.0, 1552.0, 1553.0, 1554.0, 1555.0, 1556.0, 1557.0, 1558.0, 1559.0, 1560.0, 1561.0, 1562.0, 1563.0, 1564.0, 1565.0, 1566.0, 1567.0, 1568.0, 1569.0, 1570.0, 1571.0, 1572.0, 1573.0, 1574.0, 1575.0, 1576.0, 1577.0, 1578.0, 1579.0, 1580.0, 1581.0, 1582.0, 1583.0, 1584.0, 1585.0, 1586.0, 1587.0, 1588.0, 1589.0, 1590.0, 1591.0, 1592.0, 1593.0, 1594.0, 1595.0, 1596.0, 1597.0, 1598.0, 1599.0, 1600.0, 1601.0, 1602.0, 1603.0, 1604.0, 1605.0, 1606.0, 1607.0, 1608.0, 1609.0, 1610.0, 1611.0, 1612.0, 1613.0, 1614.0, 1615.0, 1616.0, 1617.0, 1618.0, 1619.0, 1620.0, 1621.0, 1622.0, 1623.0, 1624.0, 1625.0, 1626.0, 1627.0, 1628.0, 1629.0, 1630.0, 1631.0, 1632.0, 1633.0, 1634.0, 1635.0, 1636.0, 1637.0, 1638.0, 1639.0, 1640.0, 1641.0, 1642.0, 1643.0, 1644.0, 1645.0, 1646.0, 1647.0, 1648.0, 1649.0, 1650.0, 1651.0, 1652.0, 1653.0, 1654.0, 1655.0, 1656.0, 1657.0, 1658.0, 1659.0, 1660.0, 1661.0, 1662.0, 1663.0, 1664.0, 1665.0, 1666.0, 1667.0, 1668.0, 1669.0, 1670.0, 1671.0, 1672.0, 1673.0, 1674.0, 1675.0, 1676.0, 1677.0, 1678.0, 1679.0, 1680.0, 1681.0, 1682.0, 1683.0, 1684.0, 1685.0, 1686.0, 1687.0, 1688.0, 1689.0, 1690.0, 1691.0, 1692.0, 1693.0, 1694.0, 1695.0, 1696.0, 1697.0, 1698.0, 1699.0, 1700.0, 1701.0, 1702.0, 1703.0, 1704.0, 1705.0, 1706.0, 1707.0, 1708.0, 1709.0, 1710.0, 1711.0, 1712.0, 1713.0, 1714.0, 1715.0, 1716.0, 1717.0, 1718.0, 1719.0, 1720.0, 1721.0, 1722.0, 1723.0, 1724.0, 1725.0, 1726.0, 1727.0, 1728.0, 1729.0, 1730.0, 1731.0, 1732.0, 1733.0, 1734.0, 1735.0, 1736.0, 1737.0, 1738.0, 1739.0, 1740.0, 1741.0, 1742.0, 1743.0, 1744.0, 1745.0, 1746.0, 1747.0, 1748.0, 1749.0, 1750.0, 1751.0, 1752.0, 1753.0, 1754.0, 1755.0, 1756.0, 1757.0, 1758.0, 1759.0, 1760.0, 1761.0, 1762.0, 1763.0, 1764.0, 1765.0, 1766.0, 1767.0, 1768.0, 1769.0, 1770.0, 1771.0, 1772.0, 1773.0, 1774.0, 1775.0, 1776.0, 1777.0, 1778.0, 1779.0, 1780.0, 1781.0, 1782.0, 1783.0, 1784.0, 1785.0, 1786.0, 1787.0, 1788.0, 1789.0, 1790.0, 1791.0, 1792.0, 1793.0, 1794.0, 1795.0, 1796.0, 1797.0, 1798.0, 1799.0, 1800.0, 1801.0, 1802.0, 1803.0, 1804.0, 1805.0, 1806.0, 1807.0, 1808.0, 1809.0, 1810.0, 1811.0, 1812.0, 1813.0, 1814.0, 1815.0, 1816.0, 1817.0, 1818.0, 1819.0, 1820.0, 1821.0, 1822.0, 1823.0, 1824.0, 1825.0, 1826.0, 1827.0, 1828.0, 1829.0, 1830.0, 1831.0, 1832.0, 1833.0, 1834.0, 1835.0, 1836.0, 1837.0, 1838.0, 1839.0, 1840.0, 1841.0, 1842.0, 1843.0, 1844.0, 1845.0, 1846.0, 1847.0, 1848.0, 1849.0, 1850.0, 1851.0, 1852.0, 1853.0, 1854.0, 1855.0, 1856.0, 1857.0, 1858.0, 1859.0, 1860.0, 1861.0, 1862.0, 1863.0, 1864.0, 1865.0, 1866.0, 1867.0, 1868.0, 1869.0, 1870.0, 1871.0, 1872.0, 1873.0, 1874.0, 1875.0, 1876.0, 1877.0, 1878.0, 1879.0, 1880.0, 1881.0, 1882.0, 1883.0, 1884.0, 1885.0, 1886.0, 1887.0, 1888.0, 1889.0, 1890.0, 1891.0, 1892.0, 1893.0, 1894.0, 1895.0, 1896.0, 1897.0, 1898.0, 1899.0, 1900.0, 1901.0, 1902.0, 1903.0, 1904.0, 1905.0, 1906.0, 1907.0, 1908.0, 1909.0, 1910.0, 1911.0, 1912.0, 1913.0, 1914.0, 1915.0, 1916.0, 1917.0, 1918.0, 1919.0, 1920.0, 1921.0, 1922.0, 1923.0, 1924.0, 1925.0, 1926.0, 1927.0, 1928.0, 1929.0, 1930.0, 1931.0, 1932.0, 1933.0, 1934.0, 1935.0, 1936.0, 1937.0, 1938.0, 1939.0, 1940.0, 1941.0, 1942.0, 1943.0, 1944.0, 1945.0, 1946.0, 1947.0, 1948.0, 1949.0, 1950.0, 1951.0, 1952.0, 1953.0, 1954.0, 1955.0, 1956.0, 1957.0, 1958.0, 1959.0, 1960.0, 1961.0, 1962.0, 1963.0, 1964.0, 1965.0, 1966.0, 1967.0, 1968.0, 1969.0, 1970.0, 1971.0, 1972.0, 1973.0, 1974.0, 1975.0, 1976.0, 1977.0, 1978.0, 1979.0, 1980.0, 1981.0, 1982.0, 1983.0, 1984.0, 1985.0, 1986.0, 1987.0, 1988.0, 1989.0, 1990.0, 1991.0, 1992.0, 1993.0, 1994.0, 1995.0, 1996.0, 1997.0, 1998.0, 1999.0, 2000.0, 2001.0, 2002.0, 2003.0, 2004.0, 2005.0, 2006.0, 2007.0, 2008.0, 2009.0, 2010.0, 2011.0, 2012.0, 2013.0, 2014.0, 2015.0, 2016.0, 2017.0, 2018.0, 2019.0, 2020.0, 2021.0, 2022.0, 2023.0, 2024.0, 2025.0, 2026.0, 2027.0, 2028.0, 2029.0, 2030.0, 2031.0, 2032.0, 2033.0, 2034.0, 2035.0, 2036.0, 2037.0, 2038.0, 2039.0, 2040.0, 2041.0, 2042.0, 2043.0, 2044.0, 2045.0, 2046.0, 2047.0, 2048.0, 2049.0, 2050.0, 2051.0, 2052.0, 2053.0, 2054.0, 2055.0, 2056.0, 2057.0, 2058.0, 2059.0, 2060.0, 2061.0, 2062.0, 2063.0, 2064.0, 2065.0, 2066.0, 2067.0, 2068.0, 2069.0, 2070.0, 2071.0, 2072.0, 2073.0, 2074.0, 2075.0, 2076.0, 2077.0, 2078.0, 2079.0, 2080.0, 2081.0, 2082.0, 2083.0, 2084.0, 2085.0, 2086.0, 2087.0, 2088.0, 2089.0, 2090.0, 2091.0, 2092.0, 2093.0, 2094.0, 2095.0, 2096.0, 2097.0, 2098.0, 2099.0, 2100.0, 2101.0, 2102.0, 2103.0, 2104.0, 2105.0, 2106.0, 2107.0, 2108.0, 2109.0, 2110.0, 2111.0, 2112.0, 2113.0, 2114.0, 2115.0, 2116.0, 2117.0, 2118.0, 2119.0, 2120.0, 2121.0, 2122.0, 2123.0, 2124.0, 2125.0, 2126.0, 2127.0, 2128.0, 2129.0, 2130.0, 2131.0, 2132.0, 2133.0, 2134.0, 2135.0, 2136.0, 2137.0, 2138.0, 2139.0, 2140.0, 2141.0, 2142.0, 2143.0, 2144.0, 2145.0, 2146.0, 2147.0, 2148.0, 2149.0, 2150.0, 2151.0, 2152.0, 2153.0, 2154.0, 2155.0, 2156.0, 2157.0, 2158.0, 2159.0, 2160.0, 2161.0, 2162.0, 2163.0, 2164.0, 2165.0, 2166.0, 2167.0, 2168.0, 2169.0, 2170.0, 2171.0, 2172.0, 2173.0, 2174.0, 2175.0, 2176.0, 2177.0, 2178.0, 2179.0, 2180.0, 2181.0, 2182.0, 2183.0, 2184.0, 2185.0, 2186.0, 2187.0, 2188.0, 2189.0, 2190.0, 2191.0, 2192.0, 2193.0, 2194.0, 2195.0, 2196.0, 2197.0, 2198.0, 2199.0, 2200.0, 2201.0, 2202.0, 2203.0, 2204.0, 2205.0, 2206.0, 2207.0, 2208.0, 2209.0, 2210.0, 2211.0, 2212.0, 2213.0, 2214.0, 2215.0, 2216.0, 2217.0, 2218.0, 2219.0, 2220.0, 2221.0, 2222.0, 2223.0, 2224.0, 2225.0, 2226.0, 2227.0, 2228.0, 2229.0, 2230.0, 2231.0, 2232.0, 2233.0, 2234.0, 2235.0, 2236.0, 2237.0, 2238.0, 2239.0, 2240.0, 2241.0, 2242.0, 2243.0, 2244.0, 2245.0, 2246.0, 2247.0, 2248.0, 2249.0, 2250.0, 2251.0, 2252.0, 2253.0, 2254.0, 2255.0, 2256.0, 2257.0, 2258.0, 2259.0, 2260.0, 2261.0, 2262.0, 2263.0, 2264.0, 2265.0, 2266.0, 2267.0, 2268.0, 2269.0, 2270.0, 2271.0, 2272.0, 2273.0, 2274.0, 2275.0, 2276.0, 2277.0, 2278.0, 2279.0, 2280.0, 2281.0, 2282.0, 2283.0, 2284.0, 2285.0, 2286.0, 2287.0, 2288.0, 2289.0, 2290.0, 2291.0, 2292.0, 2293.0, 2294.0, 2295.0, 2296.0, 2297.0, 2298.0, 2299.0, 2300.0, 2301.0, 2302.0, 2303.0, 2304.0, 2305.0, 2306.0, 2307.0, 2308.0, 2309.0, 2310.0, 2311.0, 2312.0, 2313.0, 2314.0, 2315.0, 2316.0, 2317.0, 2318.0, 2319.0, 2320.0, 2321.0, 2322.0, 2323.0, 2324.0, 2325.0, 2326.0, 2327.0, 2328.0, 2329.0, 2330.0, 2331.0, 2332.0, 2333.0, 2334.0, 2335.0, 2336.0, 2337.0, 2338.0, 2339.0, 2340.0, 2341.0, 2342.0, 2343.0, 2344.0, 2345.0, 2346.0, 2347.0, 2348.0, 2349.0, 2350.0, 2351.0, 2352.0, 2353.0, 2354.0, 2355.0, 2356.0, 2357.0, 2358.0, 2359.0, 2360.0, 2361.0, 2362.0, 2363.0, 2364.0, 2365.0, 2366.0, 2367.0, 2368.0, 2369.0, 2370.0, 2371.0, 2372.0, 2373.0, 2374.0, 2375.0, 2376.0, 2377.0, 2378.0, 2379.0, 2380.0, 2381.0, 2382.0, 2383.0, 2384.0, 2385.0, 2386.0, 2387.0, 2388.0, 2389.0, 2390.0, 2391.0, 2392.0, 2393.0, 2394.0, 2395.0, 2396.0, 2397.0, 2398.0, 2399.0, 2400.0, 2401.0, 2402.0, 2403.0, 2404.0, 2405.0, 2406.0, 2407.0, 2408.0, 2409.0, 2410.0, 2411.0, 2412.0, 2413.0, 2414.0, 2415.0, 2416.0, 2417.0, 2418.0, 2419.0, 2420.0, 2421.0, 2422.0, 2423.0, 2424.0, 2425.0, 2426.0, 2427.0, 2428.0, 2429.0, 2430.0, 2431.0, 2432.0, 2433.0, 2434.0, 2435.0, 2436.0, 2437.0, 2438.0, 2439.0, 2440.0, 2441.0, 2442.0, 2443.0, 2444.0, 2445.0, 2446.0, 2447.0, 2448.0, 2449.0, 2450.0, 2451.0, 2452.0, 2453.0, 2454.0, 2455.0, 2456.0, 2457.0, 2458.0, 2459.0, 2460.0, 2461.0, 2462.0, 2463.0, 2464.0, 2465.0, 2466.0, 2467.0, 2468.0, 2469.0, 2470.0, 2471.0, 2472.0, 2473.0, 2474.0, 2475.0, 2476.0, 2477.0, 2478.0, 2479.0, 2480.0, 2481.0, 2482.0, 2483.0, 2484.0, 2485.0, 2486.0, 2487.0, 2488.0, 2489.0, 2490.0, 2491.0, 2492.0, 2493.0, 2494.0, 2495.0, 2496.0, 2497.0, 2498.0, 2499.0, 2500.0, 2501.0, 2502.0, 2503.0, 2504.0, 2505.0, 2506.0, 2507.0, 2508.0, 2509.0, 2510.0, 2511.0, 2512.0, 2513.0, 2514.0, 2515.0, 2516.0, 2517.0, 2518.0, 2519.0, 2520.0, 2521.0, 2522.0, 2523.0, 2524.0, 2525.0, 2526.0, 2527.0, 2528.0, 2529.0, 2530.0, 2531.0, 2532.0, 2533.0, 2534.0, 2535.0, 2536.0, 2537.0, 2538.0, 2539.0, 2540.0, 2541.0, 2542.0, 2543.0, 2544.0, 2545.0, 2546.0, 2547.0, 2548.0, 2549.0, 2550.0, 2551.0, 2552.0, 2553.0, 2554.0, 2555.0, 2556.0, 2557.0, 2558.0, 2559.0, 2560.0, 2561.0, 2562.0, 2563.0, 2564.0, 2565.0, 2566.0, 2567.0, 2568.0, 2569.0, 2570.0, 2571.0, 2572.0, 2573.0, 2574.0, 2575.0, 2576.0, 2577.0, 2578.0, 2579.0, 2580.0, 2581.0, 2582.0, 2583.0, 2584.0, 2585.0, 2586.0, 2587.0, 2588.0, 2589.0, 2590.0, 2591.0, 2592.0, 2593.0, 2594.0, 2595.0, 2596.0, 2597.0, 2598.0, 2599.0, 2600.0, 2601.0, 2602.0, 2603.0, 2604.0, 2605.0, 2606.0, 2607.0, 2608.0, 2609.0, 2610.0, 2611.0, 2612.0, 2613.0, 2614.0, 2615.0, 2616.0, 2617.0, 2618.0, 2619.0, 2620.0, 2621.0, 2622.0, 2623.0, 2624.0, 2625.0, 2626.0, 2627.0, 2628.0, 2629.0, 2630.0, 2631.0, 2632.0, 2633.0, 2634.0, 2635.0, 2636.0, 2637.0, 2638.0, 2639.0, 2640.0, 2641.0, 2642.0, 2643.0, 2644.0, 2645.0, 2646.0, 2647.0, 2648.0, 2649.0, 2650.0, 2651.0, 2652.0, 2653.0, 2654.0, 2655.0, 2656.0, 2657.0, 2658.0, 2659.0, 2660.0, 2661.0, 2662.0, 2663.0, 2664.0, 2665.0, 2666.0, 2667.0, 2668.0, 2669.0, 2670.0, 2671.0, 2672.0, 2673.0, 2674.0, 2675.0, 2676.0, 2677.0, 2678.0, 2679.0, 2680.0, 2681.0, 2682.0, 2683.0, 2684.0, 2685.0, 2686.0, 2687.0, 2688.0, 2689.0, 2690.0, 2691.0, 2692.0, 2693.0, 2694.0, 2695.0, 2696.0, 2697.0, 2698.0, 2699.0, 2700.0, 2701.0, 2702.0, 2703.0, 2704.0, 2705.0, 2706.0, 2707.0, 2708.0, 2709.0, 2710.0, 2711.0, 2712.0, 2713.0, 2714.0, 2715.0, 2716.0, 2717.0, 2718.0, 2719.0, 2720.0, 2721.0, 2722.0, 2723.0, 2724.0, 2725.0, 2726.0, 2727.0, 2728.0, 2729.0, 2730.0, 2731.0, 2732.0, 2733.0, 2734.0, 2735.0, 2736.0, 2737.0, 2738.0, 2739.0, 2740.0, 2741.0, 2742.0, 2743.0, 2744.0, 2745.0, 2746.0, 2747.0, 2748.0, 2749.0, 2750.0, 2751.0, 2752.0, 2753.0, 2754.0, 2755.0, 2756.0, 2757.0, 2758.0, 2759.0, 2760.0, 2761.0, 2762.0, 2763.0, 2764.0, 2765.0, 2766.0, 2767.0, 2768.0, 2769.0, 2770.0, 2771.0, 2772.0, 2773.0, 2774.0, 2775.0, 2776.0, 2777.0, 2778.0, 2779.0, 2780.0, 2781.0, 2782.0, 2783.0, 2784.0, 2785.0, 2786.0, 2787.0, 2788.0, 2789.0, 2790.0, 2791.0, 2792.0, 2793.0, 2794.0, 2795.0, 2796.0, 2797.0, 2798.0, 2799.0, 2800.0, 2801.0, 2802.0, 2803.0, 2804.0, 2805.0, 2806.0, 2807.0, 2808.0, 2809.0, 2810.0, 2811.0, 2812.0, 2813.0, 2814.0, 2815.0, 2816.0, 2817.0, 2818.0, 2819.0, 2820.0, 2821.0, 2822.0, 2823.0, 2824.0, 2825.0, 2826.0, 2827.0, 2828.0, 2829.0, 2830.0, 2831.0, 2832.0, 2833.0, 2834.0, 2835.0, 2836.0, 2837.0, 2838.0, 2839.0, 2840.0, 2841.0, 2842.0, 2843.0, 2844.0, 2845.0, 2846.0, 2847.0, 2848.0, 2849.0, 2850.0, 2851.0, 2852.0, 2853.0, 2854.0, 2855.0, 2856.0, 2857.0, 2858.0, 2859.0, 2860.0, 2861.0, 2862.0, 2863.0, 2864.0, 2865.0, 2866.0, 2867.0, 2868.0, 2869.0, 2870.0, 2871.0, 2872.0, 2873.0, 2874.0, 2875.0, 2876.0, 2877.0, 2878.0, 2879.0, 2880.0, 2881.0, 2882.0, 2883.0, 2884.0, 2885.0, 2886.0, 2887.0, 2888.0, 2889.0, 2890.0, 2891.0, 2892.0, 2893.0, 2894.0, 2895.0, 2896.0, 2897.0, 2898.0, 2899.0, 2900.0, 2901.0, 2902.0, 2903.0, 2904.0, 2905.0, 2906.0, 2907.0, 2908.0, 2909.0, 2910.0, 2911.0, 2912.0, 2913.0, 2914.0, 2915.0, 2916.0, 2917.0, 2918.0, 2919.0, 2920.0, 2921.0, 2922.0, 2923.0, 2924.0, 2925.0, 2926.0, 2927.0, 2928.0, 2929.0, 2930.0, 2931.0, 2932.0, 2933.0, 2934.0, 2935.0, 2936.0, 2937.0, 2938.0, 2939.0, 2940.0, 2941.0, 2942.0, 2943.0, 2944.0, 2945.0, 2946.0, 2947.0, 2948.0, 2949.0, 2950.0, 2951.0, 2952.0, 2953.0, 2954.0, 2955.0, 2956.0, 2957.0, 2958.0, 2959.0, 2960.0, 2961.0, 2962.0, 2963.0, 2964.0, 2965.0, 2966.0, 2967.0, 2968.0, 2969.0, 2970.0, 2971.0, 2972.0, 2973.0, 2974.0, 2975.0, 2976.0, 2977.0, 2978.0, 2979.0, 2980.0, 2981.0, 2982.0, 2983.0, 2984.0, 2985.0, 2986.0, 2987.0, 2988.0, 2989.0, 2990.0, 2991.0, 2992.0, 2993.0, 2994.0, 2995.0, 2996.0, 2997.0, 2998.0, 2999.0, 3000.0, 3001.0, 3002.0, 3003.0, 3004.0, 3005.0, 3006.0, 3007.0, 3008.0, 3009.0, 3010.0, 3011.0, 3012.0, 3013.0, 3014.0, 3015.0, 3016.0, 3017.0, 3018.0, 3019.0, 3020.0, 3021.0, 3022.0, 3023.0, 3024.0, 3025.0, 3026.0, 3027.0, 3028.0, 3029.0, 3030.0, 3031.0, 3032.0, 3033.0, 3034.0, 3035.0, 3036.0, 3037.0, 3038.0, 3039.0, 3040.0, 3041.0, 3042.0, 3043.0, 3044.0, 3045.0, 3046.0, 3047.0, 3048.0, 3049.0, 3050.0, 3051.0, 3052.0, 3053.0, 3054.0, 3055.0, 3056.0, 3057.0, 3058.0, 3059.0, 3060.0, 3061.0, 3062.0, 3063.0, 3064.0, 3065.0, 3066.0, 3067.0, 3068.0, 3069.0, 3070.0, 3071.0, 3072.0, 3073.0, 3074.0, 3075.0, 3076.0, 3077.0, 3078.0, 3079.0, 3080.0, 3081.0, 3082.0, 3083.0, 3084.0, 3085.0, 3086.0, 3087.0, 3088.0, 3089.0, 3090.0, 3091.0, 3092.0, 3093.0, 3094.0, 3095.0, 3096.0, 3097.0, 3098.0, 3099.0, 3100.0, 3101.0, 3102.0, 3103.0, 3104.0, 3105.0, 3106.0, 3107.0, 3108.0, 3109.0, 3110.0, 3111.0, 3112.0, 3113.0, 3114.0, 3115.0, 3116.0, 3117.0, 3118.0, 3119.0, 3120.0, 3121.0, 3122.0, 3123.0, 3124.0, 3125.0, 3126.0, 3127.0, 3128.0, 3129.0, 3130.0, 3131.0, 3132.0, 3133.0, 3134.0, 3135.0, 3136.0, 3137.0, 3138.0, 3139.0, 3140.0, 3141.0, 3142.0, 3143.0, 3144.0, 3145.0, 3146.0, 3147.0, 3148.0, 3149.0, 3150.0, 3151.0, 3152.0, 3153.0, 3154.0, 3155.0, 3156.0, 3157.0, 3158.0, 3159.0, 3160.0, 3161.0, 3162.0, 3163.0, 3164.0, 3165.0, 3166.0, 3167.0, 3168.0, 3169.0, 3170.0, 3171.0, 3172.0, 3173.0, 3174.0, 3175.0]), ('momentum', [0.94937104, 0.9490566, 0.94874215, 0.9484277, 0.9481132, 0.9477987, 0.94748425, 0.94716984, 0.94685537, 0.9465409, 0.9462264, 0.94591194, 0.94559747, 0.945283, 0.9449686, 0.9446541, 0.94433963, 0.94402516, 0.9437107, 0.9433962, 0.94308174, 0.9427673, 0.94245285, 0.9421384, 0.9418239, 0.9415094, 0.94119495, 0.9408805, 0.94056606, 0.9402516, 0.9399371, 0.93962264, 0.93930817, 0.9389937, 0.9386792, 0.9383648, 0.9380503, 0.93773586, 0.9374214, 0.9371069, 0.93679243, 0.93647796, 0.93616354, 0.9358491, 0.9355346, 0.9352201, 0.93490565, 0.9345912, 0.9342767, 0.9339623, 0.9336478, 0.93333334, 0.93301886, 0.9327044, 0.9323899, 0.9320755, 0.931761, 0.93144655, 0.9311321, 0.9308176, 0.93050313, 0.93018866, 0.92987424, 0.92955977, 0.9292453, 0.9289308, 0.92861634, 0.9283019, 0.9279874, 0.927673, 0.9273585, 0.92704403, 0.92672956, 0.9264151, 0.9261006, 0.92578614, 0.9254717, 0.92515725, 0.9248428, 0.9245283, 0.9242138, 0.92389935, 0.9235849, 0.92327046, 0.922956, 0.9226415, 0.92232704, 0.92201257, 0.9216981, 0.9213836, 0.9210692, 0.92075473, 0.92044026, 0.9201258, 0.9198113, 0.91949683, 0.91918236, 0.91886795, 0.9185535, 0.918239, 0.9179245, 0.91761005, 0.9172956, 0.91698116, 0.9166667, 0.9163522, 0.91603774, 0.91572326, 0.9154088, 0.9150943, 0.9147799, 0.9144654, 0.91415095, 0.9138365, 0.913522, 0.91320753, 0.91289306, 0.91257864, 0.91226417, 0.9119497, 0.9116352, 0.91132075, 0.9110063, 0.9106918, 0.9103774, 0.9100629, 0.90974844, 0.90943396, 0.9091195, 0.908805, 0.90849054, 0.9081761, 0.90786165, 0.9075472, 0.9072327, 0.9069182, 0.90660375, 0.9062893, 0.90597486, 0.9056604, 0.9053459, 0.90503144, 0.90471697, 0.9044025, 0.9040881, 0.9037736, 0.90345913, 0.90314466, 0.9028302, 0.9025157, 0.90220124, 0.9018868, 0.90157235, 0.9012579, 0.9009434, 0.9006289, 0.90031445, 0.9, 0.89968556, 0.8993711, 0.8990566, 0.89874214, 0.89842767, 0.8981132, 0.8977987, 0.8974843, 0.8971698, 0.89685535, 0.8965409, 0.8962264, 0.89591193, 0.89559746, 0.89528304, 0.89496857, 0.8946541, 0.8943396, 0.89402515, 0.8937107, 0.8933962, 0.8930818, 0.8927673, 0.89245284, 0.89213836, 0.8918239, 0.8915094, 0.89119494, 0.8908805, 0.89056605, 0.8902516, 0.8899371, 0.8896226, 0.88930815, 0.88899374, 0.88867927, 0.8883648, 0.8880503, 0.88773584, 0.88742137, 0.8871069, 0.8867925, 0.886478, 0.88616353, 0.88584906, 0.8855346, 0.8852201, 0.88490564, 0.8845912, 0.88427675, 0.8839623, 0.8836478, 0.8833333, 0.88301885, 0.8827044, 0.88238996, 0.8820755, 0.881761, 0.88144654, 0.88113207, 0.8808176, 0.8805031, 0.8801887, 0.8798742, 0.87955976, 0.8792453, 0.8789308, 0.87861633, 0.87830186, 0.87798744, 0.877673, 0.8773585, 0.877044, 0.87672955, 0.8764151, 0.8761006, 0.8757862, 0.8754717, 0.87515724, 0.87484276, 0.8745283, 0.8742138, 0.8738994, 0.8735849, 0.87327045, 0.872956, 0.8726415, 0.872327, 0.87201256, 0.87169814, 0.87138367, 0.8710692, 0.8707547, 0.87044024, 0.8701258, 0.8698113, 0.8694969, 0.8691824, 0.86886793, 0.86855346, 0.868239, 0.8679245, 0.86761004, 0.8672956, 0.86698115, 0.8666667, 0.8663522, 0.8660377, 0.86572325, 0.8654088, 0.86509436, 0.8647799, 0.8644654, 0.86415094, 0.86383647, 0.863522, 0.8632075, 0.8628931, 0.86257863, 0.86226416, 0.8619497, 0.8616352, 0.86132073, 0.86100626, 0.86069185, 0.8603774, 0.8600629, 0.8597484, 0.85943395, 0.8591195, 0.85880506, 0.8584906, 0.8581761, 0.85786164, 0.85754716, 0.8572327, 0.8569182, 0.8566038, 0.8562893, 0.85597485, 0.8556604, 0.8553459, 0.85503143, 0.85471696, 0.85440254, 0.85408807, 0.8537736, 0.8534591, 0.85314465, 0.8528302, 0.8525157, 0.8522013, 0.8518868, 0.85157233, 0.85125786, 0.8509434, 0.8506289, 0.85031444, 0.85, 0.85031444, 0.8506289, 0.8509434, 0.85125786, 0.85157233, 0.8518868, 0.8522013, 0.8525157, 0.8528302, 0.85314465, 0.8534591, 0.8537736, 0.85408807, 0.85440254, 0.85471696, 0.85503143, 0.8553459, 0.8556604, 0.85597485, 0.8562893, 0.8566038, 0.8569182, 0.8572327, 0.85754716, 0.85786164, 0.8581761, 0.8584906, 0.85880506, 0.8591195, 0.85943395, 0.8597484, 0.8600629, 0.8603774, 0.86069185, 0.86100626, 0.86132073, 0.8616352, 0.8619497, 0.86226416, 0.86257863, 0.8628931, 0.8632075, 0.863522, 0.86383647, 0.86415094, 0.8644654, 0.8647799, 0.86509436, 0.8654088, 0.86572325, 0.8660377, 0.8663522, 0.8666667, 0.86698115, 0.8672956, 0.86761004, 0.8679245, 0.868239, 0.86855346, 0.86886793, 0.8691824, 0.8694969, 0.8698113, 0.8701258, 0.87044024, 0.8707547, 0.8710692, 0.87138367, 0.87169814, 0.87201256, 0.872327, 0.8726415, 0.872956, 0.87327045, 0.8735849, 0.8738994, 0.8742138, 0.8745283, 0.87484276, 0.87515724, 0.8754717, 0.8757862, 0.8761006, 0.8764151, 0.87672955, 0.877044, 0.8773585, 0.877673, 0.87798744, 0.87830186, 0.87861633, 0.8789308, 0.8792453, 0.87955976, 0.8798742, 0.8801887, 0.8805031, 0.8808176, 0.88113207, 0.88144654, 0.881761, 0.8820755, 0.88238996, 0.8827044, 0.88301885, 0.8833333, 0.8836478, 0.8839623, 0.88427675, 0.8845912, 0.88490564, 0.8852201, 0.8855346, 0.88584906, 0.88616353, 0.886478, 0.8867925, 0.8871069, 0.88742137, 0.88773584, 0.8880503, 0.8883648, 0.88867927, 0.88899374, 0.88930815, 0.8896226, 0.8899371, 0.8902516, 0.89056605, 0.8908805, 0.89119494, 0.8915094, 0.8918239, 0.89213836, 0.89245284, 0.8927673, 0.8930818, 0.8933962, 0.8937107, 0.89402515, 0.8943396, 0.8946541, 0.89496857, 0.89528304, 0.89559746, 0.89591193, 0.8962264, 0.8965409, 0.89685535, 0.8971698, 0.8974843, 0.8977987, 0.8981132, 0.89842767, 0.89874214, 0.8990566, 0.8993711, 0.89968556, 0.9, 0.90031445, 0.9006289, 0.9009434, 0.9012579, 0.90157235, 0.9018868, 0.90220124, 0.9025157, 0.9028302, 0.90314466, 0.90345913, 0.9037736, 0.9040881, 0.9044025, 0.90471697, 0.90503144, 0.9053459, 0.9056604, 0.90597486, 0.9062893, 0.90660375, 0.9069182, 0.9072327, 0.9075472, 0.90786165, 0.9081761, 0.90849054, 0.908805, 0.9091195, 0.90943396, 0.90974844, 0.9100629, 0.9103774, 0.9106918, 0.9110063, 0.91132075, 0.9116352, 0.9119497, 0.91226417, 0.91257864, 0.91289306, 0.91320753, 0.913522, 0.9138365, 0.91415095, 0.9144654, 0.9147799, 0.9150943, 0.9154088, 0.91572326, 0.91603774, 0.9163522, 0.9166667, 0.91698116, 0.9172956, 0.91761005, 0.9179245, 0.918239, 0.9185535, 0.91886795, 0.91918236, 0.91949683, 0.9198113, 0.9201258, 0.92044026, 0.92075473, 0.9210692, 0.9213836, 0.9216981, 0.92201257, 0.92232704, 0.9226415, 0.922956, 0.92327046, 0.9235849, 0.92389935, 0.9242138, 0.9245283, 0.9248428, 0.92515725, 0.9254717, 0.92578614, 0.9261006, 0.9264151, 0.92672956, 0.92704403, 0.9273585, 0.927673, 0.9279874, 0.9283019, 0.92861634, 0.9289308, 0.9292453, 0.92955977, 0.92987424, 0.93018866, 0.93050313, 0.9308176, 0.9311321, 0.93144655, 0.931761, 0.9320755, 0.9323899, 0.9327044, 0.93301886, 0.93333334, 0.9336478, 0.9339623, 0.9342767, 0.9345912, 0.93490565, 0.9352201, 0.9355346, 0.9358491, 0.93616354, 0.93647796, 0.93679243, 0.9371069, 0.9374214, 0.93773586, 0.9380503, 0.9383648, 0.9386792, 0.9389937, 0.93930817, 0.93962264, 0.9399371, 0.9402516, 0.94056606, 0.9408805, 0.94119495, 0.9415094, 0.9418239, 0.9421384, 0.94245285, 0.9427673, 0.94308174, 0.9433962, 0.9437107, 0.94402516, 0.94433963, 0.9446541, 0.9449686, 0.945283, 0.94559747, 0.94591194, 0.9462264, 0.9465409, 0.94685537, 0.94716984, 0.94748425, 0.9477987, 0.9481132, 0.9484277, 0.94874215, 0.9490566, 0.94937104, 0.9496855, 0.95, 0.9496855, 0.94937104, 0.9490566, 0.94874215, 0.9484277, 0.9481132, 0.9477987, 0.94748425, 0.94716984, 0.94685537, 0.9465409, 0.9462264, 0.94591194, 0.94559747, 0.945283, 0.9449686, 0.9446541, 0.94433963, 0.94402516, 0.9437107, 0.9433962, 0.94308174, 0.9427673, 0.94245285, 0.9421384, 0.9418239, 0.9415094, 0.94119495, 0.9408805, 0.94056606, 0.9402516, 0.9399371, 0.93962264, 0.93930817, 0.9389937, 0.9386792, 0.9383648, 0.9380503, 0.93773586, 0.9374214, 0.9371069, 0.93679243, 0.93647796, 0.93616354, 0.9358491, 0.9355346, 0.9352201, 0.93490565, 0.9345912, 0.9342767, 0.9339623, 0.9336478, 0.93333334, 0.93301886, 0.9327044, 0.9323899, 0.9320755, 0.931761, 0.93144655, 0.9311321, 0.9308176, 0.93050313, 0.93018866, 0.92987424, 0.92955977, 0.9292453, 0.9289308, 0.92861634, 0.9283019, 0.9279874, 0.927673, 0.9273585, 0.92704403, 0.92672956, 0.9264151, 0.9261006, 0.92578614, 0.9254717, 0.92515725, 0.9248428, 0.9245283, 0.9242138, 0.92389935, 0.9235849, 0.92327046, 0.922956, 0.9226415, 0.92232704, 0.92201257, 0.9216981, 0.9213836, 0.9210692, 0.92075473, 0.92044026, 0.9201258, 0.9198113, 0.91949683, 0.91918236, 0.91886795, 0.9185535, 0.918239, 0.9179245, 0.91761005, 0.9172956, 0.91698116, 0.9166667, 0.9163522, 0.91603774, 0.91572326, 0.9154088, 0.9150943, 0.9147799, 0.9144654, 0.91415095, 0.9138365, 0.913522, 0.91320753, 0.91289306, 0.91257864, 0.91226417, 0.9119497, 0.9116352, 0.91132075, 0.9110063, 0.9106918, 0.9103774, 0.9100629, 0.90974844, 0.90943396, 0.9091195, 0.908805, 0.90849054, 0.9081761, 0.90786165, 0.9075472, 0.9072327, 0.9069182, 0.90660375, 0.9062893, 0.90597486, 0.9056604, 0.9053459, 0.90503144, 0.90471697, 0.9044025, 0.9040881, 0.9037736, 0.90345913, 0.90314466, 0.9028302, 0.9025157, 0.90220124, 0.9018868, 0.90157235, 0.9012579, 0.9009434, 0.9006289, 0.90031445, 0.9, 0.89968556, 0.8993711, 0.8990566, 0.89874214, 0.89842767, 0.8981132, 0.8977987, 0.8974843, 0.8971698, 0.89685535, 0.8965409, 0.8962264, 0.89591193, 0.89559746, 0.89528304, 0.89496857, 0.8946541, 0.8943396, 0.89402515, 0.8937107, 0.8933962, 0.8930818, 0.8927673, 0.89245284, 0.89213836, 0.8918239, 0.8915094, 0.89119494, 0.8908805, 0.89056605, 0.8902516, 0.8899371, 0.8896226, 0.88930815, 0.88899374, 0.88867927, 0.8883648, 0.8880503, 0.88773584, 0.88742137, 0.8871069, 0.8867925, 0.886478, 0.88616353, 0.88584906, 0.8855346, 0.8852201, 0.88490564, 0.8845912, 0.88427675, 0.8839623, 0.8836478, 0.8833333, 0.88301885, 0.8827044, 0.88238996, 0.8820755, 0.881761, 0.88144654, 0.88113207, 0.8808176, 0.8805031, 0.8801887, 0.8798742, 0.87955976, 0.8792453, 0.8789308, 0.87861633, 0.87830186, 0.87798744, 0.877673, 0.8773585, 0.877044, 0.87672955, 0.8764151, 0.8761006, 0.8757862, 0.8754717, 0.87515724, 0.87484276, 0.8745283, 0.8742138, 0.8738994, 0.8735849, 0.87327045, 0.872956, 0.8726415, 0.872327, 0.87201256, 0.87169814, 0.87138367, 0.8710692, 0.8707547, 0.87044024, 0.8701258, 0.8698113, 0.8694969, 0.8691824, 0.86886793, 0.86855346, 0.868239, 0.8679245, 0.86761004, 0.8672956, 0.86698115, 0.8666667, 0.8663522, 0.8660377, 0.86572325, 0.8654088, 0.86509436, 0.8647799, 0.8644654, 0.86415094, 0.86383647, 0.863522, 0.8632075, 0.8628931, 0.86257863, 0.86226416, 0.8619497, 0.8616352, 0.86132073, 0.86100626, 0.86069185, 0.8603774, 0.8600629, 0.8597484, 0.85943395, 0.8591195, 0.85880506, 0.8584906, 0.8581761, 0.85786164, 0.85754716, 0.8572327, 0.8569182, 0.8566038, 0.8562893, 0.85597485, 0.8556604, 0.8553459, 0.85503143, 0.85471696, 0.85440254, 0.85408807, 0.8537736, 0.8534591, 0.85314465, 0.8528302, 0.8525157, 0.8522013, 0.8518868, 0.85157233, 0.85125786, 0.8509434, 0.8506289, 0.85031444, 0.85, 0.85031444, 0.8506289, 0.8509434, 0.85125786, 0.85157233, 0.8518868, 0.8522013, 0.8525157, 0.8528302, 0.85314465, 0.8534591, 0.8537736, 0.85408807, 0.85440254, 0.85471696, 0.85503143, 0.8553459, 0.8556604, 0.85597485, 0.8562893, 0.8566038, 0.8569182, 0.8572327, 0.85754716, 0.85786164, 0.8581761, 0.8584906, 0.85880506, 0.8591195, 0.85943395, 0.8597484, 0.8600629, 0.8603774, 0.86069185, 0.86100626, 0.86132073, 0.8616352, 0.8619497, 0.86226416, 0.86257863, 0.8628931, 0.8632075, 0.863522, 0.86383647, 0.86415094, 0.8644654, 0.8647799, 0.86509436, 0.8654088, 0.86572325, 0.8660377, 0.8663522, 0.8666667, 0.86698115, 0.8672956, 0.86761004, 0.8679245, 0.868239, 0.86855346, 0.86886793, 0.8691824, 0.8694969, 0.8698113, 0.8701258, 0.87044024, 0.8707547, 0.8710692, 0.87138367, 0.87169814, 0.87201256, 0.872327, 0.8726415, 0.872956, 0.87327045, 0.8735849, 0.8738994, 0.8742138, 0.8745283, 0.87484276, 0.87515724, 0.8754717, 0.8757862, 0.8761006, 0.8764151, 0.87672955, 0.877044, 0.8773585, 0.877673, 0.87798744, 0.87830186, 0.87861633, 0.8789308, 0.8792453, 0.87955976, 0.8798742, 0.8801887, 0.8805031, 0.8808176, 0.88113207, 0.88144654, 0.881761, 0.8820755, 0.88238996, 0.8827044, 0.88301885, 0.8833333, 0.8836478, 0.8839623, 0.88427675, 0.8845912, 0.88490564, 0.8852201, 0.8855346, 0.88584906, 0.88616353, 0.886478, 0.8867925, 0.8871069, 0.88742137, 0.88773584, 0.8880503, 0.8883648, 0.88867927, 0.88899374, 0.88930815, 0.8896226, 0.8899371, 0.8902516, 0.89056605, 0.8908805, 0.89119494, 0.8915094, 0.8918239, 0.89213836, 0.89245284, 0.8927673, 0.8930818, 0.8933962, 0.8937107, 0.89402515, 0.8943396, 0.8946541, 0.89496857, 0.89528304, 0.89559746, 0.89591193, 0.8962264, 0.8965409, 0.89685535, 0.8971698, 0.8974843, 0.8977987, 0.8981132, 0.89842767, 0.89874214, 0.8990566, 0.8993711, 0.89968556, 0.9, 0.90031445, 0.9006289, 0.9009434, 0.9012579, 0.90157235, 0.9018868, 0.90220124, 0.9025157, 0.9028302, 0.90314466, 0.90345913, 0.9037736, 0.9040881, 0.9044025, 0.90471697, 0.90503144, 0.9053459, 0.9056604, 0.90597486, 0.9062893, 0.90660375, 0.9069182, 0.9072327, 0.9075472, 0.90786165, 0.9081761, 0.90849054, 0.908805, 0.9091195, 0.90943396, 0.90974844, 0.9100629, 0.9103774, 0.9106918, 0.9110063, 0.91132075, 0.9116352, 0.9119497, 0.91226417, 0.91257864, 0.91289306, 0.91320753, 0.913522, 0.9138365, 0.91415095, 0.9144654, 0.9147799, 0.9150943, 0.9154088, 0.91572326, 0.91603774, 0.9163522, 0.9166667, 0.91698116, 0.9172956, 0.91761005, 0.9179245, 0.918239, 0.9185535, 0.91886795, 0.91918236, 0.91949683, 0.9198113, 0.9201258, 0.92044026, 0.92075473, 0.9210692, 0.9213836, 0.9216981, 0.92201257, 0.92232704, 0.9226415, 0.922956, 0.92327046, 0.9235849, 0.92389935, 0.9242138, 0.9245283, 0.9248428, 0.92515725, 0.9254717, 0.92578614, 0.9261006, 0.9264151, 0.92672956, 0.92704403, 0.9273585, 0.927673, 0.9279874, 0.9283019, 0.92861634, 0.9289308, 0.9292453, 0.92955977, 0.92987424, 0.93018866, 0.93050313, 0.9308176, 0.9311321, 0.93144655, 0.931761, 0.9320755, 0.9323899, 0.9327044, 0.93301886, 0.93333334, 0.9336478, 0.9339623, 0.9342767, 0.9345912, 0.93490565, 0.9352201, 0.9355346, 0.9358491, 0.93616354, 0.93647796, 0.93679243, 0.9371069, 0.9374214, 0.93773586, 0.9380503, 0.9383648, 0.9386792, 0.9389937, 0.93930817, 0.93962264, 0.9399371, 0.9402516, 0.94056606, 0.9408805, 0.94119495, 0.9415094, 0.9418239, 0.9421384, 0.94245285, 0.9427673, 0.94308174, 0.9433962, 0.9437107, 0.94402516, 0.94433963, 0.9446541, 0.9449686, 0.945283, 0.94559747, 0.94591194, 0.9462264, 0.9465409, 0.94685537, 0.94716984, 0.94748425, 0.9477987, 0.9481132, 0.9484277, 0.94874215, 0.9490566, 0.94937104, 0.9496855, 0.95, 0.9496855, 0.94937104, 0.9490566, 0.94874215, 0.9484277, 0.9481132, 0.9477987, 0.94748425, 0.94716984, 0.94685537, 0.9465409, 0.9462264, 0.94591194, 0.94559747, 0.945283, 0.9449686, 0.9446541, 0.94433963, 0.94402516, 0.9437107, 0.9433962, 0.94308174, 0.9427673, 0.94245285, 0.9421384, 0.9418239, 0.9415094, 0.94119495, 0.9408805, 0.94056606, 0.9402516, 0.9399371, 0.93962264, 0.93930817, 0.9389937, 0.9386792, 0.9383648, 0.9380503, 0.93773586, 0.9374214, 0.9371069, 0.93679243, 0.93647796, 0.93616354, 0.9358491, 0.9355346, 0.9352201, 0.93490565, 0.9345912, 0.9342767, 0.9339623, 0.9336478, 0.93333334, 0.93301886, 0.9327044, 0.9323899, 0.9320755, 0.931761, 0.93144655, 0.9311321, 0.9308176, 0.93050313, 0.93018866, 0.92987424, 0.92955977, 0.9292453, 0.9289308, 0.92861634, 0.9283019, 0.9279874, 0.927673, 0.9273585, 0.92704403, 0.92672956, 0.9264151, 0.9261006, 0.92578614, 0.9254717, 0.92515725, 0.9248428, 0.9245283, 0.9242138, 0.92389935, 0.9235849, 0.92327046, 0.922956, 0.9226415, 0.92232704, 0.92201257, 0.9216981, 0.9213836, 0.9210692, 0.92075473, 0.92044026, 0.9201258, 0.9198113, 0.91949683, 0.91918236, 0.91886795, 0.9185535, 0.918239, 0.9179245, 0.91761005, 0.9172956, 0.91698116, 0.9166667, 0.9163522, 0.91603774, 0.91572326, 0.9154088, 0.9150943, 0.9147799, 0.9144654, 0.91415095, 0.9138365, 0.913522, 0.91320753, 0.91289306, 0.91257864, 0.91226417, 0.9119497, 0.9116352, 0.91132075, 0.9110063, 0.9106918, 0.9103774, 0.9100629, 0.90974844, 0.90943396, 0.9091195, 0.908805, 0.90849054, 0.9081761, 0.90786165, 0.9075472, 0.9072327, 0.9069182, 0.90660375, 0.9062893, 0.90597486, 0.9056604, 0.9053459, 0.90503144, 0.90471697, 0.9044025, 0.9040881, 0.9037736, 0.90345913, 0.90314466, 0.9028302, 0.9025157, 0.90220124, 0.9018868, 0.90157235, 0.9012579, 0.9009434, 0.9006289, 0.90031445, 0.9, 0.89968556, 0.8993711, 0.8990566, 0.89874214, 0.89842767, 0.8981132, 0.8977987, 0.8974843, 0.8971698, 0.89685535, 0.8965409, 0.8962264, 0.89591193, 0.89559746, 0.89528304, 0.89496857, 0.8946541, 0.8943396, 0.89402515, 0.8937107, 0.8933962, 0.8930818, 0.8927673, 0.89245284, 0.89213836, 0.8918239, 0.8915094, 0.89119494, 0.8908805, 0.89056605, 0.8902516, 0.8899371, 0.8896226, 0.88930815, 0.88899374, 0.88867927, 0.8883648, 0.8880503, 0.88773584, 0.88742137, 0.8871069, 0.8867925, 0.886478, 0.88616353, 0.88584906, 0.8855346, 0.8852201, 0.88490564, 0.8845912, 0.88427675, 0.8839623, 0.8836478, 0.8833333, 0.88301885, 0.8827044, 0.88238996, 0.8820755, 0.881761, 0.88144654, 0.88113207, 0.8808176, 0.8805031, 0.8801887, 0.8798742, 0.87955976, 0.8792453, 0.8789308, 0.87861633, 0.87830186, 0.87798744, 0.877673, 0.8773585, 0.877044, 0.87672955, 0.8764151, 0.8761006, 0.8757862, 0.8754717, 0.87515724, 0.87484276, 0.8745283, 0.8742138, 0.8738994, 0.8735849, 0.87327045, 0.872956, 0.8726415, 0.872327, 0.87201256, 0.87169814, 0.87138367, 0.8710692, 0.8707547, 0.87044024, 0.8701258, 0.8698113, 0.8694969, 0.8691824, 0.86886793, 0.86855346, 0.868239, 0.8679245, 0.86761004, 0.8672956, 0.86698115, 0.8666667, 0.8663522, 0.8660377, 0.86572325, 0.8654088, 0.86509436, 0.8647799, 0.8644654, 0.86415094, 0.86383647, 0.863522, 0.8632075, 0.8628931, 0.86257863, 0.86226416, 0.8619497, 0.8616352, 0.86132073, 0.86100626, 0.86069185, 0.8603774, 0.8600629, 0.8597484, 0.85943395, 0.8591195, 0.85880506, 0.8584906, 0.8581761, 0.85786164, 0.85754716, 0.8572327, 0.8569182, 0.8566038, 0.8562893, 0.85597485, 0.8556604, 0.8553459, 0.85503143, 0.85471696, 0.85440254, 0.85408807, 0.8537736, 0.8534591, 0.85314465, 0.8528302, 0.8525157, 0.8522013, 0.8518868, 0.85157233, 0.85125786, 0.8509434, 0.8506289, 0.85031444, 0.85, 0.85031444, 0.8506289, 0.8509434, 0.85125786, 0.85157233, 0.8518868, 0.8522013, 0.8525157, 0.8528302, 0.85314465, 0.8534591, 0.8537736, 0.85408807, 0.85440254, 0.85471696, 0.85503143, 0.8553459, 0.8556604, 0.85597485, 0.8562893, 0.8566038, 0.8569182, 0.8572327, 0.85754716, 0.85786164, 0.8581761, 0.8584906, 0.85880506, 0.8591195, 0.85943395, 0.8597484, 0.8600629, 0.8603774, 0.86069185, 0.86100626, 0.86132073, 0.8616352, 0.8619497, 0.86226416, 0.86257863, 0.8628931, 0.8632075, 0.863522, 0.86383647, 0.86415094, 0.8644654, 0.8647799, 0.86509436, 0.8654088, 0.86572325, 0.8660377, 0.8663522, 0.8666667, 0.86698115, 0.8672956, 0.86761004, 0.8679245, 0.868239, 0.86855346, 0.86886793, 0.8691824, 0.8694969, 0.8698113, 0.8701258, 0.87044024, 0.8707547, 0.8710692, 0.87138367, 0.87169814, 0.87201256, 0.872327, 0.8726415, 0.872956, 0.87327045, 0.8735849, 0.8738994, 0.8742138, 0.8745283, 0.87484276, 0.87515724, 0.8754717, 0.8757862, 0.8761006, 0.8764151, 0.87672955, 0.877044, 0.8773585, 0.877673, 0.87798744, 0.87830186, 0.87861633, 0.8789308, 0.8792453, 0.87955976, 0.8798742, 0.8801887, 0.8805031, 0.8808176, 0.88113207, 0.88144654, 0.881761, 0.8820755, 0.88238996, 0.8827044, 0.88301885, 0.8833333, 0.8836478, 0.8839623, 0.88427675, 0.8845912, 0.88490564, 0.8852201, 0.8855346, 0.88584906, 0.88616353, 0.886478, 0.8867925, 0.8871069, 0.88742137, 0.88773584, 0.8880503, 0.8883648, 0.88867927, 0.88899374, 0.88930815, 0.8896226, 0.8899371, 0.8902516, 0.89056605, 0.8908805, 0.89119494, 0.8915094, 0.8918239, 0.89213836, 0.89245284, 0.8927673, 0.8930818, 0.8933962, 0.8937107, 0.89402515, 0.8943396, 0.8946541, 0.89496857, 0.89528304, 0.89559746, 0.89591193, 0.8962264, 0.8965409, 0.89685535, 0.8971698, 0.8974843, 0.8977987, 0.8981132, 0.89842767, 0.89874214, 0.8990566, 0.8993711, 0.89968556, 0.9, 0.90031445, 0.9006289, 0.9009434, 0.9012579, 0.90157235, 0.9018868, 0.90220124, 0.9025157, 0.9028302, 0.90314466, 0.90345913, 0.9037736, 0.9040881, 0.9044025, 0.90471697, 0.90503144, 0.9053459, 0.9056604, 0.90597486, 0.9062893, 0.90660375, 0.9069182, 0.9072327, 0.9075472, 0.90786165, 0.9081761, 0.90849054, 0.908805, 0.9091195, 0.90943396, 0.90974844, 0.9100629, 0.9103774, 0.9106918, 0.9110063, 0.91132075, 0.9116352, 0.9119497, 0.91226417, 0.91257864, 0.91289306, 0.91320753, 0.913522, 0.9138365, 0.91415095, 0.9144654, 0.9147799, 0.9150943, 0.9154088, 0.91572326, 0.91603774, 0.9163522, 0.9166667, 0.91698116, 0.9172956, 0.91761005, 0.9179245, 0.918239, 0.9185535, 0.91886795, 0.91918236, 0.91949683, 0.9198113, 0.9201258, 0.92044026, 0.92075473, 0.9210692, 0.9213836, 0.9216981, 0.92201257, 0.92232704, 0.9226415, 0.922956, 0.92327046, 0.9235849, 0.92389935, 0.9242138, 0.9245283, 0.9248428, 0.92515725, 0.9254717, 0.92578614, 0.9261006, 0.9264151, 0.92672956, 0.92704403, 0.9273585, 0.927673, 0.9279874, 0.9283019, 0.92861634, 0.9289308, 0.9292453, 0.92955977, 0.92987424, 0.93018866, 0.93050313, 0.9308176, 0.9311321, 0.93144655, 0.931761, 0.9320755, 0.9323899, 0.9327044, 0.93301886, 0.93333334, 0.9336478, 0.9339623, 0.9342767, 0.9345912, 0.93490565, 0.9352201, 0.9355346, 0.9358491, 0.93616354, 0.93647796, 0.93679243, 0.9371069, 0.9374214, 0.93773586, 0.9380503, 0.9383648, 0.9386792, 0.9389937, 0.93930817, 0.93962264, 0.9399371, 0.9402516, 0.94056606, 0.9408805, 0.94119495, 0.9415094, 0.9418239, 0.9421384, 0.94245285, 0.9427673, 0.94308174, 0.9433962, 0.9437107, 0.94402516, 0.94433963, 0.9446541, 0.9449686, 0.945283, 0.94559747, 0.94591194, 0.9462264, 0.9465409, 0.94685537, 0.94716984, 0.94748425, 0.9477987, 0.9481132, 0.9484277, 0.94874215, 0.9490566, 0.94937104, 0.9496855, 0.95, 0.9496855, 0.94937104, 0.9490566, 0.94874215, 0.9484277, 0.9481132, 0.9477987, 0.94748425, 0.94716984, 0.94685537, 0.9465409, 0.9462264, 0.94591194, 0.94559747, 0.945283, 0.9449686, 0.9446541, 0.94433963, 0.94402516, 0.9437107, 0.9433962, 0.94308174, 0.9427673, 0.94245285, 0.9421384, 0.9418239, 0.9415094, 0.94119495, 0.9408805, 0.94056606, 0.9402516, 0.9399371, 0.93962264, 0.93930817, 0.9389937, 0.9386792, 0.9383648, 0.9380503, 0.93773586, 0.9374214, 0.9371069, 0.93679243, 0.93647796, 0.93616354, 0.9358491, 0.9355346, 0.9352201, 0.93490565, 0.9345912, 0.9342767, 0.9339623, 0.9336478, 0.93333334, 0.93301886, 0.9327044, 0.9323899, 0.9320755, 0.931761, 0.93144655, 0.9311321, 0.9308176, 0.93050313, 0.93018866, 0.92987424, 0.92955977, 0.9292453, 0.9289308, 0.92861634, 0.9283019, 0.9279874, 0.927673, 0.9273585, 0.92704403, 0.92672956, 0.9264151, 0.9261006, 0.92578614, 0.9254717, 0.92515725, 0.9248428, 0.9245283, 0.9242138, 0.92389935, 0.9235849, 0.92327046, 0.922956, 0.9226415, 0.92232704, 0.92201257, 0.9216981, 0.9213836, 0.9210692, 0.92075473, 0.92044026, 0.9201258, 0.9198113, 0.91949683, 0.91918236, 0.91886795, 0.9185535, 0.918239, 0.9179245, 0.91761005, 0.9172956, 0.91698116, 0.9166667, 0.9163522, 0.91603774, 0.91572326, 0.9154088, 0.9150943, 0.9147799, 0.9144654, 0.91415095, 0.9138365, 0.913522, 0.91320753, 0.91289306, 0.91257864, 0.91226417, 0.9119497, 0.9116352, 0.91132075, 0.9110063, 0.9106918, 0.9103774, 0.9100629, 0.90974844, 0.90943396, 0.9091195, 0.908805, 0.90849054, 0.9081761, 0.90786165, 0.9075472, 0.9072327, 0.9069182, 0.90660375, 0.9062893, 0.90597486, 0.9056604, 0.9053459, 0.90503144, 0.90471697, 0.9044025, 0.9040881, 0.9037736, 0.90345913, 0.90314466, 0.9028302, 0.9025157, 0.90220124, 0.9018868, 0.90157235, 0.9012579, 0.9009434, 0.9006289, 0.90031445, 0.9, 0.89968556, 0.8993711, 0.8990566, 0.89874214, 0.89842767, 0.8981132, 0.8977987, 0.8974843, 0.8971698, 0.89685535, 0.8965409, 0.8962264, 0.89591193, 0.89559746, 0.89528304, 0.89496857, 0.8946541, 0.8943396, 0.89402515, 0.8937107, 0.8933962, 0.8930818, 0.8927673, 0.89245284, 0.89213836, 0.8918239, 0.8915094, 0.89119494, 0.8908805, 0.89056605, 0.8902516, 0.8899371, 0.8896226, 0.88930815, 0.88899374, 0.88867927, 0.8883648, 0.8880503, 0.88773584, 0.88742137, 0.8871069, 0.8867925, 0.886478, 0.88616353, 0.88584906, 0.8855346, 0.8852201, 0.88490564, 0.8845912, 0.88427675, 0.8839623, 0.8836478, 0.8833333, 0.88301885, 0.8827044, 0.88238996, 0.8820755, 0.881761, 0.88144654, 0.88113207, 0.8808176, 0.8805031, 0.8801887, 0.8798742, 0.87955976, 0.8792453, 0.8789308, 0.87861633, 0.87830186, 0.87798744, 0.877673, 0.8773585, 0.877044, 0.87672955, 0.8764151, 0.8761006, 0.8757862, 0.8754717, 0.87515724, 0.87484276, 0.8745283, 0.8742138, 0.8738994, 0.8735849, 0.87327045, 0.872956, 0.8726415, 0.872327, 0.87201256, 0.87169814, 0.87138367, 0.8710692, 0.8707547, 0.87044024, 0.8701258, 0.8698113, 0.8694969, 0.8691824, 0.86886793, 0.86855346, 0.868239, 0.8679245, 0.86761004, 0.8672956, 0.86698115, 0.8666667, 0.8663522, 0.8660377, 0.86572325, 0.8654088, 0.86509436, 0.8647799, 0.8644654, 0.86415094, 0.86383647, 0.863522, 0.8632075, 0.8628931, 0.86257863, 0.86226416, 0.8619497, 0.8616352, 0.86132073, 0.86100626, 0.86069185, 0.8603774, 0.8600629, 0.8597484, 0.85943395, 0.8591195, 0.85880506, 0.8584906, 0.8581761, 0.85786164, 0.85754716, 0.8572327, 0.8569182, 0.8566038, 0.8562893, 0.85597485, 0.8556604, 0.8553459, 0.85503143, 0.85471696, 0.85440254, 0.85408807, 0.8537736, 0.8534591, 0.85314465, 0.8528302, 0.8525157, 0.8522013, 0.8518868, 0.85157233, 0.85125786, 0.8509434, 0.8506289, 0.85031444, 0.85, 0.85031444, 0.8506289, 0.8509434, 0.85125786, 0.85157233, 0.8518868, 0.8522013, 0.8525157, 0.8528302, 0.85314465, 0.8534591, 0.8537736, 0.85408807, 0.85440254, 0.85471696, 0.85503143, 0.8553459, 0.8556604, 0.85597485, 0.8562893, 0.8566038, 0.8569182, 0.8572327, 0.85754716, 0.85786164, 0.8581761, 0.8584906, 0.85880506, 0.8591195, 0.85943395, 0.8597484, 0.8600629, 0.8603774, 0.86069185, 0.86100626, 0.86132073, 0.8616352, 0.8619497, 0.86226416, 0.86257863, 0.8628931, 0.8632075, 0.863522, 0.86383647, 0.86415094, 0.8644654, 0.8647799, 0.86509436, 0.8654088, 0.86572325, 0.8660377, 0.8663522, 0.8666667, 0.86698115, 0.8672956, 0.86761004, 0.8679245, 0.868239, 0.86855346, 0.86886793, 0.8691824, 0.8694969, 0.8698113, 0.8701258, 0.87044024, 0.8707547, 0.8710692, 0.87138367, 0.87169814, 0.87201256, 0.872327, 0.8726415, 0.872956, 0.87327045, 0.8735849, 0.8738994, 0.8742138, 0.8745283, 0.87484276, 0.87515724, 0.8754717, 0.8757862, 0.8761006, 0.8764151, 0.87672955, 0.877044, 0.8773585, 0.877673, 0.87798744, 0.87830186, 0.87861633, 0.8789308, 0.8792453, 0.87955976, 0.8798742, 0.8801887, 0.8805031, 0.8808176, 0.88113207, 0.88144654, 0.881761, 0.8820755, 0.88238996, 0.8827044, 0.88301885, 0.8833333, 0.8836478, 0.8839623, 0.88427675, 0.8845912, 0.88490564, 0.8852201, 0.8855346, 0.88584906, 0.88616353, 0.886478, 0.8867925, 0.8871069, 0.88742137, 0.88773584, 0.8880503, 0.8883648, 0.88867927, 0.88899374, 0.88930815, 0.8896226, 0.8899371, 0.8902516, 0.89056605, 0.8908805, 0.89119494, 0.8915094, 0.8918239, 0.89213836, 0.89245284, 0.8927673, 0.8930818, 0.8933962, 0.8937107, 0.89402515, 0.8943396, 0.8946541, 0.89496857, 0.89528304, 0.89559746, 0.89591193, 0.8962264, 0.8965409, 0.89685535, 0.8971698, 0.8974843, 0.8977987, 0.8981132, 0.89842767, 0.89874214, 0.8990566, 0.8993711, 0.89968556, 0.9, 0.90031445, 0.9006289, 0.9009434, 0.9012579, 0.90157235, 0.9018868, 0.90220124, 0.9025157, 0.9028302, 0.90314466, 0.90345913, 0.9037736, 0.9040881, 0.9044025, 0.90471697, 0.90503144, 0.9053459, 0.9056604, 0.90597486, 0.9062893, 0.90660375, 0.9069182, 0.9072327, 0.9075472, 0.90786165, 0.9081761, 0.90849054, 0.908805, 0.9091195, 0.90943396, 0.90974844, 0.9100629, 0.9103774, 0.9106918, 0.9110063, 0.91132075, 0.9116352, 0.9119497, 0.91226417, 0.91257864, 0.91289306, 0.91320753, 0.913522, 0.9138365, 0.91415095, 0.9144654, 0.9147799, 0.9150943, 0.9154088, 0.91572326, 0.91603774, 0.9163522, 0.9166667, 0.91698116, 0.9172956, 0.91761005, 0.9179245, 0.918239, 0.9185535, 0.91886795, 0.91918236, 0.91949683, 0.9198113, 0.9201258, 0.92044026, 0.92075473, 0.9210692, 0.9213836, 0.9216981, 0.92201257, 0.92232704, 0.9226415, 0.922956, 0.92327046, 0.9235849, 0.92389935, 0.9242138, 0.9245283, 0.9248428, 0.92515725, 0.9254717, 0.92578614, 0.9261006, 0.9264151, 0.92672956, 0.92704403, 0.9273585, 0.927673, 0.9279874, 0.9283019, 0.92861634, 0.9289308, 0.9292453, 0.92955977, 0.92987424, 0.93018866, 0.93050313, 0.9308176, 0.9311321, 0.93144655, 0.931761, 0.9320755, 0.9323899, 0.9327044, 0.93301886, 0.93333334, 0.9336478, 0.9339623, 0.9342767, 0.9345912, 0.93490565, 0.9352201, 0.9355346, 0.9358491, 0.93616354, 0.93647796, 0.93679243, 0.9371069, 0.9374214, 0.93773586, 0.9380503, 0.9383648, 0.9386792, 0.9389937, 0.93930817, 0.93962264, 0.9399371, 0.9402516, 0.94056606, 0.9408805, 0.94119495, 0.9415094, 0.9418239, 0.9421384, 0.94245285, 0.9427673, 0.94308174, 0.9433962, 0.9437107, 0.94402516, 0.94433963, 0.9446541, 0.9449686, 0.945283, 0.94559747, 0.94591194, 0.9462264, 0.9465409, 0.94685537, 0.94716984, 0.94748425, 0.9477987, 0.9481132, 0.9484277, 0.94874215, 0.9490566, 0.94937104, 0.9496855, 0.95, 0.9496855, 0.94937104, 0.9490566, 0.94874215, 0.9484277, 0.9481132, 0.9477987, 0.94748425, 0.94716984, 0.94685537, 0.9465409, 0.9462264, 0.94591194, 0.94559747, 0.945283, 0.9449686, 0.9446541, 0.94433963, 0.94402516, 0.9437107, 0.9433962, 0.94308174, 0.9427673, 0.94245285, 0.9421384, 0.9418239, 0.9415094, 0.94119495, 0.9408805, 0.94056606, 0.9402516, 0.9399371, 0.93962264, 0.93930817, 0.9389937, 0.9386792, 0.9383648, 0.9380503, 0.93773586, 0.9374214, 0.9371069, 0.93679243, 0.93647796, 0.93616354, 0.9358491, 0.9355346, 0.9352201, 0.93490565, 0.9345912, 0.9342767, 0.9339623, 0.9336478, 0.93333334, 0.93301886, 0.9327044, 0.9323899, 0.9320755, 0.931761, 0.93144655, 0.9311321, 0.9308176, 0.93050313, 0.93018866, 0.92987424, 0.92955977, 0.9292453, 0.9289308, 0.92861634, 0.9283019, 0.9279874, 0.927673, 0.9273585, 0.92704403, 0.92672956, 0.9264151, 0.9261006, 0.92578614, 0.9254717, 0.92515725, 0.9248428, 0.9245283, 0.9242138, 0.92389935, 0.9235849, 0.92327046, 0.922956, 0.9226415, 0.92232704, 0.92201257, 0.9216981, 0.9213836, 0.9210692, 0.92075473, 0.92044026, 0.9201258, 0.9198113, 0.91949683, 0.91918236, 0.91886795, 0.9185535, 0.918239, 0.9179245, 0.91761005, 0.9172956, 0.91698116, 0.9166667, 0.9163522, 0.91603774, 0.91572326, 0.9154088, 0.9150943, 0.9147799, 0.9144654, 0.91415095, 0.9138365, 0.913522, 0.91320753, 0.91289306, 0.91257864, 0.91226417, 0.9119497, 0.9116352, 0.91132075, 0.9110063, 0.9106918, 0.9103774, 0.9100629, 0.90974844, 0.90943396, 0.9091195, 0.908805, 0.90849054, 0.9081761, 0.90786165, 0.9075472, 0.9072327, 0.9069182, 0.90660375, 0.9062893, 0.90597486, 0.9056604, 0.9053459, 0.90503144, 0.90471697, 0.9044025, 0.9040881, 0.9037736, 0.90345913, 0.90314466, 0.9028302, 0.9025157, 0.90220124, 0.9018868, 0.90157235, 0.9012579, 0.9009434, 0.9006289, 0.90031445, 0.9, 0.89968556, 0.8993711, 0.8990566, 0.89874214, 0.89842767, 0.8981132, 0.8977987, 0.8974843, 0.8971698, 0.89685535, 0.8965409, 0.8962264, 0.89591193, 0.89559746, 0.89528304, 0.89496857, 0.8946541, 0.8943396, 0.89402515, 0.8937107, 0.8933962, 0.8930818, 0.8927673, 0.89245284, 0.89213836, 0.8918239, 0.8915094, 0.89119494, 0.8908805, 0.89056605, 0.8902516, 0.8899371, 0.8896226, 0.88930815, 0.88899374, 0.88867927, 0.8883648, 0.8880503, 0.88773584, 0.88742137, 0.8871069, 0.8867925, 0.886478, 0.88616353, 0.88584906, 0.8855346, 0.8852201, 0.88490564, 0.8845912, 0.88427675, 0.8839623, 0.8836478, 0.8833333, 0.88301885, 0.8827044, 0.88238996, 0.8820755, 0.881761, 0.88144654, 0.88113207, 0.8808176, 0.8805031, 0.8801887, 0.8798742, 0.87955976, 0.8792453, 0.8789308, 0.87861633, 0.87830186, 0.87798744, 0.877673, 0.8773585, 0.877044, 0.87672955, 0.8764151, 0.8761006, 0.8757862, 0.8754717, 0.87515724, 0.87484276, 0.8745283, 0.8742138, 0.8738994, 0.8735849, 0.87327045, 0.872956, 0.8726415, 0.872327, 0.87201256, 0.87169814, 0.87138367, 0.8710692, 0.8707547, 0.87044024, 0.8701258, 0.8698113, 0.8694969, 0.8691824, 0.86886793, 0.86855346, 0.868239, 0.8679245, 0.86761004, 0.8672956, 0.86698115, 0.8666667, 0.8663522, 0.8660377, 0.86572325, 0.8654088, 0.86509436, 0.8647799, 0.8644654, 0.86415094, 0.86383647, 0.863522, 0.8632075, 0.8628931, 0.86257863, 0.86226416, 0.8619497, 0.8616352, 0.86132073, 0.86100626, 0.86069185, 0.8603774, 0.8600629, 0.8597484, 0.85943395, 0.8591195, 0.85880506, 0.8584906, 0.8581761, 0.85786164, 0.85754716, 0.8572327, 0.8569182, 0.8566038, 0.8562893, 0.85597485, 0.8556604, 0.8553459, 0.85503143, 0.85471696, 0.85440254, 0.85408807, 0.8537736, 0.8534591, 0.85314465, 0.8528302, 0.8525157, 0.8522013, 0.8518868, 0.85157233, 0.85125786, 0.8509434, 0.8506289, 0.85031444, 0.85, 0.85031444, 0.8506289, 0.8509434, 0.85125786, 0.85157233, 0.8518868, 0.8522013, 0.8525157, 0.8528302, 0.85314465, 0.8534591, 0.8537736, 0.85408807, 0.85440254, 0.85471696, 0.85503143, 0.8553459, 0.8556604, 0.85597485, 0.8562893, 0.8566038, 0.8569182, 0.8572327, 0.85754716, 0.85786164, 0.8581761, 0.8584906, 0.85880506, 0.8591195, 0.85943395, 0.8597484, 0.8600629, 0.8603774, 0.86069185, 0.86100626, 0.86132073, 0.8616352, 0.8619497, 0.86226416, 0.86257863, 0.8628931, 0.8632075, 0.863522, 0.86383647, 0.86415094, 0.8644654, 0.8647799, 0.86509436, 0.8654088, 0.86572325, 0.8660377, 0.8663522, 0.8666667, 0.86698115, 0.8672956, 0.86761004, 0.8679245, 0.868239, 0.86855346, 0.86886793, 0.8691824, 0.8694969, 0.8698113, 0.8701258, 0.87044024, 0.8707547, 0.8710692, 0.87138367, 0.87169814, 0.87201256, 0.872327, 0.8726415, 0.872956, 0.87327045, 0.8735849, 0.8738994, 0.8742138, 0.8745283, 0.87484276, 0.87515724, 0.8754717, 0.8757862, 0.8761006, 0.8764151, 0.87672955, 0.877044, 0.8773585, 0.877673, 0.87798744, 0.87830186, 0.87861633, 0.8789308, 0.8792453, 0.87955976, 0.8798742, 0.8801887, 0.8805031, 0.8808176, 0.88113207, 0.88144654, 0.881761, 0.8820755, 0.88238996, 0.8827044, 0.88301885, 0.8833333, 0.8836478, 0.8839623, 0.88427675, 0.8845912, 0.88490564, 0.8852201, 0.8855346, 0.88584906, 0.88616353, 0.886478, 0.8867925, 0.8871069, 0.88742137, 0.88773584, 0.8880503, 0.8883648, 0.88867927, 0.88899374, 0.88930815, 0.8896226, 0.8899371, 0.8902516, 0.89056605, 0.8908805, 0.89119494, 0.8915094, 0.8918239, 0.89213836, 0.89245284, 0.8927673, 0.8930818, 0.8933962, 0.8937107, 0.89402515, 0.8943396, 0.8946541, 0.89496857, 0.89528304, 0.89559746, 0.89591193, 0.8962264, 0.8965409, 0.89685535, 0.8971698, 0.8974843, 0.8977987, 0.8981132, 0.89842767, 0.89874214, 0.8990566, 0.8993711, 0.89968556, 0.9, 0.90031445, 0.9006289, 0.9009434, 0.9012579, 0.90157235, 0.9018868, 0.90220124, 0.9025157, 0.9028302, 0.90314466, 0.90345913, 0.9037736, 0.9040881, 0.9044025, 0.90471697, 0.90503144, 0.9053459, 0.9056604, 0.90597486, 0.9062893, 0.90660375, 0.9069182, 0.9072327, 0.9075472, 0.90786165, 0.9081761, 0.90849054, 0.908805, 0.9091195, 0.90943396, 0.90974844, 0.9100629, 0.9103774, 0.9106918, 0.9110063, 0.91132075, 0.9116352, 0.9119497, 0.91226417, 0.91257864, 0.91289306, 0.91320753, 0.913522, 0.9138365, 0.91415095, 0.9144654, 0.9147799, 0.9150943, 0.9154088, 0.91572326, 0.91603774, 0.9163522, 0.9166667, 0.91698116, 0.9172956, 0.91761005, 0.9179245, 0.918239, 0.9185535, 0.91886795, 0.91918236, 0.91949683, 0.9198113, 0.9201258, 0.92044026, 0.92075473, 0.9210692, 0.9213836, 0.9216981, 0.92201257, 0.92232704, 0.9226415, 0.922956, 0.92327046, 0.9235849, 0.92389935, 0.9242138, 0.9245283, 0.9248428, 0.92515725, 0.9254717, 0.92578614, 0.9261006, 0.9264151, 0.92672956, 0.92704403, 0.9273585, 0.927673, 0.9279874, 0.9283019, 0.92861634, 0.9289308, 0.9292453, 0.92955977, 0.92987424, 0.93018866, 0.93050313, 0.9308176, 0.9311321, 0.93144655, 0.931761, 0.9320755, 0.9323899, 0.9327044, 0.93301886, 0.93333334, 0.9336478, 0.9339623, 0.9342767, 0.9345912, 0.93490565, 0.9352201, 0.9355346, 0.9358491, 0.93616354, 0.93647796, 0.93679243, 0.9371069, 0.9374214, 0.93773586, 0.9380503, 0.9383648, 0.9386792, 0.9389937, 0.93930817, 0.93962264, 0.9399371, 0.9402516, 0.94056606, 0.9408805, 0.94119495, 0.9415094, 0.9418239, 0.9421384, 0.94245285, 0.9427673, 0.94308174, 0.9433962, 0.9437107, 0.94402516, 0.94433963, 0.9446541, 0.9449686, 0.945283, 0.94559747, 0.94591194, 0.9462264, 0.9465409, 0.94685537, 0.94716984, 0.94748425, 0.9477987, 0.9481132, 0.9484277, 0.94874215])])"
      ]
     },
     "execution_count": 24,
     "metadata": {},
     "output_type": "execute_result"
    }
   ],
   "source": [
    "distillbert_learner.history.history.items()"
   ]
  },
  {
   "cell_type": "code",
   "execution_count": 25,
   "metadata": {},
   "outputs": [
    {
     "data": {
      "image/png": "[encoded data removed]",
      "text/plain": [
       "<Figure size 640x480 with 1 Axes>"
      ]
     },
     "metadata": {},
     "output_type": "display_data"
    }
   ],
   "source": [
    "import matplotlib.pyplot as plt\n",
    "\n",
    "# Load the loss and validation loss values.\n",
    "loss = distillbert_learner.history.history[\"loss\"]\n",
    "val_loss = distillbert_learner.history.history[\"val_loss\"]\n",
    "\n",
    "# Create a figure and axes object.\n",
    "fig, ax = plt.subplots()\n",
    "\n",
    "# Plot the loss and validation loss values.\n",
    "ax.plot(loss, label='Loss')\n",
    "ax.plot(val_loss, label='Validation Loss')\n",
    "\n",
    "# Set the labels and title of the plot.\n",
    "ax.set_xlabel('Epoch')\n",
    "ax.set_ylabel('Loss')\n",
    "ax.set_title('Learning Curve')\n",
    "\n",
    "# Add a legend to the plot.\n",
    "ax.legend()\n",
    "\n",
    "# Show the plot.\n",
    "plt.show()"
   ]
  },
  {
   "cell_type": "code",
   "execution_count": 26,
   "metadata": {},
   "outputs": [
    {
     "name": "stdout",
     "output_type": "stream",
     "text": [
      "14/14 [==============================] - 6s 271ms/step\n",
      "              precision    recall  f1-score   support\n",
      "\n",
      "           0       0.91      0.91      0.91       371\n",
      "           1       0.35      0.36      0.36        53\n",
      "\n",
      "    accuracy                           0.84       424\n",
      "   macro avg       0.63      0.63      0.63       424\n",
      "weighted avg       0.84      0.84      0.84       424\n",
      "\n"
     ]
    },
    {
     "data": {
      "text/plain": [
       "array([[336,  35],\n",
       "       [ 34,  19]])"
      ]
     },
     "execution_count": 26,
     "metadata": {},
     "output_type": "execute_result"
    }
   ],
   "source": [
    "distillbert_learner.validate(class_names=distillbert_transformer.get_classes())"
   ]
  },
  {
   "cell_type": "code",
   "execution_count": 27,
   "metadata": {},
   "outputs": [
    {
     "name": "stdout",
     "output_type": "stream",
     "text": [
      "Model: \"tf_distil_bert_for_sequence_classification_1\"\n",
      "_________________________________________________________________\n",
      " Layer (type)                Output Shape              Param #   \n",
      "=================================================================\n",
      " distilbert (TFDistilBertMa  multiple                  66362880  \n",
      " inLayer)                                                        \n",
      "                                                                 \n",
      " pre_classifier (Dense)      multiple                  590592    \n",
      "                                                                 \n",
      " classifier (Dense)          multiple                  1538      \n",
      "                                                                 \n",
      " dropout_39 (Dropout)        multiple                  0         \n",
      "                                                                 \n",
      "=================================================================\n",
      "Total params: 66955010 (255.41 MB)\n",
      "Trainable params: 66955010 (255.41 MB)\n",
      "Non-trainable params: 0 (0.00 Byte)\n",
      "_________________________________________________________________\n"
     ]
    }
   ],
   "source": [
    "distillbert_learner.model.summary()"
   ]
  },
  {
   "cell_type": "code",
   "execution_count": 28,
   "metadata": {},
   "outputs": [],
   "source": [
    "distillbert_predictor = ktrain.get_predictor(distillbert_learner.model, preproc=distillbert_transformer)"
   ]
  },
  {
   "cell_type": "code",
   "execution_count": 31,
   "metadata": {},
   "outputs": [],
   "source": [
    "distillbert_test_data = test_df['sentence'].tolist()\n",
    "distillbert_test_label = test_df['label'].tolist()"
   ]
  },
  {
   "cell_type": "code",
   "execution_count": 32,
   "metadata": {},
   "outputs": [],
   "source": [
    "y_pred_distillbert = distillbert_predictor.predict(distillbert_test_data)"
   ]
  },
  {
   "cell_type": "code",
   "execution_count": 33,
   "metadata": {},
   "outputs": [],
   "source": [
    "y_pred_distillbert = [int(x) for x in y_pred_distillbert]"
   ]
  },
  {
   "cell_type": "code",
   "execution_count": 34,
   "metadata": {},
   "outputs": [
    {
     "name": "stdout",
     "output_type": "stream",
     "text": [
      "True Negative: 370, False Positive: 42, False Negative: 38, True Positive: 21\n"
     ]
    }
   ],
   "source": [
    "tn, fp, fn, tp = confusion_matrix(distillbert_test_label, y_pred_distillbert).ravel()\n",
    "print('True Negative: {}, False Positive: {}, False Negative: {}, True Positive: {}'.format(tn, fp, fn, tp))"
   ]
  },
  {
   "cell_type": "code",
   "execution_count": 35,
   "metadata": {},
   "outputs": [
    {
     "name": "stdout",
     "output_type": "stream",
     "text": [
      "  Classification Report:\n",
      "               precision    recall  f1-score   support\n",
      "\n",
      "           0       0.91      0.90      0.90       412\n",
      "           1       0.33      0.36      0.34        59\n",
      "\n",
      "    accuracy                           0.83       471\n",
      "   macro avg       0.62      0.63      0.62       471\n",
      "weighted avg       0.84      0.83      0.83       471\n",
      " \n",
      "\n"
     ]
    }
   ],
   "source": [
    "print('  Classification Report:\\n',classification_report(distillbert_test_label,y_pred_distillbert),'\\n')"
   ]
  },
  {
   "cell_type": "code",
   "execution_count": 36,
   "metadata": {},
   "outputs": [],
   "source": [
    "#distillbert_predictor.save('./model/distilbert_base_uncased_model') # 256 MB"
   ]
  },
  {
   "cell_type": "code",
   "execution_count": 37,
   "metadata": {},
   "outputs": [
    {
     "name": "stdout",
     "output_type": "stream",
     "text": [
      "AUC roc score for distillbert model:  0.6269952279085076\n"
     ]
    }
   ],
   "source": [
    "print(\"AUC roc score for distillbert model: \", roc_auc_score(distillbert_test_label,y_pred_distillbert))"
   ]
  },
  {
   "cell_type": "code",
   "execution_count": null,
   "metadata": {},
   "outputs": [],
   "source": []
  }
 ],
 "metadata": {
  "kernelspec": {
   "display_name": "Python 3",
   "language": "python",
   "name": "python3"
  },
  "language_info": {
   "codemirror_mode": {
    "name": "ipython",
    "version": 3
   },
   "file_extension": ".py",
   "mimetype": "text/x-python",
   "name": "python",
   "nbconvert_exporter": "python",
   "pygments_lexer": "ipython3",
   "version": "3.8.17"
  }
 },
 "nbformat": 4,
 "nbformat_minor": 4
}
