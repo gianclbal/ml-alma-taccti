{
 "cells": [
  {
   "cell_type": "code",
   "execution_count": 1,
   "metadata": {},
   "outputs": [
    {
     "name": "stdout",
     "output_type": "stream",
     "text": [
      "2.13.0\n"
     ]
    }
   ],
   "source": [
    "import ktrain\n",
    "import tensorflow as tf\n",
    "print(tf.__version__)\n",
    "import pandas as pd\n",
    "import numpy as np\n",
    "from sklearn.model_selection import train_test_split\n",
    "from sklearn.metrics import confusion_matrix\n",
    "from sklearn.metrics import classification_report\n",
    "from sklearn.metrics import roc_auc_score\n"
   ]
  },
  {
   "cell_type": "code",
   "execution_count": 2,
   "metadata": {},
   "outputs": [],
   "source": [
    "from ktrain import text"
   ]
  },
  {
   "cell_type": "code",
   "execution_count": 3,
   "metadata": {},
   "outputs": [],
   "source": [
    "# merged_aspirational_df = pd.read_csv(\"/Users/gbaldonado/Developer/ml-alma-taccti/ml-alma-taccti/data/processed_for_model/merged_themes_using_jaccard_method/merged_Aspirational_sentence_level_batch_1_jaccard.csv\", encoding='utf-8')\n",
    "# merged_aspirational_df\n",
    "\n",
    "# training_df, test_df = train_test_split(merged_aspirational_df, test_size=0.1, random_state=18, stratify=merged_aspirational_df['label'])"
   ]
  },
  {
   "cell_type": "code",
   "execution_count": 4,
   "metadata": {},
   "outputs": [],
   "source": [
    "# training_df, test_df = train_test_split(merged_aspirational_df, test_size=0.1, random_state=18, stratify=merged_aspirational_df['label'])"
   ]
  },
  {
   "cell_type": "code",
   "execution_count": 5,
   "metadata": {},
   "outputs": [],
   "source": [
    "seed = 18"
   ]
  },
  {
   "cell_type": "code",
   "execution_count": 6,
   "metadata": {},
   "outputs": [
    {
     "name": "stdout",
     "output_type": "stream",
     "text": [
      "Balanced training DataFrame:\n",
      "label\n",
      "0    2116\n",
      "1     529\n",
      "Name: count, dtype: int64\n",
      "Balanced test DataFrame:\n",
      "label\n",
      "0    236\n",
      "1     59\n",
      "Name: count, dtype: int64\n"
     ]
    }
   ],
   "source": [
    "import pandas as pd\n",
    "from sklearn.model_selection import train_test_split\n",
    "from sklearn.utils import shuffle\n",
    "\n",
    "merged_aspirational_file_path = \"/Users/gbaldonado/Developer/ml-alma-taccti/ml-alma-taccti/data/processed_for_model/merged_themes_using_jaccard_method/merged_Aspirational_sentence_level_batch_1_jaccard.csv\"\n",
    "\n",
    "def balance_dataset(file_path, positive_percentage, random_state=18):\n",
    "    try:\n",
    "        # Load the dataset\n",
    "        df = pd.read_csv(file_path, encoding='utf-8')\n",
    "\n",
    "        df = shuffle(df, random_state=seed)\n",
    "\n",
    "        # Split into training and test sets\n",
    "        training_df, test_df = train_test_split(df, test_size=0.1, random_state=random_state, stratify=df['label'])\n",
    "        training_df.reset_index(drop=True, inplace=True)\n",
    "        test_df.reset_index(drop=True, inplace=True)\n",
    "\n",
    "        # Separate positive and negative samples in training set\n",
    "        positive_samples_train = training_df[training_df['label'] == 1]\n",
    "        negative_samples_train = training_df[training_df['label'] == 0]\n",
    "\n",
    "        # Calculate the desired number of negative samples for training set\n",
    "        num_positive_train = len(positive_samples_train)\n",
    "        desired_negative_count_train = int(num_positive_train / positive_percentage) - num_positive_train\n",
    "\n",
    "        # Check if we have enough negative samples for training set\n",
    "        if desired_negative_count_train > len(negative_samples_train):\n",
    "            raise ValueError(\"Not enough negative samples to achieve the desired positive ratio in the training set.\")\n",
    "\n",
    "        # Undersample negative samples in training set\n",
    "        negative_samples_undersampled_train = negative_samples_train.sample(n=desired_negative_count_train, random_state=random_state)\n",
    "\n",
    "        # Combine the undersampled negative samples with positive samples for training set\n",
    "        balanced_training_df = pd.concat([positive_samples_train, negative_samples_undersampled_train]).reset_index(drop=True)\n",
    "\n",
    "        # Shuffle the combined DataFrame for training set\n",
    "        balanced_training_df = balanced_training_df.sample(frac=1, random_state=random_state).reset_index(drop=True)\n",
    "\n",
    "        # Separate positive and negative samples in test set\n",
    "        positive_samples_test = test_df[test_df['label'] == 1]\n",
    "        negative_samples_test = test_df[test_df['label'] == 0]\n",
    "\n",
    "        # Calculate the desired number of negative samples for test set\n",
    "        num_positive_test = len(positive_samples_test)\n",
    "        desired_negative_count_test = int(num_positive_test / positive_percentage) - num_positive_test\n",
    "\n",
    "        # Check if we have enough negative samples for test set\n",
    "        if desired_negative_count_test > len(negative_samples_test):\n",
    "            raise ValueError(\"Not enough negative samples to achieve the desired positive ratio in the test set.\")\n",
    "\n",
    "        # Undersample negative samples in test set\n",
    "        negative_samples_undersampled_test = negative_samples_test.sample(n=desired_negative_count_test, random_state=random_state)\n",
    "\n",
    "        # Combine the undersampled negative samples with positive samples for test set\n",
    "        balanced_test_df = pd.concat([positive_samples_test, negative_samples_undersampled_test]).reset_index(drop=True)\n",
    "\n",
    "        # Shuffle the combined DataFrame for test set\n",
    "        balanced_test_df = balanced_test_df.sample(frac=1, random_state=random_state).reset_index(drop=True)\n",
    "\n",
    "        print(\"Balanced training DataFrame:\")\n",
    "        print(balanced_training_df['label'].value_counts())\n",
    "\n",
    "        print(\"Balanced test DataFrame:\")\n",
    "        print(balanced_test_df['label'].value_counts())\n",
    "\n",
    "        return balanced_training_df, balanced_test_df\n",
    "\n",
    "    except FileNotFoundError:\n",
    "        print(\"Error: The file was not found. Please check the file path.\")\n",
    "    except ValueError as ve:\n",
    "        print(f\"ValueError: {ve}\")\n",
    "    except Exception as e:\n",
    "        print(f\"An unexpected error occurred: {e}\")\n",
    "\n",
    "# Example usage\n",
    "training_df, test_df = balance_dataset(merged_aspirational_file_path, positive_percentage=0.20)\n",
    "training_df.reset_index(drop=True, inplace=True)\n",
    "test_df.reset_index(drop=True, inplace=True)"
   ]
  },
  {
   "cell_type": "code",
   "execution_count": 7,
   "metadata": {},
   "outputs": [
    {
     "data": {
      "text/plain": [
       "(2645, 3)"
      ]
     },
     "execution_count": 7,
     "metadata": {},
     "output_type": "execute_result"
    }
   ],
   "source": [
    "training_df.shape"
   ]
  },
  {
   "cell_type": "code",
   "execution_count": 8,
   "metadata": {},
   "outputs": [
    {
     "data": {
      "text/plain": [
       "(295, 3)"
      ]
     },
     "execution_count": 8,
     "metadata": {},
     "output_type": "execute_result"
    }
   ],
   "source": [
    "test_df.shape"
   ]
  },
  {
   "cell_type": "code",
   "execution_count": 10,
   "metadata": {},
   "outputs": [
    {
     "data": {
      "text/plain": [
       "(295, 3)"
      ]
     },
     "execution_count": 10,
     "metadata": {},
     "output_type": "execute_result"
    }
   ],
   "source": [
    "test_df.shape"
   ]
  },
  {
   "cell_type": "code",
   "execution_count": 11,
   "metadata": {},
   "outputs": [
    {
     "data": {
      "text/html": [
       "<div>\n",
       "<style scoped>\n",
       "    .dataframe tbody tr th:only-of-type {\n",
       "        vertical-align: middle;\n",
       "    }\n",
       "\n",
       "    .dataframe tbody tr th {\n",
       "        vertical-align: top;\n",
       "    }\n",
       "\n",
       "    .dataframe thead th {\n",
       "        text-align: right;\n",
       "    }\n",
       "</style>\n",
       "<table border=\"1\" class=\"dataframe\">\n",
       "  <thead>\n",
       "    <tr style=\"text-align: right;\">\n",
       "      <th></th>\n",
       "      <th>sentence</th>\n",
       "      <th>label</th>\n",
       "      <th>phrase</th>\n",
       "    </tr>\n",
       "  </thead>\n",
       "  <tbody>\n",
       "    <tr>\n",
       "      <th>0</th>\n",
       "      <td>im here to get my degree in biochemistry but i...</td>\n",
       "      <td>1</td>\n",
       "      <td>['Im here to get my degree in biochemistry']</td>\n",
       "    </tr>\n",
       "    <tr>\n",
       "      <th>1</th>\n",
       "      <td>im here partly because it is required of my ma...</td>\n",
       "      <td>0</td>\n",
       "      <td>['However I truly do enjoy learning about phys...</td>\n",
       "    </tr>\n",
       "    <tr>\n",
       "      <th>2</th>\n",
       "      <td>i do not have a particular interest in physics...</td>\n",
       "      <td>0</td>\n",
       "      <td>['I really want to be in the field of automoti...</td>\n",
       "    </tr>\n",
       "    <tr>\n",
       "      <th>3</th>\n",
       "      <td>the physics laboratory helps a student in inve...</td>\n",
       "      <td>0</td>\n",
       "      <td>['It is very important that I take physics lab...</td>\n",
       "    </tr>\n",
       "    <tr>\n",
       "      <th>4</th>\n",
       "      <td>firstly, i am here to challenge myself and mak...</td>\n",
       "      <td>1</td>\n",
       "      <td>['Firstly, I am here to challenge myself and m...</td>\n",
       "    </tr>\n",
       "  </tbody>\n",
       "</table>\n",
       "</div>"
      ],
      "text/plain": [
       "                                            sentence  label  \\\n",
       "0  im here to get my degree in biochemistry but i...      1   \n",
       "1  im here partly because it is required of my ma...      0   \n",
       "2  i do not have a particular interest in physics...      0   \n",
       "3  the physics laboratory helps a student in inve...      0   \n",
       "4  firstly, i am here to challenge myself and mak...      1   \n",
       "\n",
       "                                              phrase  \n",
       "0       ['Im here to get my degree in biochemistry']  \n",
       "1  ['However I truly do enjoy learning about phys...  \n",
       "2  ['I really want to be in the field of automoti...  \n",
       "3  ['It is very important that I take physics lab...  \n",
       "4  ['Firstly, I am here to challenge myself and m...  "
      ]
     },
     "execution_count": 11,
     "metadata": {},
     "output_type": "execute_result"
    }
   ],
   "source": [
    "test_df.head()"
   ]
  },
  {
   "cell_type": "code",
   "execution_count": 12,
   "metadata": {},
   "outputs": [
    {
     "data": {
      "text/html": [
       "<div>\n",
       "<style scoped>\n",
       "    .dataframe tbody tr th:only-of-type {\n",
       "        vertical-align: middle;\n",
       "    }\n",
       "\n",
       "    .dataframe tbody tr th {\n",
       "        vertical-align: top;\n",
       "    }\n",
       "\n",
       "    .dataframe thead th {\n",
       "        text-align: right;\n",
       "    }\n",
       "</style>\n",
       "<table border=\"1\" class=\"dataframe\">\n",
       "  <thead>\n",
       "    <tr style=\"text-align: right;\">\n",
       "      <th></th>\n",
       "      <th>sentence</th>\n",
       "      <th>label</th>\n",
       "      <th>phrase</th>\n",
       "    </tr>\n",
       "  </thead>\n",
       "  <tbody>\n",
       "    <tr>\n",
       "      <th>0</th>\n",
       "      <td>still, i had a very annoying experience in hig...</td>\n",
       "      <td>0</td>\n",
       "      <td>['I hold out hope that this course can maybe r...</td>\n",
       "    </tr>\n",
       "    <tr>\n",
       "      <th>1</th>\n",
       "      <td>with my knowledge i plan to help out others in...</td>\n",
       "      <td>0</td>\n",
       "      <td>['I am here to learn and develop my knowledge ...</td>\n",
       "    </tr>\n",
       "    <tr>\n",
       "      <th>2</th>\n",
       "      <td>i expect my professors in both lab and lecture...</td>\n",
       "      <td>0</td>\n",
       "      <td>['I hope I am able to learned from the labs an...</td>\n",
       "    </tr>\n",
       "    <tr>\n",
       "      <th>3</th>\n",
       "      <td>when i entered this class i wasnt quite sure w...</td>\n",
       "      <td>0</td>\n",
       "      <td>['I am a second year psychology major who is i...</td>\n",
       "    </tr>\n",
       "    <tr>\n",
       "      <th>4</th>\n",
       "      <td>taking this course is a part of my requirement...</td>\n",
       "      <td>0</td>\n",
       "      <td>['My goal is to become a pediatrician and ther...</td>\n",
       "    </tr>\n",
       "    <tr>\n",
       "      <th>...</th>\n",
       "      <td>...</td>\n",
       "      <td>...</td>\n",
       "      <td>...</td>\n",
       "    </tr>\n",
       "    <tr>\n",
       "      <th>2640</th>\n",
       "      <td>honestly, i think i'm here by some sort of luck.</td>\n",
       "      <td>0</td>\n",
       "      <td>['I look forward to furthering my understandin...</td>\n",
       "    </tr>\n",
       "    <tr>\n",
       "      <th>2641</th>\n",
       "      <td>i dont regret anything.</td>\n",
       "      <td>0</td>\n",
       "      <td>['I am here to gain life experience.', 'I want...</td>\n",
       "    </tr>\n",
       "    <tr>\n",
       "      <th>2642</th>\n",
       "      <td>thats not a abritaray number.</td>\n",
       "      <td>0</td>\n",
       "      <td>['I believe that physics will enrich my life i...</td>\n",
       "    </tr>\n",
       "    <tr>\n",
       "      <th>2643</th>\n",
       "      <td>i am here in united states because my father m...</td>\n",
       "      <td>0</td>\n",
       "      <td>['Engineering is hard but I will do my best in...</td>\n",
       "    </tr>\n",
       "    <tr>\n",
       "      <th>2644</th>\n",
       "      <td>getting excepted to med school means i will pr...</td>\n",
       "      <td>1</td>\n",
       "      <td>['I have a higher chance of getting excepted t...</td>\n",
       "    </tr>\n",
       "  </tbody>\n",
       "</table>\n",
       "<p>2645 rows × 3 columns</p>\n",
       "</div>"
      ],
      "text/plain": [
       "                                               sentence  label  \\\n",
       "0     still, i had a very annoying experience in hig...      0   \n",
       "1     with my knowledge i plan to help out others in...      0   \n",
       "2     i expect my professors in both lab and lecture...      0   \n",
       "3     when i entered this class i wasnt quite sure w...      0   \n",
       "4     taking this course is a part of my requirement...      0   \n",
       "...                                                 ...    ...   \n",
       "2640   honestly, i think i'm here by some sort of luck.      0   \n",
       "2641                            i dont regret anything.      0   \n",
       "2642                      thats not a abritaray number.      0   \n",
       "2643  i am here in united states because my father m...      0   \n",
       "2644  getting excepted to med school means i will pr...      1   \n",
       "\n",
       "                                                 phrase  \n",
       "0     ['I hold out hope that this course can maybe r...  \n",
       "1     ['I am here to learn and develop my knowledge ...  \n",
       "2     ['I hope I am able to learned from the labs an...  \n",
       "3     ['I am a second year psychology major who is i...  \n",
       "4     ['My goal is to become a pediatrician and ther...  \n",
       "...                                                 ...  \n",
       "2640  ['I look forward to furthering my understandin...  \n",
       "2641  ['I am here to gain life experience.', 'I want...  \n",
       "2642  ['I believe that physics will enrich my life i...  \n",
       "2643  ['Engineering is hard but I will do my best in...  \n",
       "2644  ['I have a higher chance of getting excepted t...  \n",
       "\n",
       "[2645 rows x 3 columns]"
      ]
     },
     "execution_count": 12,
     "metadata": {},
     "output_type": "execute_result"
    }
   ],
   "source": [
    "training_df"
   ]
  },
  {
   "cell_type": "code",
   "execution_count": 14,
   "metadata": {},
   "outputs": [],
   "source": [
    "MAXLEN = 150"
   ]
  },
  {
   "cell_type": "code",
   "execution_count": 15,
   "metadata": {},
   "outputs": [],
   "source": [
    "X = training_df['sentence']\n",
    "y = training_df['label']"
   ]
  },
  {
   "cell_type": "code",
   "execution_count": 16,
   "metadata": {},
   "outputs": [],
   "source": [
    "# Split the data\n",
    "X_train, X_test, y_train, y_test = train_test_split(X, y, test_size = 0.1, random_state = 18, stratify=y)"
   ]
  },
  {
   "cell_type": "code",
   "execution_count": 17,
   "metadata": {},
   "outputs": [
    {
     "data": {
      "text/plain": [
       "1811    this class will help me better understand the ...\n",
       "427     i am at a point in my life where i only have o...\n",
       "1369    i didnt do well in that class because ive neve...\n",
       "1410    i am also here because i want to learn more ab...\n",
       "606     physics 2 is difficult but instead of giving u...\n",
       "                              ...                        \n",
       "2089    i am here in this class simply because it is a...\n",
       "2223    i am here to learn from students and work with...\n",
       "908     i hope calculus will support my learning in th...\n",
       "1771    i found my calling in the sciences and am now ...\n",
       "725     i am in sfsu because i want to go to medical s...\n",
       "Name: sentence, Length: 2380, dtype: object"
      ]
     },
     "execution_count": 17,
     "metadata": {},
     "output_type": "execute_result"
    }
   ],
   "source": [
    "X_train"
   ]
  },
  {
   "cell_type": "code",
   "execution_count": 18,
   "metadata": {},
   "outputs": [
    {
     "data": {
      "text/plain": [
       "1337           i want to make myself proud and my family.\n",
       "2352    there is a recent program that state offers wh...\n",
       "1679    i am here to live life to the fullest and also...\n",
       "326     im here at sfsu because i want to get my bache...\n",
       "1191    it would have probably helped me get a better ...\n",
       "                              ...                        \n",
       "799     personally, i think physics as a course is won...\n",
       "1607    ive took sci in the past and realized it is al...\n",
       "1694    this means that i dedicate my life to learning...\n",
       "5                        i am here for a list of reasons.\n",
       "128     mostly, i am in this sci class so that i can g...\n",
       "Name: sentence, Length: 265, dtype: object"
      ]
     },
     "execution_count": 18,
     "metadata": {},
     "output_type": "execute_result"
    }
   ],
   "source": [
    "X_test"
   ]
  },
  {
   "cell_type": "code",
   "execution_count": 19,
   "metadata": {},
   "outputs": [],
   "source": [
    "model_name = 'distilbert-base-uncased'"
   ]
  },
  {
   "cell_type": "code",
   "execution_count": 20,
   "metadata": {},
   "outputs": [
    {
     "name": "stdout",
     "output_type": "stream",
     "text": [
      "Metal device set to: Apple M2 Pro\n",
      "\n",
      "systemMemory: 16.00 GB\n",
      "maxCacheSize: 5.33 GB\n",
      "\n",
      "preprocessing train...\n",
      "language: en\n",
      "train sequence lengths:\n",
      "\tmean : 20\n",
      "\t95percentile : 39\n",
      "\t99percentile : 53\n"
     ]
    },
    {
     "data": {
      "text/html": [
       "\n",
       "<style>\n",
       "    /* Turns off some styling */\n",
       "    progress {\n",
       "        /* gets rid of default border in Firefox and Opera. */\n",
       "        border: none;\n",
       "        /* Needs to be in here for Safari polyfill so background images work as expected. */\n",
       "        background-size: auto;\n",
       "    }\n",
       "    progress:not([value]), progress:not([value])::-webkit-progress-bar {\n",
       "        background: repeating-linear-gradient(45deg, #7e7e7e, #7e7e7e 10px, #5c5c5c 10px, #5c5c5c 20px);\n",
       "    }\n",
       "    .progress-bar-interrupted, .progress-bar-interrupted::-webkit-progress-bar {\n",
       "        background: #F44336;\n",
       "    }\n",
       "</style>\n"
      ],
      "text/plain": [
       "<IPython.core.display.HTML object>"
      ]
     },
     "metadata": {},
     "output_type": "display_data"
    },
    {
     "data": {
      "text/html": [],
      "text/plain": [
       "<IPython.core.display.HTML object>"
      ]
     },
     "metadata": {},
     "output_type": "display_data"
    },
    {
     "name": "stdout",
     "output_type": "stream",
     "text": [
      "Is Multi-Label? False\n",
      "preprocessing test...\n",
      "language: en\n",
      "test sequence lengths:\n",
      "\tmean : 22\n",
      "\t95percentile : 42\n",
      "\t99percentile : 57\n"
     ]
    },
    {
     "data": {
      "text/html": [
       "\n",
       "<style>\n",
       "    /* Turns off some styling */\n",
       "    progress {\n",
       "        /* gets rid of default border in Firefox and Opera. */\n",
       "        border: none;\n",
       "        /* Needs to be in here for Safari polyfill so background images work as expected. */\n",
       "        background-size: auto;\n",
       "    }\n",
       "    progress:not([value]), progress:not([value])::-webkit-progress-bar {\n",
       "        background: repeating-linear-gradient(45deg, #7e7e7e, #7e7e7e 10px, #5c5c5c 10px, #5c5c5c 20px);\n",
       "    }\n",
       "    .progress-bar-interrupted, .progress-bar-interrupted::-webkit-progress-bar {\n",
       "        background: #F44336;\n",
       "    }\n",
       "</style>\n"
      ],
      "text/plain": [
       "<IPython.core.display.HTML object>"
      ]
     },
     "metadata": {},
     "output_type": "display_data"
    },
    {
     "data": {
      "text/html": [],
      "text/plain": [
       "<IPython.core.display.HTML object>"
      ]
     },
     "metadata": {},
     "output_type": "display_data"
    }
   ],
   "source": [
    "distillbert_transformer = text.Transformer(model_name, maxlen=MAXLEN, class_names=[0,1])\n",
    "training_set = distillbert_transformer.preprocess_train(X_train.tolist(), y_train.tolist())\n",
    "validation_set = distillbert_transformer.preprocess_test(X_test.tolist(), y_test.tolist())\n",
    "distillbert_base_model = distillbert_transformer.get_classifier()"
   ]
  },
  {
   "cell_type": "code",
   "execution_count": 21,
   "metadata": {},
   "outputs": [],
   "source": [
    "distillbert_learner = ktrain.get_learner(distillbert_base_model, train_data=training_set, val_data=validation_set, batch_size=6)"
   ]
  },
  {
   "cell_type": "markdown",
   "metadata": {},
   "source": [
    "Three possible suggestions for LR from plot:\n",
    "\tLongest valley (red): 4.85E-06\n",
    "\tMin numerical gradient (purple): 5.45E-07\n",
    "\tMin loss divided by 10 (omitted from plot): 6.17E-06\n",
    "\n",
    "![](2023-11-07-23-09-21.png)"
   ]
  },
  {
   "cell_type": "code",
   "execution_count": 22,
   "metadata": {},
   "outputs": [
    {
     "name": "stdout",
     "output_type": "stream",
     "text": [
      "\n",
      "\n",
      "begin training using triangular learning rate policy with max lr of 2e-05...\n",
      "Epoch 1/5\n",
      "397/397 [==============================] - 81s 181ms/step - loss: 0.4548 - accuracy: 0.8076 - val_loss: 0.4097 - val_accuracy: 0.7698\n",
      "Epoch 2/5\n",
      "397/397 [==============================] - 65s 162ms/step - loss: 0.3474 - accuracy: 0.8353 - val_loss: 0.3988 - val_accuracy: 0.8038\n",
      "Epoch 3/5\n",
      "397/397 [==============================] - 63s 158ms/step - loss: 0.2911 - accuracy: 0.8697 - val_loss: 0.4393 - val_accuracy: 0.7811\n",
      "Epoch 4/5\n",
      "397/397 [==============================] - 63s 156ms/step - loss: 0.2378 - accuracy: 0.8908 - val_loss: 0.4555 - val_accuracy: 0.7736\n",
      "Epoch 5/5\n",
      "397/397 [==============================] - 64s 158ms/step - loss: 0.2054 - accuracy: 0.9088 - val_loss: 0.5228 - val_accuracy: 0.7849\n"
     ]
    },
    {
     "data": {
      "text/plain": [
       "<keras.src.callbacks.History at 0x3a3ecbd30>"
      ]
     },
     "execution_count": 22,
     "metadata": {},
     "output_type": "execute_result"
    }
   ],
   "source": [
    "distillbert_learner.autofit(2E-5, epochs=5)"
   ]
  },
  {
   "cell_type": "code",
   "execution_count": 23,
   "metadata": {},
   "outputs": [
    {
     "name": "stdout",
     "output_type": "stream",
     "text": [
      "loss\n",
      "accuracy\n",
      "val_loss\n",
      "val_accuracy\n",
      "lr\n",
      "iterations\n",
      "momentum\n"
     ]
    }
   ],
   "source": [
    "for key,_ in distillbert_learner.history.history.items():\n",
    "    print(key)"
   ]
  },
  {
   "cell_type": "code",
   "execution_count": 24,
   "metadata": {},
   "outputs": [
    {
     "data": {
      "text/plain": [
       "dict_items([('loss', [0.4547671675682068, 0.3473901152610779, 0.2911039888858795, 0.23779164254665375, 0.2053551822900772]), ('accuracy', [0.8075630068778992, 0.8352941274642944, 0.8697478771209717, 0.8907563090324402, 0.908823549747467]), ('val_loss', [0.4096792936325073, 0.39883387088775635, 0.43929892778396606, 0.4555198550224304, 0.5227506160736084]), ('val_accuracy', [0.7698113322257996, 0.8037735819816589, 0.7811321020126343, 0.7735849022865295, 0.7849056720733643]), ('lr', [2e-06, 2.0904522e-06, 2.1809046e-06, 2.2713568e-06, 2.361809e-06, 2.4522612e-06, 2.5427137e-06, 2.6331659e-06, 2.723618e-06, 2.8140703e-06, 2.9045227e-06, 2.994975e-06, 3.0854271e-06, 3.1758793e-06, 3.2663318e-06, 3.356784e-06, 3.4472362e-06, 3.5376884e-06, 3.6281408e-06, 3.718593e-06, 3.8090452e-06, 3.8994976e-06, 3.9899496e-06, 4.080402e-06, 4.1708545e-06, 4.2613065e-06, 4.351759e-06, 4.442211e-06, 4.5326633e-06, 4.6231157e-06, 4.7135677e-06, 4.80402e-06, 4.8944726e-06, 4.9849245e-06, 5.075377e-06, 5.165829e-06, 5.2562814e-06, 5.346734e-06, 5.437186e-06, 5.527638e-06, 5.6180907e-06, 5.7085426e-06, 5.798995e-06, 5.889447e-06, 5.9798995e-06, 6.070352e-06, 6.160804e-06, 6.2512563e-06, 6.3417087e-06, 6.4321607e-06, 6.522613e-06, 6.613065e-06, 6.7035176e-06, 6.79397e-06, 6.884422e-06, 6.9748744e-06, 7.065327e-06, 7.155779e-06, 7.2462312e-06, 7.336683e-06, 7.4271356e-06, 7.517588e-06, 7.60804e-06, 7.6984925e-06, 7.7889445e-06, 7.879397e-06, 7.969849e-06, 8.060301e-06, 8.150754e-06, 8.241206e-06, 8.331658e-06, 8.42211e-06, 8.512563e-06, 8.603015e-06, 8.693467e-06, 8.78392e-06, 8.874372e-06, 8.964824e-06, 9.055277e-06, 9.145729e-06, 9.236181e-06, 9.3266335e-06, 9.4170855e-06, 9.5075375e-06, 9.59799e-06, 9.688442e-06, 9.778894e-06, 9.869346e-06, 9.959799e-06, 1.0050251e-05, 1.0140703e-05, 1.0231156e-05, 1.0321608e-05, 1.041206e-05, 1.0502513e-05, 1.0592965e-05, 1.0683417e-05, 1.077387e-05, 1.0864322e-05, 1.0954774e-05, 1.10452265e-05, 1.11356785e-05, 1.12261305e-05, 1.1316583e-05, 1.1407035e-05, 1.1497487e-05, 1.1587939e-05, 1.1678392e-05, 1.1768844e-05, 1.1859296e-05, 1.1949749e-05, 1.2040201e-05, 1.2130653e-05, 1.2221106e-05, 1.2311558e-05, 1.240201e-05, 1.2492463e-05, 1.2582915e-05, 1.2673367e-05, 1.27638195e-05, 1.28542715e-05, 1.29447235e-05, 1.30351755e-05, 1.3125628e-05, 1.321608e-05, 1.3306532e-05, 1.3396985e-05, 1.3487437e-05, 1.3577889e-05, 1.3668342e-05, 1.3758794e-05, 1.3849246e-05, 1.3939699e-05, 1.4030151e-05, 1.4120603e-05, 1.4211056e-05, 1.4301508e-05, 1.439196e-05, 1.4482412e-05, 1.45728645e-05, 1.46633165e-05, 1.47537685e-05, 1.4844221e-05, 1.4934673e-05, 1.5025125e-05, 1.5115578e-05, 1.520603e-05, 1.5296482e-05, 1.5386935e-05, 1.5477386e-05, 1.5567839e-05, 1.5658292e-05, 1.5748743e-05, 1.5839196e-05, 1.5929649e-05, 1.60201e-05, 1.6110553e-05, 1.6201006e-05, 1.6291457e-05, 1.638191e-05, 1.6472362e-05, 1.6562813e-05, 1.6653266e-05, 1.674372e-05, 1.683417e-05, 1.6924623e-05, 1.7015076e-05, 1.7105527e-05, 1.719598e-05, 1.7286433e-05, 1.7376884e-05, 1.7467337e-05, 1.755779e-05, 1.764824e-05, 1.7738694e-05, 1.7829147e-05, 1.7919598e-05, 1.801005e-05, 1.8100502e-05, 1.8190955e-05, 1.8281407e-05, 1.8371858e-05, 1.8462311e-05, 1.8552764e-05, 1.8643215e-05, 1.8733668e-05, 1.8824121e-05, 1.8914572e-05, 1.9005025e-05, 1.9095478e-05, 1.9185929e-05, 1.9276382e-05, 1.9366835e-05, 1.9457286e-05, 1.9547739e-05, 1.9638192e-05, 1.9728643e-05, 1.9819096e-05, 1.9909548e-05, 2e-05, 1.9899599e-05, 1.9799196e-05, 1.9698795e-05, 1.9598392e-05, 1.949799e-05, 1.9397588e-05, 1.9297186e-05, 1.9196785e-05, 1.9096382e-05, 1.899598e-05, 1.8895578e-05, 1.8795175e-05, 1.8694775e-05, 1.8594372e-05, 1.8493969e-05, 1.8393568e-05, 1.8293165e-05, 1.8192764e-05, 1.8092362e-05, 1.799196e-05, 1.7891558e-05, 1.7791155e-05, 1.7690754e-05, 1.7590351e-05, 1.748995e-05, 1.7389548e-05, 1.7289145e-05, 1.7188744e-05, 1.7088341e-05, 1.698794e-05, 1.6887538e-05, 1.6787135e-05, 1.6686734e-05, 1.6586331e-05, 1.648593e-05, 1.6385527e-05, 1.6285125e-05, 1.6184724e-05, 1.6084321e-05, 1.598392e-05, 1.5883517e-05, 1.5783116e-05, 1.5682714e-05, 1.558231e-05, 1.548191e-05, 1.5381507e-05, 1.5281106e-05, 1.51807035e-05, 1.5080302e-05, 1.49799e-05, 1.4879498e-05, 1.4779095e-05, 1.4678693e-05, 1.45782915e-05, 1.447789e-05, 1.4377488e-05, 1.4277085e-05, 1.4176683e-05, 1.4076281e-05, 1.39758795e-05, 1.3875478e-05, 1.3775076e-05, 1.3674673e-05, 1.3574271e-05, 1.3473869e-05, 1.33734675e-05, 1.3273066e-05, 1.3172663e-05, 1.3072261e-05, 1.2971859e-05, 1.2871457e-05, 1.27710555e-05, 1.2670654e-05, 1.2570251e-05, 1.2469849e-05, 1.2369447e-05, 1.2269045e-05, 1.21686435e-05, 1.2068242e-05, 1.1967839e-05, 1.1867437e-05, 1.1767035e-05, 1.1666633e-05, 1.15662315e-05, 1.1465829e-05, 1.1365427e-05, 1.1265025e-05, 1.1164623e-05, 1.1064221e-05, 1.09638195e-05, 1.0863417e-05, 1.0763015e-05, 1.0662613e-05, 1.0562211e-05, 1.0461809e-05, 1.03614075e-05, 1.0261005e-05, 1.0160603e-05, 1.0060201e-05, 9.959799e-06, 9.859397e-06, 9.758995e-06, 9.658593e-06, 9.558191e-06, 9.457789e-06, 9.357387e-06, 9.256985e-06, 9.156583e-06, 9.056181e-06, 8.955779e-06, 8.855377e-06, 8.754975e-06, 8.654572e-06, 8.554171e-06, 8.453769e-06, 8.353367e-06, 8.252965e-06, 8.152563e-06, 8.05216e-06, 7.951759e-06, 7.851357e-06, 7.750955e-06, 7.650553e-06, 7.5501507e-06, 7.449749e-06, 7.3493466e-06, 7.2489447e-06, 7.148543e-06, 7.0481406e-06, 6.9477387e-06, 6.847337e-06, 6.7469346e-06, 6.6465327e-06, 6.546131e-06, 6.4457286e-06, 6.3453267e-06, 6.2449244e-06, 6.1445226e-06, 6.0441207e-06, 5.9437184e-06, 5.8433166e-06, 5.7429147e-06, 5.6425124e-06, 5.5421106e-06, 5.4417087e-06, 5.3413064e-06, 5.2409046e-06, 5.1405027e-06, 5.0401004e-06, 4.9396986e-06, 4.8392967e-06, 4.7388944e-06, 4.6384926e-06, 4.5380903e-06, 4.4376884e-06, 4.3372866e-06, 4.2368843e-06, 4.1364824e-06, 4.0360806e-06, 3.9356783e-06, 3.8352764e-06, 3.7348743e-06, 3.6344723e-06, 3.5340704e-06, 3.4336683e-06, 3.3332662e-06, 3.2328644e-06, 3.1324623e-06, 3.0320602e-06, 2.9316584e-06, 2.8312563e-06, 2.7308542e-06, 2.6304522e-06, 2.5300503e-06, 2.4296482e-06, 2.3292462e-06, 2.2288443e-06, 2.1284422e-06, 2.0280402e-06, 1.927638e-06, 1.8272361e-06, 1.7268342e-06, 1.6264322e-06, 1.5260301e-06, 1.4256282e-06, 1.3252261e-06, 1.2248241e-06, 1.124422e-06, 1.0240201e-06, 9.236181e-07, 8.2321606e-07, 7.228141e-07, 6.224121e-07, 5.2201005e-07, 4.2160804e-07, 3.2120602e-07, 2.2080403e-07, 1.20402e-07, 2e-06, 2.0904522e-06, 2.1809046e-06, 2.2713568e-06, 2.361809e-06, 2.4522612e-06, 2.5427137e-06, 2.6331659e-06, 2.723618e-06, 2.8140703e-06, 2.9045227e-06, 2.994975e-06, 3.0854271e-06, 3.1758793e-06, 3.2663318e-06, 3.356784e-06, 3.4472362e-06, 3.5376884e-06, 3.6281408e-06, 3.718593e-06, 3.8090452e-06, 3.8994976e-06, 3.9899496e-06, 4.080402e-06, 4.1708545e-06, 4.2613065e-06, 4.351759e-06, 4.442211e-06, 4.5326633e-06, 4.6231157e-06, 4.7135677e-06, 4.80402e-06, 4.8944726e-06, 4.9849245e-06, 5.075377e-06, 5.165829e-06, 5.2562814e-06, 5.346734e-06, 5.437186e-06, 5.527638e-06, 5.6180907e-06, 5.7085426e-06, 5.798995e-06, 5.889447e-06, 5.9798995e-06, 6.070352e-06, 6.160804e-06, 6.2512563e-06, 6.3417087e-06, 6.4321607e-06, 6.522613e-06, 6.613065e-06, 6.7035176e-06, 6.79397e-06, 6.884422e-06, 6.9748744e-06, 7.065327e-06, 7.155779e-06, 7.2462312e-06, 7.336683e-06, 7.4271356e-06, 7.517588e-06, 7.60804e-06, 7.6984925e-06, 7.7889445e-06, 7.879397e-06, 7.969849e-06, 8.060301e-06, 8.150754e-06, 8.241206e-06, 8.331658e-06, 8.42211e-06, 8.512563e-06, 8.603015e-06, 8.693467e-06, 8.78392e-06, 8.874372e-06, 8.964824e-06, 9.055277e-06, 9.145729e-06, 9.236181e-06, 9.3266335e-06, 9.4170855e-06, 9.5075375e-06, 9.59799e-06, 9.688442e-06, 9.778894e-06, 9.869346e-06, 9.959799e-06, 1.0050251e-05, 1.0140703e-05, 1.0231156e-05, 1.0321608e-05, 1.041206e-05, 1.0502513e-05, 1.0592965e-05, 1.0683417e-05, 1.077387e-05, 1.0864322e-05, 1.0954774e-05, 1.10452265e-05, 1.11356785e-05, 1.12261305e-05, 1.1316583e-05, 1.1407035e-05, 1.1497487e-05, 1.1587939e-05, 1.1678392e-05, 1.1768844e-05, 1.1859296e-05, 1.1949749e-05, 1.2040201e-05, 1.2130653e-05, 1.2221106e-05, 1.2311558e-05, 1.240201e-05, 1.2492463e-05, 1.2582915e-05, 1.2673367e-05, 1.27638195e-05, 1.28542715e-05, 1.29447235e-05, 1.30351755e-05, 1.3125628e-05, 1.321608e-05, 1.3306532e-05, 1.3396985e-05, 1.3487437e-05, 1.3577889e-05, 1.3668342e-05, 1.3758794e-05, 1.3849246e-05, 1.3939699e-05, 1.4030151e-05, 1.4120603e-05, 1.4211056e-05, 1.4301508e-05, 1.439196e-05, 1.4482412e-05, 1.45728645e-05, 1.46633165e-05, 1.47537685e-05, 1.4844221e-05, 1.4934673e-05, 1.5025125e-05, 1.5115578e-05, 1.520603e-05, 1.5296482e-05, 1.5386935e-05, 1.5477386e-05, 1.5567839e-05, 1.5658292e-05, 1.5748743e-05, 1.5839196e-05, 1.5929649e-05, 1.60201e-05, 1.6110553e-05, 1.6201006e-05, 1.6291457e-05, 1.638191e-05, 1.6472362e-05, 1.6562813e-05, 1.6653266e-05, 1.674372e-05, 1.683417e-05, 1.6924623e-05, 1.7015076e-05, 1.7105527e-05, 1.719598e-05, 1.7286433e-05, 1.7376884e-05, 1.7467337e-05, 1.755779e-05, 1.764824e-05, 1.7738694e-05, 1.7829147e-05, 1.7919598e-05, 1.801005e-05, 1.8100502e-05, 1.8190955e-05, 1.8281407e-05, 1.8371858e-05, 1.8462311e-05, 1.8552764e-05, 1.8643215e-05, 1.8733668e-05, 1.8824121e-05, 1.8914572e-05, 1.9005025e-05, 1.9095478e-05, 1.9185929e-05, 1.9276382e-05, 1.9366835e-05, 1.9457286e-05, 1.9547739e-05, 1.9638192e-05, 1.9728643e-05, 1.9819096e-05, 1.9909548e-05, 2e-05, 1.9899599e-05, 1.9799196e-05, 1.9698795e-05, 1.9598392e-05, 1.949799e-05, 1.9397588e-05, 1.9297186e-05, 1.9196785e-05, 1.9096382e-05, 1.899598e-05, 1.8895578e-05, 1.8795175e-05, 1.8694775e-05, 1.8594372e-05, 1.8493969e-05, 1.8393568e-05, 1.8293165e-05, 1.8192764e-05, 1.8092362e-05, 1.799196e-05, 1.7891558e-05, 1.7791155e-05, 1.7690754e-05, 1.7590351e-05, 1.748995e-05, 1.7389548e-05, 1.7289145e-05, 1.7188744e-05, 1.7088341e-05, 1.698794e-05, 1.6887538e-05, 1.6787135e-05, 1.6686734e-05, 1.6586331e-05, 1.648593e-05, 1.6385527e-05, 1.6285125e-05, 1.6184724e-05, 1.6084321e-05, 1.598392e-05, 1.5883517e-05, 1.5783116e-05, 1.5682714e-05, 1.558231e-05, 1.548191e-05, 1.5381507e-05, 1.5281106e-05, 1.51807035e-05, 1.5080302e-05, 1.49799e-05, 1.4879498e-05, 1.4779095e-05, 1.4678693e-05, 1.45782915e-05, 1.447789e-05, 1.4377488e-05, 1.4277085e-05, 1.4176683e-05, 1.4076281e-05, 1.39758795e-05, 1.3875478e-05, 1.3775076e-05, 1.3674673e-05, 1.3574271e-05, 1.3473869e-05, 1.33734675e-05, 1.3273066e-05, 1.3172663e-05, 1.3072261e-05, 1.2971859e-05, 1.2871457e-05, 1.27710555e-05, 1.2670654e-05, 1.2570251e-05, 1.2469849e-05, 1.2369447e-05, 1.2269045e-05, 1.21686435e-05, 1.2068242e-05, 1.1967839e-05, 1.1867437e-05, 1.1767035e-05, 1.1666633e-05, 1.15662315e-05, 1.1465829e-05, 1.1365427e-05, 1.1265025e-05, 1.1164623e-05, 1.1064221e-05, 1.09638195e-05, 1.0863417e-05, 1.0763015e-05, 1.0662613e-05, 1.0562211e-05, 1.0461809e-05, 1.03614075e-05, 1.0261005e-05, 1.0160603e-05, 1.0060201e-05, 9.959799e-06, 9.859397e-06, 9.758995e-06, 9.658593e-06, 9.558191e-06, 9.457789e-06, 9.357387e-06, 9.256985e-06, 9.156583e-06, 9.056181e-06, 8.955779e-06, 8.855377e-06, 8.754975e-06, 8.654572e-06, 8.554171e-06, 8.453769e-06, 8.353367e-06, 8.252965e-06, 8.152563e-06, 8.05216e-06, 7.951759e-06, 7.851357e-06, 7.750955e-06, 7.650553e-06, 7.5501507e-06, 7.449749e-06, 7.3493466e-06, 7.2489447e-06, 7.148543e-06, 7.0481406e-06, 6.9477387e-06, 6.847337e-06, 6.7469346e-06, 6.6465327e-06, 6.546131e-06, 6.4457286e-06, 6.3453267e-06, 6.2449244e-06, 6.1445226e-06, 6.0441207e-06, 5.9437184e-06, 5.8433166e-06, 5.7429147e-06, 5.6425124e-06, 5.5421106e-06, 5.4417087e-06, 5.3413064e-06, 5.2409046e-06, 5.1405027e-06, 5.0401004e-06, 4.9396986e-06, 4.8392967e-06, 4.7388944e-06, 4.6384926e-06, 4.5380903e-06, 4.4376884e-06, 4.3372866e-06, 4.2368843e-06, 4.1364824e-06, 4.0360806e-06, 3.9356783e-06, 3.8352764e-06, 3.7348743e-06, 3.6344723e-06, 3.5340704e-06, 3.4336683e-06, 3.3332662e-06, 3.2328644e-06, 3.1324623e-06, 3.0320602e-06, 2.9316584e-06, 2.8312563e-06, 2.7308542e-06, 2.6304522e-06, 2.5300503e-06, 2.4296482e-06, 2.3292462e-06, 2.2288443e-06, 2.1284422e-06, 2.0280402e-06, 1.927638e-06, 1.8272361e-06, 1.7268342e-06, 1.6264322e-06, 1.5260301e-06, 1.4256282e-06, 1.3252261e-06, 1.2248241e-06, 1.124422e-06, 1.0240201e-06, 9.236181e-07, 8.2321606e-07, 7.228141e-07, 6.224121e-07, 5.2201005e-07, 4.2160804e-07, 3.2120602e-07, 2.2080403e-07, 1.20402e-07, 2e-06, 2.0904522e-06, 2.1809046e-06, 2.2713568e-06, 2.361809e-06, 2.4522612e-06, 2.5427137e-06, 2.6331659e-06, 2.723618e-06, 2.8140703e-06, 2.9045227e-06, 2.994975e-06, 3.0854271e-06, 3.1758793e-06, 3.2663318e-06, 3.356784e-06, 3.4472362e-06, 3.5376884e-06, 3.6281408e-06, 3.718593e-06, 3.8090452e-06, 3.8994976e-06, 3.9899496e-06, 4.080402e-06, 4.1708545e-06, 4.2613065e-06, 4.351759e-06, 4.442211e-06, 4.5326633e-06, 4.6231157e-06, 4.7135677e-06, 4.80402e-06, 4.8944726e-06, 4.9849245e-06, 5.075377e-06, 5.165829e-06, 5.2562814e-06, 5.346734e-06, 5.437186e-06, 5.527638e-06, 5.6180907e-06, 5.7085426e-06, 5.798995e-06, 5.889447e-06, 5.9798995e-06, 6.070352e-06, 6.160804e-06, 6.2512563e-06, 6.3417087e-06, 6.4321607e-06, 6.522613e-06, 6.613065e-06, 6.7035176e-06, 6.79397e-06, 6.884422e-06, 6.9748744e-06, 7.065327e-06, 7.155779e-06, 7.2462312e-06, 7.336683e-06, 7.4271356e-06, 7.517588e-06, 7.60804e-06, 7.6984925e-06, 7.7889445e-06, 7.879397e-06, 7.969849e-06, 8.060301e-06, 8.150754e-06, 8.241206e-06, 8.331658e-06, 8.42211e-06, 8.512563e-06, 8.603015e-06, 8.693467e-06, 8.78392e-06, 8.874372e-06, 8.964824e-06, 9.055277e-06, 9.145729e-06, 9.236181e-06, 9.3266335e-06, 9.4170855e-06, 9.5075375e-06, 9.59799e-06, 9.688442e-06, 9.778894e-06, 9.869346e-06, 9.959799e-06, 1.0050251e-05, 1.0140703e-05, 1.0231156e-05, 1.0321608e-05, 1.041206e-05, 1.0502513e-05, 1.0592965e-05, 1.0683417e-05, 1.077387e-05, 1.0864322e-05, 1.0954774e-05, 1.10452265e-05, 1.11356785e-05, 1.12261305e-05, 1.1316583e-05, 1.1407035e-05, 1.1497487e-05, 1.1587939e-05, 1.1678392e-05, 1.1768844e-05, 1.1859296e-05, 1.1949749e-05, 1.2040201e-05, 1.2130653e-05, 1.2221106e-05, 1.2311558e-05, 1.240201e-05, 1.2492463e-05, 1.2582915e-05, 1.2673367e-05, 1.27638195e-05, 1.28542715e-05, 1.29447235e-05, 1.30351755e-05, 1.3125628e-05, 1.321608e-05, 1.3306532e-05, 1.3396985e-05, 1.3487437e-05, 1.3577889e-05, 1.3668342e-05, 1.3758794e-05, 1.3849246e-05, 1.3939699e-05, 1.4030151e-05, 1.4120603e-05, 1.4211056e-05, 1.4301508e-05, 1.439196e-05, 1.4482412e-05, 1.45728645e-05, 1.46633165e-05, 1.47537685e-05, 1.4844221e-05, 1.4934673e-05, 1.5025125e-05, 1.5115578e-05, 1.520603e-05, 1.5296482e-05, 1.5386935e-05, 1.5477386e-05, 1.5567839e-05, 1.5658292e-05, 1.5748743e-05, 1.5839196e-05, 1.5929649e-05, 1.60201e-05, 1.6110553e-05, 1.6201006e-05, 1.6291457e-05, 1.638191e-05, 1.6472362e-05, 1.6562813e-05, 1.6653266e-05, 1.674372e-05, 1.683417e-05, 1.6924623e-05, 1.7015076e-05, 1.7105527e-05, 1.719598e-05, 1.7286433e-05, 1.7376884e-05, 1.7467337e-05, 1.755779e-05, 1.764824e-05, 1.7738694e-05, 1.7829147e-05, 1.7919598e-05, 1.801005e-05, 1.8100502e-05, 1.8190955e-05, 1.8281407e-05, 1.8371858e-05, 1.8462311e-05, 1.8552764e-05, 1.8643215e-05, 1.8733668e-05, 1.8824121e-05, 1.8914572e-05, 1.9005025e-05, 1.9095478e-05, 1.9185929e-05, 1.9276382e-05, 1.9366835e-05, 1.9457286e-05, 1.9547739e-05, 1.9638192e-05, 1.9728643e-05, 1.9819096e-05, 1.9909548e-05, 2e-05, 1.9899599e-05, 1.9799196e-05, 1.9698795e-05, 1.9598392e-05, 1.949799e-05, 1.9397588e-05, 1.9297186e-05, 1.9196785e-05, 1.9096382e-05, 1.899598e-05, 1.8895578e-05, 1.8795175e-05, 1.8694775e-05, 1.8594372e-05, 1.8493969e-05, 1.8393568e-05, 1.8293165e-05, 1.8192764e-05, 1.8092362e-05, 1.799196e-05, 1.7891558e-05, 1.7791155e-05, 1.7690754e-05, 1.7590351e-05, 1.748995e-05, 1.7389548e-05, 1.7289145e-05, 1.7188744e-05, 1.7088341e-05, 1.698794e-05, 1.6887538e-05, 1.6787135e-05, 1.6686734e-05, 1.6586331e-05, 1.648593e-05, 1.6385527e-05, 1.6285125e-05, 1.6184724e-05, 1.6084321e-05, 1.598392e-05, 1.5883517e-05, 1.5783116e-05, 1.5682714e-05, 1.558231e-05, 1.548191e-05, 1.5381507e-05, 1.5281106e-05, 1.51807035e-05, 1.5080302e-05, 1.49799e-05, 1.4879498e-05, 1.4779095e-05, 1.4678693e-05, 1.45782915e-05, 1.447789e-05, 1.4377488e-05, 1.4277085e-05, 1.4176683e-05, 1.4076281e-05, 1.39758795e-05, 1.3875478e-05, 1.3775076e-05, 1.3674673e-05, 1.3574271e-05, 1.3473869e-05, 1.33734675e-05, 1.3273066e-05, 1.3172663e-05, 1.3072261e-05, 1.2971859e-05, 1.2871457e-05, 1.27710555e-05, 1.2670654e-05, 1.2570251e-05, 1.2469849e-05, 1.2369447e-05, 1.2269045e-05, 1.21686435e-05, 1.2068242e-05, 1.1967839e-05, 1.1867437e-05, 1.1767035e-05, 1.1666633e-05, 1.15662315e-05, 1.1465829e-05, 1.1365427e-05, 1.1265025e-05, 1.1164623e-05, 1.1064221e-05, 1.09638195e-05, 1.0863417e-05, 1.0763015e-05, 1.0662613e-05, 1.0562211e-05, 1.0461809e-05, 1.03614075e-05, 1.0261005e-05, 1.0160603e-05, 1.0060201e-05, 9.959799e-06, 9.859397e-06, 9.758995e-06, 9.658593e-06, 9.558191e-06, 9.457789e-06, 9.357387e-06, 9.256985e-06, 9.156583e-06, 9.056181e-06, 8.955779e-06, 8.855377e-06, 8.754975e-06, 8.654572e-06, 8.554171e-06, 8.453769e-06, 8.353367e-06, 8.252965e-06, 8.152563e-06, 8.05216e-06, 7.951759e-06, 7.851357e-06, 7.750955e-06, 7.650553e-06, 7.5501507e-06, 7.449749e-06, 7.3493466e-06, 7.2489447e-06, 7.148543e-06, 7.0481406e-06, 6.9477387e-06, 6.847337e-06, 6.7469346e-06, 6.6465327e-06, 6.546131e-06, 6.4457286e-06, 6.3453267e-06, 6.2449244e-06, 6.1445226e-06, 6.0441207e-06, 5.9437184e-06, 5.8433166e-06, 5.7429147e-06, 5.6425124e-06, 5.5421106e-06, 5.4417087e-06, 5.3413064e-06, 5.2409046e-06, 5.1405027e-06, 5.0401004e-06, 4.9396986e-06, 4.8392967e-06, 4.7388944e-06, 4.6384926e-06, 4.5380903e-06, 4.4376884e-06, 4.3372866e-06, 4.2368843e-06, 4.1364824e-06, 4.0360806e-06, 3.9356783e-06, 3.8352764e-06, 3.7348743e-06, 3.6344723e-06, 3.5340704e-06, 3.4336683e-06, 3.3332662e-06, 3.2328644e-06, 3.1324623e-06, 3.0320602e-06, 2.9316584e-06, 2.8312563e-06, 2.7308542e-06, 2.6304522e-06, 2.5300503e-06, 2.4296482e-06, 2.3292462e-06, 2.2288443e-06, 2.1284422e-06, 2.0280402e-06, 1.927638e-06, 1.8272361e-06, 1.7268342e-06, 1.6264322e-06, 1.5260301e-06, 1.4256282e-06, 1.3252261e-06, 1.2248241e-06, 1.124422e-06, 1.0240201e-06, 9.236181e-07, 8.2321606e-07, 7.228141e-07, 6.224121e-07, 5.2201005e-07, 4.2160804e-07, 3.2120602e-07, 2.2080403e-07, 1.20402e-07, 2e-06, 2.0904522e-06, 2.1809046e-06, 2.2713568e-06, 2.361809e-06, 2.4522612e-06, 2.5427137e-06, 2.6331659e-06, 2.723618e-06, 2.8140703e-06, 2.9045227e-06, 2.994975e-06, 3.0854271e-06, 3.1758793e-06, 3.2663318e-06, 3.356784e-06, 3.4472362e-06, 3.5376884e-06, 3.6281408e-06, 3.718593e-06, 3.8090452e-06, 3.8994976e-06, 3.9899496e-06, 4.080402e-06, 4.1708545e-06, 4.2613065e-06, 4.351759e-06, 4.442211e-06, 4.5326633e-06, 4.6231157e-06, 4.7135677e-06, 4.80402e-06, 4.8944726e-06, 4.9849245e-06, 5.075377e-06, 5.165829e-06, 5.2562814e-06, 5.346734e-06, 5.437186e-06, 5.527638e-06, 5.6180907e-06, 5.7085426e-06, 5.798995e-06, 5.889447e-06, 5.9798995e-06, 6.070352e-06, 6.160804e-06, 6.2512563e-06, 6.3417087e-06, 6.4321607e-06, 6.522613e-06, 6.613065e-06, 6.7035176e-06, 6.79397e-06, 6.884422e-06, 6.9748744e-06, 7.065327e-06, 7.155779e-06, 7.2462312e-06, 7.336683e-06, 7.4271356e-06, 7.517588e-06, 7.60804e-06, 7.6984925e-06, 7.7889445e-06, 7.879397e-06, 7.969849e-06, 8.060301e-06, 8.150754e-06, 8.241206e-06, 8.331658e-06, 8.42211e-06, 8.512563e-06, 8.603015e-06, 8.693467e-06, 8.78392e-06, 8.874372e-06, 8.964824e-06, 9.055277e-06, 9.145729e-06, 9.236181e-06, 9.3266335e-06, 9.4170855e-06, 9.5075375e-06, 9.59799e-06, 9.688442e-06, 9.778894e-06, 9.869346e-06, 9.959799e-06, 1.0050251e-05, 1.0140703e-05, 1.0231156e-05, 1.0321608e-05, 1.041206e-05, 1.0502513e-05, 1.0592965e-05, 1.0683417e-05, 1.077387e-05, 1.0864322e-05, 1.0954774e-05, 1.10452265e-05, 1.11356785e-05, 1.12261305e-05, 1.1316583e-05, 1.1407035e-05, 1.1497487e-05, 1.1587939e-05, 1.1678392e-05, 1.1768844e-05, 1.1859296e-05, 1.1949749e-05, 1.2040201e-05, 1.2130653e-05, 1.2221106e-05, 1.2311558e-05, 1.240201e-05, 1.2492463e-05, 1.2582915e-05, 1.2673367e-05, 1.27638195e-05, 1.28542715e-05, 1.29447235e-05, 1.30351755e-05, 1.3125628e-05, 1.321608e-05, 1.3306532e-05, 1.3396985e-05, 1.3487437e-05, 1.3577889e-05, 1.3668342e-05, 1.3758794e-05, 1.3849246e-05, 1.3939699e-05, 1.4030151e-05, 1.4120603e-05, 1.4211056e-05, 1.4301508e-05, 1.439196e-05, 1.4482412e-05, 1.45728645e-05, 1.46633165e-05, 1.47537685e-05, 1.4844221e-05, 1.4934673e-05, 1.5025125e-05, 1.5115578e-05, 1.520603e-05, 1.5296482e-05, 1.5386935e-05, 1.5477386e-05, 1.5567839e-05, 1.5658292e-05, 1.5748743e-05, 1.5839196e-05, 1.5929649e-05, 1.60201e-05, 1.6110553e-05, 1.6201006e-05, 1.6291457e-05, 1.638191e-05, 1.6472362e-05, 1.6562813e-05, 1.6653266e-05, 1.674372e-05, 1.683417e-05, 1.6924623e-05, 1.7015076e-05, 1.7105527e-05, 1.719598e-05, 1.7286433e-05, 1.7376884e-05, 1.7467337e-05, 1.755779e-05, 1.764824e-05, 1.7738694e-05, 1.7829147e-05, 1.7919598e-05, 1.801005e-05, 1.8100502e-05, 1.8190955e-05, 1.8281407e-05, 1.8371858e-05, 1.8462311e-05, 1.8552764e-05, 1.8643215e-05, 1.8733668e-05, 1.8824121e-05, 1.8914572e-05, 1.9005025e-05, 1.9095478e-05, 1.9185929e-05, 1.9276382e-05, 1.9366835e-05, 1.9457286e-05, 1.9547739e-05, 1.9638192e-05, 1.9728643e-05, 1.9819096e-05, 1.9909548e-05, 2e-05, 1.9899599e-05, 1.9799196e-05, 1.9698795e-05, 1.9598392e-05, 1.949799e-05, 1.9397588e-05, 1.9297186e-05, 1.9196785e-05, 1.9096382e-05, 1.899598e-05, 1.8895578e-05, 1.8795175e-05, 1.8694775e-05, 1.8594372e-05, 1.8493969e-05, 1.8393568e-05, 1.8293165e-05, 1.8192764e-05, 1.8092362e-05, 1.799196e-05, 1.7891558e-05, 1.7791155e-05, 1.7690754e-05, 1.7590351e-05, 1.748995e-05, 1.7389548e-05, 1.7289145e-05, 1.7188744e-05, 1.7088341e-05, 1.698794e-05, 1.6887538e-05, 1.6787135e-05, 1.6686734e-05, 1.6586331e-05, 1.648593e-05, 1.6385527e-05, 1.6285125e-05, 1.6184724e-05, 1.6084321e-05, 1.598392e-05, 1.5883517e-05, 1.5783116e-05, 1.5682714e-05, 1.558231e-05, 1.548191e-05, 1.5381507e-05, 1.5281106e-05, 1.51807035e-05, 1.5080302e-05, 1.49799e-05, 1.4879498e-05, 1.4779095e-05, 1.4678693e-05, 1.45782915e-05, 1.447789e-05, 1.4377488e-05, 1.4277085e-05, 1.4176683e-05, 1.4076281e-05, 1.39758795e-05, 1.3875478e-05, 1.3775076e-05, 1.3674673e-05, 1.3574271e-05, 1.3473869e-05, 1.33734675e-05, 1.3273066e-05, 1.3172663e-05, 1.3072261e-05, 1.2971859e-05, 1.2871457e-05, 1.27710555e-05, 1.2670654e-05, 1.2570251e-05, 1.2469849e-05, 1.2369447e-05, 1.2269045e-05, 1.21686435e-05, 1.2068242e-05, 1.1967839e-05, 1.1867437e-05, 1.1767035e-05, 1.1666633e-05, 1.15662315e-05, 1.1465829e-05, 1.1365427e-05, 1.1265025e-05, 1.1164623e-05, 1.1064221e-05, 1.09638195e-05, 1.0863417e-05, 1.0763015e-05, 1.0662613e-05, 1.0562211e-05, 1.0461809e-05, 1.03614075e-05, 1.0261005e-05, 1.0160603e-05, 1.0060201e-05, 9.959799e-06, 9.859397e-06, 9.758995e-06, 9.658593e-06, 9.558191e-06, 9.457789e-06, 9.357387e-06, 9.256985e-06, 9.156583e-06, 9.056181e-06, 8.955779e-06, 8.855377e-06, 8.754975e-06, 8.654572e-06, 8.554171e-06, 8.453769e-06, 8.353367e-06, 8.252965e-06, 8.152563e-06, 8.05216e-06, 7.951759e-06, 7.851357e-06, 7.750955e-06, 7.650553e-06, 7.5501507e-06, 7.449749e-06, 7.3493466e-06, 7.2489447e-06, 7.148543e-06, 7.0481406e-06, 6.9477387e-06, 6.847337e-06, 6.7469346e-06, 6.6465327e-06, 6.546131e-06, 6.4457286e-06, 6.3453267e-06, 6.2449244e-06, 6.1445226e-06, 6.0441207e-06, 5.9437184e-06, 5.8433166e-06, 5.7429147e-06, 5.6425124e-06, 5.5421106e-06, 5.4417087e-06, 5.3413064e-06, 5.2409046e-06, 5.1405027e-06, 5.0401004e-06, 4.9396986e-06, 4.8392967e-06, 4.7388944e-06, 4.6384926e-06, 4.5380903e-06, 4.4376884e-06, 4.3372866e-06, 4.2368843e-06, 4.1364824e-06, 4.0360806e-06, 3.9356783e-06, 3.8352764e-06, 3.7348743e-06, 3.6344723e-06, 3.5340704e-06, 3.4336683e-06, 3.3332662e-06, 3.2328644e-06, 3.1324623e-06, 3.0320602e-06, 2.9316584e-06, 2.8312563e-06, 2.7308542e-06, 2.6304522e-06, 2.5300503e-06, 2.4296482e-06, 2.3292462e-06, 2.2288443e-06, 2.1284422e-06, 2.0280402e-06, 1.927638e-06, 1.8272361e-06, 1.7268342e-06, 1.6264322e-06, 1.5260301e-06, 1.4256282e-06, 1.3252261e-06, 1.2248241e-06, 1.124422e-06, 1.0240201e-06, 9.236181e-07, 8.2321606e-07, 7.228141e-07, 6.224121e-07, 5.2201005e-07, 4.2160804e-07, 3.2120602e-07, 2.2080403e-07, 1.20402e-07, 2e-06, 2.0904522e-06, 2.1809046e-06, 2.2713568e-06, 2.361809e-06, 2.4522612e-06, 2.5427137e-06, 2.6331659e-06, 2.723618e-06, 2.8140703e-06, 2.9045227e-06, 2.994975e-06, 3.0854271e-06, 3.1758793e-06, 3.2663318e-06, 3.356784e-06, 3.4472362e-06, 3.5376884e-06, 3.6281408e-06, 3.718593e-06, 3.8090452e-06, 3.8994976e-06, 3.9899496e-06, 4.080402e-06, 4.1708545e-06, 4.2613065e-06, 4.351759e-06, 4.442211e-06, 4.5326633e-06, 4.6231157e-06, 4.7135677e-06, 4.80402e-06, 4.8944726e-06, 4.9849245e-06, 5.075377e-06, 5.165829e-06, 5.2562814e-06, 5.346734e-06, 5.437186e-06, 5.527638e-06, 5.6180907e-06, 5.7085426e-06, 5.798995e-06, 5.889447e-06, 5.9798995e-06, 6.070352e-06, 6.160804e-06, 6.2512563e-06, 6.3417087e-06, 6.4321607e-06, 6.522613e-06, 6.613065e-06, 6.7035176e-06, 6.79397e-06, 6.884422e-06, 6.9748744e-06, 7.065327e-06, 7.155779e-06, 7.2462312e-06, 7.336683e-06, 7.4271356e-06, 7.517588e-06, 7.60804e-06, 7.6984925e-06, 7.7889445e-06, 7.879397e-06, 7.969849e-06, 8.060301e-06, 8.150754e-06, 8.241206e-06, 8.331658e-06, 8.42211e-06, 8.512563e-06, 8.603015e-06, 8.693467e-06, 8.78392e-06, 8.874372e-06, 8.964824e-06, 9.055277e-06, 9.145729e-06, 9.236181e-06, 9.3266335e-06, 9.4170855e-06, 9.5075375e-06, 9.59799e-06, 9.688442e-06, 9.778894e-06, 9.869346e-06, 9.959799e-06, 1.0050251e-05, 1.0140703e-05, 1.0231156e-05, 1.0321608e-05, 1.041206e-05, 1.0502513e-05, 1.0592965e-05, 1.0683417e-05, 1.077387e-05, 1.0864322e-05, 1.0954774e-05, 1.10452265e-05, 1.11356785e-05, 1.12261305e-05, 1.1316583e-05, 1.1407035e-05, 1.1497487e-05, 1.1587939e-05, 1.1678392e-05, 1.1768844e-05, 1.1859296e-05, 1.1949749e-05, 1.2040201e-05, 1.2130653e-05, 1.2221106e-05, 1.2311558e-05, 1.240201e-05, 1.2492463e-05, 1.2582915e-05, 1.2673367e-05, 1.27638195e-05, 1.28542715e-05, 1.29447235e-05, 1.30351755e-05, 1.3125628e-05, 1.321608e-05, 1.3306532e-05, 1.3396985e-05, 1.3487437e-05, 1.3577889e-05, 1.3668342e-05, 1.3758794e-05, 1.3849246e-05, 1.3939699e-05, 1.4030151e-05, 1.4120603e-05, 1.4211056e-05, 1.4301508e-05, 1.439196e-05, 1.4482412e-05, 1.45728645e-05, 1.46633165e-05, 1.47537685e-05, 1.4844221e-05, 1.4934673e-05, 1.5025125e-05, 1.5115578e-05, 1.520603e-05, 1.5296482e-05, 1.5386935e-05, 1.5477386e-05, 1.5567839e-05, 1.5658292e-05, 1.5748743e-05, 1.5839196e-05, 1.5929649e-05, 1.60201e-05, 1.6110553e-05, 1.6201006e-05, 1.6291457e-05, 1.638191e-05, 1.6472362e-05, 1.6562813e-05, 1.6653266e-05, 1.674372e-05, 1.683417e-05, 1.6924623e-05, 1.7015076e-05, 1.7105527e-05, 1.719598e-05, 1.7286433e-05, 1.7376884e-05, 1.7467337e-05, 1.755779e-05, 1.764824e-05, 1.7738694e-05, 1.7829147e-05, 1.7919598e-05, 1.801005e-05, 1.8100502e-05, 1.8190955e-05, 1.8281407e-05, 1.8371858e-05, 1.8462311e-05, 1.8552764e-05, 1.8643215e-05, 1.8733668e-05, 1.8824121e-05, 1.8914572e-05, 1.9005025e-05, 1.9095478e-05, 1.9185929e-05, 1.9276382e-05, 1.9366835e-05, 1.9457286e-05, 1.9547739e-05, 1.9638192e-05, 1.9728643e-05, 1.9819096e-05, 1.9909548e-05, 2e-05, 1.9899599e-05, 1.9799196e-05, 1.9698795e-05, 1.9598392e-05, 1.949799e-05, 1.9397588e-05, 1.9297186e-05, 1.9196785e-05, 1.9096382e-05, 1.899598e-05, 1.8895578e-05, 1.8795175e-05, 1.8694775e-05, 1.8594372e-05, 1.8493969e-05, 1.8393568e-05, 1.8293165e-05, 1.8192764e-05, 1.8092362e-05, 1.799196e-05, 1.7891558e-05, 1.7791155e-05, 1.7690754e-05, 1.7590351e-05, 1.748995e-05, 1.7389548e-05, 1.7289145e-05, 1.7188744e-05, 1.7088341e-05, 1.698794e-05, 1.6887538e-05, 1.6787135e-05, 1.6686734e-05, 1.6586331e-05, 1.648593e-05, 1.6385527e-05, 1.6285125e-05, 1.6184724e-05, 1.6084321e-05, 1.598392e-05, 1.5883517e-05, 1.5783116e-05, 1.5682714e-05, 1.558231e-05, 1.548191e-05, 1.5381507e-05, 1.5281106e-05, 1.51807035e-05, 1.5080302e-05, 1.49799e-05, 1.4879498e-05, 1.4779095e-05, 1.4678693e-05, 1.45782915e-05, 1.447789e-05, 1.4377488e-05, 1.4277085e-05, 1.4176683e-05, 1.4076281e-05, 1.39758795e-05, 1.3875478e-05, 1.3775076e-05, 1.3674673e-05, 1.3574271e-05, 1.3473869e-05, 1.33734675e-05, 1.3273066e-05, 1.3172663e-05, 1.3072261e-05, 1.2971859e-05, 1.2871457e-05, 1.27710555e-05, 1.2670654e-05, 1.2570251e-05, 1.2469849e-05, 1.2369447e-05, 1.2269045e-05, 1.21686435e-05, 1.2068242e-05, 1.1967839e-05, 1.1867437e-05, 1.1767035e-05, 1.1666633e-05, 1.15662315e-05, 1.1465829e-05, 1.1365427e-05, 1.1265025e-05, 1.1164623e-05, 1.1064221e-05, 1.09638195e-05, 1.0863417e-05, 1.0763015e-05, 1.0662613e-05, 1.0562211e-05, 1.0461809e-05, 1.03614075e-05, 1.0261005e-05, 1.0160603e-05, 1.0060201e-05, 9.959799e-06, 9.859397e-06, 9.758995e-06, 9.658593e-06, 9.558191e-06, 9.457789e-06, 9.357387e-06, 9.256985e-06, 9.156583e-06, 9.056181e-06, 8.955779e-06, 8.855377e-06, 8.754975e-06, 8.654572e-06, 8.554171e-06, 8.453769e-06, 8.353367e-06, 8.252965e-06, 8.152563e-06, 8.05216e-06, 7.951759e-06, 7.851357e-06, 7.750955e-06, 7.650553e-06, 7.5501507e-06, 7.449749e-06, 7.3493466e-06, 7.2489447e-06, 7.148543e-06, 7.0481406e-06, 6.9477387e-06, 6.847337e-06, 6.7469346e-06, 6.6465327e-06, 6.546131e-06, 6.4457286e-06, 6.3453267e-06, 6.2449244e-06, 6.1445226e-06, 6.0441207e-06, 5.9437184e-06, 5.8433166e-06, 5.7429147e-06, 5.6425124e-06, 5.5421106e-06, 5.4417087e-06, 5.3413064e-06, 5.2409046e-06, 5.1405027e-06, 5.0401004e-06, 4.9396986e-06, 4.8392967e-06, 4.7388944e-06, 4.6384926e-06, 4.5380903e-06, 4.4376884e-06, 4.3372866e-06, 4.2368843e-06, 4.1364824e-06, 4.0360806e-06, 3.9356783e-06, 3.8352764e-06, 3.7348743e-06, 3.6344723e-06, 3.5340704e-06, 3.4336683e-06, 3.3332662e-06, 3.2328644e-06, 3.1324623e-06, 3.0320602e-06, 2.9316584e-06, 2.8312563e-06, 2.7308542e-06, 2.6304522e-06, 2.5300503e-06, 2.4296482e-06, 2.3292462e-06, 2.2288443e-06, 2.1284422e-06, 2.0280402e-06, 1.927638e-06, 1.8272361e-06, 1.7268342e-06, 1.6264322e-06, 1.5260301e-06, 1.4256282e-06, 1.3252261e-06, 1.2248241e-06, 1.124422e-06, 1.0240201e-06, 9.236181e-07, 8.2321606e-07, 7.228141e-07, 6.224121e-07]), ('iterations', [1.0, 2.0, 3.0, 4.0, 5.0, 6.0, 7.0, 8.0, 9.0, 10.0, 11.0, 12.0, 13.0, 14.0, 15.0, 16.0, 17.0, 18.0, 19.0, 20.0, 21.0, 22.0, 23.0, 24.0, 25.0, 26.0, 27.0, 28.0, 29.0, 30.0, 31.0, 32.0, 33.0, 34.0, 35.0, 36.0, 37.0, 38.0, 39.0, 40.0, 41.0, 42.0, 43.0, 44.0, 45.0, 46.0, 47.0, 48.0, 49.0, 50.0, 51.0, 52.0, 53.0, 54.0, 55.0, 56.0, 57.0, 58.0, 59.0, 60.0, 61.0, 62.0, 63.0, 64.0, 65.0, 66.0, 67.0, 68.0, 69.0, 70.0, 71.0, 72.0, 73.0, 74.0, 75.0, 76.0, 77.0, 78.0, 79.0, 80.0, 81.0, 82.0, 83.0, 84.0, 85.0, 86.0, 87.0, 88.0, 89.0, 90.0, 91.0, 92.0, 93.0, 94.0, 95.0, 96.0, 97.0, 98.0, 99.0, 100.0, 101.0, 102.0, 103.0, 104.0, 105.0, 106.0, 107.0, 108.0, 109.0, 110.0, 111.0, 112.0, 113.0, 114.0, 115.0, 116.0, 117.0, 118.0, 119.0, 120.0, 121.0, 122.0, 123.0, 124.0, 125.0, 126.0, 127.0, 128.0, 129.0, 130.0, 131.0, 132.0, 133.0, 134.0, 135.0, 136.0, 137.0, 138.0, 139.0, 140.0, 141.0, 142.0, 143.0, 144.0, 145.0, 146.0, 147.0, 148.0, 149.0, 150.0, 151.0, 152.0, 153.0, 154.0, 155.0, 156.0, 157.0, 158.0, 159.0, 160.0, 161.0, 162.0, 163.0, 164.0, 165.0, 166.0, 167.0, 168.0, 169.0, 170.0, 171.0, 172.0, 173.0, 174.0, 175.0, 176.0, 177.0, 178.0, 179.0, 180.0, 181.0, 182.0, 183.0, 184.0, 185.0, 186.0, 187.0, 188.0, 189.0, 190.0, 191.0, 192.0, 193.0, 194.0, 195.0, 196.0, 197.0, 198.0, 199.0, 200.0, 201.0, 202.0, 203.0, 204.0, 205.0, 206.0, 207.0, 208.0, 209.0, 210.0, 211.0, 212.0, 213.0, 214.0, 215.0, 216.0, 217.0, 218.0, 219.0, 220.0, 221.0, 222.0, 223.0, 224.0, 225.0, 226.0, 227.0, 228.0, 229.0, 230.0, 231.0, 232.0, 233.0, 234.0, 235.0, 236.0, 237.0, 238.0, 239.0, 240.0, 241.0, 242.0, 243.0, 244.0, 245.0, 246.0, 247.0, 248.0, 249.0, 250.0, 251.0, 252.0, 253.0, 254.0, 255.0, 256.0, 257.0, 258.0, 259.0, 260.0, 261.0, 262.0, 263.0, 264.0, 265.0, 266.0, 267.0, 268.0, 269.0, 270.0, 271.0, 272.0, 273.0, 274.0, 275.0, 276.0, 277.0, 278.0, 279.0, 280.0, 281.0, 282.0, 283.0, 284.0, 285.0, 286.0, 287.0, 288.0, 289.0, 290.0, 291.0, 292.0, 293.0, 294.0, 295.0, 296.0, 297.0, 298.0, 299.0, 300.0, 301.0, 302.0, 303.0, 304.0, 305.0, 306.0, 307.0, 308.0, 309.0, 310.0, 311.0, 312.0, 313.0, 314.0, 315.0, 316.0, 317.0, 318.0, 319.0, 320.0, 321.0, 322.0, 323.0, 324.0, 325.0, 326.0, 327.0, 328.0, 329.0, 330.0, 331.0, 332.0, 333.0, 334.0, 335.0, 336.0, 337.0, 338.0, 339.0, 340.0, 341.0, 342.0, 343.0, 344.0, 345.0, 346.0, 347.0, 348.0, 349.0, 350.0, 351.0, 352.0, 353.0, 354.0, 355.0, 356.0, 357.0, 358.0, 359.0, 360.0, 361.0, 362.0, 363.0, 364.0, 365.0, 366.0, 367.0, 368.0, 369.0, 370.0, 371.0, 372.0, 373.0, 374.0, 375.0, 376.0, 377.0, 378.0, 379.0, 380.0, 381.0, 382.0, 383.0, 384.0, 385.0, 386.0, 387.0, 388.0, 389.0, 390.0, 391.0, 392.0, 393.0, 394.0, 395.0, 396.0, 397.0, 398.0, 399.0, 400.0, 401.0, 402.0, 403.0, 404.0, 405.0, 406.0, 407.0, 408.0, 409.0, 410.0, 411.0, 412.0, 413.0, 414.0, 415.0, 416.0, 417.0, 418.0, 419.0, 420.0, 421.0, 422.0, 423.0, 424.0, 425.0, 426.0, 427.0, 428.0, 429.0, 430.0, 431.0, 432.0, 433.0, 434.0, 435.0, 436.0, 437.0, 438.0, 439.0, 440.0, 441.0, 442.0, 443.0, 444.0, 445.0, 446.0, 447.0, 448.0, 449.0, 450.0, 451.0, 452.0, 453.0, 454.0, 455.0, 456.0, 457.0, 458.0, 459.0, 460.0, 461.0, 462.0, 463.0, 464.0, 465.0, 466.0, 467.0, 468.0, 469.0, 470.0, 471.0, 472.0, 473.0, 474.0, 475.0, 476.0, 477.0, 478.0, 479.0, 480.0, 481.0, 482.0, 483.0, 484.0, 485.0, 486.0, 487.0, 488.0, 489.0, 490.0, 491.0, 492.0, 493.0, 494.0, 495.0, 496.0, 497.0, 498.0, 499.0, 500.0, 501.0, 502.0, 503.0, 504.0, 505.0, 506.0, 507.0, 508.0, 509.0, 510.0, 511.0, 512.0, 513.0, 514.0, 515.0, 516.0, 517.0, 518.0, 519.0, 520.0, 521.0, 522.0, 523.0, 524.0, 525.0, 526.0, 527.0, 528.0, 529.0, 530.0, 531.0, 532.0, 533.0, 534.0, 535.0, 536.0, 537.0, 538.0, 539.0, 540.0, 541.0, 542.0, 543.0, 544.0, 545.0, 546.0, 547.0, 548.0, 549.0, 550.0, 551.0, 552.0, 553.0, 554.0, 555.0, 556.0, 557.0, 558.0, 559.0, 560.0, 561.0, 562.0, 563.0, 564.0, 565.0, 566.0, 567.0, 568.0, 569.0, 570.0, 571.0, 572.0, 573.0, 574.0, 575.0, 576.0, 577.0, 578.0, 579.0, 580.0, 581.0, 582.0, 583.0, 584.0, 585.0, 586.0, 587.0, 588.0, 589.0, 590.0, 591.0, 592.0, 593.0, 594.0, 595.0, 596.0, 597.0, 598.0, 599.0, 600.0, 601.0, 602.0, 603.0, 604.0, 605.0, 606.0, 607.0, 608.0, 609.0, 610.0, 611.0, 612.0, 613.0, 614.0, 615.0, 616.0, 617.0, 618.0, 619.0, 620.0, 621.0, 622.0, 623.0, 624.0, 625.0, 626.0, 627.0, 628.0, 629.0, 630.0, 631.0, 632.0, 633.0, 634.0, 635.0, 636.0, 637.0, 638.0, 639.0, 640.0, 641.0, 642.0, 643.0, 644.0, 645.0, 646.0, 647.0, 648.0, 649.0, 650.0, 651.0, 652.0, 653.0, 654.0, 655.0, 656.0, 657.0, 658.0, 659.0, 660.0, 661.0, 662.0, 663.0, 664.0, 665.0, 666.0, 667.0, 668.0, 669.0, 670.0, 671.0, 672.0, 673.0, 674.0, 675.0, 676.0, 677.0, 678.0, 679.0, 680.0, 681.0, 682.0, 683.0, 684.0, 685.0, 686.0, 687.0, 688.0, 689.0, 690.0, 691.0, 692.0, 693.0, 694.0, 695.0, 696.0, 697.0, 698.0, 699.0, 700.0, 701.0, 702.0, 703.0, 704.0, 705.0, 706.0, 707.0, 708.0, 709.0, 710.0, 711.0, 712.0, 713.0, 714.0, 715.0, 716.0, 717.0, 718.0, 719.0, 720.0, 721.0, 722.0, 723.0, 724.0, 725.0, 726.0, 727.0, 728.0, 729.0, 730.0, 731.0, 732.0, 733.0, 734.0, 735.0, 736.0, 737.0, 738.0, 739.0, 740.0, 741.0, 742.0, 743.0, 744.0, 745.0, 746.0, 747.0, 748.0, 749.0, 750.0, 751.0, 752.0, 753.0, 754.0, 755.0, 756.0, 757.0, 758.0, 759.0, 760.0, 761.0, 762.0, 763.0, 764.0, 765.0, 766.0, 767.0, 768.0, 769.0, 770.0, 771.0, 772.0, 773.0, 774.0, 775.0, 776.0, 777.0, 778.0, 779.0, 780.0, 781.0, 782.0, 783.0, 784.0, 785.0, 786.0, 787.0, 788.0, 789.0, 790.0, 791.0, 792.0, 793.0, 794.0, 795.0, 796.0, 797.0, 798.0, 799.0, 800.0, 801.0, 802.0, 803.0, 804.0, 805.0, 806.0, 807.0, 808.0, 809.0, 810.0, 811.0, 812.0, 813.0, 814.0, 815.0, 816.0, 817.0, 818.0, 819.0, 820.0, 821.0, 822.0, 823.0, 824.0, 825.0, 826.0, 827.0, 828.0, 829.0, 830.0, 831.0, 832.0, 833.0, 834.0, 835.0, 836.0, 837.0, 838.0, 839.0, 840.0, 841.0, 842.0, 843.0, 844.0, 845.0, 846.0, 847.0, 848.0, 849.0, 850.0, 851.0, 852.0, 853.0, 854.0, 855.0, 856.0, 857.0, 858.0, 859.0, 860.0, 861.0, 862.0, 863.0, 864.0, 865.0, 866.0, 867.0, 868.0, 869.0, 870.0, 871.0, 872.0, 873.0, 874.0, 875.0, 876.0, 877.0, 878.0, 879.0, 880.0, 881.0, 882.0, 883.0, 884.0, 885.0, 886.0, 887.0, 888.0, 889.0, 890.0, 891.0, 892.0, 893.0, 894.0, 895.0, 896.0, 897.0, 898.0, 899.0, 900.0, 901.0, 902.0, 903.0, 904.0, 905.0, 906.0, 907.0, 908.0, 909.0, 910.0, 911.0, 912.0, 913.0, 914.0, 915.0, 916.0, 917.0, 918.0, 919.0, 920.0, 921.0, 922.0, 923.0, 924.0, 925.0, 926.0, 927.0, 928.0, 929.0, 930.0, 931.0, 932.0, 933.0, 934.0, 935.0, 936.0, 937.0, 938.0, 939.0, 940.0, 941.0, 942.0, 943.0, 944.0, 945.0, 946.0, 947.0, 948.0, 949.0, 950.0, 951.0, 952.0, 953.0, 954.0, 955.0, 956.0, 957.0, 958.0, 959.0, 960.0, 961.0, 962.0, 963.0, 964.0, 965.0, 966.0, 967.0, 968.0, 969.0, 970.0, 971.0, 972.0, 973.0, 974.0, 975.0, 976.0, 977.0, 978.0, 979.0, 980.0, 981.0, 982.0, 983.0, 984.0, 985.0, 986.0, 987.0, 988.0, 989.0, 990.0, 991.0, 992.0, 993.0, 994.0, 995.0, 996.0, 997.0, 998.0, 999.0, 1000.0, 1001.0, 1002.0, 1003.0, 1004.0, 1005.0, 1006.0, 1007.0, 1008.0, 1009.0, 1010.0, 1011.0, 1012.0, 1013.0, 1014.0, 1015.0, 1016.0, 1017.0, 1018.0, 1019.0, 1020.0, 1021.0, 1022.0, 1023.0, 1024.0, 1025.0, 1026.0, 1027.0, 1028.0, 1029.0, 1030.0, 1031.0, 1032.0, 1033.0, 1034.0, 1035.0, 1036.0, 1037.0, 1038.0, 1039.0, 1040.0, 1041.0, 1042.0, 1043.0, 1044.0, 1045.0, 1046.0, 1047.0, 1048.0, 1049.0, 1050.0, 1051.0, 1052.0, 1053.0, 1054.0, 1055.0, 1056.0, 1057.0, 1058.0, 1059.0, 1060.0, 1061.0, 1062.0, 1063.0, 1064.0, 1065.0, 1066.0, 1067.0, 1068.0, 1069.0, 1070.0, 1071.0, 1072.0, 1073.0, 1074.0, 1075.0, 1076.0, 1077.0, 1078.0, 1079.0, 1080.0, 1081.0, 1082.0, 1083.0, 1084.0, 1085.0, 1086.0, 1087.0, 1088.0, 1089.0, 1090.0, 1091.0, 1092.0, 1093.0, 1094.0, 1095.0, 1096.0, 1097.0, 1098.0, 1099.0, 1100.0, 1101.0, 1102.0, 1103.0, 1104.0, 1105.0, 1106.0, 1107.0, 1108.0, 1109.0, 1110.0, 1111.0, 1112.0, 1113.0, 1114.0, 1115.0, 1116.0, 1117.0, 1118.0, 1119.0, 1120.0, 1121.0, 1122.0, 1123.0, 1124.0, 1125.0, 1126.0, 1127.0, 1128.0, 1129.0, 1130.0, 1131.0, 1132.0, 1133.0, 1134.0, 1135.0, 1136.0, 1137.0, 1138.0, 1139.0, 1140.0, 1141.0, 1142.0, 1143.0, 1144.0, 1145.0, 1146.0, 1147.0, 1148.0, 1149.0, 1150.0, 1151.0, 1152.0, 1153.0, 1154.0, 1155.0, 1156.0, 1157.0, 1158.0, 1159.0, 1160.0, 1161.0, 1162.0, 1163.0, 1164.0, 1165.0, 1166.0, 1167.0, 1168.0, 1169.0, 1170.0, 1171.0, 1172.0, 1173.0, 1174.0, 1175.0, 1176.0, 1177.0, 1178.0, 1179.0, 1180.0, 1181.0, 1182.0, 1183.0, 1184.0, 1185.0, 1186.0, 1187.0, 1188.0, 1189.0, 1190.0, 1191.0, 1192.0, 1193.0, 1194.0, 1195.0, 1196.0, 1197.0, 1198.0, 1199.0, 1200.0, 1201.0, 1202.0, 1203.0, 1204.0, 1205.0, 1206.0, 1207.0, 1208.0, 1209.0, 1210.0, 1211.0, 1212.0, 1213.0, 1214.0, 1215.0, 1216.0, 1217.0, 1218.0, 1219.0, 1220.0, 1221.0, 1222.0, 1223.0, 1224.0, 1225.0, 1226.0, 1227.0, 1228.0, 1229.0, 1230.0, 1231.0, 1232.0, 1233.0, 1234.0, 1235.0, 1236.0, 1237.0, 1238.0, 1239.0, 1240.0, 1241.0, 1242.0, 1243.0, 1244.0, 1245.0, 1246.0, 1247.0, 1248.0, 1249.0, 1250.0, 1251.0, 1252.0, 1253.0, 1254.0, 1255.0, 1256.0, 1257.0, 1258.0, 1259.0, 1260.0, 1261.0, 1262.0, 1263.0, 1264.0, 1265.0, 1266.0, 1267.0, 1268.0, 1269.0, 1270.0, 1271.0, 1272.0, 1273.0, 1274.0, 1275.0, 1276.0, 1277.0, 1278.0, 1279.0, 1280.0, 1281.0, 1282.0, 1283.0, 1284.0, 1285.0, 1286.0, 1287.0, 1288.0, 1289.0, 1290.0, 1291.0, 1292.0, 1293.0, 1294.0, 1295.0, 1296.0, 1297.0, 1298.0, 1299.0, 1300.0, 1301.0, 1302.0, 1303.0, 1304.0, 1305.0, 1306.0, 1307.0, 1308.0, 1309.0, 1310.0, 1311.0, 1312.0, 1313.0, 1314.0, 1315.0, 1316.0, 1317.0, 1318.0, 1319.0, 1320.0, 1321.0, 1322.0, 1323.0, 1324.0, 1325.0, 1326.0, 1327.0, 1328.0, 1329.0, 1330.0, 1331.0, 1332.0, 1333.0, 1334.0, 1335.0, 1336.0, 1337.0, 1338.0, 1339.0, 1340.0, 1341.0, 1342.0, 1343.0, 1344.0, 1345.0, 1346.0, 1347.0, 1348.0, 1349.0, 1350.0, 1351.0, 1352.0, 1353.0, 1354.0, 1355.0, 1356.0, 1357.0, 1358.0, 1359.0, 1360.0, 1361.0, 1362.0, 1363.0, 1364.0, 1365.0, 1366.0, 1367.0, 1368.0, 1369.0, 1370.0, 1371.0, 1372.0, 1373.0, 1374.0, 1375.0, 1376.0, 1377.0, 1378.0, 1379.0, 1380.0, 1381.0, 1382.0, 1383.0, 1384.0, 1385.0, 1386.0, 1387.0, 1388.0, 1389.0, 1390.0, 1391.0, 1392.0, 1393.0, 1394.0, 1395.0, 1396.0, 1397.0, 1398.0, 1399.0, 1400.0, 1401.0, 1402.0, 1403.0, 1404.0, 1405.0, 1406.0, 1407.0, 1408.0, 1409.0, 1410.0, 1411.0, 1412.0, 1413.0, 1414.0, 1415.0, 1416.0, 1417.0, 1418.0, 1419.0, 1420.0, 1421.0, 1422.0, 1423.0, 1424.0, 1425.0, 1426.0, 1427.0, 1428.0, 1429.0, 1430.0, 1431.0, 1432.0, 1433.0, 1434.0, 1435.0, 1436.0, 1437.0, 1438.0, 1439.0, 1440.0, 1441.0, 1442.0, 1443.0, 1444.0, 1445.0, 1446.0, 1447.0, 1448.0, 1449.0, 1450.0, 1451.0, 1452.0, 1453.0, 1454.0, 1455.0, 1456.0, 1457.0, 1458.0, 1459.0, 1460.0, 1461.0, 1462.0, 1463.0, 1464.0, 1465.0, 1466.0, 1467.0, 1468.0, 1469.0, 1470.0, 1471.0, 1472.0, 1473.0, 1474.0, 1475.0, 1476.0, 1477.0, 1478.0, 1479.0, 1480.0, 1481.0, 1482.0, 1483.0, 1484.0, 1485.0, 1486.0, 1487.0, 1488.0, 1489.0, 1490.0, 1491.0, 1492.0, 1493.0, 1494.0, 1495.0, 1496.0, 1497.0, 1498.0, 1499.0, 1500.0, 1501.0, 1502.0, 1503.0, 1504.0, 1505.0, 1506.0, 1507.0, 1508.0, 1509.0, 1510.0, 1511.0, 1512.0, 1513.0, 1514.0, 1515.0, 1516.0, 1517.0, 1518.0, 1519.0, 1520.0, 1521.0, 1522.0, 1523.0, 1524.0, 1525.0, 1526.0, 1527.0, 1528.0, 1529.0, 1530.0, 1531.0, 1532.0, 1533.0, 1534.0, 1535.0, 1536.0, 1537.0, 1538.0, 1539.0, 1540.0, 1541.0, 1542.0, 1543.0, 1544.0, 1545.0, 1546.0, 1547.0, 1548.0, 1549.0, 1550.0, 1551.0, 1552.0, 1553.0, 1554.0, 1555.0, 1556.0, 1557.0, 1558.0, 1559.0, 1560.0, 1561.0, 1562.0, 1563.0, 1564.0, 1565.0, 1566.0, 1567.0, 1568.0, 1569.0, 1570.0, 1571.0, 1572.0, 1573.0, 1574.0, 1575.0, 1576.0, 1577.0, 1578.0, 1579.0, 1580.0, 1581.0, 1582.0, 1583.0, 1584.0, 1585.0, 1586.0, 1587.0, 1588.0, 1589.0, 1590.0, 1591.0, 1592.0, 1593.0, 1594.0, 1595.0, 1596.0, 1597.0, 1598.0, 1599.0, 1600.0, 1601.0, 1602.0, 1603.0, 1604.0, 1605.0, 1606.0, 1607.0, 1608.0, 1609.0, 1610.0, 1611.0, 1612.0, 1613.0, 1614.0, 1615.0, 1616.0, 1617.0, 1618.0, 1619.0, 1620.0, 1621.0, 1622.0, 1623.0, 1624.0, 1625.0, 1626.0, 1627.0, 1628.0, 1629.0, 1630.0, 1631.0, 1632.0, 1633.0, 1634.0, 1635.0, 1636.0, 1637.0, 1638.0, 1639.0, 1640.0, 1641.0, 1642.0, 1643.0, 1644.0, 1645.0, 1646.0, 1647.0, 1648.0, 1649.0, 1650.0, 1651.0, 1652.0, 1653.0, 1654.0, 1655.0, 1656.0, 1657.0, 1658.0, 1659.0, 1660.0, 1661.0, 1662.0, 1663.0, 1664.0, 1665.0, 1666.0, 1667.0, 1668.0, 1669.0, 1670.0, 1671.0, 1672.0, 1673.0, 1674.0, 1675.0, 1676.0, 1677.0, 1678.0, 1679.0, 1680.0, 1681.0, 1682.0, 1683.0, 1684.0, 1685.0, 1686.0, 1687.0, 1688.0, 1689.0, 1690.0, 1691.0, 1692.0, 1693.0, 1694.0, 1695.0, 1696.0, 1697.0, 1698.0, 1699.0, 1700.0, 1701.0, 1702.0, 1703.0, 1704.0, 1705.0, 1706.0, 1707.0, 1708.0, 1709.0, 1710.0, 1711.0, 1712.0, 1713.0, 1714.0, 1715.0, 1716.0, 1717.0, 1718.0, 1719.0, 1720.0, 1721.0, 1722.0, 1723.0, 1724.0, 1725.0, 1726.0, 1727.0, 1728.0, 1729.0, 1730.0, 1731.0, 1732.0, 1733.0, 1734.0, 1735.0, 1736.0, 1737.0, 1738.0, 1739.0, 1740.0, 1741.0, 1742.0, 1743.0, 1744.0, 1745.0, 1746.0, 1747.0, 1748.0, 1749.0, 1750.0, 1751.0, 1752.0, 1753.0, 1754.0, 1755.0, 1756.0, 1757.0, 1758.0, 1759.0, 1760.0, 1761.0, 1762.0, 1763.0, 1764.0, 1765.0, 1766.0, 1767.0, 1768.0, 1769.0, 1770.0, 1771.0, 1772.0, 1773.0, 1774.0, 1775.0, 1776.0, 1777.0, 1778.0, 1779.0, 1780.0, 1781.0, 1782.0, 1783.0, 1784.0, 1785.0, 1786.0, 1787.0, 1788.0, 1789.0, 1790.0, 1791.0, 1792.0, 1793.0, 1794.0, 1795.0, 1796.0, 1797.0, 1798.0, 1799.0, 1800.0, 1801.0, 1802.0, 1803.0, 1804.0, 1805.0, 1806.0, 1807.0, 1808.0, 1809.0, 1810.0, 1811.0, 1812.0, 1813.0, 1814.0, 1815.0, 1816.0, 1817.0, 1818.0, 1819.0, 1820.0, 1821.0, 1822.0, 1823.0, 1824.0, 1825.0, 1826.0, 1827.0, 1828.0, 1829.0, 1830.0, 1831.0, 1832.0, 1833.0, 1834.0, 1835.0, 1836.0, 1837.0, 1838.0, 1839.0, 1840.0, 1841.0, 1842.0, 1843.0, 1844.0, 1845.0, 1846.0, 1847.0, 1848.0, 1849.0, 1850.0, 1851.0, 1852.0, 1853.0, 1854.0, 1855.0, 1856.0, 1857.0, 1858.0, 1859.0, 1860.0, 1861.0, 1862.0, 1863.0, 1864.0, 1865.0, 1866.0, 1867.0, 1868.0, 1869.0, 1870.0, 1871.0, 1872.0, 1873.0, 1874.0, 1875.0, 1876.0, 1877.0, 1878.0, 1879.0, 1880.0, 1881.0, 1882.0, 1883.0, 1884.0, 1885.0, 1886.0, 1887.0, 1888.0, 1889.0, 1890.0, 1891.0, 1892.0, 1893.0, 1894.0, 1895.0, 1896.0, 1897.0, 1898.0, 1899.0, 1900.0, 1901.0, 1902.0, 1903.0, 1904.0, 1905.0, 1906.0, 1907.0, 1908.0, 1909.0, 1910.0, 1911.0, 1912.0, 1913.0, 1914.0, 1915.0, 1916.0, 1917.0, 1918.0, 1919.0, 1920.0, 1921.0, 1922.0, 1923.0, 1924.0, 1925.0, 1926.0, 1927.0, 1928.0, 1929.0, 1930.0, 1931.0, 1932.0, 1933.0, 1934.0, 1935.0, 1936.0, 1937.0, 1938.0, 1939.0, 1940.0, 1941.0, 1942.0, 1943.0, 1944.0, 1945.0, 1946.0, 1947.0, 1948.0, 1949.0, 1950.0, 1951.0, 1952.0, 1953.0, 1954.0, 1955.0, 1956.0, 1957.0, 1958.0, 1959.0, 1960.0, 1961.0, 1962.0, 1963.0, 1964.0, 1965.0, 1966.0, 1967.0, 1968.0, 1969.0, 1970.0, 1971.0, 1972.0, 1973.0, 1974.0, 1975.0, 1976.0, 1977.0, 1978.0, 1979.0, 1980.0, 1981.0, 1982.0, 1983.0, 1984.0, 1985.0]), ('momentum', [0.948995, 0.94849247, 0.94798994, 0.9474874, 0.94698495, 0.9464824, 0.9459799, 0.94547737, 0.9449749, 0.9444724, 0.94396985, 0.9434673, 0.94296485, 0.9424623, 0.9419598, 0.9414573, 0.94095474, 0.9404523, 0.93994975, 0.9394472, 0.9389447, 0.93844223, 0.9379397, 0.9374372, 0.93693465, 0.9364322, 0.93592966, 0.9354271, 0.9349246, 0.93442214, 0.9339196, 0.9334171, 0.93291456, 0.9324121, 0.93190956, 0.93140703, 0.9309045, 0.930402, 0.9298995, 0.929397, 0.92889446, 0.92839193, 0.92788947, 0.92738694, 0.9268844, 0.9263819, 0.9258794, 0.9253769, 0.92487437, 0.92437184, 0.9238694, 0.92336684, 0.9228643, 0.9223618, 0.9218593, 0.9213568, 0.9208543, 0.92035174, 0.9198492, 0.91934675, 0.9188442, 0.9183417, 0.91783917, 0.9173367, 0.9168342, 0.91633165, 0.9158291, 0.91532665, 0.9148241, 0.9143216, 0.9138191, 0.9133166, 0.9128141, 0.91231155, 0.911809, 0.91130656, 0.91080403, 0.9103015, 0.909799, 0.90929645, 0.908794, 0.90829146, 0.90778893, 0.9072864, 0.90678394, 0.9062814, 0.9057789, 0.90527636, 0.9047739, 0.90427136, 0.90376884, 0.9032663, 0.90276384, 0.9022613, 0.9017588, 0.90125626, 0.9007538, 0.90025127, 0.89974874, 0.8992462, 0.8987437, 0.8982412, 0.8977387, 0.89723617, 0.89673364, 0.8962312, 0.89572865, 0.8952261, 0.8947236, 0.8942211, 0.8937186, 0.8932161, 0.89271355, 0.8922111, 0.89170855, 0.891206, 0.8907035, 0.89020103, 0.8896985, 0.889196, 0.88869345, 0.8881909, 0.88768846, 0.88718593, 0.8866834, 0.8861809, 0.8856784, 0.8851759, 0.88467336, 0.88417083, 0.88366836, 0.88316584, 0.8826633, 0.8821608, 0.8816583, 0.8811558, 0.88065326, 0.88015074, 0.87964827, 0.87914574, 0.8786432, 0.8781407, 0.87763816, 0.8771357, 0.87663317, 0.87613064, 0.8756281, 0.87512565, 0.8746231, 0.8741206, 0.87361807, 0.8731156, 0.8726131, 0.87211055, 0.871608, 0.87110555, 0.870603, 0.8701005, 0.869598, 0.8690955, 0.868593, 0.86809045, 0.8675879, 0.86708546, 0.86658293, 0.8660804, 0.8655779, 0.86507535, 0.8645729, 0.86407036, 0.8635678, 0.8630653, 0.86256284, 0.8620603, 0.8615578, 0.86105525, 0.8605528, 0.86005026, 0.85954773, 0.8590452, 0.85854274, 0.8580402, 0.8575377, 0.85703516, 0.8565327, 0.85603017, 0.85552764, 0.8550251, 0.8545226, 0.8540201, 0.8535176, 0.85301507, 0.85251254, 0.8520101, 0.85150754, 0.851005, 0.8505025, 0.85, 0.8505025, 0.851005, 0.85150754, 0.8520101, 0.85251254, 0.85301507, 0.8535176, 0.8540201, 0.8545226, 0.8550251, 0.85552764, 0.85603017, 0.8565327, 0.85703516, 0.8575377, 0.8580402, 0.85854274, 0.8590452, 0.85954773, 0.86005026, 0.8605528, 0.86105525, 0.8615578, 0.8620603, 0.86256284, 0.8630653, 0.8635678, 0.86407036, 0.8645729, 0.86507535, 0.8655779, 0.8660804, 0.86658293, 0.86708546, 0.8675879, 0.86809045, 0.868593, 0.8690955, 0.869598, 0.8701005, 0.870603, 0.87110555, 0.871608, 0.87211055, 0.8726131, 0.8731156, 0.87361807, 0.8741206, 0.8746231, 0.87512565, 0.8756281, 0.87613064, 0.87663317, 0.8771357, 0.87763816, 0.8781407, 0.8786432, 0.87914574, 0.87964827, 0.88015074, 0.88065326, 0.8811558, 0.8816583, 0.8821608, 0.8826633, 0.88316584, 0.88366836, 0.88417083, 0.88467336, 0.8851759, 0.8856784, 0.8861809, 0.8866834, 0.88718593, 0.88768846, 0.8881909, 0.88869345, 0.889196, 0.8896985, 0.89020103, 0.8907035, 0.891206, 0.89170855, 0.8922111, 0.89271355, 0.8932161, 0.8937186, 0.8942211, 0.8947236, 0.8952261, 0.89572865, 0.8962312, 0.89673364, 0.89723617, 0.8977387, 0.8982412, 0.8987437, 0.8992462, 0.89974874, 0.90025127, 0.9007538, 0.90125626, 0.9017588, 0.9022613, 0.90276384, 0.9032663, 0.90376884, 0.90427136, 0.9047739, 0.90527636, 0.9057789, 0.9062814, 0.90678394, 0.9072864, 0.90778893, 0.90829146, 0.908794, 0.90929645, 0.909799, 0.9103015, 0.91080403, 0.91130656, 0.911809, 0.91231155, 0.9128141, 0.9133166, 0.9138191, 0.9143216, 0.9148241, 0.91532665, 0.9158291, 0.91633165, 0.9168342, 0.9173367, 0.91783917, 0.9183417, 0.9188442, 0.91934675, 0.9198492, 0.92035174, 0.9208543, 0.9213568, 0.9218593, 0.9223618, 0.9228643, 0.92336684, 0.9238694, 0.92437184, 0.92487437, 0.9253769, 0.9258794, 0.9263819, 0.9268844, 0.92738694, 0.92788947, 0.92839193, 0.92889446, 0.929397, 0.9298995, 0.930402, 0.9309045, 0.93140703, 0.93190956, 0.9324121, 0.93291456, 0.9334171, 0.9339196, 0.93442214, 0.9349246, 0.9354271, 0.93592966, 0.9364322, 0.93693465, 0.9374372, 0.9379397, 0.93844223, 0.9389447, 0.9394472, 0.93994975, 0.9404523, 0.94095474, 0.9414573, 0.9419598, 0.9424623, 0.94296485, 0.9434673, 0.94396985, 0.9444724, 0.9449749, 0.94547737, 0.9459799, 0.9464824, 0.94698495, 0.9474874, 0.94798994, 0.94849247, 0.948995, 0.94949746, 0.95, 0.94949746, 0.948995, 0.94849247, 0.94798994, 0.9474874, 0.94698495, 0.9464824, 0.9459799, 0.94547737, 0.9449749, 0.9444724, 0.94396985, 0.9434673, 0.94296485, 0.9424623, 0.9419598, 0.9414573, 0.94095474, 0.9404523, 0.93994975, 0.9394472, 0.9389447, 0.93844223, 0.9379397, 0.9374372, 0.93693465, 0.9364322, 0.93592966, 0.9354271, 0.9349246, 0.93442214, 0.9339196, 0.9334171, 0.93291456, 0.9324121, 0.93190956, 0.93140703, 0.9309045, 0.930402, 0.9298995, 0.929397, 0.92889446, 0.92839193, 0.92788947, 0.92738694, 0.9268844, 0.9263819, 0.9258794, 0.9253769, 0.92487437, 0.92437184, 0.9238694, 0.92336684, 0.9228643, 0.9223618, 0.9218593, 0.9213568, 0.9208543, 0.92035174, 0.9198492, 0.91934675, 0.9188442, 0.9183417, 0.91783917, 0.9173367, 0.9168342, 0.91633165, 0.9158291, 0.91532665, 0.9148241, 0.9143216, 0.9138191, 0.9133166, 0.9128141, 0.91231155, 0.911809, 0.91130656, 0.91080403, 0.9103015, 0.909799, 0.90929645, 0.908794, 0.90829146, 0.90778893, 0.9072864, 0.90678394, 0.9062814, 0.9057789, 0.90527636, 0.9047739, 0.90427136, 0.90376884, 0.9032663, 0.90276384, 0.9022613, 0.9017588, 0.90125626, 0.9007538, 0.90025127, 0.89974874, 0.8992462, 0.8987437, 0.8982412, 0.8977387, 0.89723617, 0.89673364, 0.8962312, 0.89572865, 0.8952261, 0.8947236, 0.8942211, 0.8937186, 0.8932161, 0.89271355, 0.8922111, 0.89170855, 0.891206, 0.8907035, 0.89020103, 0.8896985, 0.889196, 0.88869345, 0.8881909, 0.88768846, 0.88718593, 0.8866834, 0.8861809, 0.8856784, 0.8851759, 0.88467336, 0.88417083, 0.88366836, 0.88316584, 0.8826633, 0.8821608, 0.8816583, 0.8811558, 0.88065326, 0.88015074, 0.87964827, 0.87914574, 0.8786432, 0.8781407, 0.87763816, 0.8771357, 0.87663317, 0.87613064, 0.8756281, 0.87512565, 0.8746231, 0.8741206, 0.87361807, 0.8731156, 0.8726131, 0.87211055, 0.871608, 0.87110555, 0.870603, 0.8701005, 0.869598, 0.8690955, 0.868593, 0.86809045, 0.8675879, 0.86708546, 0.86658293, 0.8660804, 0.8655779, 0.86507535, 0.8645729, 0.86407036, 0.8635678, 0.8630653, 0.86256284, 0.8620603, 0.8615578, 0.86105525, 0.8605528, 0.86005026, 0.85954773, 0.8590452, 0.85854274, 0.8580402, 0.8575377, 0.85703516, 0.8565327, 0.85603017, 0.85552764, 0.8550251, 0.8545226, 0.8540201, 0.8535176, 0.85301507, 0.85251254, 0.8520101, 0.85150754, 0.851005, 0.8505025, 0.85, 0.8505025, 0.851005, 0.85150754, 0.8520101, 0.85251254, 0.85301507, 0.8535176, 0.8540201, 0.8545226, 0.8550251, 0.85552764, 0.85603017, 0.8565327, 0.85703516, 0.8575377, 0.8580402, 0.85854274, 0.8590452, 0.85954773, 0.86005026, 0.8605528, 0.86105525, 0.8615578, 0.8620603, 0.86256284, 0.8630653, 0.8635678, 0.86407036, 0.8645729, 0.86507535, 0.8655779, 0.8660804, 0.86658293, 0.86708546, 0.8675879, 0.86809045, 0.868593, 0.8690955, 0.869598, 0.8701005, 0.870603, 0.87110555, 0.871608, 0.87211055, 0.8726131, 0.8731156, 0.87361807, 0.8741206, 0.8746231, 0.87512565, 0.8756281, 0.87613064, 0.87663317, 0.8771357, 0.87763816, 0.8781407, 0.8786432, 0.87914574, 0.87964827, 0.88015074, 0.88065326, 0.8811558, 0.8816583, 0.8821608, 0.8826633, 0.88316584, 0.88366836, 0.88417083, 0.88467336, 0.8851759, 0.8856784, 0.8861809, 0.8866834, 0.88718593, 0.88768846, 0.8881909, 0.88869345, 0.889196, 0.8896985, 0.89020103, 0.8907035, 0.891206, 0.89170855, 0.8922111, 0.89271355, 0.8932161, 0.8937186, 0.8942211, 0.8947236, 0.8952261, 0.89572865, 0.8962312, 0.89673364, 0.89723617, 0.8977387, 0.8982412, 0.8987437, 0.8992462, 0.89974874, 0.90025127, 0.9007538, 0.90125626, 0.9017588, 0.9022613, 0.90276384, 0.9032663, 0.90376884, 0.90427136, 0.9047739, 0.90527636, 0.9057789, 0.9062814, 0.90678394, 0.9072864, 0.90778893, 0.90829146, 0.908794, 0.90929645, 0.909799, 0.9103015, 0.91080403, 0.91130656, 0.911809, 0.91231155, 0.9128141, 0.9133166, 0.9138191, 0.9143216, 0.9148241, 0.91532665, 0.9158291, 0.91633165, 0.9168342, 0.9173367, 0.91783917, 0.9183417, 0.9188442, 0.91934675, 0.9198492, 0.92035174, 0.9208543, 0.9213568, 0.9218593, 0.9223618, 0.9228643, 0.92336684, 0.9238694, 0.92437184, 0.92487437, 0.9253769, 0.9258794, 0.9263819, 0.9268844, 0.92738694, 0.92788947, 0.92839193, 0.92889446, 0.929397, 0.9298995, 0.930402, 0.9309045, 0.93140703, 0.93190956, 0.9324121, 0.93291456, 0.9334171, 0.9339196, 0.93442214, 0.9349246, 0.9354271, 0.93592966, 0.9364322, 0.93693465, 0.9374372, 0.9379397, 0.93844223, 0.9389447, 0.9394472, 0.93994975, 0.9404523, 0.94095474, 0.9414573, 0.9419598, 0.9424623, 0.94296485, 0.9434673, 0.94396985, 0.9444724, 0.9449749, 0.94547737, 0.9459799, 0.9464824, 0.94698495, 0.9474874, 0.94798994, 0.94849247, 0.948995, 0.94949746, 0.95, 0.94949746, 0.948995, 0.94849247, 0.94798994, 0.9474874, 0.94698495, 0.9464824, 0.9459799, 0.94547737, 0.9449749, 0.9444724, 0.94396985, 0.9434673, 0.94296485, 0.9424623, 0.9419598, 0.9414573, 0.94095474, 0.9404523, 0.93994975, 0.9394472, 0.9389447, 0.93844223, 0.9379397, 0.9374372, 0.93693465, 0.9364322, 0.93592966, 0.9354271, 0.9349246, 0.93442214, 0.9339196, 0.9334171, 0.93291456, 0.9324121, 0.93190956, 0.93140703, 0.9309045, 0.930402, 0.9298995, 0.929397, 0.92889446, 0.92839193, 0.92788947, 0.92738694, 0.9268844, 0.9263819, 0.9258794, 0.9253769, 0.92487437, 0.92437184, 0.9238694, 0.92336684, 0.9228643, 0.9223618, 0.9218593, 0.9213568, 0.9208543, 0.92035174, 0.9198492, 0.91934675, 0.9188442, 0.9183417, 0.91783917, 0.9173367, 0.9168342, 0.91633165, 0.9158291, 0.91532665, 0.9148241, 0.9143216, 0.9138191, 0.9133166, 0.9128141, 0.91231155, 0.911809, 0.91130656, 0.91080403, 0.9103015, 0.909799, 0.90929645, 0.908794, 0.90829146, 0.90778893, 0.9072864, 0.90678394, 0.9062814, 0.9057789, 0.90527636, 0.9047739, 0.90427136, 0.90376884, 0.9032663, 0.90276384, 0.9022613, 0.9017588, 0.90125626, 0.9007538, 0.90025127, 0.89974874, 0.8992462, 0.8987437, 0.8982412, 0.8977387, 0.89723617, 0.89673364, 0.8962312, 0.89572865, 0.8952261, 0.8947236, 0.8942211, 0.8937186, 0.8932161, 0.89271355, 0.8922111, 0.89170855, 0.891206, 0.8907035, 0.89020103, 0.8896985, 0.889196, 0.88869345, 0.8881909, 0.88768846, 0.88718593, 0.8866834, 0.8861809, 0.8856784, 0.8851759, 0.88467336, 0.88417083, 0.88366836, 0.88316584, 0.8826633, 0.8821608, 0.8816583, 0.8811558, 0.88065326, 0.88015074, 0.87964827, 0.87914574, 0.8786432, 0.8781407, 0.87763816, 0.8771357, 0.87663317, 0.87613064, 0.8756281, 0.87512565, 0.8746231, 0.8741206, 0.87361807, 0.8731156, 0.8726131, 0.87211055, 0.871608, 0.87110555, 0.870603, 0.8701005, 0.869598, 0.8690955, 0.868593, 0.86809045, 0.8675879, 0.86708546, 0.86658293, 0.8660804, 0.8655779, 0.86507535, 0.8645729, 0.86407036, 0.8635678, 0.8630653, 0.86256284, 0.8620603, 0.8615578, 0.86105525, 0.8605528, 0.86005026, 0.85954773, 0.8590452, 0.85854274, 0.8580402, 0.8575377, 0.85703516, 0.8565327, 0.85603017, 0.85552764, 0.8550251, 0.8545226, 0.8540201, 0.8535176, 0.85301507, 0.85251254, 0.8520101, 0.85150754, 0.851005, 0.8505025, 0.85, 0.8505025, 0.851005, 0.85150754, 0.8520101, 0.85251254, 0.85301507, 0.8535176, 0.8540201, 0.8545226, 0.8550251, 0.85552764, 0.85603017, 0.8565327, 0.85703516, 0.8575377, 0.8580402, 0.85854274, 0.8590452, 0.85954773, 0.86005026, 0.8605528, 0.86105525, 0.8615578, 0.8620603, 0.86256284, 0.8630653, 0.8635678, 0.86407036, 0.8645729, 0.86507535, 0.8655779, 0.8660804, 0.86658293, 0.86708546, 0.8675879, 0.86809045, 0.868593, 0.8690955, 0.869598, 0.8701005, 0.870603, 0.87110555, 0.871608, 0.87211055, 0.8726131, 0.8731156, 0.87361807, 0.8741206, 0.8746231, 0.87512565, 0.8756281, 0.87613064, 0.87663317, 0.8771357, 0.87763816, 0.8781407, 0.8786432, 0.87914574, 0.87964827, 0.88015074, 0.88065326, 0.8811558, 0.8816583, 0.8821608, 0.8826633, 0.88316584, 0.88366836, 0.88417083, 0.88467336, 0.8851759, 0.8856784, 0.8861809, 0.8866834, 0.88718593, 0.88768846, 0.8881909, 0.88869345, 0.889196, 0.8896985, 0.89020103, 0.8907035, 0.891206, 0.89170855, 0.8922111, 0.89271355, 0.8932161, 0.8937186, 0.8942211, 0.8947236, 0.8952261, 0.89572865, 0.8962312, 0.89673364, 0.89723617, 0.8977387, 0.8982412, 0.8987437, 0.8992462, 0.89974874, 0.90025127, 0.9007538, 0.90125626, 0.9017588, 0.9022613, 0.90276384, 0.9032663, 0.90376884, 0.90427136, 0.9047739, 0.90527636, 0.9057789, 0.9062814, 0.90678394, 0.9072864, 0.90778893, 0.90829146, 0.908794, 0.90929645, 0.909799, 0.9103015, 0.91080403, 0.91130656, 0.911809, 0.91231155, 0.9128141, 0.9133166, 0.9138191, 0.9143216, 0.9148241, 0.91532665, 0.9158291, 0.91633165, 0.9168342, 0.9173367, 0.91783917, 0.9183417, 0.9188442, 0.91934675, 0.9198492, 0.92035174, 0.9208543, 0.9213568, 0.9218593, 0.9223618, 0.9228643, 0.92336684, 0.9238694, 0.92437184, 0.92487437, 0.9253769, 0.9258794, 0.9263819, 0.9268844, 0.92738694, 0.92788947, 0.92839193, 0.92889446, 0.929397, 0.9298995, 0.930402, 0.9309045, 0.93140703, 0.93190956, 0.9324121, 0.93291456, 0.9334171, 0.9339196, 0.93442214, 0.9349246, 0.9354271, 0.93592966, 0.9364322, 0.93693465, 0.9374372, 0.9379397, 0.93844223, 0.9389447, 0.9394472, 0.93994975, 0.9404523, 0.94095474, 0.9414573, 0.9419598, 0.9424623, 0.94296485, 0.9434673, 0.94396985, 0.9444724, 0.9449749, 0.94547737, 0.9459799, 0.9464824, 0.94698495, 0.9474874, 0.94798994, 0.94849247, 0.948995, 0.94949746, 0.95, 0.94949746, 0.948995, 0.94849247, 0.94798994, 0.9474874, 0.94698495, 0.9464824, 0.9459799, 0.94547737, 0.9449749, 0.9444724, 0.94396985, 0.9434673, 0.94296485, 0.9424623, 0.9419598, 0.9414573, 0.94095474, 0.9404523, 0.93994975, 0.9394472, 0.9389447, 0.93844223, 0.9379397, 0.9374372, 0.93693465, 0.9364322, 0.93592966, 0.9354271, 0.9349246, 0.93442214, 0.9339196, 0.9334171, 0.93291456, 0.9324121, 0.93190956, 0.93140703, 0.9309045, 0.930402, 0.9298995, 0.929397, 0.92889446, 0.92839193, 0.92788947, 0.92738694, 0.9268844, 0.9263819, 0.9258794, 0.9253769, 0.92487437, 0.92437184, 0.9238694, 0.92336684, 0.9228643, 0.9223618, 0.9218593, 0.9213568, 0.9208543, 0.92035174, 0.9198492, 0.91934675, 0.9188442, 0.9183417, 0.91783917, 0.9173367, 0.9168342, 0.91633165, 0.9158291, 0.91532665, 0.9148241, 0.9143216, 0.9138191, 0.9133166, 0.9128141, 0.91231155, 0.911809, 0.91130656, 0.91080403, 0.9103015, 0.909799, 0.90929645, 0.908794, 0.90829146, 0.90778893, 0.9072864, 0.90678394, 0.9062814, 0.9057789, 0.90527636, 0.9047739, 0.90427136, 0.90376884, 0.9032663, 0.90276384, 0.9022613, 0.9017588, 0.90125626, 0.9007538, 0.90025127, 0.89974874, 0.8992462, 0.8987437, 0.8982412, 0.8977387, 0.89723617, 0.89673364, 0.8962312, 0.89572865, 0.8952261, 0.8947236, 0.8942211, 0.8937186, 0.8932161, 0.89271355, 0.8922111, 0.89170855, 0.891206, 0.8907035, 0.89020103, 0.8896985, 0.889196, 0.88869345, 0.8881909, 0.88768846, 0.88718593, 0.8866834, 0.8861809, 0.8856784, 0.8851759, 0.88467336, 0.88417083, 0.88366836, 0.88316584, 0.8826633, 0.8821608, 0.8816583, 0.8811558, 0.88065326, 0.88015074, 0.87964827, 0.87914574, 0.8786432, 0.8781407, 0.87763816, 0.8771357, 0.87663317, 0.87613064, 0.8756281, 0.87512565, 0.8746231, 0.8741206, 0.87361807, 0.8731156, 0.8726131, 0.87211055, 0.871608, 0.87110555, 0.870603, 0.8701005, 0.869598, 0.8690955, 0.868593, 0.86809045, 0.8675879, 0.86708546, 0.86658293, 0.8660804, 0.8655779, 0.86507535, 0.8645729, 0.86407036, 0.8635678, 0.8630653, 0.86256284, 0.8620603, 0.8615578, 0.86105525, 0.8605528, 0.86005026, 0.85954773, 0.8590452, 0.85854274, 0.8580402, 0.8575377, 0.85703516, 0.8565327, 0.85603017, 0.85552764, 0.8550251, 0.8545226, 0.8540201, 0.8535176, 0.85301507, 0.85251254, 0.8520101, 0.85150754, 0.851005, 0.8505025, 0.85, 0.8505025, 0.851005, 0.85150754, 0.8520101, 0.85251254, 0.85301507, 0.8535176, 0.8540201, 0.8545226, 0.8550251, 0.85552764, 0.85603017, 0.8565327, 0.85703516, 0.8575377, 0.8580402, 0.85854274, 0.8590452, 0.85954773, 0.86005026, 0.8605528, 0.86105525, 0.8615578, 0.8620603, 0.86256284, 0.8630653, 0.8635678, 0.86407036, 0.8645729, 0.86507535, 0.8655779, 0.8660804, 0.86658293, 0.86708546, 0.8675879, 0.86809045, 0.868593, 0.8690955, 0.869598, 0.8701005, 0.870603, 0.87110555, 0.871608, 0.87211055, 0.8726131, 0.8731156, 0.87361807, 0.8741206, 0.8746231, 0.87512565, 0.8756281, 0.87613064, 0.87663317, 0.8771357, 0.87763816, 0.8781407, 0.8786432, 0.87914574, 0.87964827, 0.88015074, 0.88065326, 0.8811558, 0.8816583, 0.8821608, 0.8826633, 0.88316584, 0.88366836, 0.88417083, 0.88467336, 0.8851759, 0.8856784, 0.8861809, 0.8866834, 0.88718593, 0.88768846, 0.8881909, 0.88869345, 0.889196, 0.8896985, 0.89020103, 0.8907035, 0.891206, 0.89170855, 0.8922111, 0.89271355, 0.8932161, 0.8937186, 0.8942211, 0.8947236, 0.8952261, 0.89572865, 0.8962312, 0.89673364, 0.89723617, 0.8977387, 0.8982412, 0.8987437, 0.8992462, 0.89974874, 0.90025127, 0.9007538, 0.90125626, 0.9017588, 0.9022613, 0.90276384, 0.9032663, 0.90376884, 0.90427136, 0.9047739, 0.90527636, 0.9057789, 0.9062814, 0.90678394, 0.9072864, 0.90778893, 0.90829146, 0.908794, 0.90929645, 0.909799, 0.9103015, 0.91080403, 0.91130656, 0.911809, 0.91231155, 0.9128141, 0.9133166, 0.9138191, 0.9143216, 0.9148241, 0.91532665, 0.9158291, 0.91633165, 0.9168342, 0.9173367, 0.91783917, 0.9183417, 0.9188442, 0.91934675, 0.9198492, 0.92035174, 0.9208543, 0.9213568, 0.9218593, 0.9223618, 0.9228643, 0.92336684, 0.9238694, 0.92437184, 0.92487437, 0.9253769, 0.9258794, 0.9263819, 0.9268844, 0.92738694, 0.92788947, 0.92839193, 0.92889446, 0.929397, 0.9298995, 0.930402, 0.9309045, 0.93140703, 0.93190956, 0.9324121, 0.93291456, 0.9334171, 0.9339196, 0.93442214, 0.9349246, 0.9354271, 0.93592966, 0.9364322, 0.93693465, 0.9374372, 0.9379397, 0.93844223, 0.9389447, 0.9394472, 0.93994975, 0.9404523, 0.94095474, 0.9414573, 0.9419598, 0.9424623, 0.94296485, 0.9434673, 0.94396985, 0.9444724, 0.9449749, 0.94547737, 0.9459799, 0.9464824, 0.94698495, 0.9474874, 0.94798994, 0.94849247, 0.948995, 0.94949746, 0.95, 0.94949746, 0.948995, 0.94849247, 0.94798994, 0.9474874, 0.94698495, 0.9464824, 0.9459799, 0.94547737, 0.9449749, 0.9444724, 0.94396985, 0.9434673, 0.94296485, 0.9424623, 0.9419598, 0.9414573, 0.94095474, 0.9404523, 0.93994975, 0.9394472, 0.9389447, 0.93844223, 0.9379397, 0.9374372, 0.93693465, 0.9364322, 0.93592966, 0.9354271, 0.9349246, 0.93442214, 0.9339196, 0.9334171, 0.93291456, 0.9324121, 0.93190956, 0.93140703, 0.9309045, 0.930402, 0.9298995, 0.929397, 0.92889446, 0.92839193, 0.92788947, 0.92738694, 0.9268844, 0.9263819, 0.9258794, 0.9253769, 0.92487437, 0.92437184, 0.9238694, 0.92336684, 0.9228643, 0.9223618, 0.9218593, 0.9213568, 0.9208543, 0.92035174, 0.9198492, 0.91934675, 0.9188442, 0.9183417, 0.91783917, 0.9173367, 0.9168342, 0.91633165, 0.9158291, 0.91532665, 0.9148241, 0.9143216, 0.9138191, 0.9133166, 0.9128141, 0.91231155, 0.911809, 0.91130656, 0.91080403, 0.9103015, 0.909799, 0.90929645, 0.908794, 0.90829146, 0.90778893, 0.9072864, 0.90678394, 0.9062814, 0.9057789, 0.90527636, 0.9047739, 0.90427136, 0.90376884, 0.9032663, 0.90276384, 0.9022613, 0.9017588, 0.90125626, 0.9007538, 0.90025127, 0.89974874, 0.8992462, 0.8987437, 0.8982412, 0.8977387, 0.89723617, 0.89673364, 0.8962312, 0.89572865, 0.8952261, 0.8947236, 0.8942211, 0.8937186, 0.8932161, 0.89271355, 0.8922111, 0.89170855, 0.891206, 0.8907035, 0.89020103, 0.8896985, 0.889196, 0.88869345, 0.8881909, 0.88768846, 0.88718593, 0.8866834, 0.8861809, 0.8856784, 0.8851759, 0.88467336, 0.88417083, 0.88366836, 0.88316584, 0.8826633, 0.8821608, 0.8816583, 0.8811558, 0.88065326, 0.88015074, 0.87964827, 0.87914574, 0.8786432, 0.8781407, 0.87763816, 0.8771357, 0.87663317, 0.87613064, 0.8756281, 0.87512565, 0.8746231, 0.8741206, 0.87361807, 0.8731156, 0.8726131, 0.87211055, 0.871608, 0.87110555, 0.870603, 0.8701005, 0.869598, 0.8690955, 0.868593, 0.86809045, 0.8675879, 0.86708546, 0.86658293, 0.8660804, 0.8655779, 0.86507535, 0.8645729, 0.86407036, 0.8635678, 0.8630653, 0.86256284, 0.8620603, 0.8615578, 0.86105525, 0.8605528, 0.86005026, 0.85954773, 0.8590452, 0.85854274, 0.8580402, 0.8575377, 0.85703516, 0.8565327, 0.85603017, 0.85552764, 0.8550251, 0.8545226, 0.8540201, 0.8535176, 0.85301507, 0.85251254, 0.8520101, 0.85150754, 0.851005, 0.8505025, 0.85, 0.8505025, 0.851005, 0.85150754, 0.8520101, 0.85251254, 0.85301507, 0.8535176, 0.8540201, 0.8545226, 0.8550251, 0.85552764, 0.85603017, 0.8565327, 0.85703516, 0.8575377, 0.8580402, 0.85854274, 0.8590452, 0.85954773, 0.86005026, 0.8605528, 0.86105525, 0.8615578, 0.8620603, 0.86256284, 0.8630653, 0.8635678, 0.86407036, 0.8645729, 0.86507535, 0.8655779, 0.8660804, 0.86658293, 0.86708546, 0.8675879, 0.86809045, 0.868593, 0.8690955, 0.869598, 0.8701005, 0.870603, 0.87110555, 0.871608, 0.87211055, 0.8726131, 0.8731156, 0.87361807, 0.8741206, 0.8746231, 0.87512565, 0.8756281, 0.87613064, 0.87663317, 0.8771357, 0.87763816, 0.8781407, 0.8786432, 0.87914574, 0.87964827, 0.88015074, 0.88065326, 0.8811558, 0.8816583, 0.8821608, 0.8826633, 0.88316584, 0.88366836, 0.88417083, 0.88467336, 0.8851759, 0.8856784, 0.8861809, 0.8866834, 0.88718593, 0.88768846, 0.8881909, 0.88869345, 0.889196, 0.8896985, 0.89020103, 0.8907035, 0.891206, 0.89170855, 0.8922111, 0.89271355, 0.8932161, 0.8937186, 0.8942211, 0.8947236, 0.8952261, 0.89572865, 0.8962312, 0.89673364, 0.89723617, 0.8977387, 0.8982412, 0.8987437, 0.8992462, 0.89974874, 0.90025127, 0.9007538, 0.90125626, 0.9017588, 0.9022613, 0.90276384, 0.9032663, 0.90376884, 0.90427136, 0.9047739, 0.90527636, 0.9057789, 0.9062814, 0.90678394, 0.9072864, 0.90778893, 0.90829146, 0.908794, 0.90929645, 0.909799, 0.9103015, 0.91080403, 0.91130656, 0.911809, 0.91231155, 0.9128141, 0.9133166, 0.9138191, 0.9143216, 0.9148241, 0.91532665, 0.9158291, 0.91633165, 0.9168342, 0.9173367, 0.91783917, 0.9183417, 0.9188442, 0.91934675, 0.9198492, 0.92035174, 0.9208543, 0.9213568, 0.9218593, 0.9223618, 0.9228643, 0.92336684, 0.9238694, 0.92437184, 0.92487437, 0.9253769, 0.9258794, 0.9263819, 0.9268844, 0.92738694, 0.92788947, 0.92839193, 0.92889446, 0.929397, 0.9298995, 0.930402, 0.9309045, 0.93140703, 0.93190956, 0.9324121, 0.93291456, 0.9334171, 0.9339196, 0.93442214, 0.9349246, 0.9354271, 0.93592966, 0.9364322, 0.93693465, 0.9374372, 0.9379397, 0.93844223, 0.9389447, 0.9394472, 0.93994975, 0.9404523, 0.94095474, 0.9414573, 0.9419598, 0.9424623, 0.94296485, 0.9434673, 0.94396985, 0.9444724, 0.9449749, 0.94547737, 0.9459799, 0.9464824, 0.94698495, 0.9474874, 0.94798994])])"
      ]
     },
     "execution_count": 24,
     "metadata": {},
     "output_type": "execute_result"
    }
   ],
   "source": [
    "distillbert_learner.history.history.items()"
   ]
  },
  {
   "cell_type": "code",
   "execution_count": 25,
   "metadata": {},
   "outputs": [
    {
     "data": {
      "image/png": "[encoded data removed]",
      "text/plain": [
       "<Figure size 640x480 with 1 Axes>"
      ]
     },
     "metadata": {},
     "output_type": "display_data"
    }
   ],
   "source": [
    "import matplotlib.pyplot as plt\n",
    "\n",
    "# Load the loss and validation loss values.\n",
    "loss = distillbert_learner.history.history[\"loss\"]\n",
    "val_loss = distillbert_learner.history.history[\"val_loss\"]\n",
    "\n",
    "# Create a figure and axes object.\n",
    "fig, ax = plt.subplots()\n",
    "\n",
    "# Plot the loss and validation loss values.\n",
    "ax.plot(loss, label='Loss')\n",
    "ax.plot(val_loss, label='Validation Loss')\n",
    "\n",
    "# Set the labels and title of the plot.\n",
    "ax.set_xlabel('Epoch')\n",
    "ax.set_ylabel('Loss')\n",
    "ax.set_title('Learning Curve')\n",
    "\n",
    "# Add a legend to the plot.\n",
    "ax.legend()\n",
    "\n",
    "# Show the plot.\n",
    "plt.show()"
   ]
  },
  {
   "cell_type": "code",
   "execution_count": 26,
   "metadata": {},
   "outputs": [
    {
     "name": "stdout",
     "output_type": "stream",
     "text": [
      "9/9 [==============================] - 5s 336ms/step\n",
      "              precision    recall  f1-score   support\n",
      "\n",
      "           0       0.86      0.87      0.87       212\n",
      "           1       0.46      0.45      0.46        53\n",
      "\n",
      "    accuracy                           0.78       265\n",
      "   macro avg       0.66      0.66      0.66       265\n",
      "weighted avg       0.78      0.78      0.78       265\n",
      "\n"
     ]
    },
    {
     "data": {
      "text/plain": [
       "array([[184,  28],\n",
       "       [ 29,  24]])"
      ]
     },
     "execution_count": 26,
     "metadata": {},
     "output_type": "execute_result"
    }
   ],
   "source": [
    "distillbert_learner.validate(class_names=distillbert_transformer.get_classes())"
   ]
  },
  {
   "cell_type": "code",
   "execution_count": 27,
   "metadata": {},
   "outputs": [
    {
     "name": "stdout",
     "output_type": "stream",
     "text": [
      "Model: \"tf_distil_bert_for_sequence_classification_1\"\n",
      "_________________________________________________________________\n",
      " Layer (type)                Output Shape              Param #   \n",
      "=================================================================\n",
      " distilbert (TFDistilBertMa  multiple                  66362880  \n",
      " inLayer)                                                        \n",
      "                                                                 \n",
      " pre_classifier (Dense)      multiple                  590592    \n",
      "                                                                 \n",
      " classifier (Dense)          multiple                  1538      \n",
      "                                                                 \n",
      " dropout_39 (Dropout)        multiple                  0         \n",
      "                                                                 \n",
      "=================================================================\n",
      "Total params: 66955010 (255.41 MB)\n",
      "Trainable params: 66955010 (255.41 MB)\n",
      "Non-trainable params: 0 (0.00 Byte)\n",
      "_________________________________________________________________\n"
     ]
    }
   ],
   "source": [
    "distillbert_learner.model.summary()"
   ]
  },
  {
   "cell_type": "code",
   "execution_count": 28,
   "metadata": {},
   "outputs": [],
   "source": [
    "distillbert_predictor = ktrain.get_predictor(distillbert_learner.model, preproc=distillbert_transformer)"
   ]
  },
  {
   "cell_type": "code",
   "execution_count": 29,
   "metadata": {},
   "outputs": [],
   "source": [
    "distillbert_test_data = test_df['sentence'].tolist()\n",
    "distillbert_test_label = test_df['label'].tolist()"
   ]
  },
  {
   "cell_type": "code",
   "execution_count": 30,
   "metadata": {},
   "outputs": [],
   "source": [
    "y_pred_distillbert = distillbert_predictor.predict(distillbert_test_data)"
   ]
  },
  {
   "cell_type": "code",
   "execution_count": 31,
   "metadata": {},
   "outputs": [],
   "source": [
    "y_pred_distillbert = [int(x) for x in y_pred_distillbert]"
   ]
  },
  {
   "cell_type": "code",
   "execution_count": 32,
   "metadata": {},
   "outputs": [
    {
     "name": "stdout",
     "output_type": "stream",
     "text": [
      "True Negative: 207, False Positive: 29, False Negative: 26, True Positive: 33\n"
     ]
    }
   ],
   "source": [
    "tn, fp, fn, tp = confusion_matrix(distillbert_test_label, y_pred_distillbert).ravel()\n",
    "print('True Negative: {}, False Positive: {}, False Negative: {}, True Positive: {}'.format(tn, fp, fn, tp))"
   ]
  },
  {
   "cell_type": "code",
   "execution_count": 33,
   "metadata": {},
   "outputs": [
    {
     "name": "stdout",
     "output_type": "stream",
     "text": [
      "  Classification Report:\n",
      "               precision    recall  f1-score   support\n",
      "\n",
      "           0       0.89      0.88      0.88       236\n",
      "           1       0.53      0.56      0.55        59\n",
      "\n",
      "    accuracy                           0.81       295\n",
      "   macro avg       0.71      0.72      0.71       295\n",
      "weighted avg       0.82      0.81      0.82       295\n",
      " \n",
      "\n"
     ]
    }
   ],
   "source": [
    "print('  Classification Report:\\n',classification_report(distillbert_test_label,y_pred_distillbert),'\\n')"
   ]
  },
  {
   "cell_type": "code",
   "execution_count": 34,
   "metadata": {},
   "outputs": [],
   "source": [
    "#distillbert_predictor.save('./model/distilbert_base_uncased_model') # 256 MB"
   ]
  },
  {
   "cell_type": "code",
   "execution_count": 35,
   "metadata": {},
   "outputs": [
    {
     "name": "stdout",
     "output_type": "stream",
     "text": [
      "AUC roc score for distillbert model:  0.7182203389830508\n"
     ]
    }
   ],
   "source": [
    "print(\"AUC roc score for distillbert model: \", roc_auc_score(distillbert_test_label,y_pred_distillbert))"
   ]
  },
  {
   "cell_type": "code",
   "execution_count": null,
   "metadata": {},
   "outputs": [],
   "source": []
  }
 ],
 "metadata": {
  "kernelspec": {
   "display_name": "Python 3",
   "language": "python",
   "name": "python3"
  },
  "language_info": {
   "codemirror_mode": {
    "name": "ipython",
    "version": 3
   },
   "file_extension": ".py",
   "mimetype": "text/x-python",
   "name": "python",
   "nbconvert_exporter": "python",
   "pygments_lexer": "ipython3",
   "version": "3.8.17"
  }
 },
 "nbformat": 4,
 "nbformat_minor": 4
}
