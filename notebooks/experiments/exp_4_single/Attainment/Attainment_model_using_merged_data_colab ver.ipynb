{
 "cells": [
  {
   "cell_type": "markdown",
   "metadata": {},
   "source": [
    "# Aspirational DistilBERT Model Using Single Batch 1 + Batch 2"
   ]
  },
  {
   "cell_type": "code",
   "execution_count": 2,
   "metadata": {},
   "outputs": [],
   "source": [
    "import ktrain\n",
    "import pandas as pd\n",
    "import numpy as np\n",
    "from sklearn.model_selection import train_test_split\n",
    "from sklearn.metrics import confusion_matrix\n",
    "from sklearn.metrics import classification_report\n",
    "from sklearn.metrics import roc_auc_score\n",
    "from ktrain import text\n",
    "import random\n",
    "import warnings\n",
    "from sklearn.utils import shuffle\n",
    "\n",
    "# Set random seed\n",
    "random.seed(18)\n",
    "seed = 18\n",
    "\n",
    "# Ignore warnings\n",
    "warnings.filterwarnings('ignore')\n",
    "\n",
    "# Display options\n",
    "pd.set_option('display.max_colwidth', None)"
   ]
  },
  {
   "cell_type": "markdown",
   "metadata": {},
   "source": [
    "## 1. Loading the data and quick exploratory data analysis"
   ]
  },
  {
   "cell_type": "code",
   "execution_count": null,
   "metadata": {},
   "outputs": [],
   "source": [
    "# import os\n",
    "\n",
    "# # Define the folder path and themes\n",
    "# folder_path = '/Users/gbaldonado/Developer/ml-alma-taccti/ml-alma-taccti/data/processed_for_model/single_theme_using_jaccard_method'\n",
    "# themes = [\n",
    "#     'Aspirational', 'Attainment', 'Community Consciousness', 'Familial', 'Filial Piety', \n",
    "#     'First Gen', 'Navigational', 'Perseverance', 'Resistance', 'Social', 'Spiritual'\n",
    "# ]\n",
    "\n",
    "# # Initialize an empty dictionary to store DataFrames\n",
    "# batch_1_theme_dataframes = {}\n",
    "# # Loop through each theme and load its corresponding file\n",
    "# for theme in themes:\n",
    "#     # Construct the filename without modifying the theme name\n",
    "#     file_name = f\"{theme}_sentence_level_batch_1_jaccard.csv\"\n",
    "#     file_path = os.path.join(folder_path, file_name)\n",
    "    \n",
    "#     # Check if the file exists before attempting to load\n",
    "#     if os.path.exists(file_path):\n",
    "#         batch_1_theme_dataframes[theme] = pd.read_csv(file_path)\n",
    "#         print(f\"Loaded {file_name}\")\n",
    "#     else:\n",
    "#         print(f\"File not found for theme: {theme}\")\n",
    "\n",
    "# # Define the folder path and themes\n",
    "# folder_path = '/Users/gbaldonado/Developer/ml-alma-taccti/ml-alma-taccti/data/processed_for_model/single_theme_using_jaccard_method/batch_2'\n",
    "# themes = [\n",
    "#     'Aspirational', 'Attainment', 'Community Consciouss', 'Familial', 'Filial Piety', \n",
    "#     'First Generation', 'Navigational', 'Perseverance', 'Resistance', 'Social', 'Spiritual'\n",
    "# ]\n",
    "\n",
    "# # Initialize an empty dictionary to store DataFrames\n",
    "# batch_2_theme_dataframes = {}\n",
    "# # Loop through each theme and load its corresponding file\n",
    "# for theme in themes:\n",
    "#     # Construct the filename without modifying the theme name\n",
    "#     file_name = f\"{theme}_sentence_level_batch_2_jaccard.csv\"\n",
    "#     file_path = os.path.join(folder_path, file_name)\n",
    "    \n",
    "#     # Check if the file exists before attempting to load\n",
    "#     if os.path.exists(file_path):\n",
    "#         batch_2_theme_dataframes[theme] = pd.read_csv(file_path)\n",
    "#         print(f\"Loaded {file_name}\")\n",
    "#     else:\n",
    "#         print(f\"File not found for theme: {theme}\")"
   ]
  },
  {
   "cell_type": "code",
   "execution_count": 3,
   "metadata": {},
   "outputs": [
    {
     "data": {
      "text/html": [
       "<div>\n",
       "<style scoped>\n",
       "    .dataframe tbody tr th:only-of-type {\n",
       "        vertical-align: middle;\n",
       "    }\n",
       "\n",
       "    .dataframe tbody tr th {\n",
       "        vertical-align: top;\n",
       "    }\n",
       "\n",
       "    .dataframe thead th {\n",
       "        text-align: right;\n",
       "    }\n",
       "</style>\n",
       "<table border=\"1\" class=\"dataframe\">\n",
       "  <thead>\n",
       "    <tr style=\"text-align: right;\">\n",
       "      <th></th>\n",
       "      <th>sentence</th>\n",
       "      <th>label</th>\n",
       "      <th>phrase</th>\n",
       "    </tr>\n",
       "  </thead>\n",
       "  <tbody>\n",
       "    <tr>\n",
       "      <th>0</th>\n",
       "      <td>why am i here?</td>\n",
       "      <td>0</td>\n",
       "      <td>[\"Ever since I was little I wanted to be a doctor, so much so that I can't see myself doing anything else.\"]</td>\n",
       "    </tr>\n",
       "    <tr>\n",
       "      <th>1</th>\n",
       "      <td>well why does anyone pursue a higher education?</td>\n",
       "      <td>0</td>\n",
       "      <td>[\"Ever since I was little I wanted to be a doctor, so much so that I can't see myself doing anything else.\"]</td>\n",
       "    </tr>\n",
       "    <tr>\n",
       "      <th>2</th>\n",
       "      <td>to better one self and be able to succeed later on in life.</td>\n",
       "      <td>0</td>\n",
       "      <td>[\"Ever since I was little I wanted to be a doctor, so much so that I can't see myself doing anything else.\"]</td>\n",
       "    </tr>\n",
       "    <tr>\n",
       "      <th>3</th>\n",
       "      <td>ever since i was little i wanted to be a doctor, so much so that i can't see myself doing anything else.</td>\n",
       "      <td>1</td>\n",
       "      <td>[\"Ever since I was little I wanted to be a doctor, so much so that I can't see myself doing anything else.\"]</td>\n",
       "    </tr>\n",
       "    <tr>\n",
       "      <th>4</th>\n",
       "      <td>i always wanted to be able to help people and i always had an intrest in medicine and the human body.</td>\n",
       "      <td>0</td>\n",
       "      <td>[\"Ever since I was little I wanted to be a doctor, so much so that I can't see myself doing anything else.\"]</td>\n",
       "    </tr>\n",
       "  </tbody>\n",
       "</table>\n",
       "</div>"
      ],
      "text/plain": [
       "                                                                                                   sentence  \\\n",
       "0                                                                                            why am i here?   \n",
       "1                                                           well why does anyone pursue a higher education?   \n",
       "2                                               to better one self and be able to succeed later on in life.   \n",
       "3  ever since i was little i wanted to be a doctor, so much so that i can't see myself doing anything else.   \n",
       "4     i always wanted to be able to help people and i always had an intrest in medicine and the human body.   \n",
       "\n",
       "   label  \\\n",
       "0      0   \n",
       "1      0   \n",
       "2      0   \n",
       "3      1   \n",
       "4      0   \n",
       "\n",
       "                                                                                                         phrase  \n",
       "0  [\"Ever since I was little I wanted to be a doctor, so much so that I can't see myself doing anything else.\"]  \n",
       "1  [\"Ever since I was little I wanted to be a doctor, so much so that I can't see myself doing anything else.\"]  \n",
       "2  [\"Ever since I was little I wanted to be a doctor, so much so that I can't see myself doing anything else.\"]  \n",
       "3  [\"Ever since I was little I wanted to be a doctor, so much so that I can't see myself doing anything else.\"]  \n",
       "4  [\"Ever since I was little I wanted to be a doctor, so much so that I can't see myself doing anything else.\"]  "
      ]
     },
     "execution_count": 3,
     "metadata": {},
     "output_type": "execute_result"
    }
   ],
   "source": [
    "attainment_df_batch_1 = pd.read_csv(\"/Users/gbaldonado/Developer/ml-alma-taccti/ml-alma-taccti/data/processed_for_model/corrections/Attainment/Attainment_sentence_level_batch_1_jaccard_reevaluated.csv\", usecols=[\"sentence\", \"label\", \"phrase\"])\n",
    "attainment_df_batch_2 = pd.read_csv(\"/Users/gbaldonado/Developer/ml-alma-taccti/ml-alma-taccti/data/processed_for_model/corrections/Attainment/Attainment_sentence_level_batch_2_jaccard_reevaluated.csv\", usecols=[\"sentence\", \"label\", \"phrase\"])\n",
    "\n",
    "aspirational_df_batch_1 = pd.read_csv(\"/Users/gbaldonado/Developer/ml-alma-taccti/ml-alma-taccti/data/processed_for_model/corrections/Aspirational/Aspirational_sentence_level_batch_1_jaccard_reevaluated.csv\", usecols=[\"sentence\", \"label\", \"phrase\"])\n",
    "aspirational_df_batch_2 = pd.read_csv(\"/Users/gbaldonado/Developer/ml-alma-taccti/ml-alma-taccti/data/processed_for_model/corrections/Aspirational/Aspirational_sentence_level_batch_2_jaccard_reevaluated.csv\", usecols=[\"sentence\", \"label\", \"phrase\"])\n",
    "\n",
    "asp_plus_df = [attainment_df_batch_1,\n",
    "               attainment_df_batch_2,\n",
    "               aspirational_df_batch_1,\n",
    "               aspirational_df_batch_2,\n",
    "               ]\n",
    "merged_aspirational_df = pd.concat(asp_plus_df)\n",
    "\n",
    "merged_aspirational_df.head()"
   ]
  },
  {
   "cell_type": "code",
   "execution_count": 4,
   "metadata": {},
   "outputs": [],
   "source": [
    "# Shuffle the merged dataset\n",
    "merged_aspirational_df = shuffle(merged_aspirational_df, random_state=seed)\n",
    "\n",
    "# Train-test split \n",
    "training_df, test_df = train_test_split(merged_aspirational_df, test_size=0.1, random_state=18, stratify=merged_aspirational_df[\"label\"])\n",
    "\n",
    "\n",
    "training_df.reset_index(drop=True, inplace=True)\n",
    "test_df.reset_index(drop=True, inplace=True)\n"
   ]
  },
  {
   "cell_type": "code",
   "execution_count": 5,
   "metadata": {},
   "outputs": [
    {
     "name": "stdout",
     "output_type": "stream",
     "text": [
      "Training dataset shape: (10709, 3) \n",
      "Test dataset shape: (1190, 3)\n",
      "Positive labels present in the dataset : 1864  out of 10709 or 17.40592025399197%\n",
      "Positive labels present in the test dataset : 207  out of 1190 or 17.394957983193276%\n"
     ]
    }
   ],
   "source": [
    "print(f\"Training dataset shape: {training_df.shape} \\nTest dataset shape: {test_df.shape}\")\n",
    "pos_labels = len([n for n in training_df['label'] if n==1])\n",
    "print(\"Positive labels present in the dataset : {}  out of {} or {}%\".format(pos_labels, len(training_df['label']), (pos_labels/len(training_df['label']))*100))\n",
    "pos_labels = len([n for n in test_df['label'] if n==1])\n",
    "print(\"Positive labels present in the test dataset : {}  out of {} or {}%\".format(pos_labels, len(test_df['label']), (pos_labels/len(test_df['label']))*100))"
   ]
  },
  {
   "cell_type": "code",
   "execution_count": 32,
   "metadata": {},
   "outputs": [
    {
     "name": "stdout",
     "output_type": "stream",
     "text": [
      "Original class distribution:\n",
      "label\n",
      "0    3864\n",
      "1     848\n",
      "Name: count, dtype: int64\n",
      "Minority samples: 848, Target majority count: 1272, Available majority samples: 3864\n",
      "New class distribution:\n",
      "label\n",
      "0    1272\n",
      "1     848\n",
      "Name: count, dtype: int64\n"
     ]
    }
   ],
   "source": [
    "# from sklearn.utils import resample\n",
    "# import pandas as pd\n",
    "\n",
    "# # Assuming `training_df` already exists and has a 'label' column\n",
    "\n",
    "# # Check original class distribution\n",
    "# print(\"Original class distribution:\")\n",
    "# print(training_df['label'].value_counts())\n",
    "\n",
    "# # Set target distribution\n",
    "# target_minority_ratio = 0.40  # 20%\n",
    "# target_majority_ratio = 0.60  # 80%\n",
    "\n",
    "# # Separate majority and minority classes\n",
    "# minority_class = training_df[training_df['label'] == 1]\n",
    "# majority_class = training_df[training_df['label'] == 0]\n",
    "\n",
    "# # Use all samples from the minority class\n",
    "# target_minority_count = len(minority_class)\n",
    "\n",
    "# # Calculate the maximum possible number of samples for the majority class\n",
    "# target_majority_count = min(len(majority_class), int(target_minority_count / target_minority_ratio * target_majority_ratio))\n",
    "\n",
    "# # Debug information\n",
    "# print(f\"Minority samples: {target_minority_count}, \"\n",
    "#       f\"Target majority count: {target_majority_count}, \"\n",
    "#       f\"Available majority samples: {len(majority_class)}\")\n",
    "\n",
    "# # Perform undersampling\n",
    "# if target_majority_count < len(majority_class):\n",
    "#     undersampled_majority = resample(\n",
    "#         majority_class,\n",
    "#         replace=False,  # without replacement\n",
    "#         n_samples=target_majority_count,\n",
    "#         random_state=42\n",
    "#     )\n",
    "# else:\n",
    "#     print(\"Target majority count exceeds available samples. Using all majority samples.\")\n",
    "#     undersampled_majority = majority_class\n",
    "\n",
    "# # Combine the resampled majority class with the full minority class\n",
    "# training_df = pd.concat([minority_class, undersampled_majority]).sample(frac=1, random_state=42).reset_index(drop=True)\n",
    "\n",
    "# # Check new class distribution\n",
    "# print(\"New class distribution:\")\n",
    "# print(training_df['label'].value_counts())"
   ]
  },
  {
   "cell_type": "code",
   "execution_count": 5,
   "metadata": {},
   "outputs": [],
   "source": [
    "from sklearn.utils import resample\n",
    "import pandas as pd\n",
    "\n",
    "def oversample_minority(training_df, minority_label, majority_label, target_minority_ratio):\n",
    "    \"\"\"\n",
    "    Oversample the minority class to achieve a desired class ratio.\n",
    "\n",
    "    Parameters:\n",
    "        training_df (pd.DataFrame): The input training dataset containing a 'label' column.\n",
    "        minority_label (int): The label of the minority class (e.g., 1).\n",
    "        majority_label (int): The label of the majority class (e.g., 0).\n",
    "        target_minority_ratio (float): The desired ratio of the minority class (e.g., 0.18 for 18%).\n",
    "\n",
    "    Returns:\n",
    "        pd.DataFrame: The balanced dataset with oversampled minority class.\n",
    "    \"\"\"\n",
    "    # Separate majority and minority classes\n",
    "    minority_class = training_df[training_df['label'] == minority_label]\n",
    "    majority_class = training_df[training_df['label'] == majority_label]\n",
    "\n",
    "    # Calculate the target size for the minority class\n",
    "    target_minority_count = int(len(majority_class) * (target_minority_ratio / (1 - target_minority_ratio)))\n",
    "\n",
    "    # Debug information\n",
    "    print(f\"Minority samples: {len(minority_class)}, \"\n",
    "          f\"Target minority count: {target_minority_count}, \"\n",
    "          f\"Available majority samples: {len(majority_class)}\")\n",
    "\n",
    "    # Perform oversampling\n",
    "    oversampled_minority = resample(\n",
    "        minority_class,\n",
    "        replace=True,  # with replacement\n",
    "        n_samples=target_minority_count,\n",
    "        random_state=seed\n",
    "    )\n",
    "\n",
    "    # Combine the resampled minority class with the majority class\n",
    "    balanced_training_df = pd.concat([oversampled_minority, majority_class]).sample(frac=1, random_state=42).reset_index(drop=True)\n",
    "\n",
    "    # Check the new class distribution\n",
    "    print(\"New class distribution:\")\n",
    "    print(balanced_training_df['label'].value_counts())\n",
    "\n",
    "    return balanced_training_df"
   ]
  },
  {
   "cell_type": "code",
   "execution_count": 6,
   "metadata": {},
   "outputs": [],
   "source": [
    "train_df, validate_df = train_test_split(training_df, test_size=0.1, random_state=18)"
   ]
  },
  {
   "cell_type": "code",
   "execution_count": 22,
   "metadata": {},
   "outputs": [
    {
     "name": "stdout",
     "output_type": "stream",
     "text": [
      "Minority samples: 257, Target minority count: 1490, Available majority samples: 3478\n",
      "New class distribution:\n",
      "label\n",
      "0    3478\n",
      "1    1490\n",
      "Name: count, dtype: int64\n"
     ]
    }
   ],
   "source": [
    "# Assuming `training_df` is your dataset\n",
    "training_df = oversample_minority(\n",
    "    training_df=train_df,\n",
    "    minority_label=1,  # The label of the minority class\n",
    "    majority_label=0,  # The label of the majority class\n",
    "    target_minority_ratio=0.30  # Target ratio for the minority class\n",
    ")"
   ]
  },
  {
   "cell_type": "code",
   "execution_count": 9,
   "metadata": {},
   "outputs": [
    {
     "name": "stdout",
     "output_type": "stream",
     "text": [
      "Training dataset shape: (4151, 3) \n",
      "Test dataset shape: (462, 3)\n",
      "Positive labels present in the dataset : 724  out of 4151 or 17.441580342086244%\n",
      "Positive labels present in the test dataset : 81  out of 462 or 17.532467532467532%\n"
     ]
    },
    {
     "ename": "NameError",
     "evalue": "name 'validate_df' is not defined",
     "output_type": "error",
     "traceback": [
      "\u001b[0;31m---------------------------------------------------------------------------\u001b[0m",
      "\u001b[0;31mNameError\u001b[0m                                 Traceback (most recent call last)",
      "Cell \u001b[0;32mIn[9], line 6\u001b[0m\n\u001b[1;32m      4\u001b[0m pos_labels \u001b[38;5;241m=\u001b[39m \u001b[38;5;28mlen\u001b[39m([n \u001b[38;5;28;01mfor\u001b[39;00m n \u001b[38;5;129;01min\u001b[39;00m test_df[\u001b[38;5;124m'\u001b[39m\u001b[38;5;124mlabel\u001b[39m\u001b[38;5;124m'\u001b[39m] \u001b[38;5;28;01mif\u001b[39;00m n\u001b[38;5;241m==\u001b[39m\u001b[38;5;241m1\u001b[39m])\n\u001b[1;32m      5\u001b[0m \u001b[38;5;28mprint\u001b[39m(\u001b[38;5;124m\"\u001b[39m\u001b[38;5;124mPositive labels present in the test dataset : \u001b[39m\u001b[38;5;132;01m{}\u001b[39;00m\u001b[38;5;124m  out of \u001b[39m\u001b[38;5;132;01m{}\u001b[39;00m\u001b[38;5;124m or \u001b[39m\u001b[38;5;132;01m{}\u001b[39;00m\u001b[38;5;124m%\u001b[39m\u001b[38;5;124m\"\u001b[39m\u001b[38;5;241m.\u001b[39mformat(pos_labels, \u001b[38;5;28mlen\u001b[39m(test_df[\u001b[38;5;124m'\u001b[39m\u001b[38;5;124mlabel\u001b[39m\u001b[38;5;124m'\u001b[39m]), (pos_labels\u001b[38;5;241m/\u001b[39m\u001b[38;5;28mlen\u001b[39m(test_df[\u001b[38;5;124m'\u001b[39m\u001b[38;5;124mlabel\u001b[39m\u001b[38;5;124m'\u001b[39m]))\u001b[38;5;241m*\u001b[39m\u001b[38;5;241m100\u001b[39m))\n\u001b[0;32m----> 6\u001b[0m pos_labels \u001b[38;5;241m=\u001b[39m \u001b[38;5;28mlen\u001b[39m([n \u001b[38;5;28;01mfor\u001b[39;00m n \u001b[38;5;129;01min\u001b[39;00m \u001b[43mvalidate_df\u001b[49m[\u001b[38;5;124m'\u001b[39m\u001b[38;5;124mlabel\u001b[39m\u001b[38;5;124m'\u001b[39m] \u001b[38;5;28;01mif\u001b[39;00m n\u001b[38;5;241m==\u001b[39m\u001b[38;5;241m1\u001b[39m])\n\u001b[1;32m      7\u001b[0m \u001b[38;5;28mprint\u001b[39m(\u001b[38;5;124m\"\u001b[39m\u001b[38;5;124mPositive labels present in the validation dataset : \u001b[39m\u001b[38;5;132;01m{}\u001b[39;00m\u001b[38;5;124m  out of \u001b[39m\u001b[38;5;132;01m{}\u001b[39;00m\u001b[38;5;124m or \u001b[39m\u001b[38;5;132;01m{}\u001b[39;00m\u001b[38;5;124m%\u001b[39m\u001b[38;5;124m\"\u001b[39m\u001b[38;5;241m.\u001b[39mformat(pos_labels, \u001b[38;5;28mlen\u001b[39m(validate_df[\u001b[38;5;124m'\u001b[39m\u001b[38;5;124mlabel\u001b[39m\u001b[38;5;124m'\u001b[39m]), (pos_labels\u001b[38;5;241m/\u001b[39m\u001b[38;5;28mlen\u001b[39m(validate_df[\u001b[38;5;124m'\u001b[39m\u001b[38;5;124mlabel\u001b[39m\u001b[38;5;124m'\u001b[39m]))\u001b[38;5;241m*\u001b[39m\u001b[38;5;241m100\u001b[39m))\n",
      "\u001b[0;31mNameError\u001b[0m: name 'validate_df' is not defined"
     ]
    }
   ],
   "source": [
    "print(f\"Training dataset shape: {training_df.shape} \\nTest dataset shape: {test_df.shape}\")\n",
    "pos_labels = len([n for n in training_df['label'] if n==1])\n",
    "print(\"Positive labels present in the dataset : {}  out of {} or {}%\".format(pos_labels, len(training_df['label']), (pos_labels/len(training_df['label']))*100))\n",
    "pos_labels = len([n for n in test_df['label'] if n==1])\n",
    "print(\"Positive labels present in the test dataset : {}  out of {} or {}%\".format(pos_labels, len(test_df['label']), (pos_labels/len(test_df['label']))*100))\n",
    "pos_labels = len([n for n in validate_df['label'] if n==1])\n",
    "print(\"Positive labels present in the validation dataset : {}  out of {} or {}%\".format(pos_labels, len(validate_df['label']), (pos_labels/len(validate_df['label']))*100))"
   ]
  },
  {
   "cell_type": "code",
   "execution_count": 24,
   "metadata": {},
   "outputs": [
    {
     "name": "stdout",
     "output_type": "stream",
     "text": [
      "(4968, 3)\n",
      "(462, 3)\n"
     ]
    }
   ],
   "source": [
    "print(training_df.shape)\n",
    "print(test_df.shape)"
   ]
  },
  {
   "cell_type": "markdown",
   "metadata": {},
   "source": [
    "## 2. Experimental Design"
   ]
  },
  {
   "cell_type": "code",
   "execution_count": 25,
   "metadata": {},
   "outputs": [
    {
     "data": {
      "text/html": [
       "<div>\n",
       "<style scoped>\n",
       "    .dataframe tbody tr th:only-of-type {\n",
       "        vertical-align: middle;\n",
       "    }\n",
       "\n",
       "    .dataframe tbody tr th {\n",
       "        vertical-align: top;\n",
       "    }\n",
       "\n",
       "    .dataframe thead th {\n",
       "        text-align: right;\n",
       "    }\n",
       "</style>\n",
       "<table border=\"1\" class=\"dataframe\">\n",
       "  <thead>\n",
       "    <tr style=\"text-align: right;\">\n",
       "      <th></th>\n",
       "      <th>sentence</th>\n",
       "      <th>label</th>\n",
       "      <th>phrase</th>\n",
       "    </tr>\n",
       "  </thead>\n",
       "  <tbody>\n",
       "    <tr>\n",
       "      <th>1486</th>\n",
       "      <td>i want to at least help animals, such as my bird and reptiles that need care, as there are not that many exotic vets, only primarily those who focus on cats and dogs.</td>\n",
       "      <td>0</td>\n",
       "      <td>['I know I want to become an exotic Veterinarian, but I feel like I am not smart enough to get into Vet School. I want to at least help animals, such as my bird and reptiles that need care, as there are not that many exotic vets, only primarily those who focus on cats and dogs. If that is the path I eventually do not take, I am very interested in virology and would like to study them. Maybe that is why I am here, to at least provide a slight change to science, although it may not be a big one at least it is something I can contribute to the world.']</td>\n",
       "    </tr>\n",
       "    <tr>\n",
       "      <th>2888</th>\n",
       "      <td>as i mentioned earlier im here because i need to take physics in as a course for my kinesiology degree.</td>\n",
       "      <td>0</td>\n",
       "      <td>['As I mentioned earlier Im here because I need to take physics in as a course for my Kinesiology degree. Another reason why I feel like Im here is to further my education and career . To keep striving at being a better person each and every day .']</td>\n",
       "    </tr>\n",
       "    <tr>\n",
       "      <th>4042</th>\n",
       "      <td>it's funny because ive never been happier than i ever been because of everything ive been doing lately.</td>\n",
       "      <td>0</td>\n",
       "      <td>['The only way that Im able to create a better future for my community is by getting a PhD']</td>\n",
       "    </tr>\n",
       "    <tr>\n",
       "      <th>2915</th>\n",
       "      <td>science has always intrigued me, but i feel like the schooling system of stem classes kind of makes it harder for me to enjoy.</td>\n",
       "      <td>0</td>\n",
       "      <td>[\"In the context of school, is I am here for the reason I'm on the path to become a doctor.\"]</td>\n",
       "    </tr>\n",
       "    <tr>\n",
       "      <th>4081</th>\n",
       "      <td>while in high school i was deciding between 3 school, but ultimately picked here.</td>\n",
       "      <td>0</td>\n",
       "      <td>['I also wanted to go into civil engineer, and this was the only school with it, the others had mechanical but not civil. As to why I am currently here in this moment in time of writing this essay thing, I am a third year trying to become a civil engineer.']</td>\n",
       "    </tr>\n",
       "    <tr>\n",
       "      <th>...</th>\n",
       "      <td>...</td>\n",
       "      <td>...</td>\n",
       "      <td>...</td>\n",
       "    </tr>\n",
       "    <tr>\n",
       "      <th>2402</th>\n",
       "      <td>point and case, my cat sitting on my printer glaring at me because he wants something from me.</td>\n",
       "      <td>0</td>\n",
       "      <td>['This could help me simply better understand every day experiences but ultimately will help me in my future career as a physical therapist. Im at SFSU because I want a degree.. I want a degree in kinesiology because I want to pursue becoming a physical therapist.']</td>\n",
       "    </tr>\n",
       "    <tr>\n",
       "      <th>1107</th>\n",
       "      <td>this class is also along side a lecture, which has been able to help me better understand concepts by doing experiments.</td>\n",
       "      <td>0</td>\n",
       "      <td>['By the end of this class, I hope to have a better understanding of what physics is and that it will help me when I take my MCAT and enter medical school in the next couple of years after I graduate with my fouryear degree at San Francisco State.']</td>\n",
       "    </tr>\n",
       "    <tr>\n",
       "      <th>1308</th>\n",
       "      <td>i am part of the first generation in my family to go to college and hopefully get a degree and i am trying to make my parents proud but also learn things for myself and get a career that will give me financial stability and also a career where i will help tons of people.</td>\n",
       "      <td>0</td>\n",
       "      <td>['Why am I here, I am here because I want to become a doctor and go onto medical school. I am here to hopefully pass this class and come out with a good grade and complete the requirement in my major. I am here to get a degree to go on and become a doctor which is what I am studying for. I am part of the first generation in my family to go to college and hopefully get a degree and I am trying to make my parents proud but also learn things for myself and get a career that will give me financial stability and also a career where I will help tons of people.']</td>\n",
       "    </tr>\n",
       "    <tr>\n",
       "      <th>3843</th>\n",
       "      <td>it may be helpful as future reference when there might be a situation or problem i may encounter in my life since some of the analysis and theories are relatable to use.</td>\n",
       "      <td>0</td>\n",
       "      <td>['I chose to be in this class because it is a requirement to fulfill in order for me to obtain my Cell and Molecular Biology bachelors degree.']</td>\n",
       "    </tr>\n",
       "    <tr>\n",
       "      <th>2748</th>\n",
       "      <td>i am here at san francisco state university because i wanted to be able to be far from home, but not too far.</td>\n",
       "      <td>0</td>\n",
       "      <td>['I am in college specifically to pursue my one and only career which is to be a veterinarian.']</td>\n",
       "    </tr>\n",
       "  </tbody>\n",
       "</table>\n",
       "<p>416 rows × 3 columns</p>\n",
       "</div>"
      ],
      "text/plain": [
       "                                                                                                                                                                                                                                                                             sentence  \\\n",
       "1486                                                                                                           i want to at least help animals, such as my bird and reptiles that need care, as there are not that many exotic vets, only primarily those who focus on cats and dogs.   \n",
       "2888                                                                                                                                                                          as i mentioned earlier im here because i need to take physics in as a course for my kinesiology degree.   \n",
       "4042                                                                                                                                                                          it's funny because ive never been happier than i ever been because of everything ive been doing lately.   \n",
       "2915                                                                                                                                                   science has always intrigued me, but i feel like the schooling system of stem classes kind of makes it harder for me to enjoy.   \n",
       "4081                                                                                                                                                                                                while in high school i was deciding between 3 school, but ultimately picked here.   \n",
       "...                                                                                                                                                                                                                                                                               ...   \n",
       "2402                                                                                                                                                                                   point and case, my cat sitting on my printer glaring at me because he wants something from me.   \n",
       "1107                                                                                                                                                         this class is also along side a lecture, which has been able to help me better understand concepts by doing experiments.   \n",
       "1308  i am part of the first generation in my family to go to college and hopefully get a degree and i am trying to make my parents proud but also learn things for myself and get a career that will give me financial stability and also a career where i will help tons of people.   \n",
       "3843                                                                                                        it may be helpful as future reference when there might be a situation or problem i may encounter in my life since some of the analysis and theories are relatable to use.   \n",
       "2748                                                                                                                                                                    i am here at san francisco state university because i wanted to be able to be far from home, but not too far.   \n",
       "\n",
       "      label  \\\n",
       "1486      0   \n",
       "2888      0   \n",
       "4042      0   \n",
       "2915      0   \n",
       "4081      0   \n",
       "...     ...   \n",
       "2402      0   \n",
       "1107      0   \n",
       "1308      0   \n",
       "3843      0   \n",
       "2748      0   \n",
       "\n",
       "                                                                                                                                                                                                                                                                                                                                                                                                                                                                                                                                                                                  phrase  \n",
       "1486         ['I know I want to become an exotic Veterinarian, but I feel like I am not smart enough to get into Vet School. I want to at least help animals, such as my bird and reptiles that need care, as there are not that many exotic vets, only primarily those who focus on cats and dogs. If that is the path I eventually do not take, I am very interested in virology and would like to study them. Maybe that is why I am here, to at least provide a slight change to science, although it may not be a big one at least it is something I can contribute to the world.']  \n",
       "2888                                                                                                                                                                                                                                                                                                                           ['As I mentioned earlier Im here because I need to take physics in as a course for my Kinesiology degree. Another reason why I feel like Im here is to further my education and career . To keep striving at being a better person each and every day .']  \n",
       "4042                                                                                                                                                                                                                                                                                                                                                                                                                                                                                        ['The only way that Im able to create a better future for my community is by getting a PhD']  \n",
       "2915                                                                                                                                                                                                                                                                                                                                                                                                                                                                                       [\"In the context of school, is I am here for the reason I'm on the path to become a doctor.\"]  \n",
       "4081                                                                                                                                                                                                                                                                                                                  ['I also wanted to go into civil engineer, and this was the only school with it, the others had mechanical but not civil. As to why I am currently here in this moment in time of writing this essay thing, I am a third year trying to become a civil engineer.']  \n",
       "...                                                                                                                                                                                                                                                                                                                                                                                                                                                                                                                                                                                  ...  \n",
       "2402                                                                                                                                                                                                                                                                                                          ['This could help me simply better understand every day experiences but ultimately will help me in my future career as a physical therapist. Im at SFSU because I want a degree.. I want a degree in kinesiology because I want to pursue becoming a physical therapist.']  \n",
       "1107                                                                                                                                                                                                                                                                                                                           ['By the end of this class, I hope to have a better understanding of what physics is and that it will help me when I take my MCAT and enter medical school in the next couple of years after I graduate with my fouryear degree at San Francisco State.']  \n",
       "1308  ['Why am I here, I am here because I want to become a doctor and go onto medical school. I am here to hopefully pass this class and come out with a good grade and complete the requirement in my major. I am here to get a degree to go on and become a doctor which is what I am studying for. I am part of the first generation in my family to go to college and hopefully get a degree and I am trying to make my parents proud but also learn things for myself and get a career that will give me financial stability and also a career where I will help tons of people.']  \n",
       "3843                                                                                                                                                                                                                                                                                                                                                                                                                                    ['I chose to be in this class because it is a requirement to fulfill in order for me to obtain my Cell and Molecular Biology bachelors degree.']  \n",
       "2748                                                                                                                                                                                                                                                                                                                                                                                                                                                                                    ['I am in college specifically to pursue my one and only career which is to be a veterinarian.']  \n",
       "\n",
       "[416 rows x 3 columns]"
      ]
     },
     "execution_count": 25,
     "metadata": {},
     "output_type": "execute_result"
    }
   ],
   "source": [
    "validate_df"
   ]
  },
  {
   "cell_type": "code",
   "execution_count": 122,
   "metadata": {},
   "outputs": [],
   "source": []
  },
  {
   "cell_type": "code",
   "execution_count": null,
   "metadata": {},
   "outputs": [],
   "source": []
  },
  {
   "cell_type": "code",
   "execution_count": 124,
   "metadata": {},
   "outputs": [],
   "source": []
  },
  {
   "cell_type": "code",
   "execution_count": 26,
   "metadata": {},
   "outputs": [
    {
     "name": "stdout",
     "output_type": "stream",
     "text": [
      "preprocessing train...\n",
      "language: en\n",
      "train sequence lengths:\n",
      "\tmean : 22\n",
      "\t95percentile : 41\n",
      "\t99percentile : 60\n"
     ]
    },
    {
     "data": {
      "text/html": [
       "\n",
       "<style>\n",
       "    /* Turns off some styling */\n",
       "    progress {\n",
       "        /* gets rid of default border in Firefox and Opera. */\n",
       "        border: none;\n",
       "        /* Needs to be in here for Safari polyfill so background images work as expected. */\n",
       "        background-size: auto;\n",
       "    }\n",
       "    progress:not([value]), progress:not([value])::-webkit-progress-bar {\n",
       "        background: repeating-linear-gradient(45deg, #7e7e7e, #7e7e7e 10px, #5c5c5c 10px, #5c5c5c 20px);\n",
       "    }\n",
       "    .progress-bar-interrupted, .progress-bar-interrupted::-webkit-progress-bar {\n",
       "        background: #F44336;\n",
       "    }\n",
       "</style>\n"
      ],
      "text/plain": [
       "<IPython.core.display.HTML object>"
      ]
     },
     "metadata": {},
     "output_type": "display_data"
    },
    {
     "data": {
      "text/html": [],
      "text/plain": [
       "<IPython.core.display.HTML object>"
      ]
     },
     "metadata": {},
     "output_type": "display_data"
    },
    {
     "name": "stdout",
     "output_type": "stream",
     "text": [
      "Is Multi-Label? False\n",
      "preprocessing test...\n",
      "language: en\n",
      "test sequence lengths:\n",
      "\tmean : 22\n",
      "\t95percentile : 39\n",
      "\t99percentile : 58\n"
     ]
    },
    {
     "data": {
      "text/html": [
       "\n",
       "<style>\n",
       "    /* Turns off some styling */\n",
       "    progress {\n",
       "        /* gets rid of default border in Firefox and Opera. */\n",
       "        border: none;\n",
       "        /* Needs to be in here for Safari polyfill so background images work as expected. */\n",
       "        background-size: auto;\n",
       "    }\n",
       "    progress:not([value]), progress:not([value])::-webkit-progress-bar {\n",
       "        background: repeating-linear-gradient(45deg, #7e7e7e, #7e7e7e 10px, #5c5c5c 10px, #5c5c5c 20px);\n",
       "    }\n",
       "    .progress-bar-interrupted, .progress-bar-interrupted::-webkit-progress-bar {\n",
       "        background: #F44336;\n",
       "    }\n",
       "</style>\n"
      ],
      "text/plain": [
       "<IPython.core.display.HTML object>"
      ]
     },
     "metadata": {},
     "output_type": "display_data"
    },
    {
     "data": {
      "text/html": [],
      "text/plain": [
       "<IPython.core.display.HTML object>"
      ]
     },
     "metadata": {},
     "output_type": "display_data"
    }
   ],
   "source": [
    "# MAXLEN = 256\n",
    "\n",
    "# X_train = training_df['sentence']\n",
    "# y_train = training_df['label']\n",
    "# X_test = validate_df['sentence']\n",
    "# y_test = validate_df['label']\n",
    "# # Split the data\n",
    "# # X_train, X_test, y_train, y_test = train_test_split(X, y, test_size = 0.1, random_state = 18, stratify=y)\n",
    "# # X_test.shape\n",
    "\n",
    "# model_name = 'bert-base-uncased'\n",
    "\n",
    "# distillbert_transformer = text.Transformer(model_name, maxlen=MAXLEN, class_names=[0,1])\n",
    "# training_set = distillbert_transformer.preprocess_train(X_train.tolist(), y_train.tolist())\n",
    "# validation_set = distillbert_transformer.preprocess_test(X_test.tolist(), y_test.tolist())\n",
    "# distillbert_base_model = distillbert_transformer.get_classifier()"
   ]
  },
  {
   "cell_type": "code",
   "execution_count": 6,
   "metadata": {},
   "outputs": [
    {
     "name": "stdout",
     "output_type": "stream",
     "text": [
      "Metal device set to: Apple M2 Pro\n",
      "\n",
      "systemMemory: 16.00 GB\n",
      "maxCacheSize: 5.33 GB\n",
      "\n",
      "preprocessing train...\n",
      "language: en\n",
      "train sequence lengths:\n",
      "\tmean : 21\n",
      "\t95percentile : 39\n",
      "\t99percentile : 55\n"
     ]
    },
    {
     "data": {
      "text/html": [
       "\n",
       "<style>\n",
       "    /* Turns off some styling */\n",
       "    progress {\n",
       "        /* gets rid of default border in Firefox and Opera. */\n",
       "        border: none;\n",
       "        /* Needs to be in here for Safari polyfill so background images work as expected. */\n",
       "        background-size: auto;\n",
       "    }\n",
       "    progress:not([value]), progress:not([value])::-webkit-progress-bar {\n",
       "        background: repeating-linear-gradient(45deg, #7e7e7e, #7e7e7e 10px, #5c5c5c 10px, #5c5c5c 20px);\n",
       "    }\n",
       "    .progress-bar-interrupted, .progress-bar-interrupted::-webkit-progress-bar {\n",
       "        background: #F44336;\n",
       "    }\n",
       "</style>\n"
      ],
      "text/plain": [
       "<IPython.core.display.HTML object>"
      ]
     },
     "metadata": {},
     "output_type": "display_data"
    },
    {
     "data": {
      "text/html": [],
      "text/plain": [
       "<IPython.core.display.HTML object>"
      ]
     },
     "metadata": {},
     "output_type": "display_data"
    },
    {
     "name": "stdout",
     "output_type": "stream",
     "text": [
      "Is Multi-Label? False\n",
      "preprocessing test...\n",
      "language: en\n",
      "test sequence lengths:\n",
      "\tmean : 21\n",
      "\t95percentile : 41\n",
      "\t99percentile : 61\n"
     ]
    },
    {
     "data": {
      "text/html": [
       "\n",
       "<style>\n",
       "    /* Turns off some styling */\n",
       "    progress {\n",
       "        /* gets rid of default border in Firefox and Opera. */\n",
       "        border: none;\n",
       "        /* Needs to be in here for Safari polyfill so background images work as expected. */\n",
       "        background-size: auto;\n",
       "    }\n",
       "    progress:not([value]), progress:not([value])::-webkit-progress-bar {\n",
       "        background: repeating-linear-gradient(45deg, #7e7e7e, #7e7e7e 10px, #5c5c5c 10px, #5c5c5c 20px);\n",
       "    }\n",
       "    .progress-bar-interrupted, .progress-bar-interrupted::-webkit-progress-bar {\n",
       "        background: #F44336;\n",
       "    }\n",
       "</style>\n"
      ],
      "text/plain": [
       "<IPython.core.display.HTML object>"
      ]
     },
     "metadata": {},
     "output_type": "display_data"
    },
    {
     "data": {
      "text/html": [],
      "text/plain": [
       "<IPython.core.display.HTML object>"
      ]
     },
     "metadata": {},
     "output_type": "display_data"
    }
   ],
   "source": [
    "MAXLEN = 150\n",
    "\n",
    "X = training_df['sentence']\n",
    "y = training_df['label']\n",
    "\n",
    "# Split the data\n",
    "X_train, X_test, y_train, y_test = train_test_split(X, y, test_size = 0.1, random_state = 18, stratify=y)\n",
    "\n",
    "\n",
    "model_name = 'bert-base-uncased'\n",
    "\n",
    "distillbert_transformer = text.Transformer(model_name, maxlen=MAXLEN, class_names=[0,1])\n",
    "training_set = distillbert_transformer.preprocess_train(X_train.tolist(), y_train.tolist())\n",
    "validation_set = distillbert_transformer.preprocess_test(X_test.tolist(), y_test.tolist())\n",
    "distillbert_base_model = distillbert_transformer.get_classifier()"
   ]
  },
  {
   "cell_type": "code",
   "execution_count": 7,
   "metadata": {},
   "outputs": [
    {
     "name": "stdout",
     "output_type": "stream",
     "text": [
      "[0.59887037 3.02856335]\n"
     ]
    }
   ],
   "source": [
    "from sklearn.utils.class_weight import compute_class_weight\n",
    "import numpy as np\n",
    "\n",
    "# Define classes and class labels\n",
    "classes = np.array([0, 1])\n",
    "class_labels = list(training_df.label)\n",
    "\n",
    "# Compute class weights\n",
    "\n",
    "class_weights = compute_class_weight(class_weight='balanced', classes=classes, y=class_labels)\n",
    "\n",
    "# Print class weights\n",
    "print(class_weights)\n",
    "\n",
    "class_weights = dict(zip(classes, class_weights))"
   ]
  },
  {
   "cell_type": "code",
   "execution_count": null,
   "metadata": {},
   "outputs": [
    {
     "name": "stdout",
     "output_type": "stream",
     "text": [
      "\n",
      "\n",
      "begin training using triangular learning rate policy with max lr of 3.328132762062889e-05...\n",
      "Epoch 1/12\n",
      "1607/1607 [==============================] - 514s 310ms/step - loss: 0.4147 - accuracy: 0.8044 - val_loss: 0.3765 - val_accuracy: 0.8291\n",
      "Epoch 2/12\n",
      "1607/1607 [==============================] - 492s 306ms/step - loss: 0.2832 - accuracy: 0.8535 - val_loss: 0.3550 - val_accuracy: 0.8291\n",
      "Epoch 3/12\n",
      "1607/1607 [==============================] - 492s 306ms/step - loss: 0.2767 - accuracy: 0.8503 - val_loss: 0.3648 - val_accuracy: 0.8291\n",
      "Epoch 4/12\n",
      "1607/1607 [==============================] - 493s 306ms/step - loss: 0.2491 - accuracy: 0.8648 - val_loss: 0.3255 - val_accuracy: 0.8506\n",
      "Epoch 5/12\n",
      "1607/1607 [==============================] - 488s 303ms/step - loss: 0.2366 - accuracy: 0.8752 - val_loss: 0.3364 - val_accuracy: 0.8571\n",
      "Epoch 6/12\n",
      "1607/1607 [==============================] - 493s 307ms/step - loss: 0.2541 - accuracy: 0.8703 - val_loss: 0.3476 - val_accuracy: 0.8450\n",
      "Epoch 7/12\n",
      " 303/1607 [====>.........................] - ETA: 6:48 - loss: 0.2213 - accuracy: 0.8839"
     ]
    }
   ],
   "source": [
    "# Build BERT model\n",
    "distillbert_learner = ktrain.get_learner(distillbert_base_model, train_data=training_set, val_data=validation_set, batch_size=6)\n",
    "distillbert_learner.set_weight_decay(0.001)\n",
    "distillbert_learner.autofit(3.328132762062889e-05, epochs=12, early_stopping=4, class_weight=class_weights)"
   ]
  },
  {
   "cell_type": "code",
   "execution_count": 13,
   "metadata": {},
   "outputs": [
    {
     "name": "stdout",
     "output_type": "stream",
     "text": [
      "13/13 [==============================] - 9s 360ms/step\n",
      "              precision    recall  f1-score   support\n",
      "\n",
      "           0       0.97      0.92      0.94       343\n",
      "           1       0.69      0.88      0.77        73\n",
      "\n",
      "    accuracy                           0.91       416\n",
      "   macro avg       0.83      0.90      0.86       416\n",
      "weighted avg       0.92      0.91      0.91       416\n",
      "\n"
     ]
    },
    {
     "data": {
      "text/plain": [
       "array([[314,  29],\n",
       "       [  9,  64]])"
      ]
     },
     "execution_count": 13,
     "metadata": {},
     "output_type": "execute_result"
    }
   ],
   "source": [
    "distillbert_learner.validate(class_names=distillbert_transformer.get_classes())"
   ]
  },
  {
   "cell_type": "code",
   "execution_count": 14,
   "metadata": {},
   "outputs": [
    {
     "name": "stdout",
     "output_type": "stream",
     "text": [
      "Model: \"tf_bert_for_sequence_classification_1\"\n",
      "_________________________________________________________________\n",
      " Layer (type)                Output Shape              Param #   \n",
      "=================================================================\n",
      " bert (TFBertMainLayer)      multiple                  109482240 \n",
      "                                                                 \n",
      " dropout_75 (Dropout)        multiple                  0         \n",
      "                                                                 \n",
      " classifier (Dense)          multiple                  1538      \n",
      "                                                                 \n",
      "=================================================================\n",
      "Total params: 109483778 (417.65 MB)\n",
      "Trainable params: 109483778 (417.65 MB)\n",
      "Non-trainable params: 0 (0.00 Byte)\n",
      "_________________________________________________________________\n"
     ]
    }
   ],
   "source": [
    "distillbert_learner.model.summary()"
   ]
  },
  {
   "cell_type": "code",
   "execution_count": 15,
   "metadata": {},
   "outputs": [],
   "source": [
    "distillbert_predictor = ktrain.get_predictor(distillbert_learner.model, preproc=distillbert_transformer)"
   ]
  },
  {
   "cell_type": "code",
   "execution_count": 16,
   "metadata": {},
   "outputs": [],
   "source": [
    "distillbert_test_data = test_df['sentence'].tolist()\n",
    "distillbert_test_label = test_df['label'].tolist()"
   ]
  },
  {
   "cell_type": "code",
   "execution_count": 17,
   "metadata": {},
   "outputs": [],
   "source": [
    "y_pred_distillbert = distillbert_predictor.predict(distillbert_test_data)"
   ]
  },
  {
   "cell_type": "code",
   "execution_count": 18,
   "metadata": {},
   "outputs": [],
   "source": [
    "y_pred_distillbert = [int(x) for x in y_pred_distillbert]"
   ]
  },
  {
   "cell_type": "code",
   "execution_count": 19,
   "metadata": {},
   "outputs": [
    {
     "name": "stdout",
     "output_type": "stream",
     "text": [
      "True Negative: 352, False Positive: 29, False Negative: 2, True Positive: 79\n"
     ]
    }
   ],
   "source": [
    "tn, fp, fn, tp = confusion_matrix(distillbert_test_label, y_pred_distillbert).ravel()\n",
    "print('True Negative: {}, False Positive: {}, False Negative: {}, True Positive: {}'.format(tn, fp, fn, tp))"
   ]
  },
  {
   "cell_type": "code",
   "execution_count": 20,
   "metadata": {},
   "outputs": [
    {
     "name": "stdout",
     "output_type": "stream",
     "text": [
      "  Classification Report:\n",
      "               precision    recall  f1-score   support\n",
      "\n",
      "           0       0.99      0.92      0.96       381\n",
      "           1       0.73      0.98      0.84        81\n",
      "\n",
      "    accuracy                           0.93       462\n",
      "   macro avg       0.86      0.95      0.90       462\n",
      "weighted avg       0.95      0.93      0.94       462\n",
      " \n",
      "\n"
     ]
    }
   ],
   "source": [
    "print('  Classification Report:\\n',classification_report(distillbert_test_label,y_pred_distillbert),'\\n')"
   ]
  },
  {
   "cell_type": "code",
   "execution_count": 24,
   "metadata": {},
   "outputs": [],
   "source": [
    "# distillbert_predictor.save('../../model/first_generation_distilbert_base_uncased_model_10102020') # 256 MB"
   ]
  },
  {
   "cell_type": "code",
   "execution_count": 21,
   "metadata": {},
   "outputs": [
    {
     "name": "stdout",
     "output_type": "stream",
     "text": [
      "AUC roc score for distillbert model:  0.6427102188579892\n"
     ]
    }
   ],
   "source": [
    "print(\"AUC roc score for distillbert model: \", roc_auc_score(distillbert_test_label,y_pred_distillbert))"
   ]
  },
  {
   "cell_type": "code",
   "execution_count": null,
   "metadata": {},
   "outputs": [],
   "source": []
  }
 ],
 "metadata": {
  "kernelspec": {
   "display_name": "ml_env",
   "language": "python",
   "name": "python3"
  },
  "language_info": {
   "codemirror_mode": {
    "name": "ipython",
    "version": 3
   },
   "file_extension": ".py",
   "mimetype": "text/x-python",
   "name": "python",
   "nbconvert_exporter": "python",
   "pygments_lexer": "ipython3",
   "version": "3.8.17"
  }
 },
 "nbformat": 4,
 "nbformat_minor": 4
}
