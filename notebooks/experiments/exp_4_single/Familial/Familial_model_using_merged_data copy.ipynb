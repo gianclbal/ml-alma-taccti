{
 "cells": [
  {
   "cell_type": "markdown",
   "metadata": {},
   "source": [
    "# Familial DistilBERT Model Using Single Batch 1 + Batch 2"
   ]
  },
  {
   "cell_type": "code",
   "execution_count": 5,
   "metadata": {},
   "outputs": [],
   "source": [
    "import ktrain\n",
    "import pandas as pd\n",
    "import numpy as np\n",
    "from sklearn.model_selection import train_test_split\n",
    "from sklearn.metrics import confusion_matrix\n",
    "from sklearn.metrics import classification_report\n",
    "from sklearn.metrics import roc_auc_score\n",
    "from ktrain import text\n",
    "import random\n",
    "import warnings\n",
    "from sklearn.utils import shuffle\n",
    "\n",
    "# Set random seed\n",
    "random.seed(18)\n",
    "seed = 18\n",
    "\n",
    "# Ignore warnings\n",
    "warnings.filterwarnings('ignore')\n",
    "\n",
    "# Display options\n",
    "pd.set_option('display.max_colwidth', None)"
   ]
  },
  {
   "cell_type": "markdown",
   "metadata": {},
   "source": [
    "## 1. Loading the data and quick exploratory data analysis"
   ]
  },
  {
   "cell_type": "code",
   "execution_count": null,
   "metadata": {},
   "outputs": [],
   "source": [
    "# import os\n",
    "\n",
    "# # Define the folder path and themes\n",
    "# folder_path = '/Users/gbaldonado/Developer/ml-alma-taccti/ml-alma-taccti/data/processed_for_model/single_theme_using_jaccard_method'\n",
    "# themes = [\n",
    "#     'Aspirational', 'Attainment', 'Community Consciousness', 'Familial', 'Filial Piety', \n",
    "#     'First Gen', 'Navigational', 'Perseverance', 'Resistance', 'Social', 'Spiritual'\n",
    "# ]\n",
    "\n",
    "# # Initialize an empty dictionary to store DataFrames\n",
    "# batch_1_theme_dataframes = {}\n",
    "# # Loop through each theme and load its corresponding file\n",
    "# for theme in themes:\n",
    "#     # Construct the filename without modifying the theme name\n",
    "#     file_name = f\"{theme}_sentence_level_batch_1_jaccard.csv\"\n",
    "#     file_path = os.path.join(folder_path, file_name)\n",
    "    \n",
    "#     # Check if the file exists before attempting to load\n",
    "#     if os.path.exists(file_path):\n",
    "#         batch_1_theme_dataframes[theme] = pd.read_csv(file_path)\n",
    "#         print(f\"Loaded {file_name}\")\n",
    "#     else:\n",
    "#         print(f\"File not found for theme: {theme}\")\n",
    "\n",
    "# # Define the folder path and themes\n",
    "# folder_path = '/Users/gbaldonado/Developer/ml-alma-taccti/ml-alma-taccti/data/processed_for_model/single_theme_using_jaccard_method/batch_2'\n",
    "# themes = [\n",
    "#     'Aspirational', 'Attainment', 'Community Consciouss', 'Familial', 'Filial Piety', \n",
    "#     'First Generation', 'Navigational', 'Perseverance', 'Resistance', 'Social', 'Spiritual'\n",
    "# ]\n",
    "\n",
    "# # Initialize an empty dictionary to store DataFrames\n",
    "# batch_2_theme_dataframes = {}\n",
    "# # Loop through each theme and load its corresponding file\n",
    "# for theme in themes:\n",
    "#     # Construct the filename without modifying the theme name\n",
    "#     file_name = f\"{theme}_sentence_level_batch_2_jaccard.csv\"\n",
    "#     file_path = os.path.join(folder_path, file_name)\n",
    "    \n",
    "#     # Check if the file exists before attempting to load\n",
    "#     if os.path.exists(file_path):\n",
    "#         batch_2_theme_dataframes[theme] = pd.read_csv(file_path)\n",
    "#         print(f\"Loaded {file_name}\")\n",
    "#     else:\n",
    "#         print(f\"File not found for theme: {theme}\")"
   ]
  },
  {
   "cell_type": "code",
   "execution_count": 29,
   "metadata": {},
   "outputs": [],
   "source": [
    "\n",
    "merged_familial_df = pd.read_csv(\"/Users/gbaldonado/Developer/ml-alma-taccti/ml-alma-taccti/data/processed_for_model/corrections/Familial/Familial_Merged_evaluated.csv\")\n",
    "\n"
   ]
  },
  {
   "cell_type": "markdown",
   "metadata": {},
   "source": []
  },
  {
   "cell_type": "code",
   "execution_count": 30,
   "metadata": {},
   "outputs": [],
   "source": [
    "\n",
    "# # Train-test split\n",
    "training_df, test_df = train_test_split(merged_familial_df, test_size=0.1, random_state=18, stratify=merged_familial_df['label'])"
   ]
  },
  {
   "cell_type": "code",
   "execution_count": 31,
   "metadata": {},
   "outputs": [
    {
     "name": "stdout",
     "output_type": "stream",
     "text": [
      "Training dataset shape: (1899, 3) \n",
      "Test dataset shape: (211, 3)\n",
      "Positive labels present in the dataset : 391  out of 1899 or 20.5897840968931%\n",
      "Positive labels present in the test dataset : 43  out of 211 or 20.379146919431278%\n"
     ]
    }
   ],
   "source": [
    "print(f\"Training dataset shape: {training_df.shape} \\nTest dataset shape: {test_df.shape}\")\n",
    "pos_labels = len([n for n in training_df['label'] if n==1])\n",
    "print(\"Positive labels present in the dataset : {}  out of {} or {}%\".format(pos_labels, len(training_df['label']), (pos_labels/len(training_df['label']))*100))\n",
    "pos_labels = len([n for n in test_df['label'] if n==1])\n",
    "print(\"Positive labels present in the test dataset : {}  out of {} or {}%\".format(pos_labels, len(test_df['label']), (pos_labels/len(test_df['label']))*100))"
   ]
  },
  {
   "cell_type": "markdown",
   "metadata": {},
   "source": [
    "## 2. Experimental Design"
   ]
  },
  {
   "cell_type": "code",
   "execution_count": 26,
   "metadata": {},
   "outputs": [
    {
     "name": "stdout",
     "output_type": "stream",
     "text": [
      "preprocessing train...\n",
      "language: en\n",
      "train sequence lengths:\n",
      "\tmean : 22\n",
      "\t95percentile : 41\n",
      "\t99percentile : 60\n"
     ]
    },
    {
     "data": {
      "text/html": [
       "\n",
       "<style>\n",
       "    /* Turns off some styling */\n",
       "    progress {\n",
       "        /* gets rid of default border in Firefox and Opera. */\n",
       "        border: none;\n",
       "        /* Needs to be in here for Safari polyfill so background images work as expected. */\n",
       "        background-size: auto;\n",
       "    }\n",
       "    progress:not([value]), progress:not([value])::-webkit-progress-bar {\n",
       "        background: repeating-linear-gradient(45deg, #7e7e7e, #7e7e7e 10px, #5c5c5c 10px, #5c5c5c 20px);\n",
       "    }\n",
       "    .progress-bar-interrupted, .progress-bar-interrupted::-webkit-progress-bar {\n",
       "        background: #F44336;\n",
       "    }\n",
       "</style>\n"
      ],
      "text/plain": [
       "<IPython.core.display.HTML object>"
      ]
     },
     "metadata": {},
     "output_type": "display_data"
    },
    {
     "data": {
      "text/html": [],
      "text/plain": [
       "<IPython.core.display.HTML object>"
      ]
     },
     "metadata": {},
     "output_type": "display_data"
    },
    {
     "name": "stdout",
     "output_type": "stream",
     "text": [
      "Is Multi-Label? False\n",
      "preprocessing test...\n",
      "language: en\n",
      "test sequence lengths:\n",
      "\tmean : 22\n",
      "\t95percentile : 39\n",
      "\t99percentile : 58\n"
     ]
    },
    {
     "data": {
      "text/html": [
       "\n",
       "<style>\n",
       "    /* Turns off some styling */\n",
       "    progress {\n",
       "        /* gets rid of default border in Firefox and Opera. */\n",
       "        border: none;\n",
       "        /* Needs to be in here for Safari polyfill so background images work as expected. */\n",
       "        background-size: auto;\n",
       "    }\n",
       "    progress:not([value]), progress:not([value])::-webkit-progress-bar {\n",
       "        background: repeating-linear-gradient(45deg, #7e7e7e, #7e7e7e 10px, #5c5c5c 10px, #5c5c5c 20px);\n",
       "    }\n",
       "    .progress-bar-interrupted, .progress-bar-interrupted::-webkit-progress-bar {\n",
       "        background: #F44336;\n",
       "    }\n",
       "</style>\n"
      ],
      "text/plain": [
       "<IPython.core.display.HTML object>"
      ]
     },
     "metadata": {},
     "output_type": "display_data"
    },
    {
     "data": {
      "text/html": [],
      "text/plain": [
       "<IPython.core.display.HTML object>"
      ]
     },
     "metadata": {},
     "output_type": "display_data"
    }
   ],
   "source": [
    "# MAXLEN = 256\n",
    "\n",
    "# X_train = training_df['sentence']\n",
    "# y_train = training_df['label']\n",
    "# X_test = validate_df['sentence']\n",
    "# y_test = validate_df['label']\n",
    "# # Split the data\n",
    "# # X_train, X_test, y_train, y_test = train_test_split(X, y, test_size = 0.1, random_state = 18, stratify=y)\n",
    "# # X_test.shape\n",
    "\n",
    "# model_name = 'bert-base-uncased'\n",
    "\n",
    "# distillbert_transformer = text.Transformer(model_name, maxlen=MAXLEN, class_names=[0,1])\n",
    "# training_set = distillbert_transformer.preprocess_train(X_train.tolist(), y_train.tolist())\n",
    "# validation_set = distillbert_transformer.preprocess_test(X_test.tolist(), y_test.tolist())\n",
    "# distillbert_base_model = distillbert_transformer.get_classifier()"
   ]
  },
  {
   "cell_type": "code",
   "execution_count": 32,
   "metadata": {},
   "outputs": [
    {
     "name": "stdout",
     "output_type": "stream",
     "text": [
      "preprocessing train...\n",
      "language: en\n",
      "train sequence lengths:\n",
      "\tmean : 21\n",
      "\t95percentile : 42\n",
      "\t99percentile : 58\n"
     ]
    },
    {
     "data": {
      "text/html": [
       "\n",
       "<style>\n",
       "    /* Turns off some styling */\n",
       "    progress {\n",
       "        /* gets rid of default border in Firefox and Opera. */\n",
       "        border: none;\n",
       "        /* Needs to be in here for Safari polyfill so background images work as expected. */\n",
       "        background-size: auto;\n",
       "    }\n",
       "    progress:not([value]), progress:not([value])::-webkit-progress-bar {\n",
       "        background: repeating-linear-gradient(45deg, #7e7e7e, #7e7e7e 10px, #5c5c5c 10px, #5c5c5c 20px);\n",
       "    }\n",
       "    .progress-bar-interrupted, .progress-bar-interrupted::-webkit-progress-bar {\n",
       "        background: #F44336;\n",
       "    }\n",
       "</style>\n"
      ],
      "text/plain": [
       "<IPython.core.display.HTML object>"
      ]
     },
     "metadata": {},
     "output_type": "display_data"
    },
    {
     "data": {
      "text/html": [],
      "text/plain": [
       "<IPython.core.display.HTML object>"
      ]
     },
     "metadata": {},
     "output_type": "display_data"
    },
    {
     "name": "stdout",
     "output_type": "stream",
     "text": [
      "Is Multi-Label? False\n",
      "preprocessing test...\n",
      "language: en\n",
      "test sequence lengths:\n",
      "\tmean : 21\n",
      "\t95percentile : 43\n",
      "\t99percentile : 66\n"
     ]
    },
    {
     "data": {
      "text/html": [
       "\n",
       "<style>\n",
       "    /* Turns off some styling */\n",
       "    progress {\n",
       "        /* gets rid of default border in Firefox and Opera. */\n",
       "        border: none;\n",
       "        /* Needs to be in here for Safari polyfill so background images work as expected. */\n",
       "        background-size: auto;\n",
       "    }\n",
       "    progress:not([value]), progress:not([value])::-webkit-progress-bar {\n",
       "        background: repeating-linear-gradient(45deg, #7e7e7e, #7e7e7e 10px, #5c5c5c 10px, #5c5c5c 20px);\n",
       "    }\n",
       "    .progress-bar-interrupted, .progress-bar-interrupted::-webkit-progress-bar {\n",
       "        background: #F44336;\n",
       "    }\n",
       "</style>\n"
      ],
      "text/plain": [
       "<IPython.core.display.HTML object>"
      ]
     },
     "metadata": {},
     "output_type": "display_data"
    },
    {
     "data": {
      "text/html": [],
      "text/plain": [
       "<IPython.core.display.HTML object>"
      ]
     },
     "metadata": {},
     "output_type": "display_data"
    }
   ],
   "source": [
    "MAXLEN = 150\n",
    "\n",
    "X = training_df['sentence']\n",
    "y = training_df['label']\n",
    "\n",
    "# Split the data\n",
    "X_train, X_test, y_train, y_test = train_test_split(X, y, test_size = 0.1, random_state = 18, stratify=y)\n",
    "\n",
    "\n",
    "model_name = 'bert-base-uncased'\n",
    "\n",
    "distillbert_transformer = text.Transformer(model_name, maxlen=MAXLEN, class_names=[0,1])\n",
    "training_set = distillbert_transformer.preprocess_train(X_train.tolist(), y_train.tolist())\n",
    "validation_set = distillbert_transformer.preprocess_test(X_test.tolist(), y_test.tolist())\n",
    "distillbert_base_model = distillbert_transformer.get_classifier()"
   ]
  },
  {
   "cell_type": "code",
   "execution_count": 33,
   "metadata": {},
   "outputs": [
    {
     "name": "stdout",
     "output_type": "stream",
     "text": [
      "[0.62964191 2.42838875]\n"
     ]
    }
   ],
   "source": [
    "from sklearn.utils.class_weight import compute_class_weight\n",
    "import numpy as np\n",
    "\n",
    "# Define classes and class labels\n",
    "classes = np.array([0, 1])\n",
    "class_labels = list(training_df.label)\n",
    "\n",
    "# Compute class weights\n",
    "\n",
    "class_weights = compute_class_weight(class_weight='balanced', classes=classes, y=class_labels)\n",
    "\n",
    "# Print class weights\n",
    "print(class_weights)\n",
    "\n",
    "class_weights = dict(zip(classes, class_weights))"
   ]
  },
  {
   "cell_type": "code",
   "execution_count": null,
   "metadata": {},
   "outputs": [
    {
     "name": "stdout",
     "output_type": "stream",
     "text": [
      "\n",
      "\n",
      "begin training using triangular learning rate policy with max lr of 2e-05...\n",
      "Epoch 1/12\n",
      "285/285 [==============================] - 179s 567ms/step - loss: 0.4105 - accuracy: 0.7273 - val_loss: 0.1361 - val_accuracy: 0.9684\n",
      "Epoch 2/12\n",
      " 60/285 [=====>........................] - ETA: 2:47 - loss: 0.0895 - accuracy: 0.9722"
     ]
    }
   ],
   "source": [
    "# Build BERT model\n",
    "distillbert_learner = ktrain.get_learner(distillbert_base_model, train_data=training_set, val_data=validation_set, batch_size=6)\n",
    "distillbert_learner.set_weight_decay(0.100)\n",
    "distillbert_learner.autofit(0.000020, epochs=12, early_stopping=4, class_weight=class_weights)"
   ]
  },
  {
   "cell_type": "code",
   "execution_count": 71,
   "metadata": {},
   "outputs": [
    {
     "name": "stdout",
     "output_type": "stream",
     "text": [
      "8/8 [==============================] - 13s 746ms/step\n",
      "              precision    recall  f1-score   support\n",
      "\n",
      "           0       0.99      0.86      0.92       196\n",
      "           1       0.53      0.97      0.68        32\n",
      "\n",
      "    accuracy                           0.87       228\n",
      "   macro avg       0.76      0.91      0.80       228\n",
      "weighted avg       0.93      0.87      0.89       228\n",
      "\n"
     ]
    },
    {
     "data": {
      "text/plain": [
       "array([[168,  28],\n",
       "       [  1,  31]])"
      ]
     },
     "execution_count": 71,
     "metadata": {},
     "output_type": "execute_result"
    }
   ],
   "source": [
    "distillbert_learner.validate(class_names=distillbert_transformer.get_classes())"
   ]
  },
  {
   "cell_type": "code",
   "execution_count": 72,
   "metadata": {},
   "outputs": [
    {
     "name": "stdout",
     "output_type": "stream",
     "text": [
      "Model: \"tf_bert_for_sequence_classification_7\"\n",
      "_________________________________________________________________\n",
      " Layer (type)                Output Shape              Param #   \n",
      "=================================================================\n",
      " bert (TFBertMainLayer)      multiple                  109482240 \n",
      "                                                                 \n",
      " dropout_303 (Dropout)       multiple                  0         \n",
      "                                                                 \n",
      " classifier (Dense)          multiple                  1538      \n",
      "                                                                 \n",
      "=================================================================\n",
      "Total params: 109483778 (417.65 MB)\n",
      "Trainable params: 109483778 (417.65 MB)\n",
      "Non-trainable params: 0 (0.00 Byte)\n",
      "_________________________________________________________________\n"
     ]
    }
   ],
   "source": [
    "distillbert_learner.model.summary()"
   ]
  },
  {
   "cell_type": "code",
   "execution_count": 73,
   "metadata": {},
   "outputs": [],
   "source": [
    "distillbert_predictor = ktrain.get_predictor(distillbert_learner.model, preproc=distillbert_transformer)"
   ]
  },
  {
   "cell_type": "code",
   "execution_count": 74,
   "metadata": {},
   "outputs": [],
   "source": [
    "distillbert_test_data = test_df['sentence'].tolist()\n",
    "distillbert_test_label = test_df['label'].tolist()"
   ]
  },
  {
   "cell_type": "code",
   "execution_count": 75,
   "metadata": {},
   "outputs": [],
   "source": [
    "y_pred_distillbert = distillbert_predictor.predict(distillbert_test_data)"
   ]
  },
  {
   "cell_type": "code",
   "execution_count": 76,
   "metadata": {},
   "outputs": [],
   "source": [
    "y_pred_distillbert = [int(x) for x in y_pred_distillbert]"
   ]
  },
  {
   "cell_type": "code",
   "execution_count": 77,
   "metadata": {},
   "outputs": [
    {
     "name": "stdout",
     "output_type": "stream",
     "text": [
      "True Negative: 197, False Positive: 21, False Negative: 2, True Positive: 33\n"
     ]
    }
   ],
   "source": [
    "tn, fp, fn, tp = confusion_matrix(distillbert_test_label, y_pred_distillbert).ravel()\n",
    "print('True Negative: {}, False Positive: {}, False Negative: {}, True Positive: {}'.format(tn, fp, fn, tp))"
   ]
  },
  {
   "cell_type": "code",
   "execution_count": 78,
   "metadata": {},
   "outputs": [
    {
     "name": "stdout",
     "output_type": "stream",
     "text": [
      "  Classification Report:\n",
      "               precision    recall  f1-score   support\n",
      "\n",
      "         0.0       0.99      0.90      0.94       218\n",
      "         1.0       0.61      0.94      0.74        35\n",
      "\n",
      "    accuracy                           0.91       253\n",
      "   macro avg       0.80      0.92      0.84       253\n",
      "weighted avg       0.94      0.91      0.92       253\n",
      " \n",
      "\n"
     ]
    }
   ],
   "source": [
    "print('  Classification Report:\\n',classification_report(distillbert_test_label,y_pred_distillbert),'\\n')"
   ]
  },
  {
   "cell_type": "code",
   "execution_count": 58,
   "metadata": {},
   "outputs": [
    {
     "data": {
      "text/html": [
       "<div>\n",
       "<style scoped>\n",
       "    .dataframe tbody tr th:only-of-type {\n",
       "        vertical-align: middle;\n",
       "    }\n",
       "\n",
       "    .dataframe tbody tr th {\n",
       "        vertical-align: top;\n",
       "    }\n",
       "\n",
       "    .dataframe thead th {\n",
       "        text-align: right;\n",
       "    }\n",
       "</style>\n",
       "<table border=\"1\" class=\"dataframe\">\n",
       "  <thead>\n",
       "    <tr style=\"text-align: right;\">\n",
       "      <th></th>\n",
       "      <th>sentence</th>\n",
       "      <th>label</th>\n",
       "      <th>phrase</th>\n",
       "      <th>predicted_label</th>\n",
       "    </tr>\n",
       "  </thead>\n",
       "  <tbody>\n",
       "    <tr>\n",
       "      <th>0</th>\n",
       "      <td>every time i have to spend more effort and time to understand the physics concept and finish my homework.</td>\n",
       "      <td>0</td>\n",
       "      <td>['I am an International student from China, and my parents send me here because they want me to have better education resources.']</td>\n",
       "      <td>0</td>\n",
       "    </tr>\n",
       "    <tr>\n",
       "      <th>1</th>\n",
       "      <td>there is a big need for people of color in the medical field and i want to start to make a difference.</td>\n",
       "      <td>0</td>\n",
       "      <td>[\"I am also here to advance my education and make my family proud. I'll be the first in my family to graduate from college and to attend college in general but I want to make them proud.\"]</td>\n",
       "      <td>0</td>\n",
       "    </tr>\n",
       "    <tr>\n",
       "      <th>2</th>\n",
       "      <td>i enjoy the process of breaking down problems to a point that they can be solved.</td>\n",
       "      <td>0</td>\n",
       "      <td>['I decided to follow my parents lead.']</td>\n",
       "      <td>0</td>\n",
       "    </tr>\n",
       "    <tr>\n",
       "      <th>3</th>\n",
       "      <td>furthermore, i am here learning physics because it is not only a requirement for my major, but because i am excited to learn the subject itself and how it applies to our everyday lives.</td>\n",
       "      <td>0</td>\n",
       "      <td>['I am here because I want to honor the sacrifices that both my parents had to take in order for me to get an education here in the United States.']</td>\n",
       "      <td>0</td>\n",
       "    </tr>\n",
       "    <tr>\n",
       "      <th>4</th>\n",
       "      <td>this class was a requirement in my major which is why i am here taking it.</td>\n",
       "      <td>0</td>\n",
       "      <td>['I wouldnt be here without my parents who sacrificed a lot for me to be here. I am part of the first generation in my family to go to college and hopefully get a degree and I am trying to make my parents proud but also learn things for myself and get a career that will give me financial stability and also a career where I will help tons of people.']</td>\n",
       "      <td>0</td>\n",
       "    </tr>\n",
       "    <tr>\n",
       "      <th>...</th>\n",
       "      <td>...</td>\n",
       "      <td>...</td>\n",
       "      <td>...</td>\n",
       "      <td>...</td>\n",
       "    </tr>\n",
       "    <tr>\n",
       "      <th>250</th>\n",
       "      <td>when i graduated middle school in china, my parents decided send me to the united state to finish my high school and university study.</td>\n",
       "      <td>1</td>\n",
       "      <td>['When I graduated middle school in China, my parents decided send me to The United State to finish My high school and university study.']</td>\n",
       "      <td>1</td>\n",
       "    </tr>\n",
       "    <tr>\n",
       "      <th>251</th>\n",
       "      <td>my aunt is someone i look up to since she is a radiologist at the stanford medical center in palo alto.</td>\n",
       "      <td>0</td>\n",
       "      <td>['My aunt is someone I look up to since she is a radiologist at the Stanford Medical Center in Palo Alto. I want to be able to follow in her steps and to make my family and her proud. Shes someone who highly supports me getting a college education and she is one of the reasons I continue to push myself even when things get difficult.']</td>\n",
       "      <td>0</td>\n",
       "    </tr>\n",
       "    <tr>\n",
       "      <th>252</th>\n",
       "      <td>i am here because i care about my community and to help empower those around me.</td>\n",
       "      <td>0</td>\n",
       "      <td>[\"become a role model for my younger cousins back where I'm from.\"]</td>\n",
       "      <td>0</td>\n",
       "    </tr>\n",
       "    <tr>\n",
       "      <th>253</th>\n",
       "      <td>in addition to this, i do hope to someday make a difference in the world, and strongly believe that i can do so if i pursue a stem related career.</td>\n",
       "      <td>0</td>\n",
       "      <td>['I come from an Indian immigrant family, and all of my family members have worked hard to earn their places in the world. Most of my family members are successful, and a majority of them are working in STEM related careers. Due to this, there has always been an expectation for me to go into a STEM related field.']</td>\n",
       "      <td>0</td>\n",
       "    </tr>\n",
       "    <tr>\n",
       "      <th>254</th>\n",
       "      <td>something, a goal, i have always wanted for myself is to be financially stable and be able to comfortably provide for myself.</td>\n",
       "      <td>0</td>\n",
       "      <td>['I am here as a role model to my sisters and to make my parents proud.']</td>\n",
       "      <td>0</td>\n",
       "    </tr>\n",
       "  </tbody>\n",
       "</table>\n",
       "<p>255 rows × 4 columns</p>\n",
       "</div>"
      ],
      "text/plain": [
       "                                                                                                                                                                                      sentence  \\\n",
       "0                                                                                    every time i have to spend more effort and time to understand the physics concept and finish my homework.   \n",
       "1                                                                                       there is a big need for people of color in the medical field and i want to start to make a difference.   \n",
       "2                                                                                                            i enjoy the process of breaking down problems to a point that they can be solved.   \n",
       "3    furthermore, i am here learning physics because it is not only a requirement for my major, but because i am excited to learn the subject itself and how it applies to our everyday lives.   \n",
       "4                                                                                                                   this class was a requirement in my major which is why i am here taking it.   \n",
       "..                                                                                                                                                                                         ...   \n",
       "250                                                     when i graduated middle school in china, my parents decided send me to the united state to finish my high school and university study.   \n",
       "251                                                                                    my aunt is someone i look up to since she is a radiologist at the stanford medical center in palo alto.   \n",
       "252                                                                                                           i am here because i care about my community and to help empower those around me.   \n",
       "253                                         in addition to this, i do hope to someday make a difference in the world, and strongly believe that i can do so if i pursue a stem related career.   \n",
       "254                                                              something, a goal, i have always wanted for myself is to be financially stable and be able to comfortably provide for myself.   \n",
       "\n",
       "     label  \\\n",
       "0        0   \n",
       "1        0   \n",
       "2        0   \n",
       "3        0   \n",
       "4        0   \n",
       "..     ...   \n",
       "250      1   \n",
       "251      0   \n",
       "252      0   \n",
       "253      0   \n",
       "254      0   \n",
       "\n",
       "                                                                                                                                                                                                                                                                                                                                                               phrase  \\\n",
       "0                                                                                                                                                                                                                                  ['I am an International student from China, and my parents send me here because they want me to have better education resources.']   \n",
       "1                                                                                                                                                                        [\"I am also here to advance my education and make my family proud. I'll be the first in my family to graduate from college and to attend college in general but I want to make them proud.\"]   \n",
       "2                                                                                                                                                                                                                                                                                                                            ['I decided to follow my parents lead.']   \n",
       "3                                                                                                                                                                                                                ['I am here because I want to honor the sacrifices that both my parents had to take in order for me to get an education here in the United States.']   \n",
       "4    ['I wouldnt be here without my parents who sacrificed a lot for me to be here. I am part of the first generation in my family to go to college and hopefully get a degree and I am trying to make my parents proud but also learn things for myself and get a career that will give me financial stability and also a career where I will help tons of people.']   \n",
       "..                                                                                                                                                                                                                                                                                                                                                                ...   \n",
       "250                                                                                                                                                                                                                        ['When I graduated middle school in China, my parents decided send me to The United State to finish My high school and university study.']   \n",
       "251                 ['My aunt is someone I look up to since she is a radiologist at the Stanford Medical Center in Palo Alto. I want to be able to follow in her steps and to make my family and her proud. Shes someone who highly supports me getting a college education and she is one of the reasons I continue to push myself even when things get difficult.']   \n",
       "252                                                                                                                                                                                                                                                                                               [\"become a role model for my younger cousins back where I'm from.\"]   \n",
       "253                                      ['I come from an Indian immigrant family, and all of my family members have worked hard to earn their places in the world. Most of my family members are successful, and a majority of them are working in STEM related careers. Due to this, there has always been an expectation for me to go into a STEM related field.']   \n",
       "254                                                                                                                                                                                                                                                                                         ['I am here as a role model to my sisters and to make my parents proud.']   \n",
       "\n",
       "     predicted_label  \n",
       "0                  0  \n",
       "1                  0  \n",
       "2                  0  \n",
       "3                  0  \n",
       "4                  0  \n",
       "..               ...  \n",
       "250                1  \n",
       "251                0  \n",
       "252                0  \n",
       "253                0  \n",
       "254                0  \n",
       "\n",
       "[255 rows x 4 columns]"
      ]
     },
     "execution_count": 58,
     "metadata": {},
     "output_type": "execute_result"
    }
   ],
   "source": [
    "test_df_copy = test_df.copy()\n",
    "test_df_copy[\"predicted_label\"] = y_pred_distillbert\n",
    "test_df_copy"
   ]
  },
  {
   "cell_type": "code",
   "execution_count": null,
   "metadata": {},
   "outputs": [],
   "source": []
  },
  {
   "cell_type": "code",
   "execution_count": 59,
   "metadata": {},
   "outputs": [],
   "source": [
    "test_df_copy.to_excel(\"Familial_error_analysis_2.xlsx\")"
   ]
  },
  {
   "cell_type": "code",
   "execution_count": 24,
   "metadata": {},
   "outputs": [],
   "source": [
    "# distillbert_predictor.save('../../model/first_generation_distilbert_base_uncased_model_10102020') # 256 MB"
   ]
  },
  {
   "cell_type": "code",
   "execution_count": 21,
   "metadata": {},
   "outputs": [
    {
     "name": "stdout",
     "output_type": "stream",
     "text": [
      "AUC roc score for distillbert model:  0.9306334080717489\n"
     ]
    }
   ],
   "source": [
    "print(\"AUC roc score for distillbert model: \", roc_auc_score(distillbert_test_label,y_pred_distillbert))"
   ]
  },
  {
   "cell_type": "code",
   "execution_count": 22,
   "metadata": {},
   "outputs": [
    {
     "name": "stdout",
     "output_type": "stream",
     "text": [
      "AUC PR score for DistilBERT model:  0.7918205047976637\n"
     ]
    }
   ],
   "source": [
    "from sklearn.metrics import auc, precision_recall_curve\n",
    "\n",
    "# Replace these with your actual data\n",
    "# distillbert_test_label: Ground truth labels (list or numpy array)\n",
    "# y_pred_distillbert: Predicted probabilities (list or numpy array)\n",
    "\n",
    "# Calculate precision-recall curve\n",
    "precision, recall, _ = precision_recall_curve(distillbert_test_label, y_pred_distillbert)\n",
    "\n",
    "# Calculate PR AUC\n",
    "pr_auc_score = auc(recall, precision)\n",
    "\n",
    "# Print the result\n",
    "print(\"AUC PR score for DistilBERT model: \", pr_auc_score)"
   ]
  },
  {
   "cell_type": "code",
   "execution_count": null,
   "metadata": {},
   "outputs": [],
   "source": []
  }
 ],
 "metadata": {
  "kernelspec": {
   "display_name": "ml_env",
   "language": "python",
   "name": "python3"
  },
  "language_info": {
   "codemirror_mode": {
    "name": "ipython",
    "version": 3
   },
   "file_extension": ".py",
   "mimetype": "text/x-python",
   "name": "python",
   "nbconvert_exporter": "python",
   "pygments_lexer": "ipython3",
   "version": "3.8.17"
  }
 },
 "nbformat": 4,
 "nbformat_minor": 4
}
