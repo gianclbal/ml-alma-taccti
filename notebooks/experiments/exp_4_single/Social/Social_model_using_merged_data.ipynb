{
 "cells": [
  {
   "cell_type": "markdown",
   "metadata": {},
   "source": [
    "# Social DistilBERT Model Using Single Batch 1 + Batch 2"
   ]
  },
  {
   "cell_type": "code",
   "execution_count": 32,
   "metadata": {},
   "outputs": [],
   "source": [
    "import ktrain\n",
    "import pandas as pd\n",
    "import numpy as np\n",
    "from sklearn.model_selection import train_test_split\n",
    "from sklearn.metrics import confusion_matrix\n",
    "from sklearn.metrics import classification_report\n",
    "from sklearn.metrics import roc_auc_score\n",
    "from ktrain import text\n",
    "import random\n",
    "import warnings\n",
    "from sklearn.utils import shuffle\n",
    "\n",
    "# Set random seed\"\n",
    "random.seed(18)\n",
    "seed = 18\n",
    "\n",
    "# Ignore warnings\n",
    "warnings.filterwarnings('ignore')\n",
    "\n",
    "# Display options\n",
    "pd.set_option('display.max_colwidth', None)"
   ]
  },
  {
   "cell_type": "markdown",
   "metadata": {},
   "source": [
    "## 1. Loading the data and quick exploratory data analysis"
   ]
  },
  {
   "cell_type": "code",
   "execution_count": 2,
   "metadata": {},
   "outputs": [],
   "source": [
    "# import os\n",
    "\n",
    "# # Define the folder path and themes\n",
    "# folder_path = '/Users/gbaldonado/Developer/ml-alma-taccti/ml-alma-taccti/data/processed_for_model/single_theme_using_jaccard_method'\n",
    "# themes = [\n",
    "#     'Aspirational', 'Attainment', 'Community Consciousness', 'Familial', 'Filial Piety', \n",
    "#     'First Gen', 'Navigational', 'Perseverance', 'Resistance', 'Social', 'Spiritual'\n",
    "# ]\n",
    "\n",
    "# # Initialize an empty dictionary to store DataFrames\n",
    "# batch_1_theme_dataframes = {}\n",
    "# # Loop through each theme and load its corresponding file\n",
    "# for theme in themes:\n",
    "#     # Construct the filename without modifying the theme name\n",
    "#     file_name = f\"{theme}_sentence_level_batch_1_jaccard.csv\"\n",
    "#     file_path = os.path.join(folder_path, file_name)\n",
    "    \n",
    "#     # Check if the file exists before attempting to load\n",
    "#     if os.path.exists(file_path):\n",
    "#         batch_1_theme_dataframes[theme] = pd.read_csv(file_path)\n",
    "#         print(f\"Loaded {file_name}\")\n",
    "#     else:\n",
    "#         print(f\"File not found for theme: {theme}\")\n",
    "\n",
    "# # Define the folder path and themes\n",
    "# folder_path = '/Users/gbaldonado/Developer/ml-alma-taccti/ml-alma-taccti/data/processed_for_model/single_theme_using_jaccard_method/batch_2'\n",
    "# themes = [\n",
    "#     'Aspirational', 'Attainment', 'Community Consciouss', 'Familial', 'Filial Piety', \n",
    "#     'First Generation', 'Navigational', 'Perseverance', 'Resistance', 'Social', 'Spiritual'\n",
    "# ]\n",
    "\n",
    "# # Initialize an empty dictionary to store DataFrames\n",
    "# batch_2_theme_dataframes = {}\n",
    "# # Loop through each theme and load its corresponding file\n",
    "# for theme in themes:\n",
    "#     # Construct the filename without modifying the theme name\n",
    "#     file_name = f\"{theme}_sentence_level_batch_2_jaccard.csv\"\n",
    "#     file_path = os.path.join(folder_path, file_name)\n",
    "    \n",
    "#     # Check if the file exists before attempting to load\n",
    "#     if os.path.exists(file_path):\n",
    "#         batch_2_theme_dataframes[theme] = pd.read_csv(file_path)\n",
    "#         print(f\"Loaded {file_name}\")\n",
    "#     else:\n",
    "#         print(f\"File not found for theme: {theme}\")"
   ]
  },
  {
   "cell_type": "code",
   "execution_count": 36,
   "metadata": {},
   "outputs": [
    {
     "data": {
      "text/html": [
       "<div>\n",
       "<style scoped>\n",
       "    .dataframe tbody tr th:only-of-type {\n",
       "        vertical-align: middle;\n",
       "    }\n",
       "\n",
       "    .dataframe tbody tr th {\n",
       "        vertical-align: top;\n",
       "    }\n",
       "\n",
       "    .dataframe thead th {\n",
       "        text-align: right;\n",
       "    }\n",
       "</style>\n",
       "<table border=\"1\" class=\"dataframe\">\n",
       "  <thead>\n",
       "    <tr style=\"text-align: right;\">\n",
       "      <th></th>\n",
       "      <th>sentence</th>\n",
       "      <th>label</th>\n",
       "      <th>phrase</th>\n",
       "      <th>orig_label</th>\n",
       "    </tr>\n",
       "  </thead>\n",
       "  <tbody>\n",
       "    <tr>\n",
       "      <th>0</th>\n",
       "      <td>i am here because i want to better myself my family, not only financially but in health.</td>\n",
       "      <td>0</td>\n",
       "      <td>['I Hope to reach a position in which I can inspire and prove to all of the \"immigrants\" in the USA that achieving and surpassing struggle is possible.']</td>\n",
       "      <td>0</td>\n",
       "    </tr>\n",
       "    <tr>\n",
       "      <th>1</th>\n",
       "      <td>being in this instituion will pave a way for me to become a professional.</td>\n",
       "      <td>0</td>\n",
       "      <td>['I Hope to reach a position in which I can inspire and prove to all of the \"immigrants\" in the USA that achieving and surpassing struggle is possible.']</td>\n",
       "      <td>0</td>\n",
       "    </tr>\n",
       "    <tr>\n",
       "      <th>2</th>\n",
       "      <td>i know that as a child i never thought of education and a career for someone who is undocumented.</td>\n",
       "      <td>0</td>\n",
       "      <td>['I Hope to reach a position in which I can inspire and prove to all of the \"immigrants\" in the USA that achieving and surpassing struggle is possible.']</td>\n",
       "      <td>0</td>\n",
       "    </tr>\n",
       "    <tr>\n",
       "      <th>3</th>\n",
       "      <td>i hope to reach a position in which i can inspire and prove to all of the \"immigrants\" in the usa that achieving and surpassing struggle is possible.</td>\n",
       "      <td>1</td>\n",
       "      <td>['I Hope to reach a position in which I can inspire and prove to all of the \"immigrants\" in the USA that achieving and surpassing struggle is possible.']</td>\n",
       "      <td>1</td>\n",
       "    </tr>\n",
       "    <tr>\n",
       "      <th>4</th>\n",
       "      <td>also, statistics have shown that people with higher education and wealth tend to be healthier.</td>\n",
       "      <td>0</td>\n",
       "      <td>['I Hope to reach a position in which I can inspire and prove to all of the \"immigrants\" in the USA that achieving and surpassing struggle is possible.']</td>\n",
       "      <td>0</td>\n",
       "    </tr>\n",
       "    <tr>\n",
       "      <th>...</th>\n",
       "      <td>...</td>\n",
       "      <td>...</td>\n",
       "      <td>...</td>\n",
       "      <td>...</td>\n",
       "    </tr>\n",
       "    <tr>\n",
       "      <th>2955</th>\n",
       "      <td>when i was younger, my mother was diagnosed with a brain tumor and it took months of convincing her to finally get surgery to remove the tumor.</td>\n",
       "      <td>0</td>\n",
       "      <td>[\"It then narrows down to the things that I find joy in participating in and how I utilize my God given gifts. I'm a person of many talents and skills, which is why I believe I was placed here on this universe for multiple purposes. After experiencing those years of watching her suffer, I've developed a love for the medical field and knew I wanted to be apart of changing the lives of others through medicine. I truly believe my huge personality, when combined with my career interests and natural talents, were placed here to spread love throughout those I cross paths with in life. I'm here to share smiles and be a light in the midst of someone's darkness, while assisting in prolonging long and healthy lives.\"]</td>\n",
       "      <td>0</td>\n",
       "    </tr>\n",
       "    <tr>\n",
       "      <th>2956</th>\n",
       "      <td>after experiencing those years of watching her suffer, i've developed a love for the medical field and knew i wanted to be apart of changing the lives of others through medicine.</td>\n",
       "      <td>0</td>\n",
       "      <td>[\"It then narrows down to the things that I find joy in participating in and how I utilize my God given gifts. I'm a person of many talents and skills, which is why I believe I was placed here on this universe for multiple purposes. After experiencing those years of watching her suffer, I've developed a love for the medical field and knew I wanted to be apart of changing the lives of others through medicine. I truly believe my huge personality, when combined with my career interests and natural talents, were placed here to spread love throughout those I cross paths with in life. I'm here to share smiles and be a light in the midst of someone's darkness, while assisting in prolonging long and healthy lives.\"]</td>\n",
       "      <td>0</td>\n",
       "    </tr>\n",
       "    <tr>\n",
       "      <th>2957</th>\n",
       "      <td>also, i've been granted the gift of imagination which allows me to write mini books, poems, and short stories, along with a long list of other talents.</td>\n",
       "      <td>0</td>\n",
       "      <td>[\"It then narrows down to the things that I find joy in participating in and how I utilize my God given gifts. I'm a person of many talents and skills, which is why I believe I was placed here on this universe for multiple purposes. After experiencing those years of watching her suffer, I've developed a love for the medical field and knew I wanted to be apart of changing the lives of others through medicine. I truly believe my huge personality, when combined with my career interests and natural talents, were placed here to spread love throughout those I cross paths with in life. I'm here to share smiles and be a light in the midst of someone's darkness, while assisting in prolonging long and healthy lives.\"]</td>\n",
       "      <td>0</td>\n",
       "    </tr>\n",
       "    <tr>\n",
       "      <th>2958</th>\n",
       "      <td>i truly believe my huge personality, when combined with my career interests and natural talents, were placed here to spread love throughout those i cross paths with in life.</td>\n",
       "      <td>0</td>\n",
       "      <td>[\"It then narrows down to the things that I find joy in participating in and how I utilize my God given gifts. I'm a person of many talents and skills, which is why I believe I was placed here on this universe for multiple purposes. After experiencing those years of watching her suffer, I've developed a love for the medical field and knew I wanted to be apart of changing the lives of others through medicine. I truly believe my huge personality, when combined with my career interests and natural talents, were placed here to spread love throughout those I cross paths with in life. I'm here to share smiles and be a light in the midst of someone's darkness, while assisting in prolonging long and healthy lives.\"]</td>\n",
       "      <td>0</td>\n",
       "    </tr>\n",
       "    <tr>\n",
       "      <th>2959</th>\n",
       "      <td>i'm here to share smiles and be a light in the midst of someone's darkness, while assisting in prolonging long and healthy lives.</td>\n",
       "      <td>0</td>\n",
       "      <td>[\"It then narrows down to the things that I find joy in participating in and how I utilize my God given gifts. I'm a person of many talents and skills, which is why I believe I was placed here on this universe for multiple purposes. After experiencing those years of watching her suffer, I've developed a love for the medical field and knew I wanted to be apart of changing the lives of others through medicine. I truly believe my huge personality, when combined with my career interests and natural talents, were placed here to spread love throughout those I cross paths with in life. I'm here to share smiles and be a light in the midst of someone's darkness, while assisting in prolonging long and healthy lives.\"]</td>\n",
       "      <td>0</td>\n",
       "    </tr>\n",
       "  </tbody>\n",
       "</table>\n",
       "<p>2960 rows × 4 columns</p>\n",
       "</div>"
      ],
      "text/plain": [
       "                                                                                                                                                                                sentence  \\\n",
       "0                                                                                               i am here because i want to better myself my family, not only financially but in health.   \n",
       "1                                                                                                              being in this instituion will pave a way for me to become a professional.   \n",
       "2                                                                                      i know that as a child i never thought of education and a career for someone who is undocumented.   \n",
       "3                                  i hope to reach a position in which i can inspire and prove to all of the \"immigrants\" in the usa that achieving and surpassing struggle is possible.   \n",
       "4                                                                                         also, statistics have shown that people with higher education and wealth tend to be healthier.   \n",
       "...                                                                                                                                                                                  ...   \n",
       "2955                                     when i was younger, my mother was diagnosed with a brain tumor and it took months of convincing her to finally get surgery to remove the tumor.   \n",
       "2956  after experiencing those years of watching her suffer, i've developed a love for the medical field and knew i wanted to be apart of changing the lives of others through medicine.   \n",
       "2957                             also, i've been granted the gift of imagination which allows me to write mini books, poems, and short stories, along with a long list of other talents.   \n",
       "2958       i truly believe my huge personality, when combined with my career interests and natural talents, were placed here to spread love throughout those i cross paths with in life.   \n",
       "2959                                                   i'm here to share smiles and be a light in the midst of someone's darkness, while assisting in prolonging long and healthy lives.   \n",
       "\n",
       "      label  \\\n",
       "0         0   \n",
       "1         0   \n",
       "2         0   \n",
       "3         1   \n",
       "4         0   \n",
       "...     ...   \n",
       "2955      0   \n",
       "2956      0   \n",
       "2957      0   \n",
       "2958      0   \n",
       "2959      0   \n",
       "\n",
       "                                                                                                                                                                                                                                                                                                                                                                                                                                                                                                                                                                                                                                                                                                                                             phrase  \\\n",
       "0                                                                                                                                                                                                                                                                                                                                                                                                                                                                                                                                                                                         ['I Hope to reach a position in which I can inspire and prove to all of the \"immigrants\" in the USA that achieving and surpassing struggle is possible.']   \n",
       "1                                                                                                                                                                                                                                                                                                                                                                                                                                                                                                                                                                                         ['I Hope to reach a position in which I can inspire and prove to all of the \"immigrants\" in the USA that achieving and surpassing struggle is possible.']   \n",
       "2                                                                                                                                                                                                                                                                                                                                                                                                                                                                                                                                                                                         ['I Hope to reach a position in which I can inspire and prove to all of the \"immigrants\" in the USA that achieving and surpassing struggle is possible.']   \n",
       "3                                                                                                                                                                                                                                                                                                                                                                                                                                                                                                                                                                                         ['I Hope to reach a position in which I can inspire and prove to all of the \"immigrants\" in the USA that achieving and surpassing struggle is possible.']   \n",
       "4                                                                                                                                                                                                                                                                                                                                                                                                                                                                                                                                                                                         ['I Hope to reach a position in which I can inspire and prove to all of the \"immigrants\" in the USA that achieving and surpassing struggle is possible.']   \n",
       "...                                                                                                                                                                                                                                                                                                                                                                                                                                                                                                                                                                                                                                                                                                                                             ...   \n",
       "2955  [\"It then narrows down to the things that I find joy in participating in and how I utilize my God given gifts. I'm a person of many talents and skills, which is why I believe I was placed here on this universe for multiple purposes. After experiencing those years of watching her suffer, I've developed a love for the medical field and knew I wanted to be apart of changing the lives of others through medicine. I truly believe my huge personality, when combined with my career interests and natural talents, were placed here to spread love throughout those I cross paths with in life. I'm here to share smiles and be a light in the midst of someone's darkness, while assisting in prolonging long and healthy lives.\"]   \n",
       "2956  [\"It then narrows down to the things that I find joy in participating in and how I utilize my God given gifts. I'm a person of many talents and skills, which is why I believe I was placed here on this universe for multiple purposes. After experiencing those years of watching her suffer, I've developed a love for the medical field and knew I wanted to be apart of changing the lives of others through medicine. I truly believe my huge personality, when combined with my career interests and natural talents, were placed here to spread love throughout those I cross paths with in life. I'm here to share smiles and be a light in the midst of someone's darkness, while assisting in prolonging long and healthy lives.\"]   \n",
       "2957  [\"It then narrows down to the things that I find joy in participating in and how I utilize my God given gifts. I'm a person of many talents and skills, which is why I believe I was placed here on this universe for multiple purposes. After experiencing those years of watching her suffer, I've developed a love for the medical field and knew I wanted to be apart of changing the lives of others through medicine. I truly believe my huge personality, when combined with my career interests and natural talents, were placed here to spread love throughout those I cross paths with in life. I'm here to share smiles and be a light in the midst of someone's darkness, while assisting in prolonging long and healthy lives.\"]   \n",
       "2958  [\"It then narrows down to the things that I find joy in participating in and how I utilize my God given gifts. I'm a person of many talents and skills, which is why I believe I was placed here on this universe for multiple purposes. After experiencing those years of watching her suffer, I've developed a love for the medical field and knew I wanted to be apart of changing the lives of others through medicine. I truly believe my huge personality, when combined with my career interests and natural talents, were placed here to spread love throughout those I cross paths with in life. I'm here to share smiles and be a light in the midst of someone's darkness, while assisting in prolonging long and healthy lives.\"]   \n",
       "2959  [\"It then narrows down to the things that I find joy in participating in and how I utilize my God given gifts. I'm a person of many talents and skills, which is why I believe I was placed here on this universe for multiple purposes. After experiencing those years of watching her suffer, I've developed a love for the medical field and knew I wanted to be apart of changing the lives of others through medicine. I truly believe my huge personality, when combined with my career interests and natural talents, were placed here to spread love throughout those I cross paths with in life. I'm here to share smiles and be a light in the midst of someone's darkness, while assisting in prolonging long and healthy lives.\"]   \n",
       "\n",
       "      orig_label  \n",
       "0              0  \n",
       "1              0  \n",
       "2              0  \n",
       "3              1  \n",
       "4              0  \n",
       "...          ...  \n",
       "2955           0  \n",
       "2956           0  \n",
       "2957           0  \n",
       "2958           0  \n",
       "2959           0  \n",
       "\n",
       "[2960 rows x 4 columns]"
      ]
     },
     "execution_count": 36,
     "metadata": {},
     "output_type": "execute_result"
    }
   ],
   "source": [
    "merged_social_df = pd.read_csv(\"/Users/gbaldonado/Developer/ml-alma-taccti/ml-alma-taccti/data/processed_for_model/corrections/Social/Social_merged_Reevaluated_3.csv\")\n",
    "\n",
    "\n",
    "merged_social_df"
   ]
  },
  {
   "cell_type": "code",
   "execution_count": 37,
   "metadata": {},
   "outputs": [
    {
     "data": {
      "text/html": [
       "<div>\n",
       "<style scoped>\n",
       "    .dataframe tbody tr th:only-of-type {\n",
       "        vertical-align: middle;\n",
       "    }\n",
       "\n",
       "    .dataframe tbody tr th {\n",
       "        vertical-align: top;\n",
       "    }\n",
       "\n",
       "    .dataframe thead th {\n",
       "        text-align: right;\n",
       "    }\n",
       "</style>\n",
       "<table border=\"1\" class=\"dataframe\">\n",
       "  <thead>\n",
       "    <tr style=\"text-align: right;\">\n",
       "      <th></th>\n",
       "      <th>sentence</th>\n",
       "      <th>label</th>\n",
       "    </tr>\n",
       "  </thead>\n",
       "  <tbody>\n",
       "    <tr>\n",
       "      <th>0</th>\n",
       "      <td>\"why am i here\".</td>\n",
       "      <td>0</td>\n",
       "    </tr>\n",
       "    <tr>\n",
       "      <th>1</th>\n",
       "      <td>\"why am i here?\" i am in san francisco because i wanted to get out of high school a year early, and specifically, l.a., where i grew up.</td>\n",
       "      <td>0</td>\n",
       "    </tr>\n",
       "    <tr>\n",
       "      <th>2</th>\n",
       "      <td>\"why am i here?\" i saw this question as why am i in school.</td>\n",
       "      <td>0</td>\n",
       "    </tr>\n",
       "    <tr>\n",
       "      <th>3</th>\n",
       "      <td>\"why am i here?\" the obvious reason why am i here is because this class is required to take for my physics class 230.</td>\n",
       "      <td>0</td>\n",
       "    </tr>\n",
       "    <tr>\n",
       "      <th>4</th>\n",
       "      <td>\"why am i here?\"such an abstract question; why am i here on this earth right now?</td>\n",
       "      <td>0</td>\n",
       "    </tr>\n",
       "    <tr>\n",
       "      <th>...</th>\n",
       "      <td>...</td>\n",
       "      <td>...</td>\n",
       "    </tr>\n",
       "    <tr>\n",
       "      <th>2955</th>\n",
       "      <td>you meet great instructors that are positive and want everyone to learn and have a good grip on the concept in order to be confident when taking a quiz or exam.</td>\n",
       "      <td>0</td>\n",
       "    </tr>\n",
       "    <tr>\n",
       "      <th>2956</th>\n",
       "      <td>you might not even be the best version of yourself. but still we or i continue to act like these smaller things seem to matter.</td>\n",
       "      <td>0</td>\n",
       "    </tr>\n",
       "    <tr>\n",
       "      <th>2957</th>\n",
       "      <td>you never really know what is to come in the next day or so and i happened to learn that the hard way.</td>\n",
       "      <td>0</td>\n",
       "    </tr>\n",
       "    <tr>\n",
       "      <th>2958</th>\n",
       "      <td>you so know that the time allotted for the professors are not enough to begin with.</td>\n",
       "      <td>0</td>\n",
       "    </tr>\n",
       "    <tr>\n",
       "      <th>2959</th>\n",
       "      <td>your purpose doesn't have to be changing the world, it could be something as simple as bringing joy to someone by providing your delicious donuts, simply because you owe or work at a donut shop.</td>\n",
       "      <td>0</td>\n",
       "    </tr>\n",
       "  </tbody>\n",
       "</table>\n",
       "<p>2960 rows × 2 columns</p>\n",
       "</div>"
      ],
      "text/plain": [
       "                                                                                                                                                                                                sentence  \\\n",
       "0                                                                                                                                                                                       \"why am i here\".   \n",
       "1                                                               \"why am i here?\" i am in san francisco because i wanted to get out of high school a year early, and specifically, l.a., where i grew up.   \n",
       "2                                                                                                                                            \"why am i here?\" i saw this question as why am i in school.   \n",
       "3                                                                                  \"why am i here?\" the obvious reason why am i here is because this class is required to take for my physics class 230.   \n",
       "4                                                                                                                      \"why am i here?\"such an abstract question; why am i here on this earth right now?   \n",
       "...                                                                                                                                                                                                  ...   \n",
       "2955                                    you meet great instructors that are positive and want everyone to learn and have a good grip on the concept in order to be confident when taking a quiz or exam.   \n",
       "2956                                                                     you might not even be the best version of yourself. but still we or i continue to act like these smaller things seem to matter.   \n",
       "2957                                                                                              you never really know what is to come in the next day or so and i happened to learn that the hard way.   \n",
       "2958                                                                                                                 you so know that the time allotted for the professors are not enough to begin with.   \n",
       "2959  your purpose doesn't have to be changing the world, it could be something as simple as bringing joy to someone by providing your delicious donuts, simply because you owe or work at a donut shop.   \n",
       "\n",
       "      label  \n",
       "0         0  \n",
       "1         0  \n",
       "2         0  \n",
       "3         0  \n",
       "4         0  \n",
       "...     ...  \n",
       "2955      0  \n",
       "2956      0  \n",
       "2957      0  \n",
       "2958      0  \n",
       "2959      0  \n",
       "\n",
       "[2960 rows x 2 columns]"
      ]
     },
     "execution_count": 37,
     "metadata": {},
     "output_type": "execute_result"
    }
   ],
   "source": [
    "# Process duplicates\n",
    "merged_social_df = (\n",
    "    merged_social_df.groupby('sentence', as_index=False)  # Group by sentences\n",
    "    .agg({'label': 'max'})  # If any label is 1, it takes precedence\n",
    ")\n",
    "merged_social_df"
   ]
  },
  {
   "cell_type": "code",
   "execution_count": 38,
   "metadata": {},
   "outputs": [],
   "source": [
    "# Shuffle the merged dataset\n",
    "merged_social_df = shuffle(merged_social_df, random_state=seed)\n",
    "\n",
    "# Train-test split \n",
    "training_df, test_df = train_test_split(merged_social_df, test_size=0.1, random_state=18, stratify=merged_social_df[\"label\"])\n",
    "\n",
    "\n",
    "training_df.reset_index(drop=True, inplace=True)\n",
    "test_df.reset_index(drop=True, inplace=True)\n"
   ]
  },
  {
   "cell_type": "code",
   "execution_count": 39,
   "metadata": {},
   "outputs": [
    {
     "name": "stdout",
     "output_type": "stream",
     "text": [
      "Training dataset shape: (2664, 2) \n",
      "Test dataset shape: (296, 2)\n",
      "Positive labels present in the dataset : 367  out of 2664 or 13.776276276276276%\n",
      "Positive labels present in the test dataset : 41  out of 296 or 13.85135135135135%\n"
     ]
    }
   ],
   "source": [
    "print(f\"Training dataset shape: {training_df.shape} \\nTest dataset shape: {test_df.shape}\")\n",
    "pos_labels = len([n for n in training_df['label'] if n==1])\n",
    "print(\"Positive labels present in the dataset : {}  out of {} or {}%\".format(pos_labels, len(training_df['label']), (pos_labels/len(training_df['label']))*100))\n",
    "pos_labels = len([n for n in test_df['label'] if n==1])\n",
    "print(\"Positive labels present in the test dataset : {}  out of {} or {}%\".format(pos_labels, len(test_df['label']), (pos_labels/len(test_df['label']))*100))"
   ]
  },
  {
   "cell_type": "markdown",
   "metadata": {},
   "source": [
    "## 2. Experimental Design"
   ]
  },
  {
   "cell_type": "code",
   "execution_count": 41,
   "metadata": {},
   "outputs": [
    {
     "name": "stdout",
     "output_type": "stream",
     "text": [
      "preprocessing train...\n",
      "language: en\n",
      "train sequence lengths:\n",
      "\tmean : 21\n",
      "\t95percentile : 40\n",
      "\t99percentile : 56\n"
     ]
    },
    {
     "data": {
      "text/html": [
       "\n",
       "<style>\n",
       "    /* Turns off some styling */\n",
       "    progress {\n",
       "        /* gets rid of default border in Firefox and Opera. */\n",
       "        border: none;\n",
       "        /* Needs to be in here for Safari polyfill so background images work as expected. */\n",
       "        background-size: auto;\n",
       "    }\n",
       "    progress:not([value]), progress:not([value])::-webkit-progress-bar {\n",
       "        background: repeating-linear-gradient(45deg, #7e7e7e, #7e7e7e 10px, #5c5c5c 10px, #5c5c5c 20px);\n",
       "    }\n",
       "    .progress-bar-interrupted, .progress-bar-interrupted::-webkit-progress-bar {\n",
       "        background: #F44336;\n",
       "    }\n",
       "</style>\n"
      ],
      "text/plain": [
       "<IPython.core.display.HTML object>"
      ]
     },
     "metadata": {},
     "output_type": "display_data"
    },
    {
     "data": {
      "text/html": [],
      "text/plain": [
       "<IPython.core.display.HTML object>"
      ]
     },
     "metadata": {},
     "output_type": "display_data"
    },
    {
     "name": "stdout",
     "output_type": "stream",
     "text": [
      "Is Multi-Label? False\n",
      "preprocessing test...\n",
      "language: en\n",
      "test sequence lengths:\n",
      "\tmean : 22\n",
      "\t95percentile : 40\n",
      "\t99percentile : 69\n"
     ]
    },
    {
     "data": {
      "text/html": [
       "\n",
       "<style>\n",
       "    /* Turns off some styling */\n",
       "    progress {\n",
       "        /* gets rid of default border in Firefox and Opera. */\n",
       "        border: none;\n",
       "        /* Needs to be in here for Safari polyfill so background images work as expected. */\n",
       "        background-size: auto;\n",
       "    }\n",
       "    progress:not([value]), progress:not([value])::-webkit-progress-bar {\n",
       "        background: repeating-linear-gradient(45deg, #7e7e7e, #7e7e7e 10px, #5c5c5c 10px, #5c5c5c 20px);\n",
       "    }\n",
       "    .progress-bar-interrupted, .progress-bar-interrupted::-webkit-progress-bar {\n",
       "        background: #F44336;\n",
       "    }\n",
       "</style>\n"
      ],
      "text/plain": [
       "<IPython.core.display.HTML object>"
      ]
     },
     "metadata": {},
     "output_type": "display_data"
    },
    {
     "data": {
      "text/html": [],
      "text/plain": [
       "<IPython.core.display.HTML object>"
      ]
     },
     "metadata": {},
     "output_type": "display_data"
    }
   ],
   "source": [
    "MAXLEN = 150\n",
    "\n",
    "X = training_df['sentence']\n",
    "y = training_df['label']\n",
    "\n",
    "# Split the data\n",
    "X_train, X_test, y_train, y_test = train_test_split(X, y, test_size = 0.1, random_state = 18, stratify=y)\n",
    "\n",
    "\n",
    "model_name = 'bert-base-uncased'\n",
    "\n",
    "distillbert_transformer = text.Transformer(model_name, maxlen=MAXLEN, class_names=[0,1])\n",
    "training_set = distillbert_transformer.preprocess_train(X_train.tolist(), y_train.tolist())\n",
    "validation_set = distillbert_transformer.preprocess_test(X_test.tolist(), y_test.tolist())\n",
    "distillbert_base_model = distillbert_transformer.get_classifier()"
   ]
  },
  {
   "cell_type": "markdown",
   "metadata": {},
   "source": []
  },
  {
   "cell_type": "code",
   "execution_count": 42,
   "metadata": {},
   "outputs": [
    {
     "name": "stdout",
     "output_type": "stream",
     "text": [
      "[0.57988681 3.62942779]\n"
     ]
    }
   ],
   "source": [
    "from sklearn.utils.class_weight import compute_class_weight\n",
    "import numpy as np\n",
    "\n",
    "# Define classes and class labels\n",
    "classes = np.array([0, 1])\n",
    "class_labels = list(training_df.label)\n",
    "\n",
    "# Compute class weights\n",
    "\n",
    "class_weights = compute_class_weight(class_weight='balanced', classes=classes, y=class_labels)\n",
    "\n",
    "# Print class weights\n",
    "print(class_weights)\n",
    "\n",
    "class_weights = dict(zip(classes, class_weights))"
   ]
  },
  {
   "cell_type": "code",
   "execution_count": 43,
   "metadata": {},
   "outputs": [
    {
     "name": "stdout",
     "output_type": "stream",
     "text": [
      "\n",
      "\n",
      "begin training using triangular learning rate policy with max lr of 3.328132762062889e-05...\n",
      "Epoch 1/12\n",
      "400/400 [==============================] - 303s 681ms/step - loss: 0.5143 - accuracy: 0.7718 - val_loss: 0.3362 - val_accuracy: 0.8689\n",
      "Epoch 2/12\n",
      "400/400 [==============================] - 273s 670ms/step - loss: 0.2734 - accuracy: 0.8890 - val_loss: 0.2404 - val_accuracy: 0.9064\n",
      "Epoch 3/12\n",
      "400/400 [==============================] - 313s 781ms/step - loss: 0.1462 - accuracy: 0.9487 - val_loss: 0.2135 - val_accuracy: 0.9326\n",
      "Epoch 4/12\n",
      "400/400 [==============================] - 285s 712ms/step - loss: 0.0797 - accuracy: 0.9716 - val_loss: 0.1946 - val_accuracy: 0.9401\n",
      "Epoch 5/12\n",
      "400/400 [==============================] - 240s 580ms/step - loss: 0.0752 - accuracy: 0.9675 - val_loss: 0.1667 - val_accuracy: 0.9288\n",
      "Epoch 6/12\n",
      "400/400 [==============================] - 199s 497ms/step - loss: 0.0820 - accuracy: 0.9666 - val_loss: 0.3068 - val_accuracy: 0.9026\n",
      "Epoch 7/12\n",
      "400/400 [==============================] - 192s 479ms/step - loss: 0.0458 - accuracy: 0.9816 - val_loss: 0.1510 - val_accuracy: 0.9588\n",
      "Epoch 8/12\n",
      "400/400 [==============================] - 165s 412ms/step - loss: 0.0280 - accuracy: 0.9887 - val_loss: 0.2147 - val_accuracy: 0.9588\n",
      "Epoch 9/12\n",
      "400/400 [==============================] - 178s 442ms/step - loss: 0.0228 - accuracy: 0.9937 - val_loss: 0.2370 - val_accuracy: 0.9588\n",
      "Epoch 10/12\n",
      "400/400 [==============================] - 234s 583ms/step - loss: 0.0381 - accuracy: 0.9850 - val_loss: 0.1252 - val_accuracy: 0.9588\n",
      "Epoch 11/12\n",
      "400/400 [==============================] - 187s 466ms/step - loss: 0.0346 - accuracy: 0.9887 - val_loss: 0.2271 - val_accuracy: 0.9476\n",
      "Epoch 12/12\n",
      "400/400 [==============================] - 271s 676ms/step - loss: 0.0183 - accuracy: 0.9933 - val_loss: 0.1997 - val_accuracy: 0.9551\n",
      "Weights from best epoch have been loaded into model.\n"
     ]
    },
    {
     "data": {
      "text/plain": [
       "<keras.src.callbacks.History at 0x4ee3d3dc0>"
      ]
     },
     "execution_count": 43,
     "metadata": {},
     "output_type": "execute_result"
    }
   ],
   "source": [
    "# Build BERT model\n",
    "distillbert_learner = ktrain.get_learner(distillbert_base_model, train_data=training_set, val_data=validation_set, batch_size=6)\n",
    "distillbert_learner.set_weight_decay(0.001)\n",
    "distillbert_learner.autofit(3.328132762062889e-05, epochs=12, early_stopping=4, class_weight=class_weights)"
   ]
  },
  {
   "cell_type": "code",
   "execution_count": 44,
   "metadata": {},
   "outputs": [
    {
     "name": "stdout",
     "output_type": "stream",
     "text": [
      "9/9 [==============================] - 17s 809ms/step\n",
      "              precision    recall  f1-score   support\n",
      "\n",
      "           0       0.98      0.97      0.97       230\n",
      "           1       0.82      0.86      0.84        37\n",
      "\n",
      "    accuracy                           0.96       267\n",
      "   macro avg       0.90      0.92      0.91       267\n",
      "weighted avg       0.96      0.96      0.96       267\n",
      "\n"
     ]
    },
    {
     "data": {
      "text/plain": [
       "array([[223,   7],\n",
       "       [  5,  32]])"
      ]
     },
     "execution_count": 44,
     "metadata": {},
     "output_type": "execute_result"
    }
   ],
   "source": [
    "distillbert_learner.validate(class_names=distillbert_transformer.get_classes())"
   ]
  },
  {
   "cell_type": "code",
   "execution_count": 45,
   "metadata": {},
   "outputs": [
    {
     "name": "stdout",
     "output_type": "stream",
     "text": [
      "Model: \"tf_bert_for_sequence_classification_3\"\n"
     ]
    },
    {
     "name": "stdout",
     "output_type": "stream",
     "text": [
      "_________________________________________________________________\n",
      " Layer (type)                Output Shape              Param #   \n",
      "=================================================================\n",
      " bert (TFBertMainLayer)      multiple                  109482240 \n",
      "                                                                 \n",
      " dropout_151 (Dropout)       multiple                  0         \n",
      "                                                                 \n",
      " classifier (Dense)          multiple                  1538      \n",
      "                                                                 \n",
      "=================================================================\n",
      "Total params: 109483778 (417.65 MB)\n",
      "Trainable params: 109483778 (417.65 MB)\n",
      "Non-trainable params: 0 (0.00 Byte)\n",
      "_________________________________________________________________\n"
     ]
    }
   ],
   "source": [
    "distillbert_learner.model.summary()"
   ]
  },
  {
   "cell_type": "code",
   "execution_count": 46,
   "metadata": {},
   "outputs": [],
   "source": [
    "distillbert_predictor = ktrain.get_predictor(distillbert_learner.model, preproc=distillbert_transformer)"
   ]
  },
  {
   "cell_type": "code",
   "execution_count": 47,
   "metadata": {},
   "outputs": [],
   "source": [
    "distillbert_test_data = test_df['sentence'].tolist()\n",
    "distillbert_test_label = test_df['label'].tolist()"
   ]
  },
  {
   "cell_type": "code",
   "execution_count": 48,
   "metadata": {},
   "outputs": [],
   "source": [
    "y_pred_distillbert = distillbert_predictor.predict(distillbert_test_data)"
   ]
  },
  {
   "cell_type": "code",
   "execution_count": 49,
   "metadata": {},
   "outputs": [],
   "source": [
    "y_pred_distillbert = [int(x) for x in y_pred_distillbert]"
   ]
  },
  {
   "cell_type": "code",
   "execution_count": 51,
   "metadata": {},
   "outputs": [
    {
     "name": "stdout",
     "output_type": "stream",
     "text": [
      "True Negative: 248, False Positive: 7, False Negative: 13, True Positive: 28\n"
     ]
    }
   ],
   "source": [
    "tn, fp, fn, tp = confusion_matrix(distillbert_test_label, y_pred_distillbert).ravel()\n",
    "print('True Negative: {}, False Positive: {}, False Negative: {}, True Positive: {}'.format(tn, fp, fn, tp))"
   ]
  },
  {
   "cell_type": "code",
   "execution_count": 52,
   "metadata": {},
   "outputs": [
    {
     "name": "stdout",
     "output_type": "stream",
     "text": [
      "  Classification Report:\n",
      "               precision    recall  f1-score   support\n",
      "\n",
      "           0       0.95      0.97      0.96       255\n",
      "           1       0.80      0.68      0.74        41\n",
      "\n",
      "    accuracy                           0.93       296\n",
      "   macro avg       0.88      0.83      0.85       296\n",
      "weighted avg       0.93      0.93      0.93       296\n",
      " \n",
      "\n"
     ]
    }
   ],
   "source": [
    "print('  Classification Report:\\n',classification_report(distillbert_test_label,y_pred_distillbert),'\\n')"
   ]
  },
  {
   "cell_type": "code",
   "execution_count": 16,
   "metadata": {},
   "outputs": [],
   "source": [
    "training_df.to_csv(\"social_training.csv\", index=False)\n",
    "test_df.to_csv(\"social_test.csv\", index=False)"
   ]
  },
  {
   "cell_type": "code",
   "execution_count": null,
   "metadata": {},
   "outputs": [],
   "source": []
  },
  {
   "cell_type": "markdown",
   "metadata": {},
   "source": []
  },
  {
   "cell_type": "code",
   "execution_count": 53,
   "metadata": {},
   "outputs": [
    {
     "data": {
      "text/html": [
       "<div>\n",
       "<style scoped>\n",
       "    .dataframe tbody tr th:only-of-type {\n",
       "        vertical-align: middle;\n",
       "    }\n",
       "\n",
       "    .dataframe tbody tr th {\n",
       "        vertical-align: top;\n",
       "    }\n",
       "\n",
       "    .dataframe thead th {\n",
       "        text-align: right;\n",
       "    }\n",
       "</style>\n",
       "<table border=\"1\" class=\"dataframe\">\n",
       "  <thead>\n",
       "    <tr style=\"text-align: right;\">\n",
       "      <th></th>\n",
       "      <th>sentence</th>\n",
       "      <th>label</th>\n",
       "      <th>predicted_label</th>\n",
       "    </tr>\n",
       "  </thead>\n",
       "  <tbody>\n",
       "    <tr>\n",
       "      <th>0</th>\n",
       "      <td>so far this class has been surprisingly fun and i actually learned a lot that helps me with the class.</td>\n",
       "      <td>0</td>\n",
       "      <td>0</td>\n",
       "    </tr>\n",
       "    <tr>\n",
       "      <th>1</th>\n",
       "      <td>unfortunately, i joined the sci class as we were beginning to go over unit three, so i am hoping there will be someone i can ask for assistance with the other units.</td>\n",
       "      <td>0</td>\n",
       "      <td>0</td>\n",
       "    </tr>\n",
       "    <tr>\n",
       "      <th>2</th>\n",
       "      <td>but i don't think that's the case at all.</td>\n",
       "      <td>0</td>\n",
       "      <td>0</td>\n",
       "    </tr>\n",
       "    <tr>\n",
       "      <th>3</th>\n",
       "      <td>i decided to enroll in this 1 unit course as a sort of precautionary measure.</td>\n",
       "      <td>0</td>\n",
       "      <td>0</td>\n",
       "    </tr>\n",
       "    <tr>\n",
       "      <th>4</th>\n",
       "      <td>this makes me empathetic, understanding, and more mature.</td>\n",
       "      <td>0</td>\n",
       "      <td>0</td>\n",
       "    </tr>\n",
       "    <tr>\n",
       "      <th>...</th>\n",
       "      <td>...</td>\n",
       "      <td>...</td>\n",
       "      <td>...</td>\n",
       "    </tr>\n",
       "    <tr>\n",
       "      <th>291</th>\n",
       "      <td>as for why i am here in san francisco, i moved away to isolate myself from any distractions that would cause me to not reach my highest potential.</td>\n",
       "      <td>0</td>\n",
       "      <td>0</td>\n",
       "    </tr>\n",
       "    <tr>\n",
       "      <th>292</th>\n",
       "      <td>part of my major requires me to finish math classes, and i wanted to get help with that because classes can be challenging and hard to understand sometimes, and its helpful to have assistance from classes like this in order to feel more confident about my math skills and learn more.</td>\n",
       "      <td>0</td>\n",
       "      <td>0</td>\n",
       "    </tr>\n",
       "    <tr>\n",
       "      <th>293</th>\n",
       "      <td>so far, i feel like i have better understanding with the moon phases, and ive also learned the difference between the big and little dipper (finally).</td>\n",
       "      <td>0</td>\n",
       "      <td>0</td>\n",
       "    </tr>\n",
       "    <tr>\n",
       "      <th>294</th>\n",
       "      <td>im taking the physics lab because im also enrolled in the physics lecture on mwf. i'm also taking it because in high school i took preap physics and i really enjoyed it but it was kind of difficult for me as well.</td>\n",
       "      <td>0</td>\n",
       "      <td>0</td>\n",
       "    </tr>\n",
       "    <tr>\n",
       "      <th>295</th>\n",
       "      <td>working as a group can help break down difficult problems or text and write good dates and notes.</td>\n",
       "      <td>1</td>\n",
       "      <td>1</td>\n",
       "    </tr>\n",
       "  </tbody>\n",
       "</table>\n",
       "<p>296 rows × 3 columns</p>\n",
       "</div>"
      ],
      "text/plain": [
       "                                                                                                                                                                                                                                                                                        sentence  \\\n",
       "0                                                                                                                                                                                         so far this class has been surprisingly fun and i actually learned a lot that helps me with the class.   \n",
       "1                                                                                                                          unfortunately, i joined the sci class as we were beginning to go over unit three, so i am hoping there will be someone i can ask for assistance with the other units.   \n",
       "2                                                                                                                                                                                                                                                      but i don't think that's the case at all.   \n",
       "3                                                                                                                                                                                                                  i decided to enroll in this 1 unit course as a sort of precautionary measure.   \n",
       "4                                                                                                                                                                                                                                      this makes me empathetic, understanding, and more mature.   \n",
       "..                                                                                                                                                                                                                                                                                           ...   \n",
       "291                                                                                                                                           as for why i am here in san francisco, i moved away to isolate myself from any distractions that would cause me to not reach my highest potential.   \n",
       "292  part of my major requires me to finish math classes, and i wanted to get help with that because classes can be challenging and hard to understand sometimes, and its helpful to have assistance from classes like this in order to feel more confident about my math skills and learn more.   \n",
       "293                                                                                                                                       so far, i feel like i have better understanding with the moon phases, and ive also learned the difference between the big and little dipper (finally).   \n",
       "294                                                                        im taking the physics lab because im also enrolled in the physics lecture on mwf. i'm also taking it because in high school i took preap physics and i really enjoyed it but it was kind of difficult for me as well.   \n",
       "295                                                                                                                                                                                            working as a group can help break down difficult problems or text and write good dates and notes.   \n",
       "\n",
       "     label  predicted_label  \n",
       "0        0                0  \n",
       "1        0                0  \n",
       "2        0                0  \n",
       "3        0                0  \n",
       "4        0                0  \n",
       "..     ...              ...  \n",
       "291      0                0  \n",
       "292      0                0  \n",
       "293      0                0  \n",
       "294      0                0  \n",
       "295      1                1  \n",
       "\n",
       "[296 rows x 3 columns]"
      ]
     },
     "execution_count": 53,
     "metadata": {},
     "output_type": "execute_result"
    }
   ],
   "source": [
    "test_df_copy = test_df.copy()\n",
    "test_df_copy[\"predicted_label\"] = y_pred_distillbert\n",
    "test_df_copy"
   ]
  },
  {
   "cell_type": "code",
   "execution_count": 31,
   "metadata": {},
   "outputs": [
    {
     "data": {
      "text/plain": [
       "'/Users/gbaldonado/Developer/ml-alma-taccti/ml-alma-taccti/notebooks/experiments/exp_4_single/Social'"
      ]
     },
     "execution_count": 31,
     "metadata": {},
     "output_type": "execute_result"
    }
   ],
   "source": [
    "pwd"
   ]
  },
  {
   "cell_type": "code",
   "execution_count": 54,
   "metadata": {},
   "outputs": [],
   "source": [
    "test_df_copy.to_excel(\"Social_capital_error_analysis_2.xlsx\")"
   ]
  },
  {
   "cell_type": "code",
   "execution_count": 24,
   "metadata": {},
   "outputs": [],
   "source": [
    "# distillbert_predictor.save('../../model/first_generation_distilbert_base_uncased_model_10102020') # 256 MB"
   ]
  },
  {
   "cell_type": "code",
   "execution_count": 21,
   "metadata": {},
   "outputs": [
    {
     "name": "stdout",
     "output_type": "stream",
     "text": [
      "AUC roc score for distillbert model:  0.9306334080717489\n"
     ]
    }
   ],
   "source": [
    "print(\"AUC roc score for distillbert model: \", roc_auc_score(distillbert_test_label,y_pred_distillbert))"
   ]
  },
  {
   "cell_type": "code",
   "execution_count": 22,
   "metadata": {},
   "outputs": [
    {
     "name": "stdout",
     "output_type": "stream",
     "text": [
      "AUC PR score for DistilBERT model:  0.7918205047976637\n"
     ]
    }
   ],
   "source": [
    "from sklearn.metrics import auc, precision_recall_curve\n",
    "\n",
    "# Replace these with your actual data\n",
    "# distillbert_test_label: Ground truth labels (list or numpy array)\n",
    "# y_pred_distillbert: Predicted probabilities (list or numpy array)\n",
    "\n",
    "# Calculate precision-recall curve\n",
    "precision, recall, _ = precision_recall_curve(distillbert_test_label, y_pred_distillbert)\n",
    "\n",
    "# Calculate PR AUC\n",
    "pr_auc_score = auc(recall, precision)\n",
    "\n",
    "# Print the result\n",
    "print(\"AUC PR score for DistilBERT model: \", pr_auc_score)"
   ]
  },
  {
   "cell_type": "code",
   "execution_count": null,
   "metadata": {},
   "outputs": [],
   "source": []
  }
 ],
 "metadata": {
  "kernelspec": {
   "display_name": "ml_env",
   "language": "python",
   "name": "python3"
  },
  "language_info": {
   "codemirror_mode": {
    "name": "ipython",
    "version": 3
   },
   "file_extension": ".py",
   "mimetype": "text/x-python",
   "name": "python",
   "nbconvert_exporter": "python",
   "pygments_lexer": "ipython3",
   "version": "3.8.17"
  }
 },
 "nbformat": 4,
 "nbformat_minor": 4
}
