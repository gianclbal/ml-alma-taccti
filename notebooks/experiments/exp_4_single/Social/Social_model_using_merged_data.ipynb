{
 "cells": [
  {
   "cell_type": "markdown",
   "metadata": {},
   "source": [
    "# Social DistilBERT Model Using Single Batch 1 + Batch 2"
   ]
  },
  {
   "cell_type": "code",
   "execution_count": 1,
   "metadata": {},
   "outputs": [],
   "source": [
    "import ktrain\n",
    "import pandas as pd\n",
    "import numpy as np\n",
    "from sklearn.model_selection import train_test_split\n",
    "from sklearn.metrics import confusion_matrix\n",
    "from sklearn.metrics import classification_report\n",
    "from sklearn.metrics import roc_auc_score\n",
    "from ktrain import text\n",
    "import random\n",
    "import warnings\n",
    "from sklearn.utils import shuffle\n",
    "\n",
    "# Set random seed\"\n",
    "random.seed(18)\n",
    "seed = 18\n",
    "\n",
    "# Ignore warnings\n",
    "warnings.filterwarnings('ignore')\n",
    "\n",
    "# Display options\n",
    "pd.set_option('display.max_colwidth', None)"
   ]
  },
  {
   "cell_type": "markdown",
   "metadata": {},
   "source": [
    "## 1. Loading the data and quick exploratory data analysis"
   ]
  },
  {
   "cell_type": "code",
   "execution_count": 2,
   "metadata": {},
   "outputs": [],
   "source": [
    "# import os\n",
    "\n",
    "# # Define the folder path and themes\n",
    "# folder_path = '/Users/gbaldonado/Developer/ml-alma-taccti/ml-alma-taccti/data/processed_for_model/single_theme_using_jaccard_method'\n",
    "# themes = [\n",
    "#     'Aspirational', 'Attainment', 'Community Consciousness', 'Familial', 'Filial Piety', \n",
    "#     'First Gen', 'Navigational', 'Perseverance', 'Resistance', 'Social', 'Spiritual'\n",
    "# ]\n",
    "\n",
    "# # Initialize an empty dictionary to store DataFrames\n",
    "# batch_1_theme_dataframes = {}\n",
    "# # Loop through each theme and load its corresponding file\n",
    "# for theme in themes:\n",
    "#     # Construct the filename without modifying the theme name\n",
    "#     file_name = f\"{theme}_sentence_level_batch_1_jaccard.csv\"\n",
    "#     file_path = os.path.join(folder_path, file_name)\n",
    "    \n",
    "#     # Check if the file exists before attempting to load\n",
    "#     if os.path.exists(file_path):\n",
    "#         batch_1_theme_dataframes[theme] = pd.read_csv(file_path)\n",
    "#         print(f\"Loaded {file_name}\")\n",
    "#     else:\n",
    "#         print(f\"File not found for theme: {theme}\")\n",
    "\n",
    "# # Define the folder path and themes\n",
    "# folder_path = '/Users/gbaldonado/Developer/ml-alma-taccti/ml-alma-taccti/data/processed_for_model/single_theme_using_jaccard_method/batch_2'\n",
    "# themes = [\n",
    "#     'Aspirational', 'Attainment', 'Community Consciouss', 'Familial', 'Filial Piety', \n",
    "#     'First Generation', 'Navigational', 'Perseverance', 'Resistance', 'Social', 'Spiritual'\n",
    "# ]\n",
    "\n",
    "# # Initialize an empty dictionary to store DataFrames\n",
    "# batch_2_theme_dataframes = {}\n",
    "# # Loop through each theme and load its corresponding file\n",
    "# for theme in themes:\n",
    "#     # Construct the filename without modifying the theme name\n",
    "#     file_name = f\"{theme}_sentence_level_batch_2_jaccard.csv\"\n",
    "#     file_path = os.path.join(folder_path, file_name)\n",
    "    \n",
    "#     # Check if the file exists before attempting to load\n",
    "#     if os.path.exists(file_path):\n",
    "#         batch_2_theme_dataframes[theme] = pd.read_csv(file_path)\n",
    "#         print(f\"Loaded {file_name}\")\n",
    "#     else:\n",
    "#         print(f\"File not found for theme: {theme}\")"
   ]
  },
  {
   "cell_type": "code",
   "execution_count": 2,
   "metadata": {},
   "outputs": [
    {
     "data": {
      "text/html": [
       "<div>\n",
       "<style scoped>\n",
       "    .dataframe tbody tr th:only-of-type {\n",
       "        vertical-align: middle;\n",
       "    }\n",
       "\n",
       "    .dataframe tbody tr th {\n",
       "        vertical-align: top;\n",
       "    }\n",
       "\n",
       "    .dataframe thead th {\n",
       "        text-align: right;\n",
       "    }\n",
       "</style>\n",
       "<table border=\"1\" class=\"dataframe\">\n",
       "  <thead>\n",
       "    <tr style=\"text-align: right;\">\n",
       "      <th></th>\n",
       "      <th>sentence</th>\n",
       "      <th>label</th>\n",
       "      <th>phrase</th>\n",
       "    </tr>\n",
       "  </thead>\n",
       "  <tbody>\n",
       "    <tr>\n",
       "      <th>0</th>\n",
       "      <td>i dont know exactly, i dont think i am here for any specific reason that i know of.</td>\n",
       "      <td>0</td>\n",
       "      <td>['I naturally enjoy helping other people and helping people in need.']</td>\n",
       "    </tr>\n",
       "    <tr>\n",
       "      <th>1</th>\n",
       "      <td>i thought that this class can really help me hone in my math skills.</td>\n",
       "      <td>1</td>\n",
       "      <td>['When Andrew came to my class to offer this class to everyone, I thought that this would be the perfect opportunity for me to get the extra help that I knew that I am going to need. My math professors have all told me that Calculus 2 is a lot harder than Calculus 1 so I want to make sure that I am not falling behind.']</td>\n",
       "    </tr>\n",
       "    <tr>\n",
       "      <th>2</th>\n",
       "      <td>this is good because you can gain a sense of understanding of this class through your peers and helps you be more aware of areas that you don't understand due to group works that is provided.</td>\n",
       "      <td>1</td>\n",
       "      <td>[\"Not only that, I feel that this class is in a small setting where you can interact with other students to understand their view points of physic. This is good because you can gain a sense of understanding of this class through your peers and helps you be more aware of areas that you don't understand due to group works that is provided.\"]</td>\n",
       "    </tr>\n",
       "    <tr>\n",
       "      <th>3</th>\n",
       "      <td>maybe i might change my major if like physics a lot.</td>\n",
       "      <td>0</td>\n",
       "      <td>['Our professor makes this class really enjoyable and hes really helpful.']</td>\n",
       "    </tr>\n",
       "    <tr>\n",
       "      <th>4</th>\n",
       "      <td>i decided i would show up because i believe this class will help me pass chem 180.</td>\n",
       "      <td>1</td>\n",
       "      <td>['When my T.A. told us about a tutoring class where I can receive a unit for showing up and getting help.']</td>\n",
       "    </tr>\n",
       "    <tr>\n",
       "      <th>...</th>\n",
       "      <td>...</td>\n",
       "      <td>...</td>\n",
       "      <td>...</td>\n",
       "    </tr>\n",
       "    <tr>\n",
       "      <th>2955</th>\n",
       "      <td>i am here at sf state taking physics 222 because i want to pursue a career in engineering.</td>\n",
       "      <td>0</td>\n",
       "      <td>['I want to be able to work together with my peers']</td>\n",
       "    </tr>\n",
       "    <tr>\n",
       "      <th>2956</th>\n",
       "      <td>many are lost within themselves because they have not found their purpose.</td>\n",
       "      <td>1</td>\n",
       "      <td>['I strongly believe that we are all here for a reason and finding your purpose is what life is.']</td>\n",
       "    </tr>\n",
       "    <tr>\n",
       "      <th>2957</th>\n",
       "      <td>college is feel is a big stepping stone for young people such as myself and i think it can get you through many doors that would otherwise be closed with a college degree.</td>\n",
       "      <td>0</td>\n",
       "      <td>[\"I believe that humans have intrinsic value and that all are made in the image of God. Knowing this the why for me is to speak my truth where I go and to love people where I am at. I am a follower of Jesus so I do believe there are purpose for why I'm specifically at this school. Know do I know exactly, no. But knowing that God is with me throughout my academic journey and this thing called life is comforting.\"]</td>\n",
       "    </tr>\n",
       "    <tr>\n",
       "      <th>2958</th>\n",
       "      <td>here i am now, studying at sf state to have my b.s. computer engineering degree.</td>\n",
       "      <td>0</td>\n",
       "      <td>['I am also here because Ive wanted to be surrounded with the diverse group of people, to collaborate, have fun while studying.']</td>\n",
       "    </tr>\n",
       "    <tr>\n",
       "      <th>2959</th>\n",
       "      <td>i am also really interested in the human body and how it works.</td>\n",
       "      <td>0</td>\n",
       "      <td>['I want to help people and connect to patients. I want to connect to the individual on a personal level and get to have a better relationship with them. I would love to be able to help people physically and mentally, while being a friend. I would love to work with elders and get to know them, their stories, and experiences.']</td>\n",
       "    </tr>\n",
       "  </tbody>\n",
       "</table>\n",
       "<p>2960 rows × 3 columns</p>\n",
       "</div>"
      ],
      "text/plain": [
       "                                                                                                                                                                                             sentence  \\\n",
       "0                                                                                                                 i dont know exactly, i dont think i am here for any specific reason that i know of.   \n",
       "1                                                                                                                                i thought that this class can really help me hone in my math skills.   \n",
       "2     this is good because you can gain a sense of understanding of this class through your peers and helps you be more aware of areas that you don't understand due to group works that is provided.   \n",
       "3                                                                                                                                                maybe i might change my major if like physics a lot.   \n",
       "4                                                                                                                  i decided i would show up because i believe this class will help me pass chem 180.   \n",
       "...                                                                                                                                                                                               ...   \n",
       "2955                                                                                                       i am here at sf state taking physics 222 because i want to pursue a career in engineering.   \n",
       "2956                                                                                                                       many are lost within themselves because they have not found their purpose.   \n",
       "2957                      college is feel is a big stepping stone for young people such as myself and i think it can get you through many doors that would otherwise be closed with a college degree.   \n",
       "2958                                                                                                                 here i am now, studying at sf state to have my b.s. computer engineering degree.   \n",
       "2959                                                                                                                                  i am also really interested in the human body and how it works.   \n",
       "\n",
       "      label  \\\n",
       "0         0   \n",
       "1         1   \n",
       "2         1   \n",
       "3         0   \n",
       "4         1   \n",
       "...     ...   \n",
       "2955      0   \n",
       "2956      1   \n",
       "2957      0   \n",
       "2958      0   \n",
       "2959      0   \n",
       "\n",
       "                                                                                                                                                                                                                                                                                                                                                                                                                                phrase  \n",
       "0                                                                                                                                                                                                                                                                                                                                                               ['I naturally enjoy helping other people and helping people in need.']  \n",
       "1                                                                                                    ['When Andrew came to my class to offer this class to everyone, I thought that this would be the perfect opportunity for me to get the extra help that I knew that I am going to need. My math professors have all told me that Calculus 2 is a lot harder than Calculus 1 so I want to make sure that I am not falling behind.']  \n",
       "2                                                                                [\"Not only that, I feel that this class is in a small setting where you can interact with other students to understand their view points of physic. This is good because you can gain a sense of understanding of this class through your peers and helps you be more aware of areas that you don't understand due to group works that is provided.\"]  \n",
       "3                                                                                                                                                                                                                                                                                                                                                          ['Our professor makes this class really enjoyable and hes really helpful.']  \n",
       "4                                                                                                                                                                                                                                                                                                                          ['When my T.A. told us about a tutoring class where I can receive a unit for showing up and getting help.']  \n",
       "...                                                                                                                                                                                                                                                                                                                                                                                                                                ...  \n",
       "2955                                                                                                                                                                                                                                                                                                                                                                              ['I want to be able to work together with my peers']  \n",
       "2956                                                                                                                                                                                                                                                                                                                                ['I strongly believe that we are all here for a reason and finding your purpose is what life is.']  \n",
       "2957  [\"I believe that humans have intrinsic value and that all are made in the image of God. Knowing this the why for me is to speak my truth where I go and to love people where I am at. I am a follower of Jesus so I do believe there are purpose for why I'm specifically at this school. Know do I know exactly, no. But knowing that God is with me throughout my academic journey and this thing called life is comforting.\"]  \n",
       "2958                                                                                                                                                                                                                                                                                                 ['I am also here because Ive wanted to be surrounded with the diverse group of people, to collaborate, have fun while studying.']  \n",
       "2959                                                                                          ['I want to help people and connect to patients. I want to connect to the individual on a personal level and get to have a better relationship with them. I would love to be able to help people physically and mentally, while being a friend. I would love to work with elders and get to know them, their stories, and experiences.']  \n",
       "\n",
       "[2960 rows x 3 columns]"
      ]
     },
     "execution_count": 2,
     "metadata": {},
     "output_type": "execute_result"
    }
   ],
   "source": [
    "merged_social_df = pd.read_csv(\"/Users/gbaldonado/Developer/ml-alma-taccti/ml-alma-taccti/data/processed_for_model/corrections/Social/Social_merged_Reevaluated.csv\")\n",
    "\n",
    "\n",
    "merged_social_df"
   ]
  },
  {
   "cell_type": "code",
   "execution_count": 3,
   "metadata": {},
   "outputs": [],
   "source": [
    "# Shuffle the merged dataset\n",
    "merged_social_df = shuffle(merged_social_df, random_state=seed)\n",
    "\n",
    "# Train-test split \n",
    "training_df, test_df = train_test_split(merged_social_df, test_size=0.1, random_state=18, stratify=merged_social_df[\"label\"])\n",
    "\n",
    "\n",
    "training_df.reset_index(drop=True, inplace=True)\n",
    "test_df.reset_index(drop=True, inplace=True)\n"
   ]
  },
  {
   "cell_type": "code",
   "execution_count": 27,
   "metadata": {},
   "outputs": [
    {
     "name": "stdout",
     "output_type": "stream",
     "text": [
      "Training dataset shape: (2664, 3) \n",
      "Test dataset shape: (296, 3)\n",
      "Positive labels present in the dataset : 671  out of 2664 or 25.18768768768769%\n",
      "Positive labels present in the test dataset : 75  out of 296 or 25.33783783783784%\n"
     ]
    }
   ],
   "source": [
    "print(f\"Training dataset shape: {training_df.shape} \\nTest dataset shape: {test_df.shape}\")\n",
    "pos_labels = len([n for n in training_df['label'] if n==1])\n",
    "print(\"Positive labels present in the dataset : {}  out of {} or {}%\".format(pos_labels, len(training_df['label']), (pos_labels/len(training_df['label']))*100))\n",
    "pos_labels = len([n for n in test_df['label'] if n==1])\n",
    "print(\"Positive labels present in the test dataset : {}  out of {} or {}%\".format(pos_labels, len(test_df['label']), (pos_labels/len(test_df['label']))*100))"
   ]
  },
  {
   "cell_type": "code",
   "execution_count": 28,
   "metadata": {},
   "outputs": [
    {
     "data": {
      "text/html": [
       "<div>\n",
       "<style scoped>\n",
       "    .dataframe tbody tr th:only-of-type {\n",
       "        vertical-align: middle;\n",
       "    }\n",
       "\n",
       "    .dataframe tbody tr th {\n",
       "        vertical-align: top;\n",
       "    }\n",
       "\n",
       "    .dataframe thead th {\n",
       "        text-align: right;\n",
       "    }\n",
       "</style>\n",
       "<table border=\"1\" class=\"dataframe\">\n",
       "  <thead>\n",
       "    <tr style=\"text-align: right;\">\n",
       "      <th></th>\n",
       "      <th>sentence</th>\n",
       "      <th>label</th>\n",
       "      <th>phrase</th>\n",
       "    </tr>\n",
       "  </thead>\n",
       "  <tbody>\n",
       "    <tr>\n",
       "      <th>0</th>\n",
       "      <td>the values of my community have made a deep and meaningful impression on me that has helped my progress through college.</td>\n",
       "      <td>1</td>\n",
       "      <td>['The values of my community have made a deep and meaningful impression on me that has helped my progress through college. Being apart of a community of people that produce, whether that be writings, music, sculpting, has made me more creative and has taught me numerous extrapersonal skills.']</td>\n",
       "    </tr>\n",
       "    <tr>\n",
       "      <th>1</th>\n",
       "      <td>i want to go into stem to do my part, to add to the collective knowledge, so future generations can use that knowledge to solve the mysteries of life.</td>\n",
       "      <td>0</td>\n",
       "      <td>['I want to go into the STEM field to help people and improve their quality of life.']</td>\n",
       "    </tr>\n",
       "    <tr>\n",
       "      <th>2</th>\n",
       "      <td>i would like to major in computer science, but i enjoy the handson approach to projects and tech.</td>\n",
       "      <td>0</td>\n",
       "      <td>['To get a higher education, to experience a sort of working environment while making friends and making contacts with people that might help me out in my future, such as having references in classmates or professors that Ive interacted with and had for my courses.']</td>\n",
       "    </tr>\n",
       "    <tr>\n",
       "      <th>3</th>\n",
       "      <td>helping me be in a smaller scale room with other peers that are as well trying to learn the same material asking and getting questions, we all found confusing answered.</td>\n",
       "      <td>1</td>\n",
       "      <td>['Helping me be in a smaller scale room with other peers that are as well trying to learn the same material asking and getting questions, we all found confusing answered. As well it is a great network tool to meet more people that are moving into the same or similar major that I am intending to work towards. I have met many people that I now talk to outside of class and help each other with assignments and made our own mini study groups at the library']</td>\n",
       "    </tr>\n",
       "    <tr>\n",
       "      <th>4</th>\n",
       "      <td>that being said, i have came across various situations where peoples lives have been taken too early on and because of those experiences, i know how important it is to value living and being here.</td>\n",
       "      <td>0</td>\n",
       "      <td>['In a different and more general sense of why I am here, well, I know that I am here because I have given this gift of life and I try my best to make the best of it everyday.', 'That being said, I have came across various situations where peoples lives have been taken too early on and because of those experiences, I know how important it is to value living and being here.']</td>\n",
       "    </tr>\n",
       "    <tr>\n",
       "      <th>...</th>\n",
       "      <td>...</td>\n",
       "      <td>...</td>\n",
       "      <td>...</td>\n",
       "    </tr>\n",
       "    <tr>\n",
       "      <th>2659</th>\n",
       "      <td>i find the field to be very interesting to me and i can see myself enjoying it for the rest of my life.</td>\n",
       "      <td>0</td>\n",
       "      <td>['I am here to build off of what we learn in class, ask questions about topics that I am not understanding, and to build study groupsrelationships with my fellow peers']</td>\n",
       "    </tr>\n",
       "    <tr>\n",
       "      <th>2660</th>\n",
       "      <td>we are all here for a reason.</td>\n",
       "      <td>0</td>\n",
       "      <td>['We are all here for a reason. Some believe god, others think its the universe but something brought us all here and we are better being community then anything.']</td>\n",
       "    </tr>\n",
       "    <tr>\n",
       "      <th>2661</th>\n",
       "      <td>i believe that i am seeking the tools to help me with my craft as i venture into life.</td>\n",
       "      <td>1</td>\n",
       "      <td>['I want to give back to the people that helped raise me and I would enjoy being a symbol of hope for the youth (younger generation) especially given the culture and beliefs that surrounded our upbringing.']</td>\n",
       "    </tr>\n",
       "    <tr>\n",
       "      <th>2662</th>\n",
       "      <td>i want to be a part of the discovery of new things, especially in the med field.</td>\n",
       "      <td>0</td>\n",
       "      <td>['I want to help people and connect to patients. I want to connect to the individual on a personal level and get to have a better relationship with them. I would love to be able to help people physically and mentally, while being a friend. I would love to work with elders and get to know them, their stories, and experiences.']</td>\n",
       "    </tr>\n",
       "    <tr>\n",
       "      <th>2663</th>\n",
       "      <td>im here for the community i grew up in and the culture that cultirated the person i am.</td>\n",
       "      <td>1</td>\n",
       "      <td>['Im here for the community I grew up in and the culture that cultirated the person I am.']</td>\n",
       "    </tr>\n",
       "  </tbody>\n",
       "</table>\n",
       "<p>2664 rows × 3 columns</p>\n",
       "</div>"
      ],
      "text/plain": [
       "                                                                                                                                                                                                  sentence  \\\n",
       "0                                                                                 the values of my community have made a deep and meaningful impression on me that has helped my progress through college.   \n",
       "1                                                   i want to go into stem to do my part, to add to the collective knowledge, so future generations can use that knowledge to solve the mysteries of life.   \n",
       "2                                                                                                        i would like to major in computer science, but i enjoy the handson approach to projects and tech.   \n",
       "3                                 helping me be in a smaller scale room with other peers that are as well trying to learn the same material asking and getting questions, we all found confusing answered.   \n",
       "4     that being said, i have came across various situations where peoples lives have been taken too early on and because of those experiences, i know how important it is to value living and being here.   \n",
       "...                                                                                                                                                                                                    ...   \n",
       "2659                                                                                               i find the field to be very interesting to me and i can see myself enjoying it for the rest of my life.   \n",
       "2660                                                                                                                                                                         we are all here for a reason.   \n",
       "2661                                                                                                                i believe that i am seeking the tools to help me with my craft as i venture into life.   \n",
       "2662                                                                                                                      i want to be a part of the discovery of new things, especially in the med field.   \n",
       "2663                                                                                                               im here for the community i grew up in and the culture that cultirated the person i am.   \n",
       "\n",
       "      label  \\\n",
       "0         1   \n",
       "1         0   \n",
       "2         0   \n",
       "3         1   \n",
       "4         0   \n",
       "...     ...   \n",
       "2659      0   \n",
       "2660      0   \n",
       "2661      1   \n",
       "2662      0   \n",
       "2663      1   \n",
       "\n",
       "                                                                                                                                                                                                                                                                                                                                                                                                                                                                         phrase  \n",
       "0                                                                                                                                                                        ['The values of my community have made a deep and meaningful impression on me that has helped my progress through college. Being apart of a community of people that produce, whether that be writings, music, sculpting, has made me more creative and has taught me numerous extrapersonal skills.']  \n",
       "1                                                                                                                                                                                                                                                                                                                                                                                        ['I want to go into the STEM field to help people and improve their quality of life.']  \n",
       "2                                                                                                                                                                                                   ['To get a higher education, to experience a sort of working environment while making friends and making contacts with people that might help me out in my future, such as having references in classmates or professors that Ive interacted with and had for my courses.']  \n",
       "3     ['Helping me be in a smaller scale room with other peers that are as well trying to learn the same material asking and getting questions, we all found confusing answered. As well it is a great network tool to meet more people that are moving into the same or similar major that I am intending to work towards. I have met many people that I now talk to outside of class and help each other with assignments and made our own mini study groups at the library']  \n",
       "4                                                                                     ['In a different and more general sense of why I am here, well, I know that I am here because I have given this gift of life and I try my best to make the best of it everyday.', 'That being said, I have came across various situations where peoples lives have been taken too early on and because of those experiences, I know how important it is to value living and being here.']  \n",
       "...                                                                                                                                                                                                                                                                                                                                                                                                                                                                         ...  \n",
       "2659                                                                                                                                                                                                                                                                                                  ['I am here to build off of what we learn in class, ask questions about topics that I am not understanding, and to build study groupsrelationships with my fellow peers']  \n",
       "2660                                                                                                                                                                                                                                                                                                       ['We are all here for a reason. Some believe god, others think its the universe but something brought us all here and we are better being community then anything.']  \n",
       "2661                                                                                                                                                                                                                                                            ['I want to give back to the people that helped raise me and I would enjoy being a symbol of hope for the youth (younger generation) especially given the culture and beliefs that surrounded our upbringing.']  \n",
       "2662                                                                                                                                   ['I want to help people and connect to patients. I want to connect to the individual on a personal level and get to have a better relationship with them. I would love to be able to help people physically and mentally, while being a friend. I would love to work with elders and get to know them, their stories, and experiences.']  \n",
       "2663                                                                                                                                                                                                                                                                                                                                                                                ['Im here for the community I grew up in and the culture that cultirated the person I am.']  \n",
       "\n",
       "[2664 rows x 3 columns]"
      ]
     },
     "execution_count": 28,
     "metadata": {},
     "output_type": "execute_result"
    }
   ],
   "source": [
    "training_df"
   ]
  },
  {
   "cell_type": "code",
   "execution_count": 29,
   "metadata": {},
   "outputs": [
    {
     "data": {
      "text/html": [
       "<div>\n",
       "<style scoped>\n",
       "    .dataframe tbody tr th:only-of-type {\n",
       "        vertical-align: middle;\n",
       "    }\n",
       "\n",
       "    .dataframe tbody tr th {\n",
       "        vertical-align: top;\n",
       "    }\n",
       "\n",
       "    .dataframe thead th {\n",
       "        text-align: right;\n",
       "    }\n",
       "</style>\n",
       "<table border=\"1\" class=\"dataframe\">\n",
       "  <thead>\n",
       "    <tr style=\"text-align: right;\">\n",
       "      <th></th>\n",
       "      <th>sentence</th>\n",
       "      <th>label</th>\n",
       "      <th>phrase</th>\n",
       "    </tr>\n",
       "  </thead>\n",
       "  <tbody>\n",
       "    <tr>\n",
       "      <th>0</th>\n",
       "      <td>i dont want to just get by my class i want to learn and apply the things i have learned to the world.</td>\n",
       "      <td>0</td>\n",
       "      <td>['I also just want to meet new people who are interested in the same things as me. I always looking for conversations and this is a great way to find them in topics I am also interested in.']</td>\n",
       "    </tr>\n",
       "    <tr>\n",
       "      <th>1</th>\n",
       "      <td>also, the way hollie and julie pitched the class was very interesting.</td>\n",
       "      <td>0</td>\n",
       "      <td>['For quizzes, I have formed a few study groups with both my peers in lecture and from lab.', 'I feel that were on different pages from lab and lecture but working together allows us to solve our confusions']</td>\n",
       "    </tr>\n",
       "    <tr>\n",
       "      <th>2</th>\n",
       "      <td>my main goal is to learn.</td>\n",
       "      <td>0</td>\n",
       "      <td>['I want to provide people with healthcare that will leave them feeling safe and informed.My main purpose is to help. Whether it is my friends or family, even people I just met, helping them is something I stand by. Being able to lift as many worries off of people is something that I find joy in. Whenever I am free I dedicate my time to others and that is why I am here.']</td>\n",
       "    </tr>\n",
       "    <tr>\n",
       "      <th>3</th>\n",
       "      <td>jesse olmos 915123786 journal essay i am here because, im a mechanical engineering major and currently taking calculus 3.</td>\n",
       "      <td>0</td>\n",
       "      <td>['However I have now realized that they truly help especially since the class itself is a really fun environment within itself and the work we do is learning with one another and not simply copping notes that the professor has written down on the board.']</td>\n",
       "    </tr>\n",
       "    <tr>\n",
       "      <th>4</th>\n",
       "      <td>i often forget about what i cant see, but that could improve through the engineering courses ill be taking in the upcoming semesters.</td>\n",
       "      <td>0</td>\n",
       "      <td>['Ultimately, I hope to get out as much as I can from my education in order to give back in the near future.']</td>\n",
       "    </tr>\n",
       "    <tr>\n",
       "      <th>...</th>\n",
       "      <td>...</td>\n",
       "      <td>...</td>\n",
       "      <td>...</td>\n",
       "    </tr>\n",
       "    <tr>\n",
       "      <th>291</th>\n",
       "      <td>so why am i here?</td>\n",
       "      <td>0</td>\n",
       "      <td>[\"I really want to be able to make a change in people's lives.\"]</td>\n",
       "    </tr>\n",
       "    <tr>\n",
       "      <th>292</th>\n",
       "      <td>which means i am gaining knowledge that is not only taught by the professor, but also from my fellow peers.</td>\n",
       "      <td>1</td>\n",
       "      <td>['Which means I am gaining knowledge that is not only taught by the professor, but also from my fellow peers.']</td>\n",
       "    </tr>\n",
       "    <tr>\n",
       "      <th>293</th>\n",
       "      <td>overall, college, i am here to learn about what i love, marine biology, and i don't want to let myself forget that.</td>\n",
       "      <td>0</td>\n",
       "      <td>[\"spiritually I feel like I'm here for a big reason, and I think it's mainly just to help other people.\"]</td>\n",
       "    </tr>\n",
       "    <tr>\n",
       "      <th>294</th>\n",
       "      <td>on this journey, i had to make many decisions that would best benefit me and my life.</td>\n",
       "      <td>0</td>\n",
       "      <td>['The BLM movement going on right now as well, has made a huge influence because I am striving to be successful to help the people around me.']</td>\n",
       "    </tr>\n",
       "    <tr>\n",
       "      <th>295</th>\n",
       "      <td>those are some of the reasons on why i am here and why i am enrolled in taking the physics 102 lab.</td>\n",
       "      <td>0</td>\n",
       "      <td>['I am here to learn about the body and movements in order to help others become healthier and stronger.']</td>\n",
       "    </tr>\n",
       "  </tbody>\n",
       "</table>\n",
       "<p>296 rows × 3 columns</p>\n",
       "</div>"
      ],
      "text/plain": [
       "                                                                                                                                  sentence  \\\n",
       "0                                    i dont want to just get by my class i want to learn and apply the things i have learned to the world.   \n",
       "1                                                                   also, the way hollie and julie pitched the class was very interesting.   \n",
       "2                                                                                                                my main goal is to learn.   \n",
       "3                jesse olmos 915123786 journal essay i am here because, im a mechanical engineering major and currently taking calculus 3.   \n",
       "4    i often forget about what i cant see, but that could improve through the engineering courses ill be taking in the upcoming semesters.   \n",
       "..                                                                                                                                     ...   \n",
       "291                                                                                                                      so why am i here?   \n",
       "292                            which means i am gaining knowledge that is not only taught by the professor, but also from my fellow peers.   \n",
       "293                    overall, college, i am here to learn about what i love, marine biology, and i don't want to let myself forget that.   \n",
       "294                                                  on this journey, i had to make many decisions that would best benefit me and my life.   \n",
       "295                                    those are some of the reasons on why i am here and why i am enrolled in taking the physics 102 lab.   \n",
       "\n",
       "     label  \\\n",
       "0        0   \n",
       "1        0   \n",
       "2        0   \n",
       "3        0   \n",
       "4        0   \n",
       "..     ...   \n",
       "291      0   \n",
       "292      1   \n",
       "293      0   \n",
       "294      0   \n",
       "295      0   \n",
       "\n",
       "                                                                                                                                                                                                                                                                                                                                                                                     phrase  \n",
       "0                                                                                                                                                                                           ['I also just want to meet new people who are interested in the same things as me. I always looking for conversations and this is a great way to find them in topics I am also interested in.']  \n",
       "1                                                                                                                                                                          ['For quizzes, I have formed a few study groups with both my peers in lecture and from lab.', 'I feel that were on different pages from lab and lecture but working together allows us to solve our confusions']  \n",
       "2    ['I want to provide people with healthcare that will leave them feeling safe and informed.My main purpose is to help. Whether it is my friends or family, even people I just met, helping them is something I stand by. Being able to lift as many worries off of people is something that I find joy in. Whenever I am free I dedicate my time to others and that is why I am here.']  \n",
       "3                                                                                                                           ['However I have now realized that they truly help especially since the class itself is a really fun environment within itself and the work we do is learning with one another and not simply copping notes that the professor has written down on the board.']  \n",
       "4                                                                                                                                                                                                                                                                            ['Ultimately, I hope to get out as much as I can from my education in order to give back in the near future.']  \n",
       "..                                                                                                                                                                                                                                                                                                                                                                                      ...  \n",
       "291                                                                                                                                                                                                                                                                                                                        [\"I really want to be able to make a change in people's lives.\"]  \n",
       "292                                                                                                                                                                                                                                                                         ['Which means I am gaining knowledge that is not only taught by the professor, but also from my fellow peers.']  \n",
       "293                                                                                                                                                                                                                                                                               [\"spiritually I feel like I'm here for a big reason, and I think it's mainly just to help other people.\"]  \n",
       "294                                                                                                                                                                                                                                         ['The BLM movement going on right now as well, has made a huge influence because I am striving to be successful to help the people around me.']  \n",
       "295                                                                                                                                                                                                                                                                              ['I am here to learn about the body and movements in order to help others become healthier and stronger.']  \n",
       "\n",
       "[296 rows x 3 columns]"
      ]
     },
     "execution_count": 29,
     "metadata": {},
     "output_type": "execute_result"
    }
   ],
   "source": [
    "test_df"
   ]
  },
  {
   "cell_type": "code",
   "execution_count": 32,
   "metadata": {},
   "outputs": [
    {
     "data": {
      "text/html": [
       "<div>\n",
       "<style scoped>\n",
       "    .dataframe tbody tr th:only-of-type {\n",
       "        vertical-align: middle;\n",
       "    }\n",
       "\n",
       "    .dataframe tbody tr th {\n",
       "        vertical-align: top;\n",
       "    }\n",
       "\n",
       "    .dataframe thead th {\n",
       "        text-align: right;\n",
       "    }\n",
       "</style>\n",
       "<table border=\"1\" class=\"dataframe\">\n",
       "  <thead>\n",
       "    <tr style=\"text-align: right;\">\n",
       "      <th></th>\n",
       "      <th>sentence</th>\n",
       "      <th>label</th>\n",
       "      <th>phrase</th>\n",
       "    </tr>\n",
       "  </thead>\n",
       "  <tbody>\n",
       "  </tbody>\n",
       "</table>\n",
       "</div>"
      ],
      "text/plain": [
       "Empty DataFrame\n",
       "Columns: [sentence, label, phrase]\n",
       "Index: []"
      ]
     },
     "execution_count": 32,
     "metadata": {},
     "output_type": "execute_result"
    }
   ],
   "source": [
    "# Filter rows where the 'sentence' column contains a specific substring\n",
    "substring = \"i often forget about what i cant see, but that could improve through the engineering courses ill be taking in the upcoming semesters.\"  # Replace with your desired substring\n",
    "filtered_df = training_df[training_df['sentence'].str.contains(substring, case=False, na=False)]\n",
    "\n",
    "# Display the filtered DataFrame\n",
    "filtered_df"
   ]
  },
  {
   "cell_type": "code",
   "execution_count": 32,
   "metadata": {},
   "outputs": [
    {
     "name": "stdout",
     "output_type": "stream",
     "text": [
      "Original class distribution:\n",
      "label\n",
      "0    3864\n",
      "1     848\n",
      "Name: count, dtype: int64\n",
      "Minority samples: 848, Target majority count: 1272, Available majority samples: 3864\n",
      "New class distribution:\n",
      "label\n",
      "0    1272\n",
      "1     848\n",
      "Name: count, dtype: int64\n"
     ]
    }
   ],
   "source": [
    "# from sklearn.utils import resample\n",
    "# import pandas as pd\n",
    "\n",
    "# # Assuming `training_df` already exists and has a 'label' column\n",
    "\n",
    "# # Check original class distribution\n",
    "# print(\"Original class distribution:\")\n",
    "# print(training_df['label'].value_counts())\n",
    "\n",
    "# # Set target distribution\n",
    "# target_minority_ratio = 0.40  # 20%\n",
    "# target_majority_ratio = 0.60  # 80%\n",
    "\n",
    "# # Separate majority and minority classes\n",
    "# minority_class = training_df[training_df['label'] == 1]\n",
    "# majority_class = training_df[training_df['label'] == 0]\n",
    "\n",
    "# # Use all samples from the minority class\n",
    "# target_minority_count = len(minority_class)\n",
    "\n",
    "# # Calculate the maximum possible number of samples for the majority class\n",
    "# target_majority_count = min(len(majority_class), int(target_minority_count / target_minority_ratio * target_majority_ratio))\n",
    "\n",
    "# # Debug information\n",
    "# print(f\"Minority samples: {target_minority_count}, \"\n",
    "#       f\"Target majority count: {target_majority_count}, \"\n",
    "#       f\"Available majority samples: {len(majority_class)}\")\n",
    "\n",
    "# # Perform undersampling\n",
    "# if target_majority_count < len(majority_class):\n",
    "#     undersampled_majority = resample(\n",
    "#         majority_class,\n",
    "#         replace=False,  # without replacement\n",
    "#         n_samples=target_majority_count,\n",
    "#         random_state=42\n",
    "#     )\n",
    "# else:\n",
    "#     print(\"Target majority count exceeds available samples. Using all majority samples.\")\n",
    "#     undersampled_majority = majority_class\n",
    "\n",
    "# # Combine the resampled majority class with the full minority class\n",
    "# training_df = pd.concat([minority_class, undersampled_majority]).sample(frac=1, random_state=42).reset_index(drop=True)\n",
    "\n",
    "# # Check new class distribution\n",
    "# print(\"New class distribution:\")\n",
    "# print(training_df['label'].value_counts())"
   ]
  },
  {
   "cell_type": "code",
   "execution_count": null,
   "metadata": {},
   "outputs": [],
   "source": [
    "# Filter rows where the 'sentence' column contains a specific substring\n",
    "substring = \"i am here to learn\"  # Replace with your desired substring\n",
    "filtered_df = merged_df[merged_df['sentence'].str.contains(substring, case=False, na=False)]\n",
    "\n",
    "# Display the filtered DataFrame\n",
    "filtered_df"
   ]
  },
  {
   "cell_type": "code",
   "execution_count": 5,
   "metadata": {},
   "outputs": [],
   "source": [
    "from sklearn.utils import resample\n",
    "import pandas as pd\n",
    "\n",
    "def oversample_minority(training_df, minority_label, majority_label, target_minority_ratio):\n",
    "    \"\"\"\n",
    "    Oversample the minority class to achieve a desired class ratio.\n",
    "\n",
    "    Parameters:\n",
    "        training_df (pd.DataFrame): The input training dataset containing a 'label' column.\n",
    "        minority_label (int): The label of the minority class (e.g., 1).\n",
    "        majority_label (int): The label of the majority class (e.g., 0).\n",
    "        target_minority_ratio (float): The desired ratio of the minority class (e.g., 0.18 for 18%).\n",
    "\n",
    "    Returns:\n",
    "        pd.DataFrame: The balanced dataset with oversampled minority class.\n",
    "    \"\"\"\n",
    "    # Separate majority and minority classes\n",
    "    minority_class = training_df[training_df['label'] == minority_label]\n",
    "    majority_class = training_df[training_df['label'] == majority_label]\n",
    "\n",
    "    # Calculate the target size for the minority class\n",
    "    target_minority_count = int(len(majority_class) * (target_minority_ratio / (1 - target_minority_ratio)))\n",
    "\n",
    "    # Debug information\n",
    "    print(f\"Minority samples: {len(minority_class)}, \"\n",
    "          f\"Target minority count: {target_minority_count}, \"\n",
    "          f\"Available majority samples: {len(majority_class)}\")\n",
    "\n",
    "    # Perform oversampling\n",
    "    oversampled_minority = resample(\n",
    "        minority_class,\n",
    "        replace=True,  # with replacement\n",
    "        n_samples=target_minority_count,\n",
    "        random_state=seed\n",
    "    )\n",
    "\n",
    "    # Combine the resampled minority class with the majority class\n",
    "    balanced_training_df = pd.concat([oversampled_minority, majority_class]).sample(frac=1, random_state=42).reset_index(drop=True)\n",
    "\n",
    "    # Check the new class distribution\n",
    "    print(\"New class distribution:\")\n",
    "    print(balanced_training_df['label'].value_counts())\n",
    "\n",
    "    return balanced_training_df"
   ]
  },
  {
   "cell_type": "code",
   "execution_count": 6,
   "metadata": {},
   "outputs": [],
   "source": [
    "train_df, validate_df = train_test_split(training_df, test_size=0.1, random_state=18)"
   ]
  },
  {
   "cell_type": "code",
   "execution_count": 22,
   "metadata": {},
   "outputs": [
    {
     "name": "stdout",
     "output_type": "stream",
     "text": [
      "Minority samples: 257, Target minority count: 1490, Available majority samples: 3478\n",
      "New class distribution:\n",
      "label\n",
      "0    3478\n",
      "1    1490\n",
      "Name: count, dtype: int64\n"
     ]
    }
   ],
   "source": [
    "# Assuming `training_df` is your dataset\n",
    "training_df = oversample_minority(\n",
    "    training_df=train_df,\n",
    "    minority_label=1,  # The label of the minority class\n",
    "    majority_label=0,  # The label of the majority class\n",
    "    target_minority_ratio=0.30  # Target ratio for the minority class\n",
    ")"
   ]
  },
  {
   "cell_type": "code",
   "execution_count": 20,
   "metadata": {},
   "outputs": [
    {
     "name": "stdout",
     "output_type": "stream",
     "text": [
      "Training dataset shape: (2949, 3) \n",
      "Test dataset shape: (328, 3)\n",
      "Positive labels present in the dataset : 731  out of 2949 or 24.788063750423873%\n",
      "Positive labels present in the test dataset : 81  out of 328 or 24.695121951219512%\n"
     ]
    },
    {
     "ename": "NameError",
     "evalue": "name 'validate_df' is not defined",
     "output_type": "error",
     "traceback": [
      "\u001b[0;31m---------------------------------------------------------------------------\u001b[0m",
      "\u001b[0;31mNameError\u001b[0m                                 Traceback (most recent call last)",
      "Cell \u001b[0;32mIn[20], line 6\u001b[0m\n\u001b[1;32m      4\u001b[0m pos_labels \u001b[38;5;241m=\u001b[39m \u001b[38;5;28mlen\u001b[39m([n \u001b[38;5;28;01mfor\u001b[39;00m n \u001b[38;5;129;01min\u001b[39;00m test_df[\u001b[38;5;124m'\u001b[39m\u001b[38;5;124mlabel\u001b[39m\u001b[38;5;124m'\u001b[39m] \u001b[38;5;28;01mif\u001b[39;00m n\u001b[38;5;241m==\u001b[39m\u001b[38;5;241m1\u001b[39m])\n\u001b[1;32m      5\u001b[0m \u001b[38;5;28mprint\u001b[39m(\u001b[38;5;124m\"\u001b[39m\u001b[38;5;124mPositive labels present in the test dataset : \u001b[39m\u001b[38;5;132;01m{}\u001b[39;00m\u001b[38;5;124m  out of \u001b[39m\u001b[38;5;132;01m{}\u001b[39;00m\u001b[38;5;124m or \u001b[39m\u001b[38;5;132;01m{}\u001b[39;00m\u001b[38;5;124m%\u001b[39m\u001b[38;5;124m\"\u001b[39m\u001b[38;5;241m.\u001b[39mformat(pos_labels, \u001b[38;5;28mlen\u001b[39m(test_df[\u001b[38;5;124m'\u001b[39m\u001b[38;5;124mlabel\u001b[39m\u001b[38;5;124m'\u001b[39m]), (pos_labels\u001b[38;5;241m/\u001b[39m\u001b[38;5;28mlen\u001b[39m(test_df[\u001b[38;5;124m'\u001b[39m\u001b[38;5;124mlabel\u001b[39m\u001b[38;5;124m'\u001b[39m]))\u001b[38;5;241m*\u001b[39m\u001b[38;5;241m100\u001b[39m))\n\u001b[0;32m----> 6\u001b[0m pos_labels \u001b[38;5;241m=\u001b[39m \u001b[38;5;28mlen\u001b[39m([n \u001b[38;5;28;01mfor\u001b[39;00m n \u001b[38;5;129;01min\u001b[39;00m \u001b[43mvalidate_df\u001b[49m[\u001b[38;5;124m'\u001b[39m\u001b[38;5;124mlabel\u001b[39m\u001b[38;5;124m'\u001b[39m] \u001b[38;5;28;01mif\u001b[39;00m n\u001b[38;5;241m==\u001b[39m\u001b[38;5;241m1\u001b[39m])\n\u001b[1;32m      7\u001b[0m \u001b[38;5;28mprint\u001b[39m(\u001b[38;5;124m\"\u001b[39m\u001b[38;5;124mPositive labels present in the validation dataset : \u001b[39m\u001b[38;5;132;01m{}\u001b[39;00m\u001b[38;5;124m  out of \u001b[39m\u001b[38;5;132;01m{}\u001b[39;00m\u001b[38;5;124m or \u001b[39m\u001b[38;5;132;01m{}\u001b[39;00m\u001b[38;5;124m%\u001b[39m\u001b[38;5;124m\"\u001b[39m\u001b[38;5;241m.\u001b[39mformat(pos_labels, \u001b[38;5;28mlen\u001b[39m(validate_df[\u001b[38;5;124m'\u001b[39m\u001b[38;5;124mlabel\u001b[39m\u001b[38;5;124m'\u001b[39m]), (pos_labels\u001b[38;5;241m/\u001b[39m\u001b[38;5;28mlen\u001b[39m(validate_df[\u001b[38;5;124m'\u001b[39m\u001b[38;5;124mlabel\u001b[39m\u001b[38;5;124m'\u001b[39m]))\u001b[38;5;241m*\u001b[39m\u001b[38;5;241m100\u001b[39m))\n",
      "\u001b[0;31mNameError\u001b[0m: name 'validate_df' is not defined"
     ]
    }
   ],
   "source": [
    "print(f\"Training dataset shape: {training_df.shape} \\nTest dataset shape: {test_df.shape}\")\n",
    "pos_labels = len([n for n in training_df['label'] if n==1])\n",
    "print(\"Positive labels present in the dataset : {}  out of {} or {}%\".format(pos_labels, len(training_df['label']), (pos_labels/len(training_df['label']))*100))\n",
    "pos_labels = len([n for n in test_df['label'] if n==1])\n",
    "print(\"Positive labels present in the test dataset : {}  out of {} or {}%\".format(pos_labels, len(test_df['label']), (pos_labels/len(test_df['label']))*100))\n",
    "pos_labels = len([n for n in validate_df['label'] if n==1])\n",
    "print(\"Positive labels present in the validation dataset : {}  out of {} or {}%\".format(pos_labels, len(validate_df['label']), (pos_labels/len(validate_df['label']))*100))"
   ]
  },
  {
   "cell_type": "code",
   "execution_count": 24,
   "metadata": {},
   "outputs": [
    {
     "name": "stdout",
     "output_type": "stream",
     "text": [
      "(4968, 3)\n",
      "(462, 3)\n"
     ]
    }
   ],
   "source": [
    "print(training_df.shape)\n",
    "print(test_df.shape)"
   ]
  },
  {
   "cell_type": "markdown",
   "metadata": {},
   "source": [
    "## 2. Experimental Design"
   ]
  },
  {
   "cell_type": "code",
   "execution_count": 25,
   "metadata": {},
   "outputs": [
    {
     "data": {
      "text/html": [
       "<div>\n",
       "<style scoped>\n",
       "    .dataframe tbody tr th:only-of-type {\n",
       "        vertical-align: middle;\n",
       "    }\n",
       "\n",
       "    .dataframe tbody tr th {\n",
       "        vertical-align: top;\n",
       "    }\n",
       "\n",
       "    .dataframe thead th {\n",
       "        text-align: right;\n",
       "    }\n",
       "</style>\n",
       "<table border=\"1\" class=\"dataframe\">\n",
       "  <thead>\n",
       "    <tr style=\"text-align: right;\">\n",
       "      <th></th>\n",
       "      <th>sentence</th>\n",
       "      <th>label</th>\n",
       "      <th>phrase</th>\n",
       "    </tr>\n",
       "  </thead>\n",
       "  <tbody>\n",
       "    <tr>\n",
       "      <th>1486</th>\n",
       "      <td>i want to at least help animals, such as my bird and reptiles that need care, as there are not that many exotic vets, only primarily those who focus on cats and dogs.</td>\n",
       "      <td>0</td>\n",
       "      <td>['I know I want to become an exotic Veterinarian, but I feel like I am not smart enough to get into Vet School. I want to at least help animals, such as my bird and reptiles that need care, as there are not that many exotic vets, only primarily those who focus on cats and dogs. If that is the path I eventually do not take, I am very interested in virology and would like to study them. Maybe that is why I am here, to at least provide a slight change to science, although it may not be a big one at least it is something I can contribute to the world.']</td>\n",
       "    </tr>\n",
       "    <tr>\n",
       "      <th>2888</th>\n",
       "      <td>as i mentioned earlier im here because i need to take physics in as a course for my kinesiology degree.</td>\n",
       "      <td>0</td>\n",
       "      <td>['As I mentioned earlier Im here because I need to take physics in as a course for my Kinesiology degree. Another reason why I feel like Im here is to further my education and career . To keep striving at being a better person each and every day .']</td>\n",
       "    </tr>\n",
       "    <tr>\n",
       "      <th>4042</th>\n",
       "      <td>it's funny because ive never been happier than i ever been because of everything ive been doing lately.</td>\n",
       "      <td>0</td>\n",
       "      <td>['The only way that Im able to create a better future for my community is by getting a PhD']</td>\n",
       "    </tr>\n",
       "    <tr>\n",
       "      <th>2915</th>\n",
       "      <td>science has always intrigued me, but i feel like the schooling system of stem classes kind of makes it harder for me to enjoy.</td>\n",
       "      <td>0</td>\n",
       "      <td>[\"In the context of school, is I am here for the reason I'm on the path to become a doctor.\"]</td>\n",
       "    </tr>\n",
       "    <tr>\n",
       "      <th>4081</th>\n",
       "      <td>while in high school i was deciding between 3 school, but ultimately picked here.</td>\n",
       "      <td>0</td>\n",
       "      <td>['I also wanted to go into civil engineer, and this was the only school with it, the others had mechanical but not civil. As to why I am currently here in this moment in time of writing this essay thing, I am a third year trying to become a civil engineer.']</td>\n",
       "    </tr>\n",
       "    <tr>\n",
       "      <th>...</th>\n",
       "      <td>...</td>\n",
       "      <td>...</td>\n",
       "      <td>...</td>\n",
       "    </tr>\n",
       "    <tr>\n",
       "      <th>2402</th>\n",
       "      <td>point and case, my cat sitting on my printer glaring at me because he wants something from me.</td>\n",
       "      <td>0</td>\n",
       "      <td>['This could help me simply better understand every day experiences but ultimately will help me in my future career as a physical therapist. Im at SFSU because I want a degree.. I want a degree in kinesiology because I want to pursue becoming a physical therapist.']</td>\n",
       "    </tr>\n",
       "    <tr>\n",
       "      <th>1107</th>\n",
       "      <td>this class is also along side a lecture, which has been able to help me better understand concepts by doing experiments.</td>\n",
       "      <td>0</td>\n",
       "      <td>['By the end of this class, I hope to have a better understanding of what physics is and that it will help me when I take my MCAT and enter medical school in the next couple of years after I graduate with my fouryear degree at San Francisco State.']</td>\n",
       "    </tr>\n",
       "    <tr>\n",
       "      <th>1308</th>\n",
       "      <td>i am part of the first generation in my family to go to college and hopefully get a degree and i am trying to make my parents proud but also learn things for myself and get a career that will give me financial stability and also a career where i will help tons of people.</td>\n",
       "      <td>0</td>\n",
       "      <td>['Why am I here, I am here because I want to become a doctor and go onto medical school. I am here to hopefully pass this class and come out with a good grade and complete the requirement in my major. I am here to get a degree to go on and become a doctor which is what I am studying for. I am part of the first generation in my family to go to college and hopefully get a degree and I am trying to make my parents proud but also learn things for myself and get a career that will give me financial stability and also a career where I will help tons of people.']</td>\n",
       "    </tr>\n",
       "    <tr>\n",
       "      <th>3843</th>\n",
       "      <td>it may be helpful as future reference when there might be a situation or problem i may encounter in my life since some of the analysis and theories are relatable to use.</td>\n",
       "      <td>0</td>\n",
       "      <td>['I chose to be in this class because it is a requirement to fulfill in order for me to obtain my Cell and Molecular Biology bachelors degree.']</td>\n",
       "    </tr>\n",
       "    <tr>\n",
       "      <th>2748</th>\n",
       "      <td>i am here at san francisco state university because i wanted to be able to be far from home, but not too far.</td>\n",
       "      <td>0</td>\n",
       "      <td>['I am in college specifically to pursue my one and only career which is to be a veterinarian.']</td>\n",
       "    </tr>\n",
       "  </tbody>\n",
       "</table>\n",
       "<p>416 rows × 3 columns</p>\n",
       "</div>"
      ],
      "text/plain": [
       "                                                                                                                                                                                                                                                                             sentence  \\\n",
       "1486                                                                                                           i want to at least help animals, such as my bird and reptiles that need care, as there are not that many exotic vets, only primarily those who focus on cats and dogs.   \n",
       "2888                                                                                                                                                                          as i mentioned earlier im here because i need to take physics in as a course for my kinesiology degree.   \n",
       "4042                                                                                                                                                                          it's funny because ive never been happier than i ever been because of everything ive been doing lately.   \n",
       "2915                                                                                                                                                   science has always intrigued me, but i feel like the schooling system of stem classes kind of makes it harder for me to enjoy.   \n",
       "4081                                                                                                                                                                                                while in high school i was deciding between 3 school, but ultimately picked here.   \n",
       "...                                                                                                                                                                                                                                                                               ...   \n",
       "2402                                                                                                                                                                                   point and case, my cat sitting on my printer glaring at me because he wants something from me.   \n",
       "1107                                                                                                                                                         this class is also along side a lecture, which has been able to help me better understand concepts by doing experiments.   \n",
       "1308  i am part of the first generation in my family to go to college and hopefully get a degree and i am trying to make my parents proud but also learn things for myself and get a career that will give me financial stability and also a career where i will help tons of people.   \n",
       "3843                                                                                                        it may be helpful as future reference when there might be a situation or problem i may encounter in my life since some of the analysis and theories are relatable to use.   \n",
       "2748                                                                                                                                                                    i am here at san francisco state university because i wanted to be able to be far from home, but not too far.   \n",
       "\n",
       "      label  \\\n",
       "1486      0   \n",
       "2888      0   \n",
       "4042      0   \n",
       "2915      0   \n",
       "4081      0   \n",
       "...     ...   \n",
       "2402      0   \n",
       "1107      0   \n",
       "1308      0   \n",
       "3843      0   \n",
       "2748      0   \n",
       "\n",
       "                                                                                                                                                                                                                                                                                                                                                                                                                                                                                                                                                                                  phrase  \n",
       "1486         ['I know I want to become an exotic Veterinarian, but I feel like I am not smart enough to get into Vet School. I want to at least help animals, such as my bird and reptiles that need care, as there are not that many exotic vets, only primarily those who focus on cats and dogs. If that is the path I eventually do not take, I am very interested in virology and would like to study them. Maybe that is why I am here, to at least provide a slight change to science, although it may not be a big one at least it is something I can contribute to the world.']  \n",
       "2888                                                                                                                                                                                                                                                                                                                           ['As I mentioned earlier Im here because I need to take physics in as a course for my Kinesiology degree. Another reason why I feel like Im here is to further my education and career . To keep striving at being a better person each and every day .']  \n",
       "4042                                                                                                                                                                                                                                                                                                                                                                                                                                                                                        ['The only way that Im able to create a better future for my community is by getting a PhD']  \n",
       "2915                                                                                                                                                                                                                                                                                                                                                                                                                                                                                       [\"In the context of school, is I am here for the reason I'm on the path to become a doctor.\"]  \n",
       "4081                                                                                                                                                                                                                                                                                                                  ['I also wanted to go into civil engineer, and this was the only school with it, the others had mechanical but not civil. As to why I am currently here in this moment in time of writing this essay thing, I am a third year trying to become a civil engineer.']  \n",
       "...                                                                                                                                                                                                                                                                                                                                                                                                                                                                                                                                                                                  ...  \n",
       "2402                                                                                                                                                                                                                                                                                                          ['This could help me simply better understand every day experiences but ultimately will help me in my future career as a physical therapist. Im at SFSU because I want a degree.. I want a degree in kinesiology because I want to pursue becoming a physical therapist.']  \n",
       "1107                                                                                                                                                                                                                                                                                                                           ['By the end of this class, I hope to have a better understanding of what physics is and that it will help me when I take my MCAT and enter medical school in the next couple of years after I graduate with my fouryear degree at San Francisco State.']  \n",
       "1308  ['Why am I here, I am here because I want to become a doctor and go onto medical school. I am here to hopefully pass this class and come out with a good grade and complete the requirement in my major. I am here to get a degree to go on and become a doctor which is what I am studying for. I am part of the first generation in my family to go to college and hopefully get a degree and I am trying to make my parents proud but also learn things for myself and get a career that will give me financial stability and also a career where I will help tons of people.']  \n",
       "3843                                                                                                                                                                                                                                                                                                                                                                                                                                    ['I chose to be in this class because it is a requirement to fulfill in order for me to obtain my Cell and Molecular Biology bachelors degree.']  \n",
       "2748                                                                                                                                                                                                                                                                                                                                                                                                                                                                                    ['I am in college specifically to pursue my one and only career which is to be a veterinarian.']  \n",
       "\n",
       "[416 rows x 3 columns]"
      ]
     },
     "execution_count": 25,
     "metadata": {},
     "output_type": "execute_result"
    }
   ],
   "source": [
    "validate_df"
   ]
  },
  {
   "cell_type": "code",
   "execution_count": 122,
   "metadata": {},
   "outputs": [],
   "source": []
  },
  {
   "cell_type": "code",
   "execution_count": null,
   "metadata": {},
   "outputs": [],
   "source": []
  },
  {
   "cell_type": "code",
   "execution_count": 124,
   "metadata": {},
   "outputs": [],
   "source": []
  },
  {
   "cell_type": "code",
   "execution_count": 26,
   "metadata": {},
   "outputs": [
    {
     "name": "stdout",
     "output_type": "stream",
     "text": [
      "preprocessing train...\n",
      "language: en\n",
      "train sequence lengths:\n",
      "\tmean : 22\n",
      "\t95percentile : 41\n",
      "\t99percentile : 60\n"
     ]
    },
    {
     "data": {
      "text/html": [
       "\n",
       "<style>\n",
       "    /* Turns off some styling */\n",
       "    progress {\n",
       "        /* gets rid of default border in Firefox and Opera. */\n",
       "        border: none;\n",
       "        /* Needs to be in here for Safari polyfill so background images work as expected. */\n",
       "        background-size: auto;\n",
       "    }\n",
       "    progress:not([value]), progress:not([value])::-webkit-progress-bar {\n",
       "        background: repeating-linear-gradient(45deg, #7e7e7e, #7e7e7e 10px, #5c5c5c 10px, #5c5c5c 20px);\n",
       "    }\n",
       "    .progress-bar-interrupted, .progress-bar-interrupted::-webkit-progress-bar {\n",
       "        background: #F44336;\n",
       "    }\n",
       "</style>\n"
      ],
      "text/plain": [
       "<IPython.core.display.HTML object>"
      ]
     },
     "metadata": {},
     "output_type": "display_data"
    },
    {
     "data": {
      "text/html": [],
      "text/plain": [
       "<IPython.core.display.HTML object>"
      ]
     },
     "metadata": {},
     "output_type": "display_data"
    },
    {
     "name": "stdout",
     "output_type": "stream",
     "text": [
      "Is Multi-Label? False\n",
      "preprocessing test...\n",
      "language: en\n",
      "test sequence lengths:\n",
      "\tmean : 22\n",
      "\t95percentile : 39\n",
      "\t99percentile : 58\n"
     ]
    },
    {
     "data": {
      "text/html": [
       "\n",
       "<style>\n",
       "    /* Turns off some styling */\n",
       "    progress {\n",
       "        /* gets rid of default border in Firefox and Opera. */\n",
       "        border: none;\n",
       "        /* Needs to be in here for Safari polyfill so background images work as expected. */\n",
       "        background-size: auto;\n",
       "    }\n",
       "    progress:not([value]), progress:not([value])::-webkit-progress-bar {\n",
       "        background: repeating-linear-gradient(45deg, #7e7e7e, #7e7e7e 10px, #5c5c5c 10px, #5c5c5c 20px);\n",
       "    }\n",
       "    .progress-bar-interrupted, .progress-bar-interrupted::-webkit-progress-bar {\n",
       "        background: #F44336;\n",
       "    }\n",
       "</style>\n"
      ],
      "text/plain": [
       "<IPython.core.display.HTML object>"
      ]
     },
     "metadata": {},
     "output_type": "display_data"
    },
    {
     "data": {
      "text/html": [],
      "text/plain": [
       "<IPython.core.display.HTML object>"
      ]
     },
     "metadata": {},
     "output_type": "display_data"
    }
   ],
   "source": [
    "# MAXLEN = 256\n",
    "\n",
    "# X_train = training_df['sentence']\n",
    "# y_train = training_df['label']\n",
    "# X_test = validate_df['sentence']\n",
    "# y_test = validate_df['label']\n",
    "# # Split the data\n",
    "# # X_train, X_test, y_train, y_test = train_test_split(X, y, test_size = 0.1, random_state = 18, stratify=y)\n",
    "# # X_test.shape\n",
    "\n",
    "# model_name = 'bert-base-uncased'\n",
    "\n",
    "# distillbert_transformer = text.Transformer(model_name, maxlen=MAXLEN, class_names=[0,1])\n",
    "# training_set = distillbert_transformer.preprocess_train(X_train.tolist(), y_train.tolist())\n",
    "# validation_set = distillbert_transformer.preprocess_test(X_test.tolist(), y_test.tolist())\n",
    "# distillbert_base_model = distillbert_transformer.get_classifier()"
   ]
  },
  {
   "cell_type": "code",
   "execution_count": 13,
   "metadata": {},
   "outputs": [
    {
     "name": "stdout",
     "output_type": "stream",
     "text": [
      "Metal device set to: Apple M2 Pro\n",
      "\n",
      "systemMemory: 16.00 GB\n",
      "maxCacheSize: 5.33 GB\n",
      "\n",
      "preprocessing train...\n",
      "language: en\n",
      "train sequence lengths:\n",
      "\tmean : 21\n",
      "\t95percentile : 40\n",
      "\t99percentile : 56\n"
     ]
    },
    {
     "data": {
      "text/html": [
       "\n",
       "<style>\n",
       "    /* Turns off some styling */\n",
       "    progress {\n",
       "        /* gets rid of default border in Firefox and Opera. */\n",
       "        border: none;\n",
       "        /* Needs to be in here for Safari polyfill so background images work as expected. */\n",
       "        background-size: auto;\n",
       "    }\n",
       "    progress:not([value]), progress:not([value])::-webkit-progress-bar {\n",
       "        background: repeating-linear-gradient(45deg, #7e7e7e, #7e7e7e 10px, #5c5c5c 10px, #5c5c5c 20px);\n",
       "    }\n",
       "    .progress-bar-interrupted, .progress-bar-interrupted::-webkit-progress-bar {\n",
       "        background: #F44336;\n",
       "    }\n",
       "</style>\n"
      ],
      "text/plain": [
       "<IPython.core.display.HTML object>"
      ]
     },
     "metadata": {},
     "output_type": "display_data"
    },
    {
     "data": {
      "text/html": [],
      "text/plain": [
       "<IPython.core.display.HTML object>"
      ]
     },
     "metadata": {},
     "output_type": "display_data"
    },
    {
     "name": "stdout",
     "output_type": "stream",
     "text": [
      "Is Multi-Label? False\n",
      "preprocessing test...\n",
      "language: en\n",
      "test sequence lengths:\n",
      "\tmean : 22\n",
      "\t95percentile : 42\n",
      "\t99percentile : 57\n"
     ]
    },
    {
     "data": {
      "text/html": [
       "\n",
       "<style>\n",
       "    /* Turns off some styling */\n",
       "    progress {\n",
       "        /* gets rid of default border in Firefox and Opera. */\n",
       "        border: none;\n",
       "        /* Needs to be in here for Safari polyfill so background images work as expected. */\n",
       "        background-size: auto;\n",
       "    }\n",
       "    progress:not([value]), progress:not([value])::-webkit-progress-bar {\n",
       "        background: repeating-linear-gradient(45deg, #7e7e7e, #7e7e7e 10px, #5c5c5c 10px, #5c5c5c 20px);\n",
       "    }\n",
       "    .progress-bar-interrupted, .progress-bar-interrupted::-webkit-progress-bar {\n",
       "        background: #F44336;\n",
       "    }\n",
       "</style>\n"
      ],
      "text/plain": [
       "<IPython.core.display.HTML object>"
      ]
     },
     "metadata": {},
     "output_type": "display_data"
    },
    {
     "data": {
      "text/html": [],
      "text/plain": [
       "<IPython.core.display.HTML object>"
      ]
     },
     "metadata": {},
     "output_type": "display_data"
    }
   ],
   "source": [
    "MAXLEN = 150\n",
    "\n",
    "X = training_df['sentence']\n",
    "y = training_df['label']\n",
    "\n",
    "# Split the data\n",
    "X_train, X_test, y_train, y_test = train_test_split(X, y, test_size = 0.1, random_state = 18, stratify=y)\n",
    "\n",
    "\n",
    "model_name = 'bert-base-uncased'\n",
    "\n",
    "distillbert_transformer = text.Transformer(model_name, maxlen=MAXLEN, class_names=[0,1])\n",
    "training_set = distillbert_transformer.preprocess_train(X_train.tolist(), y_train.tolist())\n",
    "validation_set = distillbert_transformer.preprocess_test(X_test.tolist(), y_test.tolist())\n",
    "distillbert_base_model = distillbert_transformer.get_classifier()"
   ]
  },
  {
   "cell_type": "markdown",
   "metadata": {},
   "source": []
  },
  {
   "cell_type": "code",
   "execution_count": 33,
   "metadata": {},
   "outputs": [
    {
     "name": "stdout",
     "output_type": "stream",
     "text": [
      "[0.66833919 1.98509687]\n"
     ]
    }
   ],
   "source": [
    "from sklearn.utils.class_weight import compute_class_weight\n",
    "import numpy as np\n",
    "\n",
    "# Define classes and class labels\n",
    "classes = np.array([0, 1])\n",
    "class_labels = list(training_df.label)\n",
    "\n",
    "# Compute class weights\n",
    "\n",
    "class_weights = compute_class_weight(class_weight='balanced', classes=classes, y=class_labels)\n",
    "\n",
    "# Print class weights\n",
    "print(class_weights)\n",
    "\n",
    "class_weights = dict(zip(classes, class_weights))"
   ]
  },
  {
   "cell_type": "code",
   "execution_count": 34,
   "metadata": {},
   "outputs": [
    {
     "name": "stdout",
     "output_type": "stream",
     "text": [
      "\n",
      "\n",
      "begin training using triangular learning rate policy with max lr of 3.328132762062889e-05...\n",
      "Epoch 1/12\n",
      "156/400 [==========>...................] - ETA: 5:43 - loss: 6.3019e-04 - accuracy: 1.0000"
     ]
    },
    {
     "ename": "KeyboardInterrupt",
     "evalue": "",
     "output_type": "error",
     "traceback": [
      "\u001b[0;31m---------------------------------------------------------------------------\u001b[0m",
      "\u001b[0;31mKeyboardInterrupt\u001b[0m                         Traceback (most recent call last)",
      "Cell \u001b[0;32mIn[34], line 4\u001b[0m\n\u001b[1;32m      2\u001b[0m distillbert_learner \u001b[38;5;241m=\u001b[39m ktrain\u001b[38;5;241m.\u001b[39mget_learner(distillbert_base_model, train_data\u001b[38;5;241m=\u001b[39mtraining_set, val_data\u001b[38;5;241m=\u001b[39mvalidation_set, batch_size\u001b[38;5;241m=\u001b[39m\u001b[38;5;241m6\u001b[39m)\n\u001b[1;32m      3\u001b[0m distillbert_learner\u001b[38;5;241m.\u001b[39mset_weight_decay(\u001b[38;5;241m0.001\u001b[39m)\n\u001b[0;32m----> 4\u001b[0m \u001b[43mdistillbert_learner\u001b[49m\u001b[38;5;241;43m.\u001b[39;49m\u001b[43mautofit\u001b[49m\u001b[43m(\u001b[49m\u001b[38;5;241;43m3.328132762062889e-05\u001b[39;49m\u001b[43m,\u001b[49m\u001b[43m \u001b[49m\u001b[43mepochs\u001b[49m\u001b[38;5;241;43m=\u001b[39;49m\u001b[38;5;241;43m12\u001b[39;49m\u001b[43m,\u001b[49m\u001b[43m \u001b[49m\u001b[43mearly_stopping\u001b[49m\u001b[38;5;241;43m=\u001b[39;49m\u001b[38;5;241;43m4\u001b[39;49m\u001b[43m,\u001b[49m\u001b[43m \u001b[49m\u001b[43mclass_weight\u001b[49m\u001b[38;5;241;43m=\u001b[39;49m\u001b[43mclass_weights\u001b[49m\u001b[43m)\u001b[49m\n",
      "File \u001b[0;32m~/miniforge3/envs/ml_env/lib/python3.8/site-packages/ktrain/core.py:1235\u001b[0m, in \u001b[0;36mLearner.autofit\u001b[0;34m(self, lr, epochs, early_stopping, reduce_on_plateau, reduce_factor, cycle_momentum, max_momentum, min_momentum, monitor, checkpoint_folder, class_weight, callbacks, steps_per_epoch, verbose)\u001b[0m\n\u001b[1;32m   1230\u001b[0m policy \u001b[38;5;241m=\u001b[39m \u001b[38;5;124m\"\u001b[39m\u001b[38;5;124mtriangular learning rate\u001b[39m\u001b[38;5;124m\"\u001b[39m\n\u001b[1;32m   1231\u001b[0m U\u001b[38;5;241m.\u001b[39mvprint(\n\u001b[1;32m   1232\u001b[0m     \u001b[38;5;124m\"\u001b[39m\u001b[38;5;124mbegin training using \u001b[39m\u001b[38;5;132;01m%s\u001b[39;00m\u001b[38;5;124m policy with max lr of \u001b[39m\u001b[38;5;132;01m%s\u001b[39;00m\u001b[38;5;124m...\u001b[39m\u001b[38;5;124m\"\u001b[39m \u001b[38;5;241m%\u001b[39m (policy, lr),\n\u001b[1;32m   1233\u001b[0m     verbose\u001b[38;5;241m=\u001b[39mverbose,\n\u001b[1;32m   1234\u001b[0m )\n\u001b[0;32m-> 1235\u001b[0m hist \u001b[38;5;241m=\u001b[39m \u001b[38;5;28;43mself\u001b[39;49m\u001b[38;5;241;43m.\u001b[39;49m\u001b[43mfit\u001b[49m\u001b[43m(\u001b[49m\n\u001b[1;32m   1236\u001b[0m \u001b[43m    \u001b[49m\u001b[43mlr\u001b[49m\u001b[43m,\u001b[49m\n\u001b[1;32m   1237\u001b[0m \u001b[43m    \u001b[49m\u001b[43mepochs\u001b[49m\u001b[43m,\u001b[49m\n\u001b[1;32m   1238\u001b[0m \u001b[43m    \u001b[49m\u001b[43mearly_stopping\u001b[49m\u001b[38;5;241;43m=\u001b[39;49m\u001b[43mearly_stopping\u001b[49m\u001b[43m,\u001b[49m\n\u001b[1;32m   1239\u001b[0m \u001b[43m    \u001b[49m\u001b[43mcheckpoint_folder\u001b[49m\u001b[38;5;241;43m=\u001b[39;49m\u001b[43mcheckpoint_folder\u001b[49m\u001b[43m,\u001b[49m\n\u001b[1;32m   1240\u001b[0m \u001b[43m    \u001b[49m\u001b[43mverbose\u001b[49m\u001b[38;5;241;43m=\u001b[39;49m\u001b[43mverbose\u001b[49m\u001b[43m,\u001b[49m\n\u001b[1;32m   1241\u001b[0m \u001b[43m    \u001b[49m\u001b[43mclass_weight\u001b[49m\u001b[38;5;241;43m=\u001b[39;49m\u001b[43mclass_weight\u001b[49m\u001b[43m,\u001b[49m\n\u001b[1;32m   1242\u001b[0m \u001b[43m    \u001b[49m\u001b[43mcallbacks\u001b[49m\u001b[38;5;241;43m=\u001b[39;49m\u001b[43mkcallbacks\u001b[49m\u001b[43m,\u001b[49m\n\u001b[1;32m   1243\u001b[0m \u001b[43m    \u001b[49m\u001b[43msteps_per_epoch\u001b[49m\u001b[38;5;241;43m=\u001b[39;49m\u001b[43msteps_per_epoch\u001b[49m\u001b[43m,\u001b[49m\n\u001b[1;32m   1244\u001b[0m \u001b[43m\u001b[49m\u001b[43m)\u001b[49m\n\u001b[1;32m   1245\u001b[0m hist\u001b[38;5;241m.\u001b[39mhistory[\u001b[38;5;124m\"\u001b[39m\u001b[38;5;124mlr\u001b[39m\u001b[38;5;124m\"\u001b[39m] \u001b[38;5;241m=\u001b[39m clr\u001b[38;5;241m.\u001b[39mhistory[\u001b[38;5;124m\"\u001b[39m\u001b[38;5;124mlr\u001b[39m\u001b[38;5;124m\"\u001b[39m]\n\u001b[1;32m   1246\u001b[0m hist\u001b[38;5;241m.\u001b[39mhistory[\u001b[38;5;124m\"\u001b[39m\u001b[38;5;124miterations\u001b[39m\u001b[38;5;124m\"\u001b[39m] \u001b[38;5;241m=\u001b[39m clr\u001b[38;5;241m.\u001b[39mhistory[\u001b[38;5;124m\"\u001b[39m\u001b[38;5;124miterations\u001b[39m\u001b[38;5;124m\"\u001b[39m]\n",
      "File \u001b[0;32m~/miniforge3/envs/ml_env/lib/python3.8/site-packages/ktrain/core.py:1646\u001b[0m, in \u001b[0;36mGenLearner.fit\u001b[0;34m(self, lr, n_cycles, cycle_len, cycle_mult, lr_decay, checkpoint_folder, early_stopping, class_weight, callbacks, steps_per_epoch, verbose)\u001b[0m\n\u001b[1;32m   1644\u001b[0m     warnings\u001b[38;5;241m.\u001b[39mfilterwarnings(\u001b[38;5;124m\"\u001b[39m\u001b[38;5;124mignore\u001b[39m\u001b[38;5;124m\"\u001b[39m, message\u001b[38;5;241m=\u001b[39m\u001b[38;5;124m\"\u001b[39m\u001b[38;5;124m.*Check your callbacks.*\u001b[39m\u001b[38;5;124m\"\u001b[39m)\n\u001b[1;32m   1645\u001b[0m     fit_fn \u001b[38;5;241m=\u001b[39m \u001b[38;5;28mself\u001b[39m\u001b[38;5;241m.\u001b[39mmodel\u001b[38;5;241m.\u001b[39mfit\n\u001b[0;32m-> 1646\u001b[0m     hist \u001b[38;5;241m=\u001b[39m \u001b[43mfit_fn\u001b[49m\u001b[43m(\u001b[49m\n\u001b[1;32m   1647\u001b[0m \u001b[43m        \u001b[49m\u001b[38;5;28;43mself\u001b[39;49m\u001b[38;5;241;43m.\u001b[39;49m\u001b[43m_prepare\u001b[49m\u001b[43m(\u001b[49m\u001b[38;5;28;43mself\u001b[39;49m\u001b[38;5;241;43m.\u001b[39;49m\u001b[43mtrain_data\u001b[49m\u001b[43m)\u001b[49m\u001b[43m,\u001b[49m\n\u001b[1;32m   1648\u001b[0m \u001b[43m        \u001b[49m\u001b[43msteps_per_epoch\u001b[49m\u001b[38;5;241;43m=\u001b[39;49m\u001b[43msteps_per_epoch\u001b[49m\u001b[43m,\u001b[49m\n\u001b[1;32m   1649\u001b[0m \u001b[43m        \u001b[49m\u001b[43mvalidation_steps\u001b[49m\u001b[38;5;241;43m=\u001b[39;49m\u001b[43mvalidation_steps\u001b[49m\u001b[43m,\u001b[49m\n\u001b[1;32m   1650\u001b[0m \u001b[43m        \u001b[49m\u001b[43mepochs\u001b[49m\u001b[38;5;241;43m=\u001b[39;49m\u001b[43mepochs\u001b[49m\u001b[43m,\u001b[49m\n\u001b[1;32m   1651\u001b[0m \u001b[43m        \u001b[49m\u001b[43mvalidation_data\u001b[49m\u001b[38;5;241;43m=\u001b[39;49m\u001b[38;5;28;43mself\u001b[39;49m\u001b[38;5;241;43m.\u001b[39;49m\u001b[43m_prepare\u001b[49m\u001b[43m(\u001b[49m\u001b[38;5;28;43mself\u001b[39;49m\u001b[38;5;241;43m.\u001b[39;49m\u001b[43mval_data\u001b[49m\u001b[43m,\u001b[49m\u001b[43m \u001b[49m\u001b[43mtrain\u001b[49m\u001b[38;5;241;43m=\u001b[39;49m\u001b[38;5;28;43;01mFalse\u001b[39;49;00m\u001b[43m)\u001b[49m\u001b[43m,\u001b[49m\n\u001b[1;32m   1652\u001b[0m \u001b[43m        \u001b[49m\u001b[43mworkers\u001b[49m\u001b[38;5;241;43m=\u001b[39;49m\u001b[38;5;28;43mself\u001b[39;49m\u001b[38;5;241;43m.\u001b[39;49m\u001b[43mworkers\u001b[49m\u001b[43m,\u001b[49m\n\u001b[1;32m   1653\u001b[0m \u001b[43m        \u001b[49m\u001b[43muse_multiprocessing\u001b[49m\u001b[38;5;241;43m=\u001b[39;49m\u001b[38;5;28;43mself\u001b[39;49m\u001b[38;5;241;43m.\u001b[39;49m\u001b[43muse_multiprocessing\u001b[49m\u001b[43m,\u001b[49m\n\u001b[1;32m   1654\u001b[0m \u001b[43m        \u001b[49m\u001b[43mverbose\u001b[49m\u001b[38;5;241;43m=\u001b[39;49m\u001b[43mverbose\u001b[49m\u001b[43m,\u001b[49m\n\u001b[1;32m   1655\u001b[0m \u001b[43m        \u001b[49m\u001b[43mshuffle\u001b[49m\u001b[38;5;241;43m=\u001b[39;49m\u001b[38;5;28;43;01mTrue\u001b[39;49;00m\u001b[43m,\u001b[49m\n\u001b[1;32m   1656\u001b[0m \u001b[43m        \u001b[49m\u001b[43mclass_weight\u001b[49m\u001b[38;5;241;43m=\u001b[39;49m\u001b[43mclass_weight\u001b[49m\u001b[43m,\u001b[49m\n\u001b[1;32m   1657\u001b[0m \u001b[43m        \u001b[49m\u001b[43mcallbacks\u001b[49m\u001b[38;5;241;43m=\u001b[39;49m\u001b[43mkcallbacks\u001b[49m\u001b[43m,\u001b[49m\n\u001b[1;32m   1658\u001b[0m \u001b[43m    \u001b[49m\u001b[43m)\u001b[49m\n\u001b[1;32m   1659\u001b[0m \u001b[38;5;28;01mif\u001b[39;00m sgdr \u001b[38;5;129;01mis\u001b[39;00m \u001b[38;5;129;01mnot\u001b[39;00m \u001b[38;5;28;01mNone\u001b[39;00m:\n\u001b[1;32m   1660\u001b[0m     hist\u001b[38;5;241m.\u001b[39mhistory[\u001b[38;5;124m\"\u001b[39m\u001b[38;5;124mlr\u001b[39m\u001b[38;5;124m\"\u001b[39m] \u001b[38;5;241m=\u001b[39m sgdr\u001b[38;5;241m.\u001b[39mhistory[\u001b[38;5;124m\"\u001b[39m\u001b[38;5;124mlr\u001b[39m\u001b[38;5;124m\"\u001b[39m]\n",
      "File \u001b[0;32m~/miniforge3/envs/ml_env/lib/python3.8/site-packages/transformers/modeling_tf_utils.py:1229\u001b[0m, in \u001b[0;36mTFPreTrainedModel.fit\u001b[0;34m(self, *args, **kwargs)\u001b[0m\n\u001b[1;32m   1226\u001b[0m \u001b[38;5;129m@functools\u001b[39m\u001b[38;5;241m.\u001b[39mwraps(keras\u001b[38;5;241m.\u001b[39mModel\u001b[38;5;241m.\u001b[39mfit)\n\u001b[1;32m   1227\u001b[0m \u001b[38;5;28;01mdef\u001b[39;00m \u001b[38;5;21mfit\u001b[39m(\u001b[38;5;28mself\u001b[39m, \u001b[38;5;241m*\u001b[39margs, \u001b[38;5;241m*\u001b[39m\u001b[38;5;241m*\u001b[39mkwargs):\n\u001b[1;32m   1228\u001b[0m     args, kwargs \u001b[38;5;241m=\u001b[39m convert_batch_encoding(\u001b[38;5;241m*\u001b[39margs, \u001b[38;5;241m*\u001b[39m\u001b[38;5;241m*\u001b[39mkwargs)\n\u001b[0;32m-> 1229\u001b[0m     \u001b[38;5;28;01mreturn\u001b[39;00m \u001b[38;5;28;43msuper\u001b[39;49m\u001b[43m(\u001b[49m\u001b[43m)\u001b[49m\u001b[38;5;241;43m.\u001b[39;49m\u001b[43mfit\u001b[49m\u001b[43m(\u001b[49m\u001b[38;5;241;43m*\u001b[39;49m\u001b[43margs\u001b[49m\u001b[43m,\u001b[49m\u001b[43m \u001b[49m\u001b[38;5;241;43m*\u001b[39;49m\u001b[38;5;241;43m*\u001b[39;49m\u001b[43mkwargs\u001b[49m\u001b[43m)\u001b[49m\n",
      "File \u001b[0;32m~/miniforge3/envs/ml_env/lib/python3.8/site-packages/keras/src/utils/traceback_utils.py:65\u001b[0m, in \u001b[0;36mfilter_traceback.<locals>.error_handler\u001b[0;34m(*args, **kwargs)\u001b[0m\n\u001b[1;32m     63\u001b[0m filtered_tb \u001b[38;5;241m=\u001b[39m \u001b[38;5;28;01mNone\u001b[39;00m\n\u001b[1;32m     64\u001b[0m \u001b[38;5;28;01mtry\u001b[39;00m:\n\u001b[0;32m---> 65\u001b[0m     \u001b[38;5;28;01mreturn\u001b[39;00m \u001b[43mfn\u001b[49m\u001b[43m(\u001b[49m\u001b[38;5;241;43m*\u001b[39;49m\u001b[43margs\u001b[49m\u001b[43m,\u001b[49m\u001b[43m \u001b[49m\u001b[38;5;241;43m*\u001b[39;49m\u001b[38;5;241;43m*\u001b[39;49m\u001b[43mkwargs\u001b[49m\u001b[43m)\u001b[49m\n\u001b[1;32m     66\u001b[0m \u001b[38;5;28;01mexcept\u001b[39;00m \u001b[38;5;167;01mException\u001b[39;00m \u001b[38;5;28;01mas\u001b[39;00m e:\n\u001b[1;32m     67\u001b[0m     filtered_tb \u001b[38;5;241m=\u001b[39m _process_traceback_frames(e\u001b[38;5;241m.\u001b[39m__traceback__)\n",
      "File \u001b[0;32m~/miniforge3/envs/ml_env/lib/python3.8/site-packages/keras/src/engine/training.py:1748\u001b[0m, in \u001b[0;36mModel.fit\u001b[0;34m(self, x, y, batch_size, epochs, verbose, callbacks, validation_split, validation_data, shuffle, class_weight, sample_weight, initial_epoch, steps_per_epoch, validation_steps, validation_batch_size, validation_freq, max_queue_size, workers, use_multiprocessing)\u001b[0m\n\u001b[1;32m   1746\u001b[0m logs \u001b[38;5;241m=\u001b[39m tmp_logs\n\u001b[1;32m   1747\u001b[0m end_step \u001b[38;5;241m=\u001b[39m step \u001b[38;5;241m+\u001b[39m data_handler\u001b[38;5;241m.\u001b[39mstep_increment\n\u001b[0;32m-> 1748\u001b[0m \u001b[43mcallbacks\u001b[49m\u001b[38;5;241;43m.\u001b[39;49m\u001b[43mon_train_batch_end\u001b[49m\u001b[43m(\u001b[49m\u001b[43mend_step\u001b[49m\u001b[43m,\u001b[49m\u001b[43m \u001b[49m\u001b[43mlogs\u001b[49m\u001b[43m)\u001b[49m\n\u001b[1;32m   1749\u001b[0m \u001b[38;5;28;01mif\u001b[39;00m \u001b[38;5;28mself\u001b[39m\u001b[38;5;241m.\u001b[39mstop_training:\n\u001b[1;32m   1750\u001b[0m     \u001b[38;5;28;01mbreak\u001b[39;00m\n",
      "File \u001b[0;32m~/miniforge3/envs/ml_env/lib/python3.8/site-packages/keras/src/callbacks.py:475\u001b[0m, in \u001b[0;36mCallbackList.on_train_batch_end\u001b[0;34m(self, batch, logs)\u001b[0m\n\u001b[1;32m    468\u001b[0m \u001b[38;5;250m\u001b[39m\u001b[38;5;124;03m\"\"\"Calls the `on_train_batch_end` methods of its callbacks.\u001b[39;00m\n\u001b[1;32m    469\u001b[0m \n\u001b[1;32m    470\u001b[0m \u001b[38;5;124;03mArgs:\u001b[39;00m\n\u001b[1;32m    471\u001b[0m \u001b[38;5;124;03m    batch: Integer, index of batch within the current epoch.\u001b[39;00m\n\u001b[1;32m    472\u001b[0m \u001b[38;5;124;03m    logs: Dict. Aggregated metric results up until this batch.\u001b[39;00m\n\u001b[1;32m    473\u001b[0m \u001b[38;5;124;03m\"\"\"\u001b[39;00m\n\u001b[1;32m    474\u001b[0m \u001b[38;5;28;01mif\u001b[39;00m \u001b[38;5;28mself\u001b[39m\u001b[38;5;241m.\u001b[39m_should_call_train_batch_hooks:\n\u001b[0;32m--> 475\u001b[0m     \u001b[38;5;28;43mself\u001b[39;49m\u001b[38;5;241;43m.\u001b[39;49m\u001b[43m_call_batch_hook\u001b[49m\u001b[43m(\u001b[49m\u001b[43mModeKeys\u001b[49m\u001b[38;5;241;43m.\u001b[39;49m\u001b[43mTRAIN\u001b[49m\u001b[43m,\u001b[49m\u001b[43m \u001b[49m\u001b[38;5;124;43m\"\u001b[39;49m\u001b[38;5;124;43mend\u001b[39;49m\u001b[38;5;124;43m\"\u001b[39;49m\u001b[43m,\u001b[49m\u001b[43m \u001b[49m\u001b[43mbatch\u001b[49m\u001b[43m,\u001b[49m\u001b[43m \u001b[49m\u001b[43mlogs\u001b[49m\u001b[38;5;241;43m=\u001b[39;49m\u001b[43mlogs\u001b[49m\u001b[43m)\u001b[49m\n",
      "File \u001b[0;32m~/miniforge3/envs/ml_env/lib/python3.8/site-packages/keras/src/callbacks.py:322\u001b[0m, in \u001b[0;36mCallbackList._call_batch_hook\u001b[0;34m(self, mode, hook, batch, logs)\u001b[0m\n\u001b[1;32m    320\u001b[0m     \u001b[38;5;28mself\u001b[39m\u001b[38;5;241m.\u001b[39m_call_batch_begin_hook(mode, batch, logs)\n\u001b[1;32m    321\u001b[0m \u001b[38;5;28;01melif\u001b[39;00m hook \u001b[38;5;241m==\u001b[39m \u001b[38;5;124m\"\u001b[39m\u001b[38;5;124mend\u001b[39m\u001b[38;5;124m\"\u001b[39m:\n\u001b[0;32m--> 322\u001b[0m     \u001b[38;5;28;43mself\u001b[39;49m\u001b[38;5;241;43m.\u001b[39;49m\u001b[43m_call_batch_end_hook\u001b[49m\u001b[43m(\u001b[49m\u001b[43mmode\u001b[49m\u001b[43m,\u001b[49m\u001b[43m \u001b[49m\u001b[43mbatch\u001b[49m\u001b[43m,\u001b[49m\u001b[43m \u001b[49m\u001b[43mlogs\u001b[49m\u001b[43m)\u001b[49m\n\u001b[1;32m    323\u001b[0m \u001b[38;5;28;01melse\u001b[39;00m:\n\u001b[1;32m    324\u001b[0m     \u001b[38;5;28;01mraise\u001b[39;00m \u001b[38;5;167;01mValueError\u001b[39;00m(\n\u001b[1;32m    325\u001b[0m         \u001b[38;5;124mf\u001b[39m\u001b[38;5;124m\"\u001b[39m\u001b[38;5;124mUnrecognized hook: \u001b[39m\u001b[38;5;132;01m{\u001b[39;00mhook\u001b[38;5;132;01m}\u001b[39;00m\u001b[38;5;124m. \u001b[39m\u001b[38;5;124m\"\u001b[39m\n\u001b[1;32m    326\u001b[0m         \u001b[38;5;124m'\u001b[39m\u001b[38;5;124mExpected values are [\u001b[39m\u001b[38;5;124m\"\u001b[39m\u001b[38;5;124mbegin\u001b[39m\u001b[38;5;124m\"\u001b[39m\u001b[38;5;124m, \u001b[39m\u001b[38;5;124m\"\u001b[39m\u001b[38;5;124mend\u001b[39m\u001b[38;5;124m\"\u001b[39m\u001b[38;5;124m]\u001b[39m\u001b[38;5;124m'\u001b[39m\n\u001b[1;32m    327\u001b[0m     )\n",
      "File \u001b[0;32m~/miniforge3/envs/ml_env/lib/python3.8/site-packages/keras/src/callbacks.py:345\u001b[0m, in \u001b[0;36mCallbackList._call_batch_end_hook\u001b[0;34m(self, mode, batch, logs)\u001b[0m\n\u001b[1;32m    342\u001b[0m     batch_time \u001b[38;5;241m=\u001b[39m time\u001b[38;5;241m.\u001b[39mtime() \u001b[38;5;241m-\u001b[39m \u001b[38;5;28mself\u001b[39m\u001b[38;5;241m.\u001b[39m_batch_start_time\n\u001b[1;32m    343\u001b[0m     \u001b[38;5;28mself\u001b[39m\u001b[38;5;241m.\u001b[39m_batch_times\u001b[38;5;241m.\u001b[39mappend(batch_time)\n\u001b[0;32m--> 345\u001b[0m \u001b[38;5;28;43mself\u001b[39;49m\u001b[38;5;241;43m.\u001b[39;49m\u001b[43m_call_batch_hook_helper\u001b[49m\u001b[43m(\u001b[49m\u001b[43mhook_name\u001b[49m\u001b[43m,\u001b[49m\u001b[43m \u001b[49m\u001b[43mbatch\u001b[49m\u001b[43m,\u001b[49m\u001b[43m \u001b[49m\u001b[43mlogs\u001b[49m\u001b[43m)\u001b[49m\n\u001b[1;32m    347\u001b[0m \u001b[38;5;28;01mif\u001b[39;00m \u001b[38;5;28mlen\u001b[39m(\u001b[38;5;28mself\u001b[39m\u001b[38;5;241m.\u001b[39m_batch_times) \u001b[38;5;241m>\u001b[39m\u001b[38;5;241m=\u001b[39m \u001b[38;5;28mself\u001b[39m\u001b[38;5;241m.\u001b[39m_num_batches_for_timing_check:\n\u001b[1;32m    348\u001b[0m     end_hook_name \u001b[38;5;241m=\u001b[39m hook_name\n",
      "File \u001b[0;32m~/miniforge3/envs/ml_env/lib/python3.8/site-packages/keras/src/callbacks.py:390\u001b[0m, in \u001b[0;36mCallbackList._call_batch_hook_helper\u001b[0;34m(self, hook_name, batch, logs)\u001b[0m\n\u001b[1;32m    387\u001b[0m \u001b[38;5;28;01mif\u001b[39;00m \u001b[38;5;28mself\u001b[39m\u001b[38;5;241m.\u001b[39m_check_timing:\n\u001b[1;32m    388\u001b[0m     start_time \u001b[38;5;241m=\u001b[39m time\u001b[38;5;241m.\u001b[39mtime()\n\u001b[0;32m--> 390\u001b[0m logs \u001b[38;5;241m=\u001b[39m \u001b[38;5;28;43mself\u001b[39;49m\u001b[38;5;241;43m.\u001b[39;49m\u001b[43m_process_logs\u001b[49m\u001b[43m(\u001b[49m\u001b[43mlogs\u001b[49m\u001b[43m,\u001b[49m\u001b[43m \u001b[49m\u001b[43mis_batch_hook\u001b[49m\u001b[38;5;241;43m=\u001b[39;49m\u001b[38;5;28;43;01mTrue\u001b[39;49;00m\u001b[43m)\u001b[49m\n\u001b[1;32m    391\u001b[0m \u001b[38;5;28;01mfor\u001b[39;00m callback \u001b[38;5;129;01min\u001b[39;00m \u001b[38;5;28mself\u001b[39m\u001b[38;5;241m.\u001b[39mcallbacks:\n\u001b[1;32m    392\u001b[0m     hook \u001b[38;5;241m=\u001b[39m \u001b[38;5;28mgetattr\u001b[39m(callback, hook_name)\n",
      "File \u001b[0;32m~/miniforge3/envs/ml_env/lib/python3.8/site-packages/keras/src/callbacks.py:297\u001b[0m, in \u001b[0;36mCallbackList._process_logs\u001b[0;34m(self, logs, is_batch_hook)\u001b[0m\n\u001b[1;32m    295\u001b[0m \u001b[38;5;28;01mif\u001b[39;00m is_batch_hook \u001b[38;5;129;01mand\u001b[39;00m \u001b[38;5;28mself\u001b[39m\u001b[38;5;241m.\u001b[39m_batch_hooks_support_tf_logs:\n\u001b[1;32m    296\u001b[0m     \u001b[38;5;28;01mreturn\u001b[39;00m logs\n\u001b[0;32m--> 297\u001b[0m \u001b[38;5;28;01mreturn\u001b[39;00m \u001b[43mtf_utils\u001b[49m\u001b[38;5;241;43m.\u001b[39;49m\u001b[43msync_to_numpy_or_python_type\u001b[49m\u001b[43m(\u001b[49m\u001b[43mlogs\u001b[49m\u001b[43m)\u001b[49m\n",
      "File \u001b[0;32m~/miniforge3/envs/ml_env/lib/python3.8/site-packages/keras/src/utils/tf_utils.py:694\u001b[0m, in \u001b[0;36msync_to_numpy_or_python_type\u001b[0;34m(tensors)\u001b[0m\n\u001b[1;32m    691\u001b[0m         \u001b[38;5;28;01mreturn\u001b[39;00m t\n\u001b[1;32m    692\u001b[0m     \u001b[38;5;28;01mreturn\u001b[39;00m t\u001b[38;5;241m.\u001b[39mitem() \u001b[38;5;28;01mif\u001b[39;00m np\u001b[38;5;241m.\u001b[39mndim(t) \u001b[38;5;241m==\u001b[39m \u001b[38;5;241m0\u001b[39m \u001b[38;5;28;01melse\u001b[39;00m t\n\u001b[0;32m--> 694\u001b[0m \u001b[38;5;28;01mreturn\u001b[39;00m \u001b[43mtf\u001b[49m\u001b[38;5;241;43m.\u001b[39;49m\u001b[43mnest\u001b[49m\u001b[38;5;241;43m.\u001b[39;49m\u001b[43mmap_structure\u001b[49m\u001b[43m(\u001b[49m\u001b[43m_to_single_numpy_or_python_type\u001b[49m\u001b[43m,\u001b[49m\u001b[43m \u001b[49m\u001b[43mtensors\u001b[49m\u001b[43m)\u001b[49m\n",
      "File \u001b[0;32m~/miniforge3/envs/ml_env/lib/python3.8/site-packages/tensorflow/python/util/nest.py:624\u001b[0m, in \u001b[0;36mmap_structure\u001b[0;34m(func, *structure, **kwargs)\u001b[0m\n\u001b[1;32m    538\u001b[0m \u001b[38;5;129m@tf_export\u001b[39m(\u001b[38;5;124m\"\u001b[39m\u001b[38;5;124mnest.map_structure\u001b[39m\u001b[38;5;124m\"\u001b[39m)\n\u001b[1;32m    539\u001b[0m \u001b[38;5;28;01mdef\u001b[39;00m \u001b[38;5;21mmap_structure\u001b[39m(func, \u001b[38;5;241m*\u001b[39mstructure, \u001b[38;5;241m*\u001b[39m\u001b[38;5;241m*\u001b[39mkwargs):\n\u001b[1;32m    540\u001b[0m \u001b[38;5;250m  \u001b[39m\u001b[38;5;124;03m\"\"\"Creates a new structure by applying `func` to each atom in `structure`.\u001b[39;00m\n\u001b[1;32m    541\u001b[0m \n\u001b[1;32m    542\u001b[0m \u001b[38;5;124;03m  Refer to [tf.nest](https://www.tensorflow.org/api_docs/python/tf/nest)\u001b[39;00m\n\u001b[0;32m   (...)\u001b[0m\n\u001b[1;32m    622\u001b[0m \u001b[38;5;124;03m    ValueError: If wrong keyword arguments are provided.\u001b[39;00m\n\u001b[1;32m    623\u001b[0m \u001b[38;5;124;03m  \"\"\"\u001b[39;00m\n\u001b[0;32m--> 624\u001b[0m   \u001b[38;5;28;01mreturn\u001b[39;00m \u001b[43mnest_util\u001b[49m\u001b[38;5;241;43m.\u001b[39;49m\u001b[43mmap_structure\u001b[49m\u001b[43m(\u001b[49m\n\u001b[1;32m    625\u001b[0m \u001b[43m      \u001b[49m\u001b[43mnest_util\u001b[49m\u001b[38;5;241;43m.\u001b[39;49m\u001b[43mModality\u001b[49m\u001b[38;5;241;43m.\u001b[39;49m\u001b[43mCORE\u001b[49m\u001b[43m,\u001b[49m\u001b[43m \u001b[49m\u001b[43mfunc\u001b[49m\u001b[43m,\u001b[49m\u001b[43m \u001b[49m\u001b[38;5;241;43m*\u001b[39;49m\u001b[43mstructure\u001b[49m\u001b[43m,\u001b[49m\u001b[43m \u001b[49m\u001b[38;5;241;43m*\u001b[39;49m\u001b[38;5;241;43m*\u001b[39;49m\u001b[43mkwargs\u001b[49m\n\u001b[1;32m    626\u001b[0m \u001b[43m  \u001b[49m\u001b[43m)\u001b[49m\n",
      "File \u001b[0;32m~/miniforge3/envs/ml_env/lib/python3.8/site-packages/tensorflow/python/util/nest_util.py:1054\u001b[0m, in \u001b[0;36mmap_structure\u001b[0;34m(modality, func, *structure, **kwargs)\u001b[0m\n\u001b[1;32m    957\u001b[0m \u001b[38;5;250m\u001b[39m\u001b[38;5;124;03m\"\"\"Creates a new structure by applying `func` to each atom in `structure`.\u001b[39;00m\n\u001b[1;32m    958\u001b[0m \n\u001b[1;32m    959\u001b[0m \u001b[38;5;124;03m- For Modality.CORE: Refer to\u001b[39;00m\n\u001b[0;32m   (...)\u001b[0m\n\u001b[1;32m   1051\u001b[0m \u001b[38;5;124;03m  ValueError: If wrong keyword arguments are provided.\u001b[39;00m\n\u001b[1;32m   1052\u001b[0m \u001b[38;5;124;03m\"\"\"\u001b[39;00m\n\u001b[1;32m   1053\u001b[0m \u001b[38;5;28;01mif\u001b[39;00m modality \u001b[38;5;241m==\u001b[39m Modality\u001b[38;5;241m.\u001b[39mCORE:\n\u001b[0;32m-> 1054\u001b[0m   \u001b[38;5;28;01mreturn\u001b[39;00m \u001b[43m_tf_core_map_structure\u001b[49m\u001b[43m(\u001b[49m\u001b[43mfunc\u001b[49m\u001b[43m,\u001b[49m\u001b[43m \u001b[49m\u001b[38;5;241;43m*\u001b[39;49m\u001b[43mstructure\u001b[49m\u001b[43m,\u001b[49m\u001b[43m \u001b[49m\u001b[38;5;241;43m*\u001b[39;49m\u001b[38;5;241;43m*\u001b[39;49m\u001b[43mkwargs\u001b[49m\u001b[43m)\u001b[49m\n\u001b[1;32m   1055\u001b[0m \u001b[38;5;28;01melif\u001b[39;00m modality \u001b[38;5;241m==\u001b[39m Modality\u001b[38;5;241m.\u001b[39mDATA:\n\u001b[1;32m   1056\u001b[0m   \u001b[38;5;28;01mreturn\u001b[39;00m _tf_data_map_structure(func, \u001b[38;5;241m*\u001b[39mstructure, \u001b[38;5;241m*\u001b[39m\u001b[38;5;241m*\u001b[39mkwargs)\n",
      "File \u001b[0;32m~/miniforge3/envs/ml_env/lib/python3.8/site-packages/tensorflow/python/util/nest_util.py:1094\u001b[0m, in \u001b[0;36m_tf_core_map_structure\u001b[0;34m(func, *structure, **kwargs)\u001b[0m\n\u001b[1;32m   1089\u001b[0m flat_structure \u001b[38;5;241m=\u001b[39m (_tf_core_flatten(s, expand_composites) \u001b[38;5;28;01mfor\u001b[39;00m s \u001b[38;5;129;01min\u001b[39;00m structure)\n\u001b[1;32m   1090\u001b[0m entries \u001b[38;5;241m=\u001b[39m \u001b[38;5;28mzip\u001b[39m(\u001b[38;5;241m*\u001b[39mflat_structure)\n\u001b[1;32m   1092\u001b[0m \u001b[38;5;28;01mreturn\u001b[39;00m _tf_core_pack_sequence_as(\n\u001b[1;32m   1093\u001b[0m     structure[\u001b[38;5;241m0\u001b[39m],\n\u001b[0;32m-> 1094\u001b[0m     [func(\u001b[38;5;241m*\u001b[39mx) \u001b[38;5;28;01mfor\u001b[39;00m x \u001b[38;5;129;01min\u001b[39;00m entries],\n\u001b[1;32m   1095\u001b[0m     expand_composites\u001b[38;5;241m=\u001b[39mexpand_composites,\n\u001b[1;32m   1096\u001b[0m )\n",
      "File \u001b[0;32m~/miniforge3/envs/ml_env/lib/python3.8/site-packages/tensorflow/python/util/nest_util.py:1094\u001b[0m, in \u001b[0;36m<listcomp>\u001b[0;34m(.0)\u001b[0m\n\u001b[1;32m   1089\u001b[0m flat_structure \u001b[38;5;241m=\u001b[39m (_tf_core_flatten(s, expand_composites) \u001b[38;5;28;01mfor\u001b[39;00m s \u001b[38;5;129;01min\u001b[39;00m structure)\n\u001b[1;32m   1090\u001b[0m entries \u001b[38;5;241m=\u001b[39m \u001b[38;5;28mzip\u001b[39m(\u001b[38;5;241m*\u001b[39mflat_structure)\n\u001b[1;32m   1092\u001b[0m \u001b[38;5;28;01mreturn\u001b[39;00m _tf_core_pack_sequence_as(\n\u001b[1;32m   1093\u001b[0m     structure[\u001b[38;5;241m0\u001b[39m],\n\u001b[0;32m-> 1094\u001b[0m     [\u001b[43mfunc\u001b[49m\u001b[43m(\u001b[49m\u001b[38;5;241;43m*\u001b[39;49m\u001b[43mx\u001b[49m\u001b[43m)\u001b[49m \u001b[38;5;28;01mfor\u001b[39;00m x \u001b[38;5;129;01min\u001b[39;00m entries],\n\u001b[1;32m   1095\u001b[0m     expand_composites\u001b[38;5;241m=\u001b[39mexpand_composites,\n\u001b[1;32m   1096\u001b[0m )\n",
      "File \u001b[0;32m~/miniforge3/envs/ml_env/lib/python3.8/site-packages/keras/src/utils/tf_utils.py:687\u001b[0m, in \u001b[0;36msync_to_numpy_or_python_type.<locals>._to_single_numpy_or_python_type\u001b[0;34m(t)\u001b[0m\n\u001b[1;32m    684\u001b[0m \u001b[38;5;28;01mdef\u001b[39;00m \u001b[38;5;21m_to_single_numpy_or_python_type\u001b[39m(t):\n\u001b[1;32m    685\u001b[0m     \u001b[38;5;66;03m# Don't turn ragged or sparse tensors to NumPy.\u001b[39;00m\n\u001b[1;32m    686\u001b[0m     \u001b[38;5;28;01mif\u001b[39;00m \u001b[38;5;28misinstance\u001b[39m(t, tf\u001b[38;5;241m.\u001b[39mTensor):\n\u001b[0;32m--> 687\u001b[0m         t \u001b[38;5;241m=\u001b[39m \u001b[43mt\u001b[49m\u001b[38;5;241;43m.\u001b[39;49m\u001b[43mnumpy\u001b[49m\u001b[43m(\u001b[49m\u001b[43m)\u001b[49m\n\u001b[1;32m    688\u001b[0m     \u001b[38;5;66;03m# Strings, ragged and sparse tensors don't have .item(). Return them\u001b[39;00m\n\u001b[1;32m    689\u001b[0m     \u001b[38;5;66;03m# as-is.\u001b[39;00m\n\u001b[1;32m    690\u001b[0m     \u001b[38;5;28;01mif\u001b[39;00m \u001b[38;5;129;01mnot\u001b[39;00m \u001b[38;5;28misinstance\u001b[39m(t, (np\u001b[38;5;241m.\u001b[39mndarray, np\u001b[38;5;241m.\u001b[39mgeneric)):\n",
      "File \u001b[0;32m~/miniforge3/envs/ml_env/lib/python3.8/site-packages/tensorflow/python/framework/ops.py:1141\u001b[0m, in \u001b[0;36m_EagerTensorBase.numpy\u001b[0;34m(self)\u001b[0m\n\u001b[1;32m   1118\u001b[0m \u001b[38;5;250m\u001b[39m\u001b[38;5;124;03m\"\"\"Copy of the contents of this Tensor into a NumPy array or scalar.\u001b[39;00m\n\u001b[1;32m   1119\u001b[0m \n\u001b[1;32m   1120\u001b[0m \u001b[38;5;124;03mUnlike NumPy arrays, Tensors are immutable, so this method has to copy\u001b[39;00m\n\u001b[0;32m   (...)\u001b[0m\n\u001b[1;32m   1138\u001b[0m \u001b[38;5;124;03m    NumPy dtype.\u001b[39;00m\n\u001b[1;32m   1139\u001b[0m \u001b[38;5;124;03m\"\"\"\u001b[39;00m\n\u001b[1;32m   1140\u001b[0m \u001b[38;5;66;03m# TODO(slebedev): Consider avoiding a copy for non-CPU or remote tensors.\u001b[39;00m\n\u001b[0;32m-> 1141\u001b[0m maybe_arr \u001b[38;5;241m=\u001b[39m \u001b[38;5;28;43mself\u001b[39;49m\u001b[38;5;241;43m.\u001b[39;49m\u001b[43m_numpy\u001b[49m\u001b[43m(\u001b[49m\u001b[43m)\u001b[49m  \u001b[38;5;66;03m# pylint: disable=protected-access\u001b[39;00m\n\u001b[1;32m   1142\u001b[0m \u001b[38;5;28;01mreturn\u001b[39;00m maybe_arr\u001b[38;5;241m.\u001b[39mcopy() \u001b[38;5;28;01mif\u001b[39;00m \u001b[38;5;28misinstance\u001b[39m(maybe_arr, np\u001b[38;5;241m.\u001b[39mndarray) \u001b[38;5;28;01melse\u001b[39;00m maybe_arr\n",
      "File \u001b[0;32m~/miniforge3/envs/ml_env/lib/python3.8/site-packages/tensorflow/python/framework/ops.py:1107\u001b[0m, in \u001b[0;36m_EagerTensorBase._numpy\u001b[0;34m(self)\u001b[0m\n\u001b[1;32m   1105\u001b[0m \u001b[38;5;28;01mdef\u001b[39;00m \u001b[38;5;21m_numpy\u001b[39m(\u001b[38;5;28mself\u001b[39m):\n\u001b[1;32m   1106\u001b[0m   \u001b[38;5;28;01mtry\u001b[39;00m:\n\u001b[0;32m-> 1107\u001b[0m     \u001b[38;5;28;01mreturn\u001b[39;00m \u001b[38;5;28;43mself\u001b[39;49m\u001b[38;5;241;43m.\u001b[39;49m\u001b[43m_numpy_internal\u001b[49m\u001b[43m(\u001b[49m\u001b[43m)\u001b[49m\n\u001b[1;32m   1108\u001b[0m   \u001b[38;5;28;01mexcept\u001b[39;00m core\u001b[38;5;241m.\u001b[39m_NotOkStatusException \u001b[38;5;28;01mas\u001b[39;00m e:  \u001b[38;5;66;03m# pylint: disable=protected-access\u001b[39;00m\n\u001b[1;32m   1109\u001b[0m     \u001b[38;5;28;01mraise\u001b[39;00m core\u001b[38;5;241m.\u001b[39m_status_to_exception(e) \u001b[38;5;28;01mfrom\u001b[39;00m \u001b[38;5;28;01mNone\u001b[39;00m\n",
      "\u001b[0;31mKeyboardInterrupt\u001b[0m: "
     ]
    },
    {
     "ename": "",
     "evalue": "",
     "output_type": "error",
     "traceback": [
      "\u001b[1;31mThe Kernel crashed while executing code in the current cell or a previous cell. \n",
      "\u001b[1;31mPlease review the code in the cell(s) to identify a possible cause of the failure. \n",
      "\u001b[1;31mClick <a href='https://aka.ms/vscodeJupyterKernelCrash'>here</a> for more info. \n",
      "\u001b[1;31mView Jupyter <a href='command:jupyter.viewOutput'>log</a> for further details."
     ]
    }
   ],
   "source": [
    "# Build BERT model\n",
    "distillbert_learner = ktrain.get_learner(distillbert_base_model, train_data=training_set, val_data=validation_set, batch_size=6)\n",
    "distillbert_learner.set_weight_decay(0.001)\n",
    "distillbert_learner.autofit(3.328132762062889e-05, epochs=12, early_stopping=4, class_weight=class_weights)"
   ]
  },
  {
   "cell_type": "code",
   "execution_count": 29,
   "metadata": {},
   "outputs": [
    {
     "name": "stdout",
     "output_type": "stream",
     "text": [
      "9/9 [==============================] - 13s 678ms/step\n",
      "              precision    recall  f1-score   support\n",
      "\n",
      "           0       1.00      1.00      1.00       200\n",
      "           1       1.00      0.99      0.99        67\n",
      "\n",
      "    accuracy                           1.00       267\n",
      "   macro avg       1.00      0.99      0.99       267\n",
      "weighted avg       1.00      1.00      1.00       267\n",
      "\n"
     ]
    },
    {
     "data": {
      "text/plain": [
       "array([[200,   0],\n",
       "       [  1,  66]])"
      ]
     },
     "execution_count": 29,
     "metadata": {},
     "output_type": "execute_result"
    }
   ],
   "source": [
    "distillbert_learner.validate(class_names=distillbert_transformer.get_classes())"
   ]
  },
  {
   "cell_type": "code",
   "execution_count": 30,
   "metadata": {},
   "outputs": [
    {
     "name": "stdout",
     "output_type": "stream",
     "text": [
      "Model: \"tf_bert_for_sequence_classification_3\"\n",
      "_________________________________________________________________\n",
      " Layer (type)                Output Shape              Param #   \n",
      "=================================================================\n",
      " bert (TFBertMainLayer)      multiple                  109482240 \n",
      "                                                                 \n",
      " dropout_151 (Dropout)       multiple                  0         \n",
      "                                                                 \n",
      " classifier (Dense)          multiple                  1538      \n",
      "                                                                 \n",
      "=================================================================\n",
      "Total params: 109483778 (417.65 MB)\n",
      "Trainable params: 109483778 (417.65 MB)\n",
      "Non-trainable params: 0 (0.00 Byte)\n",
      "_________________________________________________________________\n"
     ]
    }
   ],
   "source": [
    "distillbert_learner.model.summary()"
   ]
  },
  {
   "cell_type": "code",
   "execution_count": 31,
   "metadata": {},
   "outputs": [],
   "source": [
    "distillbert_predictor = ktrain.get_predictor(distillbert_learner.model, preproc=distillbert_transformer)"
   ]
  },
  {
   "cell_type": "code",
   "execution_count": 32,
   "metadata": {},
   "outputs": [],
   "source": [
    "distillbert_test_data = test_df['sentence'].tolist()\n",
    "distillbert_test_label = test_df['label'].tolist()"
   ]
  },
  {
   "cell_type": "code",
   "execution_count": 33,
   "metadata": {},
   "outputs": [],
   "source": [
    "y_pred_distillbert = distillbert_predictor.predict(distillbert_test_data)"
   ]
  },
  {
   "cell_type": "code",
   "execution_count": 34,
   "metadata": {},
   "outputs": [],
   "source": [
    "y_pred_distillbert = [int(x) for x in y_pred_distillbert]"
   ]
  },
  {
   "cell_type": "code",
   "execution_count": 35,
   "metadata": {},
   "outputs": [
    {
     "name": "stdout",
     "output_type": "stream",
     "text": [
      "True Negative: 219, False Positive: 2, False Negative: 1, True Positive: 74\n"
     ]
    }
   ],
   "source": [
    "tn, fp, fn, tp = confusion_matrix(distillbert_test_label, y_pred_distillbert).ravel()\n",
    "print('True Negative: {}, False Positive: {}, False Negative: {}, True Positive: {}'.format(tn, fp, fn, tp))"
   ]
  },
  {
   "cell_type": "code",
   "execution_count": 36,
   "metadata": {},
   "outputs": [
    {
     "name": "stdout",
     "output_type": "stream",
     "text": [
      "  Classification Report:\n",
      "               precision    recall  f1-score   support\n",
      "\n",
      "           0       1.00      0.99      0.99       221\n",
      "           1       0.97      0.99      0.98        75\n",
      "\n",
      "    accuracy                           0.99       296\n",
      "   macro avg       0.98      0.99      0.99       296\n",
      "weighted avg       0.99      0.99      0.99       296\n",
      " \n",
      "\n"
     ]
    }
   ],
   "source": [
    "print('  Classification Report:\\n',classification_report(distillbert_test_label,y_pred_distillbert),'\\n')"
   ]
  },
  {
   "cell_type": "code",
   "execution_count": 16,
   "metadata": {},
   "outputs": [],
   "source": [
    "training_df.to_csv(\"social_training.csv\", index=False)\n",
    "test_df.to_csv(\"social_test.csv\", index=False)"
   ]
  },
  {
   "cell_type": "markdown",
   "metadata": {},
   "source": []
  },
  {
   "cell_type": "code",
   "execution_count": 58,
   "metadata": {},
   "outputs": [
    {
     "data": {
      "text/html": [
       "<div>\n",
       "<style scoped>\n",
       "    .dataframe tbody tr th:only-of-type {\n",
       "        vertical-align: middle;\n",
       "    }\n",
       "\n",
       "    .dataframe tbody tr th {\n",
       "        vertical-align: top;\n",
       "    }\n",
       "\n",
       "    .dataframe thead th {\n",
       "        text-align: right;\n",
       "    }\n",
       "</style>\n",
       "<table border=\"1\" class=\"dataframe\">\n",
       "  <thead>\n",
       "    <tr style=\"text-align: right;\">\n",
       "      <th></th>\n",
       "      <th>sentence</th>\n",
       "      <th>label</th>\n",
       "      <th>phrase</th>\n",
       "      <th>predicted_label</th>\n",
       "    </tr>\n",
       "  </thead>\n",
       "  <tbody>\n",
       "    <tr>\n",
       "      <th>0</th>\n",
       "      <td>every time i have to spend more effort and time to understand the physics concept and finish my homework.</td>\n",
       "      <td>0</td>\n",
       "      <td>['I am an International student from China, and my parents send me here because they want me to have better education resources.']</td>\n",
       "      <td>0</td>\n",
       "    </tr>\n",
       "    <tr>\n",
       "      <th>1</th>\n",
       "      <td>there is a big need for people of color in the medical field and i want to start to make a difference.</td>\n",
       "      <td>0</td>\n",
       "      <td>[\"I am also here to advance my education and make my family proud. I'll be the first in my family to graduate from college and to attend college in general but I want to make them proud.\"]</td>\n",
       "      <td>0</td>\n",
       "    </tr>\n",
       "    <tr>\n",
       "      <th>2</th>\n",
       "      <td>i enjoy the process of breaking down problems to a point that they can be solved.</td>\n",
       "      <td>0</td>\n",
       "      <td>['I decided to follow my parents lead.']</td>\n",
       "      <td>0</td>\n",
       "    </tr>\n",
       "    <tr>\n",
       "      <th>3</th>\n",
       "      <td>furthermore, i am here learning physics because it is not only a requirement for my major, but because i am excited to learn the subject itself and how it applies to our everyday lives.</td>\n",
       "      <td>0</td>\n",
       "      <td>['I am here because I want to honor the sacrifices that both my parents had to take in order for me to get an education here in the United States.']</td>\n",
       "      <td>0</td>\n",
       "    </tr>\n",
       "    <tr>\n",
       "      <th>4</th>\n",
       "      <td>this class was a requirement in my major which is why i am here taking it.</td>\n",
       "      <td>0</td>\n",
       "      <td>['I wouldnt be here without my parents who sacrificed a lot for me to be here. I am part of the first generation in my family to go to college and hopefully get a degree and I am trying to make my parents proud but also learn things for myself and get a career that will give me financial stability and also a career where I will help tons of people.']</td>\n",
       "      <td>0</td>\n",
       "    </tr>\n",
       "    <tr>\n",
       "      <th>...</th>\n",
       "      <td>...</td>\n",
       "      <td>...</td>\n",
       "      <td>...</td>\n",
       "      <td>...</td>\n",
       "    </tr>\n",
       "    <tr>\n",
       "      <th>250</th>\n",
       "      <td>when i graduated middle school in china, my parents decided send me to the united state to finish my high school and university study.</td>\n",
       "      <td>1</td>\n",
       "      <td>['When I graduated middle school in China, my parents decided send me to The United State to finish My high school and university study.']</td>\n",
       "      <td>1</td>\n",
       "    </tr>\n",
       "    <tr>\n",
       "      <th>251</th>\n",
       "      <td>my aunt is someone i look up to since she is a radiologist at the stanford medical center in palo alto.</td>\n",
       "      <td>0</td>\n",
       "      <td>['My aunt is someone I look up to since she is a radiologist at the Stanford Medical Center in Palo Alto. I want to be able to follow in her steps and to make my family and her proud. Shes someone who highly supports me getting a college education and she is one of the reasons I continue to push myself even when things get difficult.']</td>\n",
       "      <td>0</td>\n",
       "    </tr>\n",
       "    <tr>\n",
       "      <th>252</th>\n",
       "      <td>i am here because i care about my community and to help empower those around me.</td>\n",
       "      <td>0</td>\n",
       "      <td>[\"become a role model for my younger cousins back where I'm from.\"]</td>\n",
       "      <td>0</td>\n",
       "    </tr>\n",
       "    <tr>\n",
       "      <th>253</th>\n",
       "      <td>in addition to this, i do hope to someday make a difference in the world, and strongly believe that i can do so if i pursue a stem related career.</td>\n",
       "      <td>0</td>\n",
       "      <td>['I come from an Indian immigrant family, and all of my family members have worked hard to earn their places in the world. Most of my family members are successful, and a majority of them are working in STEM related careers. Due to this, there has always been an expectation for me to go into a STEM related field.']</td>\n",
       "      <td>0</td>\n",
       "    </tr>\n",
       "    <tr>\n",
       "      <th>254</th>\n",
       "      <td>something, a goal, i have always wanted for myself is to be financially stable and be able to comfortably provide for myself.</td>\n",
       "      <td>0</td>\n",
       "      <td>['I am here as a role model to my sisters and to make my parents proud.']</td>\n",
       "      <td>0</td>\n",
       "    </tr>\n",
       "  </tbody>\n",
       "</table>\n",
       "<p>255 rows × 4 columns</p>\n",
       "</div>"
      ],
      "text/plain": [
       "                                                                                                                                                                                      sentence  \\\n",
       "0                                                                                    every time i have to spend more effort and time to understand the physics concept and finish my homework.   \n",
       "1                                                                                       there is a big need for people of color in the medical field and i want to start to make a difference.   \n",
       "2                                                                                                            i enjoy the process of breaking down problems to a point that they can be solved.   \n",
       "3    furthermore, i am here learning physics because it is not only a requirement for my major, but because i am excited to learn the subject itself and how it applies to our everyday lives.   \n",
       "4                                                                                                                   this class was a requirement in my major which is why i am here taking it.   \n",
       "..                                                                                                                                                                                         ...   \n",
       "250                                                     when i graduated middle school in china, my parents decided send me to the united state to finish my high school and university study.   \n",
       "251                                                                                    my aunt is someone i look up to since she is a radiologist at the stanford medical center in palo alto.   \n",
       "252                                                                                                           i am here because i care about my community and to help empower those around me.   \n",
       "253                                         in addition to this, i do hope to someday make a difference in the world, and strongly believe that i can do so if i pursue a stem related career.   \n",
       "254                                                              something, a goal, i have always wanted for myself is to be financially stable and be able to comfortably provide for myself.   \n",
       "\n",
       "     label  \\\n",
       "0        0   \n",
       "1        0   \n",
       "2        0   \n",
       "3        0   \n",
       "4        0   \n",
       "..     ...   \n",
       "250      1   \n",
       "251      0   \n",
       "252      0   \n",
       "253      0   \n",
       "254      0   \n",
       "\n",
       "                                                                                                                                                                                                                                                                                                                                                               phrase  \\\n",
       "0                                                                                                                                                                                                                                  ['I am an International student from China, and my parents send me here because they want me to have better education resources.']   \n",
       "1                                                                                                                                                                        [\"I am also here to advance my education and make my family proud. I'll be the first in my family to graduate from college and to attend college in general but I want to make them proud.\"]   \n",
       "2                                                                                                                                                                                                                                                                                                                            ['I decided to follow my parents lead.']   \n",
       "3                                                                                                                                                                                                                ['I am here because I want to honor the sacrifices that both my parents had to take in order for me to get an education here in the United States.']   \n",
       "4    ['I wouldnt be here without my parents who sacrificed a lot for me to be here. I am part of the first generation in my family to go to college and hopefully get a degree and I am trying to make my parents proud but also learn things for myself and get a career that will give me financial stability and also a career where I will help tons of people.']   \n",
       "..                                                                                                                                                                                                                                                                                                                                                                ...   \n",
       "250                                                                                                                                                                                                                        ['When I graduated middle school in China, my parents decided send me to The United State to finish My high school and university study.']   \n",
       "251                 ['My aunt is someone I look up to since she is a radiologist at the Stanford Medical Center in Palo Alto. I want to be able to follow in her steps and to make my family and her proud. Shes someone who highly supports me getting a college education and she is one of the reasons I continue to push myself even when things get difficult.']   \n",
       "252                                                                                                                                                                                                                                                                                               [\"become a role model for my younger cousins back where I'm from.\"]   \n",
       "253                                      ['I come from an Indian immigrant family, and all of my family members have worked hard to earn their places in the world. Most of my family members are successful, and a majority of them are working in STEM related careers. Due to this, there has always been an expectation for me to go into a STEM related field.']   \n",
       "254                                                                                                                                                                                                                                                                                         ['I am here as a role model to my sisters and to make my parents proud.']   \n",
       "\n",
       "     predicted_label  \n",
       "0                  0  \n",
       "1                  0  \n",
       "2                  0  \n",
       "3                  0  \n",
       "4                  0  \n",
       "..               ...  \n",
       "250                1  \n",
       "251                0  \n",
       "252                0  \n",
       "253                0  \n",
       "254                0  \n",
       "\n",
       "[255 rows x 4 columns]"
      ]
     },
     "execution_count": 58,
     "metadata": {},
     "output_type": "execute_result"
    }
   ],
   "source": [
    "test_df_copy = test_df.copy()\n",
    "test_df_copy[\"predicted_label\"] = y_pred_distillbert\n",
    "test_df_copy"
   ]
  },
  {
   "cell_type": "code",
   "execution_count": null,
   "metadata": {},
   "outputs": [],
   "source": []
  },
  {
   "cell_type": "code",
   "execution_count": 59,
   "metadata": {},
   "outputs": [],
   "source": [
    "test_df_copy.to_excel(\"Familial_error_analysis_2.xlsx\")"
   ]
  },
  {
   "cell_type": "code",
   "execution_count": 24,
   "metadata": {},
   "outputs": [],
   "source": [
    "# distillbert_predictor.save('../../model/first_generation_distilbert_base_uncased_model_10102020') # 256 MB"
   ]
  },
  {
   "cell_type": "code",
   "execution_count": 21,
   "metadata": {},
   "outputs": [
    {
     "name": "stdout",
     "output_type": "stream",
     "text": [
      "AUC roc score for distillbert model:  0.9306334080717489\n"
     ]
    }
   ],
   "source": [
    "print(\"AUC roc score for distillbert model: \", roc_auc_score(distillbert_test_label,y_pred_distillbert))"
   ]
  },
  {
   "cell_type": "code",
   "execution_count": 22,
   "metadata": {},
   "outputs": [
    {
     "name": "stdout",
     "output_type": "stream",
     "text": [
      "AUC PR score for DistilBERT model:  0.7918205047976637\n"
     ]
    }
   ],
   "source": [
    "from sklearn.metrics import auc, precision_recall_curve\n",
    "\n",
    "# Replace these with your actual data\n",
    "# distillbert_test_label: Ground truth labels (list or numpy array)\n",
    "# y_pred_distillbert: Predicted probabilities (list or numpy array)\n",
    "\n",
    "# Calculate precision-recall curve\n",
    "precision, recall, _ = precision_recall_curve(distillbert_test_label, y_pred_distillbert)\n",
    "\n",
    "# Calculate PR AUC\n",
    "pr_auc_score = auc(recall, precision)\n",
    "\n",
    "# Print the result\n",
    "print(\"AUC PR score for DistilBERT model: \", pr_auc_score)"
   ]
  },
  {
   "cell_type": "code",
   "execution_count": null,
   "metadata": {},
   "outputs": [],
   "source": []
  }
 ],
 "metadata": {
  "kernelspec": {
   "display_name": "ml_env",
   "language": "python",
   "name": "python3"
  },
  "language_info": {
   "codemirror_mode": {
    "name": "ipython",
    "version": 3
   },
   "file_extension": ".py",
   "mimetype": "text/x-python",
   "name": "python",
   "nbconvert_exporter": "python",
   "pygments_lexer": "ipython3",
   "version": "3.8.17"
  }
 },
 "nbformat": 4,
 "nbformat_minor": 4
}
