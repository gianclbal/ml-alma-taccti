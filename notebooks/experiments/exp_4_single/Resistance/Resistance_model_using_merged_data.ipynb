{
 "cells": [
  {
   "cell_type": "markdown",
   "metadata": {},
   "source": [
    "# Resistance DistilBERT Model Using Single Batch 1 + Batch 2"
   ]
  },
  {
   "cell_type": "code",
   "execution_count": 4,
   "metadata": {},
   "outputs": [],
   "source": [
    "import ktrain\n",
    "import pandas as pd\n",
    "import numpy as np\n",
    "from sklearn.model_selection import train_test_split\n",
    "from sklearn.metrics import confusion_matrix\n",
    "from sklearn.metrics import classification_report\n",
    "from sklearn.metrics import roc_auc_score\n",
    "from ktrain import text\n",
    "import random\n",
    "import warnings\n",
    "from sklearn.utils import shuffle\n",
    "\n",
    "# Set random seed\"\n",
    "random.seed(18)\n",
    "seed = 18\n",
    "\n",
    "# Ignore warnings\n",
    "warnings.filterwarnings('ignore')\n",
    "\n",
    "# Display options\n",
    "pd.set_option('display.max_colwidth', None)"
   ]
  },
  {
   "cell_type": "markdown",
   "metadata": {},
   "source": [
    "## 1. Loading the data and quick exploratory data analysis"
   ]
  },
  {
   "cell_type": "code",
   "execution_count": 5,
   "metadata": {},
   "outputs": [
    {
     "data": {
      "text/html": [
       "<div>\n",
       "<style scoped>\n",
       "    .dataframe tbody tr th:only-of-type {\n",
       "        vertical-align: middle;\n",
       "    }\n",
       "\n",
       "    .dataframe tbody tr th {\n",
       "        vertical-align: top;\n",
       "    }\n",
       "\n",
       "    .dataframe thead th {\n",
       "        text-align: right;\n",
       "    }\n",
       "</style>\n",
       "<table border=\"1\" class=\"dataframe\">\n",
       "  <thead>\n",
       "    <tr style=\"text-align: right;\">\n",
       "      <th></th>\n",
       "      <th>sentence</th>\n",
       "      <th>label</th>\n",
       "      <th>phrase</th>\n",
       "      <th>updated_label</th>\n",
       "    </tr>\n",
       "  </thead>\n",
       "  <tbody>\n",
       "    <tr>\n",
       "      <th>0</th>\n",
       "      <td>i am here because i want to better myself my family, not only financially but in health.</td>\n",
       "      <td>0</td>\n",
       "      <td>['I know that as a child I never thought of education and a career for someone who is undocumented.', 'I Hope to reach a position in which I can inspire and prove to all of the \"immigrants\" in the USA that achieving and surpassing struggle is possible.']</td>\n",
       "      <td>0</td>\n",
       "    </tr>\n",
       "    <tr>\n",
       "      <th>1</th>\n",
       "      <td>being in this instituion will pave a way for me to become a professional.</td>\n",
       "      <td>0</td>\n",
       "      <td>['I know that as a child I never thought of education and a career for someone who is undocumented.', 'I Hope to reach a position in which I can inspire and prove to all of the \"immigrants\" in the USA that achieving and surpassing struggle is possible.']</td>\n",
       "      <td>0</td>\n",
       "    </tr>\n",
       "    <tr>\n",
       "      <th>2</th>\n",
       "      <td>i know that as a child i never thought of education and a career for someone who is undocumented.</td>\n",
       "      <td>1</td>\n",
       "      <td>['I know that as a child I never thought of education and a career for someone who is undocumented.', 'I Hope to reach a position in which I can inspire and prove to all of the \"immigrants\" in the USA that achieving and surpassing struggle is possible.']</td>\n",
       "      <td>0</td>\n",
       "    </tr>\n",
       "    <tr>\n",
       "      <th>3</th>\n",
       "      <td>i hope to reach a position in which i can inspire and prove to all of the \"immigrants\" in the usa that achieving and surpassing struggle is possible.</td>\n",
       "      <td>1</td>\n",
       "      <td>['I know that as a child I never thought of education and a career for someone who is undocumented.', 'I Hope to reach a position in which I can inspire and prove to all of the \"immigrants\" in the USA that achieving and surpassing struggle is possible.']</td>\n",
       "      <td>1</td>\n",
       "    </tr>\n",
       "    <tr>\n",
       "      <th>4</th>\n",
       "      <td>also, statistics have shown that people with higher education and wealth tend to be healthier.</td>\n",
       "      <td>0</td>\n",
       "      <td>['I know that as a child I never thought of education and a career for someone who is undocumented.', 'I Hope to reach a position in which I can inspire and prove to all of the \"immigrants\" in the USA that achieving and surpassing struggle is possible.']</td>\n",
       "      <td>0</td>\n",
       "    </tr>\n",
       "    <tr>\n",
       "      <th>...</th>\n",
       "      <td>...</td>\n",
       "      <td>...</td>\n",
       "      <td>...</td>\n",
       "      <td>...</td>\n",
       "    </tr>\n",
       "    <tr>\n",
       "      <th>2193</th>\n",
       "      <td>it sounds clich but it really is the truth.</td>\n",
       "      <td>0</td>\n",
       "      <td>['They taught me the value of hard work and perseverance, that not everything comes easily that failing is inevitable but you can always try again.']</td>\n",
       "      <td>0</td>\n",
       "    </tr>\n",
       "    <tr>\n",
       "      <th>2194</th>\n",
       "      <td>it isn't just due to the fact that they're helping me financially, which of course i am exponentially grateful for, but its more than that.</td>\n",
       "      <td>0</td>\n",
       "      <td>['They taught me the value of hard work and perseverance, that not everything comes easily that failing is inevitable but you can always try again.']</td>\n",
       "      <td>0</td>\n",
       "    </tr>\n",
       "    <tr>\n",
       "      <th>2195</th>\n",
       "      <td>they taught me the value of hard work and perseverance, that not everything comes easily that failing is inevitable but you can always try again.</td>\n",
       "      <td>1</td>\n",
       "      <td>['They taught me the value of hard work and perseverance, that not everything comes easily that failing is inevitable but you can always try again.']</td>\n",
       "      <td>1</td>\n",
       "    </tr>\n",
       "    <tr>\n",
       "      <th>2196</th>\n",
       "      <td>that is the reason as to \"why i am here\"...</td>\n",
       "      <td>0</td>\n",
       "      <td>['They taught me the value of hard work and perseverance, that not everything comes easily that failing is inevitable but you can always try again.']</td>\n",
       "      <td>0</td>\n",
       "    </tr>\n",
       "    <tr>\n",
       "      <th>2197</th>\n",
       "      <td>because honestly, i wouldn't be here if it wasn't for them.</td>\n",
       "      <td>0</td>\n",
       "      <td>['They taught me the value of hard work and perseverance, that not everything comes easily that failing is inevitable but you can always try again.']</td>\n",
       "      <td>0</td>\n",
       "    </tr>\n",
       "  </tbody>\n",
       "</table>\n",
       "<p>2198 rows × 4 columns</p>\n",
       "</div>"
      ],
      "text/plain": [
       "                                                                                                                                                   sentence  \\\n",
       "0                                                                  i am here because i want to better myself my family, not only financially but in health.   \n",
       "1                                                                                 being in this instituion will pave a way for me to become a professional.   \n",
       "2                                                         i know that as a child i never thought of education and a career for someone who is undocumented.   \n",
       "3     i hope to reach a position in which i can inspire and prove to all of the \"immigrants\" in the usa that achieving and surpassing struggle is possible.   \n",
       "4                                                            also, statistics have shown that people with higher education and wealth tend to be healthier.   \n",
       "...                                                                                                                                                     ...   \n",
       "2193                                                                                                            it sounds clich but it really is the truth.   \n",
       "2194            it isn't just due to the fact that they're helping me financially, which of course i am exponentially grateful for, but its more than that.   \n",
       "2195      they taught me the value of hard work and perseverance, that not everything comes easily that failing is inevitable but you can always try again.   \n",
       "2196                                                                                                            that is the reason as to \"why i am here\"...   \n",
       "2197                                                                                            because honestly, i wouldn't be here if it wasn't for them.   \n",
       "\n",
       "      label  \\\n",
       "0         0   \n",
       "1         0   \n",
       "2         1   \n",
       "3         1   \n",
       "4         0   \n",
       "...     ...   \n",
       "2193      0   \n",
       "2194      0   \n",
       "2195      1   \n",
       "2196      0   \n",
       "2197      0   \n",
       "\n",
       "                                                                                                                                                                                                                                                              phrase  \\\n",
       "0     ['I know that as a child I never thought of education and a career for someone who is undocumented.', 'I Hope to reach a position in which I can inspire and prove to all of the \"immigrants\" in the USA that achieving and surpassing struggle is possible.']   \n",
       "1     ['I know that as a child I never thought of education and a career for someone who is undocumented.', 'I Hope to reach a position in which I can inspire and prove to all of the \"immigrants\" in the USA that achieving and surpassing struggle is possible.']   \n",
       "2     ['I know that as a child I never thought of education and a career for someone who is undocumented.', 'I Hope to reach a position in which I can inspire and prove to all of the \"immigrants\" in the USA that achieving and surpassing struggle is possible.']   \n",
       "3     ['I know that as a child I never thought of education and a career for someone who is undocumented.', 'I Hope to reach a position in which I can inspire and prove to all of the \"immigrants\" in the USA that achieving and surpassing struggle is possible.']   \n",
       "4     ['I know that as a child I never thought of education and a career for someone who is undocumented.', 'I Hope to reach a position in which I can inspire and prove to all of the \"immigrants\" in the USA that achieving and surpassing struggle is possible.']   \n",
       "...                                                                                                                                                                                                                                                              ...   \n",
       "2193                                                                                                           ['They taught me the value of hard work and perseverance, that not everything comes easily that failing is inevitable but you can always try again.']   \n",
       "2194                                                                                                           ['They taught me the value of hard work and perseverance, that not everything comes easily that failing is inevitable but you can always try again.']   \n",
       "2195                                                                                                           ['They taught me the value of hard work and perseverance, that not everything comes easily that failing is inevitable but you can always try again.']   \n",
       "2196                                                                                                           ['They taught me the value of hard work and perseverance, that not everything comes easily that failing is inevitable but you can always try again.']   \n",
       "2197                                                                                                           ['They taught me the value of hard work and perseverance, that not everything comes easily that failing is inevitable but you can always try again.']   \n",
       "\n",
       "      updated_label  \n",
       "0                 0  \n",
       "1                 0  \n",
       "2                 0  \n",
       "3                 1  \n",
       "4                 0  \n",
       "...             ...  \n",
       "2193              0  \n",
       "2194              0  \n",
       "2195              1  \n",
       "2196              0  \n",
       "2197              0  \n",
       "\n",
       "[2198 rows x 4 columns]"
      ]
     },
     "execution_count": 5,
     "metadata": {},
     "output_type": "execute_result"
    }
   ],
   "source": [
    "merged_resistance_df = pd.read_csv(\"/Users/gbaldonado/Developer/ml-alma-taccti/ml-alma-taccti/data/processed_for_model/corrections/Resistance/Resistance_Plus_Merged.csv\")\n",
    "\n",
    "merged_resistance_df"
   ]
  },
  {
   "cell_type": "code",
   "execution_count": 6,
   "metadata": {},
   "outputs": [
    {
     "data": {
      "text/html": [
       "<div>\n",
       "<style scoped>\n",
       "    .dataframe tbody tr th:only-of-type {\n",
       "        vertical-align: middle;\n",
       "    }\n",
       "\n",
       "    .dataframe tbody tr th {\n",
       "        vertical-align: top;\n",
       "    }\n",
       "\n",
       "    .dataframe thead th {\n",
       "        text-align: right;\n",
       "    }\n",
       "</style>\n",
       "<table border=\"1\" class=\"dataframe\">\n",
       "  <thead>\n",
       "    <tr style=\"text-align: right;\">\n",
       "      <th></th>\n",
       "      <th>sentence</th>\n",
       "      <th>label</th>\n",
       "    </tr>\n",
       "  </thead>\n",
       "  <tbody>\n",
       "    <tr>\n",
       "      <th>0</th>\n",
       "      <td>\"why am i here\" is a very broad question.</td>\n",
       "      <td>0</td>\n",
       "    </tr>\n",
       "    <tr>\n",
       "      <th>1</th>\n",
       "      <td>\"why am i here?\" this essay is meant to connect you to your purpose.</td>\n",
       "      <td>0</td>\n",
       "    </tr>\n",
       "    <tr>\n",
       "      <th>2</th>\n",
       "      <td>\"why am i here?\" this question is super general but i'm here for a lot of reasons.</td>\n",
       "      <td>0</td>\n",
       "    </tr>\n",
       "    <tr>\n",
       "      <th>3</th>\n",
       "      <td>\"why am i here?\"such an abstract question; why am i here on this earth right now?</td>\n",
       "      <td>0</td>\n",
       "    </tr>\n",
       "    <tr>\n",
       "      <th>4</th>\n",
       "      <td>\"why do i want to go into the stem field?\"i dated this guy and he was such a tool.</td>\n",
       "      <td>0</td>\n",
       "    </tr>\n",
       "    <tr>\n",
       "      <th>...</th>\n",
       "      <td>...</td>\n",
       "      <td>...</td>\n",
       "    </tr>\n",
       "    <tr>\n",
       "      <th>2061</th>\n",
       "      <td>you learn more when you teach others how to do something or if youre learning by another student who is taking the same class.</td>\n",
       "      <td>0</td>\n",
       "    </tr>\n",
       "    <tr>\n",
       "      <th>2062</th>\n",
       "      <td>you may ask why i was born in a house?</td>\n",
       "      <td>0</td>\n",
       "    </tr>\n",
       "    <tr>\n",
       "      <th>2063</th>\n",
       "      <td>you meet great instructors that are positive and want everyone to learn and have a good grip on the concept in order to be confident when taking a quiz or exam.</td>\n",
       "      <td>0</td>\n",
       "    </tr>\n",
       "    <tr>\n",
       "      <th>2064</th>\n",
       "      <td>you so know that the time allotted for the professors are not enough to begin with.</td>\n",
       "      <td>0</td>\n",
       "    </tr>\n",
       "    <tr>\n",
       "      <th>2065</th>\n",
       "      <td>you will be graded on participation only, not on the specifics of what you say.</td>\n",
       "      <td>0</td>\n",
       "    </tr>\n",
       "  </tbody>\n",
       "</table>\n",
       "<p>2066 rows × 2 columns</p>\n",
       "</div>"
      ],
      "text/plain": [
       "                                                                                                                                                              sentence  \\\n",
       "0                                                                                                                            \"why am i here\" is a very broad question.   \n",
       "1                                                                                                 \"why am i here?\" this essay is meant to connect you to your purpose.   \n",
       "2                                                                                   \"why am i here?\" this question is super general but i'm here for a lot of reasons.   \n",
       "3                                                                                    \"why am i here?\"such an abstract question; why am i here on this earth right now?   \n",
       "4                                                                                   \"why do i want to go into the stem field?\"i dated this guy and he was such a tool.   \n",
       "...                                                                                                                                                                ...   \n",
       "2061                                    you learn more when you teach others how to do something or if youre learning by another student who is taking the same class.   \n",
       "2062                                                                                                                            you may ask why i was born in a house?   \n",
       "2063  you meet great instructors that are positive and want everyone to learn and have a good grip on the concept in order to be confident when taking a quiz or exam.   \n",
       "2064                                                                               you so know that the time allotted for the professors are not enough to begin with.   \n",
       "2065                                                                                   you will be graded on participation only, not on the specifics of what you say.   \n",
       "\n",
       "      label  \n",
       "0         0  \n",
       "1         0  \n",
       "2         0  \n",
       "3         0  \n",
       "4         0  \n",
       "...     ...  \n",
       "2061      0  \n",
       "2062      0  \n",
       "2063      0  \n",
       "2064      0  \n",
       "2065      0  \n",
       "\n",
       "[2066 rows x 2 columns]"
      ]
     },
     "execution_count": 6,
     "metadata": {},
     "output_type": "execute_result"
    }
   ],
   "source": [
    "# Process duplicates\n",
    "merged_resistance_df = (\n",
    "    merged_resistance_df.groupby('sentence', as_index=False)  # Group by sentences\n",
    "    .agg({'label': 'max'})  # If any label is 1, it takes precedence\n",
    ")\n",
    "merged_resistance_df"
   ]
  },
  {
   "cell_type": "code",
   "execution_count": 7,
   "metadata": {},
   "outputs": [],
   "source": [
    "# Shuffle the merged dataset\n",
    "merged_social_df = shuffle(merged_resistance_df, random_state=seed)\n",
    "\n",
    "# Train-test split \n",
    "training_df, test_df = train_test_split(merged_social_df, test_size=0.1, random_state=18, stratify=merged_social_df[\"label\"])\n",
    "\n",
    "\n",
    "training_df.reset_index(drop=True, inplace=True)\n",
    "test_df.reset_index(drop=True, inplace=True)\n"
   ]
  },
  {
   "cell_type": "code",
   "execution_count": 8,
   "metadata": {},
   "outputs": [
    {
     "name": "stdout",
     "output_type": "stream",
     "text": [
      "Training dataset shape: (1859, 2) \n",
      "Test dataset shape: (207, 2)\n",
      "Positive labels present in the dataset : 118  out of 1859 or 6.347498655190963%\n",
      "Positive labels present in the test dataset : 13  out of 207 or 6.280193236714976%\n"
     ]
    }
   ],
   "source": [
    "print(f\"Training dataset shape: {training_df.shape} \\nTest dataset shape: {test_df.shape}\")\n",
    "pos_labels = len([n for n in training_df['label'] if n==1])\n",
    "print(\"Positive labels present in the dataset : {}  out of {} or {}%\".format(pos_labels, len(training_df['label']), (pos_labels/len(training_df['label']))*100))\n",
    "pos_labels = len([n for n in test_df['label'] if n==1])\n",
    "print(\"Positive labels present in the test dataset : {}  out of {} or {}%\".format(pos_labels, len(test_df['label']), (pos_labels/len(test_df['label']))*100))"
   ]
  },
  {
   "cell_type": "markdown",
   "metadata": {},
   "source": [
    "## 2. Experimental Design"
   ]
  },
  {
   "cell_type": "code",
   "execution_count": 9,
   "metadata": {},
   "outputs": [
    {
     "name": "stdout",
     "output_type": "stream",
     "text": [
      "Metal device set to: Apple M2 Pro\n",
      "\n",
      "systemMemory: 16.00 GB\n",
      "maxCacheSize: 5.33 GB\n",
      "\n",
      "preprocessing train...\n",
      "language: en\n",
      "train sequence lengths:\n",
      "\tmean : 22\n",
      "\t95percentile : 42\n",
      "\t99percentile : 59\n"
     ]
    },
    {
     "data": {
      "text/html": [
       "\n",
       "<style>\n",
       "    /* Turns off some styling */\n",
       "    progress {\n",
       "        /* gets rid of default border in Firefox and Opera. */\n",
       "        border: none;\n",
       "        /* Needs to be in here for Safari polyfill so background images work as expected. */\n",
       "        background-size: auto;\n",
       "    }\n",
       "    progress:not([value]), progress:not([value])::-webkit-progress-bar {\n",
       "        background: repeating-linear-gradient(45deg, #7e7e7e, #7e7e7e 10px, #5c5c5c 10px, #5c5c5c 20px);\n",
       "    }\n",
       "    .progress-bar-interrupted, .progress-bar-interrupted::-webkit-progress-bar {\n",
       "        background: #F44336;\n",
       "    }\n",
       "</style>\n"
      ],
      "text/plain": [
       "<IPython.core.display.HTML object>"
      ]
     },
     "metadata": {},
     "output_type": "display_data"
    },
    {
     "data": {
      "text/html": [],
      "text/plain": [
       "<IPython.core.display.HTML object>"
      ]
     },
     "metadata": {},
     "output_type": "display_data"
    },
    {
     "name": "stdout",
     "output_type": "stream",
     "text": [
      "Is Multi-Label? False\n",
      "preprocessing test...\n",
      "language: en\n",
      "test sequence lengths:\n",
      "\tmean : 23\n",
      "\t95percentile : 43\n",
      "\t99percentile : 56\n"
     ]
    },
    {
     "data": {
      "text/html": [
       "\n",
       "<style>\n",
       "    /* Turns off some styling */\n",
       "    progress {\n",
       "        /* gets rid of default border in Firefox and Opera. */\n",
       "        border: none;\n",
       "        /* Needs to be in here for Safari polyfill so background images work as expected. */\n",
       "        background-size: auto;\n",
       "    }\n",
       "    progress:not([value]), progress:not([value])::-webkit-progress-bar {\n",
       "        background: repeating-linear-gradient(45deg, #7e7e7e, #7e7e7e 10px, #5c5c5c 10px, #5c5c5c 20px);\n",
       "    }\n",
       "    .progress-bar-interrupted, .progress-bar-interrupted::-webkit-progress-bar {\n",
       "        background: #F44336;\n",
       "    }\n",
       "</style>\n"
      ],
      "text/plain": [
       "<IPython.core.display.HTML object>"
      ]
     },
     "metadata": {},
     "output_type": "display_data"
    },
    {
     "data": {
      "text/html": [],
      "text/plain": [
       "<IPython.core.display.HTML object>"
      ]
     },
     "metadata": {},
     "output_type": "display_data"
    }
   ],
   "source": [
    "MAXLEN = 150\n",
    "\n",
    "X = training_df['sentence']\n",
    "y = training_df['label']\n",
    "\n",
    "# Split the data\n",
    "X_train, X_test, y_train, y_test = train_test_split(X, y, test_size = 0.1, random_state = 18, stratify=y)\n",
    "\n",
    "\n",
    "model_name = 'bert-base-uncased'\n",
    "\n",
    "distillbert_transformer = text.Transformer(model_name, maxlen=MAXLEN, class_names=[0,1])\n",
    "training_set = distillbert_transformer.preprocess_train(X_train.tolist(), y_train.tolist())\n",
    "validation_set = distillbert_transformer.preprocess_test(X_test.tolist(), y_test.tolist())\n",
    "distillbert_base_model = distillbert_transformer.get_classifier()"
   ]
  },
  {
   "cell_type": "markdown",
   "metadata": {},
   "source": []
  },
  {
   "cell_type": "code",
   "execution_count": 10,
   "metadata": {},
   "outputs": [
    {
     "name": "stdout",
     "output_type": "stream",
     "text": [
      "[0.53388857 7.87711864]\n"
     ]
    }
   ],
   "source": [
    "from sklearn.utils.class_weight import compute_class_weight\n",
    "import numpy as np\n",
    "\n",
    "# Define classes and class labels\n",
    "classes = np.array([0, 1])\n",
    "class_labels = list(training_df.label)\n",
    "\n",
    "# Compute class weights\n",
    "\n",
    "class_weights = compute_class_weight(class_weight='balanced', classes=classes, y=class_labels)\n",
    "\n",
    "# Print class weights\n",
    "print(class_weights)\n",
    "\n",
    "class_weights = dict(zip(classes, class_weights))"
   ]
  },
  {
   "cell_type": "code",
   "execution_count": 11,
   "metadata": {},
   "outputs": [
    {
     "name": "stdout",
     "output_type": "stream",
     "text": [
      "\n",
      "\n",
      "begin training using triangular learning rate policy with max lr of 3.328132762062889e-05...\n",
      "Epoch 1/12\n",
      "279/279 [==============================] - 241s 795ms/step - loss: 0.6542 - accuracy: 0.6563 - val_loss: 0.6837 - val_accuracy: 0.6344\n",
      "Epoch 2/12\n",
      "279/279 [==============================] - 229s 815ms/step - loss: 0.5323 - accuracy: 0.7256 - val_loss: 0.5263 - val_accuracy: 0.7312\n",
      "Epoch 3/12\n",
      "279/279 [==============================] - 319s 1s/step - loss: 0.4520 - accuracy: 0.7567 - val_loss: 0.3768 - val_accuracy: 0.8333\n",
      "Epoch 4/12\n",
      "279/279 [==============================] - 136s 486ms/step - loss: 0.3513 - accuracy: 0.8123 - val_loss: 0.3006 - val_accuracy: 0.8495\n",
      "Epoch 5/12\n",
      "279/279 [==============================] - 173s 616ms/step - loss: 0.2301 - accuracy: 0.8918 - val_loss: 0.2626 - val_accuracy: 0.8871\n",
      "Epoch 6/12\n",
      "279/279 [==============================] - 124s 440ms/step - loss: 0.1719 - accuracy: 0.9235 - val_loss: 0.2909 - val_accuracy: 0.8871\n",
      "Epoch 7/12\n",
      "279/279 [==============================] - 118s 422ms/step - loss: 0.1489 - accuracy: 0.9438 - val_loss: 0.2690 - val_accuracy: 0.8763\n",
      "Epoch 8/12\n",
      "279/279 [==============================] - 115s 410ms/step - loss: 0.0436 - accuracy: 0.9809 - val_loss: 0.2252 - val_accuracy: 0.9516\n",
      "Epoch 9/12\n",
      "279/279 [==============================] - 106s 377ms/step - loss: 0.0551 - accuracy: 0.9898 - val_loss: 0.2314 - val_accuracy: 0.9247\n",
      "Epoch 10/12\n",
      "279/279 [==============================] - 104s 371ms/step - loss: 0.0631 - accuracy: 0.9809 - val_loss: 0.2246 - val_accuracy: 0.9409\n",
      "Epoch 11/12\n",
      "279/279 [==============================] - 112s 395ms/step - loss: 0.0311 - accuracy: 0.9898 - val_loss: 0.2166 - val_accuracy: 0.9462\n",
      "Epoch 12/12\n",
      "279/279 [==============================] - 265s 949ms/step - loss: 0.0246 - accuracy: 0.9922 - val_loss: 0.2274 - val_accuracy: 0.9462\n",
      "Weights from best epoch have been loaded into model.\n"
     ]
    },
    {
     "data": {
      "text/plain": [
       "<keras.src.callbacks.History at 0x379edfe80>"
      ]
     },
     "execution_count": 11,
     "metadata": {},
     "output_type": "execute_result"
    }
   ],
   "source": [
    "# Build BERT model\n",
    "distillbert_learner = ktrain.get_learner(distillbert_base_model, train_data=training_set, val_data=validation_set, batch_size=6)\n",
    "distillbert_learner.set_weight_decay(0.001)\n",
    "distillbert_learner.autofit(3.328132762062889e-05, epochs=12, early_stopping=4, class_weight=class_weights)"
   ]
  },
  {
   "cell_type": "code",
   "execution_count": 12,
   "metadata": {},
   "outputs": [
    {
     "name": "stdout",
     "output_type": "stream",
     "text": [
      "6/6 [==============================] - 12s 727ms/step\n",
      "              precision    recall  f1-score   support\n",
      "\n",
      "           0       0.96      0.99      0.97       174\n",
      "           1       0.67      0.33      0.44        12\n",
      "\n",
      "    accuracy                           0.95       186\n",
      "   macro avg       0.81      0.66      0.71       186\n",
      "weighted avg       0.94      0.95      0.94       186\n",
      "\n"
     ]
    },
    {
     "data": {
      "text/plain": [
       "array([[172,   2],\n",
       "       [  8,   4]])"
      ]
     },
     "execution_count": 12,
     "metadata": {},
     "output_type": "execute_result"
    }
   ],
   "source": [
    "distillbert_learner.validate(class_names=distillbert_transformer.get_classes())"
   ]
  },
  {
   "cell_type": "code",
   "execution_count": 13,
   "metadata": {},
   "outputs": [
    {
     "name": "stdout",
     "output_type": "stream",
     "text": [
      "Model: \"tf_bert_for_sequence_classification_1\"\n",
      "_________________________________________________________________\n",
      " Layer (type)                Output Shape              Param #   \n",
      "=================================================================\n",
      " bert (TFBertMainLayer)      multiple                  109482240 \n",
      "                                                                 \n",
      " dropout_75 (Dropout)        multiple                  0         \n",
      "                                                                 \n",
      " classifier (Dense)          multiple                  1538      \n",
      "                                                                 \n",
      "=================================================================\n",
      "Total params: 109483778 (417.65 MB)\n",
      "Trainable params: 109483778 (417.65 MB)\n",
      "Non-trainable params: 0 (0.00 Byte)\n",
      "_________________________________________________________________\n"
     ]
    }
   ],
   "source": [
    "distillbert_learner.model.summary()"
   ]
  },
  {
   "cell_type": "code",
   "execution_count": 14,
   "metadata": {},
   "outputs": [],
   "source": [
    "distillbert_predictor = ktrain.get_predictor(distillbert_learner.model, preproc=distillbert_transformer)"
   ]
  },
  {
   "cell_type": "code",
   "execution_count": 15,
   "metadata": {},
   "outputs": [],
   "source": [
    "distillbert_test_data = test_df['sentence'].tolist()\n",
    "distillbert_test_label = test_df['label'].tolist()"
   ]
  },
  {
   "cell_type": "code",
   "execution_count": 16,
   "metadata": {},
   "outputs": [],
   "source": [
    "y_pred_distillbert = distillbert_predictor.predict(distillbert_test_data)"
   ]
  },
  {
   "cell_type": "code",
   "execution_count": 17,
   "metadata": {},
   "outputs": [],
   "source": [
    "y_pred_distillbert = [int(x) for x in y_pred_distillbert]"
   ]
  },
  {
   "cell_type": "code",
   "execution_count": 18,
   "metadata": {},
   "outputs": [
    {
     "name": "stdout",
     "output_type": "stream",
     "text": [
      "True Negative: 192, False Positive: 2, False Negative: 12, True Positive: 1\n"
     ]
    }
   ],
   "source": [
    "tn, fp, fn, tp = confusion_matrix(distillbert_test_label, y_pred_distillbert).ravel()\n",
    "print('True Negative: {}, False Positive: {}, False Negative: {}, True Positive: {}'.format(tn, fp, fn, tp))"
   ]
  },
  {
   "cell_type": "code",
   "execution_count": 19,
   "metadata": {},
   "outputs": [
    {
     "name": "stdout",
     "output_type": "stream",
     "text": [
      "  Classification Report:\n",
      "               precision    recall  f1-score   support\n",
      "\n",
      "           0       0.94      0.99      0.96       194\n",
      "           1       0.33      0.08      0.12        13\n",
      "\n",
      "    accuracy                           0.93       207\n",
      "   macro avg       0.64      0.53      0.54       207\n",
      "weighted avg       0.90      0.93      0.91       207\n",
      " \n",
      "\n"
     ]
    }
   ],
   "source": [
    "print('  Classification Report:\\n',classification_report(distillbert_test_label,y_pred_distillbert),'\\n')"
   ]
  },
  {
   "cell_type": "code",
   "execution_count": 16,
   "metadata": {},
   "outputs": [],
   "source": [
    "training_df.to_csv(\"social_training.csv\", index=False)\n",
    "test_df.to_csv(\"social_test.csv\", index=False)"
   ]
  },
  {
   "cell_type": "code",
   "execution_count": null,
   "metadata": {},
   "outputs": [],
   "source": []
  },
  {
   "cell_type": "markdown",
   "metadata": {},
   "source": []
  },
  {
   "cell_type": "code",
   "execution_count": 53,
   "metadata": {},
   "outputs": [
    {
     "data": {
      "text/html": [
       "<div>\n",
       "<style scoped>\n",
       "    .dataframe tbody tr th:only-of-type {\n",
       "        vertical-align: middle;\n",
       "    }\n",
       "\n",
       "    .dataframe tbody tr th {\n",
       "        vertical-align: top;\n",
       "    }\n",
       "\n",
       "    .dataframe thead th {\n",
       "        text-align: right;\n",
       "    }\n",
       "</style>\n",
       "<table border=\"1\" class=\"dataframe\">\n",
       "  <thead>\n",
       "    <tr style=\"text-align: right;\">\n",
       "      <th></th>\n",
       "      <th>sentence</th>\n",
       "      <th>label</th>\n",
       "      <th>predicted_label</th>\n",
       "    </tr>\n",
       "  </thead>\n",
       "  <tbody>\n",
       "    <tr>\n",
       "      <th>0</th>\n",
       "      <td>so far this class has been surprisingly fun and i actually learned a lot that helps me with the class.</td>\n",
       "      <td>0</td>\n",
       "      <td>0</td>\n",
       "    </tr>\n",
       "    <tr>\n",
       "      <th>1</th>\n",
       "      <td>unfortunately, i joined the sci class as we were beginning to go over unit three, so i am hoping there will be someone i can ask for assistance with the other units.</td>\n",
       "      <td>0</td>\n",
       "      <td>0</td>\n",
       "    </tr>\n",
       "    <tr>\n",
       "      <th>2</th>\n",
       "      <td>but i don't think that's the case at all.</td>\n",
       "      <td>0</td>\n",
       "      <td>0</td>\n",
       "    </tr>\n",
       "    <tr>\n",
       "      <th>3</th>\n",
       "      <td>i decided to enroll in this 1 unit course as a sort of precautionary measure.</td>\n",
       "      <td>0</td>\n",
       "      <td>0</td>\n",
       "    </tr>\n",
       "    <tr>\n",
       "      <th>4</th>\n",
       "      <td>this makes me empathetic, understanding, and more mature.</td>\n",
       "      <td>0</td>\n",
       "      <td>0</td>\n",
       "    </tr>\n",
       "    <tr>\n",
       "      <th>...</th>\n",
       "      <td>...</td>\n",
       "      <td>...</td>\n",
       "      <td>...</td>\n",
       "    </tr>\n",
       "    <tr>\n",
       "      <th>291</th>\n",
       "      <td>as for why i am here in san francisco, i moved away to isolate myself from any distractions that would cause me to not reach my highest potential.</td>\n",
       "      <td>0</td>\n",
       "      <td>0</td>\n",
       "    </tr>\n",
       "    <tr>\n",
       "      <th>292</th>\n",
       "      <td>part of my major requires me to finish math classes, and i wanted to get help with that because classes can be challenging and hard to understand sometimes, and its helpful to have assistance from classes like this in order to feel more confident about my math skills and learn more.</td>\n",
       "      <td>0</td>\n",
       "      <td>0</td>\n",
       "    </tr>\n",
       "    <tr>\n",
       "      <th>293</th>\n",
       "      <td>so far, i feel like i have better understanding with the moon phases, and ive also learned the difference between the big and little dipper (finally).</td>\n",
       "      <td>0</td>\n",
       "      <td>0</td>\n",
       "    </tr>\n",
       "    <tr>\n",
       "      <th>294</th>\n",
       "      <td>im taking the physics lab because im also enrolled in the physics lecture on mwf. i'm also taking it because in high school i took preap physics and i really enjoyed it but it was kind of difficult for me as well.</td>\n",
       "      <td>0</td>\n",
       "      <td>0</td>\n",
       "    </tr>\n",
       "    <tr>\n",
       "      <th>295</th>\n",
       "      <td>working as a group can help break down difficult problems or text and write good dates and notes.</td>\n",
       "      <td>1</td>\n",
       "      <td>1</td>\n",
       "    </tr>\n",
       "  </tbody>\n",
       "</table>\n",
       "<p>296 rows × 3 columns</p>\n",
       "</div>"
      ],
      "text/plain": [
       "                                                                                                                                                                                                                                                                                        sentence  \\\n",
       "0                                                                                                                                                                                         so far this class has been surprisingly fun and i actually learned a lot that helps me with the class.   \n",
       "1                                                                                                                          unfortunately, i joined the sci class as we were beginning to go over unit three, so i am hoping there will be someone i can ask for assistance with the other units.   \n",
       "2                                                                                                                                                                                                                                                      but i don't think that's the case at all.   \n",
       "3                                                                                                                                                                                                                  i decided to enroll in this 1 unit course as a sort of precautionary measure.   \n",
       "4                                                                                                                                                                                                                                      this makes me empathetic, understanding, and more mature.   \n",
       "..                                                                                                                                                                                                                                                                                           ...   \n",
       "291                                                                                                                                           as for why i am here in san francisco, i moved away to isolate myself from any distractions that would cause me to not reach my highest potential.   \n",
       "292  part of my major requires me to finish math classes, and i wanted to get help with that because classes can be challenging and hard to understand sometimes, and its helpful to have assistance from classes like this in order to feel more confident about my math skills and learn more.   \n",
       "293                                                                                                                                       so far, i feel like i have better understanding with the moon phases, and ive also learned the difference between the big and little dipper (finally).   \n",
       "294                                                                        im taking the physics lab because im also enrolled in the physics lecture on mwf. i'm also taking it because in high school i took preap physics and i really enjoyed it but it was kind of difficult for me as well.   \n",
       "295                                                                                                                                                                                            working as a group can help break down difficult problems or text and write good dates and notes.   \n",
       "\n",
       "     label  predicted_label  \n",
       "0        0                0  \n",
       "1        0                0  \n",
       "2        0                0  \n",
       "3        0                0  \n",
       "4        0                0  \n",
       "..     ...              ...  \n",
       "291      0                0  \n",
       "292      0                0  \n",
       "293      0                0  \n",
       "294      0                0  \n",
       "295      1                1  \n",
       "\n",
       "[296 rows x 3 columns]"
      ]
     },
     "execution_count": 53,
     "metadata": {},
     "output_type": "execute_result"
    }
   ],
   "source": [
    "test_df_copy = test_df.copy()\n",
    "test_df_copy[\"predicted_label\"] = y_pred_distillbert\n",
    "test_df_copy"
   ]
  },
  {
   "cell_type": "code",
   "execution_count": 31,
   "metadata": {},
   "outputs": [
    {
     "data": {
      "text/plain": [
       "'/Users/gbaldonado/Developer/ml-alma-taccti/ml-alma-taccti/notebooks/experiments/exp_4_single/Social'"
      ]
     },
     "execution_count": 31,
     "metadata": {},
     "output_type": "execute_result"
    }
   ],
   "source": [
    "pwd"
   ]
  },
  {
   "cell_type": "code",
   "execution_count": 54,
   "metadata": {},
   "outputs": [],
   "source": [
    "test_df_copy.to_excel(\"Social_capital_error_analysis_2.xlsx\")"
   ]
  },
  {
   "cell_type": "code",
   "execution_count": 24,
   "metadata": {},
   "outputs": [],
   "source": [
    "# distillbert_predictor.save('../../model/first_generation_distilbert_base_uncased_model_10102020') # 256 MB"
   ]
  },
  {
   "cell_type": "code",
   "execution_count": 21,
   "metadata": {},
   "outputs": [
    {
     "name": "stdout",
     "output_type": "stream",
     "text": [
      "AUC roc score for distillbert model:  0.9306334080717489\n"
     ]
    }
   ],
   "source": [
    "print(\"AUC roc score for distillbert model: \", roc_auc_score(distillbert_test_label,y_pred_distillbert))"
   ]
  },
  {
   "cell_type": "code",
   "execution_count": 22,
   "metadata": {},
   "outputs": [
    {
     "name": "stdout",
     "output_type": "stream",
     "text": [
      "AUC PR score for DistilBERT model:  0.7918205047976637\n"
     ]
    }
   ],
   "source": [
    "from sklearn.metrics import auc, precision_recall_curve\n",
    "\n",
    "# Replace these with your actual data\n",
    "# distillbert_test_label: Ground truth labels (list or numpy array)\n",
    "# y_pred_distillbert: Predicted probabilities (list or numpy array)\n",
    "\n",
    "# Calculate precision-recall curve\n",
    "precision, recall, _ = precision_recall_curve(distillbert_test_label, y_pred_distillbert)\n",
    "\n",
    "# Calculate PR AUC\n",
    "pr_auc_score = auc(recall, precision)\n",
    "\n",
    "# Print the result\n",
    "print(\"AUC PR score for DistilBERT model: \", pr_auc_score)"
   ]
  },
  {
   "cell_type": "code",
   "execution_count": null,
   "metadata": {},
   "outputs": [],
   "source": []
  }
 ],
 "metadata": {
  "kernelspec": {
   "display_name": "ml_env",
   "language": "python",
   "name": "python3"
  },
  "language_info": {
   "codemirror_mode": {
    "name": "ipython",
    "version": 3
   },
   "file_extension": ".py",
   "mimetype": "text/x-python",
   "name": "python",
   "nbconvert_exporter": "python",
   "pygments_lexer": "ipython3",
   "version": "3.8.17"
  }
 },
 "nbformat": 4,
 "nbformat_minor": 4
}
