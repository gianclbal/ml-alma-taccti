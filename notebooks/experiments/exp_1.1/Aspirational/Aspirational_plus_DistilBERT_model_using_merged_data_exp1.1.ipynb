{
 "cells": [
  {
   "cell_type": "code",
   "execution_count": 1,
   "metadata": {},
   "outputs": [],
   "source": [
    "from sklearn.feature_extraction.text import CountVectorizer\n",
    "import pandas as pd\n",
    "from sklearn.model_selection import train_test_split\n",
    "from sklearn.utils import shuffle\n",
    "from sklearn.metrics import classification_report\n",
    "from sklearn.metrics import confusion_matrix\n",
    "seed = 18\n",
    "\n",
    "merged_aspirational_df = pd.read_csv(\"../../../../data/processed_for_model/merged_themes_using_jaccard_method/merged_Aspirational_sentence_level_batch_1_jaccard.csv\", encoding='utf-8')\n",
    "\n",
    "# Shuffle the merged dataset\n",
    "merged_aspirational_df = shuffle(merged_aspirational_df, random_state=seed)\n",
    "\n",
    "# Train-test split \n",
    "training_df, test_df = train_test_split(merged_aspirational_df, test_size=0.2, random_state=18, stratify=merged_aspirational_df['label'])\n",
    "\n",
    "training_df.reset_index(drop=True, inplace=True)\n",
    "test_df.reset_index(drop=True, inplace=True)"
   ]
  },
  {
   "cell_type": "code",
   "execution_count": 5,
   "metadata": {},
   "outputs": [
    {
     "name": "stdout",
     "output_type": "stream",
     "text": [
      "Training dataset shape: (3763, 3) \n",
      "Test dataset shape: (941, 3)\n",
      "Positive labels present in the dataset : 470  out of 3763 or 12.490034546904067%\n",
      "Positive labels present in the test dataset : 118  out of 941 or 12.539851222104145%\n"
     ]
    }
   ],
   "source": [
    "print(f\"Training dataset shape: {training_df.shape} \\nTest dataset shape: {test_df.shape}\")\n",
    "pos_labels = len([n for n in training_df['label'] if n==1])\n",
    "print(\"Positive labels present in the dataset : {}  out of {} or {}%\".format(pos_labels, len(training_df['label']), (pos_labels/len(training_df['label']))*100))\n",
    "pos_labels = len([n for n in test_df['label'] if n==1])\n",
    "print(\"Positive labels present in the test dataset : {}  out of {} or {}%\".format(pos_labels, len(test_df['label']), (pos_labels/len(test_df['label']))*100))"
   ]
  },
  {
   "cell_type": "code",
   "execution_count": 6,
   "metadata": {},
   "outputs": [
    {
     "data": {
      "text/html": [
       "<div>\n",
       "<style scoped>\n",
       "    .dataframe tbody tr th:only-of-type {\n",
       "        vertical-align: middle;\n",
       "    }\n",
       "\n",
       "    .dataframe tbody tr th {\n",
       "        vertical-align: top;\n",
       "    }\n",
       "\n",
       "    .dataframe thead th {\n",
       "        text-align: right;\n",
       "    }\n",
       "</style>\n",
       "<table border=\"1\" class=\"dataframe\">\n",
       "  <thead>\n",
       "    <tr style=\"text-align: right;\">\n",
       "      <th></th>\n",
       "      <th>sentence</th>\n",
       "      <th>label</th>\n",
       "      <th>phrase</th>\n",
       "    </tr>\n",
       "  </thead>\n",
       "  <tbody>\n",
       "    <tr>\n",
       "      <th>0</th>\n",
       "      <td>this year has been extremely long and challeng...</td>\n",
       "      <td>0</td>\n",
       "      <td>['So, im here to complete school and walk acro...</td>\n",
       "    </tr>\n",
       "    <tr>\n",
       "      <th>1</th>\n",
       "      <td>i am here at sfsu to gain the knowledge and ex...</td>\n",
       "      <td>1</td>\n",
       "      <td>['I am here at SFSU to gain the knowledge and ...</td>\n",
       "    </tr>\n",
       "    <tr>\n",
       "      <th>2</th>\n",
       "      <td>i am taking this sci 115 course so it can help...</td>\n",
       "      <td>0</td>\n",
       "      <td>['Chem 115 is a requirement for me because I a...</td>\n",
       "    </tr>\n",
       "    <tr>\n",
       "      <th>3</th>\n",
       "      <td>i have never left the country too which i hate...</td>\n",
       "      <td>0</td>\n",
       "      <td>['I am here because the only thing i want fo b...</td>\n",
       "    </tr>\n",
       "    <tr>\n",
       "      <th>4</th>\n",
       "      <td>with that in mind, i am taking this course so ...</td>\n",
       "      <td>0</td>\n",
       "      <td>['planning on declaring a concentration in zoo...</td>\n",
       "    </tr>\n",
       "    <tr>\n",
       "      <th>...</th>\n",
       "      <td>...</td>\n",
       "      <td>...</td>\n",
       "      <td>...</td>\n",
       "    </tr>\n",
       "    <tr>\n",
       "      <th>3758</th>\n",
       "      <td>i want to be able to help my family out with p...</td>\n",
       "      <td>0</td>\n",
       "      <td>['I want to get a job in the film industry. Im...</td>\n",
       "    </tr>\n",
       "    <tr>\n",
       "      <th>3759</th>\n",
       "      <td>i hope to graduate with my degree and run for ...</td>\n",
       "      <td>0</td>\n",
       "      <td>['I am here because I want to be as educated a...</td>\n",
       "    </tr>\n",
       "    <tr>\n",
       "      <th>3760</th>\n",
       "      <td>i am here to learn about physics that are rela...</td>\n",
       "      <td>1</td>\n",
       "      <td>['I am here to learn about physics that are re...</td>\n",
       "    </tr>\n",
       "    <tr>\n",
       "      <th>3761</th>\n",
       "      <td>im here to be a better student and a better ve...</td>\n",
       "      <td>1</td>\n",
       "      <td>[\"I'm here to be a better student and a better...</td>\n",
       "    </tr>\n",
       "    <tr>\n",
       "      <th>3762</th>\n",
       "      <td>i need to complete one year of physics in orde...</td>\n",
       "      <td>0</td>\n",
       "      <td>['I want to get my bachelors in Child and Adol...</td>\n",
       "    </tr>\n",
       "  </tbody>\n",
       "</table>\n",
       "<p>3763 rows × 3 columns</p>\n",
       "</div>"
      ],
      "text/plain": [
       "                                               sentence  label  \\\n",
       "0     this year has been extremely long and challeng...      0   \n",
       "1     i am here at sfsu to gain the knowledge and ex...      1   \n",
       "2     i am taking this sci 115 course so it can help...      0   \n",
       "3     i have never left the country too which i hate...      0   \n",
       "4     with that in mind, i am taking this course so ...      0   \n",
       "...                                                 ...    ...   \n",
       "3758  i want to be able to help my family out with p...      0   \n",
       "3759  i hope to graduate with my degree and run for ...      0   \n",
       "3760  i am here to learn about physics that are rela...      1   \n",
       "3761  im here to be a better student and a better ve...      1   \n",
       "3762  i need to complete one year of physics in orde...      0   \n",
       "\n",
       "                                                 phrase  \n",
       "0     ['So, im here to complete school and walk acro...  \n",
       "1     ['I am here at SFSU to gain the knowledge and ...  \n",
       "2     ['Chem 115 is a requirement for me because I a...  \n",
       "3     ['I am here because the only thing i want fo b...  \n",
       "4     ['planning on declaring a concentration in zoo...  \n",
       "...                                                 ...  \n",
       "3758  ['I want to get a job in the film industry. Im...  \n",
       "3759  ['I am here because I want to be as educated a...  \n",
       "3760  ['I am here to learn about physics that are re...  \n",
       "3761  [\"I'm here to be a better student and a better...  \n",
       "3762  ['I want to get my bachelors in Child and Adol...  \n",
       "\n",
       "[3763 rows x 3 columns]"
      ]
     },
     "execution_count": 6,
     "metadata": {},
     "output_type": "execute_result"
    }
   ],
   "source": [
    "training_df"
   ]
  },
  {
   "cell_type": "code",
   "execution_count": 7,
   "metadata": {},
   "outputs": [],
   "source": [
    "MAXLEN = 128\n"
   ]
  },
  {
   "cell_type": "code",
   "execution_count": 8,
   "metadata": {},
   "outputs": [],
   "source": [
    "X = training_df['sentence']\n",
    "y = training_df['label']"
   ]
  },
  {
   "cell_type": "code",
   "execution_count": 9,
   "metadata": {},
   "outputs": [
    {
     "name": "stdout",
     "output_type": "stream",
     "text": [
      "Metal device set to: Apple M2 Pro\n",
      "\n",
      "systemMemory: 16.00 GB\n",
      "maxCacheSize: 5.33 GB\n",
      "\n",
      "preprocessing train...\n",
      "language: en\n",
      "train sequence lengths:\n",
      "\tmean : 20\n",
      "\t95percentile : 39\n",
      "\t99percentile : 55\n"
     ]
    },
    {
     "data": {
      "text/html": [
       "\n",
       "<style>\n",
       "    /* Turns off some styling */\n",
       "    progress {\n",
       "        /* gets rid of default border in Firefox and Opera. */\n",
       "        border: none;\n",
       "        /* Needs to be in here for Safari polyfill so background images work as expected. */\n",
       "        background-size: auto;\n",
       "    }\n",
       "    progress:not([value]), progress:not([value])::-webkit-progress-bar {\n",
       "        background: repeating-linear-gradient(45deg, #7e7e7e, #7e7e7e 10px, #5c5c5c 10px, #5c5c5c 20px);\n",
       "    }\n",
       "    .progress-bar-interrupted, .progress-bar-interrupted::-webkit-progress-bar {\n",
       "        background: #F44336;\n",
       "    }\n",
       "</style>\n"
      ],
      "text/plain": [
       "<IPython.core.display.HTML object>"
      ]
     },
     "metadata": {},
     "output_type": "display_data"
    },
    {
     "data": {
      "text/html": [],
      "text/plain": [
       "<IPython.core.display.HTML object>"
      ]
     },
     "metadata": {},
     "output_type": "display_data"
    },
    {
     "name": "stdout",
     "output_type": "stream",
     "text": [
      "Is Multi-Label? False\n",
      "preprocessing test...\n",
      "language: en\n",
      "test sequence lengths:\n",
      "\tmean : 21\n",
      "\t95percentile : 39\n",
      "\t99percentile : 54\n"
     ]
    },
    {
     "data": {
      "text/html": [
       "\n",
       "<style>\n",
       "    /* Turns off some styling */\n",
       "    progress {\n",
       "        /* gets rid of default border in Firefox and Opera. */\n",
       "        border: none;\n",
       "        /* Needs to be in here for Safari polyfill so background images work as expected. */\n",
       "        background-size: auto;\n",
       "    }\n",
       "    progress:not([value]), progress:not([value])::-webkit-progress-bar {\n",
       "        background: repeating-linear-gradient(45deg, #7e7e7e, #7e7e7e 10px, #5c5c5c 10px, #5c5c5c 20px);\n",
       "    }\n",
       "    .progress-bar-interrupted, .progress-bar-interrupted::-webkit-progress-bar {\n",
       "        background: #F44336;\n",
       "    }\n",
       "</style>\n"
      ],
      "text/plain": [
       "<IPython.core.display.HTML object>"
      ]
     },
     "metadata": {},
     "output_type": "display_data"
    },
    {
     "data": {
      "text/html": [],
      "text/plain": [
       "<IPython.core.display.HTML object>"
      ]
     },
     "metadata": {},
     "output_type": "display_data"
    }
   ],
   "source": [
    "import ktrain\n",
    "from ktrain import text\n",
    "\n",
    "# Split the data\n",
    "X_train, X_test, y_train, y_test = train_test_split(X, y, test_size = 0.2, random_state = 18, stratify=y)\n",
    "\n",
    "model_name = 'distilbert-base-cased'\n",
    "\n",
    "distillbert_transformer = text.Transformer(model_name, maxlen=MAXLEN, class_names=[0,1])\n",
    "training_set = distillbert_transformer.preprocess_train(X_train.tolist(), y_train.tolist())\n",
    "validation_set = distillbert_transformer.preprocess_test(X_test.tolist(), y_test.tolist())\n",
    "distillbert_base_model = distillbert_transformer.get_classifier()\n"
   ]
  },
  {
   "cell_type": "code",
   "execution_count": 10,
   "metadata": {},
   "outputs": [
    {
     "name": "stdout",
     "output_type": "stream",
     "text": [
      "[0.5713635  4.00319149]\n"
     ]
    }
   ],
   "source": [
    "from sklearn.utils.class_weight import compute_class_weight\n",
    "import numpy as np\n",
    "\n",
    "# Define classes and class labels\n",
    "classes = np.array([0, 1])\n",
    "class_labels = list(training_df.label)\n",
    "\n",
    "# Compute class weights\n",
    "class_weights = compute_class_weight(class_weight='balanced', classes=classes, y=class_labels)\n",
    "\n",
    "# Print class weights\n",
    "print(class_weights)\n",
    "\n",
    "class_weights = {0:0.5713635,1:4.00319149}"
   ]
  },
  {
   "cell_type": "code",
   "execution_count": 11,
   "metadata": {},
   "outputs": [],
   "source": [
    "import tensorflow as tf\n",
    "import numpy as np\n",
    "import os\n",
    "import random\n",
    "def reset_random_seeds(seed=2):\n",
    "    os.environ['PYTHONHASHSEED']=str(seed)\n",
    "    tf.random.set_seed(seed)\n",
    "    np.random.seed(seed)\n",
    "    random.seed(seed)"
   ]
  },
  {
   "cell_type": "code",
   "execution_count": 30,
   "metadata": {},
   "outputs": [],
   "source": [
    "# import tensorflow as tf\n",
    "# from sklearn.metrics import precision_recall_curve, average_precision_score\n",
    "# import numpy as np\n",
    "\n",
    "# # Custom PR AUC function using scikit-learn\n",
    "# def pr_auc_sklearn(y_true, y_pred):\n",
    "#     if len(y_true.shape) > 1 and y_true.shape[1] > 1:  # Convert one-hot labels to single class\n",
    "#         y_true = np.argmax(y_true, axis=1)\n",
    "#     return average_precision_score(y_true, y_pred, average='macro')  # For multilabel\n",
    "\n",
    "# # Wrap sklearn PR AUC in tf.py_function\n",
    "# def pr_auc(y_true, y_pred):\n",
    "#     return tf.py_function(pr_auc_sklearn, [y_true, y_pred], tf.float32)\n",
    "\n",
    "# # Custom Keras metric for PR AUC\n",
    "# class PRAUC(tf.keras.metrics.Metric):\n",
    "#     def __init__(self, name='pr_auc', **kwargs):\n",
    "#         super().__init__(name=name, **kwargs)\n",
    "#         self.pr_auc_val = self.add_weight(name='pr_auc_val', initializer='zeros')\n",
    "\n",
    "#     def update_state(self, y_true, y_pred, sample_weight=None):\n",
    "#         y_pred = tf.argmax(y_pred, axis=-1) if y_pred.shape[-1] > 1 else tf.round(y_pred)\n",
    "#         self.pr_auc_val.assign(pr_auc(y_true, y_pred))\n",
    "\n",
    "#     def result(self):\n",
    "#         return self.pr_auc_val\n",
    "\n",
    "#     def reset_states(self):\n",
    "#         self.pr_auc_val.assign(0.0)\n"
   ]
  },
  {
   "cell_type": "code",
   "execution_count": 41,
   "metadata": {},
   "outputs": [
    {
     "name": "stdout",
     "output_type": "stream",
     "text": [
      "[0.5713635  4.00319149]\n"
     ]
    }
   ],
   "source": [
    "from sklearn.utils.class_weight import compute_class_weight\n",
    "import numpy as np\n",
    "\n",
    "# Define classes and class labels\n",
    "classes = np.array([0, 1])\n",
    "class_labels = list(training_df.label)\n",
    "\n",
    "# Compute class weights\n",
    "class_weights = compute_class_weight(class_weight='balanced', classes=classes, y=class_labels)\n",
    "\n",
    "# Print class weights\n",
    "print(class_weights)\n",
    "\n",
    "class_weights = dict(zip(classes, class_weights))\n"
   ]
  },
  {
   "cell_type": "code",
   "execution_count": 53,
   "metadata": {},
   "outputs": [
    {
     "name": "stdout",
     "output_type": "stream",
     "text": [
      "reduce_on_plateau automatically enabled at patience=2\n",
      "\n",
      "\n",
      "begin training using triangular learning rate policy with max lr of 2e-05...\n",
      "Epoch 1/1024\n",
      "502/502 [==============================] - 139s 253ms/step - loss: 0.4198 - val_loss: 0.4935\n",
      "Epoch 2/1024\n",
      "502/502 [==============================] - 107s 213ms/step - loss: 0.4772 - val_loss: 0.5041\n",
      "Epoch 3/1024\n",
      "502/502 [==============================] - ETA: 0s - loss: 0.3373\n",
      "Epoch 00003: Reducing Max LR on Plateau: new max lr will be 1e-05 (if not early_stopping).\n",
      "502/502 [==============================] - 109s 216ms/step - loss: 0.3373 - val_loss: 0.7522\n",
      "Epoch 4/1024\n",
      "502/502 [==============================] - 120s 239ms/step - loss: 0.2536 - val_loss: 0.8202\n",
      "Epoch 5/1024\n",
      "502/502 [==============================] - ETA: 0s - loss: 0.2746\n",
      "Epoch 00005: Reducing Max LR on Plateau: new max lr will be 5e-06 (if not early_stopping).\n",
      "Restoring model weights from the end of the best epoch: 1.\n",
      "502/502 [==============================] - 133s 265ms/step - loss: 0.2746 - val_loss: 0.7485\n",
      "Epoch 5: early stopping\n",
      "Weights from best epoch have been loaded into model.\n"
     ]
    },
    {
     "data": {
      "text/plain": [
       "<keras.src.callbacks.History at 0x5bbe12d60>"
      ]
     },
     "execution_count": 53,
     "metadata": {},
     "output_type": "execute_result"
    }
   ],
   "source": [
    "# Build BERT model\n",
    "# model = text.text_classifier('distilbert', train_data=(X_train, y_train), preproc=distillbert_transformer)\n",
    "learner = ktrain.get_learner(distillbert_base_model, train_data=training_set, val_data=validation_set, batch_size=6)\n",
    "\n",
    "# # Pass the custom metric (PRAUC) to the learner\n",
    "# learner.model.compile(\n",
    "#     optimizer='adam',\n",
    "#     loss='binary_crossentropy',\n",
    "#     # metrics=[PRAUC()]\n",
    "# )\n",
    "\n",
    "# Train the model\n",
    "learner.autofit(2e-5, early_stopping=4, class_weight=class_weights)"
   ]
  },
  {
   "cell_type": "code",
   "execution_count": 48,
   "metadata": {},
   "outputs": [
    {
     "name": "stdout",
     "output_type": "stream",
     "text": [
      "24/24 [==============================] - 11s 287ms/step\n",
      "              precision    recall  f1-score   support\n",
      "\n",
      "           0       0.88      1.00      0.93       659\n",
      "           1       0.25      0.93      0.40        94\n",
      "\n",
      "   micro avg       0.68      0.99      0.81       753\n",
      "   macro avg       0.56      0.96      0.67       753\n",
      "weighted avg       0.80      0.99      0.87       753\n",
      " samples avg       0.76      0.99      0.84       753\n",
      "\n"
     ]
    },
    {
     "name": "stderr",
     "output_type": "stream",
     "text": [
      "/Users/gbaldonado/miniforge3/envs/ml_env/lib/python3.8/site-packages/ktrain/core.py:226: UserWarning: Confusion matrices do not currently support multilabel classification, so returning None\n",
      "  warnings.warn(\n"
     ]
    }
   ],
   "source": [
    "learner.validate(class_names=distillbert_transformer.get_classes())"
   ]
  },
  {
   "cell_type": "code",
   "execution_count": 49,
   "metadata": {},
   "outputs": [
    {
     "name": "stdout",
     "output_type": "stream",
     "text": [
      "True Negative: 823, False Positive: 0, False Negative: 118, True Positive: 0\n",
      "  Classification Report:\n",
      "               precision    recall  f1-score   support\n",
      "\n",
      "           0       0.87      1.00      0.93       823\n",
      "           1       0.00      0.00      0.00       118\n",
      "\n",
      "    accuracy                           0.87       941\n",
      "   macro avg       0.44      0.50      0.47       941\n",
      "weighted avg       0.76      0.87      0.82       941\n",
      " \n",
      "\n"
     ]
    },
    {
     "name": "stderr",
     "output_type": "stream",
     "text": [
      "/Users/gbaldonado/miniforge3/envs/ml_env/lib/python3.8/site-packages/sklearn/metrics/_classification.py:1471: UndefinedMetricWarning: Precision and F-score are ill-defined and being set to 0.0 in labels with no predicted samples. Use `zero_division` parameter to control this behavior.\n",
      "  _warn_prf(average, modifier, msg_start, len(result))\n",
      "/Users/gbaldonado/miniforge3/envs/ml_env/lib/python3.8/site-packages/sklearn/metrics/_classification.py:1471: UndefinedMetricWarning: Precision and F-score are ill-defined and being set to 0.0 in labels with no predicted samples. Use `zero_division` parameter to control this behavior.\n",
      "  _warn_prf(average, modifier, msg_start, len(result))\n",
      "/Users/gbaldonado/miniforge3/envs/ml_env/lib/python3.8/site-packages/sklearn/metrics/_classification.py:1471: UndefinedMetricWarning: Precision and F-score are ill-defined and being set to 0.0 in labels with no predicted samples. Use `zero_division` parameter to control this behavior.\n",
      "  _warn_prf(average, modifier, msg_start, len(result))\n"
     ]
    }
   ],
   "source": [
    "distillbert_predictor = ktrain.get_predictor(learner.model, preproc=distillbert_transformer)\n",
    "\n",
    "distillbert_test_data = test_df['sentence'].tolist()\n",
    "distillbert_test_label = test_df['label'].tolist()\n",
    "\n",
    "y_pred_distillbert = distillbert_predictor.predict(distillbert_test_data)\n",
    "\n",
    "y_pred_distillbert = [np.argmax(pair[1]) for pair in y_pred_distillbert]\n",
    "\n",
    "\n",
    "tn, fp, fn, tp = confusion_matrix(distillbert_test_label, y_pred_distillbert).ravel()\n",
    "print('True Negative: {}, False Positive: {}, False Negative: {}, True Positive: {}'.format(tn, fp, fn, tp))\n",
    "\n",
    "print('  Classification Report:\\n',classification_report(distillbert_test_label,y_pred_distillbert),'\\n')"
   ]
  },
  {
   "cell_type": "markdown",
   "metadata": {},
   "source": [
    "True Negative: 681, False Positive: 142, False Negative: 40, True Positive: 78\n",
    "  Classification Report:\n",
    "               precision    recall  f1-score   support\n",
    "\n",
    "           0       0.94      0.83      0.88       823\n",
    "           1       0.35      0.66      0.46       118\n",
    "\n",
    "    accuracy                           0.81       941\n",
    "   macro avg       0.65      0.74      0.67       941\n",
    "weighted avg       0.87      0.81      0.83       941"
   ]
  },
  {
   "cell_type": "code",
   "execution_count": 32,
   "metadata": {},
   "outputs": [],
   "source": [
    "distillbert_predictor.save('../../../../saved_models/aspirational_bert_base_cased_model_08012024_v1') # 0.67 "
   ]
  },
  {
   "cell_type": "code",
   "execution_count": 5,
   "metadata": {},
   "outputs": [
    {
     "name": "stdout",
     "output_type": "stream",
     "text": [
      "51/51 [==============================] - 29s 427ms/step\n",
      "              precision    recall  f1-score   support\n",
      "\n",
      "    negative       0.98      0.95      0.97      1440\n",
      "    positive       0.71      0.88      0.78       185\n",
      "\n",
      "    accuracy                           0.94      1625\n",
      "   macro avg       0.85      0.91      0.88      1625\n",
      "weighted avg       0.95      0.94      0.95      1625\n",
      "\n"
     ]
    },
    {
     "data": {
      "text/plain": [
       "array([[1373,   67],\n",
       "       [  23,  162]])"
      ]
     },
     "execution_count": 5,
     "metadata": {},
     "output_type": "execute_result"
    }
   ],
   "source": [
    "learner.validate(class_names=distillbert_transformer.get_classes())"
   ]
  }
 ],
 "metadata": {
  "kernelspec": {
   "display_name": "ml_env",
   "language": "python",
   "name": "python3"
  },
  "language_info": {
   "codemirror_mode": {
    "name": "ipython",
    "version": 3
   },
   "file_extension": ".py",
   "mimetype": "text/x-python",
   "name": "python",
   "nbconvert_exporter": "python",
   "pygments_lexer": "ipython3",
   "version": "3.8.17"
  }
 },
 "nbformat": 4,
 "nbformat_minor": 2
}
