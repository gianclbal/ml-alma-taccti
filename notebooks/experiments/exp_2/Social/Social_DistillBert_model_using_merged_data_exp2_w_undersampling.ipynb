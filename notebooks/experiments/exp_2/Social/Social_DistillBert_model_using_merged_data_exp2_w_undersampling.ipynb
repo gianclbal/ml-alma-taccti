{
 "cells": [
  {
   "cell_type": "markdown",
   "metadata": {},
   "source": [
    "# Social DistilBERT Model Using Merged Data Batch 1 + Batch 2 Experiment 2 with undersampling"
   ]
  },
  {
   "cell_type": "code",
   "execution_count": 1,
   "metadata": {},
   "outputs": [],
   "source": [
    "import ktrain\n",
    "import pandas as pd\n",
    "import numpy as np\n",
    "from sklearn.model_selection import train_test_split\n",
    "from sklearn.metrics import confusion_matrix\n",
    "from sklearn.metrics import classification_report\n",
    "from sklearn.metrics import roc_auc_score\n",
    "from ktrain import text\n",
    "import random\n",
    "from sklearn.model_selection import StratifiedKFold\n",
    "import warnings\n",
    "from sklearn.utils import shuffle\n",
    "from imblearn.under_sampling import RandomUnderSampler\n",
    "from imblearn.over_sampling import RandomOverSampler\n",
    "from collections import Counter\n",
    "\n",
    "# Set random seed\n",
    "random.seed(18)\n",
    "seed = 18\n",
    "\n",
    "# Ignore warnings\n",
    "warnings.filterwarnings('ignore')\n",
    "\n",
    "# Display options\n",
    "pd.set_option('display.max_colwidth', None)"
   ]
  },
  {
   "cell_type": "markdown",
   "metadata": {},
   "source": [
    "## 1. Loading the data and quick exploratory data analysis"
   ]
  },
  {
   "cell_type": "code",
   "execution_count": 2,
   "metadata": {},
   "outputs": [],
   "source": [
    "merged_social_df_batch_1 = pd.read_csv(\"/Users/gbaldonado/Developer/ml-alma-taccti/ml-alma-taccti/data/processed_for_model/merged_themes_using_jaccard_method/merged_Social_sentence_level_batch_1_jaccard.csv\", encoding='utf-8')\n",
    "merged_social_df_batch_2 = pd.read_csv(\"/Users/gbaldonado/Developer/ml-alma-taccti/ml-alma-taccti/data/processed_for_model/merged_themes_using_jaccard_method/Social Plus_sentence_level_batch_2_jaccard.csv\", encoding='utf-8')\n",
    "\n",
    "merged_social_df = pd.concat([merged_social_df_batch_1, merged_social_df_batch_2])\n",
    "\n",
    "# Shuffle the merged dataset\n",
    "merged_familial_df = shuffle(merged_social_df, random_state=seed)\n",
    "\n",
    "# Train-test split \n",
    "training_df, test_df = train_test_split(merged_familial_df, test_size=0.3, random_state=42, stratify=merged_social_df['label'])\n",
    "\n",
    "training_df.reset_index(drop=True, inplace=True)\n",
    "test_df.reset_index(drop=True, inplace=True)"
   ]
  },
  {
   "cell_type": "code",
   "execution_count": 3,
   "metadata": {},
   "outputs": [
    {
     "name": "stdout",
     "output_type": "stream",
     "text": [
      "Training dataset shape: (2344, 3) \n",
      "Test dataset shape: (1005, 3)\n",
      "Positive labels present in the dataset : 208  out of 2344 or 8.873720136518772%\n",
      "Positive labels present in the test dataset : 105  out of 1005 or 10.44776119402985%\n"
     ]
    }
   ],
   "source": [
    "print(f\"Training dataset shape: {training_df.shape} \\nTest dataset shape: {test_df.shape}\")\n",
    "pos_labels = len([n for n in training_df['label'] if n==1])\n",
    "print(\"Positive labels present in the dataset : {}  out of {} or {}%\".format(pos_labels, len(training_df['label']), (pos_labels/len(training_df['label']))*100))\n",
    "pos_labels = len([n for n in test_df['label'] if n==1])\n",
    "print(\"Positive labels present in the test dataset : {}  out of {} or {}%\".format(pos_labels, len(test_df['label']), (pos_labels/len(test_df['label']))*100))"
   ]
  },
  {
   "cell_type": "code",
   "execution_count": 4,
   "metadata": {},
   "outputs": [
    {
     "name": "stdout",
     "output_type": "stream",
     "text": [
      "(2344, 3)\n",
      "(1005, 3)\n"
     ]
    }
   ],
   "source": [
    "print(training_df.shape)\n",
    "print(test_df.shape)"
   ]
  },
  {
   "cell_type": "markdown",
   "metadata": {},
   "source": [
    "## 2. Experimental Design"
   ]
  },
  {
   "cell_type": "code",
   "execution_count": 5,
   "metadata": {},
   "outputs": [
    {
     "name": "stdout",
     "output_type": "stream",
     "text": [
      "Original class distribution: Counter({0: 2136, 1: 208})\n"
     ]
    }
   ],
   "source": [
    "X, y = training_df['sentence'], training_df['label']\n",
    "\n",
    "\n",
    "# Check the distribution before undersampling\n",
    "print(f\"Original class distribution: {Counter(y)}\")\n",
    "\n",
    "strategy_1 = {0: int(0.92 * len(y)), 1: int(0.08 * len(y))}\n",
    "\n",
    "# Step 1: Perform random undersampling on raw text data and labels\n",
    "# undersampler = RandomUnderSampler(sampling_strategy='auto', random_state=42)\n",
    "# Step 1: Perform random oversampling to achieve 70% class 0 and 30% class 1\n",
    "oversampler = RandomOverSampler(sampling_strategy='auto', random_state=42)\n",
    "X_resampled, y_resampled = oversampler.fit_resample(np.array(X).reshape(-1, 1), y)\n",
    "X_resampled = X_resampled.flatten()  # Flatten back to 1D array"
   ]
  },
  {
   "cell_type": "code",
   "execution_count": 6,
   "metadata": {},
   "outputs": [],
   "source": [
    "# Step 2: Split into training and validation sets\n",
    "\n",
    "X_train, X_test, y_train, y_test = train_test_split(X_resampled, y_resampled, test_size=0.2, random_state=42, stratify=y_resampled)\n",
    "\n"
   ]
  },
  {
   "cell_type": "code",
   "execution_count": 7,
   "metadata": {},
   "outputs": [
    {
     "data": {
      "text/plain": [
       "855"
      ]
     },
     "execution_count": 7,
     "metadata": {},
     "output_type": "execute_result"
    }
   ],
   "source": [
    "len(X_train)\n",
    "len(y_test)"
   ]
  },
  {
   "cell_type": "code",
   "execution_count": 8,
   "metadata": {},
   "outputs": [],
   "source": [
    "MAXLEN = 128"
   ]
  },
  {
   "cell_type": "code",
   "execution_count": 9,
   "metadata": {},
   "outputs": [],
   "source": [
    "# X = training_df['sentence']\n",
    "# y = training_df['label']"
   ]
  },
  {
   "cell_type": "code",
   "execution_count": 10,
   "metadata": {},
   "outputs": [],
   "source": [
    "# # Split the data\n",
    "# X_train, X_test, y_train, y_test = train_test_split(X, y, test_size = 0.1, random_state = 18, stratify=y)\n",
    "# X_test.shape"
   ]
  },
  {
   "cell_type": "code",
   "execution_count": 11,
   "metadata": {},
   "outputs": [],
   "source": [
    "model_name = 'distilbert-base-uncased'"
   ]
  },
  {
   "cell_type": "code",
   "execution_count": 17,
   "metadata": {},
   "outputs": [],
   "source": [
    "best_val_loss = np.inf  # Initialize with a very large value for minimum loss\n",
    "best_val_acc = 0  # Initialize with a very low accuracy\n",
    "best_model = None  # Placeholder to store the best model"
   ]
  },
  {
   "cell_type": "markdown",
   "metadata": {},
   "source": [
    "## cv"
   ]
  },
  {
   "cell_type": "code",
   "execution_count": 18,
   "metadata": {},
   "outputs": [
    {
     "name": "stdout",
     "output_type": "stream",
     "text": [
      "[0.53181189 8.35869565]\n"
     ]
    },
    {
     "data": {
      "text/plain": [
       "{0: 0.5318118948824343, 1: 8.358695652173912}"
      ]
     },
     "execution_count": 18,
     "metadata": {},
     "output_type": "execute_result"
    }
   ],
   "source": [
    "from sklearn.utils.class_weight import compute_class_weight\n",
    "import numpy as np\n",
    "import gc\n",
    "\n",
    "# Define classes and class labels\n",
    "classes = np.array([0, 1])\n",
    "class_labels = list(training_df.label)\n",
    "\n",
    "# Compute class weights\n",
    "class_weights = compute_class_weight(class_weight='balanced', classes=classes, y=class_labels)\n",
    "\n",
    "# Print class weights\n",
    "print(class_weights)\n",
    "\n",
    "dict(zip(classes, class_weights))\n"
   ]
  },
  {
   "cell_type": "code",
   "execution_count": 12,
   "metadata": {},
   "outputs": [
    {
     "name": "stdout",
     "output_type": "stream",
     "text": [
      "Fold 1/5\n",
      "Metal device set to: Apple M2 Pro\n",
      "\n",
      "systemMemory: 16.00 GB\n",
      "maxCacheSize: 5.33 GB\n",
      "\n",
      "preprocessing train...\n",
      "language: en\n",
      "train sequence lengths:\n",
      "\tmean : 21\n",
      "\t95percentile : 40\n",
      "\t99percentile : 54\n"
     ]
    },
    {
     "data": {
      "text/html": [
       "\n",
       "<style>\n",
       "    /* Turns off some styling */\n",
       "    progress {\n",
       "        /* gets rid of default border in Firefox and Opera. */\n",
       "        border: none;\n",
       "        /* Needs to be in here for Safari polyfill so background images work as expected. */\n",
       "        background-size: auto;\n",
       "    }\n",
       "    progress:not([value]), progress:not([value])::-webkit-progress-bar {\n",
       "        background: repeating-linear-gradient(45deg, #7e7e7e, #7e7e7e 10px, #5c5c5c 10px, #5c5c5c 20px);\n",
       "    }\n",
       "    .progress-bar-interrupted, .progress-bar-interrupted::-webkit-progress-bar {\n",
       "        background: #F44336;\n",
       "    }\n",
       "</style>\n"
      ],
      "text/plain": [
       "<IPython.core.display.HTML object>"
      ]
     },
     "metadata": {},
     "output_type": "display_data"
    },
    {
     "data": {
      "text/html": [],
      "text/plain": [
       "<IPython.core.display.HTML object>"
      ]
     },
     "metadata": {},
     "output_type": "display_data"
    },
    {
     "name": "stdout",
     "output_type": "stream",
     "text": [
      "Is Multi-Label? False\n",
      "preprocessing test...\n",
      "language: en\n",
      "test sequence lengths:\n",
      "\tmean : 21\n",
      "\t95percentile : 40\n",
      "\t99percentile : 55\n"
     ]
    },
    {
     "data": {
      "text/html": [
       "\n",
       "<style>\n",
       "    /* Turns off some styling */\n",
       "    progress {\n",
       "        /* gets rid of default border in Firefox and Opera. */\n",
       "        border: none;\n",
       "        /* Needs to be in here for Safari polyfill so background images work as expected. */\n",
       "        background-size: auto;\n",
       "    }\n",
       "    progress:not([value]), progress:not([value])::-webkit-progress-bar {\n",
       "        background: repeating-linear-gradient(45deg, #7e7e7e, #7e7e7e 10px, #5c5c5c 10px, #5c5c5c 20px);\n",
       "    }\n",
       "    .progress-bar-interrupted, .progress-bar-interrupted::-webkit-progress-bar {\n",
       "        background: #F44336;\n",
       "    }\n",
       "</style>\n"
      ],
      "text/plain": [
       "<IPython.core.display.HTML object>"
      ]
     },
     "metadata": {},
     "output_type": "display_data"
    },
    {
     "data": {
      "text/html": [],
      "text/plain": [
       "<IPython.core.display.HTML object>"
      ]
     },
     "metadata": {},
     "output_type": "display_data"
    },
    {
     "name": "stdout",
     "output_type": "stream",
     "text": [
      "\n",
      "\n",
      "begin training using triangular learning rate policy with max lr of 2e-05...\n",
      "Epoch 1/2\n",
      "984/984 [==============================] - 173s 168ms/step - loss: 0.5298 - accuracy: 0.7917 - val_loss: 0.5220 - val_accuracy: 0.7718\n",
      "Epoch 2/2\n",
      "984/984 [==============================] - 163s 165ms/step - loss: 0.3844 - accuracy: 0.8366 - val_loss: 0.3655 - val_accuracy: 0.8585\n",
      "47/47 [==============================] - 11s 193ms/step\n",
      "              precision    recall  f1-score   support\n",
      "\n",
      "           0       0.98      0.86      0.92      1391\n",
      "           1       0.26      0.77      0.39        86\n",
      "\n",
      "    accuracy                           0.86      1477\n",
      "   macro avg       0.62      0.82      0.65      1477\n",
      "weighted avg       0.94      0.86      0.89      1477\n",
      "\n",
      "Fold 1 - Validation Accuracy: 0.8585, Validation Loss: 0.3655\n",
      "Fold 2/5\n",
      "preprocessing train...\n",
      "language: en\n",
      "train sequence lengths:\n",
      "\tmean : 21\n",
      "\t95percentile : 40\n",
      "\t99percentile : 55\n"
     ]
    },
    {
     "data": {
      "text/html": [
       "\n",
       "<style>\n",
       "    /* Turns off some styling */\n",
       "    progress {\n",
       "        /* gets rid of default border in Firefox and Opera. */\n",
       "        border: none;\n",
       "        /* Needs to be in here for Safari polyfill so background images work as expected. */\n",
       "        background-size: auto;\n",
       "    }\n",
       "    progress:not([value]), progress:not([value])::-webkit-progress-bar {\n",
       "        background: repeating-linear-gradient(45deg, #7e7e7e, #7e7e7e 10px, #5c5c5c 10px, #5c5c5c 20px);\n",
       "    }\n",
       "    .progress-bar-interrupted, .progress-bar-interrupted::-webkit-progress-bar {\n",
       "        background: #F44336;\n",
       "    }\n",
       "</style>\n"
      ],
      "text/plain": [
       "<IPython.core.display.HTML object>"
      ]
     },
     "metadata": {},
     "output_type": "display_data"
    },
    {
     "data": {
      "text/html": [],
      "text/plain": [
       "<IPython.core.display.HTML object>"
      ]
     },
     "metadata": {},
     "output_type": "display_data"
    },
    {
     "name": "stdout",
     "output_type": "stream",
     "text": [
      "Is Multi-Label? False\n",
      "preprocessing test...\n",
      "language: en\n",
      "test sequence lengths:\n",
      "\tmean : 21\n",
      "\t95percentile : 40\n",
      "\t99percentile : 53\n"
     ]
    },
    {
     "data": {
      "text/html": [
       "\n",
       "<style>\n",
       "    /* Turns off some styling */\n",
       "    progress {\n",
       "        /* gets rid of default border in Firefox and Opera. */\n",
       "        border: none;\n",
       "        /* Needs to be in here for Safari polyfill so background images work as expected. */\n",
       "        background-size: auto;\n",
       "    }\n",
       "    progress:not([value]), progress:not([value])::-webkit-progress-bar {\n",
       "        background: repeating-linear-gradient(45deg, #7e7e7e, #7e7e7e 10px, #5c5c5c 10px, #5c5c5c 20px);\n",
       "    }\n",
       "    .progress-bar-interrupted, .progress-bar-interrupted::-webkit-progress-bar {\n",
       "        background: #F44336;\n",
       "    }\n",
       "</style>\n"
      ],
      "text/plain": [
       "<IPython.core.display.HTML object>"
      ]
     },
     "metadata": {},
     "output_type": "display_data"
    },
    {
     "data": {
      "text/html": [],
      "text/plain": [
       "<IPython.core.display.HTML object>"
      ]
     },
     "metadata": {},
     "output_type": "display_data"
    },
    {
     "name": "stdout",
     "output_type": "stream",
     "text": [
      "\n",
      "\n",
      "begin training using triangular learning rate policy with max lr of 2e-05...\n",
      "Epoch 1/2\n",
      "985/985 [==============================] - 183s 179ms/step - loss: 0.5292 - accuracy: 0.7763 - val_loss: 0.5198 - val_accuracy: 0.7791\n",
      "Epoch 2/2\n",
      "985/985 [==============================] - 165s 167ms/step - loss: 0.3967 - accuracy: 0.8261 - val_loss: 0.3934 - val_accuracy: 0.8455\n",
      "47/47 [==============================] - 11s 199ms/step\n",
      "              precision    recall  f1-score   support\n",
      "\n",
      "           0       0.98      0.85      0.91      1390\n",
      "           1       0.24      0.78      0.37        86\n",
      "\n",
      "    accuracy                           0.85      1476\n",
      "   macro avg       0.61      0.81      0.64      1476\n",
      "weighted avg       0.94      0.85      0.88      1476\n",
      "\n",
      "Fold 2 - Validation Accuracy: 0.8455, Validation Loss: 0.3934\n",
      "Fold 3/5\n",
      "preprocessing train...\n",
      "language: en\n",
      "train sequence lengths:\n",
      "\tmean : 21\n",
      "\t95percentile : 40\n",
      "\t99percentile : 56\n"
     ]
    },
    {
     "data": {
      "text/html": [
       "\n",
       "<style>\n",
       "    /* Turns off some styling */\n",
       "    progress {\n",
       "        /* gets rid of default border in Firefox and Opera. */\n",
       "        border: none;\n",
       "        /* Needs to be in here for Safari polyfill so background images work as expected. */\n",
       "        background-size: auto;\n",
       "    }\n",
       "    progress:not([value]), progress:not([value])::-webkit-progress-bar {\n",
       "        background: repeating-linear-gradient(45deg, #7e7e7e, #7e7e7e 10px, #5c5c5c 10px, #5c5c5c 20px);\n",
       "    }\n",
       "    .progress-bar-interrupted, .progress-bar-interrupted::-webkit-progress-bar {\n",
       "        background: #F44336;\n",
       "    }\n",
       "</style>\n"
      ],
      "text/plain": [
       "<IPython.core.display.HTML object>"
      ]
     },
     "metadata": {},
     "output_type": "display_data"
    },
    {
     "data": {
      "text/html": [],
      "text/plain": [
       "<IPython.core.display.HTML object>"
      ]
     },
     "metadata": {},
     "output_type": "display_data"
    },
    {
     "name": "stdout",
     "output_type": "stream",
     "text": [
      "Is Multi-Label? False\n",
      "preprocessing test...\n",
      "language: en\n",
      "test sequence lengths:\n",
      "\tmean : 21\n",
      "\t95percentile : 41\n",
      "\t99percentile : 51\n"
     ]
    },
    {
     "data": {
      "text/html": [
       "\n",
       "<style>\n",
       "    /* Turns off some styling */\n",
       "    progress {\n",
       "        /* gets rid of default border in Firefox and Opera. */\n",
       "        border: none;\n",
       "        /* Needs to be in here for Safari polyfill so background images work as expected. */\n",
       "        background-size: auto;\n",
       "    }\n",
       "    progress:not([value]), progress:not([value])::-webkit-progress-bar {\n",
       "        background: repeating-linear-gradient(45deg, #7e7e7e, #7e7e7e 10px, #5c5c5c 10px, #5c5c5c 20px);\n",
       "    }\n",
       "    .progress-bar-interrupted, .progress-bar-interrupted::-webkit-progress-bar {\n",
       "        background: #F44336;\n",
       "    }\n",
       "</style>\n"
      ],
      "text/plain": [
       "<IPython.core.display.HTML object>"
      ]
     },
     "metadata": {},
     "output_type": "display_data"
    },
    {
     "data": {
      "text/html": [],
      "text/plain": [
       "<IPython.core.display.HTML object>"
      ]
     },
     "metadata": {},
     "output_type": "display_data"
    },
    {
     "name": "stdout",
     "output_type": "stream",
     "text": [
      "\n",
      "\n",
      "begin training using triangular learning rate policy with max lr of 2e-05...\n",
      "Epoch 1/2\n",
      "985/985 [==============================] - 178s 173ms/step - loss: 0.5359 - accuracy: 0.7551 - val_loss: 0.4286 - val_accuracy: 0.8584\n",
      "Epoch 2/2\n",
      "985/985 [==============================] - 165s 167ms/step - loss: 0.3723 - accuracy: 0.8494 - val_loss: 0.3976 - val_accuracy: 0.8367\n",
      "47/47 [==============================] - 10s 166ms/step\n",
      "              precision    recall  f1-score   support\n",
      "\n",
      "           0       0.99      0.84      0.91      1390\n",
      "           1       0.24      0.81      0.37        86\n",
      "\n",
      "    accuracy                           0.84      1476\n",
      "   macro avg       0.61      0.83      0.64      1476\n",
      "weighted avg       0.94      0.84      0.87      1476\n",
      "\n",
      "Fold 3 - Validation Accuracy: 0.8367, Validation Loss: 0.3976\n",
      "Fold 4/5\n",
      "preprocessing train...\n",
      "language: en\n",
      "train sequence lengths:\n",
      "\tmean : 21\n",
      "\t95percentile : 40\n",
      "\t99percentile : 53\n"
     ]
    },
    {
     "data": {
      "text/html": [
       "\n",
       "<style>\n",
       "    /* Turns off some styling */\n",
       "    progress {\n",
       "        /* gets rid of default border in Firefox and Opera. */\n",
       "        border: none;\n",
       "        /* Needs to be in here for Safari polyfill so background images work as expected. */\n",
       "        background-size: auto;\n",
       "    }\n",
       "    progress:not([value]), progress:not([value])::-webkit-progress-bar {\n",
       "        background: repeating-linear-gradient(45deg, #7e7e7e, #7e7e7e 10px, #5c5c5c 10px, #5c5c5c 20px);\n",
       "    }\n",
       "    .progress-bar-interrupted, .progress-bar-interrupted::-webkit-progress-bar {\n",
       "        background: #F44336;\n",
       "    }\n",
       "</style>\n"
      ],
      "text/plain": [
       "<IPython.core.display.HTML object>"
      ]
     },
     "metadata": {},
     "output_type": "display_data"
    },
    {
     "data": {
      "text/html": [],
      "text/plain": [
       "<IPython.core.display.HTML object>"
      ]
     },
     "metadata": {},
     "output_type": "display_data"
    },
    {
     "name": "stdout",
     "output_type": "stream",
     "text": [
      "Is Multi-Label? False\n",
      "preprocessing test...\n",
      "language: en\n",
      "test sequence lengths:\n",
      "\tmean : 22\n",
      "\t95percentile : 40\n",
      "\t99percentile : 56\n"
     ]
    },
    {
     "data": {
      "text/html": [
       "\n",
       "<style>\n",
       "    /* Turns off some styling */\n",
       "    progress {\n",
       "        /* gets rid of default border in Firefox and Opera. */\n",
       "        border: none;\n",
       "        /* Needs to be in here for Safari polyfill so background images work as expected. */\n",
       "        background-size: auto;\n",
       "    }\n",
       "    progress:not([value]), progress:not([value])::-webkit-progress-bar {\n",
       "        background: repeating-linear-gradient(45deg, #7e7e7e, #7e7e7e 10px, #5c5c5c 10px, #5c5c5c 20px);\n",
       "    }\n",
       "    .progress-bar-interrupted, .progress-bar-interrupted::-webkit-progress-bar {\n",
       "        background: #F44336;\n",
       "    }\n",
       "</style>\n"
      ],
      "text/plain": [
       "<IPython.core.display.HTML object>"
      ]
     },
     "metadata": {},
     "output_type": "display_data"
    },
    {
     "data": {
      "text/html": [],
      "text/plain": [
       "<IPython.core.display.HTML object>"
      ]
     },
     "metadata": {},
     "output_type": "display_data"
    },
    {
     "name": "stdout",
     "output_type": "stream",
     "text": [
      "\n",
      "\n",
      "begin training using triangular learning rate policy with max lr of 2e-05...\n",
      "Epoch 1/2\n",
      "985/985 [==============================] - 187s 181ms/step - loss: 0.5364 - accuracy: 0.7682 - val_loss: 0.4208 - val_accuracy: 0.8408\n",
      "Epoch 2/2\n",
      "486/985 [=============>................] - ETA: 1:22 - loss: 0.4457 - accuracy: 0.8254"
     ]
    }
   ],
   "source": [
    "# Number of folds for cross-validation\n",
    "n_folds = 5\n",
    "MAXLEN = 150\n",
    "model_name = 'distilbert-base-uncased'\n",
    "\n",
    "# Initialize stratified K-Fold\n",
    "skf = StratifiedKFold(n_splits=n_folds)\n",
    "\n",
    "# Placeholder for results\n",
    "cv_results = []\n",
    "\n",
    "# Loop over each fold\n",
    "for fold, (train_idx, val_idx) in enumerate(skf.split(X, y)):\n",
    "    print(f\"Fold {fold + 1}/{n_folds}\")\n",
    "\n",
    "    # Split the data into training and validation sets using .iloc\n",
    "    X_train_fold, X_val_fold = X.iloc[train_idx], X.iloc[val_idx]\n",
    "    y_train_fold, y_val_fold = y.iloc[train_idx], y.iloc[val_idx]\n",
    "\n",
    "    # Convert to list format (if they are pandas Series)\n",
    "    X_train_fold = X_train_fold.tolist()\n",
    "    X_val_fold = X_val_fold.tolist()\n",
    "    y_train_fold = y_train_fold.tolist()\n",
    "    y_val_fold = y_val_fold.tolist()\n",
    "\n",
    "    # Define classes and class labels\n",
    "    classes = np.array([0, 1])\n",
    "    class_labels = list(training_df.label)\n",
    "\n",
    "    # Compute class weights\n",
    "    class_weights = compute_class_weight(class_weight='balanced', classes=classes, y=class_labels)\n",
    "\n",
    "\n",
    "    # Initialize the distillbert transformer for this fold\n",
    "    distillbert_transformer = text.Transformer(model_name, maxlen=MAXLEN, class_names=[0, 1])\n",
    "\n",
    "    # Preprocess the training and validation sets for the current fold\n",
    "    training_set = distillbert_transformer.preprocess_train(X_train_fold, y_train_fold)\n",
    "    validation_set = distillbert_transformer.preprocess_test(X_val_fold, y_val_fold)\n",
    "\n",
    "    # Build the model\n",
    "    distillbert_base_model = distillbert_transformer.get_classifier()\n",
    "\n",
    "    # Initialize the learner\n",
    "    distilbert_learner = ktrain.get_learner(\n",
    "        distillbert_base_model, train_data=training_set, val_data=validation_set, batch_size=6\n",
    "    )\n",
    "\n",
    "    # Apply weight decay\n",
    "    distilbert_learner.set_weight_decay(0.001)\n",
    "\n",
    "    # Train the model with autofit and early stopping\n",
    "    distilbert_learner.autofit(2e-5, 2, class_weight=dict(zip(classes, class_weights)))\n",
    "\n",
    "    distilbert_learner.validate(class_names=distillbert_transformer.get_classes())\n",
    "\n",
    "\n",
    "    # Access the validation loss and accuracy from the last epoch\n",
    "    val_loss = distilbert_learner.history.history['val_loss'][-1]\n",
    "    val_acc = distilbert_learner.history.history['val_accuracy'][-1]\n",
    "\n",
    "    # Store the result for this fold\n",
    "    print(f\"Fold {fold+1} - Validation Accuracy: {val_acc:.4f}, Validation Loss: {val_loss:.4f}\")\n",
    "    cv_results.append((val_loss, val_acc))\n",
    "\n",
    "    \n",
    "\n",
    "    # Update the best model if the current one has a lower validation loss\n",
    "    if val_loss < best_val_loss:\n",
    "        best_val_loss = val_loss\n",
    "        best_val_acc = val_acc\n",
    "        best_model = distilbert_learner.model  # Save the best model\n",
    "\n",
    "    gc.collect()\n",
    "    del distilbert_learner.model\n",
    "\n",
    "# After all folds are done, compute mean and std of the performance\n",
    "mean_val_acc = np.mean([x[1] for x in cv_results])\n",
    "std_val_acc = np.std([x[1] for x in cv_results])\n",
    "\n",
    "mean_val_loss = np.mean([x[0] for x in cv_results])\n",
    "std_val_loss = np.std([x[0] for x in cv_results])\n",
    "\n",
    "print(f\"Mean Validation Accuracy: {mean_val_acc:.4f} (+/- {std_val_acc:.4f})\")\n",
    "print(f\"Mean Validation Loss: {mean_val_loss:.4f} (+/- {std_val_loss:.4f})\")\n",
    "\n",
    "# Print the best model's validation performance\n",
    "print(f\"Best Model - Validation Accuracy: {best_val_acc:.4f}, Validation Loss: {best_val_loss:.4f}\")"
   ]
  },
  {
   "cell_type": "code",
   "execution_count": 52,
   "metadata": {},
   "outputs": [
    {
     "name": "stdout",
     "output_type": "stream",
     "text": [
      "preprocessing test...\n",
      "language: en\n",
      "test sequence lengths:\n",
      "\tmean : 21\n",
      "\t95percentile : 43\n",
      "\t99percentile : 64\n"
     ]
    },
    {
     "data": {
      "text/html": [
       "\n",
       "<style>\n",
       "    /* Turns off some styling */\n",
       "    progress {\n",
       "        /* gets rid of default border in Firefox and Opera. */\n",
       "        border: none;\n",
       "        /* Needs to be in here for Safari polyfill so background images work as expected. */\n",
       "        background-size: auto;\n",
       "    }\n",
       "    progress:not([value]), progress:not([value])::-webkit-progress-bar {\n",
       "        background: repeating-linear-gradient(45deg, #7e7e7e, #7e7e7e 10px, #5c5c5c 10px, #5c5c5c 20px);\n",
       "    }\n",
       "    .progress-bar-interrupted, .progress-bar-interrupted::-webkit-progress-bar {\n",
       "        background: #F44336;\n",
       "    }\n",
       "</style>\n"
      ],
      "text/plain": [
       "<IPython.core.display.HTML object>"
      ]
     },
     "metadata": {},
     "output_type": "display_data"
    },
    {
     "data": {
      "text/html": [],
      "text/plain": [
       "<IPython.core.display.HTML object>"
      ]
     },
     "metadata": {},
     "output_type": "display_data"
    },
    {
     "name": "stdout",
     "output_type": "stream",
     "text": [
      "              precision    recall  f1-score   support\n",
      "\n",
      "           0       0.91      1.00      0.95       240\n",
      "           1       0.00      0.00      0.00        25\n",
      "\n",
      "    accuracy                           0.91       265\n",
      "   macro avg       0.45      0.50      0.48       265\n",
      "weighted avg       0.82      0.91      0.86       265\n",
      "\n",
      "Holdout Set - Classification Report:\n",
      "              precision    recall  f1-score   support\n",
      "\n",
      "           0       0.91      1.00      0.95       240\n",
      "           1       0.00      0.00      0.00        25\n",
      "\n",
      "    accuracy                           0.91       265\n",
      "   macro avg       0.45      0.50      0.48       265\n",
      "weighted avg       0.82      0.91      0.86       265\n",
      "\n",
      "True Negative: 240, False Positive: 0, False Negative: 25, True Positive: 0\n"
     ]
    }
   ],
   "source": [
    "import os\n",
    "from datetime import datetime\n",
    "\n",
    "# Get current time\n",
    "current_time = datetime.now().strftime(\"%Y-%m-%d_%H-%M-%S\")\n",
    "\n",
    "# Create 'performance' folder if it doesn't exist\n",
    "if not os.path.exists('performance'):\n",
    "    os.makedirs('performance')\n",
    "\n",
    "# Evaluate the best model on the holdout set\n",
    "distillbert_test_data = test_df['sentence'].tolist()\n",
    "distillbert_test_label = test_df['label'].tolist()\n",
    "\n",
    "# Preprocess the holdout data\n",
    "holdout_set = distillbert_transformer.preprocess_test(distillbert_test_data, distillbert_test_label)\n",
    "\n",
    "# Create a new learner for the best model and evaluate it on the holdout set\n",
    "best_predictor = ktrain.get_predictor(best_model, preproc=distillbert_transformer)\n",
    "\n",
    "\n",
    "# Print the confusion matrix and classification report for the best model on the holdout set\n",
    "y_pred_distillbert = best_predictor.predict(distillbert_test_data)\n",
    "y_pred_distillbert = [int(x) for x in y_pred_distillbert]\n",
    "\n",
    "# Classification report and confusion matrix for holdout set\n",
    "holdout_report = classification_report(distillbert_test_label, y_pred_distillbert)\n",
    "print(holdout_report)\n",
    "tn, fp, fn, tp = confusion_matrix(distillbert_test_label, y_pred_distillbert).ravel()\n",
    "holdout_matrix = 'True Negative: {}, False Positive: {}, False Negative: {}, True Positive: {}'.format(tn, fp, fn, tp)\n",
    "\n",
    "print(f\"Holdout Set - Classification Report:\\n{holdout_report}\")\n",
    "print(holdout_matrix)\n",
    "\n",
    "# Filename for metrics\n",
    "filename = 'performance/metrics.txt'  # Using a fixed filename to append to\n",
    "\n",
    "# Save classification report and confusion matrix for holdout set\n",
    "# Open file in append mode; it will create the file if it doesn't exist\n",
    "with open(filename, 'a') as f:\n",
    "    f.write(\"\\n\\n\")\n",
    "    f.write(current_time)\n",
    "    f.write(\"\\n\\n\")\n",
    "    f.write(\"Holdout Set - Classification Report:\\n\")\n",
    "    f.write(str(holdout_report))\n",
    "    f.write(\"\\n\\n\")\n",
    "    f.write(\"Holdout Set - Confusion Matrix:\\n\")\n",
    "    f.write(holdout_matrix)\n"
   ]
  },
  {
   "cell_type": "markdown",
   "metadata": {},
   "source": []
  },
  {
   "cell_type": "markdown",
   "metadata": {},
   "source": []
  },
  {
   "cell_type": "markdown",
   "metadata": {},
   "source": [
    "## back to ktrain"
   ]
  },
  {
   "cell_type": "code",
   "execution_count": 12,
   "metadata": {},
   "outputs": [
    {
     "name": "stdout",
     "output_type": "stream",
     "text": [
      "Metal device set to: Apple M2 Pro\n",
      "\n",
      "systemMemory: 16.00 GB\n",
      "maxCacheSize: 5.33 GB\n",
      "\n",
      "preprocessing train...\n",
      "language: en\n",
      "train sequence lengths:\n",
      "\tmean : 24\n",
      "\t95percentile : 45\n",
      "\t99percentile : 80\n"
     ]
    },
    {
     "data": {
      "text/html": [
       "\n",
       "<style>\n",
       "    /* Turns off some styling */\n",
       "    progress {\n",
       "        /* gets rid of default border in Firefox and Opera. */\n",
       "        border: none;\n",
       "        /* Needs to be in here for Safari polyfill so background images work as expected. */\n",
       "        background-size: auto;\n",
       "    }\n",
       "    progress:not([value]), progress:not([value])::-webkit-progress-bar {\n",
       "        background: repeating-linear-gradient(45deg, #7e7e7e, #7e7e7e 10px, #5c5c5c 10px, #5c5c5c 20px);\n",
       "    }\n",
       "    .progress-bar-interrupted, .progress-bar-interrupted::-webkit-progress-bar {\n",
       "        background: #F44336;\n",
       "    }\n",
       "</style>\n"
      ],
      "text/plain": [
       "<IPython.core.display.HTML object>"
      ]
     },
     "metadata": {},
     "output_type": "display_data"
    },
    {
     "data": {
      "text/html": [],
      "text/plain": [
       "<IPython.core.display.HTML object>"
      ]
     },
     "metadata": {},
     "output_type": "display_data"
    },
    {
     "name": "stdout",
     "output_type": "stream",
     "text": [
      "Is Multi-Label? False\n",
      "preprocessing test...\n",
      "language: en\n",
      "test sequence lengths:\n",
      "\tmean : 23\n",
      "\t95percentile : 43\n",
      "\t99percentile : 56\n"
     ]
    },
    {
     "data": {
      "text/html": [
       "\n",
       "<style>\n",
       "    /* Turns off some styling */\n",
       "    progress {\n",
       "        /* gets rid of default border in Firefox and Opera. */\n",
       "        border: none;\n",
       "        /* Needs to be in here for Safari polyfill so background images work as expected. */\n",
       "        background-size: auto;\n",
       "    }\n",
       "    progress:not([value]), progress:not([value])::-webkit-progress-bar {\n",
       "        background: repeating-linear-gradient(45deg, #7e7e7e, #7e7e7e 10px, #5c5c5c 10px, #5c5c5c 20px);\n",
       "    }\n",
       "    .progress-bar-interrupted, .progress-bar-interrupted::-webkit-progress-bar {\n",
       "        background: #F44336;\n",
       "    }\n",
       "</style>\n"
      ],
      "text/plain": [
       "<IPython.core.display.HTML object>"
      ]
     },
     "metadata": {},
     "output_type": "display_data"
    },
    {
     "data": {
      "text/html": [],
      "text/plain": [
       "<IPython.core.display.HTML object>"
      ]
     },
     "metadata": {},
     "output_type": "display_data"
    }
   ],
   "source": [
    "distillbert_transformer = text.Transformer(model_name, maxlen=MAXLEN, class_names=[0,1])\n",
    "training_set = distillbert_transformer.preprocess_train(X_train.tolist(), y_train.tolist())\n",
    "validation_set = distillbert_transformer.preprocess_test(X_test.tolist(), y_test.tolist())\n",
    "distillbert_base_model = distillbert_transformer.get_classifier()\n"
   ]
  },
  {
   "cell_type": "code",
   "execution_count": 13,
   "metadata": {},
   "outputs": [
    {
     "name": "stdout",
     "output_type": "stream",
     "text": [
      "[0.54868914 5.63461538]\n"
     ]
    }
   ],
   "source": [
    "from sklearn.utils.class_weight import compute_class_weight\n",
    "import numpy as np\n",
    "\n",
    "# Define classes and class labels\n",
    "classes = np.array([0, 1])\n",
    "class_labels = list(training_df.label)\n",
    "\n",
    "# Compute class weights\n",
    "class_weights = compute_class_weight(class_weight='balanced', classes=classes, y=class_labels)\n",
    "\n",
    "# Print class weights\n",
    "print(class_weights)\n",
    "\n",
    "class_weights = dict(zip(classes, class_weights))\n"
   ]
  },
  {
   "cell_type": "code",
   "execution_count": 14,
   "metadata": {},
   "outputs": [
    {
     "name": "stdout",
     "output_type": "stream",
     "text": [
      "reduce_on_plateau automatically enabled at patience=2\n",
      "\n",
      "\n",
      "begin training using triangular learning rate policy with max lr of 2e-05...\n",
      "Epoch 1/1024\n",
      "570/570 [==============================] - 142s 227ms/step - loss: 0.4087 - accuracy: 0.8180 - val_loss: 0.1504 - val_accuracy: 0.9602\n",
      "Epoch 2/1024\n",
      "570/570 [==============================] - 124s 217ms/step - loss: 0.1310 - accuracy: 0.9576 - val_loss: 0.0835 - val_accuracy: 0.9801\n",
      "Epoch 3/1024\n",
      "570/570 [==============================] - 124s 217ms/step - loss: 0.0756 - accuracy: 0.9804 - val_loss: 0.1028 - val_accuracy: 0.9696\n",
      "Epoch 4/1024\n",
      "570/570 [==============================] - ETA: 0s - loss: 0.0670 - accuracy: 0.9819\n",
      "Epoch 00004: Reducing Max LR on Plateau: new max lr will be 1e-05 (if not early_stopping).\n",
      "570/570 [==============================] - 124s 217ms/step - loss: 0.0670 - accuracy: 0.9819 - val_loss: 0.1067 - val_accuracy: 0.9673\n",
      "Epoch 5/1024\n",
      "570/570 [==============================] - 124s 218ms/step - loss: 0.0458 - accuracy: 0.9900 - val_loss: 0.0720 - val_accuracy: 0.9801\n",
      "Epoch 6/1024\n",
      "570/570 [==============================] - 126s 221ms/step - loss: 0.0420 - accuracy: 0.9895 - val_loss: 0.0818 - val_accuracy: 0.9789\n",
      "Epoch 7/1024\n",
      "570/570 [==============================] - ETA: 0s - loss: 0.0376 - accuracy: 0.9909\n",
      "Epoch 00007: Reducing Max LR on Plateau: new max lr will be 5e-06 (if not early_stopping).\n",
      "570/570 [==============================] - 123s 216ms/step - loss: 0.0376 - accuracy: 0.9909 - val_loss: 0.1042 - val_accuracy: 0.9778\n",
      "Epoch 8/1024\n",
      "570/570 [==============================] - 85s 149ms/step - loss: 0.0376 - accuracy: 0.9903 - val_loss: 0.1023 - val_accuracy: 0.9719\n",
      "Epoch 9/1024\n",
      "570/570 [==============================] - 130s 228ms/step - loss: 0.0323 - accuracy: 0.9915 - val_loss: 0.0676 - val_accuracy: 0.9836\n",
      "Epoch 10/1024\n",
      "570/570 [==============================] - 126s 221ms/step - loss: 0.0323 - accuracy: 0.9912 - val_loss: 0.0660 - val_accuracy: 0.9848\n",
      "Epoch 11/1024\n",
      "570/570 [==============================] - 119s 209ms/step - loss: 0.0347 - accuracy: 0.9903 - val_loss: 0.0893 - val_accuracy: 0.9778\n",
      "Epoch 12/1024\n",
      "570/570 [==============================] - ETA: 0s - loss: 0.0290 - accuracy: 0.9912\n",
      "Epoch 00012: Reducing Max LR on Plateau: new max lr will be 2.5e-06 (if not early_stopping).\n",
      "570/570 [==============================] - 123s 215ms/step - loss: 0.0290 - accuracy: 0.9912 - val_loss: 0.0872 - val_accuracy: 0.9766\n",
      "Epoch 13/1024\n",
      "570/570 [==============================] - 123s 215ms/step - loss: 0.0284 - accuracy: 0.9909 - val_loss: 0.0988 - val_accuracy: 0.9754\n",
      "Epoch 14/1024\n",
      "570/570 [==============================] - ETA: 0s - loss: 0.0299 - accuracy: 0.9909\n",
      "Epoch 00014: Reducing Max LR on Plateau: new max lr will be 1.25e-06 (if not early_stopping).\n",
      "Restoring model weights from the end of the best epoch: 10.\n",
      "570/570 [==============================] - 125s 219ms/step - loss: 0.0299 - accuracy: 0.9909 - val_loss: 0.0815 - val_accuracy: 0.9801\n",
      "Epoch 14: early stopping\n",
      "Weights from best epoch have been loaded into model.\n"
     ]
    },
    {
     "data": {
      "text/plain": [
       "<keras.src.callbacks.History at 0x39dbd9850>"
      ]
     },
     "execution_count": 14,
     "metadata": {},
     "output_type": "execute_result"
    }
   ],
   "source": [
    "# Build BERT model\n",
    "# model = text.text_classifier('distilbert', train_data=(X_train, y_train), preproc=distillbert_transformer)\n",
    "distillbert_learner = ktrain.get_learner(distillbert_base_model, train_data=training_set, val_data=validation_set, batch_size=6)\n",
    "distillbert_learner.autofit(2e-5, early_stopping=4)\n",
    "# distillbert_learner.set_weight_decay(0.001)\n",
    "# distillbert_learner.autofit(2.27E-06, early_stopping=4, class_weight=class_weights)"
   ]
  },
  {
   "cell_type": "code",
   "execution_count": 15,
   "metadata": {},
   "outputs": [
    {
     "name": "stdout",
     "output_type": "stream",
     "text": [
      "27/27 [==============================] - 10s 215ms/step\n",
      "              precision    recall  f1-score   support\n",
      "\n",
      "           0       1.00      0.97      0.98       428\n",
      "           1       0.97      1.00      0.99       427\n",
      "\n",
      "    accuracy                           0.98       855\n",
      "   macro avg       0.99      0.98      0.98       855\n",
      "weighted avg       0.99      0.98      0.98       855\n",
      "\n"
     ]
    },
    {
     "data": {
      "text/plain": [
       "array([[415,  13],\n",
       "       [  0, 427]])"
      ]
     },
     "execution_count": 15,
     "metadata": {},
     "output_type": "execute_result"
    }
   ],
   "source": [
    "distillbert_learner.validate(class_names=distillbert_transformer.get_classes())"
   ]
  },
  {
   "cell_type": "code",
   "execution_count": 16,
   "metadata": {},
   "outputs": [
    {
     "name": "stdout",
     "output_type": "stream",
     "text": [
      "Model: \"tf_distil_bert_for_sequence_classification_1\"\n",
      "_________________________________________________________________\n",
      " Layer (type)                Output Shape              Param #   \n",
      "=================================================================\n",
      " distilbert (TFDistilBertMa  multiple                  66362880  \n",
      " inLayer)                                                        \n",
      "                                                                 \n",
      " pre_classifier (Dense)      multiple                  590592    \n",
      "                                                                 \n",
      " classifier (Dense)          multiple                  1538      \n",
      "                                                                 \n",
      " dropout_39 (Dropout)        multiple                  0         \n",
      "                                                                 \n",
      "=================================================================\n",
      "Total params: 66955010 (255.41 MB)\n",
      "Trainable params: 66955010 (255.41 MB)\n",
      "Non-trainable params: 0 (0.00 Byte)\n",
      "_________________________________________________________________\n"
     ]
    }
   ],
   "source": [
    "distillbert_learner.model.summary()"
   ]
  },
  {
   "cell_type": "code",
   "execution_count": 17,
   "metadata": {},
   "outputs": [],
   "source": [
    "distillbert_predictor = ktrain.get_predictor(distillbert_learner.model, preproc=distillbert_transformer)"
   ]
  },
  {
   "cell_type": "code",
   "execution_count": 18,
   "metadata": {},
   "outputs": [
    {
     "data": {
      "text/plain": [
       "Counter({0: 900, 1: 105})"
      ]
     },
     "execution_count": 18,
     "metadata": {},
     "output_type": "execute_result"
    }
   ],
   "source": [
    "Counter(test_df['label'])"
   ]
  },
  {
   "cell_type": "code",
   "execution_count": 19,
   "metadata": {},
   "outputs": [],
   "source": [
    "distillbert_test_data = test_df['sentence'].tolist()\n",
    "distillbert_test_label = test_df['label'].tolist()"
   ]
  },
  {
   "cell_type": "code",
   "execution_count": 20,
   "metadata": {},
   "outputs": [],
   "source": [
    "y_pred_distillbert = distillbert_predictor.predict(distillbert_test_data)"
   ]
  },
  {
   "cell_type": "code",
   "execution_count": 21,
   "metadata": {},
   "outputs": [],
   "source": [
    "y_pred_distillbert = [int(x) for x in y_pred_distillbert]"
   ]
  },
  {
   "cell_type": "code",
   "execution_count": 22,
   "metadata": {},
   "outputs": [
    {
     "name": "stdout",
     "output_type": "stream",
     "text": [
      "True Negative: 847, False Positive: 53, False Negative: 75, True Positive: 30\n"
     ]
    }
   ],
   "source": [
    "tn, fp, fn, tp = confusion_matrix(distillbert_test_label, y_pred_distillbert).ravel()\n",
    "print('True Negative: {}, False Positive: {}, False Negative: {}, True Positive: {}'.format(tn, fp, fn, tp))"
   ]
  },
  {
   "cell_type": "code",
   "execution_count": 23,
   "metadata": {},
   "outputs": [
    {
     "name": "stdout",
     "output_type": "stream",
     "text": [
      "  Classification Report:\n",
      "               precision    recall  f1-score   support\n",
      "\n",
      "           0       0.92      0.94      0.93       900\n",
      "           1       0.36      0.29      0.32       105\n",
      "\n",
      "    accuracy                           0.87      1005\n",
      "   macro avg       0.64      0.61      0.62      1005\n",
      "weighted avg       0.86      0.87      0.87      1005\n",
      " \n",
      "\n"
     ]
    }
   ],
   "source": [
    "print('  Classification Report:\\n',classification_report(distillbert_test_label,y_pred_distillbert),'\\n')"
   ]
  },
  {
   "cell_type": "code",
   "execution_count": 24,
   "metadata": {},
   "outputs": [
    {
     "data": {
      "image/png": "[encoded data removed]",
      "text/plain": [
       "<Figure size 800x600 with 1 Axes>"
      ]
     },
     "metadata": {},
     "output_type": "display_data"
    }
   ],
   "source": [
    "import numpy as np\n",
    "import matplotlib.pyplot as plt\n",
    "from sklearn.metrics import precision_recall_curve, average_precision_score\n",
    "\n",
    "# Get predicted probabilities for the validation set (assuming you have validation data `X_val_fold` and `y_val_fold`)\n",
    "y_pred_proba_distillbert = distillbert_predictor.predict_proba(distillbert_test_data)\n",
    "\n",
    "# Get the true labels\n",
    "distillbert_test_label = test_df['label'].tolist()\n",
    "\n",
    "# Assuming binary classification, use the probabilities of the positive class (class 1)\n",
    "pred_probs_positive = y_pred_proba_distillbert[:, 1]\n",
    "\n",
    "# Compute precision, recall, and threshold values\n",
    "precision, recall, thresholds = precision_recall_curve(distillbert_test_label, pred_probs_positive)\n",
    "\n",
    "# Compute average precision score\n",
    "avg_precision = average_precision_score(distillbert_test_label, pred_probs_positive)\n",
    "\n",
    "# Plot the Precision-Recall curve\n",
    "plt.figure(figsize=(8, 6))\n",
    "plt.plot(recall, precision, marker='.', label=f'PR Curve (AP={avg_precision:.2f})')\n",
    "plt.xlabel('Recall')\n",
    "plt.ylabel('Precision')\n",
    "plt.title('Precision-Recall Curve')\n",
    "plt.legend()\n",
    "plt.grid()\n",
    "plt.show()\n"
   ]
  },
  {
   "cell_type": "code",
   "execution_count": 40,
   "metadata": {},
   "outputs": [
    {
     "name": "stdout",
     "output_type": "stream",
     "text": [
      "  Classification Report:\n",
      "               precision    recall  f1-score   support\n",
      "\n",
      "           0       0.62      0.50      0.55        26\n",
      "           1       0.59      0.70      0.64        27\n",
      "\n",
      "    accuracy                           0.60        53\n",
      "   macro avg       0.61      0.60      0.60        53\n",
      "weighted avg       0.61      0.60      0.60        53\n",
      " \n",
      "\n"
     ]
    }
   ],
   "source": []
  },
  {
   "cell_type": "code",
   "execution_count": 24,
   "metadata": {},
   "outputs": [],
   "source": [
    "# distillbert_predictor.save('../../model/first_generation_distilbert_base_uncased_model_10102020') # 256 MB"
   ]
  },
  {
   "cell_type": "code",
   "execution_count": 23,
   "metadata": {},
   "outputs": [
    {
     "name": "stdout",
     "output_type": "stream",
     "text": [
      "AUC roc score for distillbert model:  0.5970833333333333\n"
     ]
    }
   ],
   "source": [
    "print(\"AUC roc score for distillbert model: \", roc_auc_score(distillbert_test_label,y_pred_distillbert))"
   ]
  },
  {
   "cell_type": "code",
   "execution_count": null,
   "metadata": {},
   "outputs": [],
   "source": []
  }
 ],
 "metadata": {
  "kernelspec": {
   "display_name": "ml_env",
   "language": "python",
   "name": "python3"
  },
  "language_info": {
   "codemirror_mode": {
    "name": "ipython",
    "version": 3
   },
   "file_extension": ".py",
   "mimetype": "text/x-python",
   "name": "python",
   "nbconvert_exporter": "python",
   "pygments_lexer": "ipython3",
   "version": "3.8.17"
  }
 },
 "nbformat": 4,
 "nbformat_minor": 4
}
